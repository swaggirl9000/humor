{
 "cells": [
  {
   "cell_type": "code",
   "execution_count": 360,
   "metadata": {},
   "outputs": [],
   "source": [
    "import sys\n",
    "import pandas as pd\n",
    "sys.path.append(\"..\")\n",
    "import seaborn as sns\n",
    "import nltk\n",
    "\n",
    "from humor.metric import fuzzy_match_metric\n",
    "from humor.bipartite_metric import bipartite_metric"
   ]
  },
  {
   "cell_type": "code",
   "execution_count": 361,
   "metadata": {},
   "outputs": [],
   "source": [
    "ground_truth = pd.read_csv('/home/ada/humor/data/stand_up_dataset/standup_data.csv')\n",
    "model = pd.read_csv('/home/ada/humor/data/stand_up_dataset/gemma_answers.csv')\n",
    "transcript = pd.read_csv('/home/ada/humor/data/stand_up_dataset/standup_transcripts.csv')"
   ]
  },
  {
   "cell_type": "code",
   "execution_count": 362,
   "metadata": {},
   "outputs": [],
   "source": [
    "import pandas as pd\n",
    "from thefuzz import fuzz\n",
    "\n",
    "def bipartite_metric(model_answers: pd.DataFrame, ground_truth: pd.DataFrame):    \n",
    "    scores = model_answers.apply(\n",
    "        lambda row_model: ground_truth.apply(\n",
    "            lambda row_truth: \n",
    "                fuzz.partial_ratio(row_truth[\"sentence\"], row_model[\"sentence\"]) \n",
    "                if row_model[\"comedian\"] == row_truth[\"comedian\"] \n",
    "                else None,\n",
    "        axis=1),\n",
    "    axis=1) \\\n",
    "        .sub(60) \\\n",
    "        .clip(lower=0) \\\n",
    "        .div(40) \\\n",
    "        .melt(ignore_index=False) \\\n",
    "        .dropna() \\\n",
    "        .reset_index() \\\n",
    "        .join(model_answers[\"sentence\"], on=\"index\") \\\n",
    "        .rename(columns={\"sentence\": \"model\"}) \\\n",
    "        .join(ground_truth, on=\"variable\") \\\n",
    "        .rename(columns={\"sentence\": \"truth\", \"value\": \"score\"})\n",
    "        \n",
    "    scores = scores[[\"comedian\", \"model\", \"truth\", \"score\"]]\n",
    "    \n",
    "    df = scores.groupby([\"comedian\", \"model\"])[\"score\", \"truth\"].max().reset_index()\n",
    "    \n",
    "    truths = scores[~scores['truth'].isin(df['truth'])]\n",
    "    entries = truths.copy()\n",
    "    # entries['score'] = 0\n",
    "    df = pd.concat([df, entries[['comedian', 'model', 'truth', 'score']]], ignore_index=True)\n",
    "    df.sort_values(by=['comedian', 'model'], inplace=True)\n",
    "    \n",
    "    return df.groupby(\"truth\")[\"score\"].mean().reset_index()"
   ]
  },
  {
   "cell_type": "code",
   "execution_count": 363,
   "metadata": {},
   "outputs": [
    {
     "name": "stderr",
     "output_type": "stream",
     "text": [
      "/tmp/ipykernel_2094042/1879101266.py:26: FutureWarning: Indexing with multiple keys (implicitly converted to a tuple of keys) will be deprecated, use a list instead.\n",
      "  df = scores.groupby([\"comedian\", \"model\"])[\"score\", \"truth\"].max().reset_index()\n"
     ]
    }
   ],
   "source": [
    "#gemma\n",
    "gemma_metric = bipartite_metric(model, ground_truth)"
   ]
  },
  {
   "cell_type": "code",
   "execution_count": 364,
   "metadata": {},
   "outputs": [
    {
     "data": {
      "text/html": [
       "<div>\n",
       "<style scoped>\n",
       "    .dataframe tbody tr th:only-of-type {\n",
       "        vertical-align: middle;\n",
       "    }\n",
       "\n",
       "    .dataframe tbody tr th {\n",
       "        vertical-align: top;\n",
       "    }\n",
       "\n",
       "    .dataframe thead th {\n",
       "        text-align: right;\n",
       "    }\n",
       "</style>\n",
       "<table border=\"1\" class=\"dataframe\">\n",
       "  <thead>\n",
       "    <tr style=\"text-align: right;\">\n",
       "      <th></th>\n",
       "      <th>truth</th>\n",
       "      <th>score</th>\n",
       "    </tr>\n",
       "  </thead>\n",
       "  <tbody>\n",
       "    <tr>\n",
       "      <th>0</th>\n",
       "      <td>\"Alright, you guys are all killing it academic...</td>\n",
       "      <td>0.500000</td>\n",
       "    </tr>\n",
       "    <tr>\n",
       "      <th>1</th>\n",
       "      <td>\"Because we don't say that when someone gives ...</td>\n",
       "      <td>0.000000</td>\n",
       "    </tr>\n",
       "    <tr>\n",
       "      <th>2</th>\n",
       "      <td>\"Click the links below, subscribe, leave a com...</td>\n",
       "      <td>0.000000</td>\n",
       "    </tr>\n",
       "    <tr>\n",
       "      <th>3</th>\n",
       "      <td>\"Does the front door not work?\" \"No, it works.</td>\n",
       "      <td>0.000000</td>\n",
       "    </tr>\n",
       "    <tr>\n",
       "      <th>4</th>\n",
       "      <td>\"Hi, everyone, same old me.\"</td>\n",
       "      <td>0.000000</td>\n",
       "    </tr>\n",
       "    <tr>\n",
       "      <th>...</th>\n",
       "      <td>...</td>\n",
       "      <td>...</td>\n",
       "    </tr>\n",
       "    <tr>\n",
       "      <th>241</th>\n",
       "      <td>[audience cheers and applauds] He's a surfer. ...</td>\n",
       "      <td>0.500000</td>\n",
       "    </tr>\n",
       "    <tr>\n",
       "      <th>242</th>\n",
       "      <td>[audience laughing] Very sorry, Radio City, di...</td>\n",
       "      <td>0.318750</td>\n",
       "    </tr>\n",
       "    <tr>\n",
       "      <th>243</th>\n",
       "      <td>[laughs] It just doesn't work. I remember when...</td>\n",
       "      <td>0.808333</td>\n",
       "    </tr>\n",
       "    <tr>\n",
       "      <th>244</th>\n",
       "      <td>[laughter] That kid won't choke on camera. He'...</td>\n",
       "      <td>0.737500</td>\n",
       "    </tr>\n",
       "    <tr>\n",
       "      <th>245</th>\n",
       "      <td>[yawns] For like five hours.</td>\n",
       "      <td>0.250000</td>\n",
       "    </tr>\n",
       "  </tbody>\n",
       "</table>\n",
       "<p>246 rows × 2 columns</p>\n",
       "</div>"
      ],
      "text/plain": [
       "                                                 truth     score\n",
       "0    \"Alright, you guys are all killing it academic...  0.500000\n",
       "1    \"Because we don't say that when someone gives ...  0.000000\n",
       "2    \"Click the links below, subscribe, leave a com...  0.000000\n",
       "3       \"Does the front door not work?\" \"No, it works.  0.000000\n",
       "4                         \"Hi, everyone, same old me.\"  0.000000\n",
       "..                                                 ...       ...\n",
       "241  [audience cheers and applauds] He's a surfer. ...  0.500000\n",
       "242  [audience laughing] Very sorry, Radio City, di...  0.318750\n",
       "243  [laughs] It just doesn't work. I remember when...  0.808333\n",
       "244  [laughter] That kid won't choke on camera. He'...  0.737500\n",
       "245                       [yawns] For like five hours.  0.250000\n",
       "\n",
       "[246 rows x 2 columns]"
      ]
     },
     "execution_count": 364,
     "metadata": {},
     "output_type": "execute_result"
    }
   ],
   "source": [
    "gemma_metric"
   ]
  },
  {
   "cell_type": "code",
   "execution_count": 365,
   "metadata": {},
   "outputs": [
    {
     "data": {
      "text/plain": [
       "14.200711382113823"
      ]
     },
     "execution_count": 365,
     "metadata": {},
     "output_type": "execute_result"
    }
   ],
   "source": [
    "gemma_metric[\"score\"].mean() * 100"
   ]
  },
  {
   "cell_type": "code",
   "execution_count": 366,
   "metadata": {},
   "outputs": [],
   "source": [
    "#Brute Force\n",
    "brute_sentences = []\n",
    "for i in range(len(transcript['comedian'])):\n",
    "    comedian = transcript['comedian'][i]\n",
    "    trans = transcript['transcript'][i]\n",
    "    sentences = nltk.sent_tokenize(trans)\n",
    "    for sentence in sentences:\n",
    "        brute_sentences.append({'comedian': comedian, 'sentence': sentence})"
   ]
  },
  {
   "cell_type": "code",
   "execution_count": 367,
   "metadata": {},
   "outputs": [],
   "source": [
    "brute_model = pd.DataFrame(brute_sentences)"
   ]
  },
  {
   "cell_type": "code",
   "execution_count": 368,
   "metadata": {},
   "outputs": [
    {
     "name": "stderr",
     "output_type": "stream",
     "text": [
      "/tmp/ipykernel_2094042/1879101266.py:26: FutureWarning: Indexing with multiple keys (implicitly converted to a tuple of keys) will be deprecated, use a list instead.\n",
      "  df = scores.groupby([\"comedian\", \"model\"])[\"score\", \"truth\"].max().reset_index()\n"
     ]
    }
   ],
   "source": [
    "brute = bipartite_metric(brute_model, ground_truth)"
   ]
  },
  {
   "cell_type": "code",
   "execution_count": 369,
   "metadata": {},
   "outputs": [
    {
     "data": {
      "text/plain": [
       "11.612020557212384"
      ]
     },
     "execution_count": 369,
     "metadata": {},
     "output_type": "execute_result"
    }
   ],
   "source": [
    "brute[\"score\"].mean() * 100"
   ]
  },
  {
   "cell_type": "code",
   "execution_count": 370,
   "metadata": {},
   "outputs": [
    {
     "name": "stderr",
     "output_type": "stream",
     "text": [
      "/tmp/ipykernel_2094042/1879101266.py:26: FutureWarning: Indexing with multiple keys (implicitly converted to a tuple of keys) will be deprecated, use a list instead.\n",
      "  df = scores.groupby([\"comedian\", \"model\"])[\"score\", \"truth\"].max().reset_index()\n"
     ]
    },
    {
     "data": {
      "text/plain": [
       "11.177180120015484"
      ]
     },
     "execution_count": 370,
     "metadata": {},
     "output_type": "execute_result"
    }
   ],
   "source": [
    "#random\n",
    "random_model = pd.read_csv(\"/home/ada/humor/data/stand_up_dataset/random_gemma_quotes.csv\")\n",
    "random = bipartite_metric(random_model, ground_truth)\n",
    "random[\"score\"].mean() * 100"
   ]
  },
  {
   "cell_type": "code",
   "execution_count": 371,
   "metadata": {},
   "outputs": [],
   "source": [
    "gemma = gemma_metric.assign(model=\"gemma\") \n",
    "brute = brute.assign(model=\"brute\") \n",
    "random = random.assign(model=\"random\") "
   ]
  },
  {
   "cell_type": "code",
   "execution_count": 372,
   "metadata": {},
   "outputs": [],
   "source": [
    "df = pd.concat([gemma, brute, random]).reset_index(drop=True)"
   ]
  },
  {
   "cell_type": "code",
   "execution_count": 373,
   "metadata": {},
   "outputs": [
    {
     "data": {
      "text/plain": [
       "<seaborn.axisgrid.FacetGrid at 0x7fb2417aaa30>"
      ]
     },
     "execution_count": 373,
     "metadata": {},
     "output_type": "execute_result"
    },
    {
     "data": {
      "image/png": "[encoded data removed]",
      "text/plain": [
       "<Figure size 604x500 with 1 Axes>"
      ]
     },
     "metadata": {},
     "output_type": "display_data"
    }
   ],
   "source": [
    "sns.displot(df, x=\"score\", hue=\"model\", kind=\"hist\", shrink=1, multiple=\"dodge\")"
   ]
  },
  {
   "cell_type": "code",
   "execution_count": 374,
   "metadata": {},
   "outputs": [
    {
     "name": "stderr",
     "output_type": "stream",
     "text": [
      "/tmp/ipykernel_2094042/1879101266.py:26: FutureWarning: Indexing with multiple keys (implicitly converted to a tuple of keys) will be deprecated, use a list instead.\n",
      "  df = scores.groupby([\"comedian\", \"model\"])[\"score\", \"truth\"].max().reset_index()\n"
     ]
    },
    {
     "data": {
      "text/plain": [
       "12.956639566395662"
      ]
     },
     "execution_count": 374,
     "metadata": {},
     "output_type": "execute_result"
    }
   ],
   "source": [
    "phi_model = pd.read_csv(\"/home/ada/humor/data/stand_up_dataset/phi3_mini_quotes.csv\")\n",
    "phi_metric = bipartite_metric(phi_model, ground_truth)\n",
    "phi_metric[\"score\"].mean() * 100"
   ]
  },
  {
   "cell_type": "code",
   "execution_count": 375,
   "metadata": {},
   "outputs": [],
   "source": [
    "phi = phi_metric.assign(model=\"phi\") "
   ]
  },
  {
   "cell_type": "code",
   "execution_count": 376,
   "metadata": {},
   "outputs": [],
   "source": [
    "llm = pd.concat([gemma, phi, brute, random]).reset_index(drop=True)"
   ]
  },
  {
   "cell_type": "code",
   "execution_count": 377,
   "metadata": {},
   "outputs": [
    {
     "data": {
      "text/plain": [
       "<seaborn.axisgrid.FacetGrid at 0x7fb242156850>"
      ]
     },
     "execution_count": 377,
     "metadata": {},
     "output_type": "execute_result"
    },
    {
     "data": {
      "image/png": "[encoded data removed]",
      "text/plain": [
       "<Figure size 604x500 with 1 Axes>"
      ]
     },
     "metadata": {},
     "output_type": "display_data"
    }
   ],
   "source": [
    "sns.displot(llm, x=\"score\", hue=\"model\", kind=\"hist\", shrink=1, multiple=\"dodge\")"
   ]
  },
  {
   "cell_type": "markdown",
   "metadata": {},
   "source": [
    "ChatGPT"
   ]
  },
  {
   "cell_type": "code",
   "execution_count": 378,
   "metadata": {},
   "outputs": [
    {
     "name": "stderr",
     "output_type": "stream",
     "text": [
      "/tmp/ipykernel_2094042/1879101266.py:26: FutureWarning: Indexing with multiple keys (implicitly converted to a tuple of keys) will be deprecated, use a list instead.\n",
      "  df = scores.groupby([\"comedian\", \"model\"])[\"score\", \"truth\"].max().reset_index()\n"
     ]
    }
   ],
   "source": [
    "chat_gpt = pd.read_csv('/home/ada/humor/data/stand_up_dataset/Chat_GPT_results - Sheet1.csv')\n",
    "chat_gpt_metric = bipartite_metric(chat_gpt, ground_truth[ground_truth[\"comedian\"]==\"Jimmy_Yang\"])\n"
   ]
  },
  {
   "cell_type": "code",
   "execution_count": 379,
   "metadata": {},
   "outputs": [
    {
     "data": {
      "text/html": [
       "<div>\n",
       "<style scoped>\n",
       "    .dataframe tbody tr th:only-of-type {\n",
       "        vertical-align: middle;\n",
       "    }\n",
       "\n",
       "    .dataframe tbody tr th {\n",
       "        vertical-align: top;\n",
       "    }\n",
       "\n",
       "    .dataframe thead th {\n",
       "        text-align: right;\n",
       "    }\n",
       "</style>\n",
       "<table border=\"1\" class=\"dataframe\">\n",
       "  <thead>\n",
       "    <tr style=\"text-align: right;\">\n",
       "      <th></th>\n",
       "      <th>comedian</th>\n",
       "      <th>laugh_start</th>\n",
       "      <th>laugh_end</th>\n",
       "      <th>sentence</th>\n",
       "    </tr>\n",
       "  </thead>\n",
       "  <tbody>\n",
       "    <tr>\n",
       "      <th>138</th>\n",
       "      <td>Jimmy_Yang</td>\n",
       "      <td>4.7230</td>\n",
       "      <td>6.042</td>\n",
       "      <td>Asian people, we don't need Tinder anymore. We...</td>\n",
       "    </tr>\n",
       "    <tr>\n",
       "      <th>139</th>\n",
       "      <td>Jimmy_Yang</td>\n",
       "      <td>25.1675</td>\n",
       "      <td>27.876</td>\n",
       "      <td>I think tall women are beautiful. But some of ...</td>\n",
       "    </tr>\n",
       "    <tr>\n",
       "      <th>140</th>\n",
       "      <td>Jimmy_Yang</td>\n",
       "      <td>35.6550</td>\n",
       "      <td>36.360</td>\n",
       "      <td>She's like, it makes my ass look better. I'm l...</td>\n",
       "    </tr>\n",
       "    <tr>\n",
       "      <th>141</th>\n",
       "      <td>Jimmy_Yang</td>\n",
       "      <td>40.2820</td>\n",
       "      <td>41.856</td>\n",
       "      <td>Neither of us look good, OK?</td>\n",
       "    </tr>\n",
       "    <tr>\n",
       "      <th>142</th>\n",
       "      <td>Jimmy_Yang</td>\n",
       "      <td>81.6720</td>\n",
       "      <td>83.525</td>\n",
       "      <td>I was frustrated. I had enough.</td>\n",
       "    </tr>\n",
       "    <tr>\n",
       "      <th>143</th>\n",
       "      <td>Jimmy_Yang</td>\n",
       "      <td>88.1520</td>\n",
       "      <td>89.044</td>\n",
       "      <td>So I just looked up at her, I was like, hey!</td>\n",
       "    </tr>\n",
       "  </tbody>\n",
       "</table>\n",
       "</div>"
      ],
      "text/plain": [
       "       comedian  laugh_start  laugh_end  \\\n",
       "138  Jimmy_Yang       4.7230      6.042   \n",
       "139  Jimmy_Yang      25.1675     27.876   \n",
       "140  Jimmy_Yang      35.6550     36.360   \n",
       "141  Jimmy_Yang      40.2820     41.856   \n",
       "142  Jimmy_Yang      81.6720     83.525   \n",
       "143  Jimmy_Yang      88.1520     89.044   \n",
       "\n",
       "                                              sentence  \n",
       "138  Asian people, we don't need Tinder anymore. We...  \n",
       "139  I think tall women are beautiful. But some of ...  \n",
       "140  She's like, it makes my ass look better. I'm l...  \n",
       "141                       Neither of us look good, OK?  \n",
       "142                    I was frustrated. I had enough.  \n",
       "143       So I just looked up at her, I was like, hey!  "
      ]
     },
     "execution_count": 379,
     "metadata": {},
     "output_type": "execute_result"
    }
   ],
   "source": [
    "ground_truth[ground_truth[\"comedian\"]==\"Jimmy_Yang\"]"
   ]
  },
  {
   "cell_type": "code",
   "execution_count": 380,
   "metadata": {},
   "outputs": [
    {
     "data": {
      "text/html": [
       "<div>\n",
       "<style scoped>\n",
       "    .dataframe tbody tr th:only-of-type {\n",
       "        vertical-align: middle;\n",
       "    }\n",
       "\n",
       "    .dataframe tbody tr th {\n",
       "        vertical-align: top;\n",
       "    }\n",
       "\n",
       "    .dataframe thead th {\n",
       "        text-align: right;\n",
       "    }\n",
       "</style>\n",
       "<table border=\"1\" class=\"dataframe\">\n",
       "  <thead>\n",
       "    <tr style=\"text-align: right;\">\n",
       "      <th></th>\n",
       "      <th>comedian</th>\n",
       "      <th>sentence</th>\n",
       "    </tr>\n",
       "  </thead>\n",
       "  <tbody>\n",
       "    <tr>\n",
       "      <th>0</th>\n",
       "      <td>Jimmy_Yang</td>\n",
       "      <td>Asian people, we don’t need Tinder anymore. We...</td>\n",
       "    </tr>\n",
       "    <tr>\n",
       "      <th>1</th>\n",
       "      <td>Jimmy_Yang</td>\n",
       "      <td>I’ve been dating a lot of tall girls lately, b...</td>\n",
       "    </tr>\n",
       "    <tr>\n",
       "      <th>2</th>\n",
       "      <td>Jimmy_Yang</td>\n",
       "      <td>She’s like, it makes my ass look better. I’m l...</td>\n",
       "    </tr>\n",
       "    <tr>\n",
       "      <th>3</th>\n",
       "      <td>Jimmy_Yang</td>\n",
       "      <td>Last time– the last time I took a tall girl to...</td>\n",
       "    </tr>\n",
       "    <tr>\n",
       "      <th>4</th>\n",
       "      <td>Jimmy_Yang</td>\n",
       "      <td>I’m 5′ 5″. I just go to concerts to smell othe...</td>\n",
       "    </tr>\n",
       "    <tr>\n",
       "      <th>5</th>\n",
       "      <td>Jimmy_Yang</td>\n",
       "      <td>She was having the time of her life, doing wha...</td>\n",
       "    </tr>\n",
       "    <tr>\n",
       "      <th>6</th>\n",
       "      <td>Jimmy_Yang</td>\n",
       "      <td>I was frustrated. I had enough. So I just look...</td>\n",
       "    </tr>\n",
       "  </tbody>\n",
       "</table>\n",
       "</div>"
      ],
      "text/plain": [
       "     comedian                                           sentence\n",
       "0  Jimmy_Yang  Asian people, we don’t need Tinder anymore. We...\n",
       "1  Jimmy_Yang  I’ve been dating a lot of tall girls lately, b...\n",
       "2  Jimmy_Yang  She’s like, it makes my ass look better. I’m l...\n",
       "3  Jimmy_Yang  Last time– the last time I took a tall girl to...\n",
       "4  Jimmy_Yang  I’m 5′ 5″. I just go to concerts to smell othe...\n",
       "5  Jimmy_Yang  She was having the time of her life, doing wha...\n",
       "6  Jimmy_Yang  I was frustrated. I had enough. So I just look..."
      ]
     },
     "execution_count": 380,
     "metadata": {},
     "output_type": "execute_result"
    }
   ],
   "source": [
    "chat_gpt"
   ]
  },
  {
   "cell_type": "code",
   "execution_count": 381,
   "metadata": {},
   "outputs": [
    {
     "data": {
      "text/html": [
       "<div>\n",
       "<style scoped>\n",
       "    .dataframe tbody tr th:only-of-type {\n",
       "        vertical-align: middle;\n",
       "    }\n",
       "\n",
       "    .dataframe tbody tr th {\n",
       "        vertical-align: top;\n",
       "    }\n",
       "\n",
       "    .dataframe thead th {\n",
       "        text-align: right;\n",
       "    }\n",
       "</style>\n",
       "<table border=\"1\" class=\"dataframe\">\n",
       "  <thead>\n",
       "    <tr style=\"text-align: right;\">\n",
       "      <th></th>\n",
       "      <th>truth</th>\n",
       "      <th>score</th>\n",
       "    </tr>\n",
       "  </thead>\n",
       "  <tbody>\n",
       "    <tr>\n",
       "      <th>0</th>\n",
       "      <td>Asian people, we don't need Tinder anymore. We...</td>\n",
       "      <td>0.139286</td>\n",
       "    </tr>\n",
       "    <tr>\n",
       "      <th>1</th>\n",
       "      <td>I think tall women are beautiful. But some of ...</td>\n",
       "      <td>0.142857</td>\n",
       "    </tr>\n",
       "    <tr>\n",
       "      <th>2</th>\n",
       "      <td>I was frustrated. I had enough.</td>\n",
       "      <td>0.142857</td>\n",
       "    </tr>\n",
       "    <tr>\n",
       "      <th>3</th>\n",
       "      <td>Neither of us look good, OK?</td>\n",
       "      <td>0.142857</td>\n",
       "    </tr>\n",
       "    <tr>\n",
       "      <th>4</th>\n",
       "      <td>She's like, it makes my ass look better. I'm l...</td>\n",
       "      <td>0.135714</td>\n",
       "    </tr>\n",
       "    <tr>\n",
       "      <th>5</th>\n",
       "      <td>So I just looked up at her, I was like, hey!</td>\n",
       "      <td>0.567857</td>\n",
       "    </tr>\n",
       "  </tbody>\n",
       "</table>\n",
       "</div>"
      ],
      "text/plain": [
       "                                               truth     score\n",
       "0  Asian people, we don't need Tinder anymore. We...  0.139286\n",
       "1  I think tall women are beautiful. But some of ...  0.142857\n",
       "2                    I was frustrated. I had enough.  0.142857\n",
       "3                       Neither of us look good, OK?  0.142857\n",
       "4  She's like, it makes my ass look better. I'm l...  0.135714\n",
       "5       So I just looked up at her, I was like, hey!  0.567857"
      ]
     },
     "execution_count": 381,
     "metadata": {},
     "output_type": "execute_result"
    }
   ],
   "source": [
    "chat_gpt_metric"
   ]
  },
  {
   "cell_type": "code",
   "execution_count": 382,
   "metadata": {},
   "outputs": [
    {
     "data": {
      "text/plain": [
       "21.19047619047619"
      ]
     },
     "execution_count": 382,
     "metadata": {},
     "output_type": "execute_result"
    }
   ],
   "source": [
    "chat_gpt_metric[\"score\"].mean() * 100"
   ]
  }
 ],
 "metadata": {
  "kernelspec": {
   "display_name": ".venv",
   "language": "python",
   "name": "python3"
  },
  "language_info": {
   "codemirror_mode": {
    "name": "ipython",
    "version": 3
   },
   "file_extension": ".py",
   "mimetype": "text/x-python",
   "name": "python",
   "nbconvert_exporter": "python",
   "pygments_lexer": "ipython3",
   "version": "3.8.10"
  }
 },
 "nbformat": 4,
 "nbformat_minor": 2
}
