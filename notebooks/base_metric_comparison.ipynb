{
 "cells": [
  {
   "cell_type": "code",
   "execution_count": 1,
   "metadata": {},
   "outputs": [],
   "source": [
    "import sys\n",
    "import pandas as pd\n",
    "sys.path.append(\"..\")\n",
    "import seaborn as sns\n",
    "import nltk\n",
    "\n",
    "from humor.metric import fuzzy_match_metric\n",
    "from humor.bipartite_metric import bipartite_metric"
   ]
  },
  {
   "cell_type": "code",
   "execution_count": 2,
   "metadata": {},
   "outputs": [],
   "source": [
    "import pandas as pd\n",
    "from thefuzz import fuzz\n",
    "\n",
    "def bipartite_metric(model_answers: pd.DataFrame, ground_truth: pd.DataFrame):  \n",
    "    # Find the similarity of the model answers and ground truth by using fuzzy string matching\n",
    "    score_matrix = model_answers.apply(\n",
    "        lambda row_model: ground_truth.apply(\n",
    "            lambda row_truth: \n",
    "                fuzz.ratio(row_truth[\"sentence\"], row_model[\"sentence\"]) \n",
    "                if row_model[\"comedian\"] == row_truth[\"comedian\"] \n",
    "                else None,\n",
    "        axis=1),\n",
    "    axis=1) \\\n",
    "        .melt(ignore_index=False) \\\n",
    "        .dropna() \\\n",
    "        .reset_index()\n",
    "    # Find the best score by taking the maximum value\n",
    "    best_match = score_matrix.loc[score_matrix.groupby(\"index\")[\"value\"].idxmax()].reset_index(drop=True)\n",
    "    \n",
    "    #Add in the ground truths that were not matched\n",
    "    missing_gt = set(ground_truth.index) - set(best_match[\"variable\"].unique())\n",
    "    missing_gt = pd.DataFrame({\"index\": None, \"variable\": list(missing_gt), \"value\": 0})\n",
    "    \n",
    "    result = best_match.append(missing_gt).groupby(\"variable\").mean().rename(columns={\"value\": \"score\"})\n",
    "    \n",
    "    # Add in the comedians and group by the mean for each comedian\n",
    "    final_result = result.merge(ground_truth[['comedian']], left_index=True, right_index=True).reset_index(drop=True)\n",
    "    \n",
    "    return final_result.groupby('comedian')['score'].mean().reset_index()\n",
    "    \n",
    "    # ground_truth[\"value\"] = 0\n",
    "    # ground_truth.loc[~ground_truth.index.isin(best_match[\"variable\"]), \"value\"]\n",
    "    \n",
    "    # scores = model_answers.apply(\n",
    "    #     lambda row_model: ground_truth.apply(\n",
    "    #         lambda row_truth: \n",
    "    #             fuzz.ratio(row_truth[\"sentence\"], row_model[\"sentence\"]) \n",
    "    #             if row_model[\"comedian\"] == row_truth[\"comedian\"] \n",
    "    #             else None,\n",
    "    #     axis=1),\n",
    "    # axis=1) \\\n",
    "    #     .melt(ignore_index=False) \\\n",
    "    #     .dropna() \\\n",
    "    #     .reset_index() \\\n",
    "    #     .join(model_answers[\"sentence\"], on=\"index\") \\\n",
    "    #     .rename(columns={\"sentence\": \"model\"}) \\\n",
    "    #     .join(ground_truth, on=\"variable\") \\\n",
    "    #     .rename(columns={\"sentence\": \"truth\", \"value\": \"score\"})\n",
    "        \n",
    "    # scores = scores[[\"comedian\", \"model\", \"truth\", \"score\"]]\n",
    "    # print(\"scores\", scores)\n",
    "    \n",
    "    # df = scores.groupby([\"comedian\", \"model\"])[[\"score\", \"truth\"]].max().reset_index()\n",
    "    # print(\"df\")\n",
    "    # print(df)\n",
    "    # truths = scores[~scores['truth'].isin(df['truth'])]\n",
    "    # print(\"truths\")\n",
    "    # print(truths)\n",
    "    \n",
    "    # entries = truths.copy()\n",
    "    # entries['score'] = 0\n",
    "    # print(\"entries\")\n",
    "    # print(entries)\n",
    "    # df = pd.concat([df, entries[['comedian', 'model', 'truth', 'score']]], ignore_index=True)\n",
    "    # df.sort_values(by=['comedian', 'model'], inplace=True)\n",
    "    # print(\"df\")\n",
    "    # print(df)\n",
    "    \n",
    "    # return df.groupby(\"truth\")[\"score\"].mean().reset_index()"
   ]
  },
  {
   "cell_type": "code",
   "execution_count": 3,
   "metadata": {},
   "outputs": [],
   "source": [
    "ground_truth = pd.read_csv('/home/ada/humor/data/stand_up_dataset/standup_data.csv')\n",
    "model = pd.read_csv('/home/ada/humor/data/stand_up_dataset/gemma_answers.csv')\n",
    "transcript = pd.read_csv('/home/ada/humor/data/stand_up_dataset/standup_transcripts.csv')"
   ]
  },
  {
   "cell_type": "code",
   "execution_count": 4,
   "metadata": {},
   "outputs": [
    {
     "name": "stderr",
     "output_type": "stream",
     "text": [
      "/tmp/ipykernel_760118/4253546501.py:3: FutureWarning: Dropping of nuisance columns in DataFrame reductions (with 'numeric_only=None') is deprecated; in a future version this will raise TypeError.  Select only valid columns before calling the reduction.\n",
      "  gt.mean()\n"
     ]
    },
    {
     "data": {
      "text/plain": [
       "score    100.0\n",
       "dtype: float64"
      ]
     },
     "execution_count": 4,
     "metadata": {},
     "output_type": "execute_result"
    }
   ],
   "source": [
    "#ground truth x ground truth\n",
    "gt = bipartite_metric(ground_truth, ground_truth)\n",
    "gt.mean()"
   ]
  },
  {
   "cell_type": "code",
   "execution_count": 5,
   "metadata": {},
   "outputs": [
    {
     "name": "stderr",
     "output_type": "stream",
     "text": [
      "/tmp/ipykernel_1205684/3677872773.py:5: FutureWarning: Dropping of nuisance columns in DataFrame reductions (with 'numeric_only=None') is deprecated; in a future version this will raise TypeError.  Select only valid columns before calling the reduction.\n",
      "  completely_wrong.mean()\n"
     ]
    },
    {
     "data": {
      "text/plain": [
       "score    0.0\n",
       "dtype: float64"
      ]
     },
     "execution_count": 5,
     "metadata": {},
     "output_type": "execute_result"
    }
   ],
   "source": [
    "wrong = pd.DataFrame().reindex_like(ground_truth).drop([\"laugh_start\", \"laugh_end\"], axis=1)\n",
    "wrong[\"comedian\"] = ground_truth[\"comedian\"]\n",
    "wrong[\"sentence\"] = \"\"\n",
    "completely_wrong = bipartite_metric(wrong, ground_truth)\n",
    "completely_wrong.mean()"
   ]
  },
  {
   "cell_type": "code",
   "execution_count": 5,
   "metadata": {},
   "outputs": [],
   "source": [
    "#gemma\n",
    "gemma_metric = bipartite_metric(model, ground_truth)"
   ]
  },
  {
   "cell_type": "code",
   "execution_count": 6,
   "metadata": {},
   "outputs": [
    {
     "data": {
      "text/html": [
       "<div>\n",
       "<style scoped>\n",
       "    .dataframe tbody tr th:only-of-type {\n",
       "        vertical-align: middle;\n",
       "    }\n",
       "\n",
       "    .dataframe tbody tr th {\n",
       "        vertical-align: top;\n",
       "    }\n",
       "\n",
       "    .dataframe thead th {\n",
       "        text-align: right;\n",
       "    }\n",
       "</style>\n",
       "<table border=\"1\" class=\"dataframe\">\n",
       "  <thead>\n",
       "    <tr style=\"text-align: right;\">\n",
       "      <th></th>\n",
       "      <th>comedian</th>\n",
       "      <th>score</th>\n",
       "    </tr>\n",
       "  </thead>\n",
       "  <tbody>\n",
       "    <tr>\n",
       "      <th>0</th>\n",
       "      <td>Ali_Wong</td>\n",
       "      <td>30.900000</td>\n",
       "    </tr>\n",
       "    <tr>\n",
       "      <th>1</th>\n",
       "      <td>Ali_Wong_2</td>\n",
       "      <td>29.250000</td>\n",
       "    </tr>\n",
       "    <tr>\n",
       "      <th>2</th>\n",
       "      <td>Anthony_Jeselnik</td>\n",
       "      <td>34.142857</td>\n",
       "    </tr>\n",
       "    <tr>\n",
       "      <th>3</th>\n",
       "      <td>Anthony_Jeselnik_2</td>\n",
       "      <td>63.000000</td>\n",
       "    </tr>\n",
       "    <tr>\n",
       "      <th>4</th>\n",
       "      <td>Chelsea_Peretti</td>\n",
       "      <td>24.400000</td>\n",
       "    </tr>\n",
       "    <tr>\n",
       "      <th>5</th>\n",
       "      <td>Chelsea_Peretti_2</td>\n",
       "      <td>18.000000</td>\n",
       "    </tr>\n",
       "    <tr>\n",
       "      <th>6</th>\n",
       "      <td>Donald_Glover</td>\n",
       "      <td>21.000000</td>\n",
       "    </tr>\n",
       "    <tr>\n",
       "      <th>7</th>\n",
       "      <td>Donald_Glover_2</td>\n",
       "      <td>14.666667</td>\n",
       "    </tr>\n",
       "    <tr>\n",
       "      <th>8</th>\n",
       "      <td>Hasan_Minhaj</td>\n",
       "      <td>32.300000</td>\n",
       "    </tr>\n",
       "    <tr>\n",
       "      <th>9</th>\n",
       "      <td>Hasan_Minhaj_2</td>\n",
       "      <td>44.833333</td>\n",
       "    </tr>\n",
       "    <tr>\n",
       "      <th>10</th>\n",
       "      <td>Iliza_Shlesinger</td>\n",
       "      <td>24.714286</td>\n",
       "    </tr>\n",
       "    <tr>\n",
       "      <th>11</th>\n",
       "      <td>Iliza_Shlesinger_2</td>\n",
       "      <td>12.600000</td>\n",
       "    </tr>\n",
       "    <tr>\n",
       "      <th>12</th>\n",
       "      <td>Jim_Gaffigan</td>\n",
       "      <td>23.812500</td>\n",
       "    </tr>\n",
       "    <tr>\n",
       "      <th>13</th>\n",
       "      <td>Jim_Gaffigan_2</td>\n",
       "      <td>25.285714</td>\n",
       "    </tr>\n",
       "    <tr>\n",
       "      <th>14</th>\n",
       "      <td>Jimmy_Yang</td>\n",
       "      <td>20.000000</td>\n",
       "    </tr>\n",
       "    <tr>\n",
       "      <th>15</th>\n",
       "      <td>Jimmy_Yang_2</td>\n",
       "      <td>52.250000</td>\n",
       "    </tr>\n",
       "    <tr>\n",
       "      <th>16</th>\n",
       "      <td>Joe_List</td>\n",
       "      <td>32.500000</td>\n",
       "    </tr>\n",
       "    <tr>\n",
       "      <th>17</th>\n",
       "      <td>Joe_List_2</td>\n",
       "      <td>15.416667</td>\n",
       "    </tr>\n",
       "    <tr>\n",
       "      <th>18</th>\n",
       "      <td>John_Mulaney</td>\n",
       "      <td>31.944444</td>\n",
       "    </tr>\n",
       "    <tr>\n",
       "      <th>19</th>\n",
       "      <td>John_Mulaney_2</td>\n",
       "      <td>13.923077</td>\n",
       "    </tr>\n",
       "    <tr>\n",
       "      <th>20</th>\n",
       "      <td>Louis_CK</td>\n",
       "      <td>55.166667</td>\n",
       "    </tr>\n",
       "    <tr>\n",
       "      <th>21</th>\n",
       "      <td>Louis_CK_2</td>\n",
       "      <td>54.000000</td>\n",
       "    </tr>\n",
       "    <tr>\n",
       "      <th>22</th>\n",
       "      <td>Nate_Bargatze</td>\n",
       "      <td>16.071429</td>\n",
       "    </tr>\n",
       "    <tr>\n",
       "      <th>23</th>\n",
       "      <td>Nate_Bargatze_2</td>\n",
       "      <td>10.291667</td>\n",
       "    </tr>\n",
       "    <tr>\n",
       "      <th>24</th>\n",
       "      <td>Nate_Bargatze_TK</td>\n",
       "      <td>38.428571</td>\n",
       "    </tr>\n",
       "    <tr>\n",
       "      <th>25</th>\n",
       "      <td>Nate_Bargatze_TK_2</td>\n",
       "      <td>35.666667</td>\n",
       "    </tr>\n",
       "    <tr>\n",
       "      <th>26</th>\n",
       "      <td>Russell_Peters</td>\n",
       "      <td>38.500000</td>\n",
       "    </tr>\n",
       "    <tr>\n",
       "      <th>27</th>\n",
       "      <td>Russell_Peters_2</td>\n",
       "      <td>43.714286</td>\n",
       "    </tr>\n",
       "    <tr>\n",
       "      <th>28</th>\n",
       "      <td>Sam_Morril</td>\n",
       "      <td>7.058824</td>\n",
       "    </tr>\n",
       "    <tr>\n",
       "      <th>29</th>\n",
       "      <td>Sam_Morril_2</td>\n",
       "      <td>11.166667</td>\n",
       "    </tr>\n",
       "    <tr>\n",
       "      <th>30</th>\n",
       "      <td>Tom_Segura</td>\n",
       "      <td>34.666667</td>\n",
       "    </tr>\n",
       "    <tr>\n",
       "      <th>31</th>\n",
       "      <td>Tom_Segura_2</td>\n",
       "      <td>15.666667</td>\n",
       "    </tr>\n",
       "    <tr>\n",
       "      <th>32</th>\n",
       "      <td>Trevor_Noah</td>\n",
       "      <td>12.000000</td>\n",
       "    </tr>\n",
       "    <tr>\n",
       "      <th>33</th>\n",
       "      <td>Trevor_Noah_2</td>\n",
       "      <td>37.166667</td>\n",
       "    </tr>\n",
       "  </tbody>\n",
       "</table>\n",
       "</div>"
      ],
      "text/plain": [
       "              comedian      score\n",
       "0             Ali_Wong  30.900000\n",
       "1           Ali_Wong_2  29.250000\n",
       "2     Anthony_Jeselnik  34.142857\n",
       "3   Anthony_Jeselnik_2  63.000000\n",
       "4      Chelsea_Peretti  24.400000\n",
       "5    Chelsea_Peretti_2  18.000000\n",
       "6        Donald_Glover  21.000000\n",
       "7      Donald_Glover_2  14.666667\n",
       "8         Hasan_Minhaj  32.300000\n",
       "9       Hasan_Minhaj_2  44.833333\n",
       "10    Iliza_Shlesinger  24.714286\n",
       "11  Iliza_Shlesinger_2  12.600000\n",
       "12        Jim_Gaffigan  23.812500\n",
       "13      Jim_Gaffigan_2  25.285714\n",
       "14          Jimmy_Yang  20.000000\n",
       "15        Jimmy_Yang_2  52.250000\n",
       "16            Joe_List  32.500000\n",
       "17          Joe_List_2  15.416667\n",
       "18        John_Mulaney  31.944444\n",
       "19      John_Mulaney_2  13.923077\n",
       "20            Louis_CK  55.166667\n",
       "21          Louis_CK_2  54.000000\n",
       "22       Nate_Bargatze  16.071429\n",
       "23     Nate_Bargatze_2  10.291667\n",
       "24    Nate_Bargatze_TK  38.428571\n",
       "25  Nate_Bargatze_TK_2  35.666667\n",
       "26      Russell_Peters  38.500000\n",
       "27    Russell_Peters_2  43.714286\n",
       "28          Sam_Morril   7.058824\n",
       "29        Sam_Morril_2  11.166667\n",
       "30          Tom_Segura  34.666667\n",
       "31        Tom_Segura_2  15.666667\n",
       "32         Trevor_Noah  12.000000\n",
       "33       Trevor_Noah_2  37.166667"
      ]
     },
     "execution_count": 6,
     "metadata": {},
     "output_type": "execute_result"
    }
   ],
   "source": [
    "gemma_metric"
   ]
  },
  {
   "cell_type": "code",
   "execution_count": 8,
   "metadata": {},
   "outputs": [
    {
     "data": {
      "text/plain": [
       "comedian    Trevor_Noah_2\n",
       "score                63.0\n",
       "dtype: object"
      ]
     },
     "execution_count": 8,
     "metadata": {},
     "output_type": "execute_result"
    }
   ],
   "source": [
    "gemma_metric.max()"
   ]
  },
  {
   "cell_type": "code",
   "execution_count": 9,
   "metadata": {},
   "outputs": [
    {
     "data": {
      "text/html": [
       "<div>\n",
       "<style scoped>\n",
       "    .dataframe tbody tr th:only-of-type {\n",
       "        vertical-align: middle;\n",
       "    }\n",
       "\n",
       "    .dataframe tbody tr th {\n",
       "        vertical-align: top;\n",
       "    }\n",
       "\n",
       "    .dataframe thead th {\n",
       "        text-align: right;\n",
       "    }\n",
       "</style>\n",
       "<table border=\"1\" class=\"dataframe\">\n",
       "  <thead>\n",
       "    <tr style=\"text-align: right;\">\n",
       "      <th></th>\n",
       "      <th>comedian</th>\n",
       "      <th>sentence</th>\n",
       "    </tr>\n",
       "  </thead>\n",
       "  <tbody>\n",
       "    <tr>\n",
       "      <th>111</th>\n",
       "      <td>Trevor_Noah_2</td>\n",
       "      <td>You can't be normal man with a voice like that...</td>\n",
       "    </tr>\n",
       "    <tr>\n",
       "      <th>112</th>\n",
       "      <td>Trevor_Noah_2</td>\n",
       "      <td>It just doesn't work. I remember when Nelson M...</td>\n",
       "    </tr>\n",
       "    <tr>\n",
       "      <th>113</th>\n",
       "      <td>Trevor_Noah_2</td>\n",
       "      <td>Everything he did, he'd just be like, 'Ah, kno...</td>\n",
       "    </tr>\n",
       "  </tbody>\n",
       "</table>\n",
       "</div>"
      ],
      "text/plain": [
       "          comedian                                           sentence\n",
       "111  Trevor_Noah_2  You can't be normal man with a voice like that...\n",
       "112  Trevor_Noah_2  It just doesn't work. I remember when Nelson M...\n",
       "113  Trevor_Noah_2  Everything he did, he'd just be like, 'Ah, kno..."
      ]
     },
     "execution_count": 9,
     "metadata": {},
     "output_type": "execute_result"
    }
   ],
   "source": [
    "model[model[\"comedian\"] == \"Trevor_Noah_2\"]"
   ]
  },
  {
   "cell_type": "code",
   "execution_count": 10,
   "metadata": {},
   "outputs": [
    {
     "data": {
      "text/html": [
       "<div>\n",
       "<style scoped>\n",
       "    .dataframe tbody tr th:only-of-type {\n",
       "        vertical-align: middle;\n",
       "    }\n",
       "\n",
       "    .dataframe tbody tr th {\n",
       "        vertical-align: top;\n",
       "    }\n",
       "\n",
       "    .dataframe thead th {\n",
       "        text-align: right;\n",
       "    }\n",
       "</style>\n",
       "<table border=\"1\" class=\"dataframe\">\n",
       "  <thead>\n",
       "    <tr style=\"text-align: right;\">\n",
       "      <th></th>\n",
       "      <th>comedian</th>\n",
       "      <th>laugh_start</th>\n",
       "      <th>laugh_end</th>\n",
       "      <th>sentence</th>\n",
       "    </tr>\n",
       "  </thead>\n",
       "  <tbody>\n",
       "    <tr>\n",
       "      <th>231</th>\n",
       "      <td>Trevor_Noah_2</td>\n",
       "      <td>13.273</td>\n",
       "      <td>17.662</td>\n",
       "      <td>You can't do normal things with that voice. Yo...</td>\n",
       "    </tr>\n",
       "    <tr>\n",
       "      <th>232</th>\n",
       "      <td>Trevor_Noah_2</td>\n",
       "      <td>26.474</td>\n",
       "      <td>27.698</td>\n",
       "      <td>\"Who the hell is this?!\" \"I'm not telling you.\"</td>\n",
       "    </tr>\n",
       "    <tr>\n",
       "      <th>233</th>\n",
       "      <td>Trevor_Noah_2</td>\n",
       "      <td>38.852</td>\n",
       "      <td>40.535</td>\n",
       "      <td>[laughs] It just doesn't work. I remember when...</td>\n",
       "    </tr>\n",
       "    <tr>\n",
       "      <th>234</th>\n",
       "      <td>Trevor_Noah_2</td>\n",
       "      <td>49.724</td>\n",
       "      <td>51.042</td>\n",
       "      <td>He still kept what was him. It was partly beca...</td>\n",
       "    </tr>\n",
       "    <tr>\n",
       "      <th>235</th>\n",
       "      <td>Trevor_Noah_2</td>\n",
       "      <td>60.423</td>\n",
       "      <td>62.326</td>\n",
       "      <td>People would be like, \"Let him in. Let him in!\"</td>\n",
       "    </tr>\n",
       "    <tr>\n",
       "      <th>236</th>\n",
       "      <td>Trevor_Noah_2</td>\n",
       "      <td>74.216</td>\n",
       "      <td>78.397</td>\n",
       "      <td>Who's here? Who are we?'</td>\n",
       "    </tr>\n",
       "  </tbody>\n",
       "</table>\n",
       "</div>"
      ],
      "text/plain": [
       "          comedian  laugh_start  laugh_end  \\\n",
       "231  Trevor_Noah_2       13.273     17.662   \n",
       "232  Trevor_Noah_2       26.474     27.698   \n",
       "233  Trevor_Noah_2       38.852     40.535   \n",
       "234  Trevor_Noah_2       49.724     51.042   \n",
       "235  Trevor_Noah_2       60.423     62.326   \n",
       "236  Trevor_Noah_2       74.216     78.397   \n",
       "\n",
       "                                              sentence  \n",
       "231  You can't do normal things with that voice. Yo...  \n",
       "232    \"Who the hell is this?!\" \"I'm not telling you.\"  \n",
       "233  [laughs] It just doesn't work. I remember when...  \n",
       "234  He still kept what was him. It was partly beca...  \n",
       "235    People would be like, \"Let him in. Let him in!\"  \n",
       "236                           Who's here? Who are we?'  "
      ]
     },
     "execution_count": 10,
     "metadata": {},
     "output_type": "execute_result"
    }
   ],
   "source": [
    "ground_truth[ground_truth[\"comedian\"] == \"Trevor_Noah_2\"]"
   ]
  },
  {
   "cell_type": "code",
   "execution_count": 11,
   "metadata": {},
   "outputs": [
    {
     "data": {
      "text/plain": [
       "comedian    Ali_Wong\n",
       "score       7.058824\n",
       "dtype: object"
      ]
     },
     "execution_count": 11,
     "metadata": {},
     "output_type": "execute_result"
    }
   ],
   "source": [
    "gemma_metric.min()"
   ]
  },
  {
   "cell_type": "code",
   "execution_count": 12,
   "metadata": {},
   "outputs": [
    {
     "data": {
      "text/html": [
       "<div>\n",
       "<style scoped>\n",
       "    .dataframe tbody tr th:only-of-type {\n",
       "        vertical-align: middle;\n",
       "    }\n",
       "\n",
       "    .dataframe tbody tr th {\n",
       "        vertical-align: top;\n",
       "    }\n",
       "\n",
       "    .dataframe thead th {\n",
       "        text-align: right;\n",
       "    }\n",
       "</style>\n",
       "<table border=\"1\" class=\"dataframe\">\n",
       "  <thead>\n",
       "    <tr style=\"text-align: right;\">\n",
       "      <th></th>\n",
       "      <th>comedian</th>\n",
       "      <th>sentence</th>\n",
       "    </tr>\n",
       "  </thead>\n",
       "  <tbody>\n",
       "    <tr>\n",
       "      <th>6</th>\n",
       "      <td>Ali_Wong</td>\n",
       "      <td>It was like the worst experience of my life. I...</td>\n",
       "    </tr>\n",
       "    <tr>\n",
       "      <th>7</th>\n",
       "      <td>Ali_Wong</td>\n",
       "      <td>Those of you under 25 probably don't know what...</td>\n",
       "    </tr>\n",
       "    <tr>\n",
       "      <th>8</th>\n",
       "      <td>Ali_Wong</td>\n",
       "      <td>It was like the Tesla of my time.</td>\n",
       "    </tr>\n",
       "    <tr>\n",
       "      <th>9</th>\n",
       "      <td>Ali_Wong</td>\n",
       "      <td>I'm not trying to be a procrastinator anymore....</td>\n",
       "    </tr>\n",
       "  </tbody>\n",
       "</table>\n",
       "</div>"
      ],
      "text/plain": [
       "   comedian                                           sentence\n",
       "6  Ali_Wong  It was like the worst experience of my life. I...\n",
       "7  Ali_Wong  Those of you under 25 probably don't know what...\n",
       "8  Ali_Wong                  It was like the Tesla of my time.\n",
       "9  Ali_Wong  I'm not trying to be a procrastinator anymore...."
      ]
     },
     "execution_count": 12,
     "metadata": {},
     "output_type": "execute_result"
    }
   ],
   "source": [
    "model[model[\"comedian\"] == \"Ali_Wong\"]"
   ]
  },
  {
   "cell_type": "code",
   "execution_count": 13,
   "metadata": {},
   "outputs": [
    {
     "data": {
      "text/html": [
       "<div>\n",
       "<style scoped>\n",
       "    .dataframe tbody tr th:only-of-type {\n",
       "        vertical-align: middle;\n",
       "    }\n",
       "\n",
       "    .dataframe tbody tr th {\n",
       "        vertical-align: top;\n",
       "    }\n",
       "\n",
       "    .dataframe thead th {\n",
       "        text-align: right;\n",
       "    }\n",
       "</style>\n",
       "<table border=\"1\" class=\"dataframe\">\n",
       "  <thead>\n",
       "    <tr style=\"text-align: right;\">\n",
       "      <th></th>\n",
       "      <th>comedian</th>\n",
       "      <th>laugh_start</th>\n",
       "      <th>laugh_end</th>\n",
       "      <th>sentence</th>\n",
       "    </tr>\n",
       "  </thead>\n",
       "  <tbody>\n",
       "    <tr>\n",
       "      <th>71</th>\n",
       "      <td>Ali_Wong</td>\n",
       "      <td>21.007</td>\n",
       "      <td>28.986</td>\n",
       "      <td>It was like the worst experience of my life. I...</td>\n",
       "    </tr>\n",
       "    <tr>\n",
       "      <th>72</th>\n",
       "      <td>Ali_Wong</td>\n",
       "      <td>33.005</td>\n",
       "      <td>37.756</td>\n",
       "      <td>We were screaming and fighting and yelling and...</td>\n",
       "    </tr>\n",
       "    <tr>\n",
       "      <th>73</th>\n",
       "      <td>Ali_Wong</td>\n",
       "      <td>48.803</td>\n",
       "      <td>51.189</td>\n",
       "      <td>We were all required to buy it when we were in...</td>\n",
       "    </tr>\n",
       "    <tr>\n",
       "      <th>74</th>\n",
       "      <td>Ali_Wong</td>\n",
       "      <td>58.001</td>\n",
       "      <td>69.002</td>\n",
       "      <td>All because what? It could graph.</td>\n",
       "    </tr>\n",
       "    <tr>\n",
       "      <th>75</th>\n",
       "      <td>Ali_Wong</td>\n",
       "      <td>95.523</td>\n",
       "      <td>98.684</td>\n",
       "      <td>I do know... that I'm gonna have to clean all ...</td>\n",
       "    </tr>\n",
       "  </tbody>\n",
       "</table>\n",
       "</div>"
      ],
      "text/plain": [
       "    comedian  laugh_start  laugh_end  \\\n",
       "71  Ali_Wong       21.007     28.986   \n",
       "72  Ali_Wong       33.005     37.756   \n",
       "73  Ali_Wong       48.803     51.189   \n",
       "74  Ali_Wong       58.001     69.002   \n",
       "75  Ali_Wong       95.523     98.684   \n",
       "\n",
       "                                             sentence  \n",
       "71  It was like the worst experience of my life. I...  \n",
       "72  We were screaming and fighting and yelling and...  \n",
       "73  We were all required to buy it when we were in...  \n",
       "74                  All because what? It could graph.  \n",
       "75  I do know... that I'm gonna have to clean all ...  "
      ]
     },
     "execution_count": 13,
     "metadata": {},
     "output_type": "execute_result"
    }
   ],
   "source": [
    "ground_truth[ground_truth[\"comedian\"] == \"Ali_Wong\"]"
   ]
  },
  {
   "cell_type": "code",
   "execution_count": 14,
   "metadata": {},
   "outputs": [
    {
     "data": {
      "text/plain": [
       "28.661891796688508"
      ]
     },
     "execution_count": 14,
     "metadata": {},
     "output_type": "execute_result"
    }
   ],
   "source": [
    "gemma_metric[\"score\"].mean() "
   ]
  },
  {
   "cell_type": "code",
   "execution_count": 15,
   "metadata": {},
   "outputs": [],
   "source": [
    "#Brute Force\n",
    "brute_sentences = []\n",
    "for i in range(len(transcript['comedian'])):\n",
    "    comedian = transcript['comedian'][i]\n",
    "    trans = transcript['transcript'][i]\n",
    "    sentences = nltk.sent_tokenize(trans)\n",
    "    for sentence in sentences:\n",
    "        brute_sentences.append({'comedian': comedian, 'sentence': sentence})"
   ]
  },
  {
   "cell_type": "code",
   "execution_count": 16,
   "metadata": {},
   "outputs": [],
   "source": [
    "brute_model = pd.DataFrame(brute_sentences)"
   ]
  },
  {
   "cell_type": "code",
   "execution_count": 17,
   "metadata": {},
   "outputs": [],
   "source": [
    "brute = bipartite_metric(brute_model, ground_truth)"
   ]
  },
  {
   "cell_type": "code",
   "execution_count": 18,
   "metadata": {},
   "outputs": [
    {
     "data": {
      "text/html": [
       "<div>\n",
       "<style scoped>\n",
       "    .dataframe tbody tr th:only-of-type {\n",
       "        vertical-align: middle;\n",
       "    }\n",
       "\n",
       "    .dataframe tbody tr th {\n",
       "        vertical-align: top;\n",
       "    }\n",
       "\n",
       "    .dataframe thead th {\n",
       "        text-align: right;\n",
       "    }\n",
       "</style>\n",
       "<table border=\"1\" class=\"dataframe\">\n",
       "  <thead>\n",
       "    <tr style=\"text-align: right;\">\n",
       "      <th></th>\n",
       "      <th>comedian</th>\n",
       "      <th>score</th>\n",
       "    </tr>\n",
       "  </thead>\n",
       "  <tbody>\n",
       "    <tr>\n",
       "      <th>0</th>\n",
       "      <td>Ali_Wong</td>\n",
       "      <td>56.150000</td>\n",
       "    </tr>\n",
       "    <tr>\n",
       "      <th>1</th>\n",
       "      <td>Ali_Wong_2</td>\n",
       "      <td>63.906250</td>\n",
       "    </tr>\n",
       "    <tr>\n",
       "      <th>2</th>\n",
       "      <td>Anthony_Jeselnik</td>\n",
       "      <td>55.976190</td>\n",
       "    </tr>\n",
       "    <tr>\n",
       "      <th>3</th>\n",
       "      <td>Anthony_Jeselnik_2</td>\n",
       "      <td>51.166667</td>\n",
       "    </tr>\n",
       "    <tr>\n",
       "      <th>4</th>\n",
       "      <td>Chelsea_Peretti</td>\n",
       "      <td>42.533333</td>\n",
       "    </tr>\n",
       "    <tr>\n",
       "      <th>5</th>\n",
       "      <td>Chelsea_Peretti_2</td>\n",
       "      <td>58.777778</td>\n",
       "    </tr>\n",
       "    <tr>\n",
       "      <th>6</th>\n",
       "      <td>Donald_Glover</td>\n",
       "      <td>55.178571</td>\n",
       "    </tr>\n",
       "    <tr>\n",
       "      <th>7</th>\n",
       "      <td>Donald_Glover_2</td>\n",
       "      <td>62.092593</td>\n",
       "    </tr>\n",
       "    <tr>\n",
       "      <th>8</th>\n",
       "      <td>Hasan_Minhaj</td>\n",
       "      <td>48.346667</td>\n",
       "    </tr>\n",
       "    <tr>\n",
       "      <th>9</th>\n",
       "      <td>Hasan_Minhaj_2</td>\n",
       "      <td>45.833333</td>\n",
       "    </tr>\n",
       "    <tr>\n",
       "      <th>10</th>\n",
       "      <td>Iliza_Shlesinger</td>\n",
       "      <td>61.821429</td>\n",
       "    </tr>\n",
       "    <tr>\n",
       "      <th>11</th>\n",
       "      <td>Iliza_Shlesinger_2</td>\n",
       "      <td>51.428571</td>\n",
       "    </tr>\n",
       "    <tr>\n",
       "      <th>12</th>\n",
       "      <td>Jim_Gaffigan</td>\n",
       "      <td>61.385417</td>\n",
       "    </tr>\n",
       "    <tr>\n",
       "      <th>13</th>\n",
       "      <td>Jim_Gaffigan_2</td>\n",
       "      <td>61.226190</td>\n",
       "    </tr>\n",
       "    <tr>\n",
       "      <th>14</th>\n",
       "      <td>Jimmy_Yang</td>\n",
       "      <td>58.875000</td>\n",
       "    </tr>\n",
       "    <tr>\n",
       "      <th>15</th>\n",
       "      <td>Jimmy_Yang_2</td>\n",
       "      <td>52.767857</td>\n",
       "    </tr>\n",
       "    <tr>\n",
       "      <th>16</th>\n",
       "      <td>Joe_List</td>\n",
       "      <td>52.812500</td>\n",
       "    </tr>\n",
       "    <tr>\n",
       "      <th>17</th>\n",
       "      <td>Joe_List_2</td>\n",
       "      <td>61.504960</td>\n",
       "    </tr>\n",
       "    <tr>\n",
       "      <th>18</th>\n",
       "      <td>John_Mulaney</td>\n",
       "      <td>58.092593</td>\n",
       "    </tr>\n",
       "    <tr>\n",
       "      <th>19</th>\n",
       "      <td>John_Mulaney_2</td>\n",
       "      <td>70.621795</td>\n",
       "    </tr>\n",
       "    <tr>\n",
       "      <th>20</th>\n",
       "      <td>Louis_CK</td>\n",
       "      <td>56.569444</td>\n",
       "    </tr>\n",
       "    <tr>\n",
       "      <th>21</th>\n",
       "      <td>Louis_CK_2</td>\n",
       "      <td>55.702381</td>\n",
       "    </tr>\n",
       "    <tr>\n",
       "      <th>22</th>\n",
       "      <td>Nate_Bargatze</td>\n",
       "      <td>49.836580</td>\n",
       "    </tr>\n",
       "    <tr>\n",
       "      <th>23</th>\n",
       "      <td>Nate_Bargatze_2</td>\n",
       "      <td>53.187500</td>\n",
       "    </tr>\n",
       "    <tr>\n",
       "      <th>24</th>\n",
       "      <td>Nate_Bargatze_TK</td>\n",
       "      <td>61.104762</td>\n",
       "    </tr>\n",
       "    <tr>\n",
       "      <th>25</th>\n",
       "      <td>Nate_Bargatze_TK_2</td>\n",
       "      <td>54.101190</td>\n",
       "    </tr>\n",
       "    <tr>\n",
       "      <th>26</th>\n",
       "      <td>Russell_Peters</td>\n",
       "      <td>54.055556</td>\n",
       "    </tr>\n",
       "    <tr>\n",
       "      <th>27</th>\n",
       "      <td>Russell_Peters_2</td>\n",
       "      <td>67.821429</td>\n",
       "    </tr>\n",
       "    <tr>\n",
       "      <th>28</th>\n",
       "      <td>Sam_Morril</td>\n",
       "      <td>59.148459</td>\n",
       "    </tr>\n",
       "    <tr>\n",
       "      <th>29</th>\n",
       "      <td>Sam_Morril_2</td>\n",
       "      <td>69.188889</td>\n",
       "    </tr>\n",
       "    <tr>\n",
       "      <th>30</th>\n",
       "      <td>Tom_Segura</td>\n",
       "      <td>51.773333</td>\n",
       "    </tr>\n",
       "    <tr>\n",
       "      <th>31</th>\n",
       "      <td>Tom_Segura_2</td>\n",
       "      <td>45.533333</td>\n",
       "    </tr>\n",
       "    <tr>\n",
       "      <th>32</th>\n",
       "      <td>Trevor_Noah</td>\n",
       "      <td>50.261905</td>\n",
       "    </tr>\n",
       "    <tr>\n",
       "      <th>33</th>\n",
       "      <td>Trevor_Noah_2</td>\n",
       "      <td>50.659259</td>\n",
       "    </tr>\n",
       "  </tbody>\n",
       "</table>\n",
       "</div>"
      ],
      "text/plain": [
       "              comedian      score\n",
       "0             Ali_Wong  56.150000\n",
       "1           Ali_Wong_2  63.906250\n",
       "2     Anthony_Jeselnik  55.976190\n",
       "3   Anthony_Jeselnik_2  51.166667\n",
       "4      Chelsea_Peretti  42.533333\n",
       "5    Chelsea_Peretti_2  58.777778\n",
       "6        Donald_Glover  55.178571\n",
       "7      Donald_Glover_2  62.092593\n",
       "8         Hasan_Minhaj  48.346667\n",
       "9       Hasan_Minhaj_2  45.833333\n",
       "10    Iliza_Shlesinger  61.821429\n",
       "11  Iliza_Shlesinger_2  51.428571\n",
       "12        Jim_Gaffigan  61.385417\n",
       "13      Jim_Gaffigan_2  61.226190\n",
       "14          Jimmy_Yang  58.875000\n",
       "15        Jimmy_Yang_2  52.767857\n",
       "16            Joe_List  52.812500\n",
       "17          Joe_List_2  61.504960\n",
       "18        John_Mulaney  58.092593\n",
       "19      John_Mulaney_2  70.621795\n",
       "20            Louis_CK  56.569444\n",
       "21          Louis_CK_2  55.702381\n",
       "22       Nate_Bargatze  49.836580\n",
       "23     Nate_Bargatze_2  53.187500\n",
       "24    Nate_Bargatze_TK  61.104762\n",
       "25  Nate_Bargatze_TK_2  54.101190\n",
       "26      Russell_Peters  54.055556\n",
       "27    Russell_Peters_2  67.821429\n",
       "28          Sam_Morril  59.148459\n",
       "29        Sam_Morril_2  69.188889\n",
       "30          Tom_Segura  51.773333\n",
       "31        Tom_Segura_2  45.533333\n",
       "32         Trevor_Noah  50.261905\n",
       "33       Trevor_Noah_2  50.659259"
      ]
     },
     "execution_count": 18,
     "metadata": {},
     "output_type": "execute_result"
    }
   ],
   "source": [
    "brute"
   ]
  },
  {
   "cell_type": "code",
   "execution_count": 19,
   "metadata": {},
   "outputs": [
    {
     "data": {
      "text/plain": [
       "56.160050449838515"
      ]
     },
     "execution_count": 19,
     "metadata": {},
     "output_type": "execute_result"
    }
   ],
   "source": [
    "brute[\"score\"].mean() "
   ]
  },
  {
   "cell_type": "code",
   "execution_count": 20,
   "metadata": {},
   "outputs": [
    {
     "data": {
      "text/plain": [
       "27.524339749222968"
      ]
     },
     "execution_count": 20,
     "metadata": {},
     "output_type": "execute_result"
    }
   ],
   "source": [
    "#random\n",
    "random_model = pd.read_csv(\"/home/ada/humor/data/stand_up_dataset/random_gemma_quotes.csv\")\n",
    "random = bipartite_metric(random_model, ground_truth)\n",
    "random[\"score\"].mean() "
   ]
  },
  {
   "cell_type": "code",
   "execution_count": 21,
   "metadata": {},
   "outputs": [
    {
     "data": {
      "text/html": [
       "<div>\n",
       "<style scoped>\n",
       "    .dataframe tbody tr th:only-of-type {\n",
       "        vertical-align: middle;\n",
       "    }\n",
       "\n",
       "    .dataframe tbody tr th {\n",
       "        vertical-align: top;\n",
       "    }\n",
       "\n",
       "    .dataframe thead th {\n",
       "        text-align: right;\n",
       "    }\n",
       "</style>\n",
       "<table border=\"1\" class=\"dataframe\">\n",
       "  <thead>\n",
       "    <tr style=\"text-align: right;\">\n",
       "      <th></th>\n",
       "      <th>comedian</th>\n",
       "      <th>score</th>\n",
       "    </tr>\n",
       "  </thead>\n",
       "  <tbody>\n",
       "    <tr>\n",
       "      <th>0</th>\n",
       "      <td>Ali_Wong</td>\n",
       "      <td>46.933333</td>\n",
       "    </tr>\n",
       "    <tr>\n",
       "      <th>1</th>\n",
       "      <td>Ali_Wong_2</td>\n",
       "      <td>48.625000</td>\n",
       "    </tr>\n",
       "    <tr>\n",
       "      <th>2</th>\n",
       "      <td>Anthony_Jeselnik</td>\n",
       "      <td>26.071429</td>\n",
       "    </tr>\n",
       "    <tr>\n",
       "      <th>3</th>\n",
       "      <td>Anthony_Jeselnik_2</td>\n",
       "      <td>34.666667</td>\n",
       "    </tr>\n",
       "    <tr>\n",
       "      <th>4</th>\n",
       "      <td>Chelsea_Peretti</td>\n",
       "      <td>19.333333</td>\n",
       "    </tr>\n",
       "    <tr>\n",
       "      <th>5</th>\n",
       "      <td>Chelsea_Peretti_2</td>\n",
       "      <td>26.666667</td>\n",
       "    </tr>\n",
       "    <tr>\n",
       "      <th>6</th>\n",
       "      <td>Donald_Glover</td>\n",
       "      <td>6.571429</td>\n",
       "    </tr>\n",
       "    <tr>\n",
       "      <th>7</th>\n",
       "      <td>Donald_Glover_2</td>\n",
       "      <td>17.037037</td>\n",
       "    </tr>\n",
       "    <tr>\n",
       "      <th>8</th>\n",
       "      <td>Hasan_Minhaj</td>\n",
       "      <td>11.200000</td>\n",
       "    </tr>\n",
       "    <tr>\n",
       "      <th>9</th>\n",
       "      <td>Hasan_Minhaj_2</td>\n",
       "      <td>43.555556</td>\n",
       "    </tr>\n",
       "    <tr>\n",
       "      <th>10</th>\n",
       "      <td>Iliza_Shlesinger</td>\n",
       "      <td>28.428571</td>\n",
       "    </tr>\n",
       "    <tr>\n",
       "      <th>11</th>\n",
       "      <td>Iliza_Shlesinger_2</td>\n",
       "      <td>34.200000</td>\n",
       "    </tr>\n",
       "    <tr>\n",
       "      <th>12</th>\n",
       "      <td>Jim_Gaffigan</td>\n",
       "      <td>34.687500</td>\n",
       "    </tr>\n",
       "    <tr>\n",
       "      <th>13</th>\n",
       "      <td>Jim_Gaffigan_2</td>\n",
       "      <td>45.857143</td>\n",
       "    </tr>\n",
       "    <tr>\n",
       "      <th>14</th>\n",
       "      <td>Jimmy_Yang</td>\n",
       "      <td>22.111111</td>\n",
       "    </tr>\n",
       "    <tr>\n",
       "      <th>15</th>\n",
       "      <td>Jimmy_Yang_2</td>\n",
       "      <td>31.625000</td>\n",
       "    </tr>\n",
       "    <tr>\n",
       "      <th>16</th>\n",
       "      <td>Joe_List</td>\n",
       "      <td>32.000000</td>\n",
       "    </tr>\n",
       "    <tr>\n",
       "      <th>17</th>\n",
       "      <td>Joe_List_2</td>\n",
       "      <td>15.916667</td>\n",
       "    </tr>\n",
       "    <tr>\n",
       "      <th>18</th>\n",
       "      <td>John_Mulaney</td>\n",
       "      <td>24.000000</td>\n",
       "    </tr>\n",
       "    <tr>\n",
       "      <th>19</th>\n",
       "      <td>John_Mulaney_2</td>\n",
       "      <td>13.307692</td>\n",
       "    </tr>\n",
       "    <tr>\n",
       "      <th>20</th>\n",
       "      <td>Louis_CK</td>\n",
       "      <td>30.805556</td>\n",
       "    </tr>\n",
       "    <tr>\n",
       "      <th>21</th>\n",
       "      <td>Louis_CK_2</td>\n",
       "      <td>40.833333</td>\n",
       "    </tr>\n",
       "    <tr>\n",
       "      <th>22</th>\n",
       "      <td>Nate_Bargatze</td>\n",
       "      <td>26.571429</td>\n",
       "    </tr>\n",
       "    <tr>\n",
       "      <th>23</th>\n",
       "      <td>Nate_Bargatze_2</td>\n",
       "      <td>21.125000</td>\n",
       "    </tr>\n",
       "    <tr>\n",
       "      <th>24</th>\n",
       "      <td>Nate_Bargatze_TK</td>\n",
       "      <td>46.857143</td>\n",
       "    </tr>\n",
       "    <tr>\n",
       "      <th>25</th>\n",
       "      <td>Nate_Bargatze_TK_2</td>\n",
       "      <td>12.333333</td>\n",
       "    </tr>\n",
       "    <tr>\n",
       "      <th>26</th>\n",
       "      <td>Russell_Peters</td>\n",
       "      <td>26.250000</td>\n",
       "    </tr>\n",
       "    <tr>\n",
       "      <th>27</th>\n",
       "      <td>Russell_Peters_2</td>\n",
       "      <td>34.928571</td>\n",
       "    </tr>\n",
       "    <tr>\n",
       "      <th>28</th>\n",
       "      <td>Sam_Morril</td>\n",
       "      <td>13.352941</td>\n",
       "    </tr>\n",
       "    <tr>\n",
       "      <th>29</th>\n",
       "      <td>Sam_Morril_2</td>\n",
       "      <td>14.250000</td>\n",
       "    </tr>\n",
       "    <tr>\n",
       "      <th>30</th>\n",
       "      <td>Tom_Segura</td>\n",
       "      <td>38.240000</td>\n",
       "    </tr>\n",
       "    <tr>\n",
       "      <th>31</th>\n",
       "      <td>Tom_Segura_2</td>\n",
       "      <td>25.944444</td>\n",
       "    </tr>\n",
       "    <tr>\n",
       "      <th>32</th>\n",
       "      <td>Trevor_Noah</td>\n",
       "      <td>19.875000</td>\n",
       "    </tr>\n",
       "    <tr>\n",
       "      <th>33</th>\n",
       "      <td>Trevor_Noah_2</td>\n",
       "      <td>21.666667</td>\n",
       "    </tr>\n",
       "  </tbody>\n",
       "</table>\n",
       "</div>"
      ],
      "text/plain": [
       "              comedian      score\n",
       "0             Ali_Wong  46.933333\n",
       "1           Ali_Wong_2  48.625000\n",
       "2     Anthony_Jeselnik  26.071429\n",
       "3   Anthony_Jeselnik_2  34.666667\n",
       "4      Chelsea_Peretti  19.333333\n",
       "5    Chelsea_Peretti_2  26.666667\n",
       "6        Donald_Glover   6.571429\n",
       "7      Donald_Glover_2  17.037037\n",
       "8         Hasan_Minhaj  11.200000\n",
       "9       Hasan_Minhaj_2  43.555556\n",
       "10    Iliza_Shlesinger  28.428571\n",
       "11  Iliza_Shlesinger_2  34.200000\n",
       "12        Jim_Gaffigan  34.687500\n",
       "13      Jim_Gaffigan_2  45.857143\n",
       "14          Jimmy_Yang  22.111111\n",
       "15        Jimmy_Yang_2  31.625000\n",
       "16            Joe_List  32.000000\n",
       "17          Joe_List_2  15.916667\n",
       "18        John_Mulaney  24.000000\n",
       "19      John_Mulaney_2  13.307692\n",
       "20            Louis_CK  30.805556\n",
       "21          Louis_CK_2  40.833333\n",
       "22       Nate_Bargatze  26.571429\n",
       "23     Nate_Bargatze_2  21.125000\n",
       "24    Nate_Bargatze_TK  46.857143\n",
       "25  Nate_Bargatze_TK_2  12.333333\n",
       "26      Russell_Peters  26.250000\n",
       "27    Russell_Peters_2  34.928571\n",
       "28          Sam_Morril  13.352941\n",
       "29        Sam_Morril_2  14.250000\n",
       "30          Tom_Segura  38.240000\n",
       "31        Tom_Segura_2  25.944444\n",
       "32         Trevor_Noah  19.875000\n",
       "33       Trevor_Noah_2  21.666667"
      ]
     },
     "execution_count": 21,
     "metadata": {},
     "output_type": "execute_result"
    }
   ],
   "source": [
    "random"
   ]
  },
  {
   "cell_type": "code",
   "execution_count": 22,
   "metadata": {},
   "outputs": [],
   "source": [
    "gemma = gemma_metric.assign(model=\"gemma\") \n",
    "brute = brute.assign(model=\"brute\") \n",
    "random = random.assign(model=\"random\") "
   ]
  },
  {
   "cell_type": "code",
   "execution_count": 23,
   "metadata": {},
   "outputs": [],
   "source": [
    "df = pd.concat([gemma, brute, random]).reset_index(drop=True)"
   ]
  },
  {
   "cell_type": "code",
   "execution_count": 24,
   "metadata": {},
   "outputs": [
    {
     "data": {
      "text/plain": [
       "<seaborn.axisgrid.FacetGrid at 0x7f2b4509ddf0>"
      ]
     },
     "execution_count": 24,
     "metadata": {},
     "output_type": "execute_result"
    },
    {
     "data": {
      "image/png": "[encoded data removed]",
      "text/plain": [
       "<Figure size 604x500 with 1 Axes>"
      ]
     },
     "metadata": {},
     "output_type": "display_data"
    }
   ],
   "source": [
    "sns.displot(df, x=\"score\", hue=\"model\", kind=\"hist\", shrink=1, multiple=\"dodge\")"
   ]
  },
  {
   "cell_type": "code",
   "execution_count": 25,
   "metadata": {},
   "outputs": [
    {
     "data": {
      "text/plain": [
       "24.892822868212143"
      ]
     },
     "execution_count": 25,
     "metadata": {},
     "output_type": "execute_result"
    }
   ],
   "source": [
    "phi_model = pd.read_csv(\"/home/ada/humor/data/stand_up_dataset/phi3_mini_quotes.csv\")\n",
    "phi_metric = bipartite_metric(phi_model, ground_truth)\n",
    "phi_metric[\"score\"].mean() "
   ]
  },
  {
   "cell_type": "code",
   "execution_count": 26,
   "metadata": {},
   "outputs": [],
   "source": [
    "phi = phi_metric.assign(model=\"phi\") "
   ]
  },
  {
   "cell_type": "code",
   "execution_count": 27,
   "metadata": {},
   "outputs": [],
   "source": [
    "llm = pd.concat([gemma, phi, brute, random]).reset_index(drop=True)"
   ]
  },
  {
   "cell_type": "code",
   "execution_count": 28,
   "metadata": {},
   "outputs": [
    {
     "data": {
      "text/plain": [
       "<seaborn.axisgrid.FacetGrid at 0x7f2b451247c0>"
      ]
     },
     "execution_count": 28,
     "metadata": {},
     "output_type": "execute_result"
    },
    {
     "data": {
      "image/png": "[encoded data removed]",
      "text/plain": [
       "<Figure size 604x500 with 1 Axes>"
      ]
     },
     "metadata": {},
     "output_type": "display_data"
    }
   ],
   "source": [
    "sns.displot(llm, x=\"score\", hue=\"model\", kind=\"hist\", shrink=1, multiple=\"dodge\")"
   ]
  },
  {
   "cell_type": "markdown",
   "metadata": {},
   "source": [
    "Chat_GPT"
   ]
  },
  {
   "cell_type": "code",
   "execution_count": 29,
   "metadata": {},
   "outputs": [
    {
     "data": {
      "text/html": [
       "<div>\n",
       "<style scoped>\n",
       "    .dataframe tbody tr th:only-of-type {\n",
       "        vertical-align: middle;\n",
       "    }\n",
       "\n",
       "    .dataframe tbody tr th {\n",
       "        vertical-align: top;\n",
       "    }\n",
       "\n",
       "    .dataframe thead th {\n",
       "        text-align: right;\n",
       "    }\n",
       "</style>\n",
       "<table border=\"1\" class=\"dataframe\">\n",
       "  <thead>\n",
       "    <tr style=\"text-align: right;\">\n",
       "      <th></th>\n",
       "      <th>comedian</th>\n",
       "      <th>sentence</th>\n",
       "    </tr>\n",
       "  </thead>\n",
       "  <tbody>\n",
       "    <tr>\n",
       "      <th>0</th>\n",
       "      <td>Jimmy_Yang</td>\n",
       "      <td>Asian people, we don’t need Tinder anymore. We...</td>\n",
       "    </tr>\n",
       "    <tr>\n",
       "      <th>1</th>\n",
       "      <td>Jimmy_Yang</td>\n",
       "      <td>I’ve been dating a lot of tall girls lately, b...</td>\n",
       "    </tr>\n",
       "    <tr>\n",
       "      <th>2</th>\n",
       "      <td>Jimmy_Yang</td>\n",
       "      <td>She’s like, it makes my ass look better. I’m l...</td>\n",
       "    </tr>\n",
       "    <tr>\n",
       "      <th>3</th>\n",
       "      <td>Jimmy_Yang</td>\n",
       "      <td>Last time– the last time I took a tall girl to...</td>\n",
       "    </tr>\n",
       "    <tr>\n",
       "      <th>4</th>\n",
       "      <td>Jimmy_Yang</td>\n",
       "      <td>I’m 5′ 5″. I just go to concerts to smell othe...</td>\n",
       "    </tr>\n",
       "    <tr>\n",
       "      <th>5</th>\n",
       "      <td>Jimmy_Yang</td>\n",
       "      <td>She was having the time of her life, doing wha...</td>\n",
       "    </tr>\n",
       "    <tr>\n",
       "      <th>6</th>\n",
       "      <td>Jimmy_Yang</td>\n",
       "      <td>I was frustrated. I had enough. So I just look...</td>\n",
       "    </tr>\n",
       "    <tr>\n",
       "      <th>7</th>\n",
       "      <td>Russell_Peters</td>\n",
       "      <td>He goes, look, you’re a 48-year-old Indian man...</td>\n",
       "    </tr>\n",
       "    <tr>\n",
       "      <th>8</th>\n",
       "      <td>Russell_Peters</td>\n",
       "      <td>There is no way you can be Indian and not have...</td>\n",
       "    </tr>\n",
       "    <tr>\n",
       "      <th>9</th>\n",
       "      <td>Russell_Peters</td>\n",
       "      <td>There’s no way you can consume the food that w...</td>\n",
       "    </tr>\n",
       "    <tr>\n",
       "      <th>10</th>\n",
       "      <td>Russell_Peters</td>\n",
       "      <td>Dad, I want to assure you I have no phagus in ...</td>\n",
       "    </tr>\n",
       "    <tr>\n",
       "      <th>11</th>\n",
       "      <td>Russell_Peters</td>\n",
       "      <td>I’m looking at all of you, especially all the ...</td>\n",
       "    </tr>\n",
       "    <tr>\n",
       "      <th>12</th>\n",
       "      <td>John_Mulaney</td>\n",
       "      <td>We made these big piles of clothes, we put the...</td>\n",
       "    </tr>\n",
       "    <tr>\n",
       "      <th>13</th>\n",
       "      <td>John_Mulaney</td>\n",
       "      <td>One day my wife said, 'Hey, you took that stuf...</td>\n",
       "    </tr>\n",
       "    <tr>\n",
       "      <th>14</th>\n",
       "      <td>John_Mulaney</td>\n",
       "      <td>It was charitable, but it was also fast and vi...</td>\n",
       "    </tr>\n",
       "    <tr>\n",
       "      <th>15</th>\n",
       "      <td>John_Mulaney</td>\n",
       "      <td>The boxes were so heavy I couldn’t even say wh...</td>\n",
       "    </tr>\n",
       "    <tr>\n",
       "      <th>16</th>\n",
       "      <td>John_Mulaney</td>\n",
       "      <td>The guy tried to give me a big receipt. He’s l...</td>\n",
       "    </tr>\n",
       "    <tr>\n",
       "      <th>17</th>\n",
       "      <td>John_Mulaney</td>\n",
       "      <td>That sleep shirt bullshit. 'Well, if it’s too ...</td>\n",
       "    </tr>\n",
       "    <tr>\n",
       "      <th>18</th>\n",
       "      <td>John_Mulaney</td>\n",
       "      <td>Because we don’t say that when someone gives u...</td>\n",
       "    </tr>\n",
       "    <tr>\n",
       "      <th>19</th>\n",
       "      <td>John_Mulaney</td>\n",
       "      <td>Why don’t you give me a candle for looking in ...</td>\n",
       "    </tr>\n",
       "    <tr>\n",
       "      <th>20</th>\n",
       "      <td>John_Mulaney</td>\n",
       "      <td>Was there ever even a ghost, Mother, or was th...</td>\n",
       "    </tr>\n",
       "    <tr>\n",
       "      <th>21</th>\n",
       "      <td>Ali_Wong</td>\n",
       "      <td>The last time I was at home in San Francisco, ...</td>\n",
       "    </tr>\n",
       "    <tr>\n",
       "      <th>22</th>\n",
       "      <td>Ali_Wong</td>\n",
       "      <td>It was so emotional. We were screaming and fig...</td>\n",
       "    </tr>\n",
       "    <tr>\n",
       "      <th>23</th>\n",
       "      <td>Ali_Wong</td>\n",
       "      <td>Those of you under 25 probably don't know what...</td>\n",
       "    </tr>\n",
       "    <tr>\n",
       "      <th>24</th>\n",
       "      <td>Ali_Wong</td>\n",
       "      <td>And everybody thought it was like this Judy Je...</td>\n",
       "    </tr>\n",
       "    <tr>\n",
       "      <th>25</th>\n",
       "      <td>Ali_Wong</td>\n",
       "      <td>And my mom got so emotional about the manual a...</td>\n",
       "    </tr>\n",
       "    <tr>\n",
       "      <th>26</th>\n",
       "      <td>Ali_Wong</td>\n",
       "      <td>And I was like, 'But... I do know... that I'm ...</td>\n",
       "    </tr>\n",
       "    <tr>\n",
       "      <th>27</th>\n",
       "      <td>Ali_Wong</td>\n",
       "      <td>And I'm not trying to be a procrastinator anym...</td>\n",
       "    </tr>\n",
       "    <tr>\n",
       "      <th>28</th>\n",
       "      <td>Hasan_Minhaj</td>\n",
       "      <td>Have you seen the show called The Slap? This i...</td>\n",
       "    </tr>\n",
       "    <tr>\n",
       "      <th>29</th>\n",
       "      <td>Hasan_Minhaj</td>\n",
       "      <td>Do you know when brown kids get slapped? Every...</td>\n",
       "    </tr>\n",
       "    <tr>\n",
       "      <th>30</th>\n",
       "      <td>Hasan_Minhaj</td>\n",
       "      <td>And that’s what makes us tough and resilient. ...</td>\n",
       "    </tr>\n",
       "    <tr>\n",
       "      <th>31</th>\n",
       "      <td>Hasan_Minhaj</td>\n",
       "      <td>You ever seen an Indian kid win a spelling bee...</td>\n",
       "    </tr>\n",
       "    <tr>\n",
       "      <th>32</th>\n",
       "      <td>Hasan_Minhaj</td>\n",
       "      <td>Of course he can spell 'knaidel'. Knaidel. Loo...</td>\n",
       "    </tr>\n",
       "    <tr>\n",
       "      <th>33</th>\n",
       "      <td>Hasan_Minhaj</td>\n",
       "      <td>People ask, 'Where does that come from?' Look ...</td>\n",
       "    </tr>\n",
       "    <tr>\n",
       "      <th>34</th>\n",
       "      <td>Hasan_Minhaj</td>\n",
       "      <td>People say, 'Where’s Bobby Jindal from?' That’...</td>\n",
       "    </tr>\n",
       "  </tbody>\n",
       "</table>\n",
       "</div>"
      ],
      "text/plain": [
       "          comedian                                           sentence\n",
       "0       Jimmy_Yang  Asian people, we don’t need Tinder anymore. We...\n",
       "1       Jimmy_Yang  I’ve been dating a lot of tall girls lately, b...\n",
       "2       Jimmy_Yang  She’s like, it makes my ass look better. I’m l...\n",
       "3       Jimmy_Yang  Last time– the last time I took a tall girl to...\n",
       "4       Jimmy_Yang  I’m 5′ 5″. I just go to concerts to smell othe...\n",
       "5       Jimmy_Yang  She was having the time of her life, doing wha...\n",
       "6       Jimmy_Yang  I was frustrated. I had enough. So I just look...\n",
       "7   Russell_Peters  He goes, look, you’re a 48-year-old Indian man...\n",
       "8   Russell_Peters  There is no way you can be Indian and not have...\n",
       "9   Russell_Peters  There’s no way you can consume the food that w...\n",
       "10  Russell_Peters  Dad, I want to assure you I have no phagus in ...\n",
       "11  Russell_Peters  I’m looking at all of you, especially all the ...\n",
       "12    John_Mulaney  We made these big piles of clothes, we put the...\n",
       "13    John_Mulaney  One day my wife said, 'Hey, you took that stuf...\n",
       "14    John_Mulaney  It was charitable, but it was also fast and vi...\n",
       "15    John_Mulaney  The boxes were so heavy I couldn’t even say wh...\n",
       "16    John_Mulaney  The guy tried to give me a big receipt. He’s l...\n",
       "17    John_Mulaney  That sleep shirt bullshit. 'Well, if it’s too ...\n",
       "18    John_Mulaney  Because we don’t say that when someone gives u...\n",
       "19    John_Mulaney  Why don’t you give me a candle for looking in ...\n",
       "20    John_Mulaney  Was there ever even a ghost, Mother, or was th...\n",
       "21        Ali_Wong  The last time I was at home in San Francisco, ...\n",
       "22        Ali_Wong  It was so emotional. We were screaming and fig...\n",
       "23        Ali_Wong  Those of you under 25 probably don't know what...\n",
       "24        Ali_Wong  And everybody thought it was like this Judy Je...\n",
       "25        Ali_Wong  And my mom got so emotional about the manual a...\n",
       "26        Ali_Wong  And I was like, 'But... I do know... that I'm ...\n",
       "27        Ali_Wong  And I'm not trying to be a procrastinator anym...\n",
       "28    Hasan_Minhaj  Have you seen the show called The Slap? This i...\n",
       "29    Hasan_Minhaj  Do you know when brown kids get slapped? Every...\n",
       "30    Hasan_Minhaj  And that’s what makes us tough and resilient. ...\n",
       "31    Hasan_Minhaj  You ever seen an Indian kid win a spelling bee...\n",
       "32    Hasan_Minhaj  Of course he can spell 'knaidel'. Knaidel. Loo...\n",
       "33    Hasan_Minhaj  People ask, 'Where does that come from?' Look ...\n",
       "34    Hasan_Minhaj  People say, 'Where’s Bobby Jindal from?' That’..."
      ]
     },
     "execution_count": 29,
     "metadata": {},
     "output_type": "execute_result"
    }
   ],
   "source": [
    "chatgpt_model = pd.read_csv(\"/home/ada/humor/data/stand_up_dataset/Chat_GPT_results - Sheet1.csv\")\n",
    "chatgpt_model\n",
    "# chatgpt_model = bipartite_metric(chatgpt_model, ground_truth)\n",
    "# phi_metric[\"score\"].mean() * 100"
   ]
  },
  {
   "cell_type": "code",
   "execution_count": 30,
   "metadata": {},
   "outputs": [],
   "source": [
    "chatgpt_jm = chatgpt_model[chatgpt_model[\"comedian\"] == \"John_Mulaney\"]\n",
    "ground_truth_jm = ground_truth[ground_truth[\"comedian\"]== \"John_Mulaney\"]\n",
    "# chatgpt_model = bipartite_metric(chatgpt_model, ground_truth)\n",
    "# phi_metric[\"score\"].mean() * 100"
   ]
  },
  {
   "cell_type": "code",
   "execution_count": 31,
   "metadata": {},
   "outputs": [
    {
     "data": {
      "text/html": [
       "<div>\n",
       "<style scoped>\n",
       "    .dataframe tbody tr th:only-of-type {\n",
       "        vertical-align: middle;\n",
       "    }\n",
       "\n",
       "    .dataframe tbody tr th {\n",
       "        vertical-align: top;\n",
       "    }\n",
       "\n",
       "    .dataframe thead th {\n",
       "        text-align: right;\n",
       "    }\n",
       "</style>\n",
       "<table border=\"1\" class=\"dataframe\">\n",
       "  <thead>\n",
       "    <tr style=\"text-align: right;\">\n",
       "      <th></th>\n",
       "      <th>comedian</th>\n",
       "      <th>laugh_start</th>\n",
       "      <th>laugh_end</th>\n",
       "      <th>sentence</th>\n",
       "    </tr>\n",
       "  </thead>\n",
       "  <tbody>\n",
       "    <tr>\n",
       "      <th>49</th>\n",
       "      <td>John_Mulaney</td>\n",
       "      <td>20.2350</td>\n",
       "      <td>22.6280</td>\n",
       "      <td>My wife and I just gave a bunch of stuff to Go...</td>\n",
       "    </tr>\n",
       "    <tr>\n",
       "      <th>50</th>\n",
       "      <td>John_Mulaney</td>\n",
       "      <td>30.5460</td>\n",
       "      <td>32.0200</td>\n",
       "      <td>And then one day my wife said, \"Hey, you took ...</td>\n",
       "    </tr>\n",
       "    <tr>\n",
       "      <th>51</th>\n",
       "      <td>John_Mulaney</td>\n",
       "      <td>44.3320</td>\n",
       "      <td>46.4850</td>\n",
       "      <td>I was like, \"This one's shirts. I got a bunch ...</td>\n",
       "    </tr>\n",
       "    <tr>\n",
       "      <th>52</th>\n",
       "      <td>John_Mulaney</td>\n",
       "      <td>59.4920</td>\n",
       "      <td>65.8650</td>\n",
       "      <td>He's like, \"Take this receipt for the clothing...</td>\n",
       "    </tr>\n",
       "    <tr>\n",
       "      <th>53</th>\n",
       "      <td>John_Mulaney</td>\n",
       "      <td>67.8500</td>\n",
       "      <td>70.7620</td>\n",
       "      <td>My mom said it could be a sleep shirt. Please ...</td>\n",
       "    </tr>\n",
       "    <tr>\n",
       "      <th>54</th>\n",
       "      <td>John_Mulaney</td>\n",
       "      <td>73.5270</td>\n",
       "      <td>74.2070</td>\n",
       "      <td>That sleep shirt bullshit.</td>\n",
       "    </tr>\n",
       "    <tr>\n",
       "      <th>55</th>\n",
       "      <td>John_Mulaney</td>\n",
       "      <td>83.9075</td>\n",
       "      <td>85.8990</td>\n",
       "      <td>\"Well, if it's too big you can just wear it as...</td>\n",
       "    </tr>\n",
       "    <tr>\n",
       "      <th>56</th>\n",
       "      <td>John_Mulaney</td>\n",
       "      <td>97.7550</td>\n",
       "      <td>105.9800</td>\n",
       "      <td>\"Because we don't say that when someone gives ...</td>\n",
       "    </tr>\n",
       "    <tr>\n",
       "      <th>57</th>\n",
       "      <td>John_Mulaney</td>\n",
       "      <td>113.7820</td>\n",
       "      <td>125.0765</td>\n",
       "      <td>So rather than violate these meaningless polit...</td>\n",
       "    </tr>\n",
       "  </tbody>\n",
       "</table>\n",
       "</div>"
      ],
      "text/plain": [
       "        comedian  laugh_start  laugh_end  \\\n",
       "49  John_Mulaney      20.2350    22.6280   \n",
       "50  John_Mulaney      30.5460    32.0200   \n",
       "51  John_Mulaney      44.3320    46.4850   \n",
       "52  John_Mulaney      59.4920    65.8650   \n",
       "53  John_Mulaney      67.8500    70.7620   \n",
       "54  John_Mulaney      73.5270    74.2070   \n",
       "55  John_Mulaney      83.9075    85.8990   \n",
       "56  John_Mulaney      97.7550   105.9800   \n",
       "57  John_Mulaney     113.7820   125.0765   \n",
       "\n",
       "                                             sentence  \n",
       "49  My wife and I just gave a bunch of stuff to Go...  \n",
       "50  And then one day my wife said, \"Hey, you took ...  \n",
       "51  I was like, \"This one's shirts. I got a bunch ...  \n",
       "52  He's like, \"Take this receipt for the clothing...  \n",
       "53  My mom said it could be a sleep shirt. Please ...  \n",
       "54                         That sleep shirt bullshit.  \n",
       "55  \"Well, if it's too big you can just wear it as...  \n",
       "56  \"Because we don't say that when someone gives ...  \n",
       "57  So rather than violate these meaningless polit...  "
      ]
     },
     "execution_count": 31,
     "metadata": {},
     "output_type": "execute_result"
    }
   ],
   "source": [
    "ground_truth_jm"
   ]
  },
  {
   "cell_type": "code",
   "execution_count": 32,
   "metadata": {},
   "outputs": [
    {
     "name": "stdout",
     "output_type": "stream",
     "text": [
      "       comedian      score\n",
      "0  John_Mulaney  39.055556\n"
     ]
    }
   ],
   "source": [
    "chatgpt_metric_jm = bipartite_metric(chatgpt_jm, ground_truth_jm)\n",
    "print(chatgpt_metric_jm)"
   ]
  },
  {
   "cell_type": "code",
   "execution_count": 33,
   "metadata": {},
   "outputs": [
    {
     "data": {
      "text/plain": [
       "39.05555555555556"
      ]
     },
     "execution_count": 33,
     "metadata": {},
     "output_type": "execute_result"
    }
   ],
   "source": [
    "chatgpt_metric_jm[\"score\"].mean() "
   ]
  },
  {
   "cell_type": "code",
   "execution_count": 34,
   "metadata": {},
   "outputs": [
    {
     "data": {
      "text/plain": [
       "31.944444444444443"
      ]
     },
     "execution_count": 34,
     "metadata": {},
     "output_type": "execute_result"
    }
   ],
   "source": [
    "model_jm = model[model[\"comedian\"] == \"John_Mulaney\"]\n",
    "model_jm = bipartite_metric(model_jm, ground_truth_jm)\n",
    "model_jm[\"score\"].mean() "
   ]
  },
  {
   "cell_type": "markdown",
   "metadata": {},
   "source": [
    "## Different Prompts"
   ]
  },
  {
   "cell_type": "markdown",
   "metadata": {},
   "source": [
    "##### \"The following is a stand-up comedy transcript. When performed in front of a live audience, which jokes do you think made the audience laugh?  List of quotes:\""
   ]
  },
  {
   "cell_type": "code",
   "execution_count": 35,
   "metadata": {},
   "outputs": [],
   "source": [
    "laugh = pd.read_csv('/home/ada/humor/data/stand_up_dataset/prompts/laugh_prompt - Sheet1.csv')"
   ]
  },
  {
   "cell_type": "code",
   "execution_count": 36,
   "metadata": {},
   "outputs": [
    {
     "data": {
      "text/html": [
       "<div>\n",
       "<style scoped>\n",
       "    .dataframe tbody tr th:only-of-type {\n",
       "        vertical-align: middle;\n",
       "    }\n",
       "\n",
       "    .dataframe tbody tr th {\n",
       "        vertical-align: top;\n",
       "    }\n",
       "\n",
       "    .dataframe thead th {\n",
       "        text-align: right;\n",
       "    }\n",
       "</style>\n",
       "<table border=\"1\" class=\"dataframe\">\n",
       "  <thead>\n",
       "    <tr style=\"text-align: right;\">\n",
       "      <th></th>\n",
       "      <th>comedian</th>\n",
       "      <th>score</th>\n",
       "    </tr>\n",
       "  </thead>\n",
       "  <tbody>\n",
       "    <tr>\n",
       "      <th>0</th>\n",
       "      <td>Ali_Wong</td>\n",
       "      <td>26.600000</td>\n",
       "    </tr>\n",
       "    <tr>\n",
       "      <th>1</th>\n",
       "      <td>Ali_Wong_2</td>\n",
       "      <td>34.500000</td>\n",
       "    </tr>\n",
       "    <tr>\n",
       "      <th>2</th>\n",
       "      <td>Anthony_Jeselnik</td>\n",
       "      <td>22.714286</td>\n",
       "    </tr>\n",
       "    <tr>\n",
       "      <th>3</th>\n",
       "      <td>Anthony_Jeselnik_2</td>\n",
       "      <td>58.333333</td>\n",
       "    </tr>\n",
       "    <tr>\n",
       "      <th>4</th>\n",
       "      <td>Chelsea_Peretti</td>\n",
       "      <td>24.400000</td>\n",
       "    </tr>\n",
       "    <tr>\n",
       "      <th>5</th>\n",
       "      <td>Chelsea_Peretti_2</td>\n",
       "      <td>27.500000</td>\n",
       "    </tr>\n",
       "    <tr>\n",
       "      <th>6</th>\n",
       "      <td>Donald_Glover</td>\n",
       "      <td>12.142857</td>\n",
       "    </tr>\n",
       "    <tr>\n",
       "      <th>7</th>\n",
       "      <td>Donald_Glover_2</td>\n",
       "      <td>14.444444</td>\n",
       "    </tr>\n",
       "    <tr>\n",
       "      <th>8</th>\n",
       "      <td>Hasan_Minhaj</td>\n",
       "      <td>26.100000</td>\n",
       "    </tr>\n",
       "    <tr>\n",
       "      <th>9</th>\n",
       "      <td>Hasan_Minhaj_2</td>\n",
       "      <td>25.500000</td>\n",
       "    </tr>\n",
       "    <tr>\n",
       "      <th>10</th>\n",
       "      <td>Iliza_Shlesinger</td>\n",
       "      <td>34.285714</td>\n",
       "    </tr>\n",
       "    <tr>\n",
       "      <th>11</th>\n",
       "      <td>Iliza_Shlesinger_2</td>\n",
       "      <td>23.600000</td>\n",
       "    </tr>\n",
       "    <tr>\n",
       "      <th>12</th>\n",
       "      <td>Jim_Gaffigan</td>\n",
       "      <td>12.687500</td>\n",
       "    </tr>\n",
       "    <tr>\n",
       "      <th>13</th>\n",
       "      <td>Jim_Gaffigan_2</td>\n",
       "      <td>25.571429</td>\n",
       "    </tr>\n",
       "    <tr>\n",
       "      <th>14</th>\n",
       "      <td>Jimmy_Yang</td>\n",
       "      <td>23.500000</td>\n",
       "    </tr>\n",
       "    <tr>\n",
       "      <th>15</th>\n",
       "      <td>Jimmy_Yang_2</td>\n",
       "      <td>51.000000</td>\n",
       "    </tr>\n",
       "    <tr>\n",
       "      <th>16</th>\n",
       "      <td>Joe_List</td>\n",
       "      <td>46.333333</td>\n",
       "    </tr>\n",
       "    <tr>\n",
       "      <th>17</th>\n",
       "      <td>Joe_List_2</td>\n",
       "      <td>8.875000</td>\n",
       "    </tr>\n",
       "    <tr>\n",
       "      <th>18</th>\n",
       "      <td>John_Mulaney</td>\n",
       "      <td>30.777778</td>\n",
       "    </tr>\n",
       "    <tr>\n",
       "      <th>19</th>\n",
       "      <td>John_Mulaney_2</td>\n",
       "      <td>17.307692</td>\n",
       "    </tr>\n",
       "    <tr>\n",
       "      <th>20</th>\n",
       "      <td>Louis_CK</td>\n",
       "      <td>42.000000</td>\n",
       "    </tr>\n",
       "    <tr>\n",
       "      <th>21</th>\n",
       "      <td>Louis_CK_2</td>\n",
       "      <td>44.166667</td>\n",
       "    </tr>\n",
       "    <tr>\n",
       "      <th>22</th>\n",
       "      <td>Nate_Bargatze</td>\n",
       "      <td>22.000000</td>\n",
       "    </tr>\n",
       "    <tr>\n",
       "      <th>23</th>\n",
       "      <td>Nate_Bargatze_2</td>\n",
       "      <td>26.062500</td>\n",
       "    </tr>\n",
       "    <tr>\n",
       "      <th>24</th>\n",
       "      <td>Nate_Bargatze_TK</td>\n",
       "      <td>32.000000</td>\n",
       "    </tr>\n",
       "    <tr>\n",
       "      <th>25</th>\n",
       "      <td>Nate_Bargatze_TK_2</td>\n",
       "      <td>22.083333</td>\n",
       "    </tr>\n",
       "    <tr>\n",
       "      <th>26</th>\n",
       "      <td>Russell_Peters</td>\n",
       "      <td>38.083333</td>\n",
       "    </tr>\n",
       "    <tr>\n",
       "      <th>27</th>\n",
       "      <td>Russell_Peters_2</td>\n",
       "      <td>32.857143</td>\n",
       "    </tr>\n",
       "    <tr>\n",
       "      <th>28</th>\n",
       "      <td>Sam_Morril</td>\n",
       "      <td>12.647059</td>\n",
       "    </tr>\n",
       "    <tr>\n",
       "      <th>29</th>\n",
       "      <td>Sam_Morril_2</td>\n",
       "      <td>7.555556</td>\n",
       "    </tr>\n",
       "    <tr>\n",
       "      <th>30</th>\n",
       "      <td>Tom_Segura</td>\n",
       "      <td>29.666667</td>\n",
       "    </tr>\n",
       "    <tr>\n",
       "      <th>31</th>\n",
       "      <td>Tom_Segura_2</td>\n",
       "      <td>30.000000</td>\n",
       "    </tr>\n",
       "    <tr>\n",
       "      <th>32</th>\n",
       "      <td>Trevor_Noah</td>\n",
       "      <td>19.916667</td>\n",
       "    </tr>\n",
       "    <tr>\n",
       "      <th>33</th>\n",
       "      <td>Trevor_Noah_2</td>\n",
       "      <td>30.166667</td>\n",
       "    </tr>\n",
       "  </tbody>\n",
       "</table>\n",
       "</div>"
      ],
      "text/plain": [
       "              comedian      score\n",
       "0             Ali_Wong  26.600000\n",
       "1           Ali_Wong_2  34.500000\n",
       "2     Anthony_Jeselnik  22.714286\n",
       "3   Anthony_Jeselnik_2  58.333333\n",
       "4      Chelsea_Peretti  24.400000\n",
       "5    Chelsea_Peretti_2  27.500000\n",
       "6        Donald_Glover  12.142857\n",
       "7      Donald_Glover_2  14.444444\n",
       "8         Hasan_Minhaj  26.100000\n",
       "9       Hasan_Minhaj_2  25.500000\n",
       "10    Iliza_Shlesinger  34.285714\n",
       "11  Iliza_Shlesinger_2  23.600000\n",
       "12        Jim_Gaffigan  12.687500\n",
       "13      Jim_Gaffigan_2  25.571429\n",
       "14          Jimmy_Yang  23.500000\n",
       "15        Jimmy_Yang_2  51.000000\n",
       "16            Joe_List  46.333333\n",
       "17          Joe_List_2   8.875000\n",
       "18        John_Mulaney  30.777778\n",
       "19      John_Mulaney_2  17.307692\n",
       "20            Louis_CK  42.000000\n",
       "21          Louis_CK_2  44.166667\n",
       "22       Nate_Bargatze  22.000000\n",
       "23     Nate_Bargatze_2  26.062500\n",
       "24    Nate_Bargatze_TK  32.000000\n",
       "25  Nate_Bargatze_TK_2  22.083333\n",
       "26      Russell_Peters  38.083333\n",
       "27    Russell_Peters_2  32.857143\n",
       "28          Sam_Morril  12.647059\n",
       "29        Sam_Morril_2   7.555556\n",
       "30          Tom_Segura  29.666667\n",
       "31        Tom_Segura_2  30.000000\n",
       "32         Trevor_Noah  19.916667\n",
       "33       Trevor_Noah_2  30.166667"
      ]
     },
     "execution_count": 36,
     "metadata": {},
     "output_type": "execute_result"
    }
   ],
   "source": [
    "laugh_metric = bipartite_metric(laugh, ground_truth)\n",
    "laugh_metric"
   ]
  },
  {
   "cell_type": "code",
   "execution_count": 37,
   "metadata": {},
   "outputs": [
    {
     "name": "stderr",
     "output_type": "stream",
     "text": [
      "/tmp/ipykernel_1205684/3345081846.py:1: FutureWarning: Dropping of nuisance columns in DataFrame reductions (with 'numeric_only=None') is deprecated; in a future version this will raise TypeError.  Select only valid columns before calling the reduction.\n",
      "  laugh_metric.mean()\n"
     ]
    },
    {
     "data": {
      "text/plain": [
       "score    27.511146\n",
       "dtype: float64"
      ]
     },
     "execution_count": 37,
     "metadata": {},
     "output_type": "execute_result"
    }
   ],
   "source": [
    "laugh_metric.mean()"
   ]
  },
  {
   "cell_type": "markdown",
   "metadata": {},
   "source": [
    "#### The following is a stand-up comedy transcript. What are the funniest punchlines from the transcript. List of quotes:\""
   ]
  },
  {
   "cell_type": "code",
   "execution_count": 38,
   "metadata": {},
   "outputs": [],
   "source": [
    "punchline = pd.read_csv('/home/ada/humor/data/stand_up_dataset/prompts/punchline_prompt - Sheet1.csv')"
   ]
  },
  {
   "cell_type": "code",
   "execution_count": 39,
   "metadata": {},
   "outputs": [
    {
     "data": {
      "text/html": [
       "<div>\n",
       "<style scoped>\n",
       "    .dataframe tbody tr th:only-of-type {\n",
       "        vertical-align: middle;\n",
       "    }\n",
       "\n",
       "    .dataframe tbody tr th {\n",
       "        vertical-align: top;\n",
       "    }\n",
       "\n",
       "    .dataframe thead th {\n",
       "        text-align: right;\n",
       "    }\n",
       "</style>\n",
       "<table border=\"1\" class=\"dataframe\">\n",
       "  <thead>\n",
       "    <tr style=\"text-align: right;\">\n",
       "      <th></th>\n",
       "      <th>comedian</th>\n",
       "      <th>score</th>\n",
       "    </tr>\n",
       "  </thead>\n",
       "  <tbody>\n",
       "    <tr>\n",
       "      <th>0</th>\n",
       "      <td>Ali_Wong</td>\n",
       "      <td>28.100000</td>\n",
       "    </tr>\n",
       "    <tr>\n",
       "      <th>1</th>\n",
       "      <td>Ali_Wong_2</td>\n",
       "      <td>17.937500</td>\n",
       "    </tr>\n",
       "    <tr>\n",
       "      <th>2</th>\n",
       "      <td>Anthony_Jeselnik</td>\n",
       "      <td>24.000000</td>\n",
       "    </tr>\n",
       "    <tr>\n",
       "      <th>3</th>\n",
       "      <td>Anthony_Jeselnik_2</td>\n",
       "      <td>34.666667</td>\n",
       "    </tr>\n",
       "    <tr>\n",
       "      <th>4</th>\n",
       "      <td>Chelsea_Peretti</td>\n",
       "      <td>24.400000</td>\n",
       "    </tr>\n",
       "    <tr>\n",
       "      <th>5</th>\n",
       "      <td>Chelsea_Peretti_2</td>\n",
       "      <td>14.888889</td>\n",
       "    </tr>\n",
       "    <tr>\n",
       "      <th>6</th>\n",
       "      <td>Donald_Glover</td>\n",
       "      <td>11.857143</td>\n",
       "    </tr>\n",
       "    <tr>\n",
       "      <th>7</th>\n",
       "      <td>Donald_Glover_2</td>\n",
       "      <td>14.333333</td>\n",
       "    </tr>\n",
       "    <tr>\n",
       "      <th>8</th>\n",
       "      <td>Hasan_Minhaj</td>\n",
       "      <td>39.100000</td>\n",
       "    </tr>\n",
       "    <tr>\n",
       "      <th>9</th>\n",
       "      <td>Hasan_Minhaj_2</td>\n",
       "      <td>58.333333</td>\n",
       "    </tr>\n",
       "    <tr>\n",
       "      <th>10</th>\n",
       "      <td>Iliza_Shlesinger</td>\n",
       "      <td>34.285714</td>\n",
       "    </tr>\n",
       "    <tr>\n",
       "      <th>11</th>\n",
       "      <td>Iliza_Shlesinger_2</td>\n",
       "      <td>22.800000</td>\n",
       "    </tr>\n",
       "    <tr>\n",
       "      <th>12</th>\n",
       "      <td>Jim_Gaffigan</td>\n",
       "      <td>26.750000</td>\n",
       "    </tr>\n",
       "    <tr>\n",
       "      <th>13</th>\n",
       "      <td>Jim_Gaffigan_2</td>\n",
       "      <td>19.500000</td>\n",
       "    </tr>\n",
       "    <tr>\n",
       "      <th>14</th>\n",
       "      <td>Jimmy_Yang</td>\n",
       "      <td>28.250000</td>\n",
       "    </tr>\n",
       "    <tr>\n",
       "      <th>15</th>\n",
       "      <td>Jimmy_Yang_2</td>\n",
       "      <td>23.166667</td>\n",
       "    </tr>\n",
       "    <tr>\n",
       "      <th>16</th>\n",
       "      <td>Joe_List</td>\n",
       "      <td>27.666667</td>\n",
       "    </tr>\n",
       "    <tr>\n",
       "      <th>17</th>\n",
       "      <td>Joe_List_2</td>\n",
       "      <td>21.000000</td>\n",
       "    </tr>\n",
       "    <tr>\n",
       "      <th>18</th>\n",
       "      <td>John_Mulaney</td>\n",
       "      <td>30.888889</td>\n",
       "    </tr>\n",
       "    <tr>\n",
       "      <th>19</th>\n",
       "      <td>John_Mulaney_2</td>\n",
       "      <td>17.346154</td>\n",
       "    </tr>\n",
       "    <tr>\n",
       "      <th>20</th>\n",
       "      <td>Louis_CK</td>\n",
       "      <td>43.500000</td>\n",
       "    </tr>\n",
       "    <tr>\n",
       "      <th>21</th>\n",
       "      <td>Louis_CK_2</td>\n",
       "      <td>37.333333</td>\n",
       "    </tr>\n",
       "    <tr>\n",
       "      <th>22</th>\n",
       "      <td>Nate_Bargatze</td>\n",
       "      <td>35.571429</td>\n",
       "    </tr>\n",
       "    <tr>\n",
       "      <th>23</th>\n",
       "      <td>Nate_Bargatze_2</td>\n",
       "      <td>26.187500</td>\n",
       "    </tr>\n",
       "    <tr>\n",
       "      <th>24</th>\n",
       "      <td>Nate_Bargatze_TK</td>\n",
       "      <td>36.714286</td>\n",
       "    </tr>\n",
       "    <tr>\n",
       "      <th>25</th>\n",
       "      <td>Nate_Bargatze_TK_2</td>\n",
       "      <td>22.083333</td>\n",
       "    </tr>\n",
       "    <tr>\n",
       "      <th>26</th>\n",
       "      <td>Russell_Peters</td>\n",
       "      <td>30.083333</td>\n",
       "    </tr>\n",
       "    <tr>\n",
       "      <th>27</th>\n",
       "      <td>Russell_Peters_2</td>\n",
       "      <td>45.238095</td>\n",
       "    </tr>\n",
       "    <tr>\n",
       "      <th>28</th>\n",
       "      <td>Sam_Morril</td>\n",
       "      <td>17.970588</td>\n",
       "    </tr>\n",
       "    <tr>\n",
       "      <th>29</th>\n",
       "      <td>Sam_Morril_2</td>\n",
       "      <td>6.972222</td>\n",
       "    </tr>\n",
       "    <tr>\n",
       "      <th>30</th>\n",
       "      <td>Tom_Segura</td>\n",
       "      <td>38.133333</td>\n",
       "    </tr>\n",
       "    <tr>\n",
       "      <th>31</th>\n",
       "      <td>Tom_Segura_2</td>\n",
       "      <td>19.833333</td>\n",
       "    </tr>\n",
       "    <tr>\n",
       "      <th>32</th>\n",
       "      <td>Trevor_Noah</td>\n",
       "      <td>36.000000</td>\n",
       "    </tr>\n",
       "    <tr>\n",
       "      <th>33</th>\n",
       "      <td>Trevor_Noah_2</td>\n",
       "      <td>31.444444</td>\n",
       "    </tr>\n",
       "  </tbody>\n",
       "</table>\n",
       "</div>"
      ],
      "text/plain": [
       "              comedian      score\n",
       "0             Ali_Wong  28.100000\n",
       "1           Ali_Wong_2  17.937500\n",
       "2     Anthony_Jeselnik  24.000000\n",
       "3   Anthony_Jeselnik_2  34.666667\n",
       "4      Chelsea_Peretti  24.400000\n",
       "5    Chelsea_Peretti_2  14.888889\n",
       "6        Donald_Glover  11.857143\n",
       "7      Donald_Glover_2  14.333333\n",
       "8         Hasan_Minhaj  39.100000\n",
       "9       Hasan_Minhaj_2  58.333333\n",
       "10    Iliza_Shlesinger  34.285714\n",
       "11  Iliza_Shlesinger_2  22.800000\n",
       "12        Jim_Gaffigan  26.750000\n",
       "13      Jim_Gaffigan_2  19.500000\n",
       "14          Jimmy_Yang  28.250000\n",
       "15        Jimmy_Yang_2  23.166667\n",
       "16            Joe_List  27.666667\n",
       "17          Joe_List_2  21.000000\n",
       "18        John_Mulaney  30.888889\n",
       "19      John_Mulaney_2  17.346154\n",
       "20            Louis_CK  43.500000\n",
       "21          Louis_CK_2  37.333333\n",
       "22       Nate_Bargatze  35.571429\n",
       "23     Nate_Bargatze_2  26.187500\n",
       "24    Nate_Bargatze_TK  36.714286\n",
       "25  Nate_Bargatze_TK_2  22.083333\n",
       "26      Russell_Peters  30.083333\n",
       "27    Russell_Peters_2  45.238095\n",
       "28          Sam_Morril  17.970588\n",
       "29        Sam_Morril_2   6.972222\n",
       "30          Tom_Segura  38.133333\n",
       "31        Tom_Segura_2  19.833333\n",
       "32         Trevor_Noah  36.000000\n",
       "33       Trevor_Noah_2  31.444444"
      ]
     },
     "execution_count": 39,
     "metadata": {},
     "output_type": "execute_result"
    }
   ],
   "source": [
    "punchline_metric = bipartite_metric(punchline, ground_truth)\n",
    "punchline_metric"
   ]
  },
  {
   "cell_type": "code",
   "execution_count": 40,
   "metadata": {},
   "outputs": [
    {
     "name": "stderr",
     "output_type": "stream",
     "text": [
      "/tmp/ipykernel_1205684/3771637599.py:1: FutureWarning: Dropping of nuisance columns in DataFrame reductions (with 'numeric_only=None') is deprecated; in a future version this will raise TypeError.  Select only valid columns before calling the reduction.\n",
      "  punchline_metric.mean()\n"
     ]
    },
    {
     "data": {
      "text/plain": [
       "score    27.833417\n",
       "dtype: float64"
      ]
     },
     "execution_count": 40,
     "metadata": {},
     "output_type": "execute_result"
    }
   ],
   "source": [
    "punchline_metric.mean()"
   ]
  },
  {
   "cell_type": "markdown",
   "metadata": {},
   "source": [
    "#### Below is a transcript from a stand-up comedy routine. Analyze the transcript and extract the quotes that are most likely to have made the audience laugh. List of quotes:"
   ]
  },
  {
   "cell_type": "code",
   "execution_count": 41,
   "metadata": {},
   "outputs": [],
   "source": [
    "most_laugh = pd.read_csv('/home/ada/humor/data/stand_up_dataset/prompts/mostlaugh_prompt - Sheet1.csv')"
   ]
  },
  {
   "cell_type": "code",
   "execution_count": 42,
   "metadata": {},
   "outputs": [
    {
     "data": {
      "text/html": [
       "<div>\n",
       "<style scoped>\n",
       "    .dataframe tbody tr th:only-of-type {\n",
       "        vertical-align: middle;\n",
       "    }\n",
       "\n",
       "    .dataframe tbody tr th {\n",
       "        vertical-align: top;\n",
       "    }\n",
       "\n",
       "    .dataframe thead th {\n",
       "        text-align: right;\n",
       "    }\n",
       "</style>\n",
       "<table border=\"1\" class=\"dataframe\">\n",
       "  <thead>\n",
       "    <tr style=\"text-align: right;\">\n",
       "      <th></th>\n",
       "      <th>comedian</th>\n",
       "      <th>score</th>\n",
       "    </tr>\n",
       "  </thead>\n",
       "  <tbody>\n",
       "    <tr>\n",
       "      <th>0</th>\n",
       "      <td>Ali_Wong</td>\n",
       "      <td>37.933333</td>\n",
       "    </tr>\n",
       "    <tr>\n",
       "      <th>1</th>\n",
       "      <td>Ali_Wong_2</td>\n",
       "      <td>28.875000</td>\n",
       "    </tr>\n",
       "    <tr>\n",
       "      <th>2</th>\n",
       "      <td>Anthony_Jeselnik</td>\n",
       "      <td>22.500000</td>\n",
       "    </tr>\n",
       "    <tr>\n",
       "      <th>3</th>\n",
       "      <td>Anthony_Jeselnik_2</td>\n",
       "      <td>26.833333</td>\n",
       "    </tr>\n",
       "    <tr>\n",
       "      <th>4</th>\n",
       "      <td>Chelsea_Peretti</td>\n",
       "      <td>24.400000</td>\n",
       "    </tr>\n",
       "    <tr>\n",
       "      <th>5</th>\n",
       "      <td>Chelsea_Peretti_2</td>\n",
       "      <td>14.888889</td>\n",
       "    </tr>\n",
       "    <tr>\n",
       "      <th>6</th>\n",
       "      <td>Donald_Glover</td>\n",
       "      <td>11.857143</td>\n",
       "    </tr>\n",
       "    <tr>\n",
       "      <th>7</th>\n",
       "      <td>Donald_Glover_2</td>\n",
       "      <td>22.777778</td>\n",
       "    </tr>\n",
       "    <tr>\n",
       "      <th>8</th>\n",
       "      <td>Hasan_Minhaj</td>\n",
       "      <td>25.600000</td>\n",
       "    </tr>\n",
       "    <tr>\n",
       "      <th>9</th>\n",
       "      <td>Hasan_Minhaj_2</td>\n",
       "      <td>46.833333</td>\n",
       "    </tr>\n",
       "    <tr>\n",
       "      <th>10</th>\n",
       "      <td>Iliza_Shlesinger</td>\n",
       "      <td>20.000000</td>\n",
       "    </tr>\n",
       "    <tr>\n",
       "      <th>11</th>\n",
       "      <td>Iliza_Shlesinger_2</td>\n",
       "      <td>22.800000</td>\n",
       "    </tr>\n",
       "    <tr>\n",
       "      <th>12</th>\n",
       "      <td>Jim_Gaffigan</td>\n",
       "      <td>26.750000</td>\n",
       "    </tr>\n",
       "    <tr>\n",
       "      <th>13</th>\n",
       "      <td>Jim_Gaffigan_2</td>\n",
       "      <td>26.142857</td>\n",
       "    </tr>\n",
       "    <tr>\n",
       "      <th>14</th>\n",
       "      <td>Jimmy_Yang</td>\n",
       "      <td>28.833333</td>\n",
       "    </tr>\n",
       "    <tr>\n",
       "      <th>15</th>\n",
       "      <td>Jimmy_Yang_2</td>\n",
       "      <td>42.000000</td>\n",
       "    </tr>\n",
       "    <tr>\n",
       "      <th>16</th>\n",
       "      <td>Joe_List</td>\n",
       "      <td>29.583333</td>\n",
       "    </tr>\n",
       "    <tr>\n",
       "      <th>17</th>\n",
       "      <td>Joe_List_2</td>\n",
       "      <td>10.166667</td>\n",
       "    </tr>\n",
       "    <tr>\n",
       "      <th>18</th>\n",
       "      <td>John_Mulaney</td>\n",
       "      <td>20.444444</td>\n",
       "    </tr>\n",
       "    <tr>\n",
       "      <th>19</th>\n",
       "      <td>John_Mulaney_2</td>\n",
       "      <td>18.230769</td>\n",
       "    </tr>\n",
       "    <tr>\n",
       "      <th>20</th>\n",
       "      <td>Louis_CK</td>\n",
       "      <td>51.833333</td>\n",
       "    </tr>\n",
       "    <tr>\n",
       "      <th>21</th>\n",
       "      <td>Louis_CK_2</td>\n",
       "      <td>29.111111</td>\n",
       "    </tr>\n",
       "    <tr>\n",
       "      <th>22</th>\n",
       "      <td>Nate_Bargatze</td>\n",
       "      <td>20.857143</td>\n",
       "    </tr>\n",
       "    <tr>\n",
       "      <th>23</th>\n",
       "      <td>Nate_Bargatze_2</td>\n",
       "      <td>19.062500</td>\n",
       "    </tr>\n",
       "    <tr>\n",
       "      <th>24</th>\n",
       "      <td>Nate_Bargatze_TK</td>\n",
       "      <td>27.928571</td>\n",
       "    </tr>\n",
       "    <tr>\n",
       "      <th>25</th>\n",
       "      <td>Nate_Bargatze_TK_2</td>\n",
       "      <td>22.083333</td>\n",
       "    </tr>\n",
       "    <tr>\n",
       "      <th>26</th>\n",
       "      <td>Russell_Peters</td>\n",
       "      <td>49.833333</td>\n",
       "    </tr>\n",
       "    <tr>\n",
       "      <th>27</th>\n",
       "      <td>Russell_Peters_2</td>\n",
       "      <td>29.380952</td>\n",
       "    </tr>\n",
       "    <tr>\n",
       "      <th>28</th>\n",
       "      <td>Sam_Morril</td>\n",
       "      <td>17.970588</td>\n",
       "    </tr>\n",
       "    <tr>\n",
       "      <th>29</th>\n",
       "      <td>Sam_Morril_2</td>\n",
       "      <td>13.944444</td>\n",
       "    </tr>\n",
       "    <tr>\n",
       "      <th>30</th>\n",
       "      <td>Tom_Segura</td>\n",
       "      <td>44.800000</td>\n",
       "    </tr>\n",
       "    <tr>\n",
       "      <th>31</th>\n",
       "      <td>Tom_Segura_2</td>\n",
       "      <td>14.833333</td>\n",
       "    </tr>\n",
       "    <tr>\n",
       "      <th>32</th>\n",
       "      <td>Trevor_Noah</td>\n",
       "      <td>19.625000</td>\n",
       "    </tr>\n",
       "    <tr>\n",
       "      <th>33</th>\n",
       "      <td>Trevor_Noah_2</td>\n",
       "      <td>17.833333</td>\n",
       "    </tr>\n",
       "  </tbody>\n",
       "</table>\n",
       "</div>"
      ],
      "text/plain": [
       "              comedian      score\n",
       "0             Ali_Wong  37.933333\n",
       "1           Ali_Wong_2  28.875000\n",
       "2     Anthony_Jeselnik  22.500000\n",
       "3   Anthony_Jeselnik_2  26.833333\n",
       "4      Chelsea_Peretti  24.400000\n",
       "5    Chelsea_Peretti_2  14.888889\n",
       "6        Donald_Glover  11.857143\n",
       "7      Donald_Glover_2  22.777778\n",
       "8         Hasan_Minhaj  25.600000\n",
       "9       Hasan_Minhaj_2  46.833333\n",
       "10    Iliza_Shlesinger  20.000000\n",
       "11  Iliza_Shlesinger_2  22.800000\n",
       "12        Jim_Gaffigan  26.750000\n",
       "13      Jim_Gaffigan_2  26.142857\n",
       "14          Jimmy_Yang  28.833333\n",
       "15        Jimmy_Yang_2  42.000000\n",
       "16            Joe_List  29.583333\n",
       "17          Joe_List_2  10.166667\n",
       "18        John_Mulaney  20.444444\n",
       "19      John_Mulaney_2  18.230769\n",
       "20            Louis_CK  51.833333\n",
       "21          Louis_CK_2  29.111111\n",
       "22       Nate_Bargatze  20.857143\n",
       "23     Nate_Bargatze_2  19.062500\n",
       "24    Nate_Bargatze_TK  27.928571\n",
       "25  Nate_Bargatze_TK_2  22.083333\n",
       "26      Russell_Peters  49.833333\n",
       "27    Russell_Peters_2  29.380952\n",
       "28          Sam_Morril  17.970588\n",
       "29        Sam_Morril_2  13.944444\n",
       "30          Tom_Segura  44.800000\n",
       "31        Tom_Segura_2  14.833333\n",
       "32         Trevor_Noah  19.625000\n",
       "33       Trevor_Noah_2  17.833333"
      ]
     },
     "execution_count": 42,
     "metadata": {},
     "output_type": "execute_result"
    }
   ],
   "source": [
    "most_laugh_metric = bipartite_metric(most_laugh, ground_truth)\n",
    "most_laugh_metric"
   ]
  },
  {
   "cell_type": "code",
   "execution_count": 43,
   "metadata": {},
   "outputs": [
    {
     "name": "stderr",
     "output_type": "stream",
     "text": [
      "/tmp/ipykernel_1205684/3010234896.py:1: FutureWarning: Dropping of nuisance columns in DataFrame reductions (with 'numeric_only=None') is deprecated; in a future version this will raise TypeError.  Select only valid columns before calling the reduction.\n",
      "  most_laugh_metric.mean()\n"
     ]
    },
    {
     "data": {
      "text/plain": [
       "score    26.074917\n",
       "dtype: float64"
      ]
     },
     "execution_count": 43,
     "metadata": {},
     "output_type": "execute_result"
    }
   ],
   "source": [
    "most_laugh_metric.mean()"
   ]
  },
  {
   "cell_type": "code",
   "execution_count": 44,
   "metadata": {},
   "outputs": [],
   "source": [
    "laugh = laugh_metric.assign(model=\"laugh\") \n",
    "punchline = punchline_metric.assign(model=\"punchline\")\n",
    "most_laugh = most_laugh_metric.assign(model=\"most_laugh\")"
   ]
  },
  {
   "cell_type": "code",
   "execution_count": 45,
   "metadata": {},
   "outputs": [],
   "source": [
    "df = pd.concat([gemma, laugh, punchline, most_laugh]).reset_index(drop=True)"
   ]
  },
  {
   "cell_type": "code",
   "execution_count": 46,
   "metadata": {},
   "outputs": [
    {
     "data": {
      "text/plain": [
       "<seaborn.axisgrid.FacetGrid at 0x7f2b45048310>"
      ]
     },
     "execution_count": 46,
     "metadata": {},
     "output_type": "execute_result"
    },
    {
     "data": {
      "image/png": "[encoded data removed]",
      "text/plain": [
       "<Figure size 630.5x500 with 1 Axes>"
      ]
     },
     "metadata": {},
     "output_type": "display_data"
    }
   ],
   "source": [
    "sns.displot(df, x=\"score\", hue=\"model\", kind=\"hist\", shrink=1, multiple=\"dodge\")"
   ]
  },
  {
   "cell_type": "code",
   "execution_count": 47,
   "metadata": {},
   "outputs": [],
   "source": [
    "llm_gt = ground_truth.loc[ground_truth[\"comedian\"].isin([\"John_Mulaney\", \"Jimmy_Yang\", \"Russell_Peters\", \"Ali_Wong\", \"Hasan_Minhaj\"])]"
   ]
  },
  {
   "cell_type": "code",
   "execution_count": 48,
   "metadata": {},
   "outputs": [
    {
     "data": {
      "text/html": [
       "<div>\n",
       "<style scoped>\n",
       "    .dataframe tbody tr th:only-of-type {\n",
       "        vertical-align: middle;\n",
       "    }\n",
       "\n",
       "    .dataframe tbody tr th {\n",
       "        vertical-align: top;\n",
       "    }\n",
       "\n",
       "    .dataframe thead th {\n",
       "        text-align: right;\n",
       "    }\n",
       "</style>\n",
       "<table border=\"1\" class=\"dataframe\">\n",
       "  <thead>\n",
       "    <tr style=\"text-align: right;\">\n",
       "      <th></th>\n",
       "      <th>comedian</th>\n",
       "      <th>laugh_start</th>\n",
       "      <th>laugh_end</th>\n",
       "      <th>sentence</th>\n",
       "    </tr>\n",
       "  </thead>\n",
       "  <tbody>\n",
       "    <tr>\n",
       "      <th>49</th>\n",
       "      <td>John_Mulaney</td>\n",
       "      <td>20.2350</td>\n",
       "      <td>22.6280</td>\n",
       "      <td>My wife and I just gave a bunch of stuff to Go...</td>\n",
       "    </tr>\n",
       "    <tr>\n",
       "      <th>50</th>\n",
       "      <td>John_Mulaney</td>\n",
       "      <td>30.5460</td>\n",
       "      <td>32.0200</td>\n",
       "      <td>And then one day my wife said, \"Hey, you took ...</td>\n",
       "    </tr>\n",
       "    <tr>\n",
       "      <th>51</th>\n",
       "      <td>John_Mulaney</td>\n",
       "      <td>44.3320</td>\n",
       "      <td>46.4850</td>\n",
       "      <td>I was like, \"This one's shirts. I got a bunch ...</td>\n",
       "    </tr>\n",
       "    <tr>\n",
       "      <th>52</th>\n",
       "      <td>John_Mulaney</td>\n",
       "      <td>59.4920</td>\n",
       "      <td>65.8650</td>\n",
       "      <td>He's like, \"Take this receipt for the clothing...</td>\n",
       "    </tr>\n",
       "    <tr>\n",
       "      <th>53</th>\n",
       "      <td>John_Mulaney</td>\n",
       "      <td>67.8500</td>\n",
       "      <td>70.7620</td>\n",
       "      <td>My mom said it could be a sleep shirt. Please ...</td>\n",
       "    </tr>\n",
       "    <tr>\n",
       "      <th>54</th>\n",
       "      <td>John_Mulaney</td>\n",
       "      <td>73.5270</td>\n",
       "      <td>74.2070</td>\n",
       "      <td>That sleep shirt bullshit.</td>\n",
       "    </tr>\n",
       "    <tr>\n",
       "      <th>55</th>\n",
       "      <td>John_Mulaney</td>\n",
       "      <td>83.9075</td>\n",
       "      <td>85.8990</td>\n",
       "      <td>\"Well, if it's too big you can just wear it as...</td>\n",
       "    </tr>\n",
       "    <tr>\n",
       "      <th>56</th>\n",
       "      <td>John_Mulaney</td>\n",
       "      <td>97.7550</td>\n",
       "      <td>105.9800</td>\n",
       "      <td>\"Because we don't say that when someone gives ...</td>\n",
       "    </tr>\n",
       "    <tr>\n",
       "      <th>57</th>\n",
       "      <td>John_Mulaney</td>\n",
       "      <td>113.7820</td>\n",
       "      <td>125.0765</td>\n",
       "      <td>So rather than violate these meaningless polit...</td>\n",
       "    </tr>\n",
       "    <tr>\n",
       "      <th>71</th>\n",
       "      <td>Ali_Wong</td>\n",
       "      <td>21.0070</td>\n",
       "      <td>28.9860</td>\n",
       "      <td>It was like the worst experience of my life. I...</td>\n",
       "    </tr>\n",
       "    <tr>\n",
       "      <th>72</th>\n",
       "      <td>Ali_Wong</td>\n",
       "      <td>33.0050</td>\n",
       "      <td>37.7560</td>\n",
       "      <td>We were screaming and fighting and yelling and...</td>\n",
       "    </tr>\n",
       "    <tr>\n",
       "      <th>73</th>\n",
       "      <td>Ali_Wong</td>\n",
       "      <td>48.8030</td>\n",
       "      <td>51.1890</td>\n",
       "      <td>We were all required to buy it when we were in...</td>\n",
       "    </tr>\n",
       "    <tr>\n",
       "      <th>74</th>\n",
       "      <td>Ali_Wong</td>\n",
       "      <td>58.0010</td>\n",
       "      <td>69.0020</td>\n",
       "      <td>All because what? It could graph.</td>\n",
       "    </tr>\n",
       "    <tr>\n",
       "      <th>75</th>\n",
       "      <td>Ali_Wong</td>\n",
       "      <td>95.5230</td>\n",
       "      <td>98.6840</td>\n",
       "      <td>I do know... that I'm gonna have to clean all ...</td>\n",
       "    </tr>\n",
       "    <tr>\n",
       "      <th>84</th>\n",
       "      <td>Hasan_Minhaj</td>\n",
       "      <td>10.0000</td>\n",
       "      <td>12.5530</td>\n",
       "      <td>This is a real show about a white kid that get...</td>\n",
       "    </tr>\n",
       "    <tr>\n",
       "      <th>85</th>\n",
       "      <td>Hasan_Minhaj</td>\n",
       "      <td>19.7160</td>\n",
       "      <td>25.9600</td>\n",
       "      <td>Are you kidding me? Do you know when br0wn kid...</td>\n",
       "    </tr>\n",
       "    <tr>\n",
       "      <th>86</th>\n",
       "      <td>Hasan_Minhaj</td>\n",
       "      <td>35.2170</td>\n",
       "      <td>38.1300</td>\n",
       "      <td>We go, \"Ah, Biju got slapped on his birthday!\"...</td>\n",
       "    </tr>\n",
       "    <tr>\n",
       "      <th>87</th>\n",
       "      <td>Hasan_Minhaj</td>\n",
       "      <td>59.6170</td>\n",
       "      <td>65.2590</td>\n",
       "      <td>[laughter] That kid won't choke on camera. He'...</td>\n",
       "    </tr>\n",
       "    <tr>\n",
       "      <th>88</th>\n",
       "      <td>Hasan_Minhaj</td>\n",
       "      <td>80.7980</td>\n",
       "      <td>90.0370</td>\n",
       "      <td>Look at his brother. His brother is like, \"I'm...</td>\n",
       "    </tr>\n",
       "    <tr>\n",
       "      <th>137</th>\n",
       "      <td>Jimmy_Yang</td>\n",
       "      <td>4.7230</td>\n",
       "      <td>6.0420</td>\n",
       "      <td>Asian people, we don't need Tinder anymore. We...</td>\n",
       "    </tr>\n",
       "    <tr>\n",
       "      <th>138</th>\n",
       "      <td>Jimmy_Yang</td>\n",
       "      <td>25.1675</td>\n",
       "      <td>27.8760</td>\n",
       "      <td>I think tall women are beautiful. But some of ...</td>\n",
       "    </tr>\n",
       "    <tr>\n",
       "      <th>139</th>\n",
       "      <td>Jimmy_Yang</td>\n",
       "      <td>35.6550</td>\n",
       "      <td>36.3600</td>\n",
       "      <td>She's like, it makes my ass look better. I'm l...</td>\n",
       "    </tr>\n",
       "    <tr>\n",
       "      <th>140</th>\n",
       "      <td>Jimmy_Yang</td>\n",
       "      <td>40.2820</td>\n",
       "      <td>41.8560</td>\n",
       "      <td>Neither of us look good, OK?</td>\n",
       "    </tr>\n",
       "    <tr>\n",
       "      <th>141</th>\n",
       "      <td>Jimmy_Yang</td>\n",
       "      <td>81.6720</td>\n",
       "      <td>83.5250</td>\n",
       "      <td>I was frustrated. I had enough.</td>\n",
       "    </tr>\n",
       "    <tr>\n",
       "      <th>142</th>\n",
       "      <td>Jimmy_Yang</td>\n",
       "      <td>88.1520</td>\n",
       "      <td>89.0440</td>\n",
       "      <td>So I just looked up at her, I was like, hey!</td>\n",
       "    </tr>\n",
       "    <tr>\n",
       "      <th>175</th>\n",
       "      <td>Russell_Peters</td>\n",
       "      <td>10.5490</td>\n",
       "      <td>11.1060</td>\n",
       "      <td>I go, what do you mean what else is wrong with...</td>\n",
       "    </tr>\n",
       "    <tr>\n",
       "      <th>176</th>\n",
       "      <td>Russell_Peters</td>\n",
       "      <td>17.3670</td>\n",
       "      <td>18.7130</td>\n",
       "      <td>I'm like, that's really fucking racist, but si...</td>\n",
       "    </tr>\n",
       "    <tr>\n",
       "      <th>177</th>\n",
       "      <td>Russell_Peters</td>\n",
       "      <td>23.0740</td>\n",
       "      <td>23.7340</td>\n",
       "      <td>I don't know. Does anybody else- who else has ...</td>\n",
       "    </tr>\n",
       "    <tr>\n",
       "      <th>178</th>\n",
       "      <td>Russell_Peters</td>\n",
       "      <td>38.7710</td>\n",
       "      <td>41.3360</td>\n",
       "      <td>Because there is no way you can be Indian and ...</td>\n",
       "    </tr>\n",
       "    <tr>\n",
       "      <th>179</th>\n",
       "      <td>Russell_Peters</td>\n",
       "      <td>51.2510</td>\n",
       "      <td>54.2340</td>\n",
       "      <td>Dad, I want to assure you I have no phagus in ...</td>\n",
       "    </tr>\n",
       "    <tr>\n",
       "      <th>180</th>\n",
       "      <td>Russell_Peters</td>\n",
       "      <td>70.2830</td>\n",
       "      <td>71.2020</td>\n",
       "      <td>You got it, don't you, yellow guy? You do, do ...</td>\n",
       "    </tr>\n",
       "  </tbody>\n",
       "</table>\n",
       "</div>"
      ],
      "text/plain": [
       "           comedian  laugh_start  laugh_end  \\\n",
       "49     John_Mulaney      20.2350    22.6280   \n",
       "50     John_Mulaney      30.5460    32.0200   \n",
       "51     John_Mulaney      44.3320    46.4850   \n",
       "52     John_Mulaney      59.4920    65.8650   \n",
       "53     John_Mulaney      67.8500    70.7620   \n",
       "54     John_Mulaney      73.5270    74.2070   \n",
       "55     John_Mulaney      83.9075    85.8990   \n",
       "56     John_Mulaney      97.7550   105.9800   \n",
       "57     John_Mulaney     113.7820   125.0765   \n",
       "71         Ali_Wong      21.0070    28.9860   \n",
       "72         Ali_Wong      33.0050    37.7560   \n",
       "73         Ali_Wong      48.8030    51.1890   \n",
       "74         Ali_Wong      58.0010    69.0020   \n",
       "75         Ali_Wong      95.5230    98.6840   \n",
       "84     Hasan_Minhaj      10.0000    12.5530   \n",
       "85     Hasan_Minhaj      19.7160    25.9600   \n",
       "86     Hasan_Minhaj      35.2170    38.1300   \n",
       "87     Hasan_Minhaj      59.6170    65.2590   \n",
       "88     Hasan_Minhaj      80.7980    90.0370   \n",
       "137      Jimmy_Yang       4.7230     6.0420   \n",
       "138      Jimmy_Yang      25.1675    27.8760   \n",
       "139      Jimmy_Yang      35.6550    36.3600   \n",
       "140      Jimmy_Yang      40.2820    41.8560   \n",
       "141      Jimmy_Yang      81.6720    83.5250   \n",
       "142      Jimmy_Yang      88.1520    89.0440   \n",
       "175  Russell_Peters      10.5490    11.1060   \n",
       "176  Russell_Peters      17.3670    18.7130   \n",
       "177  Russell_Peters      23.0740    23.7340   \n",
       "178  Russell_Peters      38.7710    41.3360   \n",
       "179  Russell_Peters      51.2510    54.2340   \n",
       "180  Russell_Peters      70.2830    71.2020   \n",
       "\n",
       "                                              sentence  \n",
       "49   My wife and I just gave a bunch of stuff to Go...  \n",
       "50   And then one day my wife said, \"Hey, you took ...  \n",
       "51   I was like, \"This one's shirts. I got a bunch ...  \n",
       "52   He's like, \"Take this receipt for the clothing...  \n",
       "53   My mom said it could be a sleep shirt. Please ...  \n",
       "54                          That sleep shirt bullshit.  \n",
       "55   \"Well, if it's too big you can just wear it as...  \n",
       "56   \"Because we don't say that when someone gives ...  \n",
       "57   So rather than violate these meaningless polit...  \n",
       "71   It was like the worst experience of my life. I...  \n",
       "72   We were screaming and fighting and yelling and...  \n",
       "73   We were all required to buy it when we were in...  \n",
       "74                   All because what? It could graph.  \n",
       "75   I do know... that I'm gonna have to clean all ...  \n",
       "84   This is a real show about a white kid that get...  \n",
       "85   Are you kidding me? Do you know when br0wn kid...  \n",
       "86   We go, \"Ah, Biju got slapped on his birthday!\"...  \n",
       "87   [laughter] That kid won't choke on camera. He'...  \n",
       "88   Look at his brother. His brother is like, \"I'm...  \n",
       "137  Asian people, we don't need Tinder anymore. We...  \n",
       "138  I think tall women are beautiful. But some of ...  \n",
       "139  She's like, it makes my ass look better. I'm l...  \n",
       "140                       Neither of us look good, OK?  \n",
       "141                    I was frustrated. I had enough.  \n",
       "142       So I just looked up at her, I was like, hey!  \n",
       "175  I go, what do you mean what else is wrong with...  \n",
       "176  I'm like, that's really fucking racist, but si...  \n",
       "177  I don't know. Does anybody else- who else has ...  \n",
       "178  Because there is no way you can be Indian and ...  \n",
       "179  Dad, I want to assure you I have no phagus in ...  \n",
       "180  You got it, don't you, yellow guy? You do, do ...  "
      ]
     },
     "execution_count": 48,
     "metadata": {},
     "output_type": "execute_result"
    }
   ],
   "source": [
    "llm_gt"
   ]
  },
  {
   "cell_type": "code",
   "execution_count": 49,
   "metadata": {},
   "outputs": [],
   "source": [
    "chatgpt = pd.read_csv(\"/home/ada/humor/data/stand_up_dataset/Chat_GPT_results - Sheet1.csv\")"
   ]
  },
  {
   "cell_type": "code",
   "execution_count": 50,
   "metadata": {},
   "outputs": [
    {
     "data": {
      "text/html": [
       "<div>\n",
       "<style scoped>\n",
       "    .dataframe tbody tr th:only-of-type {\n",
       "        vertical-align: middle;\n",
       "    }\n",
       "\n",
       "    .dataframe tbody tr th {\n",
       "        vertical-align: top;\n",
       "    }\n",
       "\n",
       "    .dataframe thead th {\n",
       "        text-align: right;\n",
       "    }\n",
       "</style>\n",
       "<table border=\"1\" class=\"dataframe\">\n",
       "  <thead>\n",
       "    <tr style=\"text-align: right;\">\n",
       "      <th></th>\n",
       "      <th>comedian</th>\n",
       "      <th>sentence</th>\n",
       "    </tr>\n",
       "  </thead>\n",
       "  <tbody>\n",
       "    <tr>\n",
       "      <th>0</th>\n",
       "      <td>Jimmy_Yang</td>\n",
       "      <td>Asian people, we don’t need Tinder anymore. We...</td>\n",
       "    </tr>\n",
       "    <tr>\n",
       "      <th>1</th>\n",
       "      <td>Jimmy_Yang</td>\n",
       "      <td>I’ve been dating a lot of tall girls lately, b...</td>\n",
       "    </tr>\n",
       "    <tr>\n",
       "      <th>2</th>\n",
       "      <td>Jimmy_Yang</td>\n",
       "      <td>She’s like, it makes my ass look better. I’m l...</td>\n",
       "    </tr>\n",
       "    <tr>\n",
       "      <th>3</th>\n",
       "      <td>Jimmy_Yang</td>\n",
       "      <td>Last time– the last time I took a tall girl to...</td>\n",
       "    </tr>\n",
       "    <tr>\n",
       "      <th>4</th>\n",
       "      <td>Jimmy_Yang</td>\n",
       "      <td>I’m 5′ 5″. I just go to concerts to smell othe...</td>\n",
       "    </tr>\n",
       "    <tr>\n",
       "      <th>5</th>\n",
       "      <td>Jimmy_Yang</td>\n",
       "      <td>She was having the time of her life, doing wha...</td>\n",
       "    </tr>\n",
       "    <tr>\n",
       "      <th>6</th>\n",
       "      <td>Jimmy_Yang</td>\n",
       "      <td>I was frustrated. I had enough. So I just look...</td>\n",
       "    </tr>\n",
       "    <tr>\n",
       "      <th>7</th>\n",
       "      <td>Russell_Peters</td>\n",
       "      <td>He goes, look, you’re a 48-year-old Indian man...</td>\n",
       "    </tr>\n",
       "    <tr>\n",
       "      <th>8</th>\n",
       "      <td>Russell_Peters</td>\n",
       "      <td>There is no way you can be Indian and not have...</td>\n",
       "    </tr>\n",
       "    <tr>\n",
       "      <th>9</th>\n",
       "      <td>Russell_Peters</td>\n",
       "      <td>There’s no way you can consume the food that w...</td>\n",
       "    </tr>\n",
       "    <tr>\n",
       "      <th>10</th>\n",
       "      <td>Russell_Peters</td>\n",
       "      <td>Dad, I want to assure you I have no phagus in ...</td>\n",
       "    </tr>\n",
       "    <tr>\n",
       "      <th>11</th>\n",
       "      <td>Russell_Peters</td>\n",
       "      <td>I’m looking at all of you, especially all the ...</td>\n",
       "    </tr>\n",
       "    <tr>\n",
       "      <th>12</th>\n",
       "      <td>John_Mulaney</td>\n",
       "      <td>We made these big piles of clothes, we put the...</td>\n",
       "    </tr>\n",
       "    <tr>\n",
       "      <th>13</th>\n",
       "      <td>John_Mulaney</td>\n",
       "      <td>One day my wife said, 'Hey, you took that stuf...</td>\n",
       "    </tr>\n",
       "    <tr>\n",
       "      <th>14</th>\n",
       "      <td>John_Mulaney</td>\n",
       "      <td>It was charitable, but it was also fast and vi...</td>\n",
       "    </tr>\n",
       "    <tr>\n",
       "      <th>15</th>\n",
       "      <td>John_Mulaney</td>\n",
       "      <td>The boxes were so heavy I couldn’t even say wh...</td>\n",
       "    </tr>\n",
       "    <tr>\n",
       "      <th>16</th>\n",
       "      <td>John_Mulaney</td>\n",
       "      <td>The guy tried to give me a big receipt. He’s l...</td>\n",
       "    </tr>\n",
       "    <tr>\n",
       "      <th>17</th>\n",
       "      <td>John_Mulaney</td>\n",
       "      <td>That sleep shirt bullshit. 'Well, if it’s too ...</td>\n",
       "    </tr>\n",
       "    <tr>\n",
       "      <th>18</th>\n",
       "      <td>John_Mulaney</td>\n",
       "      <td>Because we don’t say that when someone gives u...</td>\n",
       "    </tr>\n",
       "    <tr>\n",
       "      <th>19</th>\n",
       "      <td>John_Mulaney</td>\n",
       "      <td>Why don’t you give me a candle for looking in ...</td>\n",
       "    </tr>\n",
       "    <tr>\n",
       "      <th>20</th>\n",
       "      <td>John_Mulaney</td>\n",
       "      <td>Was there ever even a ghost, Mother, or was th...</td>\n",
       "    </tr>\n",
       "    <tr>\n",
       "      <th>21</th>\n",
       "      <td>Ali_Wong</td>\n",
       "      <td>The last time I was at home in San Francisco, ...</td>\n",
       "    </tr>\n",
       "    <tr>\n",
       "      <th>22</th>\n",
       "      <td>Ali_Wong</td>\n",
       "      <td>It was so emotional. We were screaming and fig...</td>\n",
       "    </tr>\n",
       "    <tr>\n",
       "      <th>23</th>\n",
       "      <td>Ali_Wong</td>\n",
       "      <td>Those of you under 25 probably don't know what...</td>\n",
       "    </tr>\n",
       "    <tr>\n",
       "      <th>24</th>\n",
       "      <td>Ali_Wong</td>\n",
       "      <td>And everybody thought it was like this Judy Je...</td>\n",
       "    </tr>\n",
       "    <tr>\n",
       "      <th>25</th>\n",
       "      <td>Ali_Wong</td>\n",
       "      <td>And my mom got so emotional about the manual a...</td>\n",
       "    </tr>\n",
       "    <tr>\n",
       "      <th>26</th>\n",
       "      <td>Ali_Wong</td>\n",
       "      <td>And I was like, 'But... I do know... that I'm ...</td>\n",
       "    </tr>\n",
       "    <tr>\n",
       "      <th>27</th>\n",
       "      <td>Ali_Wong</td>\n",
       "      <td>And I'm not trying to be a procrastinator anym...</td>\n",
       "    </tr>\n",
       "    <tr>\n",
       "      <th>28</th>\n",
       "      <td>Hasan_Minhaj</td>\n",
       "      <td>Have you seen the show called The Slap? This i...</td>\n",
       "    </tr>\n",
       "    <tr>\n",
       "      <th>29</th>\n",
       "      <td>Hasan_Minhaj</td>\n",
       "      <td>Do you know when brown kids get slapped? Every...</td>\n",
       "    </tr>\n",
       "    <tr>\n",
       "      <th>30</th>\n",
       "      <td>Hasan_Minhaj</td>\n",
       "      <td>And that’s what makes us tough and resilient. ...</td>\n",
       "    </tr>\n",
       "    <tr>\n",
       "      <th>31</th>\n",
       "      <td>Hasan_Minhaj</td>\n",
       "      <td>You ever seen an Indian kid win a spelling bee...</td>\n",
       "    </tr>\n",
       "    <tr>\n",
       "      <th>32</th>\n",
       "      <td>Hasan_Minhaj</td>\n",
       "      <td>Of course he can spell 'knaidel'. Knaidel. Loo...</td>\n",
       "    </tr>\n",
       "    <tr>\n",
       "      <th>33</th>\n",
       "      <td>Hasan_Minhaj</td>\n",
       "      <td>People ask, 'Where does that come from?' Look ...</td>\n",
       "    </tr>\n",
       "    <tr>\n",
       "      <th>34</th>\n",
       "      <td>Hasan_Minhaj</td>\n",
       "      <td>People say, 'Where’s Bobby Jindal from?' That’...</td>\n",
       "    </tr>\n",
       "  </tbody>\n",
       "</table>\n",
       "</div>"
      ],
      "text/plain": [
       "          comedian                                           sentence\n",
       "0       Jimmy_Yang  Asian people, we don’t need Tinder anymore. We...\n",
       "1       Jimmy_Yang  I’ve been dating a lot of tall girls lately, b...\n",
       "2       Jimmy_Yang  She’s like, it makes my ass look better. I’m l...\n",
       "3       Jimmy_Yang  Last time– the last time I took a tall girl to...\n",
       "4       Jimmy_Yang  I’m 5′ 5″. I just go to concerts to smell othe...\n",
       "5       Jimmy_Yang  She was having the time of her life, doing wha...\n",
       "6       Jimmy_Yang  I was frustrated. I had enough. So I just look...\n",
       "7   Russell_Peters  He goes, look, you’re a 48-year-old Indian man...\n",
       "8   Russell_Peters  There is no way you can be Indian and not have...\n",
       "9   Russell_Peters  There’s no way you can consume the food that w...\n",
       "10  Russell_Peters  Dad, I want to assure you I have no phagus in ...\n",
       "11  Russell_Peters  I’m looking at all of you, especially all the ...\n",
       "12    John_Mulaney  We made these big piles of clothes, we put the...\n",
       "13    John_Mulaney  One day my wife said, 'Hey, you took that stuf...\n",
       "14    John_Mulaney  It was charitable, but it was also fast and vi...\n",
       "15    John_Mulaney  The boxes were so heavy I couldn’t even say wh...\n",
       "16    John_Mulaney  The guy tried to give me a big receipt. He’s l...\n",
       "17    John_Mulaney  That sleep shirt bullshit. 'Well, if it’s too ...\n",
       "18    John_Mulaney  Because we don’t say that when someone gives u...\n",
       "19    John_Mulaney  Why don’t you give me a candle for looking in ...\n",
       "20    John_Mulaney  Was there ever even a ghost, Mother, or was th...\n",
       "21        Ali_Wong  The last time I was at home in San Francisco, ...\n",
       "22        Ali_Wong  It was so emotional. We were screaming and fig...\n",
       "23        Ali_Wong  Those of you under 25 probably don't know what...\n",
       "24        Ali_Wong  And everybody thought it was like this Judy Je...\n",
       "25        Ali_Wong  And my mom got so emotional about the manual a...\n",
       "26        Ali_Wong  And I was like, 'But... I do know... that I'm ...\n",
       "27        Ali_Wong  And I'm not trying to be a procrastinator anym...\n",
       "28    Hasan_Minhaj  Have you seen the show called The Slap? This i...\n",
       "29    Hasan_Minhaj  Do you know when brown kids get slapped? Every...\n",
       "30    Hasan_Minhaj  And that’s what makes us tough and resilient. ...\n",
       "31    Hasan_Minhaj  You ever seen an Indian kid win a spelling bee...\n",
       "32    Hasan_Minhaj  Of course he can spell 'knaidel'. Knaidel. Loo...\n",
       "33    Hasan_Minhaj  People ask, 'Where does that come from?' Look ...\n",
       "34    Hasan_Minhaj  People say, 'Where’s Bobby Jindal from?' That’..."
      ]
     },
     "execution_count": 50,
     "metadata": {},
     "output_type": "execute_result"
    }
   ],
   "source": [
    "chatgpt"
   ]
  },
  {
   "cell_type": "code",
   "execution_count": 51,
   "metadata": {},
   "outputs": [
    {
     "data": {
      "text/html": [
       "<div>\n",
       "<style scoped>\n",
       "    .dataframe tbody tr th:only-of-type {\n",
       "        vertical-align: middle;\n",
       "    }\n",
       "\n",
       "    .dataframe tbody tr th {\n",
       "        vertical-align: top;\n",
       "    }\n",
       "\n",
       "    .dataframe thead th {\n",
       "        text-align: right;\n",
       "    }\n",
       "</style>\n",
       "<table border=\"1\" class=\"dataframe\">\n",
       "  <thead>\n",
       "    <tr style=\"text-align: right;\">\n",
       "      <th></th>\n",
       "      <th>comedian</th>\n",
       "      <th>score</th>\n",
       "    </tr>\n",
       "  </thead>\n",
       "  <tbody>\n",
       "    <tr>\n",
       "      <th>0</th>\n",
       "      <td>Ali_Wong</td>\n",
       "      <td>41.100000</td>\n",
       "    </tr>\n",
       "    <tr>\n",
       "      <th>1</th>\n",
       "      <td>Hasan_Minhaj</td>\n",
       "      <td>34.400000</td>\n",
       "    </tr>\n",
       "    <tr>\n",
       "      <th>2</th>\n",
       "      <td>Jimmy_Yang</td>\n",
       "      <td>26.958333</td>\n",
       "    </tr>\n",
       "    <tr>\n",
       "      <th>3</th>\n",
       "      <td>John_Mulaney</td>\n",
       "      <td>39.055556</td>\n",
       "    </tr>\n",
       "    <tr>\n",
       "      <th>4</th>\n",
       "      <td>Russell_Peters</td>\n",
       "      <td>42.000000</td>\n",
       "    </tr>\n",
       "  </tbody>\n",
       "</table>\n",
       "</div>"
      ],
      "text/plain": [
       "         comedian      score\n",
       "0        Ali_Wong  41.100000\n",
       "1    Hasan_Minhaj  34.400000\n",
       "2      Jimmy_Yang  26.958333\n",
       "3    John_Mulaney  39.055556\n",
       "4  Russell_Peters  42.000000"
      ]
     },
     "execution_count": 51,
     "metadata": {},
     "output_type": "execute_result"
    }
   ],
   "source": [
    "chatgpt_metric = bipartite_metric(chatgpt, llm_gt)\n",
    "chatgpt_metric"
   ]
  },
  {
   "cell_type": "code",
   "execution_count": 52,
   "metadata": {},
   "outputs": [
    {
     "name": "stderr",
     "output_type": "stream",
     "text": [
      "/tmp/ipykernel_1205684/1572520876.py:1: FutureWarning: Dropping of nuisance columns in DataFrame reductions (with 'numeric_only=None') is deprecated; in a future version this will raise TypeError.  Select only valid columns before calling the reduction.\n",
      "  chatgpt_metric.mean()\n"
     ]
    },
    {
     "data": {
      "text/plain": [
       "score    36.702778\n",
       "dtype: float64"
      ]
     },
     "execution_count": 52,
     "metadata": {},
     "output_type": "execute_result"
    }
   ],
   "source": [
    "chatgpt_metric.mean()"
   ]
  },
  {
   "cell_type": "code",
   "execution_count": 53,
   "metadata": {},
   "outputs": [],
   "source": [
    "claude = pd.read_csv(\"/home/ada/humor/data/stand_up_dataset/Claude_results - Sheet1.csv\")"
   ]
  },
  {
   "cell_type": "code",
   "execution_count": 54,
   "metadata": {},
   "outputs": [
    {
     "data": {
      "text/html": [
       "<div>\n",
       "<style scoped>\n",
       "    .dataframe tbody tr th:only-of-type {\n",
       "        vertical-align: middle;\n",
       "    }\n",
       "\n",
       "    .dataframe tbody tr th {\n",
       "        vertical-align: top;\n",
       "    }\n",
       "\n",
       "    .dataframe thead th {\n",
       "        text-align: right;\n",
       "    }\n",
       "</style>\n",
       "<table border=\"1\" class=\"dataframe\">\n",
       "  <thead>\n",
       "    <tr style=\"text-align: right;\">\n",
       "      <th></th>\n",
       "      <th>comedian</th>\n",
       "      <th>score</th>\n",
       "    </tr>\n",
       "  </thead>\n",
       "  <tbody>\n",
       "    <tr>\n",
       "      <th>0</th>\n",
       "      <td>Ali_Wong</td>\n",
       "      <td>46.633333</td>\n",
       "    </tr>\n",
       "    <tr>\n",
       "      <th>1</th>\n",
       "      <td>Hasan_Minhaj</td>\n",
       "      <td>46.066667</td>\n",
       "    </tr>\n",
       "    <tr>\n",
       "      <th>2</th>\n",
       "      <td>Jimmy_Yang</td>\n",
       "      <td>28.500000</td>\n",
       "    </tr>\n",
       "    <tr>\n",
       "      <th>3</th>\n",
       "      <td>John_Mulaney</td>\n",
       "      <td>33.222222</td>\n",
       "    </tr>\n",
       "    <tr>\n",
       "      <th>4</th>\n",
       "      <td>Russell_Peters</td>\n",
       "      <td>34.250000</td>\n",
       "    </tr>\n",
       "  </tbody>\n",
       "</table>\n",
       "</div>"
      ],
      "text/plain": [
       "         comedian      score\n",
       "0        Ali_Wong  46.633333\n",
       "1    Hasan_Minhaj  46.066667\n",
       "2      Jimmy_Yang  28.500000\n",
       "3    John_Mulaney  33.222222\n",
       "4  Russell_Peters  34.250000"
      ]
     },
     "execution_count": 54,
     "metadata": {},
     "output_type": "execute_result"
    }
   ],
   "source": [
    "claude_metric = bipartite_metric(claude, llm_gt)\n",
    "claude_metric"
   ]
  },
  {
   "cell_type": "code",
   "execution_count": 55,
   "metadata": {},
   "outputs": [
    {
     "name": "stderr",
     "output_type": "stream",
     "text": [
      "/tmp/ipykernel_1205684/2380763216.py:1: FutureWarning: Dropping of nuisance columns in DataFrame reductions (with 'numeric_only=None') is deprecated; in a future version this will raise TypeError.  Select only valid columns before calling the reduction.\n",
      "  claude_metric.mean()\n"
     ]
    },
    {
     "data": {
      "text/plain": [
       "score    37.734444\n",
       "dtype: float64"
      ]
     },
     "execution_count": 55,
     "metadata": {},
     "output_type": "execute_result"
    }
   ],
   "source": [
    "claude_metric.mean()"
   ]
  },
  {
   "cell_type": "code",
   "execution_count": 56,
   "metadata": {},
   "outputs": [],
   "source": [
    "gemma_llm = model.loc[model[\"comedian\"].isin([\"John_Mulaney\", \"Jimmy_Yang\", \"Russell_Peters\", \"Ali_Wong\", \"Hasan_Minhaj\"])]"
   ]
  },
  {
   "cell_type": "code",
   "execution_count": 57,
   "metadata": {},
   "outputs": [
    {
     "name": "stderr",
     "output_type": "stream",
     "text": [
      "/tmp/ipykernel_1205684/1130048052.py:2: FutureWarning: Dropping of nuisance columns in DataFrame reductions (with 'numeric_only=None') is deprecated; in a future version this will raise TypeError.  Select only valid columns before calling the reduction.\n",
      "  gemma_llm_metric.mean()\n"
     ]
    },
    {
     "data": {
      "text/plain": [
       "score    30.728889\n",
       "dtype: float64"
      ]
     },
     "execution_count": 57,
     "metadata": {},
     "output_type": "execute_result"
    }
   ],
   "source": [
    "gemma_llm_metric = bipartite_metric(gemma_llm, llm_gt)\n",
    "gemma_llm_metric.mean()"
   ]
  },
  {
   "cell_type": "code",
   "execution_count": 58,
   "metadata": {},
   "outputs": [],
   "source": [
    "gemma = gemma_llm_metric.assign(model = \"gemma\")\n",
    "claude = claude_metric.assign(model=\"claude\") \n",
    "chatgpt = chatgpt_metric.assign(model=\"chatgpt\")"
   ]
  },
  {
   "cell_type": "code",
   "execution_count": 59,
   "metadata": {},
   "outputs": [],
   "source": [
    "df = pd.concat([gemma, claude, chatgpt]).reset_index(drop=True)"
   ]
  },
  {
   "cell_type": "code",
   "execution_count": 60,
   "metadata": {},
   "outputs": [
    {
     "data": {
      "text/plain": [
       "<seaborn.axisgrid.FacetGrid at 0x7f2b42b64ca0>"
      ]
     },
     "execution_count": 60,
     "metadata": {},
     "output_type": "execute_result"
    },
    {
     "data": {
      "image/png": "[encoded data removed]",
      "text/plain": [
       "<Figure size 603.75x500 with 1 Axes>"
      ]
     },
     "metadata": {},
     "output_type": "display_data"
    }
   ],
   "source": [
    "sns.displot(df, x=\"score\", hue=\"model\", kind=\"hist\", shrink=1, multiple=\"dodge\")"
   ]
  },
  {
   "cell_type": "markdown",
   "metadata": {},
   "source": [
    "## More tokens"
   ]
  },
  {
   "cell_type": "code",
   "execution_count": 61,
   "metadata": {},
   "outputs": [],
   "source": [
    "gemma200 = pd.read_csv(\"/home/ada/humor/data/stand_up_dataset/gemma200tokens - Sheet1.csv\")"
   ]
  },
  {
   "cell_type": "code",
   "execution_count": 62,
   "metadata": {},
   "outputs": [
    {
     "data": {
      "text/html": [
       "<div>\n",
       "<style scoped>\n",
       "    .dataframe tbody tr th:only-of-type {\n",
       "        vertical-align: middle;\n",
       "    }\n",
       "\n",
       "    .dataframe tbody tr th {\n",
       "        vertical-align: top;\n",
       "    }\n",
       "\n",
       "    .dataframe thead th {\n",
       "        text-align: right;\n",
       "    }\n",
       "</style>\n",
       "<table border=\"1\" class=\"dataframe\">\n",
       "  <thead>\n",
       "    <tr style=\"text-align: right;\">\n",
       "      <th></th>\n",
       "      <th>comedian</th>\n",
       "      <th>score</th>\n",
       "    </tr>\n",
       "  </thead>\n",
       "  <tbody>\n",
       "    <tr>\n",
       "      <th>0</th>\n",
       "      <td>Ali_Wong</td>\n",
       "      <td>35.300000</td>\n",
       "    </tr>\n",
       "    <tr>\n",
       "      <th>1</th>\n",
       "      <td>Ali_Wong_2</td>\n",
       "      <td>29.125000</td>\n",
       "    </tr>\n",
       "    <tr>\n",
       "      <th>2</th>\n",
       "      <td>Anthony_Jeselnik</td>\n",
       "      <td>42.214286</td>\n",
       "    </tr>\n",
       "    <tr>\n",
       "      <th>3</th>\n",
       "      <td>Anthony_Jeselnik_2</td>\n",
       "      <td>62.666667</td>\n",
       "    </tr>\n",
       "    <tr>\n",
       "      <th>4</th>\n",
       "      <td>Chelsea_Peretti</td>\n",
       "      <td>24.400000</td>\n",
       "    </tr>\n",
       "    <tr>\n",
       "      <th>5</th>\n",
       "      <td>Chelsea_Peretti_2</td>\n",
       "      <td>18.000000</td>\n",
       "    </tr>\n",
       "    <tr>\n",
       "      <th>6</th>\n",
       "      <td>Donald_Glover</td>\n",
       "      <td>34.000000</td>\n",
       "    </tr>\n",
       "    <tr>\n",
       "      <th>7</th>\n",
       "      <td>Donald_Glover_2</td>\n",
       "      <td>19.833333</td>\n",
       "    </tr>\n",
       "    <tr>\n",
       "      <th>8</th>\n",
       "      <td>Hasan_Minhaj</td>\n",
       "      <td>32.300000</td>\n",
       "    </tr>\n",
       "    <tr>\n",
       "      <th>9</th>\n",
       "      <td>Hasan_Minhaj_2</td>\n",
       "      <td>32.666667</td>\n",
       "    </tr>\n",
       "    <tr>\n",
       "      <th>10</th>\n",
       "      <td>Iliza_Shlesinger</td>\n",
       "      <td>37.857143</td>\n",
       "    </tr>\n",
       "    <tr>\n",
       "      <th>11</th>\n",
       "      <td>Iliza_Shlesinger_2</td>\n",
       "      <td>27.400000</td>\n",
       "    </tr>\n",
       "    <tr>\n",
       "      <th>12</th>\n",
       "      <td>Jim_Gaffigan</td>\n",
       "      <td>23.562500</td>\n",
       "    </tr>\n",
       "    <tr>\n",
       "      <th>13</th>\n",
       "      <td>Jim_Gaffigan_2</td>\n",
       "      <td>22.571429</td>\n",
       "    </tr>\n",
       "    <tr>\n",
       "      <th>14</th>\n",
       "      <td>Jimmy_Yang</td>\n",
       "      <td>19.833333</td>\n",
       "    </tr>\n",
       "    <tr>\n",
       "      <th>15</th>\n",
       "      <td>Jimmy_Yang_2</td>\n",
       "      <td>51.083333</td>\n",
       "    </tr>\n",
       "    <tr>\n",
       "      <th>16</th>\n",
       "      <td>Joe_List</td>\n",
       "      <td>32.500000</td>\n",
       "    </tr>\n",
       "    <tr>\n",
       "      <th>17</th>\n",
       "      <td>Joe_List_2</td>\n",
       "      <td>18.250000</td>\n",
       "    </tr>\n",
       "    <tr>\n",
       "      <th>18</th>\n",
       "      <td>John_Mulaney</td>\n",
       "      <td>31.666667</td>\n",
       "    </tr>\n",
       "    <tr>\n",
       "      <th>19</th>\n",
       "      <td>John_Mulaney_2</td>\n",
       "      <td>13.923077</td>\n",
       "    </tr>\n",
       "    <tr>\n",
       "      <th>20</th>\n",
       "      <td>Louis_CK</td>\n",
       "      <td>55.166667</td>\n",
       "    </tr>\n",
       "    <tr>\n",
       "      <th>21</th>\n",
       "      <td>Louis_CK_2</td>\n",
       "      <td>52.666667</td>\n",
       "    </tr>\n",
       "    <tr>\n",
       "      <th>22</th>\n",
       "      <td>Nate_Bargatze</td>\n",
       "      <td>29.714286</td>\n",
       "    </tr>\n",
       "    <tr>\n",
       "      <th>23</th>\n",
       "      <td>Nate_Bargatze_2</td>\n",
       "      <td>10.166667</td>\n",
       "    </tr>\n",
       "    <tr>\n",
       "      <th>24</th>\n",
       "      <td>Nate_Bargatze_TK</td>\n",
       "      <td>38.428571</td>\n",
       "    </tr>\n",
       "    <tr>\n",
       "      <th>25</th>\n",
       "      <td>Nate_Bargatze_TK_2</td>\n",
       "      <td>40.500000</td>\n",
       "    </tr>\n",
       "    <tr>\n",
       "      <th>26</th>\n",
       "      <td>Russell_Peters</td>\n",
       "      <td>38.500000</td>\n",
       "    </tr>\n",
       "    <tr>\n",
       "      <th>27</th>\n",
       "      <td>Russell_Peters_2</td>\n",
       "      <td>43.214286</td>\n",
       "    </tr>\n",
       "    <tr>\n",
       "      <th>28</th>\n",
       "      <td>Sam_Morril</td>\n",
       "      <td>24.176471</td>\n",
       "    </tr>\n",
       "    <tr>\n",
       "      <th>29</th>\n",
       "      <td>Sam_Morril_2</td>\n",
       "      <td>13.361111</td>\n",
       "    </tr>\n",
       "    <tr>\n",
       "      <th>30</th>\n",
       "      <td>Tom_Segura</td>\n",
       "      <td>30.650000</td>\n",
       "    </tr>\n",
       "    <tr>\n",
       "      <th>31</th>\n",
       "      <td>Tom_Segura_2</td>\n",
       "      <td>17.583333</td>\n",
       "    </tr>\n",
       "    <tr>\n",
       "      <th>32</th>\n",
       "      <td>Trevor_Noah</td>\n",
       "      <td>22.583333</td>\n",
       "    </tr>\n",
       "    <tr>\n",
       "      <th>33</th>\n",
       "      <td>Trevor_Noah_2</td>\n",
       "      <td>24.916667</td>\n",
       "    </tr>\n",
       "  </tbody>\n",
       "</table>\n",
       "</div>"
      ],
      "text/plain": [
       "              comedian      score\n",
       "0             Ali_Wong  35.300000\n",
       "1           Ali_Wong_2  29.125000\n",
       "2     Anthony_Jeselnik  42.214286\n",
       "3   Anthony_Jeselnik_2  62.666667\n",
       "4      Chelsea_Peretti  24.400000\n",
       "5    Chelsea_Peretti_2  18.000000\n",
       "6        Donald_Glover  34.000000\n",
       "7      Donald_Glover_2  19.833333\n",
       "8         Hasan_Minhaj  32.300000\n",
       "9       Hasan_Minhaj_2  32.666667\n",
       "10    Iliza_Shlesinger  37.857143\n",
       "11  Iliza_Shlesinger_2  27.400000\n",
       "12        Jim_Gaffigan  23.562500\n",
       "13      Jim_Gaffigan_2  22.571429\n",
       "14          Jimmy_Yang  19.833333\n",
       "15        Jimmy_Yang_2  51.083333\n",
       "16            Joe_List  32.500000\n",
       "17          Joe_List_2  18.250000\n",
       "18        John_Mulaney  31.666667\n",
       "19      John_Mulaney_2  13.923077\n",
       "20            Louis_CK  55.166667\n",
       "21          Louis_CK_2  52.666667\n",
       "22       Nate_Bargatze  29.714286\n",
       "23     Nate_Bargatze_2  10.166667\n",
       "24    Nate_Bargatze_TK  38.428571\n",
       "25  Nate_Bargatze_TK_2  40.500000\n",
       "26      Russell_Peters  38.500000\n",
       "27    Russell_Peters_2  43.214286\n",
       "28          Sam_Morril  24.176471\n",
       "29        Sam_Morril_2  13.361111\n",
       "30          Tom_Segura  30.650000\n",
       "31        Tom_Segura_2  17.583333\n",
       "32         Trevor_Noah  22.583333\n",
       "33       Trevor_Noah_2  24.916667"
      ]
     },
     "execution_count": 62,
     "metadata": {},
     "output_type": "execute_result"
    }
   ],
   "source": [
    "gemma200_metric = bipartite_metric(gemma200, ground_truth)\n",
    "gemma200_metric"
   ]
  },
  {
   "cell_type": "code",
   "execution_count": 63,
   "metadata": {},
   "outputs": [
    {
     "name": "stderr",
     "output_type": "stream",
     "text": [
      "/tmp/ipykernel_1205684/568904367.py:1: FutureWarning: Dropping of nuisance columns in DataFrame reductions (with 'numeric_only=None') is deprecated; in a future version this will raise TypeError.  Select only valid columns before calling the reduction.\n",
      "  gemma200_metric.mean()\n"
     ]
    },
    {
     "data": {
      "text/plain": [
       "score    30.905338\n",
       "dtype: float64"
      ]
     },
     "execution_count": 63,
     "metadata": {},
     "output_type": "execute_result"
    }
   ],
   "source": [
    "gemma200_metric.mean()"
   ]
  },
  {
   "cell_type": "code",
   "execution_count": 64,
   "metadata": {},
   "outputs": [
    {
     "name": "stderr",
     "output_type": "stream",
     "text": [
      "/tmp/ipykernel_1205684/1305976714.py:2: FutureWarning: Dropping of nuisance columns in DataFrame reductions (with 'numeric_only=None') is deprecated; in a future version this will raise TypeError.  Select only valid columns before calling the reduction.\n",
      "  gemma_metric.mean()\n"
     ]
    },
    {
     "data": {
      "text/plain": [
       "score    28.661892\n",
       "dtype: float64"
      ]
     },
     "execution_count": 64,
     "metadata": {},
     "output_type": "execute_result"
    }
   ],
   "source": [
    "gemma_metric = bipartite_metric(model, ground_truth)\n",
    "gemma_metric.mean()"
   ]
  },
  {
   "cell_type": "code",
   "execution_count": 65,
   "metadata": {},
   "outputs": [],
   "source": [
    "gemma = gemma_metric.assign(model = \"gemma\")\n",
    "gemma200 = gemma200_metric.assign(model=\"gemma200\") \n"
   ]
  },
  {
   "cell_type": "code",
   "execution_count": 66,
   "metadata": {},
   "outputs": [
    {
     "data": {
      "text/plain": [
       "<seaborn.axisgrid.FacetGrid at 0x7f2b4506a6d0>"
      ]
     },
     "execution_count": 66,
     "metadata": {},
     "output_type": "execute_result"
    },
    {
     "data": {
      "image/png": "[encoded data removed]",
      "text/plain": [
       "<Figure size 629.25x500 with 1 Axes>"
      ]
     },
     "metadata": {},
     "output_type": "display_data"
    }
   ],
   "source": [
    "sns.displot(pd.concat([gemma, gemma200]).reset_index(drop=True), x=\"score\", hue=\"model\", kind=\"hist\", shrink=1, multiple=\"dodge\")"
   ]
  },
  {
   "cell_type": "markdown",
   "metadata": {},
   "source": [
    "# Play pretend"
   ]
  },
  {
   "cell_type": "code",
   "execution_count": 67,
   "metadata": {},
   "outputs": [
    {
     "data": {
      "text/html": [
       "<div>\n",
       "<style scoped>\n",
       "    .dataframe tbody tr th:only-of-type {\n",
       "        vertical-align: middle;\n",
       "    }\n",
       "\n",
       "    .dataframe tbody tr th {\n",
       "        vertical-align: top;\n",
       "    }\n",
       "\n",
       "    .dataframe thead th {\n",
       "        text-align: right;\n",
       "    }\n",
       "</style>\n",
       "<table border=\"1\" class=\"dataframe\">\n",
       "  <thead>\n",
       "    <tr style=\"text-align: right;\">\n",
       "      <th></th>\n",
       "      <th>comedian</th>\n",
       "      <th>score</th>\n",
       "    </tr>\n",
       "  </thead>\n",
       "  <tbody>\n",
       "    <tr>\n",
       "      <th>0</th>\n",
       "      <td>Ali_Wong</td>\n",
       "      <td>27.400000</td>\n",
       "    </tr>\n",
       "    <tr>\n",
       "      <th>1</th>\n",
       "      <td>Ali_Wong_2</td>\n",
       "      <td>34.125000</td>\n",
       "    </tr>\n",
       "    <tr>\n",
       "      <th>2</th>\n",
       "      <td>Anthony_Jeselnik</td>\n",
       "      <td>33.857143</td>\n",
       "    </tr>\n",
       "    <tr>\n",
       "      <th>3</th>\n",
       "      <td>Anthony_Jeselnik_2</td>\n",
       "      <td>34.666667</td>\n",
       "    </tr>\n",
       "    <tr>\n",
       "      <th>4</th>\n",
       "      <td>Chelsea_Peretti</td>\n",
       "      <td>24.400000</td>\n",
       "    </tr>\n",
       "    <tr>\n",
       "      <th>5</th>\n",
       "      <td>Chelsea_Peretti_2</td>\n",
       "      <td>18.000000</td>\n",
       "    </tr>\n",
       "    <tr>\n",
       "      <th>6</th>\n",
       "      <td>Donald_Glover</td>\n",
       "      <td>21.000000</td>\n",
       "    </tr>\n",
       "    <tr>\n",
       "      <th>7</th>\n",
       "      <td>Donald_Glover_2</td>\n",
       "      <td>15.888889</td>\n",
       "    </tr>\n",
       "    <tr>\n",
       "      <th>8</th>\n",
       "      <td>Hasan_Minhaj</td>\n",
       "      <td>37.400000</td>\n",
       "    </tr>\n",
       "    <tr>\n",
       "      <th>9</th>\n",
       "      <td>Hasan_Minhaj_2</td>\n",
       "      <td>34.166667</td>\n",
       "    </tr>\n",
       "    <tr>\n",
       "      <th>10</th>\n",
       "      <td>Iliza_Shlesinger</td>\n",
       "      <td>21.428571</td>\n",
       "    </tr>\n",
       "    <tr>\n",
       "      <th>11</th>\n",
       "      <td>Iliza_Shlesinger_2</td>\n",
       "      <td>12.800000</td>\n",
       "    </tr>\n",
       "    <tr>\n",
       "      <th>12</th>\n",
       "      <td>Jim_Gaffigan</td>\n",
       "      <td>22.625000</td>\n",
       "    </tr>\n",
       "    <tr>\n",
       "      <th>13</th>\n",
       "      <td>Jim_Gaffigan_2</td>\n",
       "      <td>36.571429</td>\n",
       "    </tr>\n",
       "    <tr>\n",
       "      <th>14</th>\n",
       "      <td>Jimmy_Yang</td>\n",
       "      <td>23.250000</td>\n",
       "    </tr>\n",
       "    <tr>\n",
       "      <th>15</th>\n",
       "      <td>Jimmy_Yang_2</td>\n",
       "      <td>51.125000</td>\n",
       "    </tr>\n",
       "    <tr>\n",
       "      <th>16</th>\n",
       "      <td>Joe_List</td>\n",
       "      <td>33.833333</td>\n",
       "    </tr>\n",
       "    <tr>\n",
       "      <th>17</th>\n",
       "      <td>Joe_List_2</td>\n",
       "      <td>15.250000</td>\n",
       "    </tr>\n",
       "    <tr>\n",
       "      <th>18</th>\n",
       "      <td>John_Mulaney</td>\n",
       "      <td>19.555556</td>\n",
       "    </tr>\n",
       "    <tr>\n",
       "      <th>19</th>\n",
       "      <td>John_Mulaney_2</td>\n",
       "      <td>21.153846</td>\n",
       "    </tr>\n",
       "    <tr>\n",
       "      <th>20</th>\n",
       "      <td>Louis_CK</td>\n",
       "      <td>52.083333</td>\n",
       "    </tr>\n",
       "    <tr>\n",
       "      <th>21</th>\n",
       "      <td>Louis_CK_2</td>\n",
       "      <td>29.111111</td>\n",
       "    </tr>\n",
       "    <tr>\n",
       "      <th>22</th>\n",
       "      <td>Nate_Bargatze</td>\n",
       "      <td>22.523810</td>\n",
       "    </tr>\n",
       "    <tr>\n",
       "      <th>23</th>\n",
       "      <td>Nate_Bargatze_2</td>\n",
       "      <td>16.750000</td>\n",
       "    </tr>\n",
       "    <tr>\n",
       "      <th>24</th>\n",
       "      <td>Nate_Bargatze_TK</td>\n",
       "      <td>17.142857</td>\n",
       "    </tr>\n",
       "    <tr>\n",
       "      <th>25</th>\n",
       "      <td>Nate_Bargatze_TK_2</td>\n",
       "      <td>31.166667</td>\n",
       "    </tr>\n",
       "    <tr>\n",
       "      <th>26</th>\n",
       "      <td>Russell_Peters</td>\n",
       "      <td>38.500000</td>\n",
       "    </tr>\n",
       "    <tr>\n",
       "      <th>27</th>\n",
       "      <td>Russell_Peters_2</td>\n",
       "      <td>32.666667</td>\n",
       "    </tr>\n",
       "    <tr>\n",
       "      <th>28</th>\n",
       "      <td>Sam_Morril</td>\n",
       "      <td>9.705882</td>\n",
       "    </tr>\n",
       "    <tr>\n",
       "      <th>29</th>\n",
       "      <td>Sam_Morril_2</td>\n",
       "      <td>4.944444</td>\n",
       "    </tr>\n",
       "    <tr>\n",
       "      <th>30</th>\n",
       "      <td>Tom_Segura</td>\n",
       "      <td>27.050000</td>\n",
       "    </tr>\n",
       "    <tr>\n",
       "      <th>31</th>\n",
       "      <td>Tom_Segura_2</td>\n",
       "      <td>11.666667</td>\n",
       "    </tr>\n",
       "    <tr>\n",
       "      <th>32</th>\n",
       "      <td>Trevor_Noah</td>\n",
       "      <td>11.875000</td>\n",
       "    </tr>\n",
       "    <tr>\n",
       "      <th>33</th>\n",
       "      <td>Trevor_Noah_2</td>\n",
       "      <td>18.333333</td>\n",
       "    </tr>\n",
       "  </tbody>\n",
       "</table>\n",
       "</div>"
      ],
      "text/plain": [
       "              comedian      score\n",
       "0             Ali_Wong  27.400000\n",
       "1           Ali_Wong_2  34.125000\n",
       "2     Anthony_Jeselnik  33.857143\n",
       "3   Anthony_Jeselnik_2  34.666667\n",
       "4      Chelsea_Peretti  24.400000\n",
       "5    Chelsea_Peretti_2  18.000000\n",
       "6        Donald_Glover  21.000000\n",
       "7      Donald_Glover_2  15.888889\n",
       "8         Hasan_Minhaj  37.400000\n",
       "9       Hasan_Minhaj_2  34.166667\n",
       "10    Iliza_Shlesinger  21.428571\n",
       "11  Iliza_Shlesinger_2  12.800000\n",
       "12        Jim_Gaffigan  22.625000\n",
       "13      Jim_Gaffigan_2  36.571429\n",
       "14          Jimmy_Yang  23.250000\n",
       "15        Jimmy_Yang_2  51.125000\n",
       "16            Joe_List  33.833333\n",
       "17          Joe_List_2  15.250000\n",
       "18        John_Mulaney  19.555556\n",
       "19      John_Mulaney_2  21.153846\n",
       "20            Louis_CK  52.083333\n",
       "21          Louis_CK_2  29.111111\n",
       "22       Nate_Bargatze  22.523810\n",
       "23     Nate_Bargatze_2  16.750000\n",
       "24    Nate_Bargatze_TK  17.142857\n",
       "25  Nate_Bargatze_TK_2  31.166667\n",
       "26      Russell_Peters  38.500000\n",
       "27    Russell_Peters_2  32.666667\n",
       "28          Sam_Morril   9.705882\n",
       "29        Sam_Morril_2   4.944444\n",
       "30          Tom_Segura  27.050000\n",
       "31        Tom_Segura_2  11.666667\n",
       "32         Trevor_Noah  11.875000\n",
       "33       Trevor_Noah_2  18.333333"
      ]
     },
     "execution_count": 67,
     "metadata": {},
     "output_type": "execute_result"
    }
   ],
   "source": [
    "comedian_pretend = pd.read_csv(\"/home/ada/humor/data/stand_up_dataset/comedian_quotes - Sheet1.csv\")\n",
    "comedian_pretend_metric = bipartite_metric(comedian_pretend, ground_truth)\n",
    "comedian_pretend_metric"
   ]
  },
  {
   "cell_type": "code",
   "execution_count": 75,
   "metadata": {},
   "outputs": [
    {
     "name": "stderr",
     "output_type": "stream",
     "text": [
      "/tmp/ipykernel_1205684/1875112182.py:1: FutureWarning: Dropping of nuisance columns in DataFrame reductions (with 'numeric_only=None') is deprecated; in a future version this will raise TypeError.  Select only valid columns before calling the reduction.\n",
      "  comedian_pretend_metric.mean()\n"
     ]
    },
    {
     "data": {
      "text/plain": [
       "score    25.353437\n",
       "dtype: float64"
      ]
     },
     "execution_count": 75,
     "metadata": {},
     "output_type": "execute_result"
    }
   ],
   "source": [
    "comedian_pretend_metric.mean()"
   ]
  },
  {
   "cell_type": "code",
   "execution_count": 68,
   "metadata": {},
   "outputs": [
    {
     "data": {
      "text/html": [
       "<div>\n",
       "<style scoped>\n",
       "    .dataframe tbody tr th:only-of-type {\n",
       "        vertical-align: middle;\n",
       "    }\n",
       "\n",
       "    .dataframe tbody tr th {\n",
       "        vertical-align: top;\n",
       "    }\n",
       "\n",
       "    .dataframe thead th {\n",
       "        text-align: right;\n",
       "    }\n",
       "</style>\n",
       "<table border=\"1\" class=\"dataframe\">\n",
       "  <thead>\n",
       "    <tr style=\"text-align: right;\">\n",
       "      <th></th>\n",
       "      <th>comedian</th>\n",
       "      <th>score</th>\n",
       "    </tr>\n",
       "  </thead>\n",
       "  <tbody>\n",
       "    <tr>\n",
       "      <th>0</th>\n",
       "      <td>Ali_Wong</td>\n",
       "      <td>27.400000</td>\n",
       "    </tr>\n",
       "    <tr>\n",
       "      <th>1</th>\n",
       "      <td>Ali_Wong_2</td>\n",
       "      <td>31.750000</td>\n",
       "    </tr>\n",
       "    <tr>\n",
       "      <th>2</th>\n",
       "      <td>Anthony_Jeselnik</td>\n",
       "      <td>33.857143</td>\n",
       "    </tr>\n",
       "    <tr>\n",
       "      <th>3</th>\n",
       "      <td>Anthony_Jeselnik_2</td>\n",
       "      <td>63.333333</td>\n",
       "    </tr>\n",
       "    <tr>\n",
       "      <th>4</th>\n",
       "      <td>Chelsea_Peretti</td>\n",
       "      <td>24.400000</td>\n",
       "    </tr>\n",
       "    <tr>\n",
       "      <th>5</th>\n",
       "      <td>Chelsea_Peretti_2</td>\n",
       "      <td>18.000000</td>\n",
       "    </tr>\n",
       "    <tr>\n",
       "      <th>6</th>\n",
       "      <td>Donald_Glover</td>\n",
       "      <td>21.000000</td>\n",
       "    </tr>\n",
       "    <tr>\n",
       "      <th>7</th>\n",
       "      <td>Donald_Glover_2</td>\n",
       "      <td>15.888889</td>\n",
       "    </tr>\n",
       "    <tr>\n",
       "      <th>8</th>\n",
       "      <td>Hasan_Minhaj</td>\n",
       "      <td>48.200000</td>\n",
       "    </tr>\n",
       "    <tr>\n",
       "      <th>9</th>\n",
       "      <td>Hasan_Minhaj_2</td>\n",
       "      <td>34.166667</td>\n",
       "    </tr>\n",
       "    <tr>\n",
       "      <th>10</th>\n",
       "      <td>Iliza_Shlesinger</td>\n",
       "      <td>23.857143</td>\n",
       "    </tr>\n",
       "    <tr>\n",
       "      <th>11</th>\n",
       "      <td>Iliza_Shlesinger_2</td>\n",
       "      <td>12.800000</td>\n",
       "    </tr>\n",
       "    <tr>\n",
       "      <th>12</th>\n",
       "      <td>Jim_Gaffigan</td>\n",
       "      <td>22.625000</td>\n",
       "    </tr>\n",
       "    <tr>\n",
       "      <th>13</th>\n",
       "      <td>Jim_Gaffigan_2</td>\n",
       "      <td>36.428571</td>\n",
       "    </tr>\n",
       "    <tr>\n",
       "      <th>14</th>\n",
       "      <td>Jimmy_Yang</td>\n",
       "      <td>23.250000</td>\n",
       "    </tr>\n",
       "    <tr>\n",
       "      <th>15</th>\n",
       "      <td>Jimmy_Yang_2</td>\n",
       "      <td>51.125000</td>\n",
       "    </tr>\n",
       "    <tr>\n",
       "      <th>16</th>\n",
       "      <td>Joe_List</td>\n",
       "      <td>46.333333</td>\n",
       "    </tr>\n",
       "    <tr>\n",
       "      <th>17</th>\n",
       "      <td>Joe_List_2</td>\n",
       "      <td>15.250000</td>\n",
       "    </tr>\n",
       "    <tr>\n",
       "      <th>18</th>\n",
       "      <td>John_Mulaney</td>\n",
       "      <td>19.555556</td>\n",
       "    </tr>\n",
       "    <tr>\n",
       "      <th>19</th>\n",
       "      <td>John_Mulaney_2</td>\n",
       "      <td>21.153846</td>\n",
       "    </tr>\n",
       "    <tr>\n",
       "      <th>20</th>\n",
       "      <td>Louis_CK</td>\n",
       "      <td>52.083333</td>\n",
       "    </tr>\n",
       "    <tr>\n",
       "      <th>21</th>\n",
       "      <td>Louis_CK_2</td>\n",
       "      <td>29.111111</td>\n",
       "    </tr>\n",
       "    <tr>\n",
       "      <th>22</th>\n",
       "      <td>Nate_Bargatze</td>\n",
       "      <td>22.928571</td>\n",
       "    </tr>\n",
       "    <tr>\n",
       "      <th>23</th>\n",
       "      <td>Nate_Bargatze_2</td>\n",
       "      <td>14.125000</td>\n",
       "    </tr>\n",
       "    <tr>\n",
       "      <th>24</th>\n",
       "      <td>Nate_Bargatze_TK</td>\n",
       "      <td>17.142857</td>\n",
       "    </tr>\n",
       "    <tr>\n",
       "      <th>25</th>\n",
       "      <td>Nate_Bargatze_TK_2</td>\n",
       "      <td>31.166667</td>\n",
       "    </tr>\n",
       "    <tr>\n",
       "      <th>26</th>\n",
       "      <td>Russell_Peters</td>\n",
       "      <td>38.500000</td>\n",
       "    </tr>\n",
       "    <tr>\n",
       "      <th>27</th>\n",
       "      <td>Russell_Peters_2</td>\n",
       "      <td>32.666667</td>\n",
       "    </tr>\n",
       "    <tr>\n",
       "      <th>28</th>\n",
       "      <td>Sam_Morril</td>\n",
       "      <td>9.705882</td>\n",
       "    </tr>\n",
       "    <tr>\n",
       "      <th>29</th>\n",
       "      <td>Sam_Morril_2</td>\n",
       "      <td>4.944444</td>\n",
       "    </tr>\n",
       "    <tr>\n",
       "      <th>30</th>\n",
       "      <td>Tom_Segura</td>\n",
       "      <td>30.700000</td>\n",
       "    </tr>\n",
       "    <tr>\n",
       "      <th>31</th>\n",
       "      <td>Tom_Segura_2</td>\n",
       "      <td>28.333333</td>\n",
       "    </tr>\n",
       "    <tr>\n",
       "      <th>32</th>\n",
       "      <td>Trevor_Noah</td>\n",
       "      <td>12.375000</td>\n",
       "    </tr>\n",
       "    <tr>\n",
       "      <th>33</th>\n",
       "      <td>Trevor_Noah_2</td>\n",
       "      <td>18.333333</td>\n",
       "    </tr>\n",
       "  </tbody>\n",
       "</table>\n",
       "</div>"
      ],
      "text/plain": [
       "              comedian      score\n",
       "0             Ali_Wong  27.400000\n",
       "1           Ali_Wong_2  31.750000\n",
       "2     Anthony_Jeselnik  33.857143\n",
       "3   Anthony_Jeselnik_2  63.333333\n",
       "4      Chelsea_Peretti  24.400000\n",
       "5    Chelsea_Peretti_2  18.000000\n",
       "6        Donald_Glover  21.000000\n",
       "7      Donald_Glover_2  15.888889\n",
       "8         Hasan_Minhaj  48.200000\n",
       "9       Hasan_Minhaj_2  34.166667\n",
       "10    Iliza_Shlesinger  23.857143\n",
       "11  Iliza_Shlesinger_2  12.800000\n",
       "12        Jim_Gaffigan  22.625000\n",
       "13      Jim_Gaffigan_2  36.428571\n",
       "14          Jimmy_Yang  23.250000\n",
       "15        Jimmy_Yang_2  51.125000\n",
       "16            Joe_List  46.333333\n",
       "17          Joe_List_2  15.250000\n",
       "18        John_Mulaney  19.555556\n",
       "19      John_Mulaney_2  21.153846\n",
       "20            Louis_CK  52.083333\n",
       "21          Louis_CK_2  29.111111\n",
       "22       Nate_Bargatze  22.928571\n",
       "23     Nate_Bargatze_2  14.125000\n",
       "24    Nate_Bargatze_TK  17.142857\n",
       "25  Nate_Bargatze_TK_2  31.166667\n",
       "26      Russell_Peters  38.500000\n",
       "27    Russell_Peters_2  32.666667\n",
       "28          Sam_Morril   9.705882\n",
       "29        Sam_Morril_2   4.944444\n",
       "30          Tom_Segura  30.700000\n",
       "31        Tom_Segura_2  28.333333\n",
       "32         Trevor_Noah  12.375000\n",
       "33       Trevor_Noah_2  18.333333"
      ]
     },
     "execution_count": 68,
     "metadata": {},
     "output_type": "execute_result"
    }
   ],
   "source": [
    "comedyfan_pretend = pd.read_csv(\"/home/ada/humor/data/stand_up_dataset/comedy_fan_laughter_quotes - Sheet1.csv\")\n",
    "comedyfan_pretend_metric = bipartite_metric(comedyfan_pretend, ground_truth)\n",
    "comedyfan_pretend_metric"
   ]
  },
  {
   "cell_type": "code",
   "execution_count": 74,
   "metadata": {},
   "outputs": [
    {
     "name": "stderr",
     "output_type": "stream",
     "text": [
      "/tmp/ipykernel_1205684/3683433526.py:1: FutureWarning: Dropping of nuisance columns in DataFrame reductions (with 'numeric_only=None') is deprecated; in a future version this will raise TypeError.  Select only valid columns before calling the reduction.\n",
      "  comedyfan_pretend_metric.mean()\n"
     ]
    },
    {
     "data": {
      "text/plain": [
       "score    27.426196\n",
       "dtype: float64"
      ]
     },
     "execution_count": 74,
     "metadata": {},
     "output_type": "execute_result"
    }
   ],
   "source": [
    "comedyfan_pretend_metric.mean()"
   ]
  },
  {
   "cell_type": "code",
   "execution_count": 69,
   "metadata": {},
   "outputs": [
    {
     "data": {
      "text/html": [
       "<div>\n",
       "<style scoped>\n",
       "    .dataframe tbody tr th:only-of-type {\n",
       "        vertical-align: middle;\n",
       "    }\n",
       "\n",
       "    .dataframe tbody tr th {\n",
       "        vertical-align: top;\n",
       "    }\n",
       "\n",
       "    .dataframe thead th {\n",
       "        text-align: right;\n",
       "    }\n",
       "</style>\n",
       "<table border=\"1\" class=\"dataframe\">\n",
       "  <thead>\n",
       "    <tr style=\"text-align: right;\">\n",
       "      <th></th>\n",
       "      <th>comedian</th>\n",
       "      <th>score</th>\n",
       "    </tr>\n",
       "  </thead>\n",
       "  <tbody>\n",
       "    <tr>\n",
       "      <th>0</th>\n",
       "      <td>Ali_Wong</td>\n",
       "      <td>30.000000</td>\n",
       "    </tr>\n",
       "    <tr>\n",
       "      <th>1</th>\n",
       "      <td>Ali_Wong_2</td>\n",
       "      <td>21.625000</td>\n",
       "    </tr>\n",
       "    <tr>\n",
       "      <th>2</th>\n",
       "      <td>Anthony_Jeselnik</td>\n",
       "      <td>33.857143</td>\n",
       "    </tr>\n",
       "    <tr>\n",
       "      <th>3</th>\n",
       "      <td>Anthony_Jeselnik_2</td>\n",
       "      <td>63.333333</td>\n",
       "    </tr>\n",
       "    <tr>\n",
       "      <th>4</th>\n",
       "      <td>Chelsea_Peretti</td>\n",
       "      <td>24.400000</td>\n",
       "    </tr>\n",
       "    <tr>\n",
       "      <th>5</th>\n",
       "      <td>Chelsea_Peretti_2</td>\n",
       "      <td>18.000000</td>\n",
       "    </tr>\n",
       "    <tr>\n",
       "      <th>6</th>\n",
       "      <td>Donald_Glover</td>\n",
       "      <td>21.000000</td>\n",
       "    </tr>\n",
       "    <tr>\n",
       "      <th>7</th>\n",
       "      <td>Donald_Glover_2</td>\n",
       "      <td>15.888889</td>\n",
       "    </tr>\n",
       "    <tr>\n",
       "      <th>8</th>\n",
       "      <td>Hasan_Minhaj</td>\n",
       "      <td>14.200000</td>\n",
       "    </tr>\n",
       "    <tr>\n",
       "      <th>9</th>\n",
       "      <td>Hasan_Minhaj_2</td>\n",
       "      <td>34.166667</td>\n",
       "    </tr>\n",
       "    <tr>\n",
       "      <th>10</th>\n",
       "      <td>Iliza_Shlesinger</td>\n",
       "      <td>23.857143</td>\n",
       "    </tr>\n",
       "    <tr>\n",
       "      <th>11</th>\n",
       "      <td>Iliza_Shlesinger_2</td>\n",
       "      <td>12.800000</td>\n",
       "    </tr>\n",
       "    <tr>\n",
       "      <th>12</th>\n",
       "      <td>Jim_Gaffigan</td>\n",
       "      <td>22.625000</td>\n",
       "    </tr>\n",
       "    <tr>\n",
       "      <th>13</th>\n",
       "      <td>Jim_Gaffigan_2</td>\n",
       "      <td>36.571429</td>\n",
       "    </tr>\n",
       "    <tr>\n",
       "      <th>14</th>\n",
       "      <td>Jimmy_Yang</td>\n",
       "      <td>23.250000</td>\n",
       "    </tr>\n",
       "    <tr>\n",
       "      <th>15</th>\n",
       "      <td>Jimmy_Yang_2</td>\n",
       "      <td>51.125000</td>\n",
       "    </tr>\n",
       "    <tr>\n",
       "      <th>16</th>\n",
       "      <td>Joe_List</td>\n",
       "      <td>46.333333</td>\n",
       "    </tr>\n",
       "    <tr>\n",
       "      <th>17</th>\n",
       "      <td>Joe_List_2</td>\n",
       "      <td>15.250000</td>\n",
       "    </tr>\n",
       "    <tr>\n",
       "      <th>18</th>\n",
       "      <td>John_Mulaney</td>\n",
       "      <td>19.555556</td>\n",
       "    </tr>\n",
       "    <tr>\n",
       "      <th>19</th>\n",
       "      <td>John_Mulaney_2</td>\n",
       "      <td>21.153846</td>\n",
       "    </tr>\n",
       "    <tr>\n",
       "      <th>20</th>\n",
       "      <td>Louis_CK</td>\n",
       "      <td>52.083333</td>\n",
       "    </tr>\n",
       "    <tr>\n",
       "      <th>21</th>\n",
       "      <td>Louis_CK_2</td>\n",
       "      <td>29.111111</td>\n",
       "    </tr>\n",
       "    <tr>\n",
       "      <th>22</th>\n",
       "      <td>Nate_Bargatze</td>\n",
       "      <td>22.928571</td>\n",
       "    </tr>\n",
       "    <tr>\n",
       "      <th>23</th>\n",
       "      <td>Nate_Bargatze_2</td>\n",
       "      <td>14.125000</td>\n",
       "    </tr>\n",
       "    <tr>\n",
       "      <th>24</th>\n",
       "      <td>Nate_Bargatze_TK</td>\n",
       "      <td>17.142857</td>\n",
       "    </tr>\n",
       "    <tr>\n",
       "      <th>25</th>\n",
       "      <td>Nate_Bargatze_TK_2</td>\n",
       "      <td>31.166667</td>\n",
       "    </tr>\n",
       "    <tr>\n",
       "      <th>26</th>\n",
       "      <td>Russell_Peters</td>\n",
       "      <td>38.500000</td>\n",
       "    </tr>\n",
       "    <tr>\n",
       "      <th>27</th>\n",
       "      <td>Russell_Peters_2</td>\n",
       "      <td>32.666667</td>\n",
       "    </tr>\n",
       "    <tr>\n",
       "      <th>28</th>\n",
       "      <td>Sam_Morril</td>\n",
       "      <td>7.352941</td>\n",
       "    </tr>\n",
       "    <tr>\n",
       "      <th>29</th>\n",
       "      <td>Sam_Morril_2</td>\n",
       "      <td>5.000000</td>\n",
       "    </tr>\n",
       "    <tr>\n",
       "      <th>30</th>\n",
       "      <td>Tom_Segura</td>\n",
       "      <td>26.850000</td>\n",
       "    </tr>\n",
       "    <tr>\n",
       "      <th>31</th>\n",
       "      <td>Tom_Segura_2</td>\n",
       "      <td>15.500000</td>\n",
       "    </tr>\n",
       "    <tr>\n",
       "      <th>32</th>\n",
       "      <td>Trevor_Noah</td>\n",
       "      <td>12.125000</td>\n",
       "    </tr>\n",
       "    <tr>\n",
       "      <th>33</th>\n",
       "      <td>Trevor_Noah_2</td>\n",
       "      <td>18.333333</td>\n",
       "    </tr>\n",
       "  </tbody>\n",
       "</table>\n",
       "</div>"
      ],
      "text/plain": [
       "              comedian      score\n",
       "0             Ali_Wong  30.000000\n",
       "1           Ali_Wong_2  21.625000\n",
       "2     Anthony_Jeselnik  33.857143\n",
       "3   Anthony_Jeselnik_2  63.333333\n",
       "4      Chelsea_Peretti  24.400000\n",
       "5    Chelsea_Peretti_2  18.000000\n",
       "6        Donald_Glover  21.000000\n",
       "7      Donald_Glover_2  15.888889\n",
       "8         Hasan_Minhaj  14.200000\n",
       "9       Hasan_Minhaj_2  34.166667\n",
       "10    Iliza_Shlesinger  23.857143\n",
       "11  Iliza_Shlesinger_2  12.800000\n",
       "12        Jim_Gaffigan  22.625000\n",
       "13      Jim_Gaffigan_2  36.571429\n",
       "14          Jimmy_Yang  23.250000\n",
       "15        Jimmy_Yang_2  51.125000\n",
       "16            Joe_List  46.333333\n",
       "17          Joe_List_2  15.250000\n",
       "18        John_Mulaney  19.555556\n",
       "19      John_Mulaney_2  21.153846\n",
       "20            Louis_CK  52.083333\n",
       "21          Louis_CK_2  29.111111\n",
       "22       Nate_Bargatze  22.928571\n",
       "23     Nate_Bargatze_2  14.125000\n",
       "24    Nate_Bargatze_TK  17.142857\n",
       "25  Nate_Bargatze_TK_2  31.166667\n",
       "26      Russell_Peters  38.500000\n",
       "27    Russell_Peters_2  32.666667\n",
       "28          Sam_Morril   7.352941\n",
       "29        Sam_Morril_2   5.000000\n",
       "30          Tom_Segura  26.850000\n",
       "31        Tom_Segura_2  15.500000\n",
       "32         Trevor_Noah  12.125000\n",
       "33       Trevor_Noah_2  18.333333"
      ]
     },
     "execution_count": 69,
     "metadata": {},
     "output_type": "execute_result"
    }
   ],
   "source": [
    "comedycritic_pretend = pd.read_csv(\"/home/ada/humor/data/stand_up_dataset/comedy_critic_quotes - Sheet1.csv\")\n",
    "comedycritic_pretend_metric = bipartite_metric(comedycritic_pretend, ground_truth)\n",
    "comedycritic_pretend_metric"
   ]
  },
  {
   "cell_type": "code",
   "execution_count": 73,
   "metadata": {},
   "outputs": [
    {
     "name": "stderr",
     "output_type": "stream",
     "text": [
      "/tmp/ipykernel_1205684/2664976109.py:1: FutureWarning: Dropping of nuisance columns in DataFrame reductions (with 'numeric_only=None') is deprecated; in a future version this will raise TypeError.  Select only valid columns before calling the reduction.\n",
      "  comedycritic_pretend_metric.mean()\n"
     ]
    },
    {
     "data": {
      "text/plain": [
       "score    25.643465\n",
       "dtype: float64"
      ]
     },
     "execution_count": 73,
     "metadata": {},
     "output_type": "execute_result"
    }
   ],
   "source": [
    "comedycritic_pretend_metric.mean()"
   ]
  },
  {
   "cell_type": "code",
   "execution_count": 70,
   "metadata": {},
   "outputs": [],
   "source": [
    "gemma = gemma_llm_metric.assign(model = \"gemma\")\n",
    "fan = comedyfan_pretend_metric.assign(model=\"fan\") \n",
    "comedian = comedian_pretend_metric.assign(model=\"comedian\") \n",
    "critic = comedycritic_pretend_metric.assign(model=\"critic\")"
   ]
  },
  {
   "cell_type": "code",
   "execution_count": 71,
   "metadata": {},
   "outputs": [],
   "source": [
    "df = pd.concat([gemma, fan, comedian, critic]).reset_index(drop=True)"
   ]
  },
  {
   "cell_type": "code",
   "execution_count": 72,
   "metadata": {},
   "outputs": [
    {
     "data": {
      "text/plain": [
       "<seaborn.axisgrid.FacetGrid at 0x7f2b42a0c3a0>"
      ]
     },
     "execution_count": 72,
     "metadata": {},
     "output_type": "execute_result"
    },
    {
     "data": {
      "image/png": "[encoded data removed]",
      "text/plain": [
       "<Figure size 618.25x500 with 1 Axes>"
      ]
     },
     "metadata": {},
     "output_type": "display_data"
    }
   ],
   "source": [
    "sns.displot(df, x=\"score\", hue=\"model\", kind=\"hist\", shrink=1, multiple=\"stack\")"
   ]
  },
  {
   "cell_type": "markdown",
   "metadata": {},
   "source": [
    "## Decoding"
   ]
  },
  {
   "cell_type": "markdown",
   "metadata": {},
   "source": [
    "Top-K"
   ]
  },
  {
   "cell_type": "code",
   "execution_count": 12,
   "metadata": {},
   "outputs": [],
   "source": [
    "top_k = pd.read_csv(\"/home/ada/humor/data/stand_up_dataset/k_sample - Sheet1.csv\")"
   ]
  },
  {
   "cell_type": "code",
   "execution_count": 7,
   "metadata": {},
   "outputs": [],
   "source": [
    "top_k_df = {}\n",
    "for i in range(1, 11):\n",
    "    top_k_df[f'df_k_{i}'] = top_k[top_k['k'] == i]\n"
   ]
  },
  {
   "cell_type": "code",
   "execution_count": 9,
   "metadata": {},
   "outputs": [],
   "source": [
    "k_1 = top_k_df['df_k_1']\n",
    "k_2 = top_k_df['df_k_2']\n",
    "k_3 = top_k_df['df_k_3']\n",
    "k_4 = top_k_df['df_k_4']\n",
    "k_5 = top_k_df['df_k_5']\n",
    "k_6 = top_k_df['df_k_6']\n",
    "k_7 = top_k_df['df_k_7']\n",
    "k_8 = top_k_df['df_k_8']\n",
    "k_9 = top_k_df['df_k_9']\n",
    "k_10 = top_k_df['df_k_10']"
   ]
  },
  {
   "cell_type": "code",
   "execution_count": 14,
   "metadata": {},
   "outputs": [
    {
     "name": "stderr",
     "output_type": "stream",
     "text": [
      "/tmp/ipykernel_760118/2551170758.py:2: FutureWarning: Dropping of nuisance columns in DataFrame reductions (with 'numeric_only=None') is deprecated; in a future version this will raise TypeError.  Select only valid columns before calling the reduction.\n",
      "  k1_metric.mean()\n"
     ]
    },
    {
     "data": {
      "text/plain": [
       "score    28.132622\n",
       "dtype: float64"
      ]
     },
     "execution_count": 14,
     "metadata": {},
     "output_type": "execute_result"
    }
   ],
   "source": [
    "k1_metric = bipartite_metric(k_1, ground_truth)\n",
    "k1_metric.mean()"
   ]
  },
  {
   "cell_type": "code",
   "execution_count": 15,
   "metadata": {},
   "outputs": [
    {
     "name": "stderr",
     "output_type": "stream",
     "text": [
      "/tmp/ipykernel_760118/2657943919.py:2: FutureWarning: Dropping of nuisance columns in DataFrame reductions (with 'numeric_only=None') is deprecated; in a future version this will raise TypeError.  Select only valid columns before calling the reduction.\n",
      "  k2_metric.mean()\n"
     ]
    },
    {
     "data": {
      "text/plain": [
       "score    25.148267\n",
       "dtype: float64"
      ]
     },
     "execution_count": 15,
     "metadata": {},
     "output_type": "execute_result"
    }
   ],
   "source": [
    "k2_metric = bipartite_metric(k_2, ground_truth)\n",
    "k2_metric.mean()"
   ]
  },
  {
   "cell_type": "code",
   "execution_count": 16,
   "metadata": {},
   "outputs": [
    {
     "name": "stderr",
     "output_type": "stream",
     "text": [
      "/tmp/ipykernel_760118/1990443186.py:2: FutureWarning: Dropping of nuisance columns in DataFrame reductions (with 'numeric_only=None') is deprecated; in a future version this will raise TypeError.  Select only valid columns before calling the reduction.\n",
      "  k3_metric.mean()\n"
     ]
    },
    {
     "data": {
      "text/plain": [
       "score    25.99111\n",
       "dtype: float64"
      ]
     },
     "execution_count": 16,
     "metadata": {},
     "output_type": "execute_result"
    }
   ],
   "source": [
    "k3_metric = bipartite_metric(k_3, ground_truth)\n",
    "k3_metric.mean()"
   ]
  },
  {
   "cell_type": "code",
   "execution_count": 17,
   "metadata": {},
   "outputs": [
    {
     "name": "stderr",
     "output_type": "stream",
     "text": [
      "/tmp/ipykernel_760118/2657779777.py:2: FutureWarning: Dropping of nuisance columns in DataFrame reductions (with 'numeric_only=None') is deprecated; in a future version this will raise TypeError.  Select only valid columns before calling the reduction.\n",
      "  k4_metric.mean()\n"
     ]
    },
    {
     "data": {
      "text/plain": [
       "score    23.980281\n",
       "dtype: float64"
      ]
     },
     "execution_count": 17,
     "metadata": {},
     "output_type": "execute_result"
    }
   ],
   "source": [
    "k4_metric = bipartite_metric(k_4, ground_truth)\n",
    "k4_metric.mean()"
   ]
  },
  {
   "cell_type": "code",
   "execution_count": 18,
   "metadata": {},
   "outputs": [
    {
     "name": "stderr",
     "output_type": "stream",
     "text": [
      "/tmp/ipykernel_760118/1940522433.py:2: FutureWarning: Dropping of nuisance columns in DataFrame reductions (with 'numeric_only=None') is deprecated; in a future version this will raise TypeError.  Select only valid columns before calling the reduction.\n",
      "  k5_metric.mean()\n"
     ]
    },
    {
     "data": {
      "text/plain": [
       "score    26.265753\n",
       "dtype: float64"
      ]
     },
     "execution_count": 18,
     "metadata": {},
     "output_type": "execute_result"
    }
   ],
   "source": [
    "k5_metric = bipartite_metric(k_5, ground_truth)\n",
    "k5_metric.mean()"
   ]
  },
  {
   "cell_type": "code",
   "execution_count": 19,
   "metadata": {},
   "outputs": [
    {
     "name": "stderr",
     "output_type": "stream",
     "text": [
      "/tmp/ipykernel_760118/797404915.py:2: FutureWarning: Dropping of nuisance columns in DataFrame reductions (with 'numeric_only=None') is deprecated; in a future version this will raise TypeError.  Select only valid columns before calling the reduction.\n",
      "  k6_metric.mean()\n"
     ]
    },
    {
     "data": {
      "text/plain": [
       "score    26.453674\n",
       "dtype: float64"
      ]
     },
     "execution_count": 19,
     "metadata": {},
     "output_type": "execute_result"
    }
   ],
   "source": [
    "k6_metric = bipartite_metric(k_6, ground_truth)\n",
    "k6_metric.mean()"
   ]
  },
  {
   "cell_type": "code",
   "execution_count": 20,
   "metadata": {},
   "outputs": [
    {
     "name": "stderr",
     "output_type": "stream",
     "text": [
      "/tmp/ipykernel_760118/661257255.py:2: FutureWarning: Dropping of nuisance columns in DataFrame reductions (with 'numeric_only=None') is deprecated; in a future version this will raise TypeError.  Select only valid columns before calling the reduction.\n",
      "  k7_metric.mean()\n"
     ]
    },
    {
     "data": {
      "text/plain": [
       "score    23.340401\n",
       "dtype: float64"
      ]
     },
     "execution_count": 20,
     "metadata": {},
     "output_type": "execute_result"
    }
   ],
   "source": [
    "k7_metric = bipartite_metric(k_7, ground_truth)\n",
    "k7_metric.mean()"
   ]
  },
  {
   "cell_type": "code",
   "execution_count": 21,
   "metadata": {},
   "outputs": [
    {
     "name": "stderr",
     "output_type": "stream",
     "text": [
      "/tmp/ipykernel_760118/2862372342.py:2: FutureWarning: Dropping of nuisance columns in DataFrame reductions (with 'numeric_only=None') is deprecated; in a future version this will raise TypeError.  Select only valid columns before calling the reduction.\n",
      "  k8_metric.mean()\n"
     ]
    },
    {
     "data": {
      "text/plain": [
       "score    24.764554\n",
       "dtype: float64"
      ]
     },
     "execution_count": 21,
     "metadata": {},
     "output_type": "execute_result"
    }
   ],
   "source": [
    "k8_metric = bipartite_metric(k_8, ground_truth)\n",
    "k8_metric.mean()"
   ]
  },
  {
   "cell_type": "code",
   "execution_count": 22,
   "metadata": {},
   "outputs": [
    {
     "name": "stderr",
     "output_type": "stream",
     "text": [
      "/tmp/ipykernel_760118/1132242517.py:2: FutureWarning: Dropping of nuisance columns in DataFrame reductions (with 'numeric_only=None') is deprecated; in a future version this will raise TypeError.  Select only valid columns before calling the reduction.\n",
      "  k9_metric.mean()\n"
     ]
    },
    {
     "data": {
      "text/plain": [
       "score    25.511432\n",
       "dtype: float64"
      ]
     },
     "execution_count": 22,
     "metadata": {},
     "output_type": "execute_result"
    }
   ],
   "source": [
    "k9_metric = bipartite_metric(k_9, ground_truth)\n",
    "k9_metric.mean()"
   ]
  },
  {
   "cell_type": "code",
   "execution_count": 23,
   "metadata": {},
   "outputs": [
    {
     "name": "stderr",
     "output_type": "stream",
     "text": [
      "/tmp/ipykernel_760118/3968851987.py:2: FutureWarning: Dropping of nuisance columns in DataFrame reductions (with 'numeric_only=None') is deprecated; in a future version this will raise TypeError.  Select only valid columns before calling the reduction.\n",
      "  k10_metric.mean()\n"
     ]
    },
    {
     "data": {
      "text/plain": [
       "score    25.127992\n",
       "dtype: float64"
      ]
     },
     "execution_count": 23,
     "metadata": {},
     "output_type": "execute_result"
    }
   ],
   "source": [
    "k10_metric = bipartite_metric(k_10, ground_truth)\n",
    "k10_metric.mean()"
   ]
  },
  {
   "cell_type": "code",
   "execution_count": 24,
   "metadata": {},
   "outputs": [],
   "source": [
    "k1 = k1_metric.assign(model = \"k=1\")\n",
    "k2 = k2_metric.assign(model = \"k=2\")\n",
    "k3 = k3_metric.assign(model = \"k=3\")\n",
    "k4 = k4_metric.assign(model = \"k=4\")\n",
    "k5 = k5_metric.assign(model = \"k=5\")\n",
    "k6 = k6_metric.assign(model = \"k=6\")\n",
    "k7 = k7_metric.assign(model = \"k=7\")\n",
    "k8 = k8_metric.assign(model = \"k=8\")\n",
    "k9 = k9_metric.assign(model = \"k=9\")\n",
    "k10 = k10_metric.assign(model = \"k=10\")"
   ]
  },
  {
   "cell_type": "code",
   "execution_count": 25,
   "metadata": {},
   "outputs": [],
   "source": [
    "df = pd.concat([k1, k2, k3, k4, k5, k6, k7, k8, k9, k10]).reset_index(drop=True)"
   ]
  },
  {
   "cell_type": "code",
   "execution_count": 28,
   "metadata": {},
   "outputs": [
    {
     "data": {
      "text/plain": [
       "<seaborn.axisgrid.FacetGrid at 0x7fbd9d923850>"
      ]
     },
     "execution_count": 28,
     "metadata": {},
     "output_type": "execute_result"
    },
    {
     "data": {
      "image/png": "[encoded data removed]",
      "text/plain": [
       "<Figure size 587.375x500 with 1 Axes>"
      ]
     },
     "metadata": {},
     "output_type": "display_data"
    }
   ],
   "source": [
    "sns.displot(df, x=\"score\", hue=\"model\", kind=\"hist\", multiple=\"stack\", shrink=0.8, binwidth=1.0)"
   ]
  },
  {
   "cell_type": "code",
   "execution_count": 63,
   "metadata": {},
   "outputs": [
    {
     "name": "stderr",
     "output_type": "stream",
     "text": [
      "/tmp/ipykernel_760118/1208955156.py:4: FutureWarning: Dropping of nuisance columns in DataFrame reductions (with 'numeric_only=None') is deprecated; in a future version this will raise TypeError.  Select only valid columns before calling the reduction.\n",
      "  k1_metric.mean(),\n",
      "/tmp/ipykernel_760118/1208955156.py:5: FutureWarning: Dropping of nuisance columns in DataFrame reductions (with 'numeric_only=None') is deprecated; in a future version this will raise TypeError.  Select only valid columns before calling the reduction.\n",
      "  k2_metric.mean(),\n",
      "/tmp/ipykernel_760118/1208955156.py:6: FutureWarning: Dropping of nuisance columns in DataFrame reductions (with 'numeric_only=None') is deprecated; in a future version this will raise TypeError.  Select only valid columns before calling the reduction.\n",
      "  k3_metric.mean(),\n",
      "/tmp/ipykernel_760118/1208955156.py:7: FutureWarning: Dropping of nuisance columns in DataFrame reductions (with 'numeric_only=None') is deprecated; in a future version this will raise TypeError.  Select only valid columns before calling the reduction.\n",
      "  k4_metric.mean(),\n",
      "/tmp/ipykernel_760118/1208955156.py:8: FutureWarning: Dropping of nuisance columns in DataFrame reductions (with 'numeric_only=None') is deprecated; in a future version this will raise TypeError.  Select only valid columns before calling the reduction.\n",
      "  k5_metric.mean(),\n",
      "/tmp/ipykernel_760118/1208955156.py:9: FutureWarning: Dropping of nuisance columns in DataFrame reductions (with 'numeric_only=None') is deprecated; in a future version this will raise TypeError.  Select only valid columns before calling the reduction.\n",
      "  k6_metric.mean(),\n",
      "/tmp/ipykernel_760118/1208955156.py:10: FutureWarning: Dropping of nuisance columns in DataFrame reductions (with 'numeric_only=None') is deprecated; in a future version this will raise TypeError.  Select only valid columns before calling the reduction.\n",
      "  k7_metric.mean(),\n",
      "/tmp/ipykernel_760118/1208955156.py:11: FutureWarning: Dropping of nuisance columns in DataFrame reductions (with 'numeric_only=None') is deprecated; in a future version this will raise TypeError.  Select only valid columns before calling the reduction.\n",
      "  k8_metric.mean(),\n",
      "/tmp/ipykernel_760118/1208955156.py:12: FutureWarning: Dropping of nuisance columns in DataFrame reductions (with 'numeric_only=None') is deprecated; in a future version this will raise TypeError.  Select only valid columns before calling the reduction.\n",
      "  k9_metric.mean(),\n",
      "/tmp/ipykernel_760118/1208955156.py:13: FutureWarning: Dropping of nuisance columns in DataFrame reductions (with 'numeric_only=None') is deprecated; in a future version this will raise TypeError.  Select only valid columns before calling the reduction.\n",
      "  k10_metric.mean()\n",
      "No artists with labels found to put in legend.  Note that artists whose label start with an underscore are ignored when legend() is called with no argument.\n"
     ]
    },
    {
     "data": {
      "image/png": "[encoded data removed]",
      "text/plain": [
       "<Figure size 1000x600 with 1 Axes>"
      ]
     },
     "metadata": {},
     "output_type": "display_data"
    }
   ],
   "source": [
    "import matplotlib.pyplot as plt\n",
    "\n",
    "means = [\n",
    "    k1_metric.mean(),\n",
    "    k2_metric.mean(),\n",
    "    k3_metric.mean(),\n",
    "    k4_metric.mean(),\n",
    "    k5_metric.mean(),\n",
    "    k6_metric.mean(),\n",
    "    k7_metric.mean(),\n",
    "    k8_metric.mean(),\n",
    "    k9_metric.mean(),\n",
    "    k10_metric.mean()\n",
    "]\n",
    "\n",
    "k_values = list(range(1, 11))\n",
    "\n",
    "plt.figure(figsize=(10, 6))\n",
    "plt.plot(k_values, means, marker='o', linestyle='-', color='pink')\n",
    "\n",
    "plt.title('Mean Metrics for k Values from 1 to 10')\n",
    "plt.xlabel('k Value')\n",
    "plt.ylabel('Mean Metric')\n",
    "plt.xticks(k_values)\n",
    "plt.legend()\n",
    "plt.grid(True)\n",
    "plt.show()\n"
   ]
  },
  {
   "cell_type": "markdown",
   "metadata": {},
   "source": [
    "## Top-p"
   ]
  },
  {
   "cell_type": "code",
   "execution_count": 29,
   "metadata": {},
   "outputs": [],
   "source": [
    "top_p = pd.read_csv(\"/home/ada/humor/data/stand_up_dataset/p_sample - Sheet1.csv\")"
   ]
  },
  {
   "cell_type": "code",
   "execution_count": 33,
   "metadata": {},
   "outputs": [
    {
     "data": {
      "text/html": [
       "<div>\n",
       "<style scoped>\n",
       "    .dataframe tbody tr th:only-of-type {\n",
       "        vertical-align: middle;\n",
       "    }\n",
       "\n",
       "    .dataframe tbody tr th {\n",
       "        vertical-align: top;\n",
       "    }\n",
       "\n",
       "    .dataframe thead th {\n",
       "        text-align: right;\n",
       "    }\n",
       "</style>\n",
       "<table border=\"1\" class=\"dataframe\">\n",
       "  <thead>\n",
       "    <tr style=\"text-align: right;\">\n",
       "      <th></th>\n",
       "      <th>comedian</th>\n",
       "      <th>sentence</th>\n",
       "      <th>p</th>\n",
       "    </tr>\n",
       "  </thead>\n",
       "  <tbody>\n",
       "    <tr>\n",
       "      <th>0</th>\n",
       "      <td>Anthony_Jeselnik</td>\n",
       "      <td>When I was a kid, I used to fantasize about ge...</td>\n",
       "      <td>0.00</td>\n",
       "    </tr>\n",
       "    <tr>\n",
       "      <th>1</th>\n",
       "      <td>Anthony_Jeselnik</td>\n",
       "      <td>My mom actually should’ve been on one of the p...</td>\n",
       "      <td>0.00</td>\n",
       "    </tr>\n",
       "    <tr>\n",
       "      <th>2</th>\n",
       "      <td>Anthony_Jeselnik</td>\n",
       "      <td>When I was a kid, like nine years old, I’d com...</td>\n",
       "      <td>0.00</td>\n",
       "    </tr>\n",
       "    <tr>\n",
       "      <th>3</th>\n",
       "      <td>Anthony_Jeselnik</td>\n",
       "      <td>When I was a kid, I used to fantasize about ge...</td>\n",
       "      <td>0.90</td>\n",
       "    </tr>\n",
       "    <tr>\n",
       "      <th>4</th>\n",
       "      <td>Anthony_Jeselnik</td>\n",
       "      <td>My mom actually should’ve been on one of the p...</td>\n",
       "      <td>0.90</td>\n",
       "    </tr>\n",
       "    <tr>\n",
       "      <th>...</th>\n",
       "      <td>...</td>\n",
       "      <td>...</td>\n",
       "      <td>...</td>\n",
       "    </tr>\n",
       "    <tr>\n",
       "      <th>1416</th>\n",
       "      <td>Tom_Segura_2</td>\n",
       "      <td>There's \"Hold Open,\" and \"Close.\" And you can ...</td>\n",
       "      <td>0.98</td>\n",
       "    </tr>\n",
       "    <tr>\n",
       "      <th>1417</th>\n",
       "      <td>Tom_Segura_2</td>\n",
       "      <td>I got such a warm rush through my body. It fel...</td>\n",
       "      <td>0.99</td>\n",
       "    </tr>\n",
       "    <tr>\n",
       "      <th>1418</th>\n",
       "      <td>Tom_Segura_2</td>\n",
       "      <td>There’s “Hold Open,” and “Close.” And you can ...</td>\n",
       "      <td>0.99</td>\n",
       "    </tr>\n",
       "    <tr>\n",
       "      <th>1419</th>\n",
       "      <td>Tom_Segura_2</td>\n",
       "      <td>I got such a warm rush through my body. It fel...</td>\n",
       "      <td>1.00</td>\n",
       "    </tr>\n",
       "    <tr>\n",
       "      <th>1420</th>\n",
       "      <td>Tom_Segura_2</td>\n",
       "      <td>I was trying to figure out, “Why does this fee...</td>\n",
       "      <td>1.00</td>\n",
       "    </tr>\n",
       "  </tbody>\n",
       "</table>\n",
       "<p>1421 rows × 3 columns</p>\n",
       "</div>"
      ],
      "text/plain": [
       "              comedian                                           sentence  \\\n",
       "0     Anthony_Jeselnik  When I was a kid, I used to fantasize about ge...   \n",
       "1     Anthony_Jeselnik  My mom actually should’ve been on one of the p...   \n",
       "2     Anthony_Jeselnik  When I was a kid, like nine years old, I’d com...   \n",
       "3     Anthony_Jeselnik  When I was a kid, I used to fantasize about ge...   \n",
       "4     Anthony_Jeselnik  My mom actually should’ve been on one of the p...   \n",
       "...                ...                                                ...   \n",
       "1416      Tom_Segura_2  There's \"Hold Open,\" and \"Close.\" And you can ...   \n",
       "1417      Tom_Segura_2  I got such a warm rush through my body. It fel...   \n",
       "1418      Tom_Segura_2  There’s “Hold Open,” and “Close.” And you can ...   \n",
       "1419      Tom_Segura_2  I got such a warm rush through my body. It fel...   \n",
       "1420      Tom_Segura_2  I was trying to figure out, “Why does this fee...   \n",
       "\n",
       "         p  \n",
       "0     0.00  \n",
       "1     0.00  \n",
       "2     0.00  \n",
       "3     0.90  \n",
       "4     0.90  \n",
       "...    ...  \n",
       "1416  0.98  \n",
       "1417  0.99  \n",
       "1418  0.99  \n",
       "1419  1.00  \n",
       "1420  1.00  \n",
       "\n",
       "[1421 rows x 3 columns]"
      ]
     },
     "execution_count": 33,
     "metadata": {},
     "output_type": "execute_result"
    }
   ],
   "source": [
    "top_p"
   ]
  },
  {
   "cell_type": "code",
   "execution_count": 34,
   "metadata": {},
   "outputs": [],
   "source": [
    "top_p_df = {}\n",
    "for p in [0] + [i / 100 for i in range(90, 101)]:\n",
    "    top_p_df[f'df_p_{p}'] = top_p[top_p['p'] == p]"
   ]
  },
  {
   "cell_type": "code",
   "execution_count": 42,
   "metadata": {},
   "outputs": [],
   "source": [
    "p_0 = top_p_df['df_p_0']\n",
    "p_9 = top_p_df['df_p_0.9']\n",
    "p_91 = top_p_df['df_p_0.91']\n",
    "p_92 = top_p_df['df_p_0.92']\n",
    "p_93 = top_p_df['df_p_0.93']\n",
    "p_94 = top_p_df['df_p_0.94']\n",
    "p_95 = top_p_df['df_p_0.95']\n",
    "p_96 = top_p_df['df_p_0.96']\n",
    "p_97 = top_p_df['df_p_0.97']\n",
    "p_98 = top_p_df['df_p_0.98']\n",
    "p_99 = top_p_df['df_p_0.99']\n",
    "p_1 = top_p_df['df_p_1.0']"
   ]
  },
  {
   "cell_type": "code",
   "execution_count": 45,
   "metadata": {},
   "outputs": [
    {
     "name": "stderr",
     "output_type": "stream",
     "text": [
      "/tmp/ipykernel_760118/1682444344.py:2: FutureWarning: Dropping of nuisance columns in DataFrame reductions (with 'numeric_only=None') is deprecated; in a future version this will raise TypeError.  Select only valid columns before calling the reduction.\n",
      "  p0_metric.mean()\n"
     ]
    },
    {
     "data": {
      "text/plain": [
       "score    27.455016\n",
       "dtype: float64"
      ]
     },
     "execution_count": 45,
     "metadata": {},
     "output_type": "execute_result"
    }
   ],
   "source": [
    "p0_metric = bipartite_metric(p_0, ground_truth)\n",
    "p0_metric.mean()"
   ]
  },
  {
   "cell_type": "code",
   "execution_count": 46,
   "metadata": {},
   "outputs": [
    {
     "name": "stderr",
     "output_type": "stream",
     "text": [
      "/tmp/ipykernel_760118/737289714.py:2: FutureWarning: Dropping of nuisance columns in DataFrame reductions (with 'numeric_only=None') is deprecated; in a future version this will raise TypeError.  Select only valid columns before calling the reduction.\n",
      "  p9_metric.mean()\n"
     ]
    },
    {
     "data": {
      "text/plain": [
       "score    24.071963\n",
       "dtype: float64"
      ]
     },
     "execution_count": 46,
     "metadata": {},
     "output_type": "execute_result"
    }
   ],
   "source": [
    "p9_metric = bipartite_metric(p_9, ground_truth)\n",
    "p9_metric.mean()"
   ]
  },
  {
   "cell_type": "code",
   "execution_count": 47,
   "metadata": {},
   "outputs": [
    {
     "name": "stderr",
     "output_type": "stream",
     "text": [
      "/tmp/ipykernel_760118/1267983535.py:2: FutureWarning: Dropping of nuisance columns in DataFrame reductions (with 'numeric_only=None') is deprecated; in a future version this will raise TypeError.  Select only valid columns before calling the reduction.\n",
      "  p91_metric.mean()\n"
     ]
    },
    {
     "data": {
      "text/plain": [
       "score    24.977192\n",
       "dtype: float64"
      ]
     },
     "execution_count": 47,
     "metadata": {},
     "output_type": "execute_result"
    }
   ],
   "source": [
    "p91_metric = bipartite_metric(p_91, ground_truth)\n",
    "p91_metric.mean()"
   ]
  },
  {
   "cell_type": "code",
   "execution_count": 48,
   "metadata": {},
   "outputs": [
    {
     "name": "stderr",
     "output_type": "stream",
     "text": [
      "/tmp/ipykernel_760118/3663633955.py:2: FutureWarning: Dropping of nuisance columns in DataFrame reductions (with 'numeric_only=None') is deprecated; in a future version this will raise TypeError.  Select only valid columns before calling the reduction.\n",
      "  p92_metric.mean()\n"
     ]
    },
    {
     "data": {
      "text/plain": [
       "score    25.238499\n",
       "dtype: float64"
      ]
     },
     "execution_count": 48,
     "metadata": {},
     "output_type": "execute_result"
    }
   ],
   "source": [
    "p92_metric = bipartite_metric(p_92, ground_truth)\n",
    "p92_metric.mean()"
   ]
  },
  {
   "cell_type": "code",
   "execution_count": 49,
   "metadata": {},
   "outputs": [
    {
     "name": "stderr",
     "output_type": "stream",
     "text": [
      "/tmp/ipykernel_760118/3124393155.py:2: FutureWarning: Dropping of nuisance columns in DataFrame reductions (with 'numeric_only=None') is deprecated; in a future version this will raise TypeError.  Select only valid columns before calling the reduction.\n",
      "  p93_metric.mean()\n"
     ]
    },
    {
     "data": {
      "text/plain": [
       "score    25.729869\n",
       "dtype: float64"
      ]
     },
     "execution_count": 49,
     "metadata": {},
     "output_type": "execute_result"
    }
   ],
   "source": [
    "p93_metric = bipartite_metric(p_93, ground_truth)\n",
    "p93_metric.mean()"
   ]
  },
  {
   "cell_type": "code",
   "execution_count": 50,
   "metadata": {},
   "outputs": [
    {
     "name": "stderr",
     "output_type": "stream",
     "text": [
      "/tmp/ipykernel_760118/1826973090.py:2: FutureWarning: Dropping of nuisance columns in DataFrame reductions (with 'numeric_only=None') is deprecated; in a future version this will raise TypeError.  Select only valid columns before calling the reduction.\n",
      "  p94_metric.mean()\n"
     ]
    },
    {
     "data": {
      "text/plain": [
       "score    24.392475\n",
       "dtype: float64"
      ]
     },
     "execution_count": 50,
     "metadata": {},
     "output_type": "execute_result"
    }
   ],
   "source": [
    "p94_metric = bipartite_metric(p_94, ground_truth)\n",
    "p94_metric.mean()"
   ]
  },
  {
   "cell_type": "code",
   "execution_count": 51,
   "metadata": {},
   "outputs": [
    {
     "name": "stderr",
     "output_type": "stream",
     "text": [
      "/tmp/ipykernel_760118/2858370961.py:2: FutureWarning: Dropping of nuisance columns in DataFrame reductions (with 'numeric_only=None') is deprecated; in a future version this will raise TypeError.  Select only valid columns before calling the reduction.\n",
      "  p95_metric.mean()\n"
     ]
    },
    {
     "data": {
      "text/plain": [
       "score    27.138062\n",
       "dtype: float64"
      ]
     },
     "execution_count": 51,
     "metadata": {},
     "output_type": "execute_result"
    }
   ],
   "source": [
    "p95_metric = bipartite_metric(p_95, ground_truth)\n",
    "p95_metric.mean()"
   ]
  },
  {
   "cell_type": "code",
   "execution_count": 52,
   "metadata": {},
   "outputs": [
    {
     "name": "stderr",
     "output_type": "stream",
     "text": [
      "/tmp/ipykernel_760118/3544092099.py:2: FutureWarning: Dropping of nuisance columns in DataFrame reductions (with 'numeric_only=None') is deprecated; in a future version this will raise TypeError.  Select only valid columns before calling the reduction.\n",
      "  p96_metric.mean()\n"
     ]
    },
    {
     "data": {
      "text/plain": [
       "score    24.256798\n",
       "dtype: float64"
      ]
     },
     "execution_count": 52,
     "metadata": {},
     "output_type": "execute_result"
    }
   ],
   "source": [
    "p96_metric = bipartite_metric(p_96, ground_truth)\n",
    "p96_metric.mean()"
   ]
  },
  {
   "cell_type": "code",
   "execution_count": 53,
   "metadata": {},
   "outputs": [
    {
     "name": "stderr",
     "output_type": "stream",
     "text": [
      "/tmp/ipykernel_760118/1387252451.py:2: FutureWarning: Dropping of nuisance columns in DataFrame reductions (with 'numeric_only=None') is deprecated; in a future version this will raise TypeError.  Select only valid columns before calling the reduction.\n",
      "  p97_metric.mean()\n"
     ]
    },
    {
     "data": {
      "text/plain": [
       "score    23.148864\n",
       "dtype: float64"
      ]
     },
     "execution_count": 53,
     "metadata": {},
     "output_type": "execute_result"
    }
   ],
   "source": [
    "p97_metric = bipartite_metric(p_97, ground_truth)\n",
    "p97_metric.mean()"
   ]
  },
  {
   "cell_type": "code",
   "execution_count": 54,
   "metadata": {},
   "outputs": [
    {
     "name": "stderr",
     "output_type": "stream",
     "text": [
      "/tmp/ipykernel_760118/63609148.py:2: FutureWarning: Dropping of nuisance columns in DataFrame reductions (with 'numeric_only=None') is deprecated; in a future version this will raise TypeError.  Select only valid columns before calling the reduction.\n",
      "  p98_metric.mean()\n"
     ]
    },
    {
     "data": {
      "text/plain": [
       "score    26.599481\n",
       "dtype: float64"
      ]
     },
     "execution_count": 54,
     "metadata": {},
     "output_type": "execute_result"
    }
   ],
   "source": [
    "p98_metric = bipartite_metric(p_98, ground_truth)\n",
    "p98_metric.mean()"
   ]
  },
  {
   "cell_type": "code",
   "execution_count": 55,
   "metadata": {},
   "outputs": [
    {
     "name": "stderr",
     "output_type": "stream",
     "text": [
      "/tmp/ipykernel_760118/2626852736.py:2: FutureWarning: Dropping of nuisance columns in DataFrame reductions (with 'numeric_only=None') is deprecated; in a future version this will raise TypeError.  Select only valid columns before calling the reduction.\n",
      "  p99_metric.mean()\n"
     ]
    },
    {
     "data": {
      "text/plain": [
       "score    26.945566\n",
       "dtype: float64"
      ]
     },
     "execution_count": 55,
     "metadata": {},
     "output_type": "execute_result"
    }
   ],
   "source": [
    "p99_metric = bipartite_metric(p_99, ground_truth)\n",
    "p99_metric.mean()"
   ]
  },
  {
   "cell_type": "code",
   "execution_count": 56,
   "metadata": {},
   "outputs": [
    {
     "name": "stderr",
     "output_type": "stream",
     "text": [
      "/tmp/ipykernel_760118/2209821856.py:2: FutureWarning: Dropping of nuisance columns in DataFrame reductions (with 'numeric_only=None') is deprecated; in a future version this will raise TypeError.  Select only valid columns before calling the reduction.\n",
      "  p1_metric.mean()\n"
     ]
    },
    {
     "data": {
      "text/plain": [
       "score    22.860475\n",
       "dtype: float64"
      ]
     },
     "execution_count": 56,
     "metadata": {},
     "output_type": "execute_result"
    }
   ],
   "source": [
    "p1_metric = bipartite_metric(p_1, ground_truth)\n",
    "p1_metric.mean()"
   ]
  },
  {
   "cell_type": "code",
   "execution_count": 58,
   "metadata": {},
   "outputs": [],
   "source": [
    "p0 = p0_metric.assign(model = \"p=0\")\n",
    "p9 = p9_metric.assign(model = \"p=9\")\n",
    "p91 = p91_metric.assign(model = \"p=91\")\n",
    "p92 = p92_metric.assign(model = \"p=92\")\n",
    "p93 = p93_metric.assign(model = \"p=93\")\n",
    "p94 = p94_metric.assign(model = \"p=94\")\n",
    "p95 = p95_metric.assign(model = \"p=95\")\n",
    "p96 = p96_metric.assign(model = \"p=96\")\n",
    "p97 = p97_metric.assign(model = \"p=97\")\n",
    "p98 = p98_metric.assign(model = \"p=98\")\n",
    "p99 = p99_metric.assign(model = \"p=99\")\n",
    "p1 = p1_metric.assign(model = \"p=1\")"
   ]
  },
  {
   "cell_type": "code",
   "execution_count": 59,
   "metadata": {},
   "outputs": [],
   "source": [
    "df = pd.concat([p0, p9, p91, p92, p93, p94, p95, p96, p97, p98, p99, p1]).reset_index(drop=True)"
   ]
  },
  {
   "cell_type": "code",
   "execution_count": 61,
   "metadata": {},
   "outputs": [
    {
     "data": {
      "text/plain": [
       "<seaborn.axisgrid.FacetGrid at 0x7fbd950a5460>"
      ]
     },
     "execution_count": 61,
     "metadata": {},
     "output_type": "execute_result"
    },
    {
     "data": {
      "image/png": "[encoded data removed]",
      "text/plain": [
       "<Figure size 588.25x500 with 1 Axes>"
      ]
     },
     "metadata": {},
     "output_type": "display_data"
    }
   ],
   "source": [
    "sns.displot(df, x=\"score\", hue=\"model\", kind=\"hist\", multiple=\"stack\", shrink=0.8, binwidth=1.5)"
   ]
  },
  {
   "cell_type": "code",
   "execution_count": 65,
   "metadata": {},
   "outputs": [
    {
     "name": "stderr",
     "output_type": "stream",
     "text": [
      "/tmp/ipykernel_760118/2157746874.py:4: FutureWarning: Dropping of nuisance columns in DataFrame reductions (with 'numeric_only=None') is deprecated; in a future version this will raise TypeError.  Select only valid columns before calling the reduction.\n",
      "  p9_metric.mean(),\n",
      "/tmp/ipykernel_760118/2157746874.py:5: FutureWarning: Dropping of nuisance columns in DataFrame reductions (with 'numeric_only=None') is deprecated; in a future version this will raise TypeError.  Select only valid columns before calling the reduction.\n",
      "  p91_metric.mean(),\n",
      "/tmp/ipykernel_760118/2157746874.py:6: FutureWarning: Dropping of nuisance columns in DataFrame reductions (with 'numeric_only=None') is deprecated; in a future version this will raise TypeError.  Select only valid columns before calling the reduction.\n",
      "  p92_metric.mean(),\n",
      "/tmp/ipykernel_760118/2157746874.py:7: FutureWarning: Dropping of nuisance columns in DataFrame reductions (with 'numeric_only=None') is deprecated; in a future version this will raise TypeError.  Select only valid columns before calling the reduction.\n",
      "  p93_metric.mean(),\n",
      "/tmp/ipykernel_760118/2157746874.py:8: FutureWarning: Dropping of nuisance columns in DataFrame reductions (with 'numeric_only=None') is deprecated; in a future version this will raise TypeError.  Select only valid columns before calling the reduction.\n",
      "  p94_metric.mean(),\n",
      "/tmp/ipykernel_760118/2157746874.py:9: FutureWarning: Dropping of nuisance columns in DataFrame reductions (with 'numeric_only=None') is deprecated; in a future version this will raise TypeError.  Select only valid columns before calling the reduction.\n",
      "  p95_metric.mean(),\n",
      "/tmp/ipykernel_760118/2157746874.py:10: FutureWarning: Dropping of nuisance columns in DataFrame reductions (with 'numeric_only=None') is deprecated; in a future version this will raise TypeError.  Select only valid columns before calling the reduction.\n",
      "  p96_metric.mean(),\n",
      "/tmp/ipykernel_760118/2157746874.py:11: FutureWarning: Dropping of nuisance columns in DataFrame reductions (with 'numeric_only=None') is deprecated; in a future version this will raise TypeError.  Select only valid columns before calling the reduction.\n",
      "  p97_metric.mean(),\n",
      "/tmp/ipykernel_760118/2157746874.py:12: FutureWarning: Dropping of nuisance columns in DataFrame reductions (with 'numeric_only=None') is deprecated; in a future version this will raise TypeError.  Select only valid columns before calling the reduction.\n",
      "  p98_metric.mean(),\n",
      "/tmp/ipykernel_760118/2157746874.py:13: FutureWarning: Dropping of nuisance columns in DataFrame reductions (with 'numeric_only=None') is deprecated; in a future version this will raise TypeError.  Select only valid columns before calling the reduction.\n",
      "  p99_metric.mean(),\n",
      "/tmp/ipykernel_760118/2157746874.py:14: FutureWarning: Dropping of nuisance columns in DataFrame reductions (with 'numeric_only=None') is deprecated; in a future version this will raise TypeError.  Select only valid columns before calling the reduction.\n",
      "  p1_metric.mean()\n",
      "No artists with labels found to put in legend.  Note that artists whose label start with an underscore are ignored when legend() is called with no argument.\n"
     ]
    },
    {
     "data": {
      "image/png": "[encoded data removed]",
      "text/plain": [
       "<Figure size 1000x600 with 1 Axes>"
      ]
     },
     "metadata": {},
     "output_type": "display_data"
    }
   ],
   "source": [
    "import matplotlib.pyplot as plt\n",
    "\n",
    "means_p = [\n",
    "    p9_metric.mean(),\n",
    "    p91_metric.mean(),\n",
    "    p92_metric.mean(),\n",
    "    p93_metric.mean(),\n",
    "    p94_metric.mean(),\n",
    "    p95_metric.mean(),\n",
    "    p96_metric.mean(),\n",
    "    p97_metric.mean(),\n",
    "    p98_metric.mean(),\n",
    "    p99_metric.mean(),\n",
    "    p1_metric.mean()\n",
    "]\n",
    "\n",
    "p_values = [0.9, 0.91, 0.92, 0.93, 0.94, 0.95, 0.96, 0.97, 0.98, 0.99, 1.0]\n",
    "\n",
    "# Plotting the means\n",
    "plt.figure(figsize=(10, 6))\n",
    "plt.plot(p_values, means_p, marker='o', linestyle='-', color='pink')\n",
    "\n",
    "plt.title('Mean Metrics for p Values from .9 to 1')\n",
    "plt.xlabel('p Value')\n",
    "plt.ylabel('Mean Metric')\n",
    "plt.xticks(p_values)\n",
    "plt.legend()\n",
    "plt.grid(True)\n",
    "plt.show()\n"
   ]
  }
 ],
 "metadata": {
  "kernelspec": {
   "display_name": ".venv",
   "language": "python",
   "name": "python3"
  },
  "language_info": {
   "codemirror_mode": {
    "name": "ipython",
    "version": 3
   },
   "file_extension": ".py",
   "mimetype": "text/x-python",
   "name": "python",
   "nbconvert_exporter": "python",
   "pygments_lexer": "ipython3",
   "version": "3.8.10"
  }
 },
 "nbformat": 4,
 "nbformat_minor": 2
}
