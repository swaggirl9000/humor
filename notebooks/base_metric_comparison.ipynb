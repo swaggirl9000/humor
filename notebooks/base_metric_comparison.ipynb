{
 "cells": [
  {
   "cell_type": "code",
   "execution_count": 1,
   "metadata": {},
   "outputs": [],
   "source": [
    "import sys\n",
    "import pandas as pd\n",
    "sys.path.append(\"..\")\n",
    "import seaborn as sns\n",
    "import nltk\n",
    "\n",
    "from humor.metric import fuzzy_match_metric\n",
    "from humor.bipartite_metric import bipartite_metric"
   ]
  },
  {
   "cell_type": "code",
   "execution_count": 2,
   "metadata": {},
   "outputs": [],
   "source": [
    "import pandas as pd\n",
    "from thefuzz import fuzz\n",
    "\n",
    "def bipartite_metric(model_answers: pd.DataFrame, ground_truth: pd.DataFrame):  \n",
    "    # Find the similarity of the model answers and ground truth by using fuzzy string matching\n",
    "    score_matrix = model_answers.apply(\n",
    "        lambda row_model: ground_truth.apply(\n",
    "            lambda row_truth: \n",
    "                fuzz.ratio(row_truth[\"sentence\"], row_model[\"sentence\"]) \n",
    "                if row_model[\"comedian\"] == row_truth[\"comedian\"] \n",
    "                else None,\n",
    "        axis=1),\n",
    "    axis=1) \\\n",
    "        .melt(ignore_index=False) \\\n",
    "        .dropna() \\\n",
    "        .reset_index()\n",
    "    # Find the best score by taking the maximum value\n",
    "    best_match = score_matrix.loc[score_matrix.groupby(\"index\")[\"value\"].idxmax()].reset_index(drop=True)\n",
    "    \n",
    "    #Add in the ground truths that were not matched\n",
    "    missing_gt = set(ground_truth.index) - set(best_match[\"variable\"].unique())\n",
    "    missing_gt = pd.DataFrame({\"index\": None, \"variable\": list(missing_gt), \"value\": 0})\n",
    "    \n",
    "    result = best_match.append(missing_gt).groupby(\"variable\").mean().rename(columns={\"value\": \"score\"})\n",
    "    \n",
    "    # Add in the comedians and group by the mean for each comedian\n",
    "    final_result = result.merge(ground_truth[['comedian']], left_index=True, right_index=True).reset_index(drop=True)\n",
    "    \n",
    "    return final_result.groupby('comedian')['score'].mean().reset_index()\n",
    "    \n",
    "    # ground_truth[\"value\"] = 0\n",
    "    # ground_truth.loc[~ground_truth.index.isin(best_match[\"variable\"]), \"value\"]\n",
    "    \n",
    "    # scores = model_answers.apply(\n",
    "    #     lambda row_model: ground_truth.apply(\n",
    "    #         lambda row_truth: \n",
    "    #             fuzz.ratio(row_truth[\"sentence\"], row_model[\"sentence\"]) \n",
    "    #             if row_model[\"comedian\"] == row_truth[\"comedian\"] \n",
    "    #             else None,\n",
    "    #     axis=1),\n",
    "    # axis=1) \\\n",
    "    #     .melt(ignore_index=False) \\\n",
    "    #     .dropna() \\\n",
    "    #     .reset_index() \\\n",
    "    #     .join(model_answers[\"sentence\"], on=\"index\") \\\n",
    "    #     .rename(columns={\"sentence\": \"model\"}) \\\n",
    "    #     .join(ground_truth, on=\"variable\") \\\n",
    "    #     .rename(columns={\"sentence\": \"truth\", \"value\": \"score\"})\n",
    "        \n",
    "    # scores = scores[[\"comedian\", \"model\", \"truth\", \"score\"]]\n",
    "    # print(\"scores\", scores)\n",
    "    \n",
    "    # df = scores.groupby([\"comedian\", \"model\"])[[\"score\", \"truth\"]].max().reset_index()\n",
    "    # print(\"df\")\n",
    "    # print(df)\n",
    "    # truths = scores[~scores['truth'].isin(df['truth'])]\n",
    "    # print(\"truths\")\n",
    "    # print(truths)\n",
    "    \n",
    "    # entries = truths.copy()\n",
    "    # entries['score'] = 0\n",
    "    # print(\"entries\")\n",
    "    # print(entries)\n",
    "    # df = pd.concat([df, entries[['comedian', 'model', 'truth', 'score']]], ignore_index=True)\n",
    "    # df.sort_values(by=['comedian', 'model'], inplace=True)\n",
    "    # print(\"df\")\n",
    "    # print(df)\n",
    "    \n",
    "    # return df.groupby(\"truth\")[\"score\"].mean().reset_index()"
   ]
  },
  {
   "cell_type": "code",
   "execution_count": 3,
   "metadata": {},
   "outputs": [],
   "source": [
    "ground_truth = pd.read_csv('/home/ada/humor/data/stand_up_dataset/standup_data.csv')\n",
    "model = pd.read_csv('/home/ada/humor/data/stand_up_dataset/gemma_answers.csv')\n",
    "transcript = pd.read_csv('/home/ada/humor/data/stand_up_dataset/standup_transcripts.csv')"
   ]
  },
  {
   "cell_type": "code",
   "execution_count": 4,
   "metadata": {},
   "outputs": [
    {
     "name": "stderr",
     "output_type": "stream",
     "text": [
      "/tmp/ipykernel_1079520/4253546501.py:3: FutureWarning: Dropping of nuisance columns in DataFrame reductions (with 'numeric_only=None') is deprecated; in a future version this will raise TypeError.  Select only valid columns before calling the reduction.\n",
      "  gt.mean()\n"
     ]
    },
    {
     "data": {
      "text/plain": [
       "score    100.0\n",
       "dtype: float64"
      ]
     },
     "execution_count": 4,
     "metadata": {},
     "output_type": "execute_result"
    }
   ],
   "source": [
    "#ground truth x ground truth\n",
    "gt = bipartite_metric(ground_truth, ground_truth)\n",
    "gt.mean()"
   ]
  },
  {
   "cell_type": "code",
   "execution_count": 5,
   "metadata": {},
   "outputs": [
    {
     "name": "stderr",
     "output_type": "stream",
     "text": [
      "/tmp/ipykernel_1079520/3677872773.py:5: FutureWarning: Dropping of nuisance columns in DataFrame reductions (with 'numeric_only=None') is deprecated; in a future version this will raise TypeError.  Select only valid columns before calling the reduction.\n",
      "  completely_wrong.mean()\n"
     ]
    },
    {
     "data": {
      "text/plain": [
       "score    0.0\n",
       "dtype: float64"
      ]
     },
     "execution_count": 5,
     "metadata": {},
     "output_type": "execute_result"
    }
   ],
   "source": [
    "wrong = pd.DataFrame().reindex_like(ground_truth).drop([\"laugh_start\", \"laugh_end\"], axis=1)\n",
    "wrong[\"comedian\"] = ground_truth[\"comedian\"]\n",
    "wrong[\"sentence\"] = \"\"\n",
    "completely_wrong = bipartite_metric(wrong, ground_truth)\n",
    "completely_wrong.mean()"
   ]
  },
  {
   "cell_type": "code",
   "execution_count": 6,
   "metadata": {},
   "outputs": [],
   "source": [
    "#gemma\n",
    "gemma_metric = bipartite_metric(model, ground_truth)"
   ]
  },
  {
   "cell_type": "code",
   "execution_count": 7,
   "metadata": {},
   "outputs": [
    {
     "data": {
      "text/html": [
       "<div>\n",
       "<style scoped>\n",
       "    .dataframe tbody tr th:only-of-type {\n",
       "        vertical-align: middle;\n",
       "    }\n",
       "\n",
       "    .dataframe tbody tr th {\n",
       "        vertical-align: top;\n",
       "    }\n",
       "\n",
       "    .dataframe thead th {\n",
       "        text-align: right;\n",
       "    }\n",
       "</style>\n",
       "<table border=\"1\" class=\"dataframe\">\n",
       "  <thead>\n",
       "    <tr style=\"text-align: right;\">\n",
       "      <th></th>\n",
       "      <th>comedian</th>\n",
       "      <th>score</th>\n",
       "    </tr>\n",
       "  </thead>\n",
       "  <tbody>\n",
       "    <tr>\n",
       "      <th>0</th>\n",
       "      <td>Ali_Wong</td>\n",
       "      <td>32.916667</td>\n",
       "    </tr>\n",
       "    <tr>\n",
       "      <th>1</th>\n",
       "      <td>Ali_Wong_2</td>\n",
       "      <td>40.428571</td>\n",
       "    </tr>\n",
       "    <tr>\n",
       "      <th>2</th>\n",
       "      <td>Anthony_Jeselnik</td>\n",
       "      <td>18.642857</td>\n",
       "    </tr>\n",
       "    <tr>\n",
       "      <th>3</th>\n",
       "      <td>Anthony_Jeselnik_2</td>\n",
       "      <td>63.500000</td>\n",
       "    </tr>\n",
       "    <tr>\n",
       "      <th>4</th>\n",
       "      <td>Chelsea_Peretti</td>\n",
       "      <td>14.333333</td>\n",
       "    </tr>\n",
       "    <tr>\n",
       "      <th>5</th>\n",
       "      <td>Chelsea_Peretti_2</td>\n",
       "      <td>31.636364</td>\n",
       "    </tr>\n",
       "    <tr>\n",
       "      <th>6</th>\n",
       "      <td>Donald_Glover</td>\n",
       "      <td>23.625000</td>\n",
       "    </tr>\n",
       "    <tr>\n",
       "      <th>7</th>\n",
       "      <td>Donald_Glover_2</td>\n",
       "      <td>24.000000</td>\n",
       "    </tr>\n",
       "    <tr>\n",
       "      <th>8</th>\n",
       "      <td>Hasan_Minhaj</td>\n",
       "      <td>36.250000</td>\n",
       "    </tr>\n",
       "    <tr>\n",
       "      <th>9</th>\n",
       "      <td>Hasan_Minhaj_2</td>\n",
       "      <td>25.500000</td>\n",
       "    </tr>\n",
       "    <tr>\n",
       "      <th>10</th>\n",
       "      <td>Iliza_Shlesinger</td>\n",
       "      <td>27.500000</td>\n",
       "    </tr>\n",
       "    <tr>\n",
       "      <th>11</th>\n",
       "      <td>Iliza_Shlesinger_2</td>\n",
       "      <td>11.800000</td>\n",
       "    </tr>\n",
       "    <tr>\n",
       "      <th>12</th>\n",
       "      <td>Jim_Gaffigan</td>\n",
       "      <td>21.722222</td>\n",
       "    </tr>\n",
       "    <tr>\n",
       "      <th>13</th>\n",
       "      <td>Jim_Gaffigan_2</td>\n",
       "      <td>14.250000</td>\n",
       "    </tr>\n",
       "    <tr>\n",
       "      <th>14</th>\n",
       "      <td>Jimmy_Yang</td>\n",
       "      <td>17.300000</td>\n",
       "    </tr>\n",
       "    <tr>\n",
       "      <th>15</th>\n",
       "      <td>Jimmy_Yang_2</td>\n",
       "      <td>49.400000</td>\n",
       "    </tr>\n",
       "    <tr>\n",
       "      <th>16</th>\n",
       "      <td>Joe_List</td>\n",
       "      <td>35.062500</td>\n",
       "    </tr>\n",
       "    <tr>\n",
       "      <th>17</th>\n",
       "      <td>Joe_List_2</td>\n",
       "      <td>27.100000</td>\n",
       "    </tr>\n",
       "    <tr>\n",
       "      <th>18</th>\n",
       "      <td>John_Mulaney</td>\n",
       "      <td>41.357143</td>\n",
       "    </tr>\n",
       "    <tr>\n",
       "      <th>19</th>\n",
       "      <td>John_Mulaney_2</td>\n",
       "      <td>21.857143</td>\n",
       "    </tr>\n",
       "    <tr>\n",
       "      <th>20</th>\n",
       "      <td>Louis_CK</td>\n",
       "      <td>28.687500</td>\n",
       "    </tr>\n",
       "    <tr>\n",
       "      <th>21</th>\n",
       "      <td>Louis_CK_2</td>\n",
       "      <td>20.750000</td>\n",
       "    </tr>\n",
       "    <tr>\n",
       "      <th>22</th>\n",
       "      <td>Nate_Bargatze</td>\n",
       "      <td>12.071429</td>\n",
       "    </tr>\n",
       "    <tr>\n",
       "      <th>23</th>\n",
       "      <td>Nate_Bargatze_2</td>\n",
       "      <td>21.875000</td>\n",
       "    </tr>\n",
       "    <tr>\n",
       "      <th>24</th>\n",
       "      <td>Nate_Bargatze_TK</td>\n",
       "      <td>33.071429</td>\n",
       "    </tr>\n",
       "    <tr>\n",
       "      <th>25</th>\n",
       "      <td>Nate_Bargatze_TK_2</td>\n",
       "      <td>43.833333</td>\n",
       "    </tr>\n",
       "    <tr>\n",
       "      <th>26</th>\n",
       "      <td>Russell_Peters</td>\n",
       "      <td>26.600000</td>\n",
       "    </tr>\n",
       "    <tr>\n",
       "      <th>27</th>\n",
       "      <td>Russell_Peters_2</td>\n",
       "      <td>71.333333</td>\n",
       "    </tr>\n",
       "    <tr>\n",
       "      <th>28</th>\n",
       "      <td>Sam_Morril</td>\n",
       "      <td>5.708333</td>\n",
       "    </tr>\n",
       "    <tr>\n",
       "      <th>29</th>\n",
       "      <td>Sam_Morril_2</td>\n",
       "      <td>16.333333</td>\n",
       "    </tr>\n",
       "    <tr>\n",
       "      <th>30</th>\n",
       "      <td>Tom_Segura</td>\n",
       "      <td>22.722222</td>\n",
       "    </tr>\n",
       "    <tr>\n",
       "      <th>31</th>\n",
       "      <td>Tom_Segura_2</td>\n",
       "      <td>28.000000</td>\n",
       "    </tr>\n",
       "    <tr>\n",
       "      <th>32</th>\n",
       "      <td>Trevor_Noah</td>\n",
       "      <td>16.666667</td>\n",
       "    </tr>\n",
       "    <tr>\n",
       "      <th>33</th>\n",
       "      <td>Trevor_Noah_2</td>\n",
       "      <td>32.000000</td>\n",
       "    </tr>\n",
       "  </tbody>\n",
       "</table>\n",
       "</div>"
      ],
      "text/plain": [
       "              comedian      score\n",
       "0             Ali_Wong  32.916667\n",
       "1           Ali_Wong_2  40.428571\n",
       "2     Anthony_Jeselnik  18.642857\n",
       "3   Anthony_Jeselnik_2  63.500000\n",
       "4      Chelsea_Peretti  14.333333\n",
       "5    Chelsea_Peretti_2  31.636364\n",
       "6        Donald_Glover  23.625000\n",
       "7      Donald_Glover_2  24.000000\n",
       "8         Hasan_Minhaj  36.250000\n",
       "9       Hasan_Minhaj_2  25.500000\n",
       "10    Iliza_Shlesinger  27.500000\n",
       "11  Iliza_Shlesinger_2  11.800000\n",
       "12        Jim_Gaffigan  21.722222\n",
       "13      Jim_Gaffigan_2  14.250000\n",
       "14          Jimmy_Yang  17.300000\n",
       "15        Jimmy_Yang_2  49.400000\n",
       "16            Joe_List  35.062500\n",
       "17          Joe_List_2  27.100000\n",
       "18        John_Mulaney  41.357143\n",
       "19      John_Mulaney_2  21.857143\n",
       "20            Louis_CK  28.687500\n",
       "21          Louis_CK_2  20.750000\n",
       "22       Nate_Bargatze  12.071429\n",
       "23     Nate_Bargatze_2  21.875000\n",
       "24    Nate_Bargatze_TK  33.071429\n",
       "25  Nate_Bargatze_TK_2  43.833333\n",
       "26      Russell_Peters  26.600000\n",
       "27    Russell_Peters_2  71.333333\n",
       "28          Sam_Morril   5.708333\n",
       "29        Sam_Morril_2  16.333333\n",
       "30          Tom_Segura  22.722222\n",
       "31        Tom_Segura_2  28.000000\n",
       "32         Trevor_Noah  16.666667\n",
       "33       Trevor_Noah_2  32.000000"
      ]
     },
     "execution_count": 7,
     "metadata": {},
     "output_type": "execute_result"
    }
   ],
   "source": [
    "gemma_metric"
   ]
  },
  {
   "cell_type": "code",
   "execution_count": 8,
   "metadata": {},
   "outputs": [
    {
     "data": {
      "text/plain": [
       "comedian    Trevor_Noah_2\n",
       "score           71.333333\n",
       "dtype: object"
      ]
     },
     "execution_count": 8,
     "metadata": {},
     "output_type": "execute_result"
    }
   ],
   "source": [
    "gemma_metric.max()"
   ]
  },
  {
   "cell_type": "code",
   "execution_count": 9,
   "metadata": {},
   "outputs": [
    {
     "data": {
      "text/html": [
       "<div>\n",
       "<style scoped>\n",
       "    .dataframe tbody tr th:only-of-type {\n",
       "        vertical-align: middle;\n",
       "    }\n",
       "\n",
       "    .dataframe tbody tr th {\n",
       "        vertical-align: top;\n",
       "    }\n",
       "\n",
       "    .dataframe thead th {\n",
       "        text-align: right;\n",
       "    }\n",
       "</style>\n",
       "<table border=\"1\" class=\"dataframe\">\n",
       "  <thead>\n",
       "    <tr style=\"text-align: right;\">\n",
       "      <th></th>\n",
       "      <th>comedian</th>\n",
       "      <th>sentence</th>\n",
       "    </tr>\n",
       "  </thead>\n",
       "  <tbody>\n",
       "    <tr>\n",
       "      <th>111</th>\n",
       "      <td>Trevor_Noah_2</td>\n",
       "      <td>You can't be normal man with a voice like that...</td>\n",
       "    </tr>\n",
       "    <tr>\n",
       "      <th>112</th>\n",
       "      <td>Trevor_Noah_2</td>\n",
       "      <td>It just doesn't work. I remember when Nelson M...</td>\n",
       "    </tr>\n",
       "    <tr>\n",
       "      <th>113</th>\n",
       "      <td>Trevor_Noah_2</td>\n",
       "      <td>Everything he did, he'd just be like, 'Ah, kno...</td>\n",
       "    </tr>\n",
       "  </tbody>\n",
       "</table>\n",
       "</div>"
      ],
      "text/plain": [
       "          comedian                                           sentence\n",
       "111  Trevor_Noah_2  You can't be normal man with a voice like that...\n",
       "112  Trevor_Noah_2  It just doesn't work. I remember when Nelson M...\n",
       "113  Trevor_Noah_2  Everything he did, he'd just be like, 'Ah, kno..."
      ]
     },
     "execution_count": 9,
     "metadata": {},
     "output_type": "execute_result"
    }
   ],
   "source": [
    "model[model[\"comedian\"] == \"Trevor_Noah_2\"]"
   ]
  },
  {
   "cell_type": "code",
   "execution_count": 10,
   "metadata": {},
   "outputs": [
    {
     "data": {
      "text/html": [
       "<div>\n",
       "<style scoped>\n",
       "    .dataframe tbody tr th:only-of-type {\n",
       "        vertical-align: middle;\n",
       "    }\n",
       "\n",
       "    .dataframe tbody tr th {\n",
       "        vertical-align: top;\n",
       "    }\n",
       "\n",
       "    .dataframe thead th {\n",
       "        text-align: right;\n",
       "    }\n",
       "</style>\n",
       "<table border=\"1\" class=\"dataframe\">\n",
       "  <thead>\n",
       "    <tr style=\"text-align: right;\">\n",
       "      <th></th>\n",
       "      <th>comedian</th>\n",
       "      <th>laugh_start</th>\n",
       "      <th>laugh_end</th>\n",
       "      <th>sentence</th>\n",
       "    </tr>\n",
       "  </thead>\n",
       "  <tbody>\n",
       "    <tr>\n",
       "      <th>238</th>\n",
       "      <td>Trevor_Noah_2</td>\n",
       "      <td>13.273</td>\n",
       "      <td>17.662</td>\n",
       "      <td>You can't be running in the streets: \"And a Ki...</td>\n",
       "    </tr>\n",
       "    <tr>\n",
       "      <th>239</th>\n",
       "      <td>Trevor_Noah_2</td>\n",
       "      <td>26.474</td>\n",
       "      <td>27.698</td>\n",
       "      <td>\"Who the hell is this?!\" \"I'm not telling you.\"</td>\n",
       "    </tr>\n",
       "    <tr>\n",
       "      <th>240</th>\n",
       "      <td>Trevor_Noah_2</td>\n",
       "      <td>60.423</td>\n",
       "      <td>62.326</td>\n",
       "      <td>People would be like, \"Let him in. Let him in!\"</td>\n",
       "    </tr>\n",
       "    <tr>\n",
       "      <th>241</th>\n",
       "      <td>Trevor_Noah_2</td>\n",
       "      <td>74.216</td>\n",
       "      <td>78.397</td>\n",
       "      <td>\"He is so right. We've always got to ask, 'Who...</td>\n",
       "    </tr>\n",
       "  </tbody>\n",
       "</table>\n",
       "</div>"
      ],
      "text/plain": [
       "          comedian  laugh_start  laugh_end  \\\n",
       "238  Trevor_Noah_2       13.273     17.662   \n",
       "239  Trevor_Noah_2       26.474     27.698   \n",
       "240  Trevor_Noah_2       60.423     62.326   \n",
       "241  Trevor_Noah_2       74.216     78.397   \n",
       "\n",
       "                                              sentence  \n",
       "238  You can't be running in the streets: \"And a Ki...  \n",
       "239    \"Who the hell is this?!\" \"I'm not telling you.\"  \n",
       "240    People would be like, \"Let him in. Let him in!\"  \n",
       "241  \"He is so right. We've always got to ask, 'Who...  "
      ]
     },
     "execution_count": 10,
     "metadata": {},
     "output_type": "execute_result"
    }
   ],
   "source": [
    "ground_truth[ground_truth[\"comedian\"] == \"Trevor_Noah_2\"]"
   ]
  },
  {
   "cell_type": "code",
   "execution_count": 11,
   "metadata": {},
   "outputs": [
    {
     "data": {
      "text/plain": [
       "comedian    Ali_Wong\n",
       "score       5.708333\n",
       "dtype: object"
      ]
     },
     "execution_count": 11,
     "metadata": {},
     "output_type": "execute_result"
    }
   ],
   "source": [
    "gemma_metric.min()"
   ]
  },
  {
   "cell_type": "code",
   "execution_count": 12,
   "metadata": {},
   "outputs": [
    {
     "data": {
      "text/html": [
       "<div>\n",
       "<style scoped>\n",
       "    .dataframe tbody tr th:only-of-type {\n",
       "        vertical-align: middle;\n",
       "    }\n",
       "\n",
       "    .dataframe tbody tr th {\n",
       "        vertical-align: top;\n",
       "    }\n",
       "\n",
       "    .dataframe thead th {\n",
       "        text-align: right;\n",
       "    }\n",
       "</style>\n",
       "<table border=\"1\" class=\"dataframe\">\n",
       "  <thead>\n",
       "    <tr style=\"text-align: right;\">\n",
       "      <th></th>\n",
       "      <th>comedian</th>\n",
       "      <th>sentence</th>\n",
       "    </tr>\n",
       "  </thead>\n",
       "  <tbody>\n",
       "    <tr>\n",
       "      <th>6</th>\n",
       "      <td>Ali_Wong</td>\n",
       "      <td>It was like the worst experience of my life. I...</td>\n",
       "    </tr>\n",
       "    <tr>\n",
       "      <th>7</th>\n",
       "      <td>Ali_Wong</td>\n",
       "      <td>Those of you under 25 probably don't know what...</td>\n",
       "    </tr>\n",
       "    <tr>\n",
       "      <th>8</th>\n",
       "      <td>Ali_Wong</td>\n",
       "      <td>It was like the Tesla of my time.</td>\n",
       "    </tr>\n",
       "    <tr>\n",
       "      <th>9</th>\n",
       "      <td>Ali_Wong</td>\n",
       "      <td>I'm not trying to be a procrastinator anymore....</td>\n",
       "    </tr>\n",
       "  </tbody>\n",
       "</table>\n",
       "</div>"
      ],
      "text/plain": [
       "   comedian                                           sentence\n",
       "6  Ali_Wong  It was like the worst experience of my life. I...\n",
       "7  Ali_Wong  Those of you under 25 probably don't know what...\n",
       "8  Ali_Wong                  It was like the Tesla of my time.\n",
       "9  Ali_Wong  I'm not trying to be a procrastinator anymore...."
      ]
     },
     "execution_count": 12,
     "metadata": {},
     "output_type": "execute_result"
    }
   ],
   "source": [
    "model[model[\"comedian\"] == \"Ali_Wong\"]"
   ]
  },
  {
   "cell_type": "code",
   "execution_count": 13,
   "metadata": {},
   "outputs": [
    {
     "data": {
      "text/html": [
       "<div>\n",
       "<style scoped>\n",
       "    .dataframe tbody tr th:only-of-type {\n",
       "        vertical-align: middle;\n",
       "    }\n",
       "\n",
       "    .dataframe tbody tr th {\n",
       "        vertical-align: top;\n",
       "    }\n",
       "\n",
       "    .dataframe thead th {\n",
       "        text-align: right;\n",
       "    }\n",
       "</style>\n",
       "<table border=\"1\" class=\"dataframe\">\n",
       "  <thead>\n",
       "    <tr style=\"text-align: right;\">\n",
       "      <th></th>\n",
       "      <th>comedian</th>\n",
       "      <th>laugh_start</th>\n",
       "      <th>laugh_end</th>\n",
       "      <th>sentence</th>\n",
       "    </tr>\n",
       "  </thead>\n",
       "  <tbody>\n",
       "    <tr>\n",
       "      <th>77</th>\n",
       "      <td>Ali_Wong</td>\n",
       "      <td>21.007</td>\n",
       "      <td>28.986</td>\n",
       "      <td>We were screaming and fighting and yelling and...</td>\n",
       "    </tr>\n",
       "    <tr>\n",
       "      <th>78</th>\n",
       "      <td>Ali_Wong</td>\n",
       "      <td>48.803</td>\n",
       "      <td>51.189</td>\n",
       "      <td>We were all required to buy it when we were in...</td>\n",
       "    </tr>\n",
       "    <tr>\n",
       "      <th>79</th>\n",
       "      <td>Ali_Wong</td>\n",
       "      <td>56.780</td>\n",
       "      <td>60.001</td>\n",
       "      <td>All because what? It could graph.</td>\n",
       "    </tr>\n",
       "    <tr>\n",
       "      <th>80</th>\n",
       "      <td>Ali_Wong</td>\n",
       "      <td>62.470</td>\n",
       "      <td>66.230</td>\n",
       "      <td>It was like the Tesla of my time.</td>\n",
       "    </tr>\n",
       "    <tr>\n",
       "      <th>81</th>\n",
       "      <td>Ali_Wong</td>\n",
       "      <td>69.380</td>\n",
       "      <td>71.670</td>\n",
       "      <td>I do know... that I'm gonna have to clean all ...</td>\n",
       "    </tr>\n",
       "    <tr>\n",
       "      <th>82</th>\n",
       "      <td>Ali_Wong</td>\n",
       "      <td>93.523</td>\n",
       "      <td>98.684</td>\n",
       "      <td>Because according to Deepak-Oprah, that's not ...</td>\n",
       "    </tr>\n",
       "  </tbody>\n",
       "</table>\n",
       "</div>"
      ],
      "text/plain": [
       "    comedian  laugh_start  laugh_end  \\\n",
       "77  Ali_Wong       21.007     28.986   \n",
       "78  Ali_Wong       48.803     51.189   \n",
       "79  Ali_Wong       56.780     60.001   \n",
       "80  Ali_Wong       62.470     66.230   \n",
       "81  Ali_Wong       69.380     71.670   \n",
       "82  Ali_Wong       93.523     98.684   \n",
       "\n",
       "                                             sentence  \n",
       "77  We were screaming and fighting and yelling and...  \n",
       "78  We were all required to buy it when we were in...  \n",
       "79                  All because what? It could graph.  \n",
       "80                  It was like the Tesla of my time.  \n",
       "81  I do know... that I'm gonna have to clean all ...  \n",
       "82  Because according to Deepak-Oprah, that's not ...  "
      ]
     },
     "execution_count": 13,
     "metadata": {},
     "output_type": "execute_result"
    }
   ],
   "source": [
    "ground_truth[ground_truth[\"comedian\"] == \"Ali_Wong\"]"
   ]
  },
  {
   "cell_type": "code",
   "execution_count": 14,
   "metadata": {},
   "outputs": [
    {
     "data": {
      "text/plain": [
       "28.17159939733469"
      ]
     },
     "execution_count": 14,
     "metadata": {},
     "output_type": "execute_result"
    }
   ],
   "source": [
    "gemma_metric[\"score\"].mean() "
   ]
  },
  {
   "cell_type": "code",
   "execution_count": 15,
   "metadata": {},
   "outputs": [],
   "source": [
    "#Brute Force\n",
    "brute_sentences = []\n",
    "for i in range(len(transcript['comedian'])):\n",
    "    comedian = transcript['comedian'][i]\n",
    "    trans = transcript['transcript'][i]\n",
    "    sentences = nltk.sent_tokenize(trans)\n",
    "    for sentence in sentences:\n",
    "        brute_sentences.append({'comedian': comedian, 'sentence': sentence})"
   ]
  },
  {
   "cell_type": "code",
   "execution_count": 16,
   "metadata": {},
   "outputs": [],
   "source": [
    "brute_model = pd.DataFrame(brute_sentences)"
   ]
  },
  {
   "cell_type": "code",
   "execution_count": 17,
   "metadata": {},
   "outputs": [],
   "source": [
    "brute = bipartite_metric(brute_model, ground_truth)"
   ]
  },
  {
   "cell_type": "code",
   "execution_count": 18,
   "metadata": {},
   "outputs": [
    {
     "data": {
      "text/html": [
       "<div>\n",
       "<style scoped>\n",
       "    .dataframe tbody tr th:only-of-type {\n",
       "        vertical-align: middle;\n",
       "    }\n",
       "\n",
       "    .dataframe tbody tr th {\n",
       "        vertical-align: top;\n",
       "    }\n",
       "\n",
       "    .dataframe thead th {\n",
       "        text-align: right;\n",
       "    }\n",
       "</style>\n",
       "<table border=\"1\" class=\"dataframe\">\n",
       "  <thead>\n",
       "    <tr style=\"text-align: right;\">\n",
       "      <th></th>\n",
       "      <th>comedian</th>\n",
       "      <th>score</th>\n",
       "    </tr>\n",
       "  </thead>\n",
       "  <tbody>\n",
       "    <tr>\n",
       "      <th>0</th>\n",
       "      <td>Ali_Wong</td>\n",
       "      <td>68.113095</td>\n",
       "    </tr>\n",
       "    <tr>\n",
       "      <th>1</th>\n",
       "      <td>Ali_Wong_2</td>\n",
       "      <td>64.980952</td>\n",
       "    </tr>\n",
       "    <tr>\n",
       "      <th>2</th>\n",
       "      <td>Anthony_Jeselnik</td>\n",
       "      <td>56.935374</td>\n",
       "    </tr>\n",
       "    <tr>\n",
       "      <th>3</th>\n",
       "      <td>Anthony_Jeselnik_2</td>\n",
       "      <td>39.847222</td>\n",
       "    </tr>\n",
       "    <tr>\n",
       "      <th>4</th>\n",
       "      <td>Chelsea_Peretti</td>\n",
       "      <td>60.100000</td>\n",
       "    </tr>\n",
       "    <tr>\n",
       "      <th>5</th>\n",
       "      <td>Chelsea_Peretti_2</td>\n",
       "      <td>48.007576</td>\n",
       "    </tr>\n",
       "    <tr>\n",
       "      <th>6</th>\n",
       "      <td>Donald_Glover</td>\n",
       "      <td>45.583333</td>\n",
       "    </tr>\n",
       "    <tr>\n",
       "      <th>7</th>\n",
       "      <td>Donald_Glover_2</td>\n",
       "      <td>54.489583</td>\n",
       "    </tr>\n",
       "    <tr>\n",
       "      <th>8</th>\n",
       "      <td>Hasan_Minhaj</td>\n",
       "      <td>50.373958</td>\n",
       "    </tr>\n",
       "    <tr>\n",
       "      <th>9</th>\n",
       "      <td>Hasan_Minhaj_2</td>\n",
       "      <td>49.883333</td>\n",
       "    </tr>\n",
       "    <tr>\n",
       "      <th>10</th>\n",
       "      <td>Iliza_Shlesinger</td>\n",
       "      <td>56.672222</td>\n",
       "    </tr>\n",
       "    <tr>\n",
       "      <th>11</th>\n",
       "      <td>Iliza_Shlesinger_2</td>\n",
       "      <td>45.559524</td>\n",
       "    </tr>\n",
       "    <tr>\n",
       "      <th>12</th>\n",
       "      <td>Jim_Gaffigan</td>\n",
       "      <td>58.172222</td>\n",
       "    </tr>\n",
       "    <tr>\n",
       "      <th>13</th>\n",
       "      <td>Jim_Gaffigan_2</td>\n",
       "      <td>63.333333</td>\n",
       "    </tr>\n",
       "    <tr>\n",
       "      <th>14</th>\n",
       "      <td>Jimmy_Yang</td>\n",
       "      <td>65.141667</td>\n",
       "    </tr>\n",
       "    <tr>\n",
       "      <th>15</th>\n",
       "      <td>Jimmy_Yang_2</td>\n",
       "      <td>56.486667</td>\n",
       "    </tr>\n",
       "    <tr>\n",
       "      <th>16</th>\n",
       "      <td>Joe_List</td>\n",
       "      <td>59.462500</td>\n",
       "    </tr>\n",
       "    <tr>\n",
       "      <th>17</th>\n",
       "      <td>Joe_List_2</td>\n",
       "      <td>58.155303</td>\n",
       "    </tr>\n",
       "    <tr>\n",
       "      <th>18</th>\n",
       "      <td>John_Mulaney</td>\n",
       "      <td>64.047619</td>\n",
       "    </tr>\n",
       "    <tr>\n",
       "      <th>19</th>\n",
       "      <td>John_Mulaney_2</td>\n",
       "      <td>77.329762</td>\n",
       "    </tr>\n",
       "    <tr>\n",
       "      <th>20</th>\n",
       "      <td>Louis_CK</td>\n",
       "      <td>63.114583</td>\n",
       "    </tr>\n",
       "    <tr>\n",
       "      <th>21</th>\n",
       "      <td>Louis_CK_2</td>\n",
       "      <td>66.600000</td>\n",
       "    </tr>\n",
       "    <tr>\n",
       "      <th>22</th>\n",
       "      <td>Nate_Bargatze</td>\n",
       "      <td>60.891026</td>\n",
       "    </tr>\n",
       "    <tr>\n",
       "      <th>23</th>\n",
       "      <td>Nate_Bargatze_2</td>\n",
       "      <td>62.239583</td>\n",
       "    </tr>\n",
       "    <tr>\n",
       "      <th>24</th>\n",
       "      <td>Nate_Bargatze_TK</td>\n",
       "      <td>69.098639</td>\n",
       "    </tr>\n",
       "    <tr>\n",
       "      <th>25</th>\n",
       "      <td>Nate_Bargatze_TK_2</td>\n",
       "      <td>55.423611</td>\n",
       "    </tr>\n",
       "    <tr>\n",
       "      <th>26</th>\n",
       "      <td>Russell_Peters</td>\n",
       "      <td>67.757143</td>\n",
       "    </tr>\n",
       "    <tr>\n",
       "      <th>27</th>\n",
       "      <td>Russell_Peters_2</td>\n",
       "      <td>67.013889</td>\n",
       "    </tr>\n",
       "    <tr>\n",
       "      <th>28</th>\n",
       "      <td>Sam_Morril</td>\n",
       "      <td>59.579762</td>\n",
       "    </tr>\n",
       "    <tr>\n",
       "      <th>29</th>\n",
       "      <td>Sam_Morril_2</td>\n",
       "      <td>66.435983</td>\n",
       "    </tr>\n",
       "    <tr>\n",
       "      <th>30</th>\n",
       "      <td>Tom_Segura</td>\n",
       "      <td>44.255556</td>\n",
       "    </tr>\n",
       "    <tr>\n",
       "      <th>31</th>\n",
       "      <td>Tom_Segura_2</td>\n",
       "      <td>52.000000</td>\n",
       "    </tr>\n",
       "    <tr>\n",
       "      <th>32</th>\n",
       "      <td>Trevor_Noah</td>\n",
       "      <td>49.676234</td>\n",
       "    </tr>\n",
       "    <tr>\n",
       "      <th>33</th>\n",
       "      <td>Trevor_Noah_2</td>\n",
       "      <td>41.916667</td>\n",
       "    </tr>\n",
       "  </tbody>\n",
       "</table>\n",
       "</div>"
      ],
      "text/plain": [
       "              comedian      score\n",
       "0             Ali_Wong  68.113095\n",
       "1           Ali_Wong_2  64.980952\n",
       "2     Anthony_Jeselnik  56.935374\n",
       "3   Anthony_Jeselnik_2  39.847222\n",
       "4      Chelsea_Peretti  60.100000\n",
       "5    Chelsea_Peretti_2  48.007576\n",
       "6        Donald_Glover  45.583333\n",
       "7      Donald_Glover_2  54.489583\n",
       "8         Hasan_Minhaj  50.373958\n",
       "9       Hasan_Minhaj_2  49.883333\n",
       "10    Iliza_Shlesinger  56.672222\n",
       "11  Iliza_Shlesinger_2  45.559524\n",
       "12        Jim_Gaffigan  58.172222\n",
       "13      Jim_Gaffigan_2  63.333333\n",
       "14          Jimmy_Yang  65.141667\n",
       "15        Jimmy_Yang_2  56.486667\n",
       "16            Joe_List  59.462500\n",
       "17          Joe_List_2  58.155303\n",
       "18        John_Mulaney  64.047619\n",
       "19      John_Mulaney_2  77.329762\n",
       "20            Louis_CK  63.114583\n",
       "21          Louis_CK_2  66.600000\n",
       "22       Nate_Bargatze  60.891026\n",
       "23     Nate_Bargatze_2  62.239583\n",
       "24    Nate_Bargatze_TK  69.098639\n",
       "25  Nate_Bargatze_TK_2  55.423611\n",
       "26      Russell_Peters  67.757143\n",
       "27    Russell_Peters_2  67.013889\n",
       "28          Sam_Morril  59.579762\n",
       "29        Sam_Morril_2  66.435983\n",
       "30          Tom_Segura  44.255556\n",
       "31        Tom_Segura_2  52.000000\n",
       "32         Trevor_Noah  49.676234\n",
       "33       Trevor_Noah_2  41.916667"
      ]
     },
     "execution_count": 18,
     "metadata": {},
     "output_type": "execute_result"
    }
   ],
   "source": [
    "brute"
   ]
  },
  {
   "cell_type": "code",
   "execution_count": 19,
   "metadata": {},
   "outputs": [
    {
     "data": {
      "text/plain": [
       "57.90229182967922"
      ]
     },
     "execution_count": 19,
     "metadata": {},
     "output_type": "execute_result"
    }
   ],
   "source": [
    "brute[\"score\"].mean() "
   ]
  },
  {
   "cell_type": "code",
   "execution_count": 20,
   "metadata": {},
   "outputs": [
    {
     "data": {
      "text/plain": [
       "29.25320006790595"
      ]
     },
     "execution_count": 20,
     "metadata": {},
     "output_type": "execute_result"
    }
   ],
   "source": [
    "#random\n",
    "random_model = pd.read_csv(\"/home/ada/humor/data/stand_up_dataset/random_gemma_quotes.csv\")\n",
    "random = bipartite_metric(random_model, ground_truth)\n",
    "random[\"score\"].mean() "
   ]
  },
  {
   "cell_type": "code",
   "execution_count": 21,
   "metadata": {},
   "outputs": [
    {
     "data": {
      "text/html": [
       "<div>\n",
       "<style scoped>\n",
       "    .dataframe tbody tr th:only-of-type {\n",
       "        vertical-align: middle;\n",
       "    }\n",
       "\n",
       "    .dataframe tbody tr th {\n",
       "        vertical-align: top;\n",
       "    }\n",
       "\n",
       "    .dataframe thead th {\n",
       "        text-align: right;\n",
       "    }\n",
       "</style>\n",
       "<table border=\"1\" class=\"dataframe\">\n",
       "  <thead>\n",
       "    <tr style=\"text-align: right;\">\n",
       "      <th></th>\n",
       "      <th>comedian</th>\n",
       "      <th>score</th>\n",
       "    </tr>\n",
       "  </thead>\n",
       "  <tbody>\n",
       "    <tr>\n",
       "      <th>0</th>\n",
       "      <td>Ali_Wong</td>\n",
       "      <td>40.833333</td>\n",
       "    </tr>\n",
       "    <tr>\n",
       "      <th>1</th>\n",
       "      <td>Ali_Wong_2</td>\n",
       "      <td>43.785714</td>\n",
       "    </tr>\n",
       "    <tr>\n",
       "      <th>2</th>\n",
       "      <td>Anthony_Jeselnik</td>\n",
       "      <td>17.571429</td>\n",
       "    </tr>\n",
       "    <tr>\n",
       "      <th>3</th>\n",
       "      <td>Anthony_Jeselnik_2</td>\n",
       "      <td>40.000000</td>\n",
       "    </tr>\n",
       "    <tr>\n",
       "      <th>4</th>\n",
       "      <td>Chelsea_Peretti</td>\n",
       "      <td>14.750000</td>\n",
       "    </tr>\n",
       "    <tr>\n",
       "      <th>5</th>\n",
       "      <td>Chelsea_Peretti_2</td>\n",
       "      <td>38.181818</td>\n",
       "    </tr>\n",
       "    <tr>\n",
       "      <th>6</th>\n",
       "      <td>Donald_Glover</td>\n",
       "      <td>16.625000</td>\n",
       "    </tr>\n",
       "    <tr>\n",
       "      <th>7</th>\n",
       "      <td>Donald_Glover_2</td>\n",
       "      <td>21.937500</td>\n",
       "    </tr>\n",
       "    <tr>\n",
       "      <th>8</th>\n",
       "      <td>Hasan_Minhaj</td>\n",
       "      <td>9.375000</td>\n",
       "    </tr>\n",
       "    <tr>\n",
       "      <th>9</th>\n",
       "      <td>Hasan_Minhaj_2</td>\n",
       "      <td>38.600000</td>\n",
       "    </tr>\n",
       "    <tr>\n",
       "      <th>10</th>\n",
       "      <td>Iliza_Shlesinger</td>\n",
       "      <td>19.666667</td>\n",
       "    </tr>\n",
       "    <tr>\n",
       "      <th>11</th>\n",
       "      <td>Iliza_Shlesinger_2</td>\n",
       "      <td>38.866667</td>\n",
       "    </tr>\n",
       "    <tr>\n",
       "      <th>12</th>\n",
       "      <td>Jim_Gaffigan</td>\n",
       "      <td>28.777778</td>\n",
       "    </tr>\n",
       "    <tr>\n",
       "      <th>13</th>\n",
       "      <td>Jim_Gaffigan_2</td>\n",
       "      <td>28.900000</td>\n",
       "    </tr>\n",
       "    <tr>\n",
       "      <th>14</th>\n",
       "      <td>Jimmy_Yang</td>\n",
       "      <td>36.900000</td>\n",
       "    </tr>\n",
       "    <tr>\n",
       "      <th>15</th>\n",
       "      <td>Jimmy_Yang_2</td>\n",
       "      <td>38.600000</td>\n",
       "    </tr>\n",
       "    <tr>\n",
       "      <th>16</th>\n",
       "      <td>Joe_List</td>\n",
       "      <td>24.520833</td>\n",
       "    </tr>\n",
       "    <tr>\n",
       "      <th>17</th>\n",
       "      <td>Joe_List_2</td>\n",
       "      <td>29.800000</td>\n",
       "    </tr>\n",
       "    <tr>\n",
       "      <th>18</th>\n",
       "      <td>John_Mulaney</td>\n",
       "      <td>21.714286</td>\n",
       "    </tr>\n",
       "    <tr>\n",
       "      <th>19</th>\n",
       "      <td>John_Mulaney_2</td>\n",
       "      <td>20.428571</td>\n",
       "    </tr>\n",
       "    <tr>\n",
       "      <th>20</th>\n",
       "      <td>Louis_CK</td>\n",
       "      <td>36.625000</td>\n",
       "    </tr>\n",
       "    <tr>\n",
       "      <th>21</th>\n",
       "      <td>Louis_CK_2</td>\n",
       "      <td>48.250000</td>\n",
       "    </tr>\n",
       "    <tr>\n",
       "      <th>22</th>\n",
       "      <td>Nate_Bargatze</td>\n",
       "      <td>28.857143</td>\n",
       "    </tr>\n",
       "    <tr>\n",
       "      <th>23</th>\n",
       "      <td>Nate_Bargatze_2</td>\n",
       "      <td>27.375000</td>\n",
       "    </tr>\n",
       "    <tr>\n",
       "      <th>24</th>\n",
       "      <td>Nate_Bargatze_TK</td>\n",
       "      <td>41.714286</td>\n",
       "    </tr>\n",
       "    <tr>\n",
       "      <th>25</th>\n",
       "      <td>Nate_Bargatze_TK_2</td>\n",
       "      <td>12.333333</td>\n",
       "    </tr>\n",
       "    <tr>\n",
       "      <th>26</th>\n",
       "      <td>Russell_Peters</td>\n",
       "      <td>34.600000</td>\n",
       "    </tr>\n",
       "    <tr>\n",
       "      <th>27</th>\n",
       "      <td>Russell_Peters_2</td>\n",
       "      <td>42.833333</td>\n",
       "    </tr>\n",
       "    <tr>\n",
       "      <th>28</th>\n",
       "      <td>Sam_Morril</td>\n",
       "      <td>18.458333</td>\n",
       "    </tr>\n",
       "    <tr>\n",
       "      <th>29</th>\n",
       "      <td>Sam_Morril_2</td>\n",
       "      <td>18.833333</td>\n",
       "    </tr>\n",
       "    <tr>\n",
       "      <th>30</th>\n",
       "      <td>Tom_Segura</td>\n",
       "      <td>24.666667</td>\n",
       "    </tr>\n",
       "    <tr>\n",
       "      <th>31</th>\n",
       "      <td>Tom_Segura_2</td>\n",
       "      <td>35.700000</td>\n",
       "    </tr>\n",
       "    <tr>\n",
       "      <th>32</th>\n",
       "      <td>Trevor_Noah</td>\n",
       "      <td>6.944444</td>\n",
       "    </tr>\n",
       "    <tr>\n",
       "      <th>33</th>\n",
       "      <td>Trevor_Noah_2</td>\n",
       "      <td>47.583333</td>\n",
       "    </tr>\n",
       "  </tbody>\n",
       "</table>\n",
       "</div>"
      ],
      "text/plain": [
       "              comedian      score\n",
       "0             Ali_Wong  40.833333\n",
       "1           Ali_Wong_2  43.785714\n",
       "2     Anthony_Jeselnik  17.571429\n",
       "3   Anthony_Jeselnik_2  40.000000\n",
       "4      Chelsea_Peretti  14.750000\n",
       "5    Chelsea_Peretti_2  38.181818\n",
       "6        Donald_Glover  16.625000\n",
       "7      Donald_Glover_2  21.937500\n",
       "8         Hasan_Minhaj   9.375000\n",
       "9       Hasan_Minhaj_2  38.600000\n",
       "10    Iliza_Shlesinger  19.666667\n",
       "11  Iliza_Shlesinger_2  38.866667\n",
       "12        Jim_Gaffigan  28.777778\n",
       "13      Jim_Gaffigan_2  28.900000\n",
       "14          Jimmy_Yang  36.900000\n",
       "15        Jimmy_Yang_2  38.600000\n",
       "16            Joe_List  24.520833\n",
       "17          Joe_List_2  29.800000\n",
       "18        John_Mulaney  21.714286\n",
       "19      John_Mulaney_2  20.428571\n",
       "20            Louis_CK  36.625000\n",
       "21          Louis_CK_2  48.250000\n",
       "22       Nate_Bargatze  28.857143\n",
       "23     Nate_Bargatze_2  27.375000\n",
       "24    Nate_Bargatze_TK  41.714286\n",
       "25  Nate_Bargatze_TK_2  12.333333\n",
       "26      Russell_Peters  34.600000\n",
       "27    Russell_Peters_2  42.833333\n",
       "28          Sam_Morril  18.458333\n",
       "29        Sam_Morril_2  18.833333\n",
       "30          Tom_Segura  24.666667\n",
       "31        Tom_Segura_2  35.700000\n",
       "32         Trevor_Noah   6.944444\n",
       "33       Trevor_Noah_2  47.583333"
      ]
     },
     "execution_count": 21,
     "metadata": {},
     "output_type": "execute_result"
    }
   ],
   "source": [
    "random"
   ]
  },
  {
   "cell_type": "code",
   "execution_count": 22,
   "metadata": {},
   "outputs": [],
   "source": [
    "gemma = gemma_metric.assign(model=\"gemma\") \n",
    "brute = brute.assign(model=\"brute\") \n",
    "random = random.assign(model=\"random\") "
   ]
  },
  {
   "cell_type": "code",
   "execution_count": 23,
   "metadata": {},
   "outputs": [],
   "source": [
    "df = pd.concat([gemma, brute, random]).reset_index(drop=True)"
   ]
  },
  {
   "cell_type": "code",
   "execution_count": 24,
   "metadata": {},
   "outputs": [
    {
     "data": {
      "text/plain": [
       "<seaborn.axisgrid.FacetGrid at 0x7f1d8f3b3ee0>"
      ]
     },
     "execution_count": 24,
     "metadata": {},
     "output_type": "execute_result"
    },
    {
     "data": {
      "image/png": "[encoded data removed]",
      "text/plain": [
       "<Figure size 604x500 with 1 Axes>"
      ]
     },
     "metadata": {},
     "output_type": "display_data"
    }
   ],
   "source": [
    "sns.displot(df, x=\"score\", hue=\"model\", kind=\"hist\", shrink=1, multiple=\"dodge\")"
   ]
  },
  {
   "cell_type": "code",
   "execution_count": 25,
   "metadata": {},
   "outputs": [
    {
     "data": {
      "text/plain": [
       "27.03172215856039"
      ]
     },
     "execution_count": 25,
     "metadata": {},
     "output_type": "execute_result"
    }
   ],
   "source": [
    "phi_model = pd.read_csv(\"/home/ada/humor/data/stand_up_dataset/phi3_mini_quotes.csv\")\n",
    "phi_metric = bipartite_metric(phi_model, ground_truth)\n",
    "phi_metric[\"score\"].mean() "
   ]
  },
  {
   "cell_type": "code",
   "execution_count": 26,
   "metadata": {},
   "outputs": [],
   "source": [
    "phi = phi_metric.assign(model=\"phi\") "
   ]
  },
  {
   "cell_type": "code",
   "execution_count": 27,
   "metadata": {},
   "outputs": [],
   "source": [
    "llm = pd.concat([gemma, phi, brute, random]).reset_index(drop=True)"
   ]
  },
  {
   "cell_type": "code",
   "execution_count": 28,
   "metadata": {},
   "outputs": [
    {
     "data": {
      "text/plain": [
       "<seaborn.axisgrid.FacetGrid at 0x7f1d8f6c43a0>"
      ]
     },
     "execution_count": 28,
     "metadata": {},
     "output_type": "execute_result"
    },
    {
     "data": {
      "image/png": "[encoded data removed]",
      "text/plain": [
       "<Figure size 604x500 with 1 Axes>"
      ]
     },
     "metadata": {},
     "output_type": "display_data"
    }
   ],
   "source": [
    "sns.displot(llm, x=\"score\", hue=\"model\", kind=\"hist\", shrink=1, multiple=\"dodge\")"
   ]
  },
  {
   "cell_type": "markdown",
   "metadata": {},
   "source": [
    "Chat_GPT"
   ]
  },
  {
   "cell_type": "code",
   "execution_count": 29,
   "metadata": {},
   "outputs": [
    {
     "data": {
      "text/html": [
       "<div>\n",
       "<style scoped>\n",
       "    .dataframe tbody tr th:only-of-type {\n",
       "        vertical-align: middle;\n",
       "    }\n",
       "\n",
       "    .dataframe tbody tr th {\n",
       "        vertical-align: top;\n",
       "    }\n",
       "\n",
       "    .dataframe thead th {\n",
       "        text-align: right;\n",
       "    }\n",
       "</style>\n",
       "<table border=\"1\" class=\"dataframe\">\n",
       "  <thead>\n",
       "    <tr style=\"text-align: right;\">\n",
       "      <th></th>\n",
       "      <th>comedian</th>\n",
       "      <th>sentence</th>\n",
       "    </tr>\n",
       "  </thead>\n",
       "  <tbody>\n",
       "    <tr>\n",
       "      <th>0</th>\n",
       "      <td>Jimmy_Yang</td>\n",
       "      <td>Asian people, we don’t need Tinder anymore. We...</td>\n",
       "    </tr>\n",
       "    <tr>\n",
       "      <th>1</th>\n",
       "      <td>Jimmy_Yang</td>\n",
       "      <td>I’ve been dating a lot of tall girls lately, b...</td>\n",
       "    </tr>\n",
       "    <tr>\n",
       "      <th>2</th>\n",
       "      <td>Jimmy_Yang</td>\n",
       "      <td>She’s like, it makes my ass look better. I’m l...</td>\n",
       "    </tr>\n",
       "    <tr>\n",
       "      <th>3</th>\n",
       "      <td>Jimmy_Yang</td>\n",
       "      <td>Last time– the last time I took a tall girl to...</td>\n",
       "    </tr>\n",
       "    <tr>\n",
       "      <th>4</th>\n",
       "      <td>Jimmy_Yang</td>\n",
       "      <td>I’m 5′ 5″. I just go to concerts to smell othe...</td>\n",
       "    </tr>\n",
       "    <tr>\n",
       "      <th>5</th>\n",
       "      <td>Jimmy_Yang</td>\n",
       "      <td>She was having the time of her life, doing wha...</td>\n",
       "    </tr>\n",
       "    <tr>\n",
       "      <th>6</th>\n",
       "      <td>Jimmy_Yang</td>\n",
       "      <td>I was frustrated. I had enough. So I just look...</td>\n",
       "    </tr>\n",
       "    <tr>\n",
       "      <th>7</th>\n",
       "      <td>Russell_Peters</td>\n",
       "      <td>He goes, look, you’re a 48-year-old Indian man...</td>\n",
       "    </tr>\n",
       "    <tr>\n",
       "      <th>8</th>\n",
       "      <td>Russell_Peters</td>\n",
       "      <td>There is no way you can be Indian and not have...</td>\n",
       "    </tr>\n",
       "    <tr>\n",
       "      <th>9</th>\n",
       "      <td>Russell_Peters</td>\n",
       "      <td>There’s no way you can consume the food that w...</td>\n",
       "    </tr>\n",
       "    <tr>\n",
       "      <th>10</th>\n",
       "      <td>Russell_Peters</td>\n",
       "      <td>Dad, I want to assure you I have no phagus in ...</td>\n",
       "    </tr>\n",
       "    <tr>\n",
       "      <th>11</th>\n",
       "      <td>Russell_Peters</td>\n",
       "      <td>I’m looking at all of you, especially all the ...</td>\n",
       "    </tr>\n",
       "    <tr>\n",
       "      <th>12</th>\n",
       "      <td>John_Mulaney</td>\n",
       "      <td>We made these big piles of clothes, we put the...</td>\n",
       "    </tr>\n",
       "    <tr>\n",
       "      <th>13</th>\n",
       "      <td>John_Mulaney</td>\n",
       "      <td>One day my wife said, 'Hey, you took that stuf...</td>\n",
       "    </tr>\n",
       "    <tr>\n",
       "      <th>14</th>\n",
       "      <td>John_Mulaney</td>\n",
       "      <td>It was charitable, but it was also fast and vi...</td>\n",
       "    </tr>\n",
       "    <tr>\n",
       "      <th>15</th>\n",
       "      <td>John_Mulaney</td>\n",
       "      <td>The boxes were so heavy I couldn’t even say wh...</td>\n",
       "    </tr>\n",
       "    <tr>\n",
       "      <th>16</th>\n",
       "      <td>John_Mulaney</td>\n",
       "      <td>The guy tried to give me a big receipt. He’s l...</td>\n",
       "    </tr>\n",
       "    <tr>\n",
       "      <th>17</th>\n",
       "      <td>John_Mulaney</td>\n",
       "      <td>That sleep shirt bullshit. 'Well, if it’s too ...</td>\n",
       "    </tr>\n",
       "    <tr>\n",
       "      <th>18</th>\n",
       "      <td>John_Mulaney</td>\n",
       "      <td>Because we don’t say that when someone gives u...</td>\n",
       "    </tr>\n",
       "    <tr>\n",
       "      <th>19</th>\n",
       "      <td>John_Mulaney</td>\n",
       "      <td>Why don’t you give me a candle for looking in ...</td>\n",
       "    </tr>\n",
       "    <tr>\n",
       "      <th>20</th>\n",
       "      <td>John_Mulaney</td>\n",
       "      <td>Was there ever even a ghost, Mother, or was th...</td>\n",
       "    </tr>\n",
       "    <tr>\n",
       "      <th>21</th>\n",
       "      <td>Ali_Wong</td>\n",
       "      <td>The last time I was at home in San Francisco, ...</td>\n",
       "    </tr>\n",
       "    <tr>\n",
       "      <th>22</th>\n",
       "      <td>Ali_Wong</td>\n",
       "      <td>It was so emotional. We were screaming and fig...</td>\n",
       "    </tr>\n",
       "    <tr>\n",
       "      <th>23</th>\n",
       "      <td>Ali_Wong</td>\n",
       "      <td>Those of you under 25 probably don't know what...</td>\n",
       "    </tr>\n",
       "    <tr>\n",
       "      <th>24</th>\n",
       "      <td>Ali_Wong</td>\n",
       "      <td>And everybody thought it was like this Judy Je...</td>\n",
       "    </tr>\n",
       "    <tr>\n",
       "      <th>25</th>\n",
       "      <td>Ali_Wong</td>\n",
       "      <td>And my mom got so emotional about the manual a...</td>\n",
       "    </tr>\n",
       "    <tr>\n",
       "      <th>26</th>\n",
       "      <td>Ali_Wong</td>\n",
       "      <td>And I was like, 'But... I do know... that I'm ...</td>\n",
       "    </tr>\n",
       "    <tr>\n",
       "      <th>27</th>\n",
       "      <td>Ali_Wong</td>\n",
       "      <td>And I'm not trying to be a procrastinator anym...</td>\n",
       "    </tr>\n",
       "    <tr>\n",
       "      <th>28</th>\n",
       "      <td>Hasan_Minhaj</td>\n",
       "      <td>Have you seen the show called The Slap? This i...</td>\n",
       "    </tr>\n",
       "    <tr>\n",
       "      <th>29</th>\n",
       "      <td>Hasan_Minhaj</td>\n",
       "      <td>Do you know when brown kids get slapped? Every...</td>\n",
       "    </tr>\n",
       "    <tr>\n",
       "      <th>30</th>\n",
       "      <td>Hasan_Minhaj</td>\n",
       "      <td>And that’s what makes us tough and resilient. ...</td>\n",
       "    </tr>\n",
       "    <tr>\n",
       "      <th>31</th>\n",
       "      <td>Hasan_Minhaj</td>\n",
       "      <td>You ever seen an Indian kid win a spelling bee...</td>\n",
       "    </tr>\n",
       "    <tr>\n",
       "      <th>32</th>\n",
       "      <td>Hasan_Minhaj</td>\n",
       "      <td>Of course he can spell 'knaidel'. Knaidel. Loo...</td>\n",
       "    </tr>\n",
       "    <tr>\n",
       "      <th>33</th>\n",
       "      <td>Hasan_Minhaj</td>\n",
       "      <td>People ask, 'Where does that come from?' Look ...</td>\n",
       "    </tr>\n",
       "    <tr>\n",
       "      <th>34</th>\n",
       "      <td>Hasan_Minhaj</td>\n",
       "      <td>People say, 'Where’s Bobby Jindal from?' That’...</td>\n",
       "    </tr>\n",
       "  </tbody>\n",
       "</table>\n",
       "</div>"
      ],
      "text/plain": [
       "          comedian                                           sentence\n",
       "0       Jimmy_Yang  Asian people, we don’t need Tinder anymore. We...\n",
       "1       Jimmy_Yang  I’ve been dating a lot of tall girls lately, b...\n",
       "2       Jimmy_Yang  She’s like, it makes my ass look better. I’m l...\n",
       "3       Jimmy_Yang  Last time– the last time I took a tall girl to...\n",
       "4       Jimmy_Yang  I’m 5′ 5″. I just go to concerts to smell othe...\n",
       "5       Jimmy_Yang  She was having the time of her life, doing wha...\n",
       "6       Jimmy_Yang  I was frustrated. I had enough. So I just look...\n",
       "7   Russell_Peters  He goes, look, you’re a 48-year-old Indian man...\n",
       "8   Russell_Peters  There is no way you can be Indian and not have...\n",
       "9   Russell_Peters  There’s no way you can consume the food that w...\n",
       "10  Russell_Peters  Dad, I want to assure you I have no phagus in ...\n",
       "11  Russell_Peters  I’m looking at all of you, especially all the ...\n",
       "12    John_Mulaney  We made these big piles of clothes, we put the...\n",
       "13    John_Mulaney  One day my wife said, 'Hey, you took that stuf...\n",
       "14    John_Mulaney  It was charitable, but it was also fast and vi...\n",
       "15    John_Mulaney  The boxes were so heavy I couldn’t even say wh...\n",
       "16    John_Mulaney  The guy tried to give me a big receipt. He’s l...\n",
       "17    John_Mulaney  That sleep shirt bullshit. 'Well, if it’s too ...\n",
       "18    John_Mulaney  Because we don’t say that when someone gives u...\n",
       "19    John_Mulaney  Why don’t you give me a candle for looking in ...\n",
       "20    John_Mulaney  Was there ever even a ghost, Mother, or was th...\n",
       "21        Ali_Wong  The last time I was at home in San Francisco, ...\n",
       "22        Ali_Wong  It was so emotional. We were screaming and fig...\n",
       "23        Ali_Wong  Those of you under 25 probably don't know what...\n",
       "24        Ali_Wong  And everybody thought it was like this Judy Je...\n",
       "25        Ali_Wong  And my mom got so emotional about the manual a...\n",
       "26        Ali_Wong  And I was like, 'But... I do know... that I'm ...\n",
       "27        Ali_Wong  And I'm not trying to be a procrastinator anym...\n",
       "28    Hasan_Minhaj  Have you seen the show called The Slap? This i...\n",
       "29    Hasan_Minhaj  Do you know when brown kids get slapped? Every...\n",
       "30    Hasan_Minhaj  And that’s what makes us tough and resilient. ...\n",
       "31    Hasan_Minhaj  You ever seen an Indian kid win a spelling bee...\n",
       "32    Hasan_Minhaj  Of course he can spell 'knaidel'. Knaidel. Loo...\n",
       "33    Hasan_Minhaj  People ask, 'Where does that come from?' Look ...\n",
       "34    Hasan_Minhaj  People say, 'Where’s Bobby Jindal from?' That’..."
      ]
     },
     "execution_count": 29,
     "metadata": {},
     "output_type": "execute_result"
    }
   ],
   "source": [
    "chatgpt_model = pd.read_csv(\"/home/ada/humor/data/stand_up_dataset/Chat_GPT_results - Sheet1.csv\")\n",
    "chatgpt_model\n",
    "# chatgpt_model = bipartite_metric(chatgpt_model, ground_truth)\n",
    "# phi_metric[\"score\"].mean() * 100"
   ]
  },
  {
   "cell_type": "code",
   "execution_count": 30,
   "metadata": {},
   "outputs": [],
   "source": [
    "chatgpt_jm = chatgpt_model[chatgpt_model[\"comedian\"] == \"John_Mulaney\"]\n",
    "ground_truth_jm = ground_truth[ground_truth[\"comedian\"]== \"John_Mulaney\"]\n",
    "# chatgpt_model = bipartite_metric(chatgpt_model, ground_truth)\n",
    "# phi_metric[\"score\"].mean() * 100"
   ]
  },
  {
   "cell_type": "code",
   "execution_count": 31,
   "metadata": {},
   "outputs": [
    {
     "data": {
      "text/html": [
       "<div>\n",
       "<style scoped>\n",
       "    .dataframe tbody tr th:only-of-type {\n",
       "        vertical-align: middle;\n",
       "    }\n",
       "\n",
       "    .dataframe tbody tr th {\n",
       "        vertical-align: top;\n",
       "    }\n",
       "\n",
       "    .dataframe thead th {\n",
       "        text-align: right;\n",
       "    }\n",
       "</style>\n",
       "<table border=\"1\" class=\"dataframe\">\n",
       "  <thead>\n",
       "    <tr style=\"text-align: right;\">\n",
       "      <th></th>\n",
       "      <th>comedian</th>\n",
       "      <th>laugh_start</th>\n",
       "      <th>laugh_end</th>\n",
       "      <th>sentence</th>\n",
       "    </tr>\n",
       "  </thead>\n",
       "  <tbody>\n",
       "    <tr>\n",
       "      <th>56</th>\n",
       "      <td>John_Mulaney</td>\n",
       "      <td>20.235</td>\n",
       "      <td>22.628</td>\n",
       "      <td>We made these big piles of clothes, we put the...</td>\n",
       "    </tr>\n",
       "    <tr>\n",
       "      <th>57</th>\n",
       "      <td>John_Mulaney</td>\n",
       "      <td>30.546</td>\n",
       "      <td>32.020</td>\n",
       "      <td>On an unrelated note, I'm going to walk out th...</td>\n",
       "    </tr>\n",
       "    <tr>\n",
       "      <th>58</th>\n",
       "      <td>John_Mulaney</td>\n",
       "      <td>44.332</td>\n",
       "      <td>46.485</td>\n",
       "      <td>I was like, \"This one's shirts. I got a bunch ...</td>\n",
       "    </tr>\n",
       "    <tr>\n",
       "      <th>59</th>\n",
       "      <td>John_Mulaney</td>\n",
       "      <td>59.492</td>\n",
       "      <td>67.850</td>\n",
       "      <td>Dear IRS, please deduct from my federal income...</td>\n",
       "    </tr>\n",
       "    <tr>\n",
       "      <th>60</th>\n",
       "      <td>John_Mulaney</td>\n",
       "      <td>70.762</td>\n",
       "      <td>74.207</td>\n",
       "      <td>That sleep shirt bullshit. \"Well, if it's too ...</td>\n",
       "    </tr>\n",
       "    <tr>\n",
       "      <th>61</th>\n",
       "      <td>John_Mulaney</td>\n",
       "      <td>100.870</td>\n",
       "      <td>103.899</td>\n",
       "      <td>So rather than violate these meaningless polit...</td>\n",
       "    </tr>\n",
       "    <tr>\n",
       "      <th>62</th>\n",
       "      <td>John_Mulaney</td>\n",
       "      <td>113.782</td>\n",
       "      <td>115.980</td>\n",
       "      <td>Why don't you give me a candle for looking in ...</td>\n",
       "    </tr>\n",
       "  </tbody>\n",
       "</table>\n",
       "</div>"
      ],
      "text/plain": [
       "        comedian  laugh_start  laugh_end  \\\n",
       "56  John_Mulaney       20.235     22.628   \n",
       "57  John_Mulaney       30.546     32.020   \n",
       "58  John_Mulaney       44.332     46.485   \n",
       "59  John_Mulaney       59.492     67.850   \n",
       "60  John_Mulaney       70.762     74.207   \n",
       "61  John_Mulaney      100.870    103.899   \n",
       "62  John_Mulaney      113.782    115.980   \n",
       "\n",
       "                                             sentence  \n",
       "56  We made these big piles of clothes, we put the...  \n",
       "57  On an unrelated note, I'm going to walk out th...  \n",
       "58  I was like, \"This one's shirts. I got a bunch ...  \n",
       "59  Dear IRS, please deduct from my federal income...  \n",
       "60  That sleep shirt bullshit. \"Well, if it's too ...  \n",
       "61  So rather than violate these meaningless polit...  \n",
       "62  Why don't you give me a candle for looking in ...  "
      ]
     },
     "execution_count": 31,
     "metadata": {},
     "output_type": "execute_result"
    }
   ],
   "source": [
    "ground_truth_jm"
   ]
  },
  {
   "cell_type": "code",
   "execution_count": 32,
   "metadata": {},
   "outputs": [
    {
     "name": "stdout",
     "output_type": "stream",
     "text": [
      "       comedian      score\n",
      "0  John_Mulaney  70.571429\n"
     ]
    }
   ],
   "source": [
    "chatgpt_metric_jm = bipartite_metric(chatgpt_jm, ground_truth_jm)\n",
    "print(chatgpt_metric_jm)"
   ]
  },
  {
   "cell_type": "code",
   "execution_count": 33,
   "metadata": {},
   "outputs": [
    {
     "data": {
      "text/plain": [
       "70.57142857142857"
      ]
     },
     "execution_count": 33,
     "metadata": {},
     "output_type": "execute_result"
    }
   ],
   "source": [
    "chatgpt_metric_jm[\"score\"].mean() "
   ]
  },
  {
   "cell_type": "code",
   "execution_count": 34,
   "metadata": {},
   "outputs": [
    {
     "data": {
      "text/plain": [
       "41.357142857142854"
      ]
     },
     "execution_count": 34,
     "metadata": {},
     "output_type": "execute_result"
    }
   ],
   "source": [
    "model_jm = model[model[\"comedian\"] == \"John_Mulaney\"]\n",
    "model_jm = bipartite_metric(model_jm, ground_truth_jm)\n",
    "model_jm[\"score\"].mean() "
   ]
  },
  {
   "cell_type": "markdown",
   "metadata": {},
   "source": [
    "## Different Prompts"
   ]
  },
  {
   "cell_type": "markdown",
   "metadata": {},
   "source": [
    "##### \"The following is a stand-up comedy transcript. When performed in front of a live audience, which jokes do you think made the audience laugh?  List of quotes:\""
   ]
  },
  {
   "cell_type": "code",
   "execution_count": 35,
   "metadata": {},
   "outputs": [],
   "source": [
    "laugh = pd.read_csv('/home/ada/humor/data/stand_up_dataset/prompts/laugh_prompt - Sheet1.csv')"
   ]
  },
  {
   "cell_type": "code",
   "execution_count": 36,
   "metadata": {},
   "outputs": [
    {
     "data": {
      "text/html": [
       "<div>\n",
       "<style scoped>\n",
       "    .dataframe tbody tr th:only-of-type {\n",
       "        vertical-align: middle;\n",
       "    }\n",
       "\n",
       "    .dataframe tbody tr th {\n",
       "        vertical-align: top;\n",
       "    }\n",
       "\n",
       "    .dataframe thead th {\n",
       "        text-align: right;\n",
       "    }\n",
       "</style>\n",
       "<table border=\"1\" class=\"dataframe\">\n",
       "  <thead>\n",
       "    <tr style=\"text-align: right;\">\n",
       "      <th></th>\n",
       "      <th>comedian</th>\n",
       "      <th>score</th>\n",
       "    </tr>\n",
       "  </thead>\n",
       "  <tbody>\n",
       "    <tr>\n",
       "      <th>0</th>\n",
       "      <td>Ali_Wong</td>\n",
       "      <td>24.041667</td>\n",
       "    </tr>\n",
       "    <tr>\n",
       "      <th>1</th>\n",
       "      <td>Ali_Wong_2</td>\n",
       "      <td>32.714286</td>\n",
       "    </tr>\n",
       "    <tr>\n",
       "      <th>2</th>\n",
       "      <td>Anthony_Jeselnik</td>\n",
       "      <td>18.428571</td>\n",
       "    </tr>\n",
       "    <tr>\n",
       "      <th>3</th>\n",
       "      <td>Anthony_Jeselnik_2</td>\n",
       "      <td>70.000000</td>\n",
       "    </tr>\n",
       "    <tr>\n",
       "      <th>4</th>\n",
       "      <td>Chelsea_Peretti</td>\n",
       "      <td>14.250000</td>\n",
       "    </tr>\n",
       "    <tr>\n",
       "      <th>5</th>\n",
       "      <td>Chelsea_Peretti_2</td>\n",
       "      <td>35.363636</td>\n",
       "    </tr>\n",
       "    <tr>\n",
       "      <th>6</th>\n",
       "      <td>Donald_Glover</td>\n",
       "      <td>30.125000</td>\n",
       "    </tr>\n",
       "    <tr>\n",
       "      <th>7</th>\n",
       "      <td>Donald_Glover_2</td>\n",
       "      <td>14.312500</td>\n",
       "    </tr>\n",
       "    <tr>\n",
       "      <th>8</th>\n",
       "      <td>Hasan_Minhaj</td>\n",
       "      <td>38.000000</td>\n",
       "    </tr>\n",
       "    <tr>\n",
       "      <th>9</th>\n",
       "      <td>Hasan_Minhaj_2</td>\n",
       "      <td>19.600000</td>\n",
       "    </tr>\n",
       "    <tr>\n",
       "      <th>10</th>\n",
       "      <td>Iliza_Shlesinger</td>\n",
       "      <td>37.166667</td>\n",
       "    </tr>\n",
       "    <tr>\n",
       "      <th>11</th>\n",
       "      <td>Iliza_Shlesinger_2</td>\n",
       "      <td>25.600000</td>\n",
       "    </tr>\n",
       "    <tr>\n",
       "      <th>12</th>\n",
       "      <td>Jim_Gaffigan</td>\n",
       "      <td>14.333333</td>\n",
       "    </tr>\n",
       "    <tr>\n",
       "      <th>13</th>\n",
       "      <td>Jim_Gaffigan_2</td>\n",
       "      <td>27.000000</td>\n",
       "    </tr>\n",
       "    <tr>\n",
       "      <th>14</th>\n",
       "      <td>Jimmy_Yang</td>\n",
       "      <td>24.200000</td>\n",
       "    </tr>\n",
       "    <tr>\n",
       "      <th>15</th>\n",
       "      <td>Jimmy_Yang_2</td>\n",
       "      <td>38.600000</td>\n",
       "    </tr>\n",
       "    <tr>\n",
       "      <th>16</th>\n",
       "      <td>Joe_List</td>\n",
       "      <td>35.187500</td>\n",
       "    </tr>\n",
       "    <tr>\n",
       "      <th>17</th>\n",
       "      <td>Joe_List_2</td>\n",
       "      <td>25.600000</td>\n",
       "    </tr>\n",
       "    <tr>\n",
       "      <th>18</th>\n",
       "      <td>John_Mulaney</td>\n",
       "      <td>43.928571</td>\n",
       "    </tr>\n",
       "    <tr>\n",
       "      <th>19</th>\n",
       "      <td>John_Mulaney_2</td>\n",
       "      <td>17.071429</td>\n",
       "    </tr>\n",
       "    <tr>\n",
       "      <th>20</th>\n",
       "      <td>Louis_CK</td>\n",
       "      <td>33.375000</td>\n",
       "    </tr>\n",
       "    <tr>\n",
       "      <th>21</th>\n",
       "      <td>Louis_CK_2</td>\n",
       "      <td>22.166667</td>\n",
       "    </tr>\n",
       "    <tr>\n",
       "      <th>22</th>\n",
       "      <td>Nate_Bargatze</td>\n",
       "      <td>23.214286</td>\n",
       "    </tr>\n",
       "    <tr>\n",
       "      <th>23</th>\n",
       "      <td>Nate_Bargatze_2</td>\n",
       "      <td>35.625000</td>\n",
       "    </tr>\n",
       "    <tr>\n",
       "      <th>24</th>\n",
       "      <td>Nate_Bargatze_TK</td>\n",
       "      <td>31.714286</td>\n",
       "    </tr>\n",
       "    <tr>\n",
       "      <th>25</th>\n",
       "      <td>Nate_Bargatze_TK_2</td>\n",
       "      <td>41.000000</td>\n",
       "    </tr>\n",
       "    <tr>\n",
       "      <th>26</th>\n",
       "      <td>Russell_Peters</td>\n",
       "      <td>26.266667</td>\n",
       "    </tr>\n",
       "    <tr>\n",
       "      <th>27</th>\n",
       "      <td>Russell_Peters_2</td>\n",
       "      <td>23.166667</td>\n",
       "    </tr>\n",
       "    <tr>\n",
       "      <th>28</th>\n",
       "      <td>Sam_Morril</td>\n",
       "      <td>20.500000</td>\n",
       "    </tr>\n",
       "    <tr>\n",
       "      <th>29</th>\n",
       "      <td>Sam_Morril_2</td>\n",
       "      <td>9.200000</td>\n",
       "    </tr>\n",
       "    <tr>\n",
       "      <th>30</th>\n",
       "      <td>Tom_Segura</td>\n",
       "      <td>21.916667</td>\n",
       "    </tr>\n",
       "    <tr>\n",
       "      <th>31</th>\n",
       "      <td>Tom_Segura_2</td>\n",
       "      <td>21.000000</td>\n",
       "    </tr>\n",
       "    <tr>\n",
       "      <th>32</th>\n",
       "      <td>Trevor_Noah</td>\n",
       "      <td>30.250000</td>\n",
       "    </tr>\n",
       "    <tr>\n",
       "      <th>33</th>\n",
       "      <td>Trevor_Noah_2</td>\n",
       "      <td>33.875000</td>\n",
       "    </tr>\n",
       "  </tbody>\n",
       "</table>\n",
       "</div>"
      ],
      "text/plain": [
       "              comedian      score\n",
       "0             Ali_Wong  24.041667\n",
       "1           Ali_Wong_2  32.714286\n",
       "2     Anthony_Jeselnik  18.428571\n",
       "3   Anthony_Jeselnik_2  70.000000\n",
       "4      Chelsea_Peretti  14.250000\n",
       "5    Chelsea_Peretti_2  35.363636\n",
       "6        Donald_Glover  30.125000\n",
       "7      Donald_Glover_2  14.312500\n",
       "8         Hasan_Minhaj  38.000000\n",
       "9       Hasan_Minhaj_2  19.600000\n",
       "10    Iliza_Shlesinger  37.166667\n",
       "11  Iliza_Shlesinger_2  25.600000\n",
       "12        Jim_Gaffigan  14.333333\n",
       "13      Jim_Gaffigan_2  27.000000\n",
       "14          Jimmy_Yang  24.200000\n",
       "15        Jimmy_Yang_2  38.600000\n",
       "16            Joe_List  35.187500\n",
       "17          Joe_List_2  25.600000\n",
       "18        John_Mulaney  43.928571\n",
       "19      John_Mulaney_2  17.071429\n",
       "20            Louis_CK  33.375000\n",
       "21          Louis_CK_2  22.166667\n",
       "22       Nate_Bargatze  23.214286\n",
       "23     Nate_Bargatze_2  35.625000\n",
       "24    Nate_Bargatze_TK  31.714286\n",
       "25  Nate_Bargatze_TK_2  41.000000\n",
       "26      Russell_Peters  26.266667\n",
       "27    Russell_Peters_2  23.166667\n",
       "28          Sam_Morril  20.500000\n",
       "29        Sam_Morril_2   9.200000\n",
       "30          Tom_Segura  21.916667\n",
       "31        Tom_Segura_2  21.000000\n",
       "32         Trevor_Noah  30.250000\n",
       "33       Trevor_Noah_2  33.875000"
      ]
     },
     "execution_count": 36,
     "metadata": {},
     "output_type": "execute_result"
    }
   ],
   "source": [
    "laugh_metric = bipartite_metric(laugh, ground_truth)\n",
    "laugh_metric"
   ]
  },
  {
   "cell_type": "code",
   "execution_count": 37,
   "metadata": {},
   "outputs": [
    {
     "name": "stderr",
     "output_type": "stream",
     "text": [
      "/tmp/ipykernel_1079520/3345081846.py:1: FutureWarning: Dropping of nuisance columns in DataFrame reductions (with 'numeric_only=None') is deprecated; in a future version this will raise TypeError.  Select only valid columns before calling the reduction.\n",
      "  laugh_metric.mean()\n"
     ]
    },
    {
     "data": {
      "text/plain": [
       "score    28.199806\n",
       "dtype: float64"
      ]
     },
     "execution_count": 37,
     "metadata": {},
     "output_type": "execute_result"
    }
   ],
   "source": [
    "laugh_metric.mean()"
   ]
  },
  {
   "cell_type": "markdown",
   "metadata": {},
   "source": [
    "#### The following is a stand-up comedy transcript. What are the funniest punchlines from the transcript. List of quotes:\""
   ]
  },
  {
   "cell_type": "code",
   "execution_count": 38,
   "metadata": {},
   "outputs": [],
   "source": [
    "punchline = pd.read_csv('/home/ada/humor/data/stand_up_dataset/prompts/punchline_prompt - Sheet1.csv')"
   ]
  },
  {
   "cell_type": "code",
   "execution_count": 39,
   "metadata": {},
   "outputs": [
    {
     "data": {
      "text/html": [
       "<div>\n",
       "<style scoped>\n",
       "    .dataframe tbody tr th:only-of-type {\n",
       "        vertical-align: middle;\n",
       "    }\n",
       "\n",
       "    .dataframe tbody tr th {\n",
       "        vertical-align: top;\n",
       "    }\n",
       "\n",
       "    .dataframe thead th {\n",
       "        text-align: right;\n",
       "    }\n",
       "</style>\n",
       "<table border=\"1\" class=\"dataframe\">\n",
       "  <thead>\n",
       "    <tr style=\"text-align: right;\">\n",
       "      <th></th>\n",
       "      <th>comedian</th>\n",
       "      <th>score</th>\n",
       "    </tr>\n",
       "  </thead>\n",
       "  <tbody>\n",
       "    <tr>\n",
       "      <th>0</th>\n",
       "      <td>Ali_Wong</td>\n",
       "      <td>33.000000</td>\n",
       "    </tr>\n",
       "    <tr>\n",
       "      <th>1</th>\n",
       "      <td>Ali_Wong_2</td>\n",
       "      <td>34.142857</td>\n",
       "    </tr>\n",
       "    <tr>\n",
       "      <th>2</th>\n",
       "      <td>Anthony_Jeselnik</td>\n",
       "      <td>18.785714</td>\n",
       "    </tr>\n",
       "    <tr>\n",
       "      <th>3</th>\n",
       "      <td>Anthony_Jeselnik_2</td>\n",
       "      <td>39.750000</td>\n",
       "    </tr>\n",
       "    <tr>\n",
       "      <th>4</th>\n",
       "      <td>Chelsea_Peretti</td>\n",
       "      <td>14.250000</td>\n",
       "    </tr>\n",
       "    <tr>\n",
       "      <th>5</th>\n",
       "      <td>Chelsea_Peretti_2</td>\n",
       "      <td>22.545455</td>\n",
       "    </tr>\n",
       "    <tr>\n",
       "      <th>6</th>\n",
       "      <td>Donald_Glover</td>\n",
       "      <td>19.312500</td>\n",
       "    </tr>\n",
       "    <tr>\n",
       "      <th>7</th>\n",
       "      <td>Donald_Glover_2</td>\n",
       "      <td>13.937500</td>\n",
       "    </tr>\n",
       "    <tr>\n",
       "      <th>8</th>\n",
       "      <td>Hasan_Minhaj</td>\n",
       "      <td>41.625000</td>\n",
       "    </tr>\n",
       "    <tr>\n",
       "      <th>9</th>\n",
       "      <td>Hasan_Minhaj_2</td>\n",
       "      <td>53.700000</td>\n",
       "    </tr>\n",
       "    <tr>\n",
       "      <th>10</th>\n",
       "      <td>Iliza_Shlesinger</td>\n",
       "      <td>37.166667</td>\n",
       "    </tr>\n",
       "    <tr>\n",
       "      <th>11</th>\n",
       "      <td>Iliza_Shlesinger_2</td>\n",
       "      <td>25.200000</td>\n",
       "    </tr>\n",
       "    <tr>\n",
       "      <th>12</th>\n",
       "      <td>Jim_Gaffigan</td>\n",
       "      <td>29.222222</td>\n",
       "    </tr>\n",
       "    <tr>\n",
       "      <th>13</th>\n",
       "      <td>Jim_Gaffigan_2</td>\n",
       "      <td>19.600000</td>\n",
       "    </tr>\n",
       "    <tr>\n",
       "      <th>14</th>\n",
       "      <td>Jimmy_Yang</td>\n",
       "      <td>23.700000</td>\n",
       "    </tr>\n",
       "    <tr>\n",
       "      <th>15</th>\n",
       "      <td>Jimmy_Yang_2</td>\n",
       "      <td>40.800000</td>\n",
       "    </tr>\n",
       "    <tr>\n",
       "      <th>16</th>\n",
       "      <td>Joe_List</td>\n",
       "      <td>32.916667</td>\n",
       "    </tr>\n",
       "    <tr>\n",
       "      <th>17</th>\n",
       "      <td>Joe_List_2</td>\n",
       "      <td>23.000000</td>\n",
       "    </tr>\n",
       "    <tr>\n",
       "      <th>18</th>\n",
       "      <td>John_Mulaney</td>\n",
       "      <td>44.500000</td>\n",
       "    </tr>\n",
       "    <tr>\n",
       "      <th>19</th>\n",
       "      <td>John_Mulaney_2</td>\n",
       "      <td>27.285714</td>\n",
       "    </tr>\n",
       "    <tr>\n",
       "      <th>20</th>\n",
       "      <td>Louis_CK</td>\n",
       "      <td>29.250000</td>\n",
       "    </tr>\n",
       "    <tr>\n",
       "      <th>21</th>\n",
       "      <td>Louis_CK_2</td>\n",
       "      <td>24.666667</td>\n",
       "    </tr>\n",
       "    <tr>\n",
       "      <th>22</th>\n",
       "      <td>Nate_Bargatze</td>\n",
       "      <td>27.785714</td>\n",
       "    </tr>\n",
       "    <tr>\n",
       "      <th>23</th>\n",
       "      <td>Nate_Bargatze_2</td>\n",
       "      <td>30.062500</td>\n",
       "    </tr>\n",
       "    <tr>\n",
       "      <th>24</th>\n",
       "      <td>Nate_Bargatze_TK</td>\n",
       "      <td>48.714286</td>\n",
       "    </tr>\n",
       "    <tr>\n",
       "      <th>25</th>\n",
       "      <td>Nate_Bargatze_TK_2</td>\n",
       "      <td>41.000000</td>\n",
       "    </tr>\n",
       "    <tr>\n",
       "      <th>26</th>\n",
       "      <td>Russell_Peters</td>\n",
       "      <td>44.500000</td>\n",
       "    </tr>\n",
       "    <tr>\n",
       "      <th>27</th>\n",
       "      <td>Russell_Peters_2</td>\n",
       "      <td>48.416667</td>\n",
       "    </tr>\n",
       "    <tr>\n",
       "      <th>28</th>\n",
       "      <td>Sam_Morril</td>\n",
       "      <td>19.333333</td>\n",
       "    </tr>\n",
       "    <tr>\n",
       "      <th>29</th>\n",
       "      <td>Sam_Morril_2</td>\n",
       "      <td>10.200000</td>\n",
       "    </tr>\n",
       "    <tr>\n",
       "      <th>30</th>\n",
       "      <td>Tom_Segura</td>\n",
       "      <td>29.166667</td>\n",
       "    </tr>\n",
       "    <tr>\n",
       "      <th>31</th>\n",
       "      <td>Tom_Segura_2</td>\n",
       "      <td>20.200000</td>\n",
       "    </tr>\n",
       "    <tr>\n",
       "      <th>32</th>\n",
       "      <td>Trevor_Noah</td>\n",
       "      <td>39.750000</td>\n",
       "    </tr>\n",
       "    <tr>\n",
       "      <th>33</th>\n",
       "      <td>Trevor_Noah_2</td>\n",
       "      <td>55.583333</td>\n",
       "    </tr>\n",
       "  </tbody>\n",
       "</table>\n",
       "</div>"
      ],
      "text/plain": [
       "              comedian      score\n",
       "0             Ali_Wong  33.000000\n",
       "1           Ali_Wong_2  34.142857\n",
       "2     Anthony_Jeselnik  18.785714\n",
       "3   Anthony_Jeselnik_2  39.750000\n",
       "4      Chelsea_Peretti  14.250000\n",
       "5    Chelsea_Peretti_2  22.545455\n",
       "6        Donald_Glover  19.312500\n",
       "7      Donald_Glover_2  13.937500\n",
       "8         Hasan_Minhaj  41.625000\n",
       "9       Hasan_Minhaj_2  53.700000\n",
       "10    Iliza_Shlesinger  37.166667\n",
       "11  Iliza_Shlesinger_2  25.200000\n",
       "12        Jim_Gaffigan  29.222222\n",
       "13      Jim_Gaffigan_2  19.600000\n",
       "14          Jimmy_Yang  23.700000\n",
       "15        Jimmy_Yang_2  40.800000\n",
       "16            Joe_List  32.916667\n",
       "17          Joe_List_2  23.000000\n",
       "18        John_Mulaney  44.500000\n",
       "19      John_Mulaney_2  27.285714\n",
       "20            Louis_CK  29.250000\n",
       "21          Louis_CK_2  24.666667\n",
       "22       Nate_Bargatze  27.785714\n",
       "23     Nate_Bargatze_2  30.062500\n",
       "24    Nate_Bargatze_TK  48.714286\n",
       "25  Nate_Bargatze_TK_2  41.000000\n",
       "26      Russell_Peters  44.500000\n",
       "27    Russell_Peters_2  48.416667\n",
       "28          Sam_Morril  19.333333\n",
       "29        Sam_Morril_2  10.200000\n",
       "30          Tom_Segura  29.166667\n",
       "31        Tom_Segura_2  20.200000\n",
       "32         Trevor_Noah  39.750000\n",
       "33       Trevor_Noah_2  55.583333"
      ]
     },
     "execution_count": 39,
     "metadata": {},
     "output_type": "execute_result"
    }
   ],
   "source": [
    "punchline_metric = bipartite_metric(punchline, ground_truth)\n",
    "punchline_metric"
   ]
  },
  {
   "cell_type": "code",
   "execution_count": 40,
   "metadata": {},
   "outputs": [
    {
     "name": "stderr",
     "output_type": "stream",
     "text": [
      "/tmp/ipykernel_1079520/3771637599.py:1: FutureWarning: Dropping of nuisance columns in DataFrame reductions (with 'numeric_only=None') is deprecated; in a future version this will raise TypeError.  Select only valid columns before calling the reduction.\n",
      "  punchline_metric.mean()\n"
     ]
    },
    {
     "data": {
      "text/plain": [
       "score    31.266749\n",
       "dtype: float64"
      ]
     },
     "execution_count": 40,
     "metadata": {},
     "output_type": "execute_result"
    }
   ],
   "source": [
    "punchline_metric.mean()"
   ]
  },
  {
   "cell_type": "markdown",
   "metadata": {},
   "source": [
    "#### Below is a transcript from a stand-up comedy routine. Analyze the transcript and extract the quotes that are most likely to have made the audience laugh. List of quotes:"
   ]
  },
  {
   "cell_type": "code",
   "execution_count": 41,
   "metadata": {},
   "outputs": [],
   "source": [
    "most_laugh = pd.read_csv('/home/ada/humor/data/stand_up_dataset/prompts/mostlaugh_prompt - Sheet1.csv')"
   ]
  },
  {
   "cell_type": "code",
   "execution_count": 42,
   "metadata": {},
   "outputs": [
    {
     "data": {
      "text/html": [
       "<div>\n",
       "<style scoped>\n",
       "    .dataframe tbody tr th:only-of-type {\n",
       "        vertical-align: middle;\n",
       "    }\n",
       "\n",
       "    .dataframe tbody tr th {\n",
       "        vertical-align: top;\n",
       "    }\n",
       "\n",
       "    .dataframe thead th {\n",
       "        text-align: right;\n",
       "    }\n",
       "</style>\n",
       "<table border=\"1\" class=\"dataframe\">\n",
       "  <thead>\n",
       "    <tr style=\"text-align: right;\">\n",
       "      <th></th>\n",
       "      <th>comedian</th>\n",
       "      <th>score</th>\n",
       "    </tr>\n",
       "  </thead>\n",
       "  <tbody>\n",
       "    <tr>\n",
       "      <th>0</th>\n",
       "      <td>Ali_Wong</td>\n",
       "      <td>48.722222</td>\n",
       "    </tr>\n",
       "    <tr>\n",
       "      <th>1</th>\n",
       "      <td>Ali_Wong_2</td>\n",
       "      <td>31.857143</td>\n",
       "    </tr>\n",
       "    <tr>\n",
       "      <th>2</th>\n",
       "      <td>Anthony_Jeselnik</td>\n",
       "      <td>19.357143</td>\n",
       "    </tr>\n",
       "    <tr>\n",
       "      <th>3</th>\n",
       "      <td>Anthony_Jeselnik_2</td>\n",
       "      <td>33.875000</td>\n",
       "    </tr>\n",
       "    <tr>\n",
       "      <th>4</th>\n",
       "      <td>Chelsea_Peretti</td>\n",
       "      <td>14.250000</td>\n",
       "    </tr>\n",
       "    <tr>\n",
       "      <th>5</th>\n",
       "      <td>Chelsea_Peretti_2</td>\n",
       "      <td>22.545455</td>\n",
       "    </tr>\n",
       "    <tr>\n",
       "      <th>6</th>\n",
       "      <td>Donald_Glover</td>\n",
       "      <td>19.312500</td>\n",
       "    </tr>\n",
       "    <tr>\n",
       "      <th>7</th>\n",
       "      <td>Donald_Glover_2</td>\n",
       "      <td>21.812500</td>\n",
       "    </tr>\n",
       "    <tr>\n",
       "      <th>8</th>\n",
       "      <td>Hasan_Minhaj</td>\n",
       "      <td>39.500000</td>\n",
       "    </tr>\n",
       "    <tr>\n",
       "      <th>9</th>\n",
       "      <td>Hasan_Minhaj_2</td>\n",
       "      <td>34.800000</td>\n",
       "    </tr>\n",
       "    <tr>\n",
       "      <th>10</th>\n",
       "      <td>Iliza_Shlesinger</td>\n",
       "      <td>14.083333</td>\n",
       "    </tr>\n",
       "    <tr>\n",
       "      <th>11</th>\n",
       "      <td>Iliza_Shlesinger_2</td>\n",
       "      <td>25.200000</td>\n",
       "    </tr>\n",
       "    <tr>\n",
       "      <th>12</th>\n",
       "      <td>Jim_Gaffigan</td>\n",
       "      <td>29.222222</td>\n",
       "    </tr>\n",
       "    <tr>\n",
       "      <th>13</th>\n",
       "      <td>Jim_Gaffigan_2</td>\n",
       "      <td>25.500000</td>\n",
       "    </tr>\n",
       "    <tr>\n",
       "      <th>14</th>\n",
       "      <td>Jimmy_Yang</td>\n",
       "      <td>23.400000</td>\n",
       "    </tr>\n",
       "    <tr>\n",
       "      <th>15</th>\n",
       "      <td>Jimmy_Yang_2</td>\n",
       "      <td>44.900000</td>\n",
       "    </tr>\n",
       "    <tr>\n",
       "      <th>16</th>\n",
       "      <td>Joe_List</td>\n",
       "      <td>29.687500</td>\n",
       "    </tr>\n",
       "    <tr>\n",
       "      <th>17</th>\n",
       "      <td>Joe_List_2</td>\n",
       "      <td>11.500000</td>\n",
       "    </tr>\n",
       "    <tr>\n",
       "      <th>18</th>\n",
       "      <td>John_Mulaney</td>\n",
       "      <td>28.142857</td>\n",
       "    </tr>\n",
       "    <tr>\n",
       "      <th>19</th>\n",
       "      <td>John_Mulaney_2</td>\n",
       "      <td>17.571429</td>\n",
       "    </tr>\n",
       "    <tr>\n",
       "      <th>20</th>\n",
       "      <td>Louis_CK</td>\n",
       "      <td>45.500000</td>\n",
       "    </tr>\n",
       "    <tr>\n",
       "      <th>21</th>\n",
       "      <td>Louis_CK_2</td>\n",
       "      <td>51.500000</td>\n",
       "    </tr>\n",
       "    <tr>\n",
       "      <th>22</th>\n",
       "      <td>Nate_Bargatze</td>\n",
       "      <td>17.928571</td>\n",
       "    </tr>\n",
       "    <tr>\n",
       "      <th>23</th>\n",
       "      <td>Nate_Bargatze_2</td>\n",
       "      <td>24.187500</td>\n",
       "    </tr>\n",
       "    <tr>\n",
       "      <th>24</th>\n",
       "      <td>Nate_Bargatze_TK</td>\n",
       "      <td>31.642857</td>\n",
       "    </tr>\n",
       "    <tr>\n",
       "      <th>25</th>\n",
       "      <td>Nate_Bargatze_TK_2</td>\n",
       "      <td>41.000000</td>\n",
       "    </tr>\n",
       "    <tr>\n",
       "      <th>26</th>\n",
       "      <td>Russell_Peters</td>\n",
       "      <td>42.500000</td>\n",
       "    </tr>\n",
       "    <tr>\n",
       "      <th>27</th>\n",
       "      <td>Russell_Peters_2</td>\n",
       "      <td>39.222222</td>\n",
       "    </tr>\n",
       "    <tr>\n",
       "      <th>28</th>\n",
       "      <td>Sam_Morril</td>\n",
       "      <td>19.333333</td>\n",
       "    </tr>\n",
       "    <tr>\n",
       "      <th>29</th>\n",
       "      <td>Sam_Morril_2</td>\n",
       "      <td>13.333333</td>\n",
       "    </tr>\n",
       "    <tr>\n",
       "      <th>30</th>\n",
       "      <td>Tom_Segura</td>\n",
       "      <td>29.916667</td>\n",
       "    </tr>\n",
       "    <tr>\n",
       "      <th>31</th>\n",
       "      <td>Tom_Segura_2</td>\n",
       "      <td>27.000000</td>\n",
       "    </tr>\n",
       "    <tr>\n",
       "      <th>32</th>\n",
       "      <td>Trevor_Noah</td>\n",
       "      <td>14.250000</td>\n",
       "    </tr>\n",
       "    <tr>\n",
       "      <th>33</th>\n",
       "      <td>Trevor_Noah_2</td>\n",
       "      <td>24.125000</td>\n",
       "    </tr>\n",
       "  </tbody>\n",
       "</table>\n",
       "</div>"
      ],
      "text/plain": [
       "              comedian      score\n",
       "0             Ali_Wong  48.722222\n",
       "1           Ali_Wong_2  31.857143\n",
       "2     Anthony_Jeselnik  19.357143\n",
       "3   Anthony_Jeselnik_2  33.875000\n",
       "4      Chelsea_Peretti  14.250000\n",
       "5    Chelsea_Peretti_2  22.545455\n",
       "6        Donald_Glover  19.312500\n",
       "7      Donald_Glover_2  21.812500\n",
       "8         Hasan_Minhaj  39.500000\n",
       "9       Hasan_Minhaj_2  34.800000\n",
       "10    Iliza_Shlesinger  14.083333\n",
       "11  Iliza_Shlesinger_2  25.200000\n",
       "12        Jim_Gaffigan  29.222222\n",
       "13      Jim_Gaffigan_2  25.500000\n",
       "14          Jimmy_Yang  23.400000\n",
       "15        Jimmy_Yang_2  44.900000\n",
       "16            Joe_List  29.687500\n",
       "17          Joe_List_2  11.500000\n",
       "18        John_Mulaney  28.142857\n",
       "19      John_Mulaney_2  17.571429\n",
       "20            Louis_CK  45.500000\n",
       "21          Louis_CK_2  51.500000\n",
       "22       Nate_Bargatze  17.928571\n",
       "23     Nate_Bargatze_2  24.187500\n",
       "24    Nate_Bargatze_TK  31.642857\n",
       "25  Nate_Bargatze_TK_2  41.000000\n",
       "26      Russell_Peters  42.500000\n",
       "27    Russell_Peters_2  39.222222\n",
       "28          Sam_Morril  19.333333\n",
       "29        Sam_Morril_2  13.333333\n",
       "30          Tom_Segura  29.916667\n",
       "31        Tom_Segura_2  27.000000\n",
       "32         Trevor_Noah  14.250000\n",
       "33       Trevor_Noah_2  24.125000"
      ]
     },
     "execution_count": 42,
     "metadata": {},
     "output_type": "execute_result"
    }
   ],
   "source": [
    "most_laugh_metric = bipartite_metric(most_laugh, ground_truth)\n",
    "most_laugh_metric"
   ]
  },
  {
   "cell_type": "code",
   "execution_count": 43,
   "metadata": {},
   "outputs": [
    {
     "name": "stderr",
     "output_type": "stream",
     "text": [
      "/tmp/ipykernel_1079520/3010234896.py:1: FutureWarning: Dropping of nuisance columns in DataFrame reductions (with 'numeric_only=None') is deprecated; in a future version this will raise TypeError.  Select only valid columns before calling the reduction.\n",
      "  most_laugh_metric.mean()\n"
     ]
    },
    {
     "data": {
      "text/plain": [
       "score    28.137611\n",
       "dtype: float64"
      ]
     },
     "execution_count": 43,
     "metadata": {},
     "output_type": "execute_result"
    }
   ],
   "source": [
    "most_laugh_metric.mean()"
   ]
  },
  {
   "cell_type": "code",
   "execution_count": 44,
   "metadata": {},
   "outputs": [],
   "source": [
    "laugh = laugh_metric.assign(model=\"laugh\") \n",
    "punchline = punchline_metric.assign(model=\"punchline\")\n",
    "most_laugh = most_laugh_metric.assign(model=\"most_laugh\")"
   ]
  },
  {
   "cell_type": "code",
   "execution_count": 45,
   "metadata": {},
   "outputs": [],
   "source": [
    "df = pd.concat([gemma, laugh, punchline, most_laugh]).reset_index(drop=True)"
   ]
  },
  {
   "cell_type": "code",
   "execution_count": 46,
   "metadata": {},
   "outputs": [
    {
     "data": {
      "text/plain": [
       "<seaborn.axisgrid.FacetGrid at 0x7f1d8f3f0a90>"
      ]
     },
     "execution_count": 46,
     "metadata": {},
     "output_type": "execute_result"
    },
    {
     "data": {
      "image/png": "[encoded data removed]",
      "text/plain": [
       "<Figure size 630.5x500 with 1 Axes>"
      ]
     },
     "metadata": {},
     "output_type": "display_data"
    }
   ],
   "source": [
    "sns.displot(df, x=\"score\", hue=\"model\", kind=\"hist\", shrink=1, multiple=\"dodge\")"
   ]
  },
  {
   "cell_type": "code",
   "execution_count": 47,
   "metadata": {},
   "outputs": [],
   "source": [
    "llm_gt = ground_truth.loc[ground_truth[\"comedian\"].isin([\"John_Mulaney\", \"Jimmy_Yang\", \"Russell_Peters\", \"Ali_Wong\", \"Hasan_Minhaj\"])]"
   ]
  },
  {
   "cell_type": "code",
   "execution_count": 48,
   "metadata": {},
   "outputs": [
    {
     "data": {
      "text/html": [
       "<div>\n",
       "<style scoped>\n",
       "    .dataframe tbody tr th:only-of-type {\n",
       "        vertical-align: middle;\n",
       "    }\n",
       "\n",
       "    .dataframe tbody tr th {\n",
       "        vertical-align: top;\n",
       "    }\n",
       "\n",
       "    .dataframe thead th {\n",
       "        text-align: right;\n",
       "    }\n",
       "</style>\n",
       "<table border=\"1\" class=\"dataframe\">\n",
       "  <thead>\n",
       "    <tr style=\"text-align: right;\">\n",
       "      <th></th>\n",
       "      <th>comedian</th>\n",
       "      <th>laugh_start</th>\n",
       "      <th>laugh_end</th>\n",
       "      <th>sentence</th>\n",
       "    </tr>\n",
       "  </thead>\n",
       "  <tbody>\n",
       "    <tr>\n",
       "      <th>56</th>\n",
       "      <td>John_Mulaney</td>\n",
       "      <td>20.2350</td>\n",
       "      <td>22.628</td>\n",
       "      <td>We made these big piles of clothes, we put the...</td>\n",
       "    </tr>\n",
       "    <tr>\n",
       "      <th>57</th>\n",
       "      <td>John_Mulaney</td>\n",
       "      <td>30.5460</td>\n",
       "      <td>32.020</td>\n",
       "      <td>On an unrelated note, I'm going to walk out th...</td>\n",
       "    </tr>\n",
       "    <tr>\n",
       "      <th>58</th>\n",
       "      <td>John_Mulaney</td>\n",
       "      <td>44.3320</td>\n",
       "      <td>46.485</td>\n",
       "      <td>I was like, \"This one's shirts. I got a bunch ...</td>\n",
       "    </tr>\n",
       "    <tr>\n",
       "      <th>59</th>\n",
       "      <td>John_Mulaney</td>\n",
       "      <td>59.4920</td>\n",
       "      <td>67.850</td>\n",
       "      <td>Dear IRS, please deduct from my federal income...</td>\n",
       "    </tr>\n",
       "    <tr>\n",
       "      <th>60</th>\n",
       "      <td>John_Mulaney</td>\n",
       "      <td>70.7620</td>\n",
       "      <td>74.207</td>\n",
       "      <td>That sleep shirt bullshit. \"Well, if it's too ...</td>\n",
       "    </tr>\n",
       "    <tr>\n",
       "      <th>61</th>\n",
       "      <td>John_Mulaney</td>\n",
       "      <td>100.8700</td>\n",
       "      <td>103.899</td>\n",
       "      <td>So rather than violate these meaningless polit...</td>\n",
       "    </tr>\n",
       "    <tr>\n",
       "      <th>62</th>\n",
       "      <td>John_Mulaney</td>\n",
       "      <td>113.7820</td>\n",
       "      <td>115.980</td>\n",
       "      <td>Why don't you give me a candle for looking in ...</td>\n",
       "    </tr>\n",
       "    <tr>\n",
       "      <th>77</th>\n",
       "      <td>Ali_Wong</td>\n",
       "      <td>21.0070</td>\n",
       "      <td>28.986</td>\n",
       "      <td>We were screaming and fighting and yelling and...</td>\n",
       "    </tr>\n",
       "    <tr>\n",
       "      <th>78</th>\n",
       "      <td>Ali_Wong</td>\n",
       "      <td>48.8030</td>\n",
       "      <td>51.189</td>\n",
       "      <td>We were all required to buy it when we were in...</td>\n",
       "    </tr>\n",
       "    <tr>\n",
       "      <th>79</th>\n",
       "      <td>Ali_Wong</td>\n",
       "      <td>56.7800</td>\n",
       "      <td>60.001</td>\n",
       "      <td>All because what? It could graph.</td>\n",
       "    </tr>\n",
       "    <tr>\n",
       "      <th>80</th>\n",
       "      <td>Ali_Wong</td>\n",
       "      <td>62.4700</td>\n",
       "      <td>66.230</td>\n",
       "      <td>It was like the Tesla of my time.</td>\n",
       "    </tr>\n",
       "    <tr>\n",
       "      <th>81</th>\n",
       "      <td>Ali_Wong</td>\n",
       "      <td>69.3800</td>\n",
       "      <td>71.670</td>\n",
       "      <td>I do know... that I'm gonna have to clean all ...</td>\n",
       "    </tr>\n",
       "    <tr>\n",
       "      <th>82</th>\n",
       "      <td>Ali_Wong</td>\n",
       "      <td>93.5230</td>\n",
       "      <td>98.684</td>\n",
       "      <td>Because according to Deepak-Oprah, that's not ...</td>\n",
       "    </tr>\n",
       "    <tr>\n",
       "      <th>90</th>\n",
       "      <td>Hasan_Minhaj</td>\n",
       "      <td>10.0000</td>\n",
       "      <td>12.553</td>\n",
       "      <td>This is a real show about a white kid that get...</td>\n",
       "    </tr>\n",
       "    <tr>\n",
       "      <th>91</th>\n",
       "      <td>Hasan_Minhaj</td>\n",
       "      <td>19.7160</td>\n",
       "      <td>25.960</td>\n",
       "      <td>Do you know when br0wn kids get slapped? Every...</td>\n",
       "    </tr>\n",
       "    <tr>\n",
       "      <th>92</th>\n",
       "      <td>Hasan_Minhaj</td>\n",
       "      <td>28.6700</td>\n",
       "      <td>30.980</td>\n",
       "      <td>We go, \"Ah, Biju got slapped on his birthday!\"</td>\n",
       "    </tr>\n",
       "    <tr>\n",
       "      <th>93</th>\n",
       "      <td>Hasan_Minhaj</td>\n",
       "      <td>35.2170</td>\n",
       "      <td>38.130</td>\n",
       "      <td>It's why we become cardiologists and win spell...</td>\n",
       "    </tr>\n",
       "    <tr>\n",
       "      <th>94</th>\n",
       "      <td>Hasan_Minhaj</td>\n",
       "      <td>59.6170</td>\n",
       "      <td>65.259</td>\n",
       "      <td>[laughter] That kid won't choke on camera. He'...</td>\n",
       "    </tr>\n",
       "    <tr>\n",
       "      <th>95</th>\n",
       "      <td>Hasan_Minhaj</td>\n",
       "      <td>66.0100</td>\n",
       "      <td>69.830</td>\n",
       "      <td>This kid just won $30,000 cash. Nothing.</td>\n",
       "    </tr>\n",
       "    <tr>\n",
       "      <th>96</th>\n",
       "      <td>Hasan_Minhaj</td>\n",
       "      <td>80.7980</td>\n",
       "      <td>86.560</td>\n",
       "      <td>Look at his brother. His brother is like, \"I'm...</td>\n",
       "    </tr>\n",
       "    <tr>\n",
       "      <th>97</th>\n",
       "      <td>Hasan_Minhaj</td>\n",
       "      <td>90.0370</td>\n",
       "      <td>91.780</td>\n",
       "      <td>That is an Indian sociopath.</td>\n",
       "    </tr>\n",
       "    <tr>\n",
       "      <th>151</th>\n",
       "      <td>Jimmy_Yang</td>\n",
       "      <td>4.7230</td>\n",
       "      <td>6.042</td>\n",
       "      <td>Asian people, we don't need Tinder anymore. We...</td>\n",
       "    </tr>\n",
       "    <tr>\n",
       "      <th>152</th>\n",
       "      <td>Jimmy_Yang</td>\n",
       "      <td>14.9800</td>\n",
       "      <td>17.680</td>\n",
       "      <td>I've been dating a lot of tall girls lately, b...</td>\n",
       "    </tr>\n",
       "    <tr>\n",
       "      <th>153</th>\n",
       "      <td>Jimmy_Yang</td>\n",
       "      <td>25.1675</td>\n",
       "      <td>27.876</td>\n",
       "      <td>But some of them like to wear heels. That's ju...</td>\n",
       "    </tr>\n",
       "    <tr>\n",
       "      <th>154</th>\n",
       "      <td>Jimmy_Yang</td>\n",
       "      <td>35.6550</td>\n",
       "      <td>36.360</td>\n",
       "      <td>I'm like, your ass is at my eye level right now.</td>\n",
       "    </tr>\n",
       "    <tr>\n",
       "      <th>155</th>\n",
       "      <td>Jimmy_Yang</td>\n",
       "      <td>40.2820</td>\n",
       "      <td>41.856</td>\n",
       "      <td>I look like a child, and you look like a child...</td>\n",
       "    </tr>\n",
       "    <tr>\n",
       "      <th>156</th>\n",
       "      <td>Jimmy_Yang</td>\n",
       "      <td>51.3600</td>\n",
       "      <td>55.890</td>\n",
       "      <td>Last time- the last time I took a tall girl to...</td>\n",
       "    </tr>\n",
       "    <tr>\n",
       "      <th>157</th>\n",
       "      <td>Jimmy_Yang</td>\n",
       "      <td>61.7300</td>\n",
       "      <td>63.480</td>\n",
       "      <td>I'm 5' 5''. I just go to concerts to smell oth...</td>\n",
       "    </tr>\n",
       "    <tr>\n",
       "      <th>158</th>\n",
       "      <td>Jimmy_Yang</td>\n",
       "      <td>70.2100</td>\n",
       "      <td>74.830</td>\n",
       "      <td>She was having the time of her life, doing wha...</td>\n",
       "    </tr>\n",
       "    <tr>\n",
       "      <th>159</th>\n",
       "      <td>Jimmy_Yang</td>\n",
       "      <td>81.6720</td>\n",
       "      <td>83.525</td>\n",
       "      <td>So I just looked up at her, I was like, hey! P...</td>\n",
       "    </tr>\n",
       "    <tr>\n",
       "      <th>160</th>\n",
       "      <td>Jimmy_Yang</td>\n",
       "      <td>88.1520</td>\n",
       "      <td>89.044</td>\n",
       "      <td>I want to see Billy Eilish, too.</td>\n",
       "    </tr>\n",
       "    <tr>\n",
       "      <th>194</th>\n",
       "      <td>Russell_Peters</td>\n",
       "      <td>17.3670</td>\n",
       "      <td>18.713</td>\n",
       "      <td>I'm like, that's really fucking racist, but si...</td>\n",
       "    </tr>\n",
       "    <tr>\n",
       "      <th>195</th>\n",
       "      <td>Russell_Peters</td>\n",
       "      <td>23.0740</td>\n",
       "      <td>23.734</td>\n",
       "      <td>First of all, you're lying to me right now.</td>\n",
       "    </tr>\n",
       "    <tr>\n",
       "      <th>196</th>\n",
       "      <td>Russell_Peters</td>\n",
       "      <td>38.7710</td>\n",
       "      <td>41.336</td>\n",
       "      <td>There's no way you can consume the food that w...</td>\n",
       "    </tr>\n",
       "    <tr>\n",
       "      <th>197</th>\n",
       "      <td>Russell_Peters</td>\n",
       "      <td>58.2510</td>\n",
       "      <td>66.234</td>\n",
       "      <td>You know exactly who has it. You got it, don't...</td>\n",
       "    </tr>\n",
       "    <tr>\n",
       "      <th>198</th>\n",
       "      <td>Russell_Peters</td>\n",
       "      <td>70.2830</td>\n",
       "      <td>71.202</td>\n",
       "      <td>He's like, I know, I have it, but I don't want...</td>\n",
       "    </tr>\n",
       "  </tbody>\n",
       "</table>\n",
       "</div>"
      ],
      "text/plain": [
       "           comedian  laugh_start  laugh_end  \\\n",
       "56     John_Mulaney      20.2350     22.628   \n",
       "57     John_Mulaney      30.5460     32.020   \n",
       "58     John_Mulaney      44.3320     46.485   \n",
       "59     John_Mulaney      59.4920     67.850   \n",
       "60     John_Mulaney      70.7620     74.207   \n",
       "61     John_Mulaney     100.8700    103.899   \n",
       "62     John_Mulaney     113.7820    115.980   \n",
       "77         Ali_Wong      21.0070     28.986   \n",
       "78         Ali_Wong      48.8030     51.189   \n",
       "79         Ali_Wong      56.7800     60.001   \n",
       "80         Ali_Wong      62.4700     66.230   \n",
       "81         Ali_Wong      69.3800     71.670   \n",
       "82         Ali_Wong      93.5230     98.684   \n",
       "90     Hasan_Minhaj      10.0000     12.553   \n",
       "91     Hasan_Minhaj      19.7160     25.960   \n",
       "92     Hasan_Minhaj      28.6700     30.980   \n",
       "93     Hasan_Minhaj      35.2170     38.130   \n",
       "94     Hasan_Minhaj      59.6170     65.259   \n",
       "95     Hasan_Minhaj      66.0100     69.830   \n",
       "96     Hasan_Minhaj      80.7980     86.560   \n",
       "97     Hasan_Minhaj      90.0370     91.780   \n",
       "151      Jimmy_Yang       4.7230      6.042   \n",
       "152      Jimmy_Yang      14.9800     17.680   \n",
       "153      Jimmy_Yang      25.1675     27.876   \n",
       "154      Jimmy_Yang      35.6550     36.360   \n",
       "155      Jimmy_Yang      40.2820     41.856   \n",
       "156      Jimmy_Yang      51.3600     55.890   \n",
       "157      Jimmy_Yang      61.7300     63.480   \n",
       "158      Jimmy_Yang      70.2100     74.830   \n",
       "159      Jimmy_Yang      81.6720     83.525   \n",
       "160      Jimmy_Yang      88.1520     89.044   \n",
       "194  Russell_Peters      17.3670     18.713   \n",
       "195  Russell_Peters      23.0740     23.734   \n",
       "196  Russell_Peters      38.7710     41.336   \n",
       "197  Russell_Peters      58.2510     66.234   \n",
       "198  Russell_Peters      70.2830     71.202   \n",
       "\n",
       "                                              sentence  \n",
       "56   We made these big piles of clothes, we put the...  \n",
       "57   On an unrelated note, I'm going to walk out th...  \n",
       "58   I was like, \"This one's shirts. I got a bunch ...  \n",
       "59   Dear IRS, please deduct from my federal income...  \n",
       "60   That sleep shirt bullshit. \"Well, if it's too ...  \n",
       "61   So rather than violate these meaningless polit...  \n",
       "62   Why don't you give me a candle for looking in ...  \n",
       "77   We were screaming and fighting and yelling and...  \n",
       "78   We were all required to buy it when we were in...  \n",
       "79                   All because what? It could graph.  \n",
       "80                   It was like the Tesla of my time.  \n",
       "81   I do know... that I'm gonna have to clean all ...  \n",
       "82   Because according to Deepak-Oprah, that's not ...  \n",
       "90   This is a real show about a white kid that get...  \n",
       "91   Do you know when br0wn kids get slapped? Every...  \n",
       "92      We go, \"Ah, Biju got slapped on his birthday!\"  \n",
       "93   It's why we become cardiologists and win spell...  \n",
       "94   [laughter] That kid won't choke on camera. He'...  \n",
       "95            This kid just won $30,000 cash. Nothing.  \n",
       "96   Look at his brother. His brother is like, \"I'm...  \n",
       "97                        That is an Indian sociopath.  \n",
       "151  Asian people, we don't need Tinder anymore. We...  \n",
       "152  I've been dating a lot of tall girls lately, b...  \n",
       "153  But some of them like to wear heels. That's ju...  \n",
       "154   I'm like, your ass is at my eye level right now.  \n",
       "155  I look like a child, and you look like a child...  \n",
       "156  Last time- the last time I took a tall girl to...  \n",
       "157  I'm 5' 5''. I just go to concerts to smell oth...  \n",
       "158  She was having the time of her life, doing wha...  \n",
       "159  So I just looked up at her, I was like, hey! P...  \n",
       "160                   I want to see Billy Eilish, too.  \n",
       "194  I'm like, that's really fucking racist, but si...  \n",
       "195        First of all, you're lying to me right now.  \n",
       "196  There's no way you can consume the food that w...  \n",
       "197  You know exactly who has it. You got it, don't...  \n",
       "198  He's like, I know, I have it, but I don't want...  "
      ]
     },
     "execution_count": 48,
     "metadata": {},
     "output_type": "execute_result"
    }
   ],
   "source": [
    "llm_gt"
   ]
  },
  {
   "cell_type": "code",
   "execution_count": 49,
   "metadata": {},
   "outputs": [],
   "source": [
    "chatgpt = pd.read_csv(\"/home/ada/humor/data/stand_up_dataset/Chat_GPT_results - Sheet1.csv\")"
   ]
  },
  {
   "cell_type": "code",
   "execution_count": 50,
   "metadata": {},
   "outputs": [
    {
     "data": {
      "text/html": [
       "<div>\n",
       "<style scoped>\n",
       "    .dataframe tbody tr th:only-of-type {\n",
       "        vertical-align: middle;\n",
       "    }\n",
       "\n",
       "    .dataframe tbody tr th {\n",
       "        vertical-align: top;\n",
       "    }\n",
       "\n",
       "    .dataframe thead th {\n",
       "        text-align: right;\n",
       "    }\n",
       "</style>\n",
       "<table border=\"1\" class=\"dataframe\">\n",
       "  <thead>\n",
       "    <tr style=\"text-align: right;\">\n",
       "      <th></th>\n",
       "      <th>comedian</th>\n",
       "      <th>sentence</th>\n",
       "    </tr>\n",
       "  </thead>\n",
       "  <tbody>\n",
       "    <tr>\n",
       "      <th>0</th>\n",
       "      <td>Jimmy_Yang</td>\n",
       "      <td>Asian people, we don’t need Tinder anymore. We...</td>\n",
       "    </tr>\n",
       "    <tr>\n",
       "      <th>1</th>\n",
       "      <td>Jimmy_Yang</td>\n",
       "      <td>I’ve been dating a lot of tall girls lately, b...</td>\n",
       "    </tr>\n",
       "    <tr>\n",
       "      <th>2</th>\n",
       "      <td>Jimmy_Yang</td>\n",
       "      <td>She’s like, it makes my ass look better. I’m l...</td>\n",
       "    </tr>\n",
       "    <tr>\n",
       "      <th>3</th>\n",
       "      <td>Jimmy_Yang</td>\n",
       "      <td>Last time– the last time I took a tall girl to...</td>\n",
       "    </tr>\n",
       "    <tr>\n",
       "      <th>4</th>\n",
       "      <td>Jimmy_Yang</td>\n",
       "      <td>I’m 5′ 5″. I just go to concerts to smell othe...</td>\n",
       "    </tr>\n",
       "    <tr>\n",
       "      <th>5</th>\n",
       "      <td>Jimmy_Yang</td>\n",
       "      <td>She was having the time of her life, doing wha...</td>\n",
       "    </tr>\n",
       "    <tr>\n",
       "      <th>6</th>\n",
       "      <td>Jimmy_Yang</td>\n",
       "      <td>I was frustrated. I had enough. So I just look...</td>\n",
       "    </tr>\n",
       "    <tr>\n",
       "      <th>7</th>\n",
       "      <td>Russell_Peters</td>\n",
       "      <td>He goes, look, you’re a 48-year-old Indian man...</td>\n",
       "    </tr>\n",
       "    <tr>\n",
       "      <th>8</th>\n",
       "      <td>Russell_Peters</td>\n",
       "      <td>There is no way you can be Indian and not have...</td>\n",
       "    </tr>\n",
       "    <tr>\n",
       "      <th>9</th>\n",
       "      <td>Russell_Peters</td>\n",
       "      <td>There’s no way you can consume the food that w...</td>\n",
       "    </tr>\n",
       "    <tr>\n",
       "      <th>10</th>\n",
       "      <td>Russell_Peters</td>\n",
       "      <td>Dad, I want to assure you I have no phagus in ...</td>\n",
       "    </tr>\n",
       "    <tr>\n",
       "      <th>11</th>\n",
       "      <td>Russell_Peters</td>\n",
       "      <td>I’m looking at all of you, especially all the ...</td>\n",
       "    </tr>\n",
       "    <tr>\n",
       "      <th>12</th>\n",
       "      <td>John_Mulaney</td>\n",
       "      <td>We made these big piles of clothes, we put the...</td>\n",
       "    </tr>\n",
       "    <tr>\n",
       "      <th>13</th>\n",
       "      <td>John_Mulaney</td>\n",
       "      <td>One day my wife said, 'Hey, you took that stuf...</td>\n",
       "    </tr>\n",
       "    <tr>\n",
       "      <th>14</th>\n",
       "      <td>John_Mulaney</td>\n",
       "      <td>It was charitable, but it was also fast and vi...</td>\n",
       "    </tr>\n",
       "    <tr>\n",
       "      <th>15</th>\n",
       "      <td>John_Mulaney</td>\n",
       "      <td>The boxes were so heavy I couldn’t even say wh...</td>\n",
       "    </tr>\n",
       "    <tr>\n",
       "      <th>16</th>\n",
       "      <td>John_Mulaney</td>\n",
       "      <td>The guy tried to give me a big receipt. He’s l...</td>\n",
       "    </tr>\n",
       "    <tr>\n",
       "      <th>17</th>\n",
       "      <td>John_Mulaney</td>\n",
       "      <td>That sleep shirt bullshit. 'Well, if it’s too ...</td>\n",
       "    </tr>\n",
       "    <tr>\n",
       "      <th>18</th>\n",
       "      <td>John_Mulaney</td>\n",
       "      <td>Because we don’t say that when someone gives u...</td>\n",
       "    </tr>\n",
       "    <tr>\n",
       "      <th>19</th>\n",
       "      <td>John_Mulaney</td>\n",
       "      <td>Why don’t you give me a candle for looking in ...</td>\n",
       "    </tr>\n",
       "    <tr>\n",
       "      <th>20</th>\n",
       "      <td>John_Mulaney</td>\n",
       "      <td>Was there ever even a ghost, Mother, or was th...</td>\n",
       "    </tr>\n",
       "    <tr>\n",
       "      <th>21</th>\n",
       "      <td>Ali_Wong</td>\n",
       "      <td>The last time I was at home in San Francisco, ...</td>\n",
       "    </tr>\n",
       "    <tr>\n",
       "      <th>22</th>\n",
       "      <td>Ali_Wong</td>\n",
       "      <td>It was so emotional. We were screaming and fig...</td>\n",
       "    </tr>\n",
       "    <tr>\n",
       "      <th>23</th>\n",
       "      <td>Ali_Wong</td>\n",
       "      <td>Those of you under 25 probably don't know what...</td>\n",
       "    </tr>\n",
       "    <tr>\n",
       "      <th>24</th>\n",
       "      <td>Ali_Wong</td>\n",
       "      <td>And everybody thought it was like this Judy Je...</td>\n",
       "    </tr>\n",
       "    <tr>\n",
       "      <th>25</th>\n",
       "      <td>Ali_Wong</td>\n",
       "      <td>And my mom got so emotional about the manual a...</td>\n",
       "    </tr>\n",
       "    <tr>\n",
       "      <th>26</th>\n",
       "      <td>Ali_Wong</td>\n",
       "      <td>And I was like, 'But... I do know... that I'm ...</td>\n",
       "    </tr>\n",
       "    <tr>\n",
       "      <th>27</th>\n",
       "      <td>Ali_Wong</td>\n",
       "      <td>And I'm not trying to be a procrastinator anym...</td>\n",
       "    </tr>\n",
       "    <tr>\n",
       "      <th>28</th>\n",
       "      <td>Hasan_Minhaj</td>\n",
       "      <td>Have you seen the show called The Slap? This i...</td>\n",
       "    </tr>\n",
       "    <tr>\n",
       "      <th>29</th>\n",
       "      <td>Hasan_Minhaj</td>\n",
       "      <td>Do you know when brown kids get slapped? Every...</td>\n",
       "    </tr>\n",
       "    <tr>\n",
       "      <th>30</th>\n",
       "      <td>Hasan_Minhaj</td>\n",
       "      <td>And that’s what makes us tough and resilient. ...</td>\n",
       "    </tr>\n",
       "    <tr>\n",
       "      <th>31</th>\n",
       "      <td>Hasan_Minhaj</td>\n",
       "      <td>You ever seen an Indian kid win a spelling bee...</td>\n",
       "    </tr>\n",
       "    <tr>\n",
       "      <th>32</th>\n",
       "      <td>Hasan_Minhaj</td>\n",
       "      <td>Of course he can spell 'knaidel'. Knaidel. Loo...</td>\n",
       "    </tr>\n",
       "    <tr>\n",
       "      <th>33</th>\n",
       "      <td>Hasan_Minhaj</td>\n",
       "      <td>People ask, 'Where does that come from?' Look ...</td>\n",
       "    </tr>\n",
       "    <tr>\n",
       "      <th>34</th>\n",
       "      <td>Hasan_Minhaj</td>\n",
       "      <td>People say, 'Where’s Bobby Jindal from?' That’...</td>\n",
       "    </tr>\n",
       "  </tbody>\n",
       "</table>\n",
       "</div>"
      ],
      "text/plain": [
       "          comedian                                           sentence\n",
       "0       Jimmy_Yang  Asian people, we don’t need Tinder anymore. We...\n",
       "1       Jimmy_Yang  I’ve been dating a lot of tall girls lately, b...\n",
       "2       Jimmy_Yang  She’s like, it makes my ass look better. I’m l...\n",
       "3       Jimmy_Yang  Last time– the last time I took a tall girl to...\n",
       "4       Jimmy_Yang  I’m 5′ 5″. I just go to concerts to smell othe...\n",
       "5       Jimmy_Yang  She was having the time of her life, doing wha...\n",
       "6       Jimmy_Yang  I was frustrated. I had enough. So I just look...\n",
       "7   Russell_Peters  He goes, look, you’re a 48-year-old Indian man...\n",
       "8   Russell_Peters  There is no way you can be Indian and not have...\n",
       "9   Russell_Peters  There’s no way you can consume the food that w...\n",
       "10  Russell_Peters  Dad, I want to assure you I have no phagus in ...\n",
       "11  Russell_Peters  I’m looking at all of you, especially all the ...\n",
       "12    John_Mulaney  We made these big piles of clothes, we put the...\n",
       "13    John_Mulaney  One day my wife said, 'Hey, you took that stuf...\n",
       "14    John_Mulaney  It was charitable, but it was also fast and vi...\n",
       "15    John_Mulaney  The boxes were so heavy I couldn’t even say wh...\n",
       "16    John_Mulaney  The guy tried to give me a big receipt. He’s l...\n",
       "17    John_Mulaney  That sleep shirt bullshit. 'Well, if it’s too ...\n",
       "18    John_Mulaney  Because we don’t say that when someone gives u...\n",
       "19    John_Mulaney  Why don’t you give me a candle for looking in ...\n",
       "20    John_Mulaney  Was there ever even a ghost, Mother, or was th...\n",
       "21        Ali_Wong  The last time I was at home in San Francisco, ...\n",
       "22        Ali_Wong  It was so emotional. We were screaming and fig...\n",
       "23        Ali_Wong  Those of you under 25 probably don't know what...\n",
       "24        Ali_Wong  And everybody thought it was like this Judy Je...\n",
       "25        Ali_Wong  And my mom got so emotional about the manual a...\n",
       "26        Ali_Wong  And I was like, 'But... I do know... that I'm ...\n",
       "27        Ali_Wong  And I'm not trying to be a procrastinator anym...\n",
       "28    Hasan_Minhaj  Have you seen the show called The Slap? This i...\n",
       "29    Hasan_Minhaj  Do you know when brown kids get slapped? Every...\n",
       "30    Hasan_Minhaj  And that’s what makes us tough and resilient. ...\n",
       "31    Hasan_Minhaj  You ever seen an Indian kid win a spelling bee...\n",
       "32    Hasan_Minhaj  Of course he can spell 'knaidel'. Knaidel. Loo...\n",
       "33    Hasan_Minhaj  People ask, 'Where does that come from?' Look ...\n",
       "34    Hasan_Minhaj  People say, 'Where’s Bobby Jindal from?' That’..."
      ]
     },
     "execution_count": 50,
     "metadata": {},
     "output_type": "execute_result"
    }
   ],
   "source": [
    "chatgpt"
   ]
  },
  {
   "cell_type": "code",
   "execution_count": 51,
   "metadata": {},
   "outputs": [
    {
     "data": {
      "text/html": [
       "<div>\n",
       "<style scoped>\n",
       "    .dataframe tbody tr th:only-of-type {\n",
       "        vertical-align: middle;\n",
       "    }\n",
       "\n",
       "    .dataframe tbody tr th {\n",
       "        vertical-align: top;\n",
       "    }\n",
       "\n",
       "    .dataframe thead th {\n",
       "        text-align: right;\n",
       "    }\n",
       "</style>\n",
       "<table border=\"1\" class=\"dataframe\">\n",
       "  <thead>\n",
       "    <tr style=\"text-align: right;\">\n",
       "      <th></th>\n",
       "      <th>comedian</th>\n",
       "      <th>score</th>\n",
       "    </tr>\n",
       "  </thead>\n",
       "  <tbody>\n",
       "    <tr>\n",
       "      <th>0</th>\n",
       "      <td>Ali_Wong</td>\n",
       "      <td>41.750000</td>\n",
       "    </tr>\n",
       "    <tr>\n",
       "      <th>1</th>\n",
       "      <td>Hasan_Minhaj</td>\n",
       "      <td>39.625000</td>\n",
       "    </tr>\n",
       "    <tr>\n",
       "      <th>2</th>\n",
       "      <td>Jimmy_Yang</td>\n",
       "      <td>47.600000</td>\n",
       "    </tr>\n",
       "    <tr>\n",
       "      <th>3</th>\n",
       "      <td>John_Mulaney</td>\n",
       "      <td>70.571429</td>\n",
       "    </tr>\n",
       "    <tr>\n",
       "      <th>4</th>\n",
       "      <td>Russell_Peters</td>\n",
       "      <td>41.300000</td>\n",
       "    </tr>\n",
       "  </tbody>\n",
       "</table>\n",
       "</div>"
      ],
      "text/plain": [
       "         comedian      score\n",
       "0        Ali_Wong  41.750000\n",
       "1    Hasan_Minhaj  39.625000\n",
       "2      Jimmy_Yang  47.600000\n",
       "3    John_Mulaney  70.571429\n",
       "4  Russell_Peters  41.300000"
      ]
     },
     "execution_count": 51,
     "metadata": {},
     "output_type": "execute_result"
    }
   ],
   "source": [
    "chatgpt_metric = bipartite_metric(chatgpt, llm_gt)\n",
    "chatgpt_metric"
   ]
  },
  {
   "cell_type": "code",
   "execution_count": 52,
   "metadata": {},
   "outputs": [
    {
     "name": "stderr",
     "output_type": "stream",
     "text": [
      "/tmp/ipykernel_1079520/1572520876.py:1: FutureWarning: Dropping of nuisance columns in DataFrame reductions (with 'numeric_only=None') is deprecated; in a future version this will raise TypeError.  Select only valid columns before calling the reduction.\n",
      "  chatgpt_metric.mean()\n"
     ]
    },
    {
     "data": {
      "text/plain": [
       "score    48.169286\n",
       "dtype: float64"
      ]
     },
     "execution_count": 52,
     "metadata": {},
     "output_type": "execute_result"
    }
   ],
   "source": [
    "chatgpt_metric.mean()"
   ]
  },
  {
   "cell_type": "code",
   "execution_count": 53,
   "metadata": {},
   "outputs": [],
   "source": [
    "claude = pd.read_csv(\"/home/ada/humor/data/stand_up_dataset/Claude_results - Sheet1.csv\")"
   ]
  },
  {
   "cell_type": "code",
   "execution_count": 54,
   "metadata": {},
   "outputs": [
    {
     "data": {
      "text/html": [
       "<div>\n",
       "<style scoped>\n",
       "    .dataframe tbody tr th:only-of-type {\n",
       "        vertical-align: middle;\n",
       "    }\n",
       "\n",
       "    .dataframe tbody tr th {\n",
       "        vertical-align: top;\n",
       "    }\n",
       "\n",
       "    .dataframe thead th {\n",
       "        text-align: right;\n",
       "    }\n",
       "</style>\n",
       "<table border=\"1\" class=\"dataframe\">\n",
       "  <thead>\n",
       "    <tr style=\"text-align: right;\">\n",
       "      <th></th>\n",
       "      <th>comedian</th>\n",
       "      <th>score</th>\n",
       "    </tr>\n",
       "  </thead>\n",
       "  <tbody>\n",
       "    <tr>\n",
       "      <th>0</th>\n",
       "      <td>Ali_Wong</td>\n",
       "      <td>60.333333</td>\n",
       "    </tr>\n",
       "    <tr>\n",
       "      <th>1</th>\n",
       "      <td>Hasan_Minhaj</td>\n",
       "      <td>63.250000</td>\n",
       "    </tr>\n",
       "    <tr>\n",
       "      <th>2</th>\n",
       "      <td>Jimmy_Yang</td>\n",
       "      <td>36.400000</td>\n",
       "    </tr>\n",
       "    <tr>\n",
       "      <th>3</th>\n",
       "      <td>John_Mulaney</td>\n",
       "      <td>57.000000</td>\n",
       "    </tr>\n",
       "    <tr>\n",
       "      <th>4</th>\n",
       "      <td>Russell_Peters</td>\n",
       "      <td>46.800000</td>\n",
       "    </tr>\n",
       "  </tbody>\n",
       "</table>\n",
       "</div>"
      ],
      "text/plain": [
       "         comedian      score\n",
       "0        Ali_Wong  60.333333\n",
       "1    Hasan_Minhaj  63.250000\n",
       "2      Jimmy_Yang  36.400000\n",
       "3    John_Mulaney  57.000000\n",
       "4  Russell_Peters  46.800000"
      ]
     },
     "execution_count": 54,
     "metadata": {},
     "output_type": "execute_result"
    }
   ],
   "source": [
    "claude_metric = bipartite_metric(claude, llm_gt)\n",
    "claude_metric"
   ]
  },
  {
   "cell_type": "code",
   "execution_count": 55,
   "metadata": {},
   "outputs": [
    {
     "name": "stderr",
     "output_type": "stream",
     "text": [
      "/tmp/ipykernel_1079520/2380763216.py:1: FutureWarning: Dropping of nuisance columns in DataFrame reductions (with 'numeric_only=None') is deprecated; in a future version this will raise TypeError.  Select only valid columns before calling the reduction.\n",
      "  claude_metric.mean()\n"
     ]
    },
    {
     "data": {
      "text/plain": [
       "score    52.756667\n",
       "dtype: float64"
      ]
     },
     "execution_count": 55,
     "metadata": {},
     "output_type": "execute_result"
    }
   ],
   "source": [
    "claude_metric.mean()"
   ]
  },
  {
   "cell_type": "code",
   "execution_count": 56,
   "metadata": {},
   "outputs": [],
   "source": [
    "gemma_llm = model.loc[model[\"comedian\"].isin([\"John_Mulaney\", \"Jimmy_Yang\", \"Russell_Peters\", \"Ali_Wong\", \"Hasan_Minhaj\"])]"
   ]
  },
  {
   "cell_type": "code",
   "execution_count": 57,
   "metadata": {},
   "outputs": [
    {
     "name": "stderr",
     "output_type": "stream",
     "text": [
      "/tmp/ipykernel_1079520/1130048052.py:2: FutureWarning: Dropping of nuisance columns in DataFrame reductions (with 'numeric_only=None') is deprecated; in a future version this will raise TypeError.  Select only valid columns before calling the reduction.\n",
      "  gemma_llm_metric.mean()\n"
     ]
    },
    {
     "data": {
      "text/plain": [
       "score    30.884762\n",
       "dtype: float64"
      ]
     },
     "execution_count": 57,
     "metadata": {},
     "output_type": "execute_result"
    }
   ],
   "source": [
    "gemma_llm_metric = bipartite_metric(gemma_llm, llm_gt)\n",
    "gemma_llm_metric.mean()"
   ]
  },
  {
   "cell_type": "code",
   "execution_count": 58,
   "metadata": {},
   "outputs": [],
   "source": [
    "gemma = gemma_llm_metric.assign(model = \"gemma\")\n",
    "claude = claude_metric.assign(model=\"claude\") \n",
    "chatgpt = chatgpt_metric.assign(model=\"chatgpt\")"
   ]
  },
  {
   "cell_type": "code",
   "execution_count": 59,
   "metadata": {},
   "outputs": [],
   "source": [
    "df = pd.concat([gemma, claude, chatgpt]).reset_index(drop=True)"
   ]
  },
  {
   "cell_type": "code",
   "execution_count": 60,
   "metadata": {},
   "outputs": [
    {
     "data": {
      "text/plain": [
       "<seaborn.axisgrid.FacetGrid at 0x7f1d8cf166a0>"
      ]
     },
     "execution_count": 60,
     "metadata": {},
     "output_type": "execute_result"
    },
    {
     "data": {
      "image/png": "[encoded data removed]",
      "text/plain": [
       "<Figure size 603.75x500 with 1 Axes>"
      ]
     },
     "metadata": {},
     "output_type": "display_data"
    }
   ],
   "source": [
    "sns.displot(df, x=\"score\", hue=\"model\", kind=\"hist\", shrink=1, multiple=\"dodge\")"
   ]
  },
  {
   "cell_type": "markdown",
   "metadata": {},
   "source": [
    "## More tokens"
   ]
  },
  {
   "cell_type": "code",
   "execution_count": 61,
   "metadata": {},
   "outputs": [],
   "source": [
    "gemma200 = pd.read_csv(\"/home/ada/humor/data/stand_up_dataset/gemma200tokens - Sheet1.csv\")"
   ]
  },
  {
   "cell_type": "code",
   "execution_count": 62,
   "metadata": {},
   "outputs": [
    {
     "data": {
      "text/html": [
       "<div>\n",
       "<style scoped>\n",
       "    .dataframe tbody tr th:only-of-type {\n",
       "        vertical-align: middle;\n",
       "    }\n",
       "\n",
       "    .dataframe tbody tr th {\n",
       "        vertical-align: top;\n",
       "    }\n",
       "\n",
       "    .dataframe thead th {\n",
       "        text-align: right;\n",
       "    }\n",
       "</style>\n",
       "<table border=\"1\" class=\"dataframe\">\n",
       "  <thead>\n",
       "    <tr style=\"text-align: right;\">\n",
       "      <th></th>\n",
       "      <th>comedian</th>\n",
       "      <th>score</th>\n",
       "    </tr>\n",
       "  </thead>\n",
       "  <tbody>\n",
       "    <tr>\n",
       "      <th>0</th>\n",
       "      <td>Ali_Wong</td>\n",
       "      <td>32.333333</td>\n",
       "    </tr>\n",
       "    <tr>\n",
       "      <th>1</th>\n",
       "      <td>Ali_Wong_2</td>\n",
       "      <td>40.285714</td>\n",
       "    </tr>\n",
       "    <tr>\n",
       "      <th>2</th>\n",
       "      <td>Anthony_Jeselnik</td>\n",
       "      <td>30.642857</td>\n",
       "    </tr>\n",
       "    <tr>\n",
       "      <th>3</th>\n",
       "      <td>Anthony_Jeselnik_2</td>\n",
       "      <td>63.250000</td>\n",
       "    </tr>\n",
       "    <tr>\n",
       "      <th>4</th>\n",
       "      <td>Chelsea_Peretti</td>\n",
       "      <td>14.333333</td>\n",
       "    </tr>\n",
       "    <tr>\n",
       "      <th>5</th>\n",
       "      <td>Chelsea_Peretti_2</td>\n",
       "      <td>31.636364</td>\n",
       "    </tr>\n",
       "    <tr>\n",
       "      <th>6</th>\n",
       "      <td>Donald_Glover</td>\n",
       "      <td>36.500000</td>\n",
       "    </tr>\n",
       "    <tr>\n",
       "      <th>7</th>\n",
       "      <td>Donald_Glover_2</td>\n",
       "      <td>35.875000</td>\n",
       "    </tr>\n",
       "    <tr>\n",
       "      <th>8</th>\n",
       "      <td>Hasan_Minhaj</td>\n",
       "      <td>36.250000</td>\n",
       "    </tr>\n",
       "    <tr>\n",
       "      <th>9</th>\n",
       "      <td>Hasan_Minhaj_2</td>\n",
       "      <td>25.500000</td>\n",
       "    </tr>\n",
       "    <tr>\n",
       "      <th>10</th>\n",
       "      <td>Iliza_Shlesinger</td>\n",
       "      <td>34.000000</td>\n",
       "    </tr>\n",
       "    <tr>\n",
       "      <th>11</th>\n",
       "      <td>Iliza_Shlesinger_2</td>\n",
       "      <td>26.500000</td>\n",
       "    </tr>\n",
       "    <tr>\n",
       "      <th>12</th>\n",
       "      <td>Jim_Gaffigan</td>\n",
       "      <td>28.888889</td>\n",
       "    </tr>\n",
       "    <tr>\n",
       "      <th>13</th>\n",
       "      <td>Jim_Gaffigan_2</td>\n",
       "      <td>12.450000</td>\n",
       "    </tr>\n",
       "    <tr>\n",
       "      <th>14</th>\n",
       "      <td>Jimmy_Yang</td>\n",
       "      <td>16.900000</td>\n",
       "    </tr>\n",
       "    <tr>\n",
       "      <th>15</th>\n",
       "      <td>Jimmy_Yang_2</td>\n",
       "      <td>46.600000</td>\n",
       "    </tr>\n",
       "    <tr>\n",
       "      <th>16</th>\n",
       "      <td>Joe_List</td>\n",
       "      <td>35.062500</td>\n",
       "    </tr>\n",
       "    <tr>\n",
       "      <th>17</th>\n",
       "      <td>Joe_List_2</td>\n",
       "      <td>31.200000</td>\n",
       "    </tr>\n",
       "    <tr>\n",
       "      <th>18</th>\n",
       "      <td>John_Mulaney</td>\n",
       "      <td>40.500000</td>\n",
       "    </tr>\n",
       "    <tr>\n",
       "      <th>19</th>\n",
       "      <td>John_Mulaney_2</td>\n",
       "      <td>21.857143</td>\n",
       "    </tr>\n",
       "    <tr>\n",
       "      <th>20</th>\n",
       "      <td>Louis_CK</td>\n",
       "      <td>28.687500</td>\n",
       "    </tr>\n",
       "    <tr>\n",
       "      <th>21</th>\n",
       "      <td>Louis_CK_2</td>\n",
       "      <td>19.625000</td>\n",
       "    </tr>\n",
       "    <tr>\n",
       "      <th>22</th>\n",
       "      <td>Nate_Bargatze</td>\n",
       "      <td>18.428571</td>\n",
       "    </tr>\n",
       "    <tr>\n",
       "      <th>23</th>\n",
       "      <td>Nate_Bargatze_2</td>\n",
       "      <td>21.437500</td>\n",
       "    </tr>\n",
       "    <tr>\n",
       "      <th>24</th>\n",
       "      <td>Nate_Bargatze_TK</td>\n",
       "      <td>33.071429</td>\n",
       "    </tr>\n",
       "    <tr>\n",
       "      <th>25</th>\n",
       "      <td>Nate_Bargatze_TK_2</td>\n",
       "      <td>67.583333</td>\n",
       "    </tr>\n",
       "    <tr>\n",
       "      <th>26</th>\n",
       "      <td>Russell_Peters</td>\n",
       "      <td>26.600000</td>\n",
       "    </tr>\n",
       "    <tr>\n",
       "      <th>27</th>\n",
       "      <td>Russell_Peters_2</td>\n",
       "      <td>70.666667</td>\n",
       "    </tr>\n",
       "    <tr>\n",
       "      <th>28</th>\n",
       "      <td>Sam_Morril</td>\n",
       "      <td>15.250000</td>\n",
       "    </tr>\n",
       "    <tr>\n",
       "      <th>29</th>\n",
       "      <td>Sam_Morril_2</td>\n",
       "      <td>18.366667</td>\n",
       "    </tr>\n",
       "    <tr>\n",
       "      <th>30</th>\n",
       "      <td>Tom_Segura</td>\n",
       "      <td>37.208333</td>\n",
       "    </tr>\n",
       "    <tr>\n",
       "      <th>31</th>\n",
       "      <td>Tom_Segura_2</td>\n",
       "      <td>38.100000</td>\n",
       "    </tr>\n",
       "    <tr>\n",
       "      <th>32</th>\n",
       "      <td>Trevor_Noah</td>\n",
       "      <td>31.277778</td>\n",
       "    </tr>\n",
       "    <tr>\n",
       "      <th>33</th>\n",
       "      <td>Trevor_Noah_2</td>\n",
       "      <td>22.750000</td>\n",
       "    </tr>\n",
       "  </tbody>\n",
       "</table>\n",
       "</div>"
      ],
      "text/plain": [
       "              comedian      score\n",
       "0             Ali_Wong  32.333333\n",
       "1           Ali_Wong_2  40.285714\n",
       "2     Anthony_Jeselnik  30.642857\n",
       "3   Anthony_Jeselnik_2  63.250000\n",
       "4      Chelsea_Peretti  14.333333\n",
       "5    Chelsea_Peretti_2  31.636364\n",
       "6        Donald_Glover  36.500000\n",
       "7      Donald_Glover_2  35.875000\n",
       "8         Hasan_Minhaj  36.250000\n",
       "9       Hasan_Minhaj_2  25.500000\n",
       "10    Iliza_Shlesinger  34.000000\n",
       "11  Iliza_Shlesinger_2  26.500000\n",
       "12        Jim_Gaffigan  28.888889\n",
       "13      Jim_Gaffigan_2  12.450000\n",
       "14          Jimmy_Yang  16.900000\n",
       "15        Jimmy_Yang_2  46.600000\n",
       "16            Joe_List  35.062500\n",
       "17          Joe_List_2  31.200000\n",
       "18        John_Mulaney  40.500000\n",
       "19      John_Mulaney_2  21.857143\n",
       "20            Louis_CK  28.687500\n",
       "21          Louis_CK_2  19.625000\n",
       "22       Nate_Bargatze  18.428571\n",
       "23     Nate_Bargatze_2  21.437500\n",
       "24    Nate_Bargatze_TK  33.071429\n",
       "25  Nate_Bargatze_TK_2  67.583333\n",
       "26      Russell_Peters  26.600000\n",
       "27    Russell_Peters_2  70.666667\n",
       "28          Sam_Morril  15.250000\n",
       "29        Sam_Morril_2  18.366667\n",
       "30          Tom_Segura  37.208333\n",
       "31        Tom_Segura_2  38.100000\n",
       "32         Trevor_Noah  31.277778\n",
       "33       Trevor_Noah_2  22.750000"
      ]
     },
     "execution_count": 62,
     "metadata": {},
     "output_type": "execute_result"
    }
   ],
   "source": [
    "gemma200_metric = bipartite_metric(gemma200, ground_truth)\n",
    "gemma200_metric"
   ]
  },
  {
   "cell_type": "code",
   "execution_count": 63,
   "metadata": {},
   "outputs": [
    {
     "name": "stderr",
     "output_type": "stream",
     "text": [
      "/tmp/ipykernel_1079520/568904367.py:1: FutureWarning: Dropping of nuisance columns in DataFrame reductions (with 'numeric_only=None') is deprecated; in a future version this will raise TypeError.  Select only valid columns before calling the reduction.\n",
      "  gemma200_metric.mean()\n"
     ]
    },
    {
     "data": {
      "text/plain": [
       "score    32.047586\n",
       "dtype: float64"
      ]
     },
     "execution_count": 63,
     "metadata": {},
     "output_type": "execute_result"
    }
   ],
   "source": [
    "gemma200_metric.mean()"
   ]
  },
  {
   "cell_type": "code",
   "execution_count": 64,
   "metadata": {},
   "outputs": [
    {
     "name": "stderr",
     "output_type": "stream",
     "text": [
      "/tmp/ipykernel_1079520/1305976714.py:2: FutureWarning: Dropping of nuisance columns in DataFrame reductions (with 'numeric_only=None') is deprecated; in a future version this will raise TypeError.  Select only valid columns before calling the reduction.\n",
      "  gemma_metric.mean()\n"
     ]
    },
    {
     "data": {
      "text/plain": [
       "score    28.171599\n",
       "dtype: float64"
      ]
     },
     "execution_count": 64,
     "metadata": {},
     "output_type": "execute_result"
    }
   ],
   "source": [
    "gemma_metric = bipartite_metric(model, ground_truth)\n",
    "gemma_metric.mean()"
   ]
  },
  {
   "cell_type": "code",
   "execution_count": 65,
   "metadata": {},
   "outputs": [],
   "source": [
    "gemma = gemma_metric.assign(model = \"gemma\")\n",
    "gemma200 = gemma200_metric.assign(model=\"gemma200\") \n"
   ]
  },
  {
   "cell_type": "code",
   "execution_count": 66,
   "metadata": {},
   "outputs": [
    {
     "data": {
      "text/plain": [
       "<seaborn.axisgrid.FacetGrid at 0x7f1d8ce1cdc0>"
      ]
     },
     "execution_count": 66,
     "metadata": {},
     "output_type": "execute_result"
    },
    {
     "data": {
      "image/png": "[encoded data removed]",
      "text/plain": [
       "<Figure size 629.25x500 with 1 Axes>"
      ]
     },
     "metadata": {},
     "output_type": "display_data"
    }
   ],
   "source": [
    "sns.displot(pd.concat([gemma, gemma200]).reset_index(drop=True), x=\"score\", hue=\"model\", kind=\"hist\", shrink=1, multiple=\"dodge\")"
   ]
  },
  {
   "cell_type": "markdown",
   "metadata": {},
   "source": [
    "# Play pretend"
   ]
  },
  {
   "cell_type": "code",
   "execution_count": 67,
   "metadata": {},
   "outputs": [
    {
     "data": {
      "text/html": [
       "<div>\n",
       "<style scoped>\n",
       "    .dataframe tbody tr th:only-of-type {\n",
       "        vertical-align: middle;\n",
       "    }\n",
       "\n",
       "    .dataframe tbody tr th {\n",
       "        vertical-align: top;\n",
       "    }\n",
       "\n",
       "    .dataframe thead th {\n",
       "        text-align: right;\n",
       "    }\n",
       "</style>\n",
       "<table border=\"1\" class=\"dataframe\">\n",
       "  <thead>\n",
       "    <tr style=\"text-align: right;\">\n",
       "      <th></th>\n",
       "      <th>comedian</th>\n",
       "      <th>score</th>\n",
       "    </tr>\n",
       "  </thead>\n",
       "  <tbody>\n",
       "    <tr>\n",
       "      <th>0</th>\n",
       "      <td>Ali_Wong</td>\n",
       "      <td>15.583333</td>\n",
       "    </tr>\n",
       "    <tr>\n",
       "      <th>1</th>\n",
       "      <td>Ali_Wong_2</td>\n",
       "      <td>54.571429</td>\n",
       "    </tr>\n",
       "    <tr>\n",
       "      <th>2</th>\n",
       "      <td>Anthony_Jeselnik</td>\n",
       "      <td>24.571429</td>\n",
       "    </tr>\n",
       "    <tr>\n",
       "      <th>3</th>\n",
       "      <td>Anthony_Jeselnik_2</td>\n",
       "      <td>39.750000</td>\n",
       "    </tr>\n",
       "    <tr>\n",
       "      <th>4</th>\n",
       "      <td>Chelsea_Peretti</td>\n",
       "      <td>14.333333</td>\n",
       "    </tr>\n",
       "    <tr>\n",
       "      <th>5</th>\n",
       "      <td>Chelsea_Peretti_2</td>\n",
       "      <td>31.636364</td>\n",
       "    </tr>\n",
       "    <tr>\n",
       "      <th>6</th>\n",
       "      <td>Donald_Glover</td>\n",
       "      <td>23.500000</td>\n",
       "    </tr>\n",
       "    <tr>\n",
       "      <th>7</th>\n",
       "      <td>Donald_Glover_2</td>\n",
       "      <td>13.125000</td>\n",
       "    </tr>\n",
       "    <tr>\n",
       "      <th>8</th>\n",
       "      <td>Hasan_Minhaj</td>\n",
       "      <td>39.375000</td>\n",
       "    </tr>\n",
       "    <tr>\n",
       "      <th>9</th>\n",
       "      <td>Hasan_Minhaj_2</td>\n",
       "      <td>38.500000</td>\n",
       "    </tr>\n",
       "    <tr>\n",
       "      <th>10</th>\n",
       "      <td>Iliza_Shlesinger</td>\n",
       "      <td>17.916667</td>\n",
       "    </tr>\n",
       "    <tr>\n",
       "      <th>11</th>\n",
       "      <td>Iliza_Shlesinger_2</td>\n",
       "      <td>12.400000</td>\n",
       "    </tr>\n",
       "    <tr>\n",
       "      <th>12</th>\n",
       "      <td>Jim_Gaffigan</td>\n",
       "      <td>26.666667</td>\n",
       "    </tr>\n",
       "    <tr>\n",
       "      <th>13</th>\n",
       "      <td>Jim_Gaffigan_2</td>\n",
       "      <td>28.300000</td>\n",
       "    </tr>\n",
       "    <tr>\n",
       "      <th>14</th>\n",
       "      <td>Jimmy_Yang</td>\n",
       "      <td>24.500000</td>\n",
       "    </tr>\n",
       "    <tr>\n",
       "      <th>15</th>\n",
       "      <td>Jimmy_Yang_2</td>\n",
       "      <td>34.000000</td>\n",
       "    </tr>\n",
       "    <tr>\n",
       "      <th>16</th>\n",
       "      <td>Joe_List</td>\n",
       "      <td>23.375000</td>\n",
       "    </tr>\n",
       "    <tr>\n",
       "      <th>17</th>\n",
       "      <td>Joe_List_2</td>\n",
       "      <td>26.500000</td>\n",
       "    </tr>\n",
       "    <tr>\n",
       "      <th>18</th>\n",
       "      <td>John_Mulaney</td>\n",
       "      <td>32.857143</td>\n",
       "    </tr>\n",
       "    <tr>\n",
       "      <th>19</th>\n",
       "      <td>John_Mulaney_2</td>\n",
       "      <td>24.571429</td>\n",
       "    </tr>\n",
       "    <tr>\n",
       "      <th>20</th>\n",
       "      <td>Louis_CK</td>\n",
       "      <td>45.312500</td>\n",
       "    </tr>\n",
       "    <tr>\n",
       "      <th>21</th>\n",
       "      <td>Louis_CK_2</td>\n",
       "      <td>51.500000</td>\n",
       "    </tr>\n",
       "    <tr>\n",
       "      <th>22</th>\n",
       "      <td>Nate_Bargatze</td>\n",
       "      <td>27.214286</td>\n",
       "    </tr>\n",
       "    <tr>\n",
       "      <th>23</th>\n",
       "      <td>Nate_Bargatze_2</td>\n",
       "      <td>37.625000</td>\n",
       "    </tr>\n",
       "    <tr>\n",
       "      <th>24</th>\n",
       "      <td>Nate_Bargatze_TK</td>\n",
       "      <td>32.714286</td>\n",
       "    </tr>\n",
       "    <tr>\n",
       "      <th>25</th>\n",
       "      <td>Nate_Bargatze_TK_2</td>\n",
       "      <td>40.666667</td>\n",
       "    </tr>\n",
       "    <tr>\n",
       "      <th>26</th>\n",
       "      <td>Russell_Peters</td>\n",
       "      <td>26.600000</td>\n",
       "    </tr>\n",
       "    <tr>\n",
       "      <th>27</th>\n",
       "      <td>Russell_Peters_2</td>\n",
       "      <td>48.500000</td>\n",
       "    </tr>\n",
       "    <tr>\n",
       "      <th>28</th>\n",
       "      <td>Sam_Morril</td>\n",
       "      <td>12.416667</td>\n",
       "    </tr>\n",
       "    <tr>\n",
       "      <th>29</th>\n",
       "      <td>Sam_Morril_2</td>\n",
       "      <td>5.866667</td>\n",
       "    </tr>\n",
       "    <tr>\n",
       "      <th>30</th>\n",
       "      <td>Tom_Segura</td>\n",
       "      <td>49.388889</td>\n",
       "    </tr>\n",
       "    <tr>\n",
       "      <th>31</th>\n",
       "      <td>Tom_Segura_2</td>\n",
       "      <td>19.800000</td>\n",
       "    </tr>\n",
       "    <tr>\n",
       "      <th>32</th>\n",
       "      <td>Trevor_Noah</td>\n",
       "      <td>16.500000</td>\n",
       "    </tr>\n",
       "    <tr>\n",
       "      <th>33</th>\n",
       "      <td>Trevor_Noah_2</td>\n",
       "      <td>9.875000</td>\n",
       "    </tr>\n",
       "  </tbody>\n",
       "</table>\n",
       "</div>"
      ],
      "text/plain": [
       "              comedian      score\n",
       "0             Ali_Wong  15.583333\n",
       "1           Ali_Wong_2  54.571429\n",
       "2     Anthony_Jeselnik  24.571429\n",
       "3   Anthony_Jeselnik_2  39.750000\n",
       "4      Chelsea_Peretti  14.333333\n",
       "5    Chelsea_Peretti_2  31.636364\n",
       "6        Donald_Glover  23.500000\n",
       "7      Donald_Glover_2  13.125000\n",
       "8         Hasan_Minhaj  39.375000\n",
       "9       Hasan_Minhaj_2  38.500000\n",
       "10    Iliza_Shlesinger  17.916667\n",
       "11  Iliza_Shlesinger_2  12.400000\n",
       "12        Jim_Gaffigan  26.666667\n",
       "13      Jim_Gaffigan_2  28.300000\n",
       "14          Jimmy_Yang  24.500000\n",
       "15        Jimmy_Yang_2  34.000000\n",
       "16            Joe_List  23.375000\n",
       "17          Joe_List_2  26.500000\n",
       "18        John_Mulaney  32.857143\n",
       "19      John_Mulaney_2  24.571429\n",
       "20            Louis_CK  45.312500\n",
       "21          Louis_CK_2  51.500000\n",
       "22       Nate_Bargatze  27.214286\n",
       "23     Nate_Bargatze_2  37.625000\n",
       "24    Nate_Bargatze_TK  32.714286\n",
       "25  Nate_Bargatze_TK_2  40.666667\n",
       "26      Russell_Peters  26.600000\n",
       "27    Russell_Peters_2  48.500000\n",
       "28          Sam_Morril  12.416667\n",
       "29        Sam_Morril_2   5.866667\n",
       "30          Tom_Segura  49.388889\n",
       "31        Tom_Segura_2  19.800000\n",
       "32         Trevor_Noah  16.500000\n",
       "33       Trevor_Noah_2   9.875000"
      ]
     },
     "execution_count": 67,
     "metadata": {},
     "output_type": "execute_result"
    }
   ],
   "source": [
    "comedian_pretend = pd.read_csv(\"/home/ada/humor/data/stand_up_dataset/comedian_quotes - Sheet1.csv\")\n",
    "comedian_pretend_metric = bipartite_metric(comedian_pretend, ground_truth)\n",
    "comedian_pretend_metric"
   ]
  },
  {
   "cell_type": "code",
   "execution_count": 68,
   "metadata": {},
   "outputs": [
    {
     "name": "stderr",
     "output_type": "stream",
     "text": [
      "/tmp/ipykernel_1079520/1875112182.py:1: FutureWarning: Dropping of nuisance columns in DataFrame reductions (with 'numeric_only=None') is deprecated; in a future version this will raise TypeError.  Select only valid columns before calling the reduction.\n",
      "  comedian_pretend_metric.mean()\n"
     ]
    },
    {
     "data": {
      "text/plain": [
       "score    28.529787\n",
       "dtype: float64"
      ]
     },
     "execution_count": 68,
     "metadata": {},
     "output_type": "execute_result"
    }
   ],
   "source": [
    "comedian_pretend_metric.mean()"
   ]
  },
  {
   "cell_type": "code",
   "execution_count": 69,
   "metadata": {},
   "outputs": [
    {
     "data": {
      "text/html": [
       "<div>\n",
       "<style scoped>\n",
       "    .dataframe tbody tr th:only-of-type {\n",
       "        vertical-align: middle;\n",
       "    }\n",
       "\n",
       "    .dataframe tbody tr th {\n",
       "        vertical-align: top;\n",
       "    }\n",
       "\n",
       "    .dataframe thead th {\n",
       "        text-align: right;\n",
       "    }\n",
       "</style>\n",
       "<table border=\"1\" class=\"dataframe\">\n",
       "  <thead>\n",
       "    <tr style=\"text-align: right;\">\n",
       "      <th></th>\n",
       "      <th>comedian</th>\n",
       "      <th>score</th>\n",
       "    </tr>\n",
       "  </thead>\n",
       "  <tbody>\n",
       "    <tr>\n",
       "      <th>0</th>\n",
       "      <td>Ali_Wong</td>\n",
       "      <td>15.583333</td>\n",
       "    </tr>\n",
       "    <tr>\n",
       "      <th>1</th>\n",
       "      <td>Ali_Wong_2</td>\n",
       "      <td>42.428571</td>\n",
       "    </tr>\n",
       "    <tr>\n",
       "      <th>2</th>\n",
       "      <td>Anthony_Jeselnik</td>\n",
       "      <td>24.571429</td>\n",
       "    </tr>\n",
       "    <tr>\n",
       "      <th>3</th>\n",
       "      <td>Anthony_Jeselnik_2</td>\n",
       "      <td>63.000000</td>\n",
       "    </tr>\n",
       "    <tr>\n",
       "      <th>4</th>\n",
       "      <td>Chelsea_Peretti</td>\n",
       "      <td>14.333333</td>\n",
       "    </tr>\n",
       "    <tr>\n",
       "      <th>5</th>\n",
       "      <td>Chelsea_Peretti_2</td>\n",
       "      <td>31.636364</td>\n",
       "    </tr>\n",
       "    <tr>\n",
       "      <th>6</th>\n",
       "      <td>Donald_Glover</td>\n",
       "      <td>23.500000</td>\n",
       "    </tr>\n",
       "    <tr>\n",
       "      <th>7</th>\n",
       "      <td>Donald_Glover_2</td>\n",
       "      <td>13.125000</td>\n",
       "    </tr>\n",
       "    <tr>\n",
       "      <th>8</th>\n",
       "      <td>Hasan_Minhaj</td>\n",
       "      <td>26.875000</td>\n",
       "    </tr>\n",
       "    <tr>\n",
       "      <th>9</th>\n",
       "      <td>Hasan_Minhaj_2</td>\n",
       "      <td>38.500000</td>\n",
       "    </tr>\n",
       "    <tr>\n",
       "      <th>10</th>\n",
       "      <td>Iliza_Shlesinger</td>\n",
       "      <td>27.000000</td>\n",
       "    </tr>\n",
       "    <tr>\n",
       "      <th>11</th>\n",
       "      <td>Iliza_Shlesinger_2</td>\n",
       "      <td>12.400000</td>\n",
       "    </tr>\n",
       "    <tr>\n",
       "      <th>12</th>\n",
       "      <td>Jim_Gaffigan</td>\n",
       "      <td>26.666667</td>\n",
       "    </tr>\n",
       "    <tr>\n",
       "      <th>13</th>\n",
       "      <td>Jim_Gaffigan_2</td>\n",
       "      <td>32.100000</td>\n",
       "    </tr>\n",
       "    <tr>\n",
       "      <th>14</th>\n",
       "      <td>Jimmy_Yang</td>\n",
       "      <td>24.500000</td>\n",
       "    </tr>\n",
       "    <tr>\n",
       "      <th>15</th>\n",
       "      <td>Jimmy_Yang_2</td>\n",
       "      <td>34.000000</td>\n",
       "    </tr>\n",
       "    <tr>\n",
       "      <th>16</th>\n",
       "      <td>Joe_List</td>\n",
       "      <td>40.625000</td>\n",
       "    </tr>\n",
       "    <tr>\n",
       "      <th>17</th>\n",
       "      <td>Joe_List_2</td>\n",
       "      <td>26.500000</td>\n",
       "    </tr>\n",
       "    <tr>\n",
       "      <th>18</th>\n",
       "      <td>John_Mulaney</td>\n",
       "      <td>32.857143</td>\n",
       "    </tr>\n",
       "    <tr>\n",
       "      <th>19</th>\n",
       "      <td>John_Mulaney_2</td>\n",
       "      <td>24.571429</td>\n",
       "    </tr>\n",
       "    <tr>\n",
       "      <th>20</th>\n",
       "      <td>Louis_CK</td>\n",
       "      <td>45.312500</td>\n",
       "    </tr>\n",
       "    <tr>\n",
       "      <th>21</th>\n",
       "      <td>Louis_CK_2</td>\n",
       "      <td>51.500000</td>\n",
       "    </tr>\n",
       "    <tr>\n",
       "      <th>22</th>\n",
       "      <td>Nate_Bargatze</td>\n",
       "      <td>27.285714</td>\n",
       "    </tr>\n",
       "    <tr>\n",
       "      <th>23</th>\n",
       "      <td>Nate_Bargatze_2</td>\n",
       "      <td>18.375000</td>\n",
       "    </tr>\n",
       "    <tr>\n",
       "      <th>24</th>\n",
       "      <td>Nate_Bargatze_TK</td>\n",
       "      <td>32.714286</td>\n",
       "    </tr>\n",
       "    <tr>\n",
       "      <th>25</th>\n",
       "      <td>Nate_Bargatze_TK_2</td>\n",
       "      <td>40.666667</td>\n",
       "    </tr>\n",
       "    <tr>\n",
       "      <th>26</th>\n",
       "      <td>Russell_Peters</td>\n",
       "      <td>26.600000</td>\n",
       "    </tr>\n",
       "    <tr>\n",
       "      <th>27</th>\n",
       "      <td>Russell_Peters_2</td>\n",
       "      <td>48.500000</td>\n",
       "    </tr>\n",
       "    <tr>\n",
       "      <th>28</th>\n",
       "      <td>Sam_Morril</td>\n",
       "      <td>12.416667</td>\n",
       "    </tr>\n",
       "    <tr>\n",
       "      <th>29</th>\n",
       "      <td>Sam_Morril_2</td>\n",
       "      <td>5.866667</td>\n",
       "    </tr>\n",
       "    <tr>\n",
       "      <th>30</th>\n",
       "      <td>Tom_Segura</td>\n",
       "      <td>22.625000</td>\n",
       "    </tr>\n",
       "    <tr>\n",
       "      <th>31</th>\n",
       "      <td>Tom_Segura_2</td>\n",
       "      <td>26.400000</td>\n",
       "    </tr>\n",
       "    <tr>\n",
       "      <th>32</th>\n",
       "      <td>Trevor_Noah</td>\n",
       "      <td>16.833333</td>\n",
       "    </tr>\n",
       "    <tr>\n",
       "      <th>33</th>\n",
       "      <td>Trevor_Noah_2</td>\n",
       "      <td>9.875000</td>\n",
       "    </tr>\n",
       "  </tbody>\n",
       "</table>\n",
       "</div>"
      ],
      "text/plain": [
       "              comedian      score\n",
       "0             Ali_Wong  15.583333\n",
       "1           Ali_Wong_2  42.428571\n",
       "2     Anthony_Jeselnik  24.571429\n",
       "3   Anthony_Jeselnik_2  63.000000\n",
       "4      Chelsea_Peretti  14.333333\n",
       "5    Chelsea_Peretti_2  31.636364\n",
       "6        Donald_Glover  23.500000\n",
       "7      Donald_Glover_2  13.125000\n",
       "8         Hasan_Minhaj  26.875000\n",
       "9       Hasan_Minhaj_2  38.500000\n",
       "10    Iliza_Shlesinger  27.000000\n",
       "11  Iliza_Shlesinger_2  12.400000\n",
       "12        Jim_Gaffigan  26.666667\n",
       "13      Jim_Gaffigan_2  32.100000\n",
       "14          Jimmy_Yang  24.500000\n",
       "15        Jimmy_Yang_2  34.000000\n",
       "16            Joe_List  40.625000\n",
       "17          Joe_List_2  26.500000\n",
       "18        John_Mulaney  32.857143\n",
       "19      John_Mulaney_2  24.571429\n",
       "20            Louis_CK  45.312500\n",
       "21          Louis_CK_2  51.500000\n",
       "22       Nate_Bargatze  27.285714\n",
       "23     Nate_Bargatze_2  18.375000\n",
       "24    Nate_Bargatze_TK  32.714286\n",
       "25  Nate_Bargatze_TK_2  40.666667\n",
       "26      Russell_Peters  26.600000\n",
       "27    Russell_Peters_2  48.500000\n",
       "28          Sam_Morril  12.416667\n",
       "29        Sam_Morril_2   5.866667\n",
       "30          Tom_Segura  22.625000\n",
       "31        Tom_Segura_2  26.400000\n",
       "32         Trevor_Noah  16.833333\n",
       "33       Trevor_Noah_2   9.875000"
      ]
     },
     "execution_count": 69,
     "metadata": {},
     "output_type": "execute_result"
    }
   ],
   "source": [
    "comedyfan_pretend = pd.read_csv(\"/home/ada/humor/data/stand_up_dataset/comedy_fan_laughter_quotes - Sheet1.csv\")\n",
    "comedyfan_pretend_metric = bipartite_metric(comedyfan_pretend, ground_truth)\n",
    "comedyfan_pretend_metric"
   ]
  },
  {
   "cell_type": "code",
   "execution_count": 70,
   "metadata": {},
   "outputs": [
    {
     "name": "stderr",
     "output_type": "stream",
     "text": [
      "/tmp/ipykernel_1079520/3683433526.py:1: FutureWarning: Dropping of nuisance columns in DataFrame reductions (with 'numeric_only=None') is deprecated; in a future version this will raise TypeError.  Select only valid columns before calling the reduction.\n",
      "  comedyfan_pretend_metric.mean()\n"
     ]
    },
    {
     "data": {
      "text/plain": [
       "score    28.227768\n",
       "dtype: float64"
      ]
     },
     "execution_count": 70,
     "metadata": {},
     "output_type": "execute_result"
    }
   ],
   "source": [
    "comedyfan_pretend_metric.mean()"
   ]
  },
  {
   "cell_type": "code",
   "execution_count": 71,
   "metadata": {},
   "outputs": [
    {
     "data": {
      "text/html": [
       "<div>\n",
       "<style scoped>\n",
       "    .dataframe tbody tr th:only-of-type {\n",
       "        vertical-align: middle;\n",
       "    }\n",
       "\n",
       "    .dataframe tbody tr th {\n",
       "        vertical-align: top;\n",
       "    }\n",
       "\n",
       "    .dataframe thead th {\n",
       "        text-align: right;\n",
       "    }\n",
       "</style>\n",
       "<table border=\"1\" class=\"dataframe\">\n",
       "  <thead>\n",
       "    <tr style=\"text-align: right;\">\n",
       "      <th></th>\n",
       "      <th>comedian</th>\n",
       "      <th>score</th>\n",
       "    </tr>\n",
       "  </thead>\n",
       "  <tbody>\n",
       "    <tr>\n",
       "      <th>0</th>\n",
       "      <td>Ali_Wong</td>\n",
       "      <td>33.916667</td>\n",
       "    </tr>\n",
       "    <tr>\n",
       "      <th>1</th>\n",
       "      <td>Ali_Wong_2</td>\n",
       "      <td>40.285714</td>\n",
       "    </tr>\n",
       "    <tr>\n",
       "      <th>2</th>\n",
       "      <td>Anthony_Jeselnik</td>\n",
       "      <td>24.571429</td>\n",
       "    </tr>\n",
       "    <tr>\n",
       "      <th>3</th>\n",
       "      <td>Anthony_Jeselnik_2</td>\n",
       "      <td>63.000000</td>\n",
       "    </tr>\n",
       "    <tr>\n",
       "      <th>4</th>\n",
       "      <td>Chelsea_Peretti</td>\n",
       "      <td>14.333333</td>\n",
       "    </tr>\n",
       "    <tr>\n",
       "      <th>5</th>\n",
       "      <td>Chelsea_Peretti_2</td>\n",
       "      <td>31.636364</td>\n",
       "    </tr>\n",
       "    <tr>\n",
       "      <th>6</th>\n",
       "      <td>Donald_Glover</td>\n",
       "      <td>23.500000</td>\n",
       "    </tr>\n",
       "    <tr>\n",
       "      <th>7</th>\n",
       "      <td>Donald_Glover_2</td>\n",
       "      <td>13.125000</td>\n",
       "    </tr>\n",
       "    <tr>\n",
       "      <th>8</th>\n",
       "      <td>Hasan_Minhaj</td>\n",
       "      <td>15.000000</td>\n",
       "    </tr>\n",
       "    <tr>\n",
       "      <th>9</th>\n",
       "      <td>Hasan_Minhaj_2</td>\n",
       "      <td>38.500000</td>\n",
       "    </tr>\n",
       "    <tr>\n",
       "      <th>10</th>\n",
       "      <td>Iliza_Shlesinger</td>\n",
       "      <td>27.000000</td>\n",
       "    </tr>\n",
       "    <tr>\n",
       "      <th>11</th>\n",
       "      <td>Iliza_Shlesinger_2</td>\n",
       "      <td>12.400000</td>\n",
       "    </tr>\n",
       "    <tr>\n",
       "      <th>12</th>\n",
       "      <td>Jim_Gaffigan</td>\n",
       "      <td>26.666667</td>\n",
       "    </tr>\n",
       "    <tr>\n",
       "      <th>13</th>\n",
       "      <td>Jim_Gaffigan_2</td>\n",
       "      <td>22.250000</td>\n",
       "    </tr>\n",
       "    <tr>\n",
       "      <th>14</th>\n",
       "      <td>Jimmy_Yang</td>\n",
       "      <td>24.500000</td>\n",
       "    </tr>\n",
       "    <tr>\n",
       "      <th>15</th>\n",
       "      <td>Jimmy_Yang_2</td>\n",
       "      <td>34.000000</td>\n",
       "    </tr>\n",
       "    <tr>\n",
       "      <th>16</th>\n",
       "      <td>Joe_List</td>\n",
       "      <td>40.625000</td>\n",
       "    </tr>\n",
       "    <tr>\n",
       "      <th>17</th>\n",
       "      <td>Joe_List_2</td>\n",
       "      <td>26.500000</td>\n",
       "    </tr>\n",
       "    <tr>\n",
       "      <th>18</th>\n",
       "      <td>John_Mulaney</td>\n",
       "      <td>32.857143</td>\n",
       "    </tr>\n",
       "    <tr>\n",
       "      <th>19</th>\n",
       "      <td>John_Mulaney_2</td>\n",
       "      <td>24.571429</td>\n",
       "    </tr>\n",
       "    <tr>\n",
       "      <th>20</th>\n",
       "      <td>Louis_CK</td>\n",
       "      <td>45.312500</td>\n",
       "    </tr>\n",
       "    <tr>\n",
       "      <th>21</th>\n",
       "      <td>Louis_CK_2</td>\n",
       "      <td>51.500000</td>\n",
       "    </tr>\n",
       "    <tr>\n",
       "      <th>22</th>\n",
       "      <td>Nate_Bargatze</td>\n",
       "      <td>27.285714</td>\n",
       "    </tr>\n",
       "    <tr>\n",
       "      <th>23</th>\n",
       "      <td>Nate_Bargatze_2</td>\n",
       "      <td>18.375000</td>\n",
       "    </tr>\n",
       "    <tr>\n",
       "      <th>24</th>\n",
       "      <td>Nate_Bargatze_TK</td>\n",
       "      <td>32.714286</td>\n",
       "    </tr>\n",
       "    <tr>\n",
       "      <th>25</th>\n",
       "      <td>Nate_Bargatze_TK_2</td>\n",
       "      <td>40.666667</td>\n",
       "    </tr>\n",
       "    <tr>\n",
       "      <th>26</th>\n",
       "      <td>Russell_Peters</td>\n",
       "      <td>26.600000</td>\n",
       "    </tr>\n",
       "    <tr>\n",
       "      <th>27</th>\n",
       "      <td>Russell_Peters_2</td>\n",
       "      <td>48.500000</td>\n",
       "    </tr>\n",
       "    <tr>\n",
       "      <th>28</th>\n",
       "      <td>Sam_Morril</td>\n",
       "      <td>11.750000</td>\n",
       "    </tr>\n",
       "    <tr>\n",
       "      <th>29</th>\n",
       "      <td>Sam_Morril_2</td>\n",
       "      <td>6.600000</td>\n",
       "    </tr>\n",
       "    <tr>\n",
       "      <th>30</th>\n",
       "      <td>Tom_Segura</td>\n",
       "      <td>49.166667</td>\n",
       "    </tr>\n",
       "    <tr>\n",
       "      <th>31</th>\n",
       "      <td>Tom_Segura_2</td>\n",
       "      <td>28.000000</td>\n",
       "    </tr>\n",
       "    <tr>\n",
       "      <th>32</th>\n",
       "      <td>Trevor_Noah</td>\n",
       "      <td>23.333333</td>\n",
       "    </tr>\n",
       "    <tr>\n",
       "      <th>33</th>\n",
       "      <td>Trevor_Noah_2</td>\n",
       "      <td>9.875000</td>\n",
       "    </tr>\n",
       "  </tbody>\n",
       "</table>\n",
       "</div>"
      ],
      "text/plain": [
       "              comedian      score\n",
       "0             Ali_Wong  33.916667\n",
       "1           Ali_Wong_2  40.285714\n",
       "2     Anthony_Jeselnik  24.571429\n",
       "3   Anthony_Jeselnik_2  63.000000\n",
       "4      Chelsea_Peretti  14.333333\n",
       "5    Chelsea_Peretti_2  31.636364\n",
       "6        Donald_Glover  23.500000\n",
       "7      Donald_Glover_2  13.125000\n",
       "8         Hasan_Minhaj  15.000000\n",
       "9       Hasan_Minhaj_2  38.500000\n",
       "10    Iliza_Shlesinger  27.000000\n",
       "11  Iliza_Shlesinger_2  12.400000\n",
       "12        Jim_Gaffigan  26.666667\n",
       "13      Jim_Gaffigan_2  22.250000\n",
       "14          Jimmy_Yang  24.500000\n",
       "15        Jimmy_Yang_2  34.000000\n",
       "16            Joe_List  40.625000\n",
       "17          Joe_List_2  26.500000\n",
       "18        John_Mulaney  32.857143\n",
       "19      John_Mulaney_2  24.571429\n",
       "20            Louis_CK  45.312500\n",
       "21          Louis_CK_2  51.500000\n",
       "22       Nate_Bargatze  27.285714\n",
       "23     Nate_Bargatze_2  18.375000\n",
       "24    Nate_Bargatze_TK  32.714286\n",
       "25  Nate_Bargatze_TK_2  40.666667\n",
       "26      Russell_Peters  26.600000\n",
       "27    Russell_Peters_2  48.500000\n",
       "28          Sam_Morril  11.750000\n",
       "29        Sam_Morril_2   6.600000\n",
       "30          Tom_Segura  49.166667\n",
       "31        Tom_Segura_2  28.000000\n",
       "32         Trevor_Noah  23.333333\n",
       "33       Trevor_Noah_2   9.875000"
      ]
     },
     "execution_count": 71,
     "metadata": {},
     "output_type": "execute_result"
    }
   ],
   "source": [
    "comedycritic_pretend = pd.read_csv(\"/home/ada/humor/data/stand_up_dataset/comedy_critic_quotes - Sheet1.csv\")\n",
    "comedycritic_pretend_metric = bipartite_metric(comedycritic_pretend, ground_truth)\n",
    "comedycritic_pretend_metric"
   ]
  },
  {
   "cell_type": "code",
   "execution_count": 72,
   "metadata": {},
   "outputs": [
    {
     "name": "stderr",
     "output_type": "stream",
     "text": [
      "/tmp/ipykernel_1079520/2664976109.py:1: FutureWarning: Dropping of nuisance columns in DataFrame reductions (with 'numeric_only=None') is deprecated; in a future version this will raise TypeError.  Select only valid columns before calling the reduction.\n",
      "  comedycritic_pretend_metric.mean()\n"
     ]
    },
    {
     "data": {
      "text/plain": [
       "score    29.085821\n",
       "dtype: float64"
      ]
     },
     "execution_count": 72,
     "metadata": {},
     "output_type": "execute_result"
    }
   ],
   "source": [
    "comedycritic_pretend_metric.mean()"
   ]
  },
  {
   "cell_type": "code",
   "execution_count": 73,
   "metadata": {},
   "outputs": [],
   "source": [
    "gemma = gemma_llm_metric.assign(model = \"gemma\")\n",
    "fan = comedyfan_pretend_metric.assign(model=\"fan\") \n",
    "comedian = comedian_pretend_metric.assign(model=\"comedian\") \n",
    "critic = comedycritic_pretend_metric.assign(model=\"critic\")"
   ]
  },
  {
   "cell_type": "code",
   "execution_count": 74,
   "metadata": {},
   "outputs": [],
   "source": [
    "df = pd.concat([gemma, fan, comedian, critic]).reset_index(drop=True)"
   ]
  },
  {
   "cell_type": "code",
   "execution_count": 75,
   "metadata": {},
   "outputs": [
    {
     "data": {
      "text/plain": [
       "<seaborn.axisgrid.FacetGrid at 0x7f1d8cdb5910>"
      ]
     },
     "execution_count": 75,
     "metadata": {},
     "output_type": "execute_result"
    },
    {
     "data": {
      "image/png": "[encoded data removed]",
      "text/plain": [
       "<Figure size 618.25x500 with 1 Axes>"
      ]
     },
     "metadata": {},
     "output_type": "display_data"
    }
   ],
   "source": [
    "sns.displot(df, x=\"score\", hue=\"model\", kind=\"hist\", shrink=1, multiple=\"stack\")"
   ]
  },
  {
   "cell_type": "markdown",
   "metadata": {},
   "source": [
    "## Decoding"
   ]
  },
  {
   "cell_type": "markdown",
   "metadata": {},
   "source": [
    "Top-K"
   ]
  },
  {
   "cell_type": "code",
   "execution_count": 76,
   "metadata": {},
   "outputs": [],
   "source": [
    "top_k = pd.read_csv(\"/home/ada/humor/data/stand_up_dataset/k_sample - Sheet1.csv\")"
   ]
  },
  {
   "cell_type": "code",
   "execution_count": 77,
   "metadata": {},
   "outputs": [],
   "source": [
    "top_k_df = {}\n",
    "for i in range(1, 11):\n",
    "    top_k_df[f'df_k_{i}'] = top_k[top_k['k'] == i]\n"
   ]
  },
  {
   "cell_type": "code",
   "execution_count": 78,
   "metadata": {},
   "outputs": [],
   "source": [
    "k_1 = top_k_df['df_k_1']\n",
    "k_2 = top_k_df['df_k_2']\n",
    "k_3 = top_k_df['df_k_3']\n",
    "k_4 = top_k_df['df_k_4']\n",
    "k_5 = top_k_df['df_k_5']\n",
    "k_6 = top_k_df['df_k_6']\n",
    "k_7 = top_k_df['df_k_7']\n",
    "k_8 = top_k_df['df_k_8']\n",
    "k_9 = top_k_df['df_k_9']\n",
    "k_10 = top_k_df['df_k_10']"
   ]
  },
  {
   "cell_type": "code",
   "execution_count": 79,
   "metadata": {},
   "outputs": [
    {
     "name": "stderr",
     "output_type": "stream",
     "text": [
      "/tmp/ipykernel_1079520/2551170758.py:2: FutureWarning: Dropping of nuisance columns in DataFrame reductions (with 'numeric_only=None') is deprecated; in a future version this will raise TypeError.  Select only valid columns before calling the reduction.\n",
      "  k1_metric.mean()\n"
     ]
    },
    {
     "data": {
      "text/plain": [
       "score    28.52265\n",
       "dtype: float64"
      ]
     },
     "execution_count": 79,
     "metadata": {},
     "output_type": "execute_result"
    }
   ],
   "source": [
    "k1_metric = bipartite_metric(k_1, ground_truth)\n",
    "k1_metric.mean()"
   ]
  },
  {
   "cell_type": "code",
   "execution_count": 80,
   "metadata": {},
   "outputs": [
    {
     "name": "stderr",
     "output_type": "stream",
     "text": [
      "/tmp/ipykernel_1079520/2657943919.py:2: FutureWarning: Dropping of nuisance columns in DataFrame reductions (with 'numeric_only=None') is deprecated; in a future version this will raise TypeError.  Select only valid columns before calling the reduction.\n",
      "  k2_metric.mean()\n"
     ]
    },
    {
     "data": {
      "text/plain": [
       "score    27.251133\n",
       "dtype: float64"
      ]
     },
     "execution_count": 80,
     "metadata": {},
     "output_type": "execute_result"
    }
   ],
   "source": [
    "k2_metric = bipartite_metric(k_2, ground_truth)\n",
    "k2_metric.mean()"
   ]
  },
  {
   "cell_type": "code",
   "execution_count": 81,
   "metadata": {},
   "outputs": [
    {
     "name": "stderr",
     "output_type": "stream",
     "text": [
      "/tmp/ipykernel_1079520/1990443186.py:2: FutureWarning: Dropping of nuisance columns in DataFrame reductions (with 'numeric_only=None') is deprecated; in a future version this will raise TypeError.  Select only valid columns before calling the reduction.\n",
      "  k3_metric.mean()\n"
     ]
    },
    {
     "data": {
      "text/plain": [
       "score    23.67733\n",
       "dtype: float64"
      ]
     },
     "execution_count": 81,
     "metadata": {},
     "output_type": "execute_result"
    }
   ],
   "source": [
    "k3_metric = bipartite_metric(k_3, ground_truth)\n",
    "k3_metric.mean()"
   ]
  },
  {
   "cell_type": "code",
   "execution_count": 82,
   "metadata": {},
   "outputs": [
    {
     "name": "stderr",
     "output_type": "stream",
     "text": [
      "/tmp/ipykernel_1079520/2657779777.py:2: FutureWarning: Dropping of nuisance columns in DataFrame reductions (with 'numeric_only=None') is deprecated; in a future version this will raise TypeError.  Select only valid columns before calling the reduction.\n",
      "  k4_metric.mean()\n"
     ]
    },
    {
     "data": {
      "text/plain": [
       "score    27.376129\n",
       "dtype: float64"
      ]
     },
     "execution_count": 82,
     "metadata": {},
     "output_type": "execute_result"
    }
   ],
   "source": [
    "k4_metric = bipartite_metric(k_4, ground_truth)\n",
    "k4_metric.mean()"
   ]
  },
  {
   "cell_type": "code",
   "execution_count": 83,
   "metadata": {},
   "outputs": [
    {
     "name": "stderr",
     "output_type": "stream",
     "text": [
      "/tmp/ipykernel_1079520/1940522433.py:2: FutureWarning: Dropping of nuisance columns in DataFrame reductions (with 'numeric_only=None') is deprecated; in a future version this will raise TypeError.  Select only valid columns before calling the reduction.\n",
      "  k5_metric.mean()\n"
     ]
    },
    {
     "data": {
      "text/plain": [
       "score    25.972393\n",
       "dtype: float64"
      ]
     },
     "execution_count": 83,
     "metadata": {},
     "output_type": "execute_result"
    }
   ],
   "source": [
    "k5_metric = bipartite_metric(k_5, ground_truth)\n",
    "k5_metric.mean()"
   ]
  },
  {
   "cell_type": "code",
   "execution_count": 84,
   "metadata": {},
   "outputs": [
    {
     "name": "stderr",
     "output_type": "stream",
     "text": [
      "/tmp/ipykernel_1079520/797404915.py:2: FutureWarning: Dropping of nuisance columns in DataFrame reductions (with 'numeric_only=None') is deprecated; in a future version this will raise TypeError.  Select only valid columns before calling the reduction.\n",
      "  k6_metric.mean()\n"
     ]
    },
    {
     "data": {
      "text/plain": [
       "score    24.944079\n",
       "dtype: float64"
      ]
     },
     "execution_count": 84,
     "metadata": {},
     "output_type": "execute_result"
    }
   ],
   "source": [
    "k6_metric = bipartite_metric(k_6, ground_truth)\n",
    "k6_metric.mean()"
   ]
  },
  {
   "cell_type": "code",
   "execution_count": 85,
   "metadata": {},
   "outputs": [
    {
     "name": "stderr",
     "output_type": "stream",
     "text": [
      "/tmp/ipykernel_1079520/661257255.py:2: FutureWarning: Dropping of nuisance columns in DataFrame reductions (with 'numeric_only=None') is deprecated; in a future version this will raise TypeError.  Select only valid columns before calling the reduction.\n",
      "  k7_metric.mean()\n"
     ]
    },
    {
     "data": {
      "text/plain": [
       "score    24.226357\n",
       "dtype: float64"
      ]
     },
     "execution_count": 85,
     "metadata": {},
     "output_type": "execute_result"
    }
   ],
   "source": [
    "k7_metric = bipartite_metric(k_7, ground_truth)\n",
    "k7_metric.mean()"
   ]
  },
  {
   "cell_type": "code",
   "execution_count": 86,
   "metadata": {},
   "outputs": [
    {
     "name": "stderr",
     "output_type": "stream",
     "text": [
      "/tmp/ipykernel_1079520/2862372342.py:2: FutureWarning: Dropping of nuisance columns in DataFrame reductions (with 'numeric_only=None') is deprecated; in a future version this will raise TypeError.  Select only valid columns before calling the reduction.\n",
      "  k8_metric.mean()\n"
     ]
    },
    {
     "data": {
      "text/plain": [
       "score    21.191748\n",
       "dtype: float64"
      ]
     },
     "execution_count": 86,
     "metadata": {},
     "output_type": "execute_result"
    }
   ],
   "source": [
    "k8_metric = bipartite_metric(k_8, ground_truth)\n",
    "k8_metric.mean()"
   ]
  },
  {
   "cell_type": "code",
   "execution_count": 87,
   "metadata": {},
   "outputs": [
    {
     "name": "stderr",
     "output_type": "stream",
     "text": [
      "/tmp/ipykernel_1079520/1132242517.py:2: FutureWarning: Dropping of nuisance columns in DataFrame reductions (with 'numeric_only=None') is deprecated; in a future version this will raise TypeError.  Select only valid columns before calling the reduction.\n",
      "  k9_metric.mean()\n"
     ]
    },
    {
     "data": {
      "text/plain": [
       "score    26.669631\n",
       "dtype: float64"
      ]
     },
     "execution_count": 87,
     "metadata": {},
     "output_type": "execute_result"
    }
   ],
   "source": [
    "k9_metric = bipartite_metric(k_9, ground_truth)\n",
    "k9_metric.mean()"
   ]
  },
  {
   "cell_type": "code",
   "execution_count": 88,
   "metadata": {},
   "outputs": [
    {
     "name": "stderr",
     "output_type": "stream",
     "text": [
      "/tmp/ipykernel_1079520/3968851987.py:2: FutureWarning: Dropping of nuisance columns in DataFrame reductions (with 'numeric_only=None') is deprecated; in a future version this will raise TypeError.  Select only valid columns before calling the reduction.\n",
      "  k10_metric.mean()\n"
     ]
    },
    {
     "data": {
      "text/plain": [
       "score    27.783185\n",
       "dtype: float64"
      ]
     },
     "execution_count": 88,
     "metadata": {},
     "output_type": "execute_result"
    }
   ],
   "source": [
    "k10_metric = bipartite_metric(k_10, ground_truth)\n",
    "k10_metric.mean()"
   ]
  },
  {
   "cell_type": "code",
   "execution_count": 89,
   "metadata": {},
   "outputs": [],
   "source": [
    "k1 = k1_metric.assign(model = \"k=1\")\n",
    "k2 = k2_metric.assign(model = \"k=2\")\n",
    "k3 = k3_metric.assign(model = \"k=3\")\n",
    "k4 = k4_metric.assign(model = \"k=4\")\n",
    "k5 = k5_metric.assign(model = \"k=5\")\n",
    "k6 = k6_metric.assign(model = \"k=6\")\n",
    "k7 = k7_metric.assign(model = \"k=7\")\n",
    "k8 = k8_metric.assign(model = \"k=8\")\n",
    "k9 = k9_metric.assign(model = \"k=9\")\n",
    "k10 = k10_metric.assign(model = \"k=10\")"
   ]
  },
  {
   "cell_type": "code",
   "execution_count": 90,
   "metadata": {},
   "outputs": [],
   "source": [
    "df = pd.concat([k1, k2, k3, k4, k5, k6, k7, k8, k9, k10]).reset_index(drop=True)"
   ]
  },
  {
   "cell_type": "code",
   "execution_count": 91,
   "metadata": {},
   "outputs": [
    {
     "data": {
      "text/plain": [
       "<seaborn.axisgrid.FacetGrid at 0x7f1d8cdb52e0>"
      ]
     },
     "execution_count": 91,
     "metadata": {},
     "output_type": "execute_result"
    },
    {
     "data": {
      "image/png": "[encoded data removed]",
      "text/plain": [
       "<Figure size 587.375x500 with 1 Axes>"
      ]
     },
     "metadata": {},
     "output_type": "display_data"
    }
   ],
   "source": [
    "sns.displot(df, x=\"score\", hue=\"model\", kind=\"hist\", multiple=\"stack\", shrink=0.8, binwidth=1.0)"
   ]
  },
  {
   "cell_type": "markdown",
   "metadata": {},
   "source": []
  },
  {
   "cell_type": "code",
   "execution_count": 92,
   "metadata": {},
   "outputs": [
    {
     "data": {
      "text/html": [
       "<div>\n",
       "<style scoped>\n",
       "    .dataframe tbody tr th:only-of-type {\n",
       "        vertical-align: middle;\n",
       "    }\n",
       "\n",
       "    .dataframe tbody tr th {\n",
       "        vertical-align: top;\n",
       "    }\n",
       "\n",
       "    .dataframe thead th {\n",
       "        text-align: right;\n",
       "    }\n",
       "</style>\n",
       "<table border=\"1\" class=\"dataframe\">\n",
       "  <thead>\n",
       "    <tr style=\"text-align: right;\">\n",
       "      <th></th>\n",
       "      <th>comedian</th>\n",
       "      <th>score</th>\n",
       "    </tr>\n",
       "  </thead>\n",
       "  <tbody>\n",
       "    <tr>\n",
       "      <th>0</th>\n",
       "      <td>Ali_Wong</td>\n",
       "      <td>39.166667</td>\n",
       "    </tr>\n",
       "    <tr>\n",
       "      <th>1</th>\n",
       "      <td>Ali_Wong_2</td>\n",
       "      <td>40.428571</td>\n",
       "    </tr>\n",
       "    <tr>\n",
       "      <th>2</th>\n",
       "      <td>Anthony_Jeselnik</td>\n",
       "      <td>18.714286</td>\n",
       "    </tr>\n",
       "    <tr>\n",
       "      <th>3</th>\n",
       "      <td>Anthony_Jeselnik_2</td>\n",
       "      <td>63.250000</td>\n",
       "    </tr>\n",
       "    <tr>\n",
       "      <th>4</th>\n",
       "      <td>Chelsea_Peretti</td>\n",
       "      <td>14.333333</td>\n",
       "    </tr>\n",
       "    <tr>\n",
       "      <th>5</th>\n",
       "      <td>Chelsea_Peretti_2</td>\n",
       "      <td>31.636364</td>\n",
       "    </tr>\n",
       "    <tr>\n",
       "      <th>6</th>\n",
       "      <td>Donald_Glover</td>\n",
       "      <td>23.500000</td>\n",
       "    </tr>\n",
       "    <tr>\n",
       "      <th>7</th>\n",
       "      <td>Donald_Glover_2</td>\n",
       "      <td>18.125000</td>\n",
       "    </tr>\n",
       "    <tr>\n",
       "      <th>8</th>\n",
       "      <td>Hasan_Minhaj</td>\n",
       "      <td>36.250000</td>\n",
       "    </tr>\n",
       "    <tr>\n",
       "      <th>9</th>\n",
       "      <td>Hasan_Minhaj_2</td>\n",
       "      <td>25.400000</td>\n",
       "    </tr>\n",
       "    <tr>\n",
       "      <th>10</th>\n",
       "      <td>Iliza_Shlesinger</td>\n",
       "      <td>27.000000</td>\n",
       "    </tr>\n",
       "    <tr>\n",
       "      <th>11</th>\n",
       "      <td>Iliza_Shlesinger_2</td>\n",
       "      <td>19.300000</td>\n",
       "    </tr>\n",
       "    <tr>\n",
       "      <th>12</th>\n",
       "      <td>Jim_Gaffigan</td>\n",
       "      <td>28.888889</td>\n",
       "    </tr>\n",
       "    <tr>\n",
       "      <th>13</th>\n",
       "      <td>Jim_Gaffigan_2</td>\n",
       "      <td>14.050000</td>\n",
       "    </tr>\n",
       "    <tr>\n",
       "      <th>14</th>\n",
       "      <td>Jimmy_Yang</td>\n",
       "      <td>16.900000</td>\n",
       "    </tr>\n",
       "    <tr>\n",
       "      <th>15</th>\n",
       "      <td>Jimmy_Yang_2</td>\n",
       "      <td>48.400000</td>\n",
       "    </tr>\n",
       "    <tr>\n",
       "      <th>16</th>\n",
       "      <td>Joe_List</td>\n",
       "      <td>35.062500</td>\n",
       "    </tr>\n",
       "    <tr>\n",
       "      <th>17</th>\n",
       "      <td>Joe_List_2</td>\n",
       "      <td>26.500000</td>\n",
       "    </tr>\n",
       "    <tr>\n",
       "      <th>18</th>\n",
       "      <td>John_Mulaney</td>\n",
       "      <td>40.357143</td>\n",
       "    </tr>\n",
       "    <tr>\n",
       "      <th>19</th>\n",
       "      <td>John_Mulaney_2</td>\n",
       "      <td>21.714286</td>\n",
       "    </tr>\n",
       "    <tr>\n",
       "      <th>20</th>\n",
       "      <td>Louis_CK</td>\n",
       "      <td>27.166667</td>\n",
       "    </tr>\n",
       "    <tr>\n",
       "      <th>21</th>\n",
       "      <td>Louis_CK_2</td>\n",
       "      <td>20.333333</td>\n",
       "    </tr>\n",
       "    <tr>\n",
       "      <th>22</th>\n",
       "      <td>Nate_Bargatze</td>\n",
       "      <td>11.928571</td>\n",
       "    </tr>\n",
       "    <tr>\n",
       "      <th>23</th>\n",
       "      <td>Nate_Bargatze_2</td>\n",
       "      <td>21.437500</td>\n",
       "    </tr>\n",
       "    <tr>\n",
       "      <th>24</th>\n",
       "      <td>Nate_Bargatze_TK</td>\n",
       "      <td>33.071429</td>\n",
       "    </tr>\n",
       "    <tr>\n",
       "      <th>25</th>\n",
       "      <td>Nate_Bargatze_TK_2</td>\n",
       "      <td>43.666667</td>\n",
       "    </tr>\n",
       "    <tr>\n",
       "      <th>26</th>\n",
       "      <td>Russell_Peters</td>\n",
       "      <td>26.600000</td>\n",
       "    </tr>\n",
       "    <tr>\n",
       "      <th>27</th>\n",
       "      <td>Russell_Peters_2</td>\n",
       "      <td>70.500000</td>\n",
       "    </tr>\n",
       "    <tr>\n",
       "      <th>28</th>\n",
       "      <td>Sam_Morril</td>\n",
       "      <td>11.333333</td>\n",
       "    </tr>\n",
       "    <tr>\n",
       "      <th>29</th>\n",
       "      <td>Sam_Morril_2</td>\n",
       "      <td>16.133333</td>\n",
       "    </tr>\n",
       "    <tr>\n",
       "      <th>30</th>\n",
       "      <td>Tom_Segura</td>\n",
       "      <td>22.722222</td>\n",
       "    </tr>\n",
       "    <tr>\n",
       "      <th>31</th>\n",
       "      <td>Tom_Segura_2</td>\n",
       "      <td>27.400000</td>\n",
       "    </tr>\n",
       "    <tr>\n",
       "      <th>32</th>\n",
       "      <td>Trevor_Noah</td>\n",
       "      <td>16.500000</td>\n",
       "    </tr>\n",
       "    <tr>\n",
       "      <th>33</th>\n",
       "      <td>Trevor_Noah_2</td>\n",
       "      <td>32.000000</td>\n",
       "    </tr>\n",
       "  </tbody>\n",
       "</table>\n",
       "</div>"
      ],
      "text/plain": [
       "              comedian      score\n",
       "0             Ali_Wong  39.166667\n",
       "1           Ali_Wong_2  40.428571\n",
       "2     Anthony_Jeselnik  18.714286\n",
       "3   Anthony_Jeselnik_2  63.250000\n",
       "4      Chelsea_Peretti  14.333333\n",
       "5    Chelsea_Peretti_2  31.636364\n",
       "6        Donald_Glover  23.500000\n",
       "7      Donald_Glover_2  18.125000\n",
       "8         Hasan_Minhaj  36.250000\n",
       "9       Hasan_Minhaj_2  25.400000\n",
       "10    Iliza_Shlesinger  27.000000\n",
       "11  Iliza_Shlesinger_2  19.300000\n",
       "12        Jim_Gaffigan  28.888889\n",
       "13      Jim_Gaffigan_2  14.050000\n",
       "14          Jimmy_Yang  16.900000\n",
       "15        Jimmy_Yang_2  48.400000\n",
       "16            Joe_List  35.062500\n",
       "17          Joe_List_2  26.500000\n",
       "18        John_Mulaney  40.357143\n",
       "19      John_Mulaney_2  21.714286\n",
       "20            Louis_CK  27.166667\n",
       "21          Louis_CK_2  20.333333\n",
       "22       Nate_Bargatze  11.928571\n",
       "23     Nate_Bargatze_2  21.437500\n",
       "24    Nate_Bargatze_TK  33.071429\n",
       "25  Nate_Bargatze_TK_2  43.666667\n",
       "26      Russell_Peters  26.600000\n",
       "27    Russell_Peters_2  70.500000\n",
       "28          Sam_Morril  11.333333\n",
       "29        Sam_Morril_2  16.133333\n",
       "30          Tom_Segura  22.722222\n",
       "31        Tom_Segura_2  27.400000\n",
       "32         Trevor_Noah  16.500000\n",
       "33       Trevor_Noah_2  32.000000"
      ]
     },
     "execution_count": 92,
     "metadata": {},
     "output_type": "execute_result"
    }
   ],
   "source": [
    "k1_metric"
   ]
  },
  {
   "cell_type": "code",
   "execution_count": 93,
   "metadata": {},
   "outputs": [
    {
     "data": {
      "text/plain": [
       "<AxesSubplot:xlabel='variable', ylabel='value'>"
      ]
     },
     "execution_count": 93,
     "metadata": {},
     "output_type": "execute_result"
    },
    {
     "data": {
      "image/png": "[encoded data removed]",
      "text/plain": [
       "<Figure size 640x480 with 1 Axes>"
      ]
     },
     "metadata": {},
     "output_type": "display_data"
    }
   ],
   "source": [
    "import matplotlib.pyplot as plt\n",
    "import pandas as pd\n",
    "import seaborn as sns\n",
    "\n",
    "k_vals = pd.DataFrame({\n",
    "    1: k1_metric[\"score\"],\n",
    "    2: k2_metric[\"score\"],\n",
    "    3: k3_metric[\"score\"],\n",
    "    4: k4_metric[\"score\"],\n",
    "    5: k5_metric[\"score\"],\n",
    "    6: k6_metric[\"score\"],\n",
    "    7: k7_metric[\"score\"],\n",
    "    8: k8_metric[\"score\"],\n",
    "    9: k9_metric[\"score\"],\n",
    "    10: k10_metric[\"score\"],\n",
    "}).melt()\n",
    "\n",
    "sns.lineplot(k_vals, x=\"variable\", y=\"value\")\n",
    "\n",
    "# plt.figure(figsize=(10, 6))\n",
    "# plt.plot(k_values, means, marker='o', linestyle='-', color='pink')\n",
    "\n",
    "# plt.title('Mean Metrics for k Values from 1 to 10')\n",
    "# plt.xlabel('k Value')\n",
    "# plt.ylabel('Mean Metric')\n",
    "# plt.xticks(k_values)\n",
    "# plt.legend()\n",
    "# plt.grid(True)\n",
    "# plt.show()"
   ]
  },
  {
   "cell_type": "markdown",
   "metadata": {},
   "source": [
    "## Top-p"
   ]
  },
  {
   "cell_type": "code",
   "execution_count": 94,
   "metadata": {},
   "outputs": [],
   "source": [
    "top_p = pd.read_csv(\"/home/ada/humor/data/stand_up_dataset/p_sample - Sheet1.csv\")"
   ]
  },
  {
   "cell_type": "code",
   "execution_count": 95,
   "metadata": {},
   "outputs": [
    {
     "data": {
      "text/html": [
       "<div>\n",
       "<style scoped>\n",
       "    .dataframe tbody tr th:only-of-type {\n",
       "        vertical-align: middle;\n",
       "    }\n",
       "\n",
       "    .dataframe tbody tr th {\n",
       "        vertical-align: top;\n",
       "    }\n",
       "\n",
       "    .dataframe thead th {\n",
       "        text-align: right;\n",
       "    }\n",
       "</style>\n",
       "<table border=\"1\" class=\"dataframe\">\n",
       "  <thead>\n",
       "    <tr style=\"text-align: right;\">\n",
       "      <th></th>\n",
       "      <th>comedian</th>\n",
       "      <th>sentence</th>\n",
       "      <th>p</th>\n",
       "    </tr>\n",
       "  </thead>\n",
       "  <tbody>\n",
       "    <tr>\n",
       "      <th>0</th>\n",
       "      <td>Anthony_Jeselnik</td>\n",
       "      <td>When I was a kid, I used to fantasize about ge...</td>\n",
       "      <td>0.00</td>\n",
       "    </tr>\n",
       "    <tr>\n",
       "      <th>1</th>\n",
       "      <td>Anthony_Jeselnik</td>\n",
       "      <td>My mom actually should’ve been on one of the p...</td>\n",
       "      <td>0.00</td>\n",
       "    </tr>\n",
       "    <tr>\n",
       "      <th>2</th>\n",
       "      <td>Anthony_Jeselnik</td>\n",
       "      <td>When I was a kid, like nine years old, I’d com...</td>\n",
       "      <td>0.00</td>\n",
       "    </tr>\n",
       "    <tr>\n",
       "      <th>3</th>\n",
       "      <td>Anthony_Jeselnik</td>\n",
       "      <td>When I was a kid, I used to fantasize about ge...</td>\n",
       "      <td>0.90</td>\n",
       "    </tr>\n",
       "    <tr>\n",
       "      <th>4</th>\n",
       "      <td>Anthony_Jeselnik</td>\n",
       "      <td>My mom actually should’ve been on one of the p...</td>\n",
       "      <td>0.90</td>\n",
       "    </tr>\n",
       "    <tr>\n",
       "      <th>...</th>\n",
       "      <td>...</td>\n",
       "      <td>...</td>\n",
       "      <td>...</td>\n",
       "    </tr>\n",
       "    <tr>\n",
       "      <th>1416</th>\n",
       "      <td>Tom_Segura_2</td>\n",
       "      <td>There's \"Hold Open,\" and \"Close.\" And you can ...</td>\n",
       "      <td>0.98</td>\n",
       "    </tr>\n",
       "    <tr>\n",
       "      <th>1417</th>\n",
       "      <td>Tom_Segura_2</td>\n",
       "      <td>I got such a warm rush through my body. It fel...</td>\n",
       "      <td>0.99</td>\n",
       "    </tr>\n",
       "    <tr>\n",
       "      <th>1418</th>\n",
       "      <td>Tom_Segura_2</td>\n",
       "      <td>There’s “Hold Open,” and “Close.” And you can ...</td>\n",
       "      <td>0.99</td>\n",
       "    </tr>\n",
       "    <tr>\n",
       "      <th>1419</th>\n",
       "      <td>Tom_Segura_2</td>\n",
       "      <td>I got such a warm rush through my body. It fel...</td>\n",
       "      <td>1.00</td>\n",
       "    </tr>\n",
       "    <tr>\n",
       "      <th>1420</th>\n",
       "      <td>Tom_Segura_2</td>\n",
       "      <td>I was trying to figure out, “Why does this fee...</td>\n",
       "      <td>1.00</td>\n",
       "    </tr>\n",
       "  </tbody>\n",
       "</table>\n",
       "<p>1421 rows × 3 columns</p>\n",
       "</div>"
      ],
      "text/plain": [
       "              comedian                                           sentence  \\\n",
       "0     Anthony_Jeselnik  When I was a kid, I used to fantasize about ge...   \n",
       "1     Anthony_Jeselnik  My mom actually should’ve been on one of the p...   \n",
       "2     Anthony_Jeselnik  When I was a kid, like nine years old, I’d com...   \n",
       "3     Anthony_Jeselnik  When I was a kid, I used to fantasize about ge...   \n",
       "4     Anthony_Jeselnik  My mom actually should’ve been on one of the p...   \n",
       "...                ...                                                ...   \n",
       "1416      Tom_Segura_2  There's \"Hold Open,\" and \"Close.\" And you can ...   \n",
       "1417      Tom_Segura_2  I got such a warm rush through my body. It fel...   \n",
       "1418      Tom_Segura_2  There’s “Hold Open,” and “Close.” And you can ...   \n",
       "1419      Tom_Segura_2  I got such a warm rush through my body. It fel...   \n",
       "1420      Tom_Segura_2  I was trying to figure out, “Why does this fee...   \n",
       "\n",
       "         p  \n",
       "0     0.00  \n",
       "1     0.00  \n",
       "2     0.00  \n",
       "3     0.90  \n",
       "4     0.90  \n",
       "...    ...  \n",
       "1416  0.98  \n",
       "1417  0.99  \n",
       "1418  0.99  \n",
       "1419  1.00  \n",
       "1420  1.00  \n",
       "\n",
       "[1421 rows x 3 columns]"
      ]
     },
     "execution_count": 95,
     "metadata": {},
     "output_type": "execute_result"
    }
   ],
   "source": [
    "top_p"
   ]
  },
  {
   "cell_type": "code",
   "execution_count": 96,
   "metadata": {},
   "outputs": [],
   "source": [
    "top_p_df = {}\n",
    "for p in [0] + [i / 100 for i in range(90, 101)]:\n",
    "    top_p_df[f'df_p_{p}'] = top_p[top_p['p'] == p]"
   ]
  },
  {
   "cell_type": "code",
   "execution_count": 97,
   "metadata": {},
   "outputs": [],
   "source": [
    "p_0 = top_p_df['df_p_0']\n",
    "p_9 = top_p_df['df_p_0.9']\n",
    "p_91 = top_p_df['df_p_0.91']\n",
    "p_92 = top_p_df['df_p_0.92']\n",
    "p_93 = top_p_df['df_p_0.93']\n",
    "p_94 = top_p_df['df_p_0.94']\n",
    "p_95 = top_p_df['df_p_0.95']\n",
    "p_96 = top_p_df['df_p_0.96']\n",
    "p_97 = top_p_df['df_p_0.97']\n",
    "p_98 = top_p_df['df_p_0.98']\n",
    "p_99 = top_p_df['df_p_0.99']\n",
    "p_1 = top_p_df['df_p_1.0']"
   ]
  },
  {
   "cell_type": "code",
   "execution_count": 98,
   "metadata": {},
   "outputs": [
    {
     "name": "stderr",
     "output_type": "stream",
     "text": [
      "/tmp/ipykernel_1079520/1682444344.py:2: FutureWarning: Dropping of nuisance columns in DataFrame reductions (with 'numeric_only=None') is deprecated; in a future version this will raise TypeError.  Select only valid columns before calling the reduction.\n",
      "  p0_metric.mean()\n"
     ]
    },
    {
     "data": {
      "text/plain": [
       "score    27.379273\n",
       "dtype: float64"
      ]
     },
     "execution_count": 98,
     "metadata": {},
     "output_type": "execute_result"
    }
   ],
   "source": [
    "p0_metric = bipartite_metric(p_0, ground_truth)\n",
    "p0_metric.mean()"
   ]
  },
  {
   "cell_type": "code",
   "execution_count": 99,
   "metadata": {},
   "outputs": [
    {
     "name": "stderr",
     "output_type": "stream",
     "text": [
      "/tmp/ipykernel_1079520/737289714.py:2: FutureWarning: Dropping of nuisance columns in DataFrame reductions (with 'numeric_only=None') is deprecated; in a future version this will raise TypeError.  Select only valid columns before calling the reduction.\n",
      "  p9_metric.mean()\n"
     ]
    },
    {
     "data": {
      "text/plain": [
       "score    27.194199\n",
       "dtype: float64"
      ]
     },
     "execution_count": 99,
     "metadata": {},
     "output_type": "execute_result"
    }
   ],
   "source": [
    "p9_metric = bipartite_metric(p_9, ground_truth)\n",
    "p9_metric.mean()"
   ]
  },
  {
   "cell_type": "code",
   "execution_count": 100,
   "metadata": {},
   "outputs": [
    {
     "name": "stderr",
     "output_type": "stream",
     "text": [
      "/tmp/ipykernel_1079520/1267983535.py:2: FutureWarning: Dropping of nuisance columns in DataFrame reductions (with 'numeric_only=None') is deprecated; in a future version this will raise TypeError.  Select only valid columns before calling the reduction.\n",
      "  p91_metric.mean()\n"
     ]
    },
    {
     "data": {
      "text/plain": [
       "score    26.275467\n",
       "dtype: float64"
      ]
     },
     "execution_count": 100,
     "metadata": {},
     "output_type": "execute_result"
    }
   ],
   "source": [
    "p91_metric = bipartite_metric(p_91, ground_truth)\n",
    "p91_metric.mean()"
   ]
  },
  {
   "cell_type": "code",
   "execution_count": 101,
   "metadata": {},
   "outputs": [
    {
     "name": "stderr",
     "output_type": "stream",
     "text": [
      "/tmp/ipykernel_1079520/3663633955.py:2: FutureWarning: Dropping of nuisance columns in DataFrame reductions (with 'numeric_only=None') is deprecated; in a future version this will raise TypeError.  Select only valid columns before calling the reduction.\n",
      "  p92_metric.mean()\n"
     ]
    },
    {
     "data": {
      "text/plain": [
       "score    23.657059\n",
       "dtype: float64"
      ]
     },
     "execution_count": 101,
     "metadata": {},
     "output_type": "execute_result"
    }
   ],
   "source": [
    "p92_metric = bipartite_metric(p_92, ground_truth)\n",
    "p92_metric.mean()"
   ]
  },
  {
   "cell_type": "code",
   "execution_count": 102,
   "metadata": {},
   "outputs": [
    {
     "name": "stderr",
     "output_type": "stream",
     "text": [
      "/tmp/ipykernel_1079520/3124393155.py:2: FutureWarning: Dropping of nuisance columns in DataFrame reductions (with 'numeric_only=None') is deprecated; in a future version this will raise TypeError.  Select only valid columns before calling the reduction.\n",
      "  p93_metric.mean()\n"
     ]
    },
    {
     "data": {
      "text/plain": [
       "score    25.995927\n",
       "dtype: float64"
      ]
     },
     "execution_count": 102,
     "metadata": {},
     "output_type": "execute_result"
    }
   ],
   "source": [
    "p93_metric = bipartite_metric(p_93, ground_truth)\n",
    "p93_metric.mean()"
   ]
  },
  {
   "cell_type": "code",
   "execution_count": 103,
   "metadata": {},
   "outputs": [
    {
     "name": "stderr",
     "output_type": "stream",
     "text": [
      "/tmp/ipykernel_1079520/1826973090.py:2: FutureWarning: Dropping of nuisance columns in DataFrame reductions (with 'numeric_only=None') is deprecated; in a future version this will raise TypeError.  Select only valid columns before calling the reduction.\n",
      "  p94_metric.mean()\n"
     ]
    },
    {
     "data": {
      "text/plain": [
       "score    26.230278\n",
       "dtype: float64"
      ]
     },
     "execution_count": 103,
     "metadata": {},
     "output_type": "execute_result"
    }
   ],
   "source": [
    "p94_metric = bipartite_metric(p_94, ground_truth)\n",
    "p94_metric.mean()"
   ]
  },
  {
   "cell_type": "code",
   "execution_count": 104,
   "metadata": {},
   "outputs": [
    {
     "name": "stderr",
     "output_type": "stream",
     "text": [
      "/tmp/ipykernel_1079520/2858370961.py:2: FutureWarning: Dropping of nuisance columns in DataFrame reductions (with 'numeric_only=None') is deprecated; in a future version this will raise TypeError.  Select only valid columns before calling the reduction.\n",
      "  p95_metric.mean()\n"
     ]
    },
    {
     "data": {
      "text/plain": [
       "score    28.186645\n",
       "dtype: float64"
      ]
     },
     "execution_count": 104,
     "metadata": {},
     "output_type": "execute_result"
    }
   ],
   "source": [
    "p95_metric = bipartite_metric(p_95, ground_truth)\n",
    "p95_metric.mean()"
   ]
  },
  {
   "cell_type": "code",
   "execution_count": 105,
   "metadata": {},
   "outputs": [
    {
     "name": "stderr",
     "output_type": "stream",
     "text": [
      "/tmp/ipykernel_1079520/3544092099.py:2: FutureWarning: Dropping of nuisance columns in DataFrame reductions (with 'numeric_only=None') is deprecated; in a future version this will raise TypeError.  Select only valid columns before calling the reduction.\n",
      "  p96_metric.mean()\n"
     ]
    },
    {
     "data": {
      "text/plain": [
       "score    26.207954\n",
       "dtype: float64"
      ]
     },
     "execution_count": 105,
     "metadata": {},
     "output_type": "execute_result"
    }
   ],
   "source": [
    "p96_metric = bipartite_metric(p_96, ground_truth)\n",
    "p96_metric.mean()"
   ]
  },
  {
   "cell_type": "code",
   "execution_count": 106,
   "metadata": {},
   "outputs": [
    {
     "name": "stderr",
     "output_type": "stream",
     "text": [
      "/tmp/ipykernel_1079520/1387252451.py:2: FutureWarning: Dropping of nuisance columns in DataFrame reductions (with 'numeric_only=None') is deprecated; in a future version this will raise TypeError.  Select only valid columns before calling the reduction.\n",
      "  p97_metric.mean()\n"
     ]
    },
    {
     "data": {
      "text/plain": [
       "score    24.471526\n",
       "dtype: float64"
      ]
     },
     "execution_count": 106,
     "metadata": {},
     "output_type": "execute_result"
    }
   ],
   "source": [
    "p97_metric = bipartite_metric(p_97, ground_truth)\n",
    "p97_metric.mean()"
   ]
  },
  {
   "cell_type": "code",
   "execution_count": 107,
   "metadata": {},
   "outputs": [
    {
     "name": "stderr",
     "output_type": "stream",
     "text": [
      "/tmp/ipykernel_1079520/63609148.py:2: FutureWarning: Dropping of nuisance columns in DataFrame reductions (with 'numeric_only=None') is deprecated; in a future version this will raise TypeError.  Select only valid columns before calling the reduction.\n",
      "  p98_metric.mean()\n"
     ]
    },
    {
     "data": {
      "text/plain": [
       "score    26.460454\n",
       "dtype: float64"
      ]
     },
     "execution_count": 107,
     "metadata": {},
     "output_type": "execute_result"
    }
   ],
   "source": [
    "p98_metric = bipartite_metric(p_98, ground_truth)\n",
    "p98_metric.mean()"
   ]
  },
  {
   "cell_type": "code",
   "execution_count": 108,
   "metadata": {},
   "outputs": [
    {
     "name": "stderr",
     "output_type": "stream",
     "text": [
      "/tmp/ipykernel_1079520/2626852736.py:2: FutureWarning: Dropping of nuisance columns in DataFrame reductions (with 'numeric_only=None') is deprecated; in a future version this will raise TypeError.  Select only valid columns before calling the reduction.\n",
      "  p99_metric.mean()\n"
     ]
    },
    {
     "data": {
      "text/plain": [
       "score    28.493097\n",
       "dtype: float64"
      ]
     },
     "execution_count": 108,
     "metadata": {},
     "output_type": "execute_result"
    }
   ],
   "source": [
    "p99_metric = bipartite_metric(p_99, ground_truth)\n",
    "p99_metric.mean()"
   ]
  },
  {
   "cell_type": "code",
   "execution_count": 109,
   "metadata": {},
   "outputs": [
    {
     "name": "stderr",
     "output_type": "stream",
     "text": [
      "/tmp/ipykernel_1079520/2209821856.py:2: FutureWarning: Dropping of nuisance columns in DataFrame reductions (with 'numeric_only=None') is deprecated; in a future version this will raise TypeError.  Select only valid columns before calling the reduction.\n",
      "  p1_metric.mean()\n"
     ]
    },
    {
     "data": {
      "text/plain": [
       "score    27.080706\n",
       "dtype: float64"
      ]
     },
     "execution_count": 109,
     "metadata": {},
     "output_type": "execute_result"
    }
   ],
   "source": [
    "p1_metric = bipartite_metric(p_1, ground_truth)\n",
    "p1_metric.mean()"
   ]
  },
  {
   "cell_type": "code",
   "execution_count": 110,
   "metadata": {},
   "outputs": [],
   "source": [
    "p0 = p0_metric.assign(model = \"p=0\")\n",
    "p9 = p9_metric.assign(model = \"p=9\")\n",
    "p91 = p91_metric.assign(model = \"p=91\")\n",
    "p92 = p92_metric.assign(model = \"p=92\")\n",
    "p93 = p93_metric.assign(model = \"p=93\")\n",
    "p94 = p94_metric.assign(model = \"p=94\")\n",
    "p95 = p95_metric.assign(model = \"p=95\")\n",
    "p96 = p96_metric.assign(model = \"p=96\")\n",
    "p97 = p97_metric.assign(model = \"p=97\")\n",
    "p98 = p98_metric.assign(model = \"p=98\")\n",
    "p99 = p99_metric.assign(model = \"p=99\")\n",
    "p1 = p1_metric.assign(model = \"p=1\")"
   ]
  },
  {
   "cell_type": "code",
   "execution_count": 111,
   "metadata": {},
   "outputs": [],
   "source": [
    "df = pd.concat([p0, p9, p91, p92, p93, p94, p95, p96, p97, p98, p99, p1]).reset_index(drop=True)"
   ]
  },
  {
   "cell_type": "code",
   "execution_count": 112,
   "metadata": {},
   "outputs": [
    {
     "data": {
      "text/plain": [
       "<seaborn.axisgrid.FacetGrid at 0x7f1d8c5408e0>"
      ]
     },
     "execution_count": 112,
     "metadata": {},
     "output_type": "execute_result"
    },
    {
     "data": {
      "image/png": "[encoded data removed]",
      "text/plain": [
       "<Figure size 588.25x500 with 1 Axes>"
      ]
     },
     "metadata": {},
     "output_type": "display_data"
    }
   ],
   "source": [
    "sns.displot(df, x=\"score\", hue=\"model\", kind=\"hist\", multiple=\"stack\", shrink=0.8, binwidth=1.5)"
   ]
  },
  {
   "cell_type": "code",
   "execution_count": 113,
   "metadata": {},
   "outputs": [
    {
     "name": "stderr",
     "output_type": "stream",
     "text": [
      "/tmp/ipykernel_1079520/2157746874.py:4: FutureWarning: Dropping of nuisance columns in DataFrame reductions (with 'numeric_only=None') is deprecated; in a future version this will raise TypeError.  Select only valid columns before calling the reduction.\n",
      "  p9_metric.mean(),\n",
      "/tmp/ipykernel_1079520/2157746874.py:5: FutureWarning: Dropping of nuisance columns in DataFrame reductions (with 'numeric_only=None') is deprecated; in a future version this will raise TypeError.  Select only valid columns before calling the reduction.\n",
      "  p91_metric.mean(),\n",
      "/tmp/ipykernel_1079520/2157746874.py:6: FutureWarning: Dropping of nuisance columns in DataFrame reductions (with 'numeric_only=None') is deprecated; in a future version this will raise TypeError.  Select only valid columns before calling the reduction.\n",
      "  p92_metric.mean(),\n",
      "/tmp/ipykernel_1079520/2157746874.py:7: FutureWarning: Dropping of nuisance columns in DataFrame reductions (with 'numeric_only=None') is deprecated; in a future version this will raise TypeError.  Select only valid columns before calling the reduction.\n",
      "  p93_metric.mean(),\n",
      "/tmp/ipykernel_1079520/2157746874.py:8: FutureWarning: Dropping of nuisance columns in DataFrame reductions (with 'numeric_only=None') is deprecated; in a future version this will raise TypeError.  Select only valid columns before calling the reduction.\n",
      "  p94_metric.mean(),\n",
      "/tmp/ipykernel_1079520/2157746874.py:9: FutureWarning: Dropping of nuisance columns in DataFrame reductions (with 'numeric_only=None') is deprecated; in a future version this will raise TypeError.  Select only valid columns before calling the reduction.\n",
      "  p95_metric.mean(),\n",
      "/tmp/ipykernel_1079520/2157746874.py:10: FutureWarning: Dropping of nuisance columns in DataFrame reductions (with 'numeric_only=None') is deprecated; in a future version this will raise TypeError.  Select only valid columns before calling the reduction.\n",
      "  p96_metric.mean(),\n",
      "/tmp/ipykernel_1079520/2157746874.py:11: FutureWarning: Dropping of nuisance columns in DataFrame reductions (with 'numeric_only=None') is deprecated; in a future version this will raise TypeError.  Select only valid columns before calling the reduction.\n",
      "  p97_metric.mean(),\n",
      "/tmp/ipykernel_1079520/2157746874.py:12: FutureWarning: Dropping of nuisance columns in DataFrame reductions (with 'numeric_only=None') is deprecated; in a future version this will raise TypeError.  Select only valid columns before calling the reduction.\n",
      "  p98_metric.mean(),\n",
      "/tmp/ipykernel_1079520/2157746874.py:13: FutureWarning: Dropping of nuisance columns in DataFrame reductions (with 'numeric_only=None') is deprecated; in a future version this will raise TypeError.  Select only valid columns before calling the reduction.\n",
      "  p99_metric.mean(),\n",
      "/tmp/ipykernel_1079520/2157746874.py:14: FutureWarning: Dropping of nuisance columns in DataFrame reductions (with 'numeric_only=None') is deprecated; in a future version this will raise TypeError.  Select only valid columns before calling the reduction.\n",
      "  p1_metric.mean()\n",
      "No artists with labels found to put in legend.  Note that artists whose label start with an underscore are ignored when legend() is called with no argument.\n"
     ]
    },
    {
     "data": {
      "image/png": "[encoded data removed]",
      "text/plain": [
       "<Figure size 1000x600 with 1 Axes>"
      ]
     },
     "metadata": {},
     "output_type": "display_data"
    }
   ],
   "source": [
    "import matplotlib.pyplot as plt\n",
    "\n",
    "means_p = [\n",
    "    p9_metric.mean(),\n",
    "    p91_metric.mean(),\n",
    "    p92_metric.mean(),\n",
    "    p93_metric.mean(),\n",
    "    p94_metric.mean(),\n",
    "    p95_metric.mean(),\n",
    "    p96_metric.mean(),\n",
    "    p97_metric.mean(),\n",
    "    p98_metric.mean(),\n",
    "    p99_metric.mean(),\n",
    "    p1_metric.mean()\n",
    "]\n",
    "\n",
    "p_values = [0.9, 0.91, 0.92, 0.93, 0.94, 0.95, 0.96, 0.97, 0.98, 0.99, 1.0]\n",
    "\n",
    "# Plotting the means\n",
    "plt.figure(figsize=(10, 6))\n",
    "plt.plot(p_values, means_p, marker='o', linestyle='-', color='pink')\n",
    "\n",
    "plt.title('Mean Metrics for p Values from .9 to 1')\n",
    "plt.xlabel('p Value')\n",
    "plt.ylabel('Mean Metric')\n",
    "plt.xticks(p_values)\n",
    "plt.legend()\n",
    "plt.grid(True)\n",
    "plt.show()\n"
   ]
  },
  {
   "cell_type": "markdown",
   "metadata": {},
   "source": []
  }
 ],
 "metadata": {
  "kernelspec": {
   "display_name": ".venv",
   "language": "python",
   "name": "python3"
  },
  "language_info": {
   "codemirror_mode": {
    "name": "ipython",
    "version": 3
   },
   "file_extension": ".py",
   "mimetype": "text/x-python",
   "name": "python",
   "nbconvert_exporter": "python",
   "pygments_lexer": "ipython3",
   "version": "3.8.10"
  }
 },
 "nbformat": 4,
 "nbformat_minor": 2
}
