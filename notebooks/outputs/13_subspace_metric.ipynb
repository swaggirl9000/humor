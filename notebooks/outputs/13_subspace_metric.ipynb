{
 "cells": [
  {
   "cell_type": "markdown",
   "id": "8c330e34",
   "metadata": {
    "tags": [
     "papermill-error-cell-tag"
    ]
   },
   "source": [
    "<span style=\"color:red; font-family:Helvetica Neue, Helvetica, Arial, sans-serif; font-size:2em;\">An Exception was encountered at '<a href=\"#papermill-error-cell\">In [13]</a>'.</span>"
   ]
  },
  {
   "cell_type": "markdown",
   "id": "4d2734c5",
   "metadata": {
    "papermill": {
     "duration": 0.003191,
     "end_time": "2024-11-11T08:26:37.687047",
     "exception": false,
     "start_time": "2024-11-11T08:26:37.683856",
     "status": "completed"
    },
    "tags": []
   },
   "source": [
    "# LLM humor detection with Subspace based metric"
   ]
  },
  {
   "cell_type": "code",
   "execution_count": 1,
   "id": "23dc6bc5",
   "metadata": {
    "execution": {
     "iopub.execute_input": "2024-11-11T08:26:37.692700Z",
     "iopub.status.busy": "2024-11-11T08:26:37.692575Z",
     "iopub.status.idle": "2024-11-11T08:27:06.310540Z",
     "shell.execute_reply": "2024-11-11T08:27:06.310071Z"
    },
    "papermill": {
     "duration": 28.621292,
     "end_time": "2024-11-11T08:27:06.311205",
     "exception": false,
     "start_time": "2024-11-11T08:26:37.689913",
     "status": "completed"
    },
    "tags": []
   },
   "outputs": [
    {
     "data": {
      "application/vnd.jupyter.widget-view+json": {
       "model_id": "d29c130bd4a24345a4c21964467cae2a",
       "version_major": 2,
       "version_minor": 0
      },
      "text/plain": [
       "Loading checkpoint shards:   0%|          | 0/12 [00:00<?, ?it/s]"
      ]
     },
     "metadata": {},
     "output_type": "display_data"
    }
   ],
   "source": [
    "from transformers import AutoTokenizer, AutoModelForCausalLM\n",
    "import torch\n",
    "import pandas as pd\n",
    "from more_itertools import batched\n",
    "from tqdm import tqdm\n",
    "from pathlib import Path\n",
    "\n",
    "MODEL_ID = \"google/gemma-2-27b-it\"\n",
    "\n",
    "# Initialize tokenizer and model\n",
    "tokenizer = AutoTokenizer.from_pretrained(MODEL_ID)\n",
    "model = AutoModelForCausalLM.from_pretrained(\n",
    "    MODEL_ID,\n",
    "    device_map=\"cuda:0\",\n",
    "    torch_dtype=torch.bfloat16,\n",
    ")"
   ]
  },
  {
   "cell_type": "code",
   "execution_count": 2,
   "id": "ab2b5b85",
   "metadata": {
    "execution": {
     "iopub.execute_input": "2024-11-11T08:27:06.317948Z",
     "iopub.status.busy": "2024-11-11T08:27:06.317760Z",
     "iopub.status.idle": "2024-11-11T08:27:06.320109Z",
     "shell.execute_reply": "2024-11-11T08:27:06.319772Z"
    },
    "papermill": {
     "duration": 0.005893,
     "end_time": "2024-11-11T08:27:06.320625",
     "exception": false,
     "start_time": "2024-11-11T08:27:06.314732",
     "status": "completed"
    },
    "tags": []
   },
   "outputs": [],
   "source": [
    "cwd = Path.cwd().parent"
   ]
  },
  {
   "cell_type": "code",
   "execution_count": 3,
   "id": "6ccaaef4",
   "metadata": {
    "execution": {
     "iopub.execute_input": "2024-11-11T08:27:06.325743Z",
     "iopub.status.busy": "2024-11-11T08:27:06.325626Z",
     "iopub.status.idle": "2024-11-11T08:27:34.269719Z",
     "shell.execute_reply": "2024-11-11T08:27:34.269285Z"
    },
    "papermill": {
     "duration": 27.947371,
     "end_time": "2024-11-11T08:27:34.270442",
     "exception": false,
     "start_time": "2024-11-11T08:27:06.323071",
     "status": "completed"
    },
    "tags": []
   },
   "outputs": [],
   "source": [
    "ground_truth = pd.read_csv(next(cwd.glob(\"**/standup_data.csv\")))\n",
    "transcript = pd.read_csv(next(cwd.glob(\"**/standup_transcripts.csv\")))"
   ]
  },
  {
   "cell_type": "code",
   "execution_count": 4,
   "id": "434ee996",
   "metadata": {
    "execution": {
     "iopub.execute_input": "2024-11-11T08:27:34.276893Z",
     "iopub.status.busy": "2024-11-11T08:27:34.276690Z",
     "iopub.status.idle": "2024-11-11T08:27:34.279986Z",
     "shell.execute_reply": "2024-11-11T08:27:34.279650Z"
    },
    "papermill": {
     "duration": 0.006759,
     "end_time": "2024-11-11T08:27:34.280486",
     "exception": false,
     "start_time": "2024-11-11T08:27:34.273727",
     "status": "completed"
    },
    "tags": []
   },
   "outputs": [],
   "source": [
    "INSTRUCTIONS = [\n",
    "    \"Extract the key humorous lines and punchlines for this stand-up comedy transcript. Focus on the quotes highlighting the main comedic moments. List of quotes:\",\n",
    "    \"The following is a stand-up comedy transcript. When performed in front of a live audience, which jokes do you think made the audience laugh?  List of quotes:\",\n",
    "    \"You are a person who enjoys aggressive humor. Extract the key humorous lines and punchlines for this stand-up comedy transcript. Focus on the quotes highlighting the main comedic moments. List of quotes:\",\n",
    "    \"You are a person who enjoys self-enhancing humor. Extract the key humorous lines and punchlines for this stand-up comedy transcript. Focus on the quotes highlighting the main comedic moments. List of quotes:\",\n",
    "    # \"You are a person who enjoys self-deprecating humor. Extract the key humorous lines and punchlines for this stand-up comedy transcript. Focus on the quotes highlighting the main comedic moments. List of quotes:\",\n",
    "    # \"You are a person who enjoys dark humor. Extract the key humorous lines and punchlines for this stand-up comedy transcript. Focus on the quotes highlighting the main comedic moments. List of quotes:\",\n",
    "    # \"You are a person who enjoys affiliative humor. Extract the key humorous lines and punchlines for this stand-up comedy transcript. Focus on the quotes highlighting the main comedic moments. List of quotes:\",\n",
    "    # \"The following is a stand-up comedy transcript. What are the funniest punchlines from the transcript. List of quotes:\",\n",
    "    # \"Below is a transcript from a stand-up comedy routine. Analyze the transcript and extract the quotes that are most likely to have made the audience laugh. List of quotes:\",\n",
    "    # \"The following is a stand-up comedy transcript. When preformed in front of a live audience, which jokes do you think made the audience laugh? List of quotes:\",\n",
    "    # \"Pretend that you are a stand-up comedian reading the following stand-up comedy transcript. Focus on the quotes highlighting the main comedic moments. List of quotes:\",\n",
    "    # \"Pretend that you are a stand-up comedy fan reading the following stand-up comedy transcript. Focus on the quotes highlighting the main comedic moments. List of quotes:\",\n",
    "    # \"Pretend that you are a stand-up comedy critic reading the following stand-up comedy transcript. Focus on the quotes highlighting the main comedic moments. List of quotes:\",\n",
    "    #\"Analyze the stand-up comedy transcript below. Which lines and punchlines do you think delivered the biggest laughs to the audience? List of quotes:\", \n",
    "    #\"As a person who enjoys witty, intellectual humor, extract the key humorous lines and punchlines from this stand-up comedy transcript. Focus on the quotes that demonstrate clever wordplay or insights. List of quotes:\",\n",
    "    #\"This is a transcript from a stand-up routine. Identify the lines and punchlines that likely had the strongest comedic impact during the performance. List of quotes:\",\n",
    "    #\"Pretend you're an audience member at this stand-up show. Which lines do you think got the biggest laughs? Focus on key moments of humor. List of quotes:\",\n",
    "    #\"This is a transcript of a live stand-up performance. Which quotes do you believe would have resonated the most with the audience? Focus on key punchlines. List of quotes:\",\n",
    "    #\"Imagine you are a comedian reviewing this stand-up routine. Identify the funniest moments and lines where the punchlines landed the hardest. List of quotes:\",\n",
    "    #\"Read through the stand-up comedy transcript and extract the lines that best capture the humor and timing of the performance. Focus on punchlines that likely had the audience laughing. List of quotes:\",\n",
    "    #\"This is a stand-up comedy transcript. Analyze the content and extract the lines that most effectively build up to or deliver punchlines. List of quotes:\",\n",
    "    #\"Pretend you're watching this performance live. What do you think were the standout comedic lines and punchlines that elicited the loudest laughs? List of quotes:\",\n",
    "    #\"Imagine you are writing a review of this stand-up performance. What lines and punchlines would you highlight as the funniest moments? List of quotes:\"\n",
    "]\n",
    "\n",
    "CONTENTS = [\n",
    "    \"\",\n",
    "    \"Sure, here are the key humorous lines:\",\n",
    "    \"Here are some lines and punchlines that could be funny:\",\n",
    "    \"Got it! Here are the main punchlines and comedic highlights:\",\n",
    "    # \"Here's a selection of the funniest quotes from the transcript:\",\n",
    "    # \"I've picked out the key humorous moments for you:\",\n",
    "    # \"Below are the standout lines and punchlines from the performance:\",\n",
    "    # \"Here's a breakdown of the top quotes that likely got the biggest laughs:\",\n",
    "    # \"Take a look at these key comedic lines from the routine:\",\n",
    "    # \"Here's a list of the most memorable punchlines from the set:\",\n",
    "    # \"Check out these quotes—some of the best comedic moments from the transcript:\",\n",
    "    # \"Here are the funniest moments and punchlines I found in the transcript:\",\n",
    "    # \"Here's what I've identified as the standout lines and punchlines in this comedy routine:\" \n",
    "]"
   ]
  },
  {
   "cell_type": "code",
   "execution_count": 5,
   "id": "071d8a27",
   "metadata": {
    "execution": {
     "iopub.execute_input": "2024-11-11T08:27:34.285700Z",
     "iopub.status.busy": "2024-11-11T08:27:34.285585Z",
     "iopub.status.idle": "2024-11-11T08:27:34.357633Z",
     "shell.execute_reply": "2024-11-11T08:27:34.357288Z"
    },
    "papermill": {
     "duration": 0.075183,
     "end_time": "2024-11-11T08:27:34.358150",
     "exception": false,
     "start_time": "2024-11-11T08:27:34.282967",
     "status": "completed"
    },
    "tags": []
   },
   "outputs": [
    {
     "data": {
      "text/html": [
       "<div>\n",
       "<style scoped>\n",
       "    .dataframe tbody tr th:only-of-type {\n",
       "        vertical-align: middle;\n",
       "    }\n",
       "\n",
       "    .dataframe tbody tr th {\n",
       "        vertical-align: top;\n",
       "    }\n",
       "\n",
       "    .dataframe thead th {\n",
       "        text-align: right;\n",
       "    }\n",
       "</style>\n",
       "<table border=\"1\" class=\"dataframe\">\n",
       "  <thead>\n",
       "    <tr style=\"text-align: right;\">\n",
       "      <th></th>\n",
       "      <th>transcript</th>\n",
       "      <th>ground_truth</th>\n",
       "      <th>instruction</th>\n",
       "      <th>content</th>\n",
       "      <th>gt_input</th>\n",
       "      <th>model_input</th>\n",
       "    </tr>\n",
       "    <tr>\n",
       "      <th>comedian</th>\n",
       "      <th></th>\n",
       "      <th></th>\n",
       "      <th></th>\n",
       "      <th></th>\n",
       "      <th></th>\n",
       "      <th></th>\n",
       "    </tr>\n",
       "  </thead>\n",
       "  <tbody>\n",
       "    <tr>\n",
       "      <th>Anthony_Jeselnik</th>\n",
       "      <td>When I was a kid, I used to fantasize about ge...</td>\n",
       "      <td>1. So poor I remember, just so I could go to m...</td>\n",
       "      <td>Extract the key humorous lines and punchlines ...</td>\n",
       "      <td></td>\n",
       "      <td>&lt;bos&gt;&lt;start_of_turn&gt;user\\nExtract the key humo...</td>\n",
       "      <td>&lt;bos&gt;&lt;start_of_turn&gt;user\\nExtract the key humo...</td>\n",
       "    </tr>\n",
       "    <tr>\n",
       "      <th>Anthony_Jeselnik</th>\n",
       "      <td>When I was a kid, I used to fantasize about ge...</td>\n",
       "      <td>1. So poor I remember, just so I could go to m...</td>\n",
       "      <td>Extract the key humorous lines and punchlines ...</td>\n",
       "      <td>Sure, here are the key humorous lines:</td>\n",
       "      <td>&lt;bos&gt;&lt;start_of_turn&gt;user\\nExtract the key humo...</td>\n",
       "      <td>&lt;bos&gt;&lt;start_of_turn&gt;user\\nExtract the key humo...</td>\n",
       "    </tr>\n",
       "    <tr>\n",
       "      <th>Anthony_Jeselnik</th>\n",
       "      <td>When I was a kid, I used to fantasize about ge...</td>\n",
       "      <td>1. So poor I remember, just so I could go to m...</td>\n",
       "      <td>Extract the key humorous lines and punchlines ...</td>\n",
       "      <td>Here are some lines and punchlines that could ...</td>\n",
       "      <td>&lt;bos&gt;&lt;start_of_turn&gt;user\\nExtract the key humo...</td>\n",
       "      <td>&lt;bos&gt;&lt;start_of_turn&gt;user\\nExtract the key humo...</td>\n",
       "    </tr>\n",
       "    <tr>\n",
       "      <th>Anthony_Jeselnik</th>\n",
       "      <td>When I was a kid, I used to fantasize about ge...</td>\n",
       "      <td>1. So poor I remember, just so I could go to m...</td>\n",
       "      <td>Extract the key humorous lines and punchlines ...</td>\n",
       "      <td>Got it! Here are the main punchlines and comed...</td>\n",
       "      <td>&lt;bos&gt;&lt;start_of_turn&gt;user\\nExtract the key humo...</td>\n",
       "      <td>&lt;bos&gt;&lt;start_of_turn&gt;user\\nExtract the key humo...</td>\n",
       "    </tr>\n",
       "    <tr>\n",
       "      <th>Anthony_Jeselnik</th>\n",
       "      <td>When I was a kid, I used to fantasize about ge...</td>\n",
       "      <td>1. So poor I remember, just so I could go to m...</td>\n",
       "      <td>The following is a stand-up comedy transcript....</td>\n",
       "      <td></td>\n",
       "      <td>&lt;bos&gt;&lt;start_of_turn&gt;user\\nThe following is a s...</td>\n",
       "      <td>&lt;bos&gt;&lt;start_of_turn&gt;user\\nThe following is a s...</td>\n",
       "    </tr>\n",
       "    <tr>\n",
       "      <th>...</th>\n",
       "      <td>...</td>\n",
       "      <td>...</td>\n",
       "      <td>...</td>\n",
       "      <td>...</td>\n",
       "      <td>...</td>\n",
       "      <td>...</td>\n",
       "    </tr>\n",
       "    <tr>\n",
       "      <th>Tom_Segura_3</th>\n",
       "      <td>Probably checked in to 400 hotels this year. A...</td>\n",
       "      <td>1. And the guy goes, “Whoa. Are you Japanese?”...</td>\n",
       "      <td>You are a person who enjoys aggressive humor. ...</td>\n",
       "      <td>Got it! Here are the main punchlines and comed...</td>\n",
       "      <td>&lt;bos&gt;&lt;start_of_turn&gt;user\\nYou are a person who...</td>\n",
       "      <td>&lt;bos&gt;&lt;start_of_turn&gt;user\\nYou are a person who...</td>\n",
       "    </tr>\n",
       "    <tr>\n",
       "      <th>Tom_Segura_3</th>\n",
       "      <td>Probably checked in to 400 hotels this year. A...</td>\n",
       "      <td>1. And the guy goes, “Whoa. Are you Japanese?”...</td>\n",
       "      <td>You are a person who enjoys self-enhancing hum...</td>\n",
       "      <td></td>\n",
       "      <td>&lt;bos&gt;&lt;start_of_turn&gt;user\\nYou are a person who...</td>\n",
       "      <td>&lt;bos&gt;&lt;start_of_turn&gt;user\\nYou are a person who...</td>\n",
       "    </tr>\n",
       "    <tr>\n",
       "      <th>Tom_Segura_3</th>\n",
       "      <td>Probably checked in to 400 hotels this year. A...</td>\n",
       "      <td>1. And the guy goes, “Whoa. Are you Japanese?”...</td>\n",
       "      <td>You are a person who enjoys self-enhancing hum...</td>\n",
       "      <td>Sure, here are the key humorous lines:</td>\n",
       "      <td>&lt;bos&gt;&lt;start_of_turn&gt;user\\nYou are a person who...</td>\n",
       "      <td>&lt;bos&gt;&lt;start_of_turn&gt;user\\nYou are a person who...</td>\n",
       "    </tr>\n",
       "    <tr>\n",
       "      <th>Tom_Segura_3</th>\n",
       "      <td>Probably checked in to 400 hotels this year. A...</td>\n",
       "      <td>1. And the guy goes, “Whoa. Are you Japanese?”...</td>\n",
       "      <td>You are a person who enjoys self-enhancing hum...</td>\n",
       "      <td>Here are some lines and punchlines that could ...</td>\n",
       "      <td>&lt;bos&gt;&lt;start_of_turn&gt;user\\nYou are a person who...</td>\n",
       "      <td>&lt;bos&gt;&lt;start_of_turn&gt;user\\nYou are a person who...</td>\n",
       "    </tr>\n",
       "    <tr>\n",
       "      <th>Tom_Segura_3</th>\n",
       "      <td>Probably checked in to 400 hotels this year. A...</td>\n",
       "      <td>1. And the guy goes, “Whoa. Are you Japanese?”...</td>\n",
       "      <td>You are a person who enjoys self-enhancing hum...</td>\n",
       "      <td>Got it! Here are the main punchlines and comed...</td>\n",
       "      <td>&lt;bos&gt;&lt;start_of_turn&gt;user\\nYou are a person who...</td>\n",
       "      <td>&lt;bos&gt;&lt;start_of_turn&gt;user\\nYou are a person who...</td>\n",
       "    </tr>\n",
       "  </tbody>\n",
       "</table>\n",
       "<p>816 rows × 6 columns</p>\n",
       "</div>"
      ],
      "text/plain": [
       "                                                         transcript  \\\n",
       "comedian                                                              \n",
       "Anthony_Jeselnik  When I was a kid, I used to fantasize about ge...   \n",
       "Anthony_Jeselnik  When I was a kid, I used to fantasize about ge...   \n",
       "Anthony_Jeselnik  When I was a kid, I used to fantasize about ge...   \n",
       "Anthony_Jeselnik  When I was a kid, I used to fantasize about ge...   \n",
       "Anthony_Jeselnik  When I was a kid, I used to fantasize about ge...   \n",
       "...                                                             ...   \n",
       "Tom_Segura_3      Probably checked in to 400 hotels this year. A...   \n",
       "Tom_Segura_3      Probably checked in to 400 hotels this year. A...   \n",
       "Tom_Segura_3      Probably checked in to 400 hotels this year. A...   \n",
       "Tom_Segura_3      Probably checked in to 400 hotels this year. A...   \n",
       "Tom_Segura_3      Probably checked in to 400 hotels this year. A...   \n",
       "\n",
       "                                                       ground_truth  \\\n",
       "comedian                                                              \n",
       "Anthony_Jeselnik  1. So poor I remember, just so I could go to m...   \n",
       "Anthony_Jeselnik  1. So poor I remember, just so I could go to m...   \n",
       "Anthony_Jeselnik  1. So poor I remember, just so I could go to m...   \n",
       "Anthony_Jeselnik  1. So poor I remember, just so I could go to m...   \n",
       "Anthony_Jeselnik  1. So poor I remember, just so I could go to m...   \n",
       "...                                                             ...   \n",
       "Tom_Segura_3      1. And the guy goes, “Whoa. Are you Japanese?”...   \n",
       "Tom_Segura_3      1. And the guy goes, “Whoa. Are you Japanese?”...   \n",
       "Tom_Segura_3      1. And the guy goes, “Whoa. Are you Japanese?”...   \n",
       "Tom_Segura_3      1. And the guy goes, “Whoa. Are you Japanese?”...   \n",
       "Tom_Segura_3      1. And the guy goes, “Whoa. Are you Japanese?”...   \n",
       "\n",
       "                                                        instruction  \\\n",
       "comedian                                                              \n",
       "Anthony_Jeselnik  Extract the key humorous lines and punchlines ...   \n",
       "Anthony_Jeselnik  Extract the key humorous lines and punchlines ...   \n",
       "Anthony_Jeselnik  Extract the key humorous lines and punchlines ...   \n",
       "Anthony_Jeselnik  Extract the key humorous lines and punchlines ...   \n",
       "Anthony_Jeselnik  The following is a stand-up comedy transcript....   \n",
       "...                                                             ...   \n",
       "Tom_Segura_3      You are a person who enjoys aggressive humor. ...   \n",
       "Tom_Segura_3      You are a person who enjoys self-enhancing hum...   \n",
       "Tom_Segura_3      You are a person who enjoys self-enhancing hum...   \n",
       "Tom_Segura_3      You are a person who enjoys self-enhancing hum...   \n",
       "Tom_Segura_3      You are a person who enjoys self-enhancing hum...   \n",
       "\n",
       "                                                            content  \\\n",
       "comedian                                                              \n",
       "Anthony_Jeselnik                                                      \n",
       "Anthony_Jeselnik             Sure, here are the key humorous lines:   \n",
       "Anthony_Jeselnik  Here are some lines and punchlines that could ...   \n",
       "Anthony_Jeselnik  Got it! Here are the main punchlines and comed...   \n",
       "Anthony_Jeselnik                                                      \n",
       "...                                                             ...   \n",
       "Tom_Segura_3      Got it! Here are the main punchlines and comed...   \n",
       "Tom_Segura_3                                                          \n",
       "Tom_Segura_3                 Sure, here are the key humorous lines:   \n",
       "Tom_Segura_3      Here are some lines and punchlines that could ...   \n",
       "Tom_Segura_3      Got it! Here are the main punchlines and comed...   \n",
       "\n",
       "                                                           gt_input  \\\n",
       "comedian                                                              \n",
       "Anthony_Jeselnik  <bos><start_of_turn>user\\nExtract the key humo...   \n",
       "Anthony_Jeselnik  <bos><start_of_turn>user\\nExtract the key humo...   \n",
       "Anthony_Jeselnik  <bos><start_of_turn>user\\nExtract the key humo...   \n",
       "Anthony_Jeselnik  <bos><start_of_turn>user\\nExtract the key humo...   \n",
       "Anthony_Jeselnik  <bos><start_of_turn>user\\nThe following is a s...   \n",
       "...                                                             ...   \n",
       "Tom_Segura_3      <bos><start_of_turn>user\\nYou are a person who...   \n",
       "Tom_Segura_3      <bos><start_of_turn>user\\nYou are a person who...   \n",
       "Tom_Segura_3      <bos><start_of_turn>user\\nYou are a person who...   \n",
       "Tom_Segura_3      <bos><start_of_turn>user\\nYou are a person who...   \n",
       "Tom_Segura_3      <bos><start_of_turn>user\\nYou are a person who...   \n",
       "\n",
       "                                                        model_input  \n",
       "comedian                                                             \n",
       "Anthony_Jeselnik  <bos><start_of_turn>user\\nExtract the key humo...  \n",
       "Anthony_Jeselnik  <bos><start_of_turn>user\\nExtract the key humo...  \n",
       "Anthony_Jeselnik  <bos><start_of_turn>user\\nExtract the key humo...  \n",
       "Anthony_Jeselnik  <bos><start_of_turn>user\\nExtract the key humo...  \n",
       "Anthony_Jeselnik  <bos><start_of_turn>user\\nThe following is a s...  \n",
       "...                                                             ...  \n",
       "Tom_Segura_3      <bos><start_of_turn>user\\nYou are a person who...  \n",
       "Tom_Segura_3      <bos><start_of_turn>user\\nYou are a person who...  \n",
       "Tom_Segura_3      <bos><start_of_turn>user\\nYou are a person who...  \n",
       "Tom_Segura_3      <bos><start_of_turn>user\\nYou are a person who...  \n",
       "Tom_Segura_3      <bos><start_of_turn>user\\nYou are a person who...  \n",
       "\n",
       "[816 rows x 6 columns]"
      ]
     },
     "execution_count": 5,
     "metadata": {},
     "output_type": "execute_result"
    }
   ],
   "source": [
    "gt = ground_truth.groupby(\"comedian\")[\"sentence\"].apply(list).apply(lambda sentences: \"\\n\".join([f\"{i + 1}. {s}\" for i, s in enumerate(sentences)]))\n",
    "df = transcript.set_index(\"comedian\").join(gt).rename(columns={\"sentence\": \"ground_truth\"})\n",
    "\n",
    "df[\"instruction\"] = [INSTRUCTIONS] * len(df)\n",
    "df = df.explode(\"instruction\")\n",
    "df[\"content\"] = [CONTENTS] * len(df)\n",
    "df = df.explode(\"content\")\n",
    "\n",
    "def gt_chat_template(row):\n",
    "    return tokenizer.apply_chat_template([\n",
    "        # {\"role\": \"system\", \"content\": \"\"},\n",
    "        {\"role\": \"user\", \"content\": row[\"instruction\"] + \"\\n\" + row[\"transcript\"]},\n",
    "        {\"role\": \"assistant\", \"content\": row[\"content\"] + \"\\n\" + row[\"ground_truth\"]},\n",
    "    ], tokenize=False)\n",
    "\n",
    "df[\"gt_input\"] = df.apply(gt_chat_template, axis=1)\n",
    "\n",
    "def model_chat_template(row):\n",
    "    return tokenizer.apply_chat_template([\n",
    "        # {\"role\": \"system\", \"content\": \"\"},\n",
    "        {\"role\": \"user\", \"content\": row[\"instruction\"] + \"\\n\" + row[\"transcript\"]},\n",
    "    ], tokenize=False)\n",
    "\n",
    "df[\"model_input\"] = df.apply(model_chat_template, axis=1)\n",
    "\n",
    "df"
   ]
  },
  {
   "cell_type": "code",
   "execution_count": 6,
   "id": "3f37cce0",
   "metadata": {
    "execution": {
     "iopub.execute_input": "2024-11-11T08:27:34.363758Z",
     "iopub.status.busy": "2024-11-11T08:27:34.363637Z",
     "iopub.status.idle": "2024-11-11T08:27:34.376063Z",
     "shell.execute_reply": "2024-11-11T08:27:34.375688Z"
    },
    "papermill": {
     "duration": 0.015714,
     "end_time": "2024-11-11T08:27:34.376537",
     "exception": false,
     "start_time": "2024-11-11T08:27:34.360823",
     "status": "completed"
    },
    "tags": []
   },
   "outputs": [],
   "source": [
    "U = model.lm_head.weight.float().detach()"
   ]
  },
  {
   "cell_type": "code",
   "execution_count": 7,
   "id": "05603f5d",
   "metadata": {
    "execution": {
     "iopub.execute_input": "2024-11-11T08:27:34.382545Z",
     "iopub.status.busy": "2024-11-11T08:27:34.382423Z",
     "iopub.status.idle": "2024-11-11T08:27:35.596455Z",
     "shell.execute_reply": "2024-11-11T08:27:35.596018Z"
    },
    "papermill": {
     "duration": 1.217592,
     "end_time": "2024-11-11T08:27:35.597006",
     "exception": false,
     "start_time": "2024-11-11T08:27:34.379414",
     "status": "completed"
    },
    "tags": []
   },
   "outputs": [
    {
     "name": "stderr",
     "output_type": "stream",
     "text": [
      "\r",
      "  0%|                                                                                                                                                                                                                                                                                    | 0/51 [00:00<?, ?it/s]"
     ]
    },
    {
     "name": "stderr",
     "output_type": "stream",
     "text": [
      "\r",
      "  2%|█████▎                                                                                                                                                                                                                                                                      | 1/51 [00:00<00:13,  3.70it/s]"
     ]
    },
    {
     "name": "stderr",
     "output_type": "stream",
     "text": [
      "\r",
      " 14%|████████████████████████████████████▊                                                                                                                                                                                                                                       | 7/51 [00:00<00:01, 22.36it/s]"
     ]
    },
    {
     "name": "stderr",
     "output_type": "stream",
     "text": [
      "\r",
      " 25%|████████████████████████████████████████████████████████████████████                                                                                                                                                                                                       | 13/51 [00:00<00:01, 33.02it/s]"
     ]
    },
    {
     "name": "stderr",
     "output_type": "stream",
     "text": [
      "\r",
      " 37%|███████████████████████████████████████████████████████████████████████████████████████████████████▍                                                                                                                                                                       | 19/51 [00:00<00:00, 40.00it/s]"
     ]
    },
    {
     "name": "stderr",
     "output_type": "stream",
     "text": [
      "\r",
      " 49%|██████████████████████████████████████████████████████████████████████████████████████████████████████████████████████████████████▉                                                                                                                                        | 25/51 [00:00<00:00, 44.84it/s]"
     ]
    },
    {
     "name": "stderr",
     "output_type": "stream",
     "text": [
      "\r",
      " 61%|██████████████████████████████████████████████████████████████████████████████████████████████████████████████████████████████████████████████████████████████████▎                                                                                                        | 31/51 [00:00<00:00, 47.11it/s]"
     ]
    },
    {
     "name": "stderr",
     "output_type": "stream",
     "text": [
      "\r",
      " 73%|█████████████████████████████████████████████████████████████████████████████████████████████████████████████████████████████████████████████████████████████████████████████████████████████████▋                                                                         | 37/51 [00:00<00:00, 49.27it/s]"
     ]
    },
    {
     "name": "stderr",
     "output_type": "stream",
     "text": [
      "\r",
      " 84%|█████████████████████████████████████████████████████████████████████████████████████████████████████████████████████████████████████████████████████████████████████████████████████████████████████████████████████████████████                                          | 43/51 [00:01<00:00, 50.34it/s]"
     ]
    },
    {
     "name": "stderr",
     "output_type": "stream",
     "text": [
      "\r",
      " 96%|████████████████████████████████████████████████████████████████████████████████████████████████████████████████████████████████████████████████████████████████████████████████████████████████████████████████████████████████████████████████████████████████▌          | 49/51 [00:01<00:00, 50.75it/s]"
     ]
    },
    {
     "name": "stderr",
     "output_type": "stream",
     "text": [
      "\r",
      "100%|███████████████████████████████████████████████████████████████████████████████████████████████████████████████████████████████████████████████████████████████████████████████████████████████████████████████████████████████████████████████████████████████████████████| 51/51 [00:01<00:00, 42.20it/s]"
     ]
    },
    {
     "name": "stderr",
     "output_type": "stream",
     "text": [
      "\n"
     ]
    }
   ],
   "source": [
    "# use unembedding tokenization form\n",
    "def get_gt_representation(batch_of_strs: list, subspace_size: int = 8) -> torch.Tensor:\n",
    "    inputs = tokenizer(batch_of_strs, return_tensors=\"pt\", padding=True, truncation=False).to(model.device)\n",
    "    *_, subs_repr = torch.pca_lowrank(U[inputs[\"input_ids\"]], q=subspace_size)\n",
    "    return subs_repr\n",
    "\n",
    "gt_representations = {\n",
    "    comedian: get_gt_representation(batch.tolist())\n",
    "    for comedian, batch in tqdm(df.groupby(\"comedian\")[\"model_input\"])\n",
    "}"
   ]
  },
  {
   "cell_type": "code",
   "execution_count": 8,
   "id": "142ebf6e",
   "metadata": {
    "execution": {
     "iopub.execute_input": "2024-11-11T08:27:35.604040Z",
     "iopub.status.busy": "2024-11-11T08:27:35.603902Z",
     "iopub.status.idle": "2024-11-11T08:27:35.606802Z",
     "shell.execute_reply": "2024-11-11T08:27:35.606476Z"
    },
    "papermill": {
     "duration": 0.006798,
     "end_time": "2024-11-11T08:27:35.607303",
     "exception": false,
     "start_time": "2024-11-11T08:27:35.600505",
     "status": "completed"
    },
    "tags": []
   },
   "outputs": [
    {
     "data": {
      "text/plain": [
       "torch.Size([16, 4608, 8])"
      ]
     },
     "execution_count": 8,
     "metadata": {},
     "output_type": "execute_result"
    }
   ],
   "source": [
    "gt_representations[\"Ali_Wong\"].shape"
   ]
  },
  {
   "cell_type": "code",
   "execution_count": 9,
   "id": "fad17d44",
   "metadata": {
    "execution": {
     "iopub.execute_input": "2024-11-11T08:27:35.614059Z",
     "iopub.status.busy": "2024-11-11T08:27:35.613946Z",
     "iopub.status.idle": "2024-11-11T08:37:32.164022Z",
     "shell.execute_reply": "2024-11-11T08:37:32.163545Z"
    },
    "papermill": {
     "duration": 596.554066,
     "end_time": "2024-11-11T08:37:32.164586",
     "exception": false,
     "start_time": "2024-11-11T08:27:35.610520",
     "status": "completed"
    },
    "tags": []
   },
   "outputs": [
    {
     "name": "stderr",
     "output_type": "stream",
     "text": [
      "\r",
      "  0%|                                                                                                                                                                                                                                                                                    | 0/51 [00:00<?, ?it/s]"
     ]
    },
    {
     "name": "stderr",
     "output_type": "stream",
     "text": [
      "The 'max_batch_size' argument of HybridCache is deprecated and will be removed in v4.46. Use the more precisely named 'batch_size' argument instead.\n"
     ]
    },
    {
     "name": "stderr",
     "output_type": "stream",
     "text": [
      "Starting from v4.46, the `logits` model output will have the same type as the model (except at train time, where it will always be FP32)\n"
     ]
    },
    {
     "name": "stderr",
     "output_type": "stream",
     "text": [
      "\r",
      "  2%|█████▎                                                                                                                                                                                                                                                                      | 1/51 [00:11<09:28, 11.37s/it]"
     ]
    },
    {
     "name": "stderr",
     "output_type": "stream",
     "text": [
      "\r",
      "  4%|██████████▌                                                                                                                                                                                                                                                                 | 2/51 [00:21<08:48, 10.79s/it]"
     ]
    },
    {
     "name": "stderr",
     "output_type": "stream",
     "text": [
      "\r",
      "  6%|███████████████▊                                                                                                                                                                                                                                                            | 3/51 [00:32<08:28, 10.60s/it]"
     ]
    },
    {
     "name": "stderr",
     "output_type": "stream",
     "text": [
      "\r",
      "  8%|█████████████████████                                                                                                                                                                                                                                                       | 4/51 [00:50<10:39, 13.61s/it]"
     ]
    },
    {
     "name": "stderr",
     "output_type": "stream",
     "text": [
      "\r",
      " 10%|██████████████████████████▎                                                                                                                                                                                                                                                 | 5/51 [01:07<11:23, 14.86s/it]"
     ]
    },
    {
     "name": "stderr",
     "output_type": "stream",
     "text": [
      "\r",
      " 12%|███████████████████████████████▌                                                                                                                                                                                                                                            | 6/51 [01:16<09:45, 13.01s/it]"
     ]
    },
    {
     "name": "stderr",
     "output_type": "stream",
     "text": [
      "\r",
      " 14%|████████████████████████████████████▊                                                                                                                                                                                                                                       | 7/51 [01:30<09:38, 13.14s/it]"
     ]
    },
    {
     "name": "stderr",
     "output_type": "stream",
     "text": [
      "\r",
      " 16%|██████████████████████████████████████████                                                                                                                                                                                                                                  | 8/51 [01:42<09:08, 12.76s/it]"
     ]
    },
    {
     "name": "stderr",
     "output_type": "stream",
     "text": [
      "\r",
      " 18%|███████████████████████████████████████████████▎                                                                                                                                                                                                                            | 9/51 [01:56<09:16, 13.26s/it]"
     ]
    },
    {
     "name": "stderr",
     "output_type": "stream",
     "text": [
      "\r",
      " 20%|████████████████████████████████████████████████████▎                                                                                                                                                                                                                      | 10/51 [02:15<10:18, 15.07s/it]"
     ]
    },
    {
     "name": "stderr",
     "output_type": "stream",
     "text": [
      "\r",
      " 22%|█████████████████████████████████████████████████████████▌                                                                                                                                                                                                                 | 11/51 [02:27<09:21, 14.04s/it]"
     ]
    },
    {
     "name": "stderr",
     "output_type": "stream",
     "text": [
      "\r",
      " 24%|██████████████████████████████████████████████████████████████▊                                                                                                                                                                                                            | 12/51 [02:38<08:30, 13.08s/it]"
     ]
    },
    {
     "name": "stderr",
     "output_type": "stream",
     "text": [
      "\r",
      " 25%|████████████████████████████████████████████████████████████████████                                                                                                                                                                                                       | 13/51 [02:49<07:51, 12.42s/it]"
     ]
    },
    {
     "name": "stderr",
     "output_type": "stream",
     "text": [
      "\r",
      " 27%|█████████████████████████████████████████████████████████████████████████▎                                                                                                                                                                                                 | 14/51 [03:05<08:26, 13.69s/it]"
     ]
    },
    {
     "name": "stderr",
     "output_type": "stream",
     "text": [
      "\r",
      " 29%|██████████████████████████████████████████████████████████████████████████████▌                                                                                                                                                                                            | 15/51 [03:24<09:07, 15.22s/it]"
     ]
    },
    {
     "name": "stderr",
     "output_type": "stream",
     "text": [
      "\r",
      " 31%|███████████████████████████████████████████████████████████████████████████████████▊                                                                                                                                                                                       | 16/51 [03:26<06:36, 11.32s/it]"
     ]
    },
    {
     "name": "stderr",
     "output_type": "stream",
     "text": [
      "\r",
      " 33%|█████████████████████████████████████████████████████████████████████████████████████████                                                                                                                                                                                  | 17/51 [03:45<07:37, 13.47s/it]"
     ]
    },
    {
     "name": "stderr",
     "output_type": "stream",
     "text": [
      "\r",
      " 35%|██████████████████████████████████████████████████████████████████████████████████████████████▏                                                                                                                                                                            | 18/51 [03:59<07:29, 13.61s/it]"
     ]
    },
    {
     "name": "stderr",
     "output_type": "stream",
     "text": [
      "\r",
      " 37%|███████████████████████████████████████████████████████████████████████████████████████████████████▍                                                                                                                                                                       | 19/51 [04:10<06:52, 12.88s/it]"
     ]
    },
    {
     "name": "stderr",
     "output_type": "stream",
     "text": [
      "\r",
      " 39%|████████████████████████████████████████████████████████████████████████████████████████████████████████▋                                                                                                                                                                  | 20/51 [04:21<06:20, 12.27s/it]"
     ]
    },
    {
     "name": "stderr",
     "output_type": "stream",
     "text": [
      "\r",
      " 41%|█████████████████████████████████████████████████████████████████████████████████████████████████████████████▉                                                                                                                                                             | 21/51 [04:32<05:56, 11.88s/it]"
     ]
    },
    {
     "name": "stderr",
     "output_type": "stream",
     "text": [
      "\r",
      " 43%|███████████████████████████████████████████████████████████████████████████████████████████████████████████████████▏                                                                                                                                                       | 22/51 [04:34<04:17,  8.90s/it]"
     ]
    },
    {
     "name": "stderr",
     "output_type": "stream",
     "text": [
      "\r",
      " 45%|████████████████████████████████████████████████████████████████████████████████████████████████████████████████████████▍                                                                                                                                                  | 23/51 [04:44<04:18,  9.24s/it]"
     ]
    },
    {
     "name": "stderr",
     "output_type": "stream",
     "text": [
      "\r",
      " 47%|█████████████████████████████████████████████████████████████████████████████████████████████████████████████████████████████▋                                                                                                                                             | 24/51 [04:46<03:09,  7.01s/it]"
     ]
    },
    {
     "name": "stderr",
     "output_type": "stream",
     "text": [
      "\r",
      " 49%|██████████████████████████████████████████████████████████████████████████████████████████████████████████████████████████████████▉                                                                                                                                        | 25/51 [04:57<03:40,  8.48s/it]"
     ]
    },
    {
     "name": "stderr",
     "output_type": "stream",
     "text": [
      "\r",
      " 51%|████████████████████████████████████████████████████████████████████████████████████████████████████████████████████████████████████████                                                                                                                                   | 26/51 [05:11<04:07,  9.91s/it]"
     ]
    },
    {
     "name": "stderr",
     "output_type": "stream",
     "text": [
      "\r",
      " 53%|█████████████████████████████████████████████████████████████████████████████████████████████████████████████████████████████████████████████▎                                                                                                                             | 27/51 [05:28<04:50, 12.11s/it]"
     ]
    },
    {
     "name": "stderr",
     "output_type": "stream",
     "text": [
      "\r",
      " 55%|██████████████████████████████████████████████████████████████████████████████████████████████████████████████████████████████████████████████████▌                                                                                                                        | 28/51 [05:40<04:39, 12.14s/it]"
     ]
    },
    {
     "name": "stderr",
     "output_type": "stream",
     "text": [
      "\r",
      " 57%|███████████████████████████████████████████████████████████████████████████████████████████████████████████████████████████████████████████████████████▊                                                                                                                   | 29/51 [05:52<04:28, 12.20s/it]"
     ]
    },
    {
     "name": "stderr",
     "output_type": "stream",
     "text": [
      "\r",
      " 59%|█████████████████████████████████████████████████████████████████████████████████████████████████████████████████████████████████████████████████████████████                                                                                                              | 30/51 [06:04<04:09, 11.89s/it]"
     ]
    },
    {
     "name": "stderr",
     "output_type": "stream",
     "text": [
      "\r",
      " 61%|██████████████████████████████████████████████████████████████████████████████████████████████████████████████████████████████████████████████████████████████████▎                                                                                                        | 31/51 [06:14<03:45, 11.29s/it]"
     ]
    },
    {
     "name": "stderr",
     "output_type": "stream",
     "text": [
      "\r",
      " 63%|███████████████████████████████████████████████████████████████████████████████████████████████████████████████████████████████████████████████████████████████████████▌                                                                                                   | 32/51 [06:31<04:07, 13.02s/it]"
     ]
    },
    {
     "name": "stderr",
     "output_type": "stream",
     "text": [
      "\r",
      " 65%|████████████████████████████████████████████████████████████████████████████████████████████████████████████████████████████████████████████████████████████████████████████▊                                                                                              | 33/51 [06:42<03:46, 12.58s/it]"
     ]
    },
    {
     "name": "stderr",
     "output_type": "stream",
     "text": [
      "\r",
      " 67%|██████████████████████████████████████████████████████████████████████████████████████████████████████████████████████████████████████████████████████████████████████████████████                                                                                         | 34/51 [06:54<03:28, 12.28s/it]"
     ]
    },
    {
     "name": "stderr",
     "output_type": "stream",
     "text": [
      "\r",
      " 69%|███████████████████████████████████████████████████████████████████████████████████████████████████████████████████████████████████████████████████████████████████████████████████████▏                                                                                   | 35/51 [07:06<03:15, 12.24s/it]"
     ]
    },
    {
     "name": "stderr",
     "output_type": "stream",
     "text": [
      "\r",
      " 71%|████████████████████████████████████████████████████████████████████████████████████████████████████████████████████████████████████████████████████████████████████████████████████████████▍                                                                              | 36/51 [07:08<02:16,  9.11s/it]"
     ]
    },
    {
     "name": "stderr",
     "output_type": "stream",
     "text": [
      "\r",
      " 73%|█████████████████████████████████████████████████████████████████████████████████████████████████████████████████████████████████████████████████████████████████████████████████████████████████▋                                                                         | 37/51 [07:18<02:14,  9.60s/it]"
     ]
    },
    {
     "name": "stderr",
     "output_type": "stream",
     "text": [
      "\r",
      " 75%|██████████████████████████████████████████████████████████████████████████████████████████████████████████████████████████████████████████████████████████████████████████████████████████████████████▉                                                                    | 38/51 [07:20<01:34,  7.24s/it]"
     ]
    },
    {
     "name": "stderr",
     "output_type": "stream",
     "text": [
      "\r",
      " 76%|████████████████████████████████████████████████████████████████████████████████████████████████████████████████████████████████████████████████████████████████████████████████████████████████████████████▏                                                              | 39/51 [07:32<01:44,  8.69s/it]"
     ]
    },
    {
     "name": "stderr",
     "output_type": "stream",
     "text": [
      "\r",
      " 78%|█████████████████████████████████████████████████████████████████████████████████████████████████████████████████████████████████████████████████████████████████████████████████████████████████████████████████▍                                                         | 40/51 [07:49<02:03, 11.25s/it]"
     ]
    },
    {
     "name": "stderr",
     "output_type": "stream",
     "text": [
      "\r",
      " 80%|██████████████████████████████████████████████████████████████████████████████████████████████████████████████████████████████████████████████████████████████████████████████████████████████████████████████████████▋                                                    | 41/51 [08:06<02:07, 12.79s/it]"
     ]
    },
    {
     "name": "stderr",
     "output_type": "stream",
     "text": [
      "\r",
      " 82%|███████████████████████████████████████████████████████████████████████████████████████████████████████████████████████████████████████████████████████████████████████████████████████████████████████████████████████████▉                                               | 42/51 [08:23<02:06, 14.04s/it]"
     ]
    },
    {
     "name": "stderr",
     "output_type": "stream",
     "text": [
      "\r",
      " 84%|█████████████████████████████████████████████████████████████████████████████████████████████████████████████████████████████████████████████████████████████████████████████████████████████████████████████████████████████████                                          | 43/51 [08:32<01:41, 12.70s/it]"
     ]
    },
    {
     "name": "stderr",
     "output_type": "stream",
     "text": [
      "\r",
      " 86%|██████████████████████████████████████████████████████████████████████████████████████████████████████████████████████████████████████████████████████████████████████████████████████████████████████████████████████████████████████▎                                    | 44/51 [08:37<01:11, 10.24s/it]"
     ]
    },
    {
     "name": "stderr",
     "output_type": "stream",
     "text": [
      "\r",
      " 88%|███████████████████████████████████████████████████████████████████████████████████████████████████████████████████████████████████████████████████████████████████████████████████████████████████████████████████████████████████████████▌                               | 45/51 [08:42<00:51,  8.66s/it]"
     ]
    },
    {
     "name": "stderr",
     "output_type": "stream",
     "text": [
      "\r",
      " 90%|████████████████████████████████████████████████████████████████████████████████████████████████████████████████████████████████████████████████████████████████████████████████████████████████████████████████████████████████████████████████▊                          | 46/51 [08:57<00:53, 10.64s/it]"
     ]
    },
    {
     "name": "stderr",
     "output_type": "stream",
     "text": [
      "\r",
      " 92%|██████████████████████████████████████████████████████████████████████████████████████████████████████████████████████████████████████████████████████████████████████████████████████████████████████████████████████████████████████████████████████                     | 47/51 [09:11<00:46, 11.51s/it]"
     ]
    },
    {
     "name": "stderr",
     "output_type": "stream",
     "text": [
      "\r",
      " 94%|███████████████████████████████████████████████████████████████████████████████████████████████████████████████████████████████████████████████████████████████████████████████████████████████████████████████████████████████████████████████████████████▎               | 48/51 [09:28<00:39, 13.15s/it]"
     ]
    },
    {
     "name": "stderr",
     "output_type": "stream",
     "text": [
      "\r",
      " 96%|████████████████████████████████████████████████████████████████████████████████████████████████████████████████████████████████████████████████████████████████████████████████████████████████████████████████████████████████████████████████████████████████▌          | 49/51 [09:42<00:26, 13.50s/it]"
     ]
    },
    {
     "name": "stderr",
     "output_type": "stream",
     "text": [
      "\r",
      " 98%|█████████████████████████████████████████████████████████████████████████████████████████████████████████████████████████████████████████████████████████████████████████████████████████████████████████████████████████████████████████████████████████████████████▊     | 50/51 [09:43<00:09,  9.88s/it]"
     ]
    },
    {
     "name": "stderr",
     "output_type": "stream",
     "text": [
      "\r",
      "100%|███████████████████████████████████████████████████████████████████████████████████████████████████████████████████████████████████████████████████████████████████████████████████████████████████████████████████████████████████████████████████████████████████████████| 51/51 [09:56<00:00, 10.73s/it]"
     ]
    },
    {
     "name": "stderr",
     "output_type": "stream",
     "text": [
      "\r",
      "100%|███████████████████████████████████████████████████████████████████████████████████████████████████████████████████████████████████████████████████████████████████████████████████████████████████████████████████████████████████████████████████████████████████████████| 51/51 [09:56<00:00, 11.70s/it]"
     ]
    },
    {
     "name": "stderr",
     "output_type": "stream",
     "text": [
      "\n"
     ]
    }
   ],
   "source": [
    "def get_output_representation(batch_of_strs: list, number_of_tokens: int = 128, subspace_size: int = 8) -> torch.Tensor:\n",
    "    inputs = tokenizer(batch_of_strs, return_tensors=\"pt\", padding=True, truncation=False).to(model.device)\n",
    "    \n",
    "    with torch.inference_mode():\n",
    "        ids = model.generate(**inputs, max_new_tokens=number_of_tokens)\n",
    "    \n",
    "    *_, subs_repr = torch.pca_lowrank(U[ids], q=subspace_size)\n",
    "    return subs_repr\n",
    "        \n",
    "\n",
    "BATCH_SIZE = 12\n",
    "\n",
    "output_representations = {\n",
    "    comedian: torch.cat([get_output_representation(x) for x in batched(batch.tolist(), BATCH_SIZE)])\n",
    "    for comedian, batch in tqdm(df.groupby(\"comedian\")[\"gt_input\"])\n",
    "}"
   ]
  },
  {
   "cell_type": "code",
   "execution_count": 10,
   "id": "834aa9ff",
   "metadata": {
    "execution": {
     "iopub.execute_input": "2024-11-11T08:37:32.175329Z",
     "iopub.status.busy": "2024-11-11T08:37:32.175201Z",
     "iopub.status.idle": "2024-11-11T08:37:32.190438Z",
     "shell.execute_reply": "2024-11-11T08:37:32.190043Z"
    },
    "papermill": {
     "duration": 0.020951,
     "end_time": "2024-11-11T08:37:32.190940",
     "exception": false,
     "start_time": "2024-11-11T08:37:32.169989",
     "status": "completed"
    },
    "tags": []
   },
   "outputs": [
    {
     "name": "stderr",
     "output_type": "stream",
     "text": [
      "\r",
      "  0%|                                                                                                                                                                                                                                                                                    | 0/51 [00:00<?, ?it/s]"
     ]
    },
    {
     "name": "stderr",
     "output_type": "stream",
     "text": [
      "\r",
      "100%|█████████████████████████████████████████████████████████████████████████████████████████████████████████████████████████████████████████████████████████████████████████████████████████████████████████████████████████████████████████████████████████████████████████| 51/51 [00:00<00:00, 4534.86it/s]"
     ]
    },
    {
     "name": "stderr",
     "output_type": "stream",
     "text": [
      "\n"
     ]
    }
   ],
   "source": [
    "scores = {}\n",
    "for comedian in tqdm(gt_representations.keys()):\n",
    "    gt_reference_subspaces = gt_representations[comedian]\n",
    "    out_reference_subspaces = output_representations[comedian]\n",
    "\n",
    "    A = gt_reference_subspaces.mT @ out_reference_subspaces\n",
    "    scores[comedian] = A.matrix_power(2).diagonal(dim1=1,dim2=2).mean().item()"
   ]
  },
  {
   "cell_type": "code",
   "execution_count": 11,
   "id": "2b7030ed",
   "metadata": {
    "execution": {
     "iopub.execute_input": "2024-11-11T08:37:32.201150Z",
     "iopub.status.busy": "2024-11-11T08:37:32.201032Z",
     "iopub.status.idle": "2024-11-11T08:37:32.204752Z",
     "shell.execute_reply": "2024-11-11T08:37:32.204418Z"
    },
    "papermill": {
     "duration": 0.009427,
     "end_time": "2024-11-11T08:37:32.205257",
     "exception": false,
     "start_time": "2024-11-11T08:37:32.195830",
     "status": "completed"
    },
    "tags": []
   },
   "outputs": [
    {
     "data": {
      "text/plain": [
       "28.21324564078275"
      ]
     },
     "execution_count": 11,
     "metadata": {},
     "output_type": "execute_result"
    }
   ],
   "source": [
    "# pd.DataFrame(scores, index=range(len(scores))).to_csv(\"scores.csv\")\n",
    "df = pd.DataFrame(list(scores.items()), columns=['Comedian', 'Score'])\n",
    "df[\"Score\"].mean() * 100"
   ]
  },
  {
   "cell_type": "code",
   "execution_count": 12,
   "id": "aa7ee204",
   "metadata": {
    "execution": {
     "iopub.execute_input": "2024-11-11T08:37:32.215702Z",
     "iopub.status.busy": "2024-11-11T08:37:32.215590Z",
     "iopub.status.idle": "2024-11-11T08:37:44.744528Z",
     "shell.execute_reply": "2024-11-11T08:37:44.744092Z"
    },
    "papermill": {
     "duration": 12.534901,
     "end_time": "2024-11-11T08:37:44.745179",
     "exception": false,
     "start_time": "2024-11-11T08:37:32.210278",
     "status": "completed"
    },
    "tags": []
   },
   "outputs": [],
   "source": [
    "filepath = next(cwd.glob(\"**/subspace_scores/*.csv\")).parent / f\"scores_{MODEL_ID.rsplit('/')[-1]}.csv\"\n",
    "df.to_csv(filepath)"
   ]
  },
  {
   "cell_type": "markdown",
   "id": "fa1d6af7",
   "metadata": {
    "papermill": {
     "duration": 0.004945,
     "end_time": "2024-11-11T08:37:44.755941",
     "exception": false,
     "start_time": "2024-11-11T08:37:44.750996",
     "status": "completed"
    },
    "tags": []
   },
   "source": [
    "spearman's rank correlation coefficient"
   ]
  },
  {
   "cell_type": "markdown",
   "id": "c5f67bec",
   "metadata": {
    "tags": [
     "papermill-error-cell-tag"
    ]
   },
   "source": [
    "<span id=\"papermill-error-cell\" style=\"color:red; font-family:Helvetica Neue, Helvetica, Arial, sans-serif; font-size:2em;\">Execution using papermill encountered an exception here and stopped:</span>"
   ]
  },
  {
   "cell_type": "code",
   "execution_count": 13,
   "id": "e8457143",
   "metadata": {
    "execution": {
     "iopub.execute_input": "2024-11-11T08:37:44.766274Z",
     "iopub.status.busy": "2024-11-11T08:37:44.766147Z",
     "iopub.status.idle": "2024-11-11T08:37:45.623675Z",
     "shell.execute_reply": "2024-11-11T08:37:45.623111Z"
    },
    "papermill": {
     "duration": 0.863368,
     "end_time": "2024-11-11T08:37:45.624220",
     "exception": true,
     "start_time": "2024-11-11T08:37:44.760852",
     "status": "failed"
    },
    "tags": []
   },
   "outputs": [
    {
     "ename": "FileNotFoundError",
     "evalue": "[Errno 2] No such file or directory: '../data/stand_up_dataset/standup_data.csv'",
     "output_type": "error",
     "traceback": [
      "\u001b[0;31m---------------------------------------------------------------------------\u001b[0m",
      "\u001b[0;31mFileNotFoundError\u001b[0m                         Traceback (most recent call last)",
      "Cell \u001b[0;32mIn[13], line 7\u001b[0m\n\u001b[1;32m      4\u001b[0m \u001b[38;5;28;01mfrom\u001b[39;00m \u001b[38;5;21;01mscipy\u001b[39;00m\u001b[38;5;21;01m.\u001b[39;00m\u001b[38;5;21;01mstats\u001b[39;00m \u001b[38;5;28;01mimport\u001b[39;00m spearmanr\n\u001b[1;32m      5\u001b[0m \u001b[38;5;28;01mfrom\u001b[39;00m \u001b[38;5;21;01mhumor\u001b[39;00m\u001b[38;5;21;01m.\u001b[39;00m\u001b[38;5;21;01mbipartite_metric\u001b[39;00m \u001b[38;5;28;01mimport\u001b[39;00m bipartite_metric\n\u001b[0;32m----> 7\u001b[0m ground_truth \u001b[38;5;241m=\u001b[39m \u001b[43mpd\u001b[49m\u001b[38;5;241;43m.\u001b[39;49m\u001b[43mread_csv\u001b[49m\u001b[43m(\u001b[49m\u001b[38;5;124;43m'\u001b[39;49m\u001b[38;5;124;43m../data/stand_up_dataset/standup_data.csv\u001b[39;49m\u001b[38;5;124;43m'\u001b[39;49m\u001b[43m)\u001b[49m\n\u001b[1;32m      8\u001b[0m model \u001b[38;5;241m=\u001b[39m pd\u001b[38;5;241m.\u001b[39mread_csv(\u001b[38;5;124m'\u001b[39m\u001b[38;5;124m../data/stand_up_dataset/gemma_answers.csv\u001b[39m\u001b[38;5;124m'\u001b[39m)\n\u001b[1;32m     10\u001b[0m gemma_metric \u001b[38;5;241m=\u001b[39m bipartite_metric(model, ground_truth)\n",
      "File \u001b[0;32m~/humor/.venv/lib/python3.11/site-packages/pandas/io/parsers/readers.py:1026\u001b[0m, in \u001b[0;36mread_csv\u001b[0;34m(filepath_or_buffer, sep, delimiter, header, names, index_col, usecols, dtype, engine, converters, true_values, false_values, skipinitialspace, skiprows, skipfooter, nrows, na_values, keep_default_na, na_filter, verbose, skip_blank_lines, parse_dates, infer_datetime_format, keep_date_col, date_parser, date_format, dayfirst, cache_dates, iterator, chunksize, compression, thousands, decimal, lineterminator, quotechar, quoting, doublequote, escapechar, comment, encoding, encoding_errors, dialect, on_bad_lines, delim_whitespace, low_memory, memory_map, float_precision, storage_options, dtype_backend)\u001b[0m\n\u001b[1;32m   1013\u001b[0m kwds_defaults \u001b[38;5;241m=\u001b[39m _refine_defaults_read(\n\u001b[1;32m   1014\u001b[0m     dialect,\n\u001b[1;32m   1015\u001b[0m     delimiter,\n\u001b[0;32m   (...)\u001b[0m\n\u001b[1;32m   1022\u001b[0m     dtype_backend\u001b[38;5;241m=\u001b[39mdtype_backend,\n\u001b[1;32m   1023\u001b[0m )\n\u001b[1;32m   1024\u001b[0m kwds\u001b[38;5;241m.\u001b[39mupdate(kwds_defaults)\n\u001b[0;32m-> 1026\u001b[0m \u001b[38;5;28;01mreturn\u001b[39;00m \u001b[43m_read\u001b[49m\u001b[43m(\u001b[49m\u001b[43mfilepath_or_buffer\u001b[49m\u001b[43m,\u001b[49m\u001b[43m \u001b[49m\u001b[43mkwds\u001b[49m\u001b[43m)\u001b[49m\n",
      "File \u001b[0;32m~/humor/.venv/lib/python3.11/site-packages/pandas/io/parsers/readers.py:620\u001b[0m, in \u001b[0;36m_read\u001b[0;34m(filepath_or_buffer, kwds)\u001b[0m\n\u001b[1;32m    617\u001b[0m _validate_names(kwds\u001b[38;5;241m.\u001b[39mget(\u001b[38;5;124m\"\u001b[39m\u001b[38;5;124mnames\u001b[39m\u001b[38;5;124m\"\u001b[39m, \u001b[38;5;28;01mNone\u001b[39;00m))\n\u001b[1;32m    619\u001b[0m \u001b[38;5;66;03m# Create the parser.\u001b[39;00m\n\u001b[0;32m--> 620\u001b[0m parser \u001b[38;5;241m=\u001b[39m \u001b[43mTextFileReader\u001b[49m\u001b[43m(\u001b[49m\u001b[43mfilepath_or_buffer\u001b[49m\u001b[43m,\u001b[49m\u001b[43m \u001b[49m\u001b[38;5;241;43m*\u001b[39;49m\u001b[38;5;241;43m*\u001b[39;49m\u001b[43mkwds\u001b[49m\u001b[43m)\u001b[49m\n\u001b[1;32m    622\u001b[0m \u001b[38;5;28;01mif\u001b[39;00m chunksize \u001b[38;5;129;01mor\u001b[39;00m iterator:\n\u001b[1;32m    623\u001b[0m     \u001b[38;5;28;01mreturn\u001b[39;00m parser\n",
      "File \u001b[0;32m~/humor/.venv/lib/python3.11/site-packages/pandas/io/parsers/readers.py:1620\u001b[0m, in \u001b[0;36mTextFileReader.__init__\u001b[0;34m(self, f, engine, **kwds)\u001b[0m\n\u001b[1;32m   1617\u001b[0m     \u001b[38;5;28mself\u001b[39m\u001b[38;5;241m.\u001b[39moptions[\u001b[38;5;124m\"\u001b[39m\u001b[38;5;124mhas_index_names\u001b[39m\u001b[38;5;124m\"\u001b[39m] \u001b[38;5;241m=\u001b[39m kwds[\u001b[38;5;124m\"\u001b[39m\u001b[38;5;124mhas_index_names\u001b[39m\u001b[38;5;124m\"\u001b[39m]\n\u001b[1;32m   1619\u001b[0m \u001b[38;5;28mself\u001b[39m\u001b[38;5;241m.\u001b[39mhandles: IOHandles \u001b[38;5;241m|\u001b[39m \u001b[38;5;28;01mNone\u001b[39;00m \u001b[38;5;241m=\u001b[39m \u001b[38;5;28;01mNone\u001b[39;00m\n\u001b[0;32m-> 1620\u001b[0m \u001b[38;5;28mself\u001b[39m\u001b[38;5;241m.\u001b[39m_engine \u001b[38;5;241m=\u001b[39m \u001b[38;5;28;43mself\u001b[39;49m\u001b[38;5;241;43m.\u001b[39;49m\u001b[43m_make_engine\u001b[49m\u001b[43m(\u001b[49m\u001b[43mf\u001b[49m\u001b[43m,\u001b[49m\u001b[43m \u001b[49m\u001b[38;5;28;43mself\u001b[39;49m\u001b[38;5;241;43m.\u001b[39;49m\u001b[43mengine\u001b[49m\u001b[43m)\u001b[49m\n",
      "File \u001b[0;32m~/humor/.venv/lib/python3.11/site-packages/pandas/io/parsers/readers.py:1880\u001b[0m, in \u001b[0;36mTextFileReader._make_engine\u001b[0;34m(self, f, engine)\u001b[0m\n\u001b[1;32m   1878\u001b[0m     \u001b[38;5;28;01mif\u001b[39;00m \u001b[38;5;124m\"\u001b[39m\u001b[38;5;124mb\u001b[39m\u001b[38;5;124m\"\u001b[39m \u001b[38;5;129;01mnot\u001b[39;00m \u001b[38;5;129;01min\u001b[39;00m mode:\n\u001b[1;32m   1879\u001b[0m         mode \u001b[38;5;241m+\u001b[39m\u001b[38;5;241m=\u001b[39m \u001b[38;5;124m\"\u001b[39m\u001b[38;5;124mb\u001b[39m\u001b[38;5;124m\"\u001b[39m\n\u001b[0;32m-> 1880\u001b[0m \u001b[38;5;28mself\u001b[39m\u001b[38;5;241m.\u001b[39mhandles \u001b[38;5;241m=\u001b[39m \u001b[43mget_handle\u001b[49m\u001b[43m(\u001b[49m\n\u001b[1;32m   1881\u001b[0m \u001b[43m    \u001b[49m\u001b[43mf\u001b[49m\u001b[43m,\u001b[49m\n\u001b[1;32m   1882\u001b[0m \u001b[43m    \u001b[49m\u001b[43mmode\u001b[49m\u001b[43m,\u001b[49m\n\u001b[1;32m   1883\u001b[0m \u001b[43m    \u001b[49m\u001b[43mencoding\u001b[49m\u001b[38;5;241;43m=\u001b[39;49m\u001b[38;5;28;43mself\u001b[39;49m\u001b[38;5;241;43m.\u001b[39;49m\u001b[43moptions\u001b[49m\u001b[38;5;241;43m.\u001b[39;49m\u001b[43mget\u001b[49m\u001b[43m(\u001b[49m\u001b[38;5;124;43m\"\u001b[39;49m\u001b[38;5;124;43mencoding\u001b[39;49m\u001b[38;5;124;43m\"\u001b[39;49m\u001b[43m,\u001b[49m\u001b[43m \u001b[49m\u001b[38;5;28;43;01mNone\u001b[39;49;00m\u001b[43m)\u001b[49m\u001b[43m,\u001b[49m\n\u001b[1;32m   1884\u001b[0m \u001b[43m    \u001b[49m\u001b[43mcompression\u001b[49m\u001b[38;5;241;43m=\u001b[39;49m\u001b[38;5;28;43mself\u001b[39;49m\u001b[38;5;241;43m.\u001b[39;49m\u001b[43moptions\u001b[49m\u001b[38;5;241;43m.\u001b[39;49m\u001b[43mget\u001b[49m\u001b[43m(\u001b[49m\u001b[38;5;124;43m\"\u001b[39;49m\u001b[38;5;124;43mcompression\u001b[39;49m\u001b[38;5;124;43m\"\u001b[39;49m\u001b[43m,\u001b[49m\u001b[43m \u001b[49m\u001b[38;5;28;43;01mNone\u001b[39;49;00m\u001b[43m)\u001b[49m\u001b[43m,\u001b[49m\n\u001b[1;32m   1885\u001b[0m \u001b[43m    \u001b[49m\u001b[43mmemory_map\u001b[49m\u001b[38;5;241;43m=\u001b[39;49m\u001b[38;5;28;43mself\u001b[39;49m\u001b[38;5;241;43m.\u001b[39;49m\u001b[43moptions\u001b[49m\u001b[38;5;241;43m.\u001b[39;49m\u001b[43mget\u001b[49m\u001b[43m(\u001b[49m\u001b[38;5;124;43m\"\u001b[39;49m\u001b[38;5;124;43mmemory_map\u001b[39;49m\u001b[38;5;124;43m\"\u001b[39;49m\u001b[43m,\u001b[49m\u001b[43m \u001b[49m\u001b[38;5;28;43;01mFalse\u001b[39;49;00m\u001b[43m)\u001b[49m\u001b[43m,\u001b[49m\n\u001b[1;32m   1886\u001b[0m \u001b[43m    \u001b[49m\u001b[43mis_text\u001b[49m\u001b[38;5;241;43m=\u001b[39;49m\u001b[43mis_text\u001b[49m\u001b[43m,\u001b[49m\n\u001b[1;32m   1887\u001b[0m \u001b[43m    \u001b[49m\u001b[43merrors\u001b[49m\u001b[38;5;241;43m=\u001b[39;49m\u001b[38;5;28;43mself\u001b[39;49m\u001b[38;5;241;43m.\u001b[39;49m\u001b[43moptions\u001b[49m\u001b[38;5;241;43m.\u001b[39;49m\u001b[43mget\u001b[49m\u001b[43m(\u001b[49m\u001b[38;5;124;43m\"\u001b[39;49m\u001b[38;5;124;43mencoding_errors\u001b[39;49m\u001b[38;5;124;43m\"\u001b[39;49m\u001b[43m,\u001b[49m\u001b[43m \u001b[49m\u001b[38;5;124;43m\"\u001b[39;49m\u001b[38;5;124;43mstrict\u001b[39;49m\u001b[38;5;124;43m\"\u001b[39;49m\u001b[43m)\u001b[49m\u001b[43m,\u001b[49m\n\u001b[1;32m   1888\u001b[0m \u001b[43m    \u001b[49m\u001b[43mstorage_options\u001b[49m\u001b[38;5;241;43m=\u001b[39;49m\u001b[38;5;28;43mself\u001b[39;49m\u001b[38;5;241;43m.\u001b[39;49m\u001b[43moptions\u001b[49m\u001b[38;5;241;43m.\u001b[39;49m\u001b[43mget\u001b[49m\u001b[43m(\u001b[49m\u001b[38;5;124;43m\"\u001b[39;49m\u001b[38;5;124;43mstorage_options\u001b[39;49m\u001b[38;5;124;43m\"\u001b[39;49m\u001b[43m,\u001b[49m\u001b[43m \u001b[49m\u001b[38;5;28;43;01mNone\u001b[39;49;00m\u001b[43m)\u001b[49m\u001b[43m,\u001b[49m\n\u001b[1;32m   1889\u001b[0m \u001b[43m\u001b[49m\u001b[43m)\u001b[49m\n\u001b[1;32m   1890\u001b[0m \u001b[38;5;28;01massert\u001b[39;00m \u001b[38;5;28mself\u001b[39m\u001b[38;5;241m.\u001b[39mhandles \u001b[38;5;129;01mis\u001b[39;00m \u001b[38;5;129;01mnot\u001b[39;00m \u001b[38;5;28;01mNone\u001b[39;00m\n\u001b[1;32m   1891\u001b[0m f \u001b[38;5;241m=\u001b[39m \u001b[38;5;28mself\u001b[39m\u001b[38;5;241m.\u001b[39mhandles\u001b[38;5;241m.\u001b[39mhandle\n",
      "File \u001b[0;32m~/humor/.venv/lib/python3.11/site-packages/pandas/io/common.py:873\u001b[0m, in \u001b[0;36mget_handle\u001b[0;34m(path_or_buf, mode, encoding, compression, memory_map, is_text, errors, storage_options)\u001b[0m\n\u001b[1;32m    868\u001b[0m \u001b[38;5;28;01melif\u001b[39;00m \u001b[38;5;28misinstance\u001b[39m(handle, \u001b[38;5;28mstr\u001b[39m):\n\u001b[1;32m    869\u001b[0m     \u001b[38;5;66;03m# Check whether the filename is to be opened in binary mode.\u001b[39;00m\n\u001b[1;32m    870\u001b[0m     \u001b[38;5;66;03m# Binary mode does not support 'encoding' and 'newline'.\u001b[39;00m\n\u001b[1;32m    871\u001b[0m     \u001b[38;5;28;01mif\u001b[39;00m ioargs\u001b[38;5;241m.\u001b[39mencoding \u001b[38;5;129;01mand\u001b[39;00m \u001b[38;5;124m\"\u001b[39m\u001b[38;5;124mb\u001b[39m\u001b[38;5;124m\"\u001b[39m \u001b[38;5;129;01mnot\u001b[39;00m \u001b[38;5;129;01min\u001b[39;00m ioargs\u001b[38;5;241m.\u001b[39mmode:\n\u001b[1;32m    872\u001b[0m         \u001b[38;5;66;03m# Encoding\u001b[39;00m\n\u001b[0;32m--> 873\u001b[0m         handle \u001b[38;5;241m=\u001b[39m \u001b[38;5;28;43mopen\u001b[39;49m\u001b[43m(\u001b[49m\n\u001b[1;32m    874\u001b[0m \u001b[43m            \u001b[49m\u001b[43mhandle\u001b[49m\u001b[43m,\u001b[49m\n\u001b[1;32m    875\u001b[0m \u001b[43m            \u001b[49m\u001b[43mioargs\u001b[49m\u001b[38;5;241;43m.\u001b[39;49m\u001b[43mmode\u001b[49m\u001b[43m,\u001b[49m\n\u001b[1;32m    876\u001b[0m \u001b[43m            \u001b[49m\u001b[43mencoding\u001b[49m\u001b[38;5;241;43m=\u001b[39;49m\u001b[43mioargs\u001b[49m\u001b[38;5;241;43m.\u001b[39;49m\u001b[43mencoding\u001b[49m\u001b[43m,\u001b[49m\n\u001b[1;32m    877\u001b[0m \u001b[43m            \u001b[49m\u001b[43merrors\u001b[49m\u001b[38;5;241;43m=\u001b[39;49m\u001b[43merrors\u001b[49m\u001b[43m,\u001b[49m\n\u001b[1;32m    878\u001b[0m \u001b[43m            \u001b[49m\u001b[43mnewline\u001b[49m\u001b[38;5;241;43m=\u001b[39;49m\u001b[38;5;124;43m\"\u001b[39;49m\u001b[38;5;124;43m\"\u001b[39;49m\u001b[43m,\u001b[49m\n\u001b[1;32m    879\u001b[0m \u001b[43m        \u001b[49m\u001b[43m)\u001b[49m\n\u001b[1;32m    880\u001b[0m     \u001b[38;5;28;01melse\u001b[39;00m:\n\u001b[1;32m    881\u001b[0m         \u001b[38;5;66;03m# Binary mode\u001b[39;00m\n\u001b[1;32m    882\u001b[0m         handle \u001b[38;5;241m=\u001b[39m \u001b[38;5;28mopen\u001b[39m(handle, ioargs\u001b[38;5;241m.\u001b[39mmode)\n",
      "\u001b[0;31mFileNotFoundError\u001b[0m: [Errno 2] No such file or directory: '../data/stand_up_dataset/standup_data.csv'"
     ]
    }
   ],
   "source": [
    "import sys\n",
    "import pandas as pd\n",
    "sys.path.append(\"..\")\n",
    "from scipy.stats import spearmanr\n",
    "from humor.bipartite_metric import bipartite_metric\n",
    "\n",
    "ground_truth = pd.read_csv('../data/stand_up_dataset/standup_data.csv')\n",
    "model = pd.read_csv('../data/stand_up_dataset/gemma_answers.csv')\n",
    "\n",
    "gemma_metric = bipartite_metric(model, ground_truth)\n",
    "merged_df = pd.merge(gemma_metric, df, on='comedian', suffixes=('_df1', '_df2'))\n",
    "correlation, p_value = spearmanr(merged_df['score_df1'], merged_df['score_df2'])\n",
    "print(\"Correlation: \", correlation)\n",
    "print(\"p_value:\", p_value)"
   ]
  }
 ],
 "metadata": {
  "kernelspec": {
   "display_name": ".venv",
   "language": "python",
   "name": "python3"
  },
  "language_info": {
   "codemirror_mode": {
    "name": "ipython",
    "version": 3
   },
   "file_extension": ".py",
   "mimetype": "text/x-python",
   "name": "python",
   "nbconvert_exporter": "python",
   "pygments_lexer": "ipython3",
   "version": "3.11.10"
  },
  "papermill": {
   "default_parameters": {},
   "duration": 672.529788,
   "end_time": "2024-11-11T08:37:48.928741",
   "environment_variables": {},
   "exception": true,
   "input_path": "notebooks/13_subspace_metric.ipynb",
   "output_path": "notebooks/outputs/13_subspace_metric.ipynb",
   "parameters": {},
   "start_time": "2024-11-11T08:26:36.398953",
   "version": "2.6.0"
  },
  "widgets": {
   "application/vnd.jupyter.widget-state+json": {
    "state": {
     "039f437cf4ae4c34828bf7c8af361b47": {
      "model_module": "@jupyter-widgets/controls",
      "model_module_version": "2.0.0",
      "model_name": "HTMLStyleModel",
      "state": {
       "_model_module": "@jupyter-widgets/controls",
       "_model_module_version": "2.0.0",
       "_model_name": "HTMLStyleModel",
       "_view_count": null,
       "_view_module": "@jupyter-widgets/base",
       "_view_module_version": "2.0.0",
       "_view_name": "StyleView",
       "background": null,
       "description_width": "",
       "font_size": null,
       "text_color": null
      }
     },
     "0bdcd4043e594b92b67da993d914c199": {
      "model_module": "@jupyter-widgets/base",
      "model_module_version": "2.0.0",
      "model_name": "LayoutModel",
      "state": {
       "_model_module": "@jupyter-widgets/base",
       "_model_module_version": "2.0.0",
       "_model_name": "LayoutModel",
       "_view_count": null,
       "_view_module": "@jupyter-widgets/base",
       "_view_module_version": "2.0.0",
       "_view_name": "LayoutView",
       "align_content": null,
       "align_items": null,
       "align_self": null,
       "border_bottom": null,
       "border_left": null,
       "border_right": null,
       "border_top": null,
       "bottom": null,
       "display": null,
       "flex": null,
       "flex_flow": null,
       "grid_area": null,
       "grid_auto_columns": null,
       "grid_auto_flow": null,
       "grid_auto_rows": null,
       "grid_column": null,
       "grid_gap": null,
       "grid_row": null,
       "grid_template_areas": null,
       "grid_template_columns": null,
       "grid_template_rows": null,
       "height": null,
       "justify_content": null,
       "justify_items": null,
       "left": null,
       "margin": null,
       "max_height": null,
       "max_width": null,
       "min_height": null,
       "min_width": null,
       "object_fit": null,
       "object_position": null,
       "order": null,
       "overflow": null,
       "padding": null,
       "right": null,
       "top": null,
       "visibility": null,
       "width": null
      }
     },
     "252c93cd0ac04a23a5ff6683dd693859": {
      "model_module": "@jupyter-widgets/controls",
      "model_module_version": "2.0.0",
      "model_name": "HTMLStyleModel",
      "state": {
       "_model_module": "@jupyter-widgets/controls",
       "_model_module_version": "2.0.0",
       "_model_name": "HTMLStyleModel",
       "_view_count": null,
       "_view_module": "@jupyter-widgets/base",
       "_view_module_version": "2.0.0",
       "_view_name": "StyleView",
       "background": null,
       "description_width": "",
       "font_size": null,
       "text_color": null
      }
     },
     "3fed4ce542b54eaf9ae64b4fc6b10bef": {
      "model_module": "@jupyter-widgets/base",
      "model_module_version": "2.0.0",
      "model_name": "LayoutModel",
      "state": {
       "_model_module": "@jupyter-widgets/base",
       "_model_module_version": "2.0.0",
       "_model_name": "LayoutModel",
       "_view_count": null,
       "_view_module": "@jupyter-widgets/base",
       "_view_module_version": "2.0.0",
       "_view_name": "LayoutView",
       "align_content": null,
       "align_items": null,
       "align_self": null,
       "border_bottom": null,
       "border_left": null,
       "border_right": null,
       "border_top": null,
       "bottom": null,
       "display": null,
       "flex": null,
       "flex_flow": null,
       "grid_area": null,
       "grid_auto_columns": null,
       "grid_auto_flow": null,
       "grid_auto_rows": null,
       "grid_column": null,
       "grid_gap": null,
       "grid_row": null,
       "grid_template_areas": null,
       "grid_template_columns": null,
       "grid_template_rows": null,
       "height": null,
       "justify_content": null,
       "justify_items": null,
       "left": null,
       "margin": null,
       "max_height": null,
       "max_width": null,
       "min_height": null,
       "min_width": null,
       "object_fit": null,
       "object_position": null,
       "order": null,
       "overflow": null,
       "padding": null,
       "right": null,
       "top": null,
       "visibility": null,
       "width": null
      }
     },
     "55c7b456e916419b837a732f0d0d94ef": {
      "model_module": "@jupyter-widgets/controls",
      "model_module_version": "2.0.0",
      "model_name": "HTMLModel",
      "state": {
       "_dom_classes": [],
       "_model_module": "@jupyter-widgets/controls",
       "_model_module_version": "2.0.0",
       "_model_name": "HTMLModel",
       "_view_count": null,
       "_view_module": "@jupyter-widgets/controls",
       "_view_module_version": "2.0.0",
       "_view_name": "HTMLView",
       "description": "",
       "description_allow_html": false,
       "layout": "IPY_MODEL_0bdcd4043e594b92b67da993d914c199",
       "placeholder": "​",
       "style": "IPY_MODEL_252c93cd0ac04a23a5ff6683dd693859",
       "tabbable": null,
       "tooltip": null,
       "value": "Loading checkpoint shards: 100%"
      }
     },
     "5c9173b4037d4ad28cdc2f5fbfa9a5c2": {
      "model_module": "@jupyter-widgets/base",
      "model_module_version": "2.0.0",
      "model_name": "LayoutModel",
      "state": {
       "_model_module": "@jupyter-widgets/base",
       "_model_module_version": "2.0.0",
       "_model_name": "LayoutModel",
       "_view_count": null,
       "_view_module": "@jupyter-widgets/base",
       "_view_module_version": "2.0.0",
       "_view_name": "LayoutView",
       "align_content": null,
       "align_items": null,
       "align_self": null,
       "border_bottom": null,
       "border_left": null,
       "border_right": null,
       "border_top": null,
       "bottom": null,
       "display": null,
       "flex": null,
       "flex_flow": null,
       "grid_area": null,
       "grid_auto_columns": null,
       "grid_auto_flow": null,
       "grid_auto_rows": null,
       "grid_column": null,
       "grid_gap": null,
       "grid_row": null,
       "grid_template_areas": null,
       "grid_template_columns": null,
       "grid_template_rows": null,
       "height": null,
       "justify_content": null,
       "justify_items": null,
       "left": null,
       "margin": null,
       "max_height": null,
       "max_width": null,
       "min_height": null,
       "min_width": null,
       "object_fit": null,
       "object_position": null,
       "order": null,
       "overflow": null,
       "padding": null,
       "right": null,
       "top": null,
       "visibility": null,
       "width": null
      }
     },
     "a78f7a2ab2c14856baf38dad9e0c32b2": {
      "model_module": "@jupyter-widgets/controls",
      "model_module_version": "2.0.0",
      "model_name": "FloatProgressModel",
      "state": {
       "_dom_classes": [],
       "_model_module": "@jupyter-widgets/controls",
       "_model_module_version": "2.0.0",
       "_model_name": "FloatProgressModel",
       "_view_count": null,
       "_view_module": "@jupyter-widgets/controls",
       "_view_module_version": "2.0.0",
       "_view_name": "ProgressView",
       "bar_style": "success",
       "description": "",
       "description_allow_html": false,
       "layout": "IPY_MODEL_5c9173b4037d4ad28cdc2f5fbfa9a5c2",
       "max": 12.0,
       "min": 0.0,
       "orientation": "horizontal",
       "style": "IPY_MODEL_b1d2f02d96be4452a0904712012f7981",
       "tabbable": null,
       "tooltip": null,
       "value": 12.0
      }
     },
     "b1d2f02d96be4452a0904712012f7981": {
      "model_module": "@jupyter-widgets/controls",
      "model_module_version": "2.0.0",
      "model_name": "ProgressStyleModel",
      "state": {
       "_model_module": "@jupyter-widgets/controls",
       "_model_module_version": "2.0.0",
       "_model_name": "ProgressStyleModel",
       "_view_count": null,
       "_view_module": "@jupyter-widgets/base",
       "_view_module_version": "2.0.0",
       "_view_name": "StyleView",
       "bar_color": null,
       "description_width": ""
      }
     },
     "d29c130bd4a24345a4c21964467cae2a": {
      "model_module": "@jupyter-widgets/controls",
      "model_module_version": "2.0.0",
      "model_name": "HBoxModel",
      "state": {
       "_dom_classes": [],
       "_model_module": "@jupyter-widgets/controls",
       "_model_module_version": "2.0.0",
       "_model_name": "HBoxModel",
       "_view_count": null,
       "_view_module": "@jupyter-widgets/controls",
       "_view_module_version": "2.0.0",
       "_view_name": "HBoxView",
       "box_style": "",
       "children": [
        "IPY_MODEL_55c7b456e916419b837a732f0d0d94ef",
        "IPY_MODEL_a78f7a2ab2c14856baf38dad9e0c32b2",
        "IPY_MODEL_f999eba3c50d4aeeab1ff0f05aefe645"
       ],
       "layout": "IPY_MODEL_3fed4ce542b54eaf9ae64b4fc6b10bef",
       "tabbable": null,
       "tooltip": null
      }
     },
     "f999eba3c50d4aeeab1ff0f05aefe645": {
      "model_module": "@jupyter-widgets/controls",
      "model_module_version": "2.0.0",
      "model_name": "HTMLModel",
      "state": {
       "_dom_classes": [],
       "_model_module": "@jupyter-widgets/controls",
       "_model_module_version": "2.0.0",
       "_model_name": "HTMLModel",
       "_view_count": null,
       "_view_module": "@jupyter-widgets/controls",
       "_view_module_version": "2.0.0",
       "_view_name": "HTMLView",
       "description": "",
       "description_allow_html": false,
       "layout": "IPY_MODEL_fc18a16af9914e28b81dc651715e84d8",
       "placeholder": "​",
       "style": "IPY_MODEL_039f437cf4ae4c34828bf7c8af361b47",
       "tabbable": null,
       "tooltip": null,
       "value": " 12/12 [00:24&lt;00:00,  1.68s/it]"
      }
     },
     "fc18a16af9914e28b81dc651715e84d8": {
      "model_module": "@jupyter-widgets/base",
      "model_module_version": "2.0.0",
      "model_name": "LayoutModel",
      "state": {
       "_model_module": "@jupyter-widgets/base",
       "_model_module_version": "2.0.0",
       "_model_name": "LayoutModel",
       "_view_count": null,
       "_view_module": "@jupyter-widgets/base",
       "_view_module_version": "2.0.0",
       "_view_name": "LayoutView",
       "align_content": null,
       "align_items": null,
       "align_self": null,
       "border_bottom": null,
       "border_left": null,
       "border_right": null,
       "border_top": null,
       "bottom": null,
       "display": null,
       "flex": null,
       "flex_flow": null,
       "grid_area": null,
       "grid_auto_columns": null,
       "grid_auto_flow": null,
       "grid_auto_rows": null,
       "grid_column": null,
       "grid_gap": null,
       "grid_row": null,
       "grid_template_areas": null,
       "grid_template_columns": null,
       "grid_template_rows": null,
       "height": null,
       "justify_content": null,
       "justify_items": null,
       "left": null,
       "margin": null,
       "max_height": null,
       "max_width": null,
       "min_height": null,
       "min_width": null,
       "object_fit": null,
       "object_position": null,
       "order": null,
       "overflow": null,
       "padding": null,
       "right": null,
       "top": null,
       "visibility": null,
       "width": null
      }
     }
    },
    "version_major": 2,
    "version_minor": 0
   }
  }
 },
 "nbformat": 4,
 "nbformat_minor": 5
}