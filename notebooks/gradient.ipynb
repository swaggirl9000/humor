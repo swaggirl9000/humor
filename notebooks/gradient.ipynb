{
 "cells": [
  {
   "cell_type": "code",
   "execution_count": 1,
   "metadata": {},
   "outputs": [
    {
     "name": "stderr",
     "output_type": "stream",
     "text": [
      "/home/ada/humor/.venv/lib/python3.8/site-packages/tqdm/auto.py:21: TqdmWarning: IProgress not found. Please update jupyter and ipywidgets. See https://ipywidgets.readthedocs.io/en/stable/user_install.html\n",
      "  from .autonotebook import tqdm as notebook_tqdm\n"
     ]
    }
   ],
   "source": [
    "import transformers\n",
    "import inseq\n",
    "import torch\n",
    "import pandas as pd\n",
    "from transformers import AutoTokenizer, AutoModelForCausalLM"
   ]
  },
  {
   "cell_type": "code",
   "execution_count": 2,
   "metadata": {},
   "outputs": [
    {
     "name": "stderr",
     "output_type": "stream",
     "text": [
      "`config.hidden_act` is ignored, you should use `config.hidden_activation` instead.\n",
      "Gemma's activation function will be set to `gelu_pytorch_tanh`. Please, use\n",
      "`config.hidden_activation` if you want to override this behaviour.\n",
      "See https://github.com/huggingface/transformers/pull/29402 for more details.\n",
      "Loading checkpoint shards: 100%|██████████| 2/2 [00:00<00:00, 10.04it/s]\n",
      "WARNING:root:Some parameters are on the meta device device because they were offloaded to the disk and cpu.\n"
     ]
    }
   ],
   "source": [
    "MODEL_ID = \"google/gemma-2b-it\"\n",
    "\n",
    "tokenizer = AutoTokenizer.from_pretrained(MODEL_ID)\n",
    "model = AutoModelForCausalLM.from_pretrained(MODEL_ID, device_map=\"auto\", torch_dtype=torch.bfloat16)"
   ]
  },
  {
   "cell_type": "code",
   "execution_count": 52,
   "metadata": {},
   "outputs": [],
   "source": [
    "import captum"
   ]
  },
  {
   "cell_type": "code",
   "execution_count": 11,
   "metadata": {},
   "outputs": [],
   "source": [
    "transcripts = pd.read_csv('/home/ada/humor/humor/standup_transcripts.csv')\n",
    "answers = pd.read_csv(\"/home/ada/humor/humor/gemma_answers.csv\")"
   ]
  },
  {
   "cell_type": "code",
   "execution_count": 5,
   "metadata": {},
   "outputs": [
    {
     "data": {
      "text/html": [
       "<div>\n",
       "<style scoped>\n",
       "    .dataframe tbody tr th:only-of-type {\n",
       "        vertical-align: middle;\n",
       "    }\n",
       "\n",
       "    .dataframe tbody tr th {\n",
       "        vertical-align: top;\n",
       "    }\n",
       "\n",
       "    .dataframe thead th {\n",
       "        text-align: right;\n",
       "    }\n",
       "</style>\n",
       "<table border=\"1\" class=\"dataframe\">\n",
       "  <thead>\n",
       "    <tr style=\"text-align: right;\">\n",
       "      <th></th>\n",
       "      <th>comedian</th>\n",
       "      <th>transcript</th>\n",
       "    </tr>\n",
       "  </thead>\n",
       "  <tbody>\n",
       "    <tr>\n",
       "      <th>0</th>\n",
       "      <td>Anthony_Jeselnik</td>\n",
       "      <td>When I was a kid, I used to fantasize about ge...</td>\n",
       "    </tr>\n",
       "    <tr>\n",
       "      <th>1</th>\n",
       "      <td>Anthony_Jeselnik_2</td>\n",
       "      <td>No one should ever ask me to speak at anyone’...</td>\n",
       "    </tr>\n",
       "    <tr>\n",
       "      <th>2</th>\n",
       "      <td>Ali_Wong</td>\n",
       "      <td>The last time I was at home in San Francisco, ...</td>\n",
       "    </tr>\n",
       "    <tr>\n",
       "      <th>3</th>\n",
       "      <td>Ali_Wong_2</td>\n",
       "      <td>If you really want to piss off a really hot gi...</td>\n",
       "    </tr>\n",
       "    <tr>\n",
       "      <th>4</th>\n",
       "      <td>Chelsea_Peretti</td>\n",
       "      <td>A friend of a friend just posted like 500 enga...</td>\n",
       "    </tr>\n",
       "  </tbody>\n",
       "</table>\n",
       "</div>"
      ],
      "text/plain": [
       "             comedian                                         transcript\n",
       "0    Anthony_Jeselnik  When I was a kid, I used to fantasize about ge...\n",
       "1  Anthony_Jeselnik_2   No one should ever ask me to speak at anyone’...\n",
       "2            Ali_Wong  The last time I was at home in San Francisco, ...\n",
       "3          Ali_Wong_2  If you really want to piss off a really hot gi...\n",
       "4     Chelsea_Peretti  A friend of a friend just posted like 500 enga..."
      ]
     },
     "execution_count": 5,
     "metadata": {},
     "output_type": "execute_result"
    }
   ],
   "source": [
    "transcripts.head()"
   ]
  },
  {
   "cell_type": "code",
   "execution_count": 6,
   "metadata": {},
   "outputs": [],
   "source": [
    "def get_transcript(transcripts, comedian):\n",
    "    return transcripts.loc[transcripts['comedian'] == comedian, 'transcript'].values[0]"
   ]
  },
  {
   "cell_type": "code",
   "execution_count": 22,
   "metadata": {},
   "outputs": [],
   "source": [
    "def get_answers(answers, comedian):\n",
    "    comedian_sentences = answers.loc[answers['Comedian'] == comedian, 'Sentence'].values.tolist()\n",
    "    return comedian_sentences"
   ]
  },
  {
   "cell_type": "code",
   "execution_count": 7,
   "metadata": {},
   "outputs": [],
   "source": [
    "aw = get_transcript(transcripts, \"Ali_Wong\")"
   ]
  },
  {
   "cell_type": "code",
   "execution_count": 16,
   "metadata": {},
   "outputs": [],
   "source": [
    "aw_ans = get_answers(answers,\"Ali_Wong\")"
   ]
  },
  {
   "cell_type": "code",
   "execution_count": 23,
   "metadata": {},
   "outputs": [
    {
     "data": {
      "text/plain": [
       "['It was like the worst experience of my life. It was so emotional.',\n",
       " \"Those of you under 25 probably don't know what that calculator is.\",\n",
       " 'It was like the Tesla of my time.',\n",
       " \"I'm not trying to be a procrastinator anymore. Because according to Deepak-Oprah, that's not the way for me to achieve my optimum level of success.\"]"
      ]
     },
     "execution_count": 23,
     "metadata": {},
     "output_type": "execute_result"
    }
   ],
   "source": [
    "aw_ans"
   ]
  },
  {
   "cell_type": "code",
   "execution_count": 58,
   "metadata": {},
   "outputs": [
    {
     "name": "stdout",
     "output_type": "stream",
     "text": [
      "['Attribution', 'ClassSummarizer', 'CommonStats', 'Count', 'Deconvolution', 'DeepLift', 'DeepLiftShap', 'FeatureAblation', 'FeaturePermutation', 'GradientAttribution', 'GradientShap', 'GuidedBackprop', 'GuidedGradCam', 'InputXGradient', 'IntegratedGradients', 'InternalInfluence', 'InterpretableEmbeddingBase', 'KernelShap', 'LRP', 'LayerActivation', 'LayerAttribution', 'LayerConductance', 'LayerDeepLift', 'LayerDeepLiftShap', 'LayerFeatureAblation', 'LayerGradCam', 'LayerGradientShap', 'LayerGradientXActivation', 'LayerIntegratedGradients', 'LayerLRP', 'Lime', 'LimeBase', 'MSE', 'Max', 'Mean', 'Min', 'NeuronAttribution', 'NeuronConductance', 'NeuronDeconvolution', 'NeuronDeepLift', 'NeuronDeepLiftShap', 'NeuronFeatureAblation', 'NeuronGradient', 'NeuronGradientShap', 'NeuronGuidedBackprop', 'NeuronIntegratedGradients', 'NoiseTunnel', 'Occlusion', 'PerturbationAttribution', 'Saliency', 'ShapleyValueSampling', 'ShapleyValues', 'StdDev', 'Sum', 'Summarizer', 'TokenReferenceBase', 'Var', '__all__', '__builtins__', '__cached__', '__doc__', '__file__', '__loader__', '__name__', '__package__', '__path__', '__spec__', '_core', '_models', '_utils', 'configure_interpretable_embedding_layer', 'remove_interpretable_embedding_layer', 'visualization']\n"
     ]
    }
   ],
   "source": [
    "from captum.attr import *\n",
    "print(dir(captum.attr))"
   ]
  },
  {
   "cell_type": "code",
   "execution_count": 67,
   "metadata": {},
   "outputs": [],
   "source": [
    "from captum.attr import FeatureAblation"
   ]
  },
  {
   "cell_type": "code",
   "execution_count": 69,
   "metadata": {},
   "outputs": [
    {
     "ename": "ImportError",
     "evalue": "cannot import name 'TextTokenInput' from 'captum.attr' (/home/ada/humor/.venv/lib/python3.8/site-packages/captum/attr/__init__.py)",
     "output_type": "error",
     "traceback": [
      "\u001b[0;31m---------------------------------------------------------------------------\u001b[0m",
      "\u001b[0;31mImportError\u001b[0m                               Traceback (most recent call last)",
      "Cell \u001b[0;32mIn[69], line 1\u001b[0m\n\u001b[0;32m----> 1\u001b[0m \u001b[38;5;28;01mfrom\u001b[39;00m \u001b[38;5;21;01mcaptum\u001b[39;00m\u001b[38;5;21;01m.\u001b[39;00m\u001b[38;5;21;01mattr\u001b[39;00m \u001b[38;5;28;01mimport\u001b[39;00m TextTokenInput\n",
      "\u001b[0;31mImportError\u001b[0m: cannot import name 'TextTokenInput' from 'captum.attr' (/home/ada/humor/.venv/lib/python3.8/site-packages/captum/attr/__init__.py)"
     ]
    }
   ],
   "source": [
    "from captum.attr import TextTokenInput"
   ]
  },
  {
   "cell_type": "code",
   "execution_count": 66,
   "metadata": {},
   "outputs": [
    {
     "ename": "ImportError",
     "evalue": "cannot import name 'LLMAttribution' from 'captum.attr' (/home/ada/humor/.venv/lib/python3.8/site-packages/captum/attr/__init__.py)",
     "output_type": "error",
     "traceback": [
      "\u001b[0;31m---------------------------------------------------------------------------\u001b[0m",
      "\u001b[0;31mImportError\u001b[0m                               Traceback (most recent call last)",
      "Cell \u001b[0;32mIn[66], line 1\u001b[0m\n\u001b[0;32m----> 1\u001b[0m \u001b[38;5;28;01mfrom\u001b[39;00m \u001b[38;5;21;01mcaptum\u001b[39;00m\u001b[38;5;21;01m.\u001b[39;00m\u001b[38;5;21;01mattr\u001b[39;00m \u001b[38;5;28;01mimport\u001b[39;00m (\n\u001b[1;32m      2\u001b[0m     FeatureAblation, \n\u001b[1;32m      3\u001b[0m     LLMAttribution, \n\u001b[1;32m      4\u001b[0m     LLMGradientAttribution, \n\u001b[1;32m      5\u001b[0m )\n",
      "\u001b[0;31mImportError\u001b[0m: cannot import name 'LLMAttribution' from 'captum.attr' (/home/ada/humor/.venv/lib/python3.8/site-packages/captum/attr/__init__.py)"
     ]
    }
   ],
   "source": [
    "from captum.attr import (\n",
    "    FeatureAblation, \n",
    "    LLMAttribution, \n",
    "    LLMGradientAttribution, \n",
    ")\n"
   ]
  },
  {
   "cell_type": "code",
   "execution_count": null,
   "metadata": {},
   "outputs": [],
   "source": [
    "inp = TextTokenInput(\n",
    "    aw, \n",
    "    tokenizer,\n",
    "    skip_tokens=[1],  # skip the special token for the start of the text <s>\n",
    ")"
   ]
  },
  {
   "cell_type": "code",
   "execution_count": 53,
   "metadata": {},
   "outputs": [
    {
     "ename": "NameError",
     "evalue": "name 'LLMAttribution' is not defined",
     "output_type": "error",
     "traceback": [
      "\u001b[0;31m---------------------------------------------------------------------------\u001b[0m",
      "\u001b[0;31mNameError\u001b[0m                                 Traceback (most recent call last)",
      "Cell \u001b[0;32mIn[53], line 3\u001b[0m\n\u001b[1;32m      1\u001b[0m fa \u001b[38;5;241m=\u001b[39m FeatureAblation(model)\n\u001b[0;32m----> 3\u001b[0m llm_attr \u001b[38;5;241m=\u001b[39m \u001b[43mLLMAttribution\u001b[49m(fa, tokenizer)\n",
      "\u001b[0;31mNameError\u001b[0m: name 'LLMAttribution' is not defined"
     ]
    }
   ],
   "source": [
    "fa = FeatureAblation(model)\n",
    "\n",
    "llm_attr = LLMAttribution(fa, tokenizer)"
   ]
  },
  {
   "cell_type": "code",
   "execution_count": 24,
   "metadata": {},
   "outputs": [
    {
     "ename": "NameError",
     "evalue": "name 'llm_attr' is not defined",
     "output_type": "error",
     "traceback": [
      "\u001b[0;31m---------------------------------------------------------------------------\u001b[0m",
      "\u001b[0;31mNameError\u001b[0m                                 Traceback (most recent call last)",
      "Cell \u001b[0;32mIn[24], line 1\u001b[0m\n\u001b[0;32m----> 1\u001b[0m attr_res \u001b[38;5;241m=\u001b[39m \u001b[43mllm_attr\u001b[49m\u001b[38;5;241m.\u001b[39mattribute(aw, aw_ans[\u001b[38;5;241m0\u001b[39m])\n",
      "\u001b[0;31mNameError\u001b[0m: name 'llm_attr' is not defined"
     ]
    }
   ],
   "source": [
    "attr_res = llm_attr.attribute(aw, aw_ans[0])"
   ]
  }
 ],
 "metadata": {
  "kernelspec": {
   "display_name": ".venv",
   "language": "python",
   "name": "python3"
  },
  "language_info": {
   "codemirror_mode": {
    "name": "ipython",
    "version": 3
   },
   "file_extension": ".py",
   "mimetype": "text/x-python",
   "name": "python",
   "nbconvert_exporter": "python",
   "pygments_lexer": "ipython3",
   "version": "3.8.10"
  }
 },
 "nbformat": 4,
 "nbformat_minor": 2
}
