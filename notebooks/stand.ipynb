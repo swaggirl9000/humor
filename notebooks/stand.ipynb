{
 "cells": [
  {
   "cell_type": "code",
   "execution_count": 1,
   "metadata": {},
   "outputs": [],
   "source": [
    "import pandas as pd"
   ]
  },
  {
   "cell_type": "code",
   "execution_count": 2,
   "metadata": {},
   "outputs": [],
   "source": [
    "from pathlib import Path"
   ]
  },
  {
   "cell_type": "code",
   "execution_count": 7,
   "metadata": {},
   "outputs": [],
   "source": [
    "aj = Path(\"/Users/ada/Developer/humor/stand_up_dataset/aj/AJ_TP_text_15.txt\").read_text()\n",
    "aj2 = Path(\"/Users/ada/Developer/humor/stand_up_dataset/aj2/AJ_TP_text_25.txt\").read_text()\n",
    "aw = Path(\"/Users/ada/Developer/humor/stand_up_dataset/aw/AW_BC_text_04.txt\").read_text()\n",
    "aw2 = Path(\"/Users/ada/Developer/humor/stand_up_dataset/aw2/AW_BC_text_10.txt\").read_text()\n",
    "cp = Path(\"/Users/ada/Developer/humor/stand_up_dataset/cp/CP_OTG_text_18.txt\").read_text()\n",
    "cp2 = Path(\"/Users/ada/Developer/humor/stand_up_dataset/cp2/CP_OTG_text_07.txt\").read_text()\n",
    "dg = Path(\"/Users/ada/Developer/humor/stand_up_dataset/dg/DG_W_text_11.txt\").read_text()\n",
    "dg2 = Path(\"/Users/ada/Developer/humor/stand_up_dataset/dg2/DG_W_text_07.txt\").read_text()\n",
    "hm = Path(\"/Users/ada/Developer/humor/stand_up_dataset/hm/HM_HK_text_05.txt\").read_text()\n",
    "hm2 = Path(\"/Users/ada/Developer/humor/stand_up_dataset/hm2/HM_HK_text_22.txt\").read_text()\n",
    "iss = Path(\"/Users/ada/Developer/humor/stand_up_dataset/is/IS_EM_text_18.txt\").read_text()\n",
    "is2 = Path(\"/Users/ada/Developer/humor/stand_up_dataset/is2/IS_EM_text_20.txt\").read_text()\n",
    "jg = Path(\"/Users/ada/Developer/humor/stand_up_dataset/jg/JG_QT_text_03.txt\").read_text()\n",
    "jg2 = Path(\"/Users/ada/Developer/humor/stand_up_dataset/jg2/JG_QT_text_14.txt\").read_text()\n",
    "ji = Path(\"/Users/ada/Developer/humor/stand_up_dataset/ji/JL_IHM_text_11.txt\").read_text()\n",
    "ji2 = Path(\"/Users/ada/Developer/humor/stand_up_dataset/ji2/JL_IHM_text_02.txt\").read_text()\n",
    "jm = Path(\"/Users/ada/Developer/humor/stand_up_dataset/jm/JB_KGRC_text_12.txt\").read_text()\n",
    "jm2 = Path(\"/Users/ada/Developer/humor/stand_up_dataset/jm2/JB_KGRC_text_06.txt\").read_text()\n",
    "jy = Path(\"/Users/ada/Developer/humor/stand_up_dataset/jy/JY_GD_text_09.txt\").read_text()\n",
    "jy2 = Path(\"/Users/ada/Developer/humor/stand_up_dataset/jy2/JY_GD_text_19.txt\").read_text()\n",
    "lck = Path(\"/Users/ada/Developer/humor/stand_up_dataset/lck/LCK_SY_text_06.txt\").read_text()\n",
    "lck2 = Path(\"/Users/ada/Developer/humor/stand_up_dataset/lck2/LCK_SY_text_20.txt\").read_text()\n",
    "nb = Path(\"/Users/ada/Developer/humor/stand_up_dataset/nb/NB_TGAA_text_09.txt\").read_text()\n",
    "nb2 = Path(\"/Users/ada/Developer/humor/stand_up_dataset/nb2/NB_TGAA_text_14.txt\").read_text()\n",
    "nb_tk = Path(\"/Users/ada/Developer/humor/stand_up_dataset/nb_tk/NB_TK_text_20.txt\").read_text()\n",
    "nb_tk2 = Path(\"/Users/ada/Developer/humor/stand_up_dataset/nb_tk2/NB_TK_text_17.txt\").read_text()\n",
    "rp = Path(\"/Users/ada/Developer/humor/stand_up_dataset/rp/RP_DP_text_06.txt\").read_text()\n",
    "rp2 = Path(\"/Users/ada/Developer/humor/stand_up_dataset/rp2/RP_DP_text_21.txt\").read_text()\n",
    "sm = Path(\"/Users/ada/Developer/humor/stand_up_dataset/sm/SM_IGT_text_04.txt\").read_text()\n",
    "sm2 = Path(\"/Users/ada/Developer/humor/stand_up_dataset/sm2/SM_IGT_text_13.txt\").read_text()\n",
    "tn = Path(\"/Users/ada/Developer/humor/stand_up_dataset/tn/TN_AD_text_16.txt\").read_text()\n",
    "tn2 = Path(\"/Users/ada/Developer/humor/stand_up_dataset/tn2/TN_AD_text_14.txt\").read_text()\n",
    "ts = Path(\"/Users/ada/Developer/humor/stand_up_dataset/ts/TS_D_text_09.txt\").read_text()\n",
    "ts2 = Path(\"/Users/ada/Developer/humor/stand_up_dataset/ts2/TS_D_text_15.txt\").read_text()"
   ]
  },
  {
   "cell_type": "code",
   "execution_count": 17,
   "metadata": {},
   "outputs": [],
   "source": [
    "transcripts = [aj, aj2, aw, aw2, cp, cp2, dg, dg2, hm, hm2, iss, is2, jg, jg2, ji, ji2, jm, jm2, jy, jy2, lck, lck2, nb, nb2, nb_tk, nb_tk2, rp, rp2, sm, sm2, tn, tn2, ts, ts2]"
   ]
  },
  {
   "cell_type": "code",
   "execution_count": 18,
   "metadata": {},
   "outputs": [
    {
     "data": {
      "text/plain": [
       "34"
      ]
     },
     "execution_count": 18,
     "metadata": {},
     "output_type": "execute_result"
    }
   ],
   "source": [
    "len(transcripts)"
   ]
  },
  {
   "cell_type": "code",
   "execution_count": 15,
   "metadata": {},
   "outputs": [],
   "source": [
    "comedian_names = [\"Anthony_Jeselnik\", \n",
    "                  \"Anthony_Jeselnik_2\", \n",
    "                  \"Ali_Wong\", \n",
    "                  \"Ali_Wong_2\",\n",
    "                  \"Chelsea_Peretti\",\n",
    "                  \"Chelsea_Peretti_2\",\n",
    "                  \"Donald_Glover\",\n",
    "                  \"Donald_Glover_2\",\n",
    "                  \"Hasan_Minhaj\",\n",
    "                  \"Hasan_Minhaj_2\",\n",
    "                  \"Iliza_Shlesinger\",\n",
    "                  \"Iliza_Shlesinger_2\",\n",
    "                  \"Jim_Gaffigan\",\n",
    "                  \"Jim_Gaffigan_2\",\n",
    "                  \"Joe_List\",\n",
    "                  \"Joe_List_2\",\n",
    "                  \"John_Mulaney\",\n",
    "                  \"John_Mulaney_2\",\n",
    "                  \"Jimmy_Yang\",\n",
    "                  \"Jimmy_Yang_2\",\n",
    "                  \"Louis_CK\",\n",
    "                  \"Louis_CK_2\",\n",
    "                  \"Nate_Bargatze\",\n",
    "                  \"Nate_Bargatze_2\",\n",
    "                  \"Nate_Bargatze_TK\",\n",
    "                  \"Nate_Bargatze_TK_2\",\n",
    "                  \"Russell_Peters\",\n",
    "                  \"Russell_Peters_2\",\n",
    "                  \"Sam_Morril\",\n",
    "                  \"Sam_Morril_2\",\n",
    "                  \"Trevor_Noah\",\n",
    "                  \"Trevor_Noah_2\",\n",
    "                  \"Tom_Segura\",\n",
    "                  \"Tom_Segura_2\"]"
   ]
  },
  {
   "cell_type": "code",
   "execution_count": 16,
   "metadata": {},
   "outputs": [
    {
     "data": {
      "text/plain": [
       "34"
      ]
     },
     "execution_count": 16,
     "metadata": {},
     "output_type": "execute_result"
    }
   ],
   "source": [
    "len(comedian_names)"
   ]
  },
  {
   "cell_type": "code",
   "execution_count": 19,
   "metadata": {},
   "outputs": [
    {
     "name": "stdout",
     "output_type": "stream",
     "text": [
      "             comedian                                         transcript\n",
      "0    Anthony_Jeselnik  When I was a kid, I used to fantasize about ge...\n",
      "1  Anthony_Jeselnik_2   No one should ever ask me to speak at anyone’...\n",
      "2            Ali_Wong  The last time I was at home in San Francisco, ...\n",
      "3          Ali_Wong_2  If you really want to piss off a really hot gi...\n",
      "4     Chelsea_Peretti  A friend of a friend just posted like 500 enga...\n"
     ]
    }
   ],
   "source": [
    "stand_up_data = pd.DataFrame({'comedian': comedian_names, 'transcript': transcripts})\n",
    "print(stand_up_data.head())"
   ]
  },
  {
   "cell_type": "code",
   "execution_count": 20,
   "metadata": {},
   "outputs": [],
   "source": [
    "stand_up_data.to_csv('/Users/ada/Developer/humor/stand_up_dataset/standup_transcripts.csv', index=False)"
   ]
  }
 ],
 "metadata": {
  "kernelspec": {
   "display_name": "base",
   "language": "python",
   "name": "python3"
  },
  "language_info": {
   "codemirror_mode": {
    "name": "ipython",
    "version": 3
   },
   "file_extension": ".py",
   "mimetype": "text/x-python",
   "name": "python",
   "nbconvert_exporter": "python",
   "pygments_lexer": "ipython3",
   "version": "3.9.13"
  }
 },
 "nbformat": 4,
 "nbformat_minor": 2
}
