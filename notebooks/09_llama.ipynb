{
 "cells": [
  {
   "cell_type": "code",
   "execution_count": 3,
   "metadata": {},
   "outputs": [],
   "source": [
    "import pandas as pd"
   ]
  },
  {
   "cell_type": "code",
   "execution_count": 4,
   "metadata": {},
   "outputs": [],
   "source": [
    "transcripts = pd.read_csv('/home/ada/humor/data/stand_up_dataset/standup_transcripts.csv')"
   ]
  },
  {
   "cell_type": "code",
   "execution_count": 9,
   "metadata": {},
   "outputs": [],
   "source": [
    "instruction = \"Extract the key humorous lines and punchlines for this stand-up comedy transcript. Focus on the quotes highlighting the main comedic moments. List of quotes:\""
   ]
  },
  {
   "cell_type": "code",
   "execution_count": null,
   "metadata": {},
   "outputs": [],
   "source": [
    "pad_token_id = tokenizer.eos_token_id if tokenizer.eos_token_id else tokenizer.pad_token_id"
   ]
  },
  {
   "cell_type": "code",
   "execution_count": null,
   "metadata": {},
   "outputs": [],
   "source": [
    "results_dict"
   ]
  },
  {
   "cell_type": "code",
   "execution_count": 5,
   "metadata": {},
   "outputs": [
    {
     "name": "stderr",
     "output_type": "stream",
     "text": [
      "/home/ada/humor/.venv/lib/python3.8/site-packages/tqdm/auto.py:21: TqdmWarning: IProgress not found. Please update jupyter and ipywidgets. See https://ipywidgets.readthedocs.io/en/stable/user_install.html\n",
      "  from .autonotebook import tqdm as notebook_tqdm\n",
      "Loading checkpoint shards: 100%|██████████| 4/4 [00:02<00:00,  1.43it/s]\n",
      "Special tokens have been added in the vocabulary, make sure the associated word embeddings are fine-tuned or trained.\n"
     ]
    }
   ],
   "source": [
    "import transformers\n",
    "import torch\n",
    "\n",
    "model_id = \"meta-llama/Meta-Llama-3-8B-Instruct\"\n",
    "\n",
    "pipeline = transformers.pipeline(\n",
    "    \"text-generation\", model=model_id, model_kwargs={\"torch_dtype\": torch.bfloat16}, device_map=\"cuda:0\"\n",
    ")\n"
   ]
  },
  {
   "cell_type": "code",
   "execution_count": 4,
   "metadata": {},
   "outputs": [
    {
     "name": "stderr",
     "output_type": "stream",
     "text": [
      "Setting `pad_token_id` to `eos_token_id`:128009 for open-end generation.\n",
      "Setting `pad_token_id` to `eos_token_id`:128009 for open-end generation.\n"
     ]
    },
    {
     "data": {
      "text/plain": [
       "[[{'generated_text': [{'role': 'user',\n",
       "     'content': 'Hey how are you doing today?'},\n",
       "    {'role': 'assistant',\n",
       "     'content': 'I\\'m just a language model, I don\\'t have emotions or feelings like humans do, so I don\\'t have good or bad days. I\\'m always \"'}]}],\n",
       " [{'generated_text': [{'role': 'user', 'content': 'What is your name?'},\n",
       "    {'role': 'assistant',\n",
       "     'content': \"I don't have a personal name. I'm an AI designed to assist and communicate with users, and I don't have a personal identity or consciousness. I\"}]}]]"
      ]
     },
     "execution_count": 4,
     "metadata": {},
     "output_type": "execute_result"
    }
   ],
   "source": [
    "conversation1 = [{\"role\": \"user\", \"content\": \"Hey how are you doing today?\"}]\n",
    "conversation2 = [{\"role\": \"user\", \"content\": \"What is your name?\"}]\n",
    "\n",
    "pipeline([conversation1, conversation2], max_new_tokens=32)"
   ]
  },
  {
   "cell_type": "code",
   "execution_count": 26,
   "metadata": {},
   "outputs": [
    {
     "name": "stderr",
     "output_type": "stream",
     "text": [
      "Setting `pad_token_id` to `eos_token_id`:128009 for open-end generation.\n"
     ]
    },
    {
     "name": "stderr",
     "output_type": "stream",
     "text": [
      "Setting `pad_token_id` to `eos_token_id`:128009 for open-end generation.\n",
      "Setting `pad_token_id` to `eos_token_id`:128009 for open-end generation.\n",
      "Setting `pad_token_id` to `eos_token_id`:128009 for open-end generation.\n",
      "Setting `pad_token_id` to `eos_token_id`:128009 for open-end generation.\n",
      "Setting `pad_token_id` to `eos_token_id`:128009 for open-end generation.\n",
      "Setting `pad_token_id` to `eos_token_id`:128009 for open-end generation.\n",
      "Setting `pad_token_id` to `eos_token_id`:128009 for open-end generation.\n",
      "Setting `pad_token_id` to `eos_token_id`:128009 for open-end generation.\n",
      "Setting `pad_token_id` to `eos_token_id`:128009 for open-end generation.\n",
      "Setting `pad_token_id` to `eos_token_id`:128009 for open-end generation.\n",
      "Setting `pad_token_id` to `eos_token_id`:128009 for open-end generation.\n",
      "Setting `pad_token_id` to `eos_token_id`:128009 for open-end generation.\n",
      "Setting `pad_token_id` to `eos_token_id`:128009 for open-end generation.\n",
      "Setting `pad_token_id` to `eos_token_id`:128009 for open-end generation.\n",
      "Setting `pad_token_id` to `eos_token_id`:128009 for open-end generation.\n",
      "Setting `pad_token_id` to `eos_token_id`:128009 for open-end generation.\n",
      "Setting `pad_token_id` to `eos_token_id`:128009 for open-end generation.\n",
      "Setting `pad_token_id` to `eos_token_id`:128009 for open-end generation.\n",
      "Setting `pad_token_id` to `eos_token_id`:128009 for open-end generation.\n",
      "Setting `pad_token_id` to `eos_token_id`:128009 for open-end generation.\n",
      "Setting `pad_token_id` to `eos_token_id`:128009 for open-end generation.\n",
      "Setting `pad_token_id` to `eos_token_id`:128009 for open-end generation.\n",
      "Setting `pad_token_id` to `eos_token_id`:128009 for open-end generation.\n",
      "Setting `pad_token_id` to `eos_token_id`:128009 for open-end generation.\n",
      "Setting `pad_token_id` to `eos_token_id`:128009 for open-end generation.\n",
      "Setting `pad_token_id` to `eos_token_id`:128009 for open-end generation.\n",
      "Setting `pad_token_id` to `eos_token_id`:128009 for open-end generation.\n",
      "Setting `pad_token_id` to `eos_token_id`:128009 for open-end generation.\n",
      "Setting `pad_token_id` to `eos_token_id`:128009 for open-end generation.\n",
      "Setting `pad_token_id` to `eos_token_id`:128009 for open-end generation.\n",
      "Setting `pad_token_id` to `eos_token_id`:128009 for open-end generation.\n",
      "Setting `pad_token_id` to `eos_token_id`:128009 for open-end generation.\n",
      "Setting `pad_token_id` to `eos_token_id`:128009 for open-end generation.\n"
     ]
    }
   ],
   "source": [
    "results_dict = {}\n",
    "\n",
    "for index, row in transcripts.iterrows():\n",
    "    comedian = row['comedian']\n",
    "    transcript = row['transcript']\n",
    "\n",
    "    prompt = f\"'''{transcript}'''\\n\\n{instruction}\"\n",
    "    conversation = [{\"role\": \"user\", \"content\": prompt}]\n",
    "    output = pipeline([conversation], max_new_tokens=120, return_full_text=False)\n",
    "    \n",
    "    results_dict[comedian] = output"
   ]
  },
  {
   "cell_type": "code",
   "execution_count": 27,
   "metadata": {},
   "outputs": [
    {
     "data": {
      "text/plain": [
       "{'Anthony_Jeselnik': [[{'generated_text': 'Here are the key humorous lines and punchlines extracted from the stand-up comedy transcript:\\n\\n1. **\"My bad, everybody. Weird joke to clap for, but sure.\"** - A self-deprecating comment about a joke that might not have landed well.\\n2. **\"Sold my passport on the street for 300 bucks to get to go to my prom. Of course this was before 9/11 so… my bad, everybody.\"** - A humorous anecdote about selling a valuable item to attend a prom, with a nod to the irony of the timing.\\n3. **'}]],\n",
       " 'Anthony_Jeselnik_2': [[{'generated_text': 'Here are the key humorous lines and punchlines extracted from the transcript:\\n\\n1. **\"Try not to.\"** - A humorous aside from the friend\\'s advice, implying that it\\'s hard to resist the urge to tell a joke.\\n2. **\"Mark Twain out of my grandma\\'s mouth, it would just come to life.\"** - A vivid and amusing description of the experience of listening to Mark Twain being read aloud by the speaker\\'s grandma.\\n3. **\"And I know my grandma loved it too, because it combined her two favorite things: spending time with her grandchildren,'}]],\n",
       " 'Ali_Wong': [[{'generated_text': 'Here are the key humorous lines and punchlines extracted from the stand-up comedy transcript:\\n\\n1. **\"Don\\'t ever do that with your mom.\"** - A relatable and humorous warning about the importance of not getting into a messy situation with one\\'s mother.\\n2. **\"It was like the worst experience of my life. It was so emotional. We were screaming and fighting and yelling...\"** - A comedic exaggeration of the intensity of the argument with his mom.\\n3. **\"She don\\'t even know where the calculator is. Those of you under 25 probably don\\'t know'}]],\n",
       " 'Ali_Wong_2': [[{'generated_text': 'Here are the key humorous lines and punchlines extracted from the stand-up comedy transcript:\\n\\n1. \"Life is not Rush Hour, the movie, OK?\" - A humorous way to set the tone and establish that the speaker is not trying to be overly dramatic or stereotypical.\\n2. \"I\\'m just kidding. She doesn\\'t have any black friends.\" - A punchline that subverts expectations and adds humor to the conversation about the speaker\\'s mom\\'s loneliness.\\n3. \"Old Chinese ladies, they don\\'t give a fuck. They got no shame. They\\'re like, \\'I\\'m just'}]],\n",
       " 'Chelsea_Peretti': [[{'generated_text': 'Here are the key humorous lines and punchlines extracted from the stand-up comedy transcript:\\n\\n1. \"To the future!\" (laughing shrilly) - The absurdity of the engagement photo caption is highlighted, making it a comedic moment.\\n2. \"Uh-oh, it\\'s us again.\" (giggles shrilly) - The repetition of the couple\\'s appearances in the photoset is played for laughs.\\n3. \"My hubby made breakfast. My hubby fixed the door. My hubby is sleeping. He breathed in, he breathed out. He breathed in, he breathed out.\"'}]],\n",
       " 'Chelsea_Peretti_2': [[{'generated_text': 'Here are the key humorous lines and punchlines extracted from the stand-up comedy transcript:\\n\\n1. \"People say I look just like you.\" (a sarcastic comment that sets up the rest of the joke)\\n2. \"It\\'s not to make them look youthful, you know. \\'Hi, everyone, same old me.\\' It\\'s actually to stop them from sweating, because why would you, you know, as a human?\" (a humorous take on the absurdity of Botox)\\n3. \"I started sweating out of my butthole.\" (a ridiculous and unexpected consequence of'}]],\n",
       " 'Donald_Glover': [[{'generated_text': 'Here are the key humorous lines and punchlines extracted from the stand-up comedy transcript:\\n\\n1. \"He wasn\\'t crying. Just tears, he was giving me this mean mug, he was like… I was like, what the fuck is wrong with this kid? What\\'s going on with this kid?\"\\n\\t* The unexpected twist on the typical crying child scenario sets up the humor.\\n2. \"He would steal mints by the handful. So his breath was so fresh… the vapors from his own mouth made his eyes water.\"\\n\\t* The absurdity of the situation and the unexpected consequence'}]],\n",
       " 'Donald_Glover_2': [[{'generated_text': 'Here are the key humorous lines and punchlines extracted from the stand-up comedy transcript:\\n\\n1. \"You can shit on command? Like, you can just... You can just poop whenever you want to? Just be like... Hyah! He\\'s like, \\'Oh God, no!\\' Like... You can poop whenever you want? Like, you got... You\\'re a national treasure.\"\\n2. \"You got more superpowers than Shaft if you can poop whenever you want.\"\\n3. \"I\\'d be like, \\'Blow my head off.\\' I can\\'t do it, I can\\'t'}]],\n",
       " 'Hasan_Minhaj': [[{'generated_text': 'Here are the key humorous lines and punchlines extracted from the stand-up comedy transcript:\\n\\n1. \"Are you kidding me? Do you know when brown kids get slapped? Every brown birthday party. And usually it\\'s the kid whose birthday it is, and we stand there and point and laugh. We go, \\'Ah, Biju got slapped on his birthday!\\' And that\\'s what makes us tough and resilient.\"\\n2. \"Slapping is important. It elevates your game. You ever seen an Indian kid win a spelling bee? Incredible! Ice water in the veins. [laughter] That'}]],\n",
       " 'Hasan_Minhaj_2': [[{'generated_text': 'Here are the key humorous lines and punchlines extracted from the transcript:\\n\\n1. **\"I know, getting into Stanford.\"** (sarcastic comment from a student)\\n2. **\"No, you have to live a life worth talking about, which is why I\\'m making it mandatory for everyone in this class to go to prom.\"** (Mr. Pendleton\\'s unexpected announcement)\\n3. **\"All 30 of us? We\\'re all going to prom? AP Calc? Us? Me, Jehovah\\'s Witness girl, Korean exchange students, going to the prom? Thirty for '}]],\n",
       " 'Iliza_Shlesinger': [[{'generated_text': 'Here are the key humorous lines and punchlines extracted from the stand-up comedy transcript:\\n\\n1. \"Welcome to Fuckdome, Scott.\" - A humorous and unexpected response to a guest arriving at one\\'s home.\\n2. \"It\\'s ostensibly like your girlfriend audition time.\" - A relatable and comedic take on the pressure of having a boyfriend over for the first time.\\n3. \"You want him to come in and be, like, \\'It\\'s so homey. I\\'d like to stay forever.\\'\" - A funny exaggeration of the desire to impress a boyfriend.\\n4. \"You'}]],\n",
       " 'Iliza_Shlesinger_2': [[{'generated_text': 'Here are the key humorous lines and punchlines extracted from the stand-up comedy transcript:\\n\\n1. \"You don’t want to wear nipple tassels. Now... some women are, like, \\'Wait a minute.\\' I am the woman that has stood here before and will stand here before you again and let you know you can wear whatever you want. It doesn’t give a man the right to put his hands on you.\"\\n\\t* A humorous take on the idea that some women might be tempted to wear provocative clothing, but the comedian is here to set the record straight.\\n2. \"No'}]],\n",
       " 'Jim_Gaffigan': [[{'generated_text': 'Here are the key humorous lines and punchlines extracted from the stand-up comedy transcript:\\n\\n1. \"I don\\'t know what happened. All I did was eat abusively for 40 years. And suddenly I\\'m fat? That doesn\\'t seem fair.\"\\n\\t* A relatable and unexpected twist on the typical \"I\\'m fat because of genetics\" or \"I\\'m fat because of hormones\" excuses.\\n2. \"When I go in clothing stores, sales people look at me like, \\'We got nothing for you. And you can\\'t use our bathroom.\\'\"\\n\\t* A humorous exagger'}]],\n",
       " 'Jim_Gaffigan_2': [[{'generated_text': 'Here are the key humorous lines and punchlines extracted from the stand-up comedy transcript:\\n\\n1. **\"I have friends that are mentally ill.\"** - A surprising and unexpected opening line that sets the tone for the rest of the set.\\n2. **\"The dog didn\\'t know it was his birthday. The dog didn\\'t know it had a birthday. The dog wasn\\'t sure why people were in the apartment.\"** - A series of deadpan statements that highlight the absurdity of a surprise birthday party for a dog.\\n3. **\"One year equals seven for doggies? Okay.'}]],\n",
       " 'Joe_List': [[{'generated_text': 'Here are the key humorous lines and punchlines extracted from the stand-up comedy transcript:\\n\\n1. \"I was hoping it was three doctors saving money, by sharing a small office. He\\'s like, \\'I\\'m Bill, this is Susan, and Ted. Ear, nose, throat. Who do ya need?\\' And they all kinda...\" (setup for the surprise)\\n2. \"I went for my ear, I have an ear issue called, tinnitus, or tin-uh-dus. That\\'s when you\\'re ears ring. You got it? Yeah, it\\'s frustrating. It\\'s'}]],\n",
       " 'Joe_List_2': [[{'generated_text': 'Here are the key humorous lines and punchlines extracted from the stand-up comedy transcript:\\n\\n1. \"You feel better than everybody behind you, don\\'t you? You can be in the second to last row. This one guy behind, you\\'re like what a fucking idiot back there. Embarrassing, loser. Last row.\"\\n\\t* A humorous take on the feeling of superiority when sitting near the front of a plane.\\n2. \"I wanted him to die, I swear to God. I was like, hope this guy passes away on the flight.\"\\n\\t* An exaggerated and absurd reaction to'}]],\n",
       " 'John_Mulaney': [[{'generated_text': 'Here are the key humorous lines and punchlines extracted from the stand-up comedy transcript:\\n\\n1. \"I said, \\'Of course I did! On an unrelated note, I\\'m going to walk out the front door right now.\\'\" - A comedic twist on the usual response to a question.\\n2. \"I was like, \\'This one\\'s shirts. I got a bunch of shirts! Take \\'em away!\\' The boxes were so heavy I couldn\\'t even say what was in them.\" - A humorous exaggeration of the speaker\\'s experience at Goodwill.\\n3. \"How do I write that'}]],\n",
       " 'John_Mulaney_2': [[{'generated_text': 'Here are the key humorous lines and punchlines extracted from the stand-up comedy transcript:\\n\\n1. \"The Bruno Mars of assemblies.\" - A clever comparison that sets the tone for the rest of the comedy.\\n2. \"You are gathered together as a school and you are told never to talk to an adult that you don’t know and you are told this by an adult that you don’t know.\" - A clever observation that pokes fun at the irony of the situation.\\n3. \"Oh, gee. [audience laughing] Very sorry, Radio City, did that make you uncomfortable?\" -'}]],\n",
       " 'Jimmy_Yang': [[{'generated_text': 'Here are the key humorous lines and punchlines extracted from the stand-up comedy transcript:\\n\\n1. **\"We just go to BTS concerts. That’s how we do that parking lot pimping.\"** - A humorous take on the idea that Asian people don\\'t need Tinder, they just go to concerts to find dates.\\n2. **\"I think tall women are beautiful. But some of them like to wear heels. That’s just disrespect.\"** - A comedic observation about the perceived disrespect of wearing heels when already being taller than the speaker.\\n3. **\"Your ass is at my eye level'}]],\n",
       " 'Jimmy_Yang_2': [[{'generated_text': 'Here are the key humorous lines and punchlines extracted from the stand-up comedy transcript:\\n\\n1. **\"They\\'re like negative 9 generation, because they\\'re so frickin\\' Chinese.\"** - A humorous exaggeration of the speaker\\'s cultural heritage.\\n2. **\"Old Asian people, they don\\'t watch TV. They judge the TV.\"** - A relatable and comedic observation about the speaker\\'s parents\\' TV-watching habits.\\n3. **\"He\\'s just sitting there, arms folded, judging the TV like...\"** - A vivid description of the speaker\\'s dad\\'s TV'}]],\n",
       " 'Louis_CK': [[{'generated_text': 'Here are the key humorous lines and punchlines extracted from the stand-up comedy transcript:\\n\\n1. \"You fucking think about it, you idiot.\"\\n\\t* A sarcastic and playful jab at the friend\\'s skepticism.\\n2. \"What, was he Presbyterian? What was he? Catholic?\"\\n\\t* A humorous exaggeration of the friend\\'s argument, implying that Jesus couldn\\'t be Jewish.\\n3. \"Okay, Jesus was Catholic and he had a gold chain with a cross.\"\\n\\t* A ridiculous and unexpected twist, poking fun at the idea of Jesus being Catholic.\\n4. \"And when they'}]],\n",
       " 'Louis_CK_2': [[{'generated_text': 'Here are the key humorous lines and punchlines extracted from the stand-up comedy transcript:\\n\\n1. **\"They\\'re so stupid! Incredibly stupid animals.\"** - A straightforward and exaggerated statement that sets the tone for the rest of the comedy.\\n2. **\"I know you! Ha!\"** - The image of a dog sitting there, seemingly oblivious to the drama unfolding around it, is a comedic goldmine.\\n3. **\"They don\\'t even know their own lives, they don\\'t even — they can\\'t even handle their own lives mentally.\"** - The absurdity of a'}]],\n",
       " 'Nate_Bargatze': [[{'generated_text': 'Here are the key humorous lines and punchlines extracted from the stand-up comedy transcript:\\n\\n1. \"I love having a kid. We... I love when kids cry, it\\'s just innocent. I love how innocent it is. They cry over a tag in their shirt. I mean, they bawl. They don\\'t like... It feels weird. And then, you could be like, \\'Is your house on fire?\\' I\\'ve never seen someone cry this much. It\\'s over nothing.\" (Punchline: \"It\\'s over nothing\")\\n2. \"She wants to be a You'}]],\n",
       " 'Nate_Bargatze_2': [[{'generated_text': 'Here are the key humorous lines and punchlines extracted from the transcript:\\n\\n1. \"Homework\\'s fun. First and second grade was awesome. Third grade, you\\'re like, \\'Okay.\\' They throw some stuff in, you\\'re like, \\'Oh, all right. All right.\\'\"\\n\\t* The comedian\\'s deadpan delivery and relatable description of the transition from elementary to third grade sets the tone for the rest of the routine.\\n2. \"It\\'s just a whole new... I mean, it\\'s unbelievable. They bring it home, you gotta watch a 40-minute YouTube video'}]],\n",
       " 'Nate_Bargatze_TK': [[{'generated_text': 'Here are the key humorous lines and punchlines extracted from the stand-up comedy transcript:\\n\\n1. \"You can take them in either order. I was born, he was a clown. It was never weird to me. I thought everybody\\'s dad was a clown.\"\\n\\t* This line sets the tone for the rest of the comedy, establishing the absurdity of the speaker\\'s childhood.\\n2. \"My, uh, first memory of my life is I was five years old, and I remember my mom walked me out to the front yard, and my dad pulled up... We had this old red'}]],\n",
       " 'Nate_Bargatze_TK_2': [[{'generated_text': 'Here are the key humorous lines and punchlines extracted from the stand-up comedy transcript:\\n\\n1. \"People were like, \\'We gotta be there Monday for this wedding? How long is this wedding? It\\'s a week?\\'\"\\n\\t* This line sets the tone for the absurdity of the wedding and the speaker\\'s surprise at the length of the celebration.\\n2. \"I look like I work there.\" \\n\\t* The speaker\\'s self-deprecation and observation that they\\'re overdressed for the occasion creates humor.\\n3. \"Everybody else just has a football or basketball jersey on.\"\\n\\t*'}]],\n",
       " 'Russell_Peters': [[{'generated_text': 'Here are the key humorous lines and punchlines extracted from the stand-up comedy transcript:\\n\\n1. **\"What do you mean what else is wrong with me? He goes, look, you\\'re a 48-year-old Indian man.\"** - The setup for the joke, highlighting the doctor\\'s stereotypical assumption.\\n2. **\"I don\\'t know. Does anybody else– who else has acid reflux in here?\"** - The comedian\\'s sarcastic response, implying that everyone in the audience should have acid reflux.\\n3. **\"There\\'s no way you can consume the food that we eat'}]],\n",
       " 'Russell_Peters_2': [[{'generated_text': 'Here are the key humorous lines and punchlines extracted from the stand-up comedy transcript:\\n\\n1. **\"Identical twins are the only people that should be twins. And I started getting scared when I thought my girlfriend was going to have twins.\"** - A relatable and unexpected opening that sets the tone for the rest of the routine.\\n2. **\"I was like, if I have twin girls– because you’ve got to have fun with the names. If I have twin girls, these are going to be my daughters, it’s going to be Kate and Duplicate.\"** - A clever'}]],\n",
       " 'Sam_Morril': [[{'generated_text': 'Here are the key humorous lines and punchlines extracted from the stand-up comedy transcript:\\n\\n1. \"I got roofied at a party in college by accident, but you know, it still counts. Obviously, it was an accident. No one at the party was like I’m gonna roofie that hairy boy over there. Let me a passed-out werewolf tonight.\" - A humorous take on the serious issue of roofie-ing, downplaying the severity of the situation.\\n2. \"I did not see one concerned face in here. Everyone in here is like I assume things worked out for you'}]],\n",
       " 'Sam_Morril_2': [[{'generated_text': 'Here are the key humorous lines and punchlines extracted from the stand-up comedy transcript:\\n\\n1. \"Wouldn\\'t kill you to carry a pack\" - a potential pro-cigarette commercial slogan that pokes fun at the double standard of anti-smoking ads.\\n2. \"My friend just had one, and her boyfriend didn\\'t contribute to the cost, which I thought was not cool, you know? She\\'s going through it, yeah. That\\'s not a very noble stance, I don\\'t think. That is how low the bar is.\" - a joke about a friend\\'s boyfriend not paying'}]],\n",
       " 'Trevor_Noah': [[{'generated_text': 'Here are the key humorous lines and punchlines extracted from the stand-up comedy transcript:\\n\\n1. \"You don\\'t mess with the Russians. Most frightening people in the world. You know how I know this? You know how I\\'ve learned? Because I\\'ve learned how to use the Russian accent for myself.\"\\n2. \"I\\'m not particularly comfortable in the house at night by myself. What I\\'m trying to say is I\\'m afraid of the dark. And I know it\\'s stupid to be afraid of the dark, right? Because there\\'s nothing there, nine times out of ten.\"\\n3'}]],\n",
       " 'Trevor_Noah_2': [[{'generated_text': 'Here are the key humorous lines and punchlines extracted from the transcript:\\n\\n1. \"You can’t do normal things with that voice. You are destined for greatness. You can’t be running in the streets: ‘And a Kit Kat, please.’ No. No. It’s so unique.\"\\n2. \"What are you making, prank phone calls? ‘Who the hell is this?!’ ‘I’m not telling you.’ [laughs]\"\\n3. \"He would tell the joke, and it would just sound too epic for people to laugh.\"\\n4. \"Ah, knock, knock. People'}]],\n",
       " 'Tom_Segura': [[{'generated_text': 'Here are the key humorous lines and punchlines extracted from the stand-up comedy transcript:\\n\\n1. \"The most terrifying housing situation that exists. Where other trailer people are like, \\'Get the fuck out of here.\\' Kick \\'em out.\"\\n\\t* This line sets the tone for the rest of the story, highlighting the absurdity and fear associated with living in a solo trailer.\\n2. \"You trying to get a sack?\" -I was like, \"Oh, shit. Yeah.\" \"We could go do that.\" I was like, \"All right. Cool.\"\\n\\t* The unexpected and'}]],\n",
       " 'Tom_Segura_2': [[{'generated_text': 'Here are the key humorous lines and punchlines extracted from the stand-up comedy transcript:\\n\\n1. **\"I did it... I did it at the hotel earlier. I got such a warm rush through my body. It felt like the inside of my body hugged the outside of my body, you know?\"** - A humorous and exaggerated description of the thrill of letting an elevator door close on someone.\\n2. **\"I think it\\'s a taste of power. Like most of us, we have no power in our everyday lives. But if you\\'re alone in an elevator, -you are lord'}]]}"
      ]
     },
     "execution_count": 27,
     "metadata": {},
     "output_type": "execute_result"
    }
   ],
   "source": [
    "results_dict"
   ]
  },
  {
   "cell_type": "code",
   "execution_count": 6,
   "metadata": {},
   "outputs": [],
   "source": [
    "instruction = \"The following is a stand-up comedy transcript. What are the funniest punchlines from the transcript. List of quotes:\""
   ]
  },
  {
   "cell_type": "code",
   "execution_count": 7,
   "metadata": {},
   "outputs": [
    {
     "name": "stderr",
     "output_type": "stream",
     "text": [
      "Setting `pad_token_id` to `eos_token_id`:128001 for open-end generation.\n"
     ]
    },
    {
     "name": "stderr",
     "output_type": "stream",
     "text": [
      "Setting `pad_token_id` to `eos_token_id`:128001 for open-end generation.\n",
      "Setting `pad_token_id` to `eos_token_id`:128001 for open-end generation.\n",
      "Setting `pad_token_id` to `eos_token_id`:128001 for open-end generation.\n",
      "Setting `pad_token_id` to `eos_token_id`:128001 for open-end generation.\n",
      "Setting `pad_token_id` to `eos_token_id`:128001 for open-end generation.\n",
      "Setting `pad_token_id` to `eos_token_id`:128001 for open-end generation.\n",
      "Setting `pad_token_id` to `eos_token_id`:128001 for open-end generation.\n",
      "Setting `pad_token_id` to `eos_token_id`:128001 for open-end generation.\n",
      "Setting `pad_token_id` to `eos_token_id`:128001 for open-end generation.\n",
      "You seem to be using the pipelines sequentially on GPU. In order to maximize efficiency please use a dataset\n",
      "Setting `pad_token_id` to `eos_token_id`:128001 for open-end generation.\n",
      "Setting `pad_token_id` to `eos_token_id`:128001 for open-end generation.\n",
      "Setting `pad_token_id` to `eos_token_id`:128001 for open-end generation.\n",
      "Setting `pad_token_id` to `eos_token_id`:128001 for open-end generation.\n",
      "Setting `pad_token_id` to `eos_token_id`:128001 for open-end generation.\n",
      "Setting `pad_token_id` to `eos_token_id`:128001 for open-end generation.\n",
      "Setting `pad_token_id` to `eos_token_id`:128001 for open-end generation.\n",
      "Setting `pad_token_id` to `eos_token_id`:128001 for open-end generation.\n",
      "Setting `pad_token_id` to `eos_token_id`:128001 for open-end generation.\n",
      "Setting `pad_token_id` to `eos_token_id`:128001 for open-end generation.\n",
      "Setting `pad_token_id` to `eos_token_id`:128001 for open-end generation.\n",
      "Setting `pad_token_id` to `eos_token_id`:128001 for open-end generation.\n",
      "Setting `pad_token_id` to `eos_token_id`:128001 for open-end generation.\n",
      "Setting `pad_token_id` to `eos_token_id`:128001 for open-end generation.\n",
      "Setting `pad_token_id` to `eos_token_id`:128001 for open-end generation.\n",
      "Setting `pad_token_id` to `eos_token_id`:128001 for open-end generation.\n",
      "Setting `pad_token_id` to `eos_token_id`:128001 for open-end generation.\n",
      "Setting `pad_token_id` to `eos_token_id`:128001 for open-end generation.\n",
      "Setting `pad_token_id` to `eos_token_id`:128001 for open-end generation.\n",
      "Setting `pad_token_id` to `eos_token_id`:128001 for open-end generation.\n",
      "Setting `pad_token_id` to `eos_token_id`:128001 for open-end generation.\n",
      "Setting `pad_token_id` to `eos_token_id`:128001 for open-end generation.\n",
      "Setting `pad_token_id` to `eos_token_id`:128001 for open-end generation.\n",
      "Setting `pad_token_id` to `eos_token_id`:128001 for open-end generation.\n"
     ]
    }
   ],
   "source": [
    "results_dict = {}\n",
    "\n",
    "for index, row in transcripts.iterrows():\n",
    "    comedian = row['comedian']\n",
    "    transcript = row['transcript']\n",
    "\n",
    "    prompt = f\"'''{transcript}'''\\n\\n{instruction}\"\n",
    "    conversation = [{\"role\": \"user\", \"content\": prompt}]\n",
    "    output = pipeline([conversation], max_new_tokens=120, return_full_text=False)\n",
    "    \n",
    "    results_dict[comedian] = output"
   ]
  },
  {
   "cell_type": "code",
   "execution_count": 8,
   "metadata": {},
   "outputs": [
    {
     "data": {
      "text/plain": [
       "{'Anthony_Jeselnik': [[{'generated_text': 'Based on the transcript, here are some of the funniest punchlines:\\n\\n1. \"Weird joke to clap for, but sure.\" - This is a humorous way to acknowledge that the joke might not be funny, but the audience should still applaud.\\n2. \"My mom actually should’ve been on one of the planes that crashed on 9/11. I think. (pause) My bad, everybody.\" - The unexpected twist and the awkward apology make this line funny.\\n3. \"My mom could be very racist. Very racist. And I do not tolerate racism. That’s ignorance'}]],\n",
       " 'Anthony_Jeselnik_2': [[{'generated_text': 'What a great transcript! Here are the funniest punchlines from the transcript:\\n\\n1. \"And I know my grandma loved it too, because it combined her two favorite things: spending time with her grandchildren, and using the \\'N\\' word.\" - This is a masterclass in dark humor, using a potentially uncomfortable topic to create humor.\\n2. \"...until you\\'ve heard your grandfather gasp at his own wife\\'s funeral......at a Methodist Church in Vicksburg, Mississippi... you are not a real comedian. I am a real comedian.\" - The unexpected twist on the traditional \"'}]],\n",
       " 'Ali_Wong': [[{'generated_text': 'Here are the funniest punchlines from the transcript:\\n\\n1. \"It was like the worst experience of my life. It was so emotional. We were screaming and fighting and yelling and it all came to a climax when she refused to let go of a Texas Instruments TI-82... manual.\"\\n2. \"She don’t even know... where the calculator is.\"\\n3. \"Those of you under 25 probably don’t know what that calculator is.\"\\n4. \"It was like the Tesla of my time.\"\\n5. \"And my mom got so emotional about the manual and she was like,'}]],\n",
       " 'Ali_Wong_2': [[{'generated_text': 'What a hilarious transcript! Here are the funniest punchlines I\\'ve picked out:\\n\\n1. \"Life is not Rush Hour, the movie, OK?\" - a great way to poke fun at the stereotypes of Asian-American life.\\n2. \"I\\'m just kidding. She doesn\\'t have any black friends. Life is not Rush Hour, the movie, OK?\" - the unexpected twist on the previous joke adds to the humor.\\n3. \"Old Chinese ladies, they don\\'t give a fuck. They got no shame. They\\'re like, \\'I\\'m just gonna recycle... go bald... go'}]],\n",
       " 'Chelsea_Peretti': [[{'generated_text': 'What a delightfully sarcastic and humorous transcript! Here are the funniest punchlines I extracted:\\n\\n1. **\"To the future!\"** - The ridiculousness of the wedding portraiture style is expertly highlighted.\\n2. **\"Uh-oh, it\\'s us again.\"** - The comedian\\'s exasperation with the repetitive engagement photos is infectious.\\n3. **\"Let\\'s eradicate both\"** - The comparison of \"hubby\" to the \"N\" word is a masterclass in shock value and humor.\\n4. **\"He breathed in, he breathed out.'}]],\n",
       " 'Chelsea_Peretti_2': [[{'generated_text': 'Here are the funniest punchlines from the transcript:\\n\\n1. \"I started sweating out of my butthole.\" (This one is a great unexpected twist on the idea of Botox)\\n2. \"Whoa, whoa, whoa! He\\'s like, \\'I\\'m so drawn to you, but I can\\'t get near you! This is a whole new kind of juicy booty.\\'\" (The absurdity of the situation and the surfer\\'s reaction)\\n3. \"Just stop making such a tight circle with your mouth... and then more laugh sounds could get out.\" ('}]],\n",
       " 'Donald_Glover': [[{'generated_text': 'What a delightfully raunchy and hilarious transcript! Here are the funniest punchlines I\\'ve extracted:\\n\\n1. **\"Someone betta get this little niglet away from me.\"** - The Trinidadian babysitter\\'s unexpected and hilarious response to the kid\\'s profanity-laden outburst.\\n2. **\"What the fuck is wrong with this kid? What\\'s going on with this kid?\"** - The comedian\\'s exasperated reaction to the kid\\'s tears and mean behavior, setting the tone for the rest of the story.\\n3. **\"He was just allowed to have'}]],\n",
       " 'Donald_Glover_2': [[{'generated_text': 'Here are the funniest punchlines from the transcript:\\n\\n1. \"You can shit on command? Like, you can just... You can just poop whenever you want to? Just be like... Hyah! He\\'s like, \\'Oh God, no!\\' Like... You can poop whenever you want? Like, you got... You\\'re a national treasure.\"\\n2. \"I\\'d be like, \\'Blow my head off.\\' I can\\'t do it, I\\'m not... Me and my butt are, like, always on the third date, I feel like.\"\\n3. \"I\\'m'}]],\n",
       " 'Hasan_Minhaj': [[{'generated_text': 'Here are the funniest punchlines from the transcript:\\n\\n1. \"And usually it’s the kid whose birthday it is, and we stand there and point and laugh. We go, “Ah, Biju got slapped on his birthday!” And that’s what makes us tough and resilient. It’s why we become cardiologists and win spelling bees.\"\\n2. \"Slapping is important. It elevates your game.\"\\n3. \"You ever seen an Indian kid win a spelling bee? Incredible! Ice water in the veins. [laughter] That kid won’t choke on camera. He’s been'}]],\n",
       " 'Hasan_Minhaj_2': [[{'generated_text': 'What a hilarious story! Here are the funniest punchlines from the transcript:\\n\\n1. \"Thirty for 30? All of us?\" - This is the first laugh-out-loud moment, and it\\'s a great play on the idea of a massive underdog story.\\n2. \"AP Calc? Us? Me, Jehovah\\'s Witness girl, Korean exchange students, going to the prom?\" - This line is funny because it highlights the absurdity of the situation and the diversity of the students in the class.\\n3. \"Whatever, it\\'s not going to happen. He can\\'t do this'}]],\n",
       " 'Iliza_Shlesinger': [[{'generated_text': 'Here are the funniest punchlines from the transcript:\\n\\n1. \"Welcome to Fuckdome, Scott.\" - This punchline is funny because it\\'s a unexpected and absurd response to a guest arriving at someone\\'s home.\\n2. \"Ticket?\" - This is a humorous follow-up to the previous punchline, implying that the speaker is now treating their home like a nightclub or a concert venue.\\n3. \"You try so hard in your 20s, right? Because you\\'re young, and it\\'s fun. That\\'s your 20s.\" - This line is funny because it\\'s'}]],\n",
       " 'Iliza_Shlesinger_2': [[{'generated_text': 'Here are some of the funniest punchlines from the transcript:\\n\\n1. \"Nipple tassels.\"\\n2. \"You show up in that, he\\'ll be, like, \\'Oh, my god!\\' The blood\\'s gonna go from here to his dick, he\\'s gonna impale himself, he\\'s gonna sue you, and you ain\\'t got no money.\"\\n3. \"It\\'s frustrating. You know, girls, it\\'d be like if you have the worst day, you came home to your boyfriend, like... \\'I had the worst day. I got fired, and...'}]],\n",
       " 'Jim_Gaffigan': [[{'generated_text': 'Here are the funniest punchlines from the transcript:\\n\\n1. \"And you can’t use our bathroom.\" (This one gets a laugh because it\\'s a relatable and unexpected response from a salesperson.)\\n2. \"Aw. Look at you try.\" (This one is funny because it\\'s a sarcastic comment from a waiter, implying that the speaker is trying too hard to order a salad.)\\n3. \"I know where the food is. Well, you must love to cook.\" (This one is funny because it\\'s a clever response to people assuming that someone who likes to eat must'}]],\n",
       " 'Jim_Gaffigan_2': [[{'generated_text': 'Here are the funniest punchlines from the transcript:\\n\\n1. \"That\\'s not fulfilling some dog need, you know? There\\'s not a dog sitting in a bar right now going, \\'I\\'m not three, I\\'m 21! I can legally drink!\\'\"\\n2. \"That\\'s not how dogs keep track of time. If you have a dog, you know they don\\'t keep track of time. You\\'ve left your home, forgotten something, walked back in only to be greeted by your dog like you\\'ve just returned from war. \\'You\\'re back! It\\'s a miracle'}]],\n",
       " 'Joe_List': [[{'generated_text': 'What a delightfully quirky transcript! Here are the funniest punchlines I\\'ve extracted:\\n\\n1. **\"Tomato, to-mah-to. However you say it. If you have it, don\\'t go to the doctor, they don\\'t do shit.\"** - A hilarious commentary on the triviality of pronunciation debates.\\n2. **\"My hearing is great. I hear everything, plus ringing, so. I kind of have superpower hearing, if you think about it. I\\'m hearing shit that\\'s not even in the room.\"** - A clever and absurd observation about the comedian'}]],\n",
       " 'Joe_List_2': [[{'generated_text': 'What a great transcript! Here are the funniest punchlines I\\'ve extracted:\\n\\n1. **\"I wanted him to die, I swear to God.\"** - The comedian\\'s exasperation with the yawn-y passenger is relatable and hilarious.\\n2. **\"That\\'s a decision, he\\'s deciding to do that. It\\'s like, if you were hungry on a plane, you were like, \\'I\\'m hungry. Well, you\\'re all right? Yeah, yeah I\\'m hungry.\\'\"** - The comedian\\'s sarcastic take on the yawn-y passenger\\'s decision to y'}]],\n",
       " 'John_Mulaney': [[{'generated_text': 'Here are the funniest punchlines from the transcript:\\n\\n1. \"I was like, \\'This one\\'s shirts. I got a bunch of shirts! Take \\'em away!\\' The guy tried to give me a big receipt. He\\'s like, \\'Take this receipt for the clothing for your taxes.\\' How do I write that on my taxes? \\'Dear IRS, please deduct from my federal income tax one XXL Billabong T-shirt from youth. It was too big. My mom said it could be a sleep shirt. Please deduct this from my 2017 income.\\'\"\\n2.'}]],\n",
       " 'John_Mulaney_2': [[{'generated_text': 'What a darkly comedic gem! Here are the funniest punchlines from the transcript:\\n\\n1. \"The Bruno Mars of assemblies.\" - A clever comparison that sets the tone for the rest of the comedy.\\n2. \"Oh, gee. [audience laughing] Very sorry, Radio City, did that make you uncomfortable?\" - The comedian\\'s self-awareness and acknowledgment of the audience\\'s discomfort creates humor.\\n3. \"And he\\'s still got blood on his shoes. And he\\'s looking at you in the eye to tell you for the first time in your very young life that some adults'}]],\n",
       " 'Jimmy_Yang': [[{'generated_text': 'A hilarious stand-up comedy transcript! Here are the funniest punchlines:\\n\\n1. **\"That\\'s how we do that parking lot pimping.\"** - A clever play on the idea that Asian people don\\'t need Tinder, they just go to BTS concerts to \"pimp\" themselves out.\\n2. **\"Your ass is at my eye level right now. Neither of us look good, OK? I look like a child, and you look like a child molester.\"** - A ridiculous and relatable rant about the absurdity of tall women wearing heels.\\n3. **\"I'}]],\n",
       " 'Jimmy_Yang_2': [[{'generated_text': 'Here are the funniest punchlines from the transcript:\\n\\n1. \"Just have an orgasm? What was that?\" - This line is funny because it\\'s an unexpected and absurd reaction to a sneeze.\\n2. \"Oh! Ay, shit. Oh!\" - This is a humorous exaggeration of the sound of a sneeze, making it seem like a massive event.\\n3. \"I\\'m like, what the fuck, Dad, just have an orgasm? What was that?\" - The repetition of \"what was that\" and the use of profanity add to the comedic effect.\\n'}]],\n",
       " 'Louis_CK': [[{'generated_text': 'What a hilarious transcript! Here are the funniest punchlines I\\'ve extracted:\\n\\n1. **\"You fucking think about it, you idiot.\"** - A classic comeback to shut down an argumentative friend.\\n2. **\"Jesus was Catholic and he had a gold chain with a cross.\"** - The absurdity of Jesus wearing a gold chain and a cross is just ridiculous.\\n3. **\"And when they nailed him up, he was like, \\'Oh, that\\'s why we have those!\\' \\'That finally makes sense. I didn\\'t even know. Oh, fuck, that\\'s'}]],\n",
       " 'Louis_CK_2': [[{'generated_text': 'Here are the funniest punchlines from the transcript:\\n\\n1. **\"I know you! Ha!\"** - The image of a dog not understanding a dramatic moment in the family is hilarious.\\n2. **\"Incredibly stupid animals.\"** - The blunt honesty is what makes this line funny.\\n3. **\"I didn’t see what happened. I’m sorry, I… I don’t know anything now. Please help.\"** - The dog\\'s reaction to not understanding where the ball went is ridiculous and relatable.\\n4. **\"There it is, right there. It’s'}]],\n",
       " 'Nate_Bargatze': [[{'generated_text': 'Here are some of the funniest punchlines from the transcript:\\n\\n1. \"I mean, they bawl. They don\\'t like... It feels weird. And then, you could be like, \\'Is your house on fire?\\' I\\'ve never seen someone cry this much. It\\'s over nothing.\"\\n2. \"She wants to be a YouTuber, which, as a comedian, makes me furious.\"\\n3. \"She just sits there on her iPad. She wants to be a YouTuber, which, as a comedian, makes me furious. She watches these kid YouTube videos,'}]],\n",
       " 'Nate_Bargatze_2': [[{'generated_text': 'A stand-up comedy transcript! Here are the funniest punchlines I extracted from the transcript:\\n\\n1. **\"It\\'s just a whole new... I mean, it\\'s unbelievable.\"** - A great setup and delivery, emphasizing the comedian\\'s frustration with the new math.\\n2. **\"You... You just want to keep breaking the problem down. You put the problem at the top, and it just keeps going.\"** - A clever observation about the complexity of Common Core math.\\n3. **\"And then what\\'s even funnier is you see old math in the middle of it.'}]],\n",
       " 'Nate_Bargatze_TK': [[{'generated_text': 'Here are the funniest punchlines from the transcript:\\n\\n1. \"How else would he come home? And... The Easter Bunny was in the passenger seat.\"\\n2. \"The Easter Bunny head didn\\'t fit in the car. Like, he couldn\\'t sit normal, so his head was bent to the side.\"\\n3. \"And I was like... I like to think about all the other people that saw that. Just in the car next to them, just at a red light, you\\'re like, \\'I didn\\'t even know they hung out like that.\\'\"\\n\\nThese punchlines are funny because'}]],\n",
       " 'Nate_Bargatze_TK_2': [[{'generated_text': 'Here are the funniest punchlines from the transcript:\\n\\n1. \"I look like I work there.\" - This line is funny because the speaker is implying that he\\'s so overdressed that he looks like he\\'s part of the wedding staff, rather than a guest.\\n2. \"Let\\'s do it without it.\" - This line is funny because it\\'s a nonchalant response to a situation where someone is missing a crucial article of clothing, like a shirt.\\n3. \"Put your jacket on backwards. Flip it around.\" - This line is funny because it\\'s a ridiculous suggestion, and'}]],\n",
       " 'Russell_Peters': [[{'generated_text': 'What a hilarious transcript! Here are the funniest punchlines I\\'ve extracted:\\n\\n1. **\"I don’t know. Does anybody else– who else has acid reflux in here? First of all, you’re lying to me right now. Because there is no way you can be Indian and not have fucking acid reflux.\"** - A clever and unexpected twist on the doctor\\'s question.\\n2. **\"It’s inevitable. There’s no way you can consume the food that we eat with that much spice, and that much oil, and that much butter, and not just have it burn a'}]],\n",
       " 'Russell_Peters_2': [[{'generated_text': 'Here are the funniest punchlines from the transcript:\\n\\n1. \"You lift up your balls, sponsored by Xerox. Sponsored by Xerox. I call the left one copy and the right one paste.\"\\n2. \"Look at how good my balls are. My balls are so strong, they made one kid and then it made the exact same kid right away.\"\\n3. \"Identical twins, that\\'s like bragging rights for you, you know I mean. That\\'s your way of going, look. Look at how good my junk they are. Looks at this.\"\\n4. \"'}]],\n",
       " 'Sam_Morril': [[{'generated_text': 'What a delightfully irreverent comedian! Here are some of the funniest punchlines from the transcript:\\n\\n1. \"I have a negative-one rapes, so, you know. Statistically, you know… I can’t take all the credit, you know?\" - The unexpected twist on a serious topic is hilarious.\\n2. \"If you say so, but I might have a substance abuse problem, so…\" - The nonchalant dismissal of the idea of being a hero is ridiculous.\\n3. \"That\\'s always the crossroads I find myself at at 4:57 a.m'}]],\n",
       " 'Sam_Morril_2': [[{'generated_text': 'Here are some of the funniest punchlines from the transcript:\\n\\n1. \"Wouldn\\'t kill you to carry a pack.\" - This is a clever and unexpected punchline to the pro-cigarette commercial idea.\\n2. \"That\\'s how low the bar is. I\\'m like, guy should pay a little bit for the abortion, and women are like, he\\'s a hero. He really is.\" - This joke is funny because it pokes fun at the idea that men are often expected to be heroes, even when it comes to something as personal as an abortion.\\n3. \"I'}]],\n",
       " 'Trevor_Noah': [[{'generated_text': 'What a hilarious transcript! Here are the funniest punchlines I extracted:\\n\\n1. **\"I\\'m not particularly comfortable in the house at night by myself. What I\\'m trying to say is I\\'m afraid of the dark. And I know it\\'s stupid to be afraid of the dark, right? Because there\\'s nothing there, nine times out of ten. But what happens is, I\\'ll be sleeping. And in the middle of the night, I\\'ll be woken up by the need to pee. And whenever that happens, I\\'m always faced with the eternal dilemma. When I go'}]],\n",
       " 'Trevor_Noah_2': [[{'generated_text': 'What a delightful transcript! Here are the funniest punchlines I found:\\n\\n1. **\"And a Kit Kat, please.\"** - The humor comes from the unexpectedness of Nelson Mandela, a legendary figure, asking for a mundane snack.\\n2. **\"Who the hell is this?!\" \"I\\'m not telling you.\"** - The prank call scenario is hilarious, and the deadpan delivery of the comedian adds to the humor.\\n3. **\"Ah, knock, knock.\" \"Let him in. Let him in!\" \"No. No, no. You must say, \\''}]],\n",
       " 'Tom_Segura': [[{'generated_text': 'Here are the funniest punchlines from the transcript:\\n\\n1. \"That\\'s what\\'s up.\" - The comedian\\'s deadpan response to the man\\'s warning to blast anyone who enters the trailer, which adds to the absurdity of the situation.\\n2. \"Can we get a description before we agree to terms? How about a height and weight on old mom?\" - This punchline is funny because it\\'s a ridiculous request and adds a layer of humor to an already bizarre situation.\\n\\nThese two lines are the funniest because they poke fun at the absurdity of the situation and the character\\'s'}]],\n",
       " 'Tom_Segura_2': [[{'generated_text': 'A classic stand-up comedy transcript! Here are the funniest punchlines from the transcript:\\n\\n1. **\"You get to decide, like a king with his drawbridge.\"** - A clever analogy that highlights the fleeting power one feels when controlling an elevator.\\n2. **\"Mm-mm.\"** - The comedian\\'s deadpan reaction to watching someone walk up to the elevator, setting up the punchline.\\n3. **\"And then you see it close, and you\\'re like... Sometimes, a second later it opens, and you\\'re like, \\'Fuck!\\'\"** - The comedian'}]]}"
      ]
     },
     "execution_count": 8,
     "metadata": {},
     "output_type": "execute_result"
    }
   ],
   "source": [
    "results_dict"
   ]
  },
  {
   "cell_type": "code",
   "execution_count": 9,
   "metadata": {},
   "outputs": [],
   "source": [
    "instruction = \"Extract the key humorous lines and punchlines for this stand-up comedy transcript. Focus on the quotes highlighting the main comedic moments. Only list the quotes:\""
   ]
  },
  {
   "cell_type": "code",
   "execution_count": 10,
   "metadata": {},
   "outputs": [
    {
     "name": "stderr",
     "output_type": "stream",
     "text": [
      "Setting `pad_token_id` to `eos_token_id`:128001 for open-end generation.\n",
      "Setting `pad_token_id` to `eos_token_id`:128001 for open-end generation.\n",
      "Setting `pad_token_id` to `eos_token_id`:128001 for open-end generation.\n",
      "Setting `pad_token_id` to `eos_token_id`:128001 for open-end generation.\n",
      "Setting `pad_token_id` to `eos_token_id`:128001 for open-end generation.\n",
      "Setting `pad_token_id` to `eos_token_id`:128001 for open-end generation.\n",
      "Setting `pad_token_id` to `eos_token_id`:128001 for open-end generation.\n",
      "Setting `pad_token_id` to `eos_token_id`:128001 for open-end generation.\n",
      "Setting `pad_token_id` to `eos_token_id`:128001 for open-end generation.\n",
      "Setting `pad_token_id` to `eos_token_id`:128001 for open-end generation.\n",
      "Setting `pad_token_id` to `eos_token_id`:128001 for open-end generation.\n",
      "Setting `pad_token_id` to `eos_token_id`:128001 for open-end generation.\n",
      "Setting `pad_token_id` to `eos_token_id`:128001 for open-end generation.\n",
      "Setting `pad_token_id` to `eos_token_id`:128001 for open-end generation.\n",
      "Setting `pad_token_id` to `eos_token_id`:128001 for open-end generation.\n",
      "Setting `pad_token_id` to `eos_token_id`:128001 for open-end generation.\n",
      "Setting `pad_token_id` to `eos_token_id`:128001 for open-end generation.\n",
      "Setting `pad_token_id` to `eos_token_id`:128001 for open-end generation.\n",
      "Setting `pad_token_id` to `eos_token_id`:128001 for open-end generation.\n",
      "Setting `pad_token_id` to `eos_token_id`:128001 for open-end generation.\n",
      "Setting `pad_token_id` to `eos_token_id`:128001 for open-end generation.\n",
      "Setting `pad_token_id` to `eos_token_id`:128001 for open-end generation.\n",
      "Setting `pad_token_id` to `eos_token_id`:128001 for open-end generation.\n",
      "Setting `pad_token_id` to `eos_token_id`:128001 for open-end generation.\n",
      "Setting `pad_token_id` to `eos_token_id`:128001 for open-end generation.\n",
      "Setting `pad_token_id` to `eos_token_id`:128001 for open-end generation.\n",
      "Setting `pad_token_id` to `eos_token_id`:128001 for open-end generation.\n",
      "Setting `pad_token_id` to `eos_token_id`:128001 for open-end generation.\n",
      "Setting `pad_token_id` to `eos_token_id`:128001 for open-end generation.\n",
      "Setting `pad_token_id` to `eos_token_id`:128001 for open-end generation.\n",
      "Setting `pad_token_id` to `eos_token_id`:128001 for open-end generation.\n",
      "Setting `pad_token_id` to `eos_token_id`:128001 for open-end generation.\n",
      "Setting `pad_token_id` to `eos_token_id`:128001 for open-end generation.\n",
      "Setting `pad_token_id` to `eos_token_id`:128001 for open-end generation.\n"
     ]
    }
   ],
   "source": [
    "results_dict = {}\n",
    "\n",
    "for index, row in transcripts.iterrows():\n",
    "    comedian = row['comedian']\n",
    "    transcript = row['transcript']\n",
    "\n",
    "    prompt = f\"'''{transcript}'''\\n\\n{instruction}\"\n",
    "    conversation = [{\"role\": \"user\", \"content\": prompt}]\n",
    "    output = pipeline([conversation], max_new_tokens=120, return_full_text=False)\n",
    "    \n",
    "    results_dict[comedian] = output"
   ]
  },
  {
   "cell_type": "code",
   "execution_count": 11,
   "metadata": {},
   "outputs": [
    {
     "data": {
      "text/plain": [
       "{'Anthony_Jeselnik': [[{'generated_text': 'Here are the key humorous lines and punchlines:\\n\\n* \"Sold my passport on the street for 300 bucks to get to go to my prom. Of course this was before 9/11 so… my bad, everybody.\"\\n* \"My mom actually should’ve been on one of the planes that crashed on 9/11. I think.\"\\n* \"My mom could be very racist. Very racist. And I do not tolerate racism. That’s ignorance and I hate that.\"\\n* \"And when I did that, my mom would act weird. She’d pull me aside and say, “'}]],\n",
       " 'Anthony_Jeselnik_2': [[{'generated_text': 'Here are the key humorous lines and punchlines:\\n\\n* \"Try not to.\"\\n* \"Mark Twain out of my grandma\\'s mouth, it would just come to life.\"\\n* \"And I know my grandma loved it too, because it combined her two favorite things: spending time with her grandchildren, and using the \\'N\\' word.\"'}]],\n",
       " 'Ali_Wong': [[{'generated_text': 'Here are the key humorous lines and punchlines:\\n\\n* \"Don\\'t ever do that with your mom.\"\\n* \"It was like the worst experience of my life. It was so emotional.\"\\n* \"She don\\'t even know where the calculator is.\"\\n* \"Those of you under 25 probably don\\'t know what that calculator is.\"\\n* \"It was this calculator that bamboozled my generation.\"\\n* \"We were all required to buy it when we were in eight grade. It cost like $200. And everybody thought it was like this Judy Jetson\\'s laptop from the future.\"\\n*'}]],\n",
       " 'Ali_Wong_2': [[{'generated_text': 'Here are the key humorous lines and punchlines:\\n\\n* \"Life is not Rush Hour, the movie, OK?\"\\n* \"I\\'m just kidding. She doesn\\'t have any black friends.\"\\n* \"Old Chinese ladies, they don\\'t give a fuck. They got no shame.\"\\n* \"They do that \\'cause it\\'s a free activity. For them. They do it in their... their big-ass V. Stiviano visor, their Darth Vader-Tomb Raider-Boba Fett helmet.\"\\n* \"Their in a contest to see who\\'s gonna burn out first. Old Asian ladies and'}]],\n",
       " 'Chelsea_Peretti': [[{'generated_text': 'Here are the key humorous lines and punchlines:\\n\\n* \"To the future!\" [laughing shrilly]\\n* \"Uh-oh, it\\'s us again.\" [trills]\\n* \"My hubby made breakfast. My hubby fixed the door. My hubby is sleeping. He breathed in, he breathed out. He breathed in, he breathed out.\"\\n* \"My hubby shot himself in the face! His letter said he missed his name… which I just found out is Steven. Missing my hub like a mug.\"'}]],\n",
       " 'Chelsea_Peretti_2': [[{'generated_text': 'Here are the key humorous lines and punchlines:\\n\\n* \"People say I look just like you.\"\\n* \"No! Do you know that women Botox their armpits? This is an actual thing.\"\\n* \"It worked. I did stop sweating out of my armpits, but I started sweating out of my butthole.\"\\n* \"Is that a good trade? like, kind of a deal with the devil.\"\\n* \"Oh, ho, ho, ho.\"\\n* \"She is so fucking hot. Her armpits are bone-fucking-dry… just like I'}]],\n",
       " 'Donald_Glover': [[{'generated_text': 'Here are the key humorous lines and punchlines:\\n\\n* \"Tears streaming down his face, but he wasn’t crying. He wasn’t crying. Just tears, he was giving me this mean mug...\"\\n* \"He would steal mints by the handful. So his breath was so fresh... the vapors from his own mouth made his eyes water.\"\\n* \"Just, they would just bleed... It was crazy.\"\\n* \"He wanted to get to his slide, so he just pushed over this little girl, she fell over...\"\\n* \"And he goes, \\'Shut up.\\' And she'}]],\n",
       " 'Donald_Glover_2': [[{'generated_text': 'Here are the key humorous lines and punchlines:\\n\\n* \"You can shit on command? Like, you can just... You can just poop whenever you want to? Just be like... Hyah! He\\'s like, \\'Oh God, no!\\'\"\\n* \"You got more superpowers than Shaft if you can poop whenever you want.\"\\n* \"Somebody can run down... down the stage right now and pull out a gun and be like, \\'Shit yourself! Poop yourself right now!\\' I\\'d be like, \\'Blow my head off.\\'\"\\n* \"Me and my butt'}]],\n",
       " 'Hasan_Minhaj': [[{'generated_text': 'Here are the key humorous lines and punchlines:\\n\\n* \"Are you kidding? Thirteen episodes for this kid? Are you kidding me?\"\\n* \"We go, “Ah, Biju got slapped on his birthday!” And that’s what makes us tough and resilient.\"\\n* \"Slapping is important. It elevates your game.\"\\n* \"You ever seen an Indian kid win a spelling bee? Incredible! Ice water in the veins.\"\\n* \"He’s been slapped on camera. Of course he can spell “knaidel”.\"\\n* \"Look at that face. Nothing. Nothing! He'}]],\n",
       " 'Hasan_Minhaj_2': [[{'generated_text': 'Here are the key humorous lines and punchlines:\\n\\n* \"I know, getting into Stanford.\"\\n* \"No, you have to live a life worth talking about, which is why I\\'m making it mandatory for everyone in this class to go to prom.\"\\n* \"All 30 of us? We\\'re all going to prom? AP Calc? Us? Me, Jehovah\\'s Witness girl, Korean exchange students, going to the prom? Thirty for 30? All of us?\"\\n* \"Whatever, it\\'s not going to happen. He can\\'t do this.\"'}]],\n",
       " 'Iliza_Shlesinger': [[{'generated_text': 'Here are the key humorous lines and punchlines:\\n\\n* \"It\\'s ostensibly like your girlfriend audition time. You want him to come in and be, like, \\'It\\'s so homey. I\\'d like to stay forever.\\' Yes, come closer.\"\\n* \"Like, that\\'s what you want. You try so hard in your 20s, right? Because you\\'re young, and it\\'s fun. That\\'s your 20s.\"\\n* \"In your 30s... In your 30s, homeboy knocks on the door, you open it, you\\'re in combat boots'}]],\n",
       " 'Iliza_Shlesinger_2': [[{'generated_text': 'Here are the key humorous lines and punchlines:\\n\\n* \"You don’t want to wear nipple tassels. Now… some women are, like, “Wait a minute.”\"\\n* \"I don’t know why we forget that as adult males, but… no means no.\"\\n* \"He’s gonna impale himself, he’s gonna sue you, and you ain’t got no money.\"\\n* \"It’s frustrating. You know, girls, it’d be like if you have the worst day, you came home to your boyfriend, like… “I had the worst day. I got'}]],\n",
       " 'Jim_Gaffigan': [[{'generated_text': 'Here are the key humorous lines and punchlines:\\n\\n* \"We got nothing for you. And you can\\'t use our bathroom.\"\\n* \"Aw. Look at you try.\"\\n* \"The fat pig is trying, the fat pig is trying, I…\"\\n* \"You know, when you like to eat, what\\'s weird is people assume you enjoy cooking.\"\\n* \"Well, you must know your way around the kitchen. I know where the food is. Well, you must love to cook.\"\\n* \"Look, I like to sleep. It doesn\\'t mean I wanna build a bed.\"\\n'}]],\n",
       " 'Jim_Gaffigan_2': [[{'generated_text': 'Here are the key humorous lines and punchlines:\\n\\n* \"I have friends that are mentally ill.\"\\n* \"The dog didn’t know it was his birthday. Didn’t know it had a birthday. Didn’t know why people were in the apartment.\"\\n* \"Oh, one year equals seven for doggies? Okay. When I see a dog, I’ll do math.\"\\n* \"That’s not fulfilling some dog need, you know?\"\\n* \"There’s not a dog sitting in a bar right now going, ‘I’m not three, I’m 21! I can legally drink!’\"\\n'}]],\n",
       " 'Joe_List': [[{'generated_text': 'Here are the key humorous lines and punchlines:\\n\\n* \"I was hoping it was three doctors saving money, by sharing a small office. He’s like, “I’m Bill, this is Susan, and Ted. “Ear, nose, throat. “Who do ya need?”\"\\n* \"Tin-uh-dus. That’s when you’re ears ring. You got it? Yeah, it’s frustrating. It’s when you’re ears ring, or buzz all the time.\"\\n* \"Tomato, to-mah-to. However you say it.\"\\n* \"If you have it'}]],\n",
       " 'Joe_List_2': [[{'generated_text': 'Here are the key humorous lines and punchlines:\\n\\n* \"What a fucking idiot back there. Embarrassing, loser. Last row.\"\\n* \"I wanted him to die, I swear to God.\"\\n* \"You don’t need to make a noise when you yawn. That’s a decision, he’s deciding to do that.\"\\n* \"They want attention. That’s why they’re doing it. They want you to be like, ‘Oh, my God, are you tired?’\"\\n* \"Don’t fall for it, it’s a trap.\"\\n* \"Just tell me your shitty'}]],\n",
       " 'John_Mulaney': [[{'generated_text': 'Here are the key humorous lines and punchlines:\\n\\n* \"I said, \\'Of course I did! On an unrelated note, I\\'m going to walk out the front door right now.\\'\"\\n* \"I was like, \\'This one\\'s shirts. I got a bunch of shirts! Take \\'em away!\\'\"\\n* \"How do I write that on my taxes? \\'Dear IRS, please deduct from my federal income tax one XXL Billabong T-shirt from youth. It was too big. My mom said it could be a sleep shirt. Please deduct this from my 2017'}]],\n",
       " 'John_Mulaney_2': [[{'generated_text': 'Here are the key humorous lines and punchlines:\\n\\n* \"The Bruno Mars of assemblies.\"\\n* \"Yeah, the hottest ticket in town.\"\\n* \"You are gathered together as a school and you are told never to talk to an adult that you don’t know and you are told this by an adult that you don’t know.\"\\n* \"Oh, gee. [audience laughing] Very sorry, Radio City, did that make you uncomfortable?\"\\n* \"He’s still got blood on his shoes. And he’s looking at you in the eye to tell you for the first time in your very young'}]],\n",
       " 'Jimmy_Yang': [[{'generated_text': 'Here are the key humorous lines and punchlines:\\n\\n* \"We don\\'t need Tinder anymore. We just go to BTS concerts. That\\'s how we do that parking lot pimping.\"\\n* \"I think tall women are beautiful. But some of them like to wear heels. That\\'s just disrespect.\"\\n* \"Your ass is at my eye level right now. Neither of us look good, OK? I look like a child, and you look like a child molester.\"\\n* \"Tall people have fun at concerts. Are you guys aware of that? I\\'m 5\\'5\". I'}]],\n",
       " 'Jimmy_Yang_2': [[{'generated_text': 'Here are the key humorous lines and punchlines:\\n\\n* \"Like, it\\'s really hard for me to watch TV with my dad, because he\\'s trying to make me explain everything to him.\"\\n* \"Old Asian people, they don\\'t watch TV. They judge the TV.\"\\n* \"He\\'s just sitting there, arms folded, judging the TV like–\"\\n* \"Achoo! Oh! Ay, shit. Oh! I\\'m like, what the fuck, Dad, just have an orgasm? What was that?\"\\n* \"He\\'s like, oh, there\\'s an orgasm. OK'}]],\n",
       " 'Louis_CK': [[{'generated_text': 'Here are the key humorous lines and punchlines:\\n\\n* \"Yeah. Jesus was Jewish.\"\\n* \"I don\\'t think so.\"\\n* \"You fucking think about it, you idiot.\"\\n* \"What, was he Presbyterian? What was he? Catholic?\"\\n* \"Okay, Jesus was Catholic and he had a gold chain with a cross.\"\\n* \"Oh, that\\'s why we have those! That finally makes sense. I didn\\'t even know. Oh, fuck, that\\'s me! I\\'m the little guy on it!\"'}]],\n",
       " 'Louis_CK_2': [[{'generated_text': 'Here are the key humorous lines and punchlines:\\n\\n* \"Dogs are so dumb, it’s fucking tragic. It’s sad how dumb they are.\"\\n* \"They’re in our lives and they know nothing about what’s happening.\"\\n* \"They’re so stupid! Incredibly stupid animals.\"\\n* \"They don’t even know their own lives, they don’t even — they can’t even handle their own lives mentally.\"\\n* \"I didn’t see what happened. I’m sorry, I… I don’t know anything now. Please help.\"\\n* \"There it is, right there.'}]],\n",
       " 'Nate_Bargatze': [[{'generated_text': 'Here are the key humorous lines and punchlines:\\n\\n* \"I mean, my middle name is Lee, and it just never crossed my mind.\" (on not naming his daughter after Harper Lee)\\n* \"I love when kids cry, it\\'s just innocent. I love how innocent it is. They cry over a tag in their shirt. I mean, they bawl. They don\\'t like... It feels weird. And then, you could be like, \\'Is your house on fire?\\' I\\'ve never seen someone cry this much. It\\'s over nothing.\" (on kids crying)\\n* \"'}]],\n",
       " 'Nate_Bargatze_2': [[{'generated_text': 'Here are the key humorous lines and punchlines:\\n\\n* \"It\\'s, uh… \\'Okay, learning it earlier than we used to, huh?\\' I don\\'t even know if that\\'s true, but…\"\\n* \"It\\'s just a whole new… I mean, it\\'s unbelievable. They bring it home, you gotta watch a 40-minute YouTube video on Common Core math. I don\\'t even understand it.\"\\n* \"And the goal of Common Core is to use one sheet of paper for every problem. You… You just want to keep breaking the problem down. You put the problem'}]],\n",
       " 'Nate_Bargatze_TK': [[{'generated_text': 'Here are the key humorous lines and punchlines:\\n\\n* \"You can take them in either order. I was born, he was a clown. It was never weird to me. I thought everybody\\'s dad was a clown.\"\\n* \"How else would he come home? And... The Easter Bunny was in the passenger seat.\"\\n* \"The Easter Bunny head didn\\'t fit in the car. Like, he couldn\\'t sit normal, so his head was bent to the side.\"\\n* \"And I was like... I like to think about all the other people that saw that. Just in the car next'}]],\n",
       " 'Nate_Bargatze_TK_2': [[{'generated_text': 'Here are the key humorous lines and punchlines:\\n\\n* \"We gotta be there Monday for this wedding? How long is this wedding? It\\'s a week?\"\\n* \"I\\'m wildly overdressed. I look like I work there.\"\\n* \"Everybody else just has a football or basketball jersey on.\"\\n* \"My uncle, his daughter\\'s getting married. He has his tuxedo jacket, pants, cummerbund, bowtie. No shirt.\"\\n* \"Let\\'s do it without it.\"\\n* \"Put your jacket on backwards. Flip it around.\"\\n* \"Oof. All right'}]],\n",
       " 'Russell_Peters': [[{'generated_text': 'Here are the key humorous lines and punchlines:\\n\\n* \"What do you mean what else is wrong with me? He goes, look, you\\'re a 48-year-old Indian man.\"\\n* \"I don\\'t know. Does anybody else– who else has acid reflux in here? First of all, you\\'re lying to me right now.\"\\n* \"There\\'s no way you can consume the food that we eat with that much spice, and that much oil, and that much butter, and not just have it burn a hole in your– as my dad would say– your esophagus.\"\\n'}]],\n",
       " 'Russell_Peters_2': [[{'generated_text': 'Here are the key humorous lines and punchlines:\\n\\n* \"Identical twins are the only people that should be twins.\"\\n* \"I started settling into the idea because I started thinking of names for identical twins.\"\\n* \"Kate and Duplicate. These are my boys, it’s Pete and Repeat.\"\\n* \"Tyrone and Tyclone.\"\\n* \"That’s your way of going, look. Look at how good my balls are.\"\\n* \"Look, look. Or because you’re Punjabi, look at how good my junk they are.\"\\n* \"Looks at this.Look at how good my'}]],\n",
       " 'Sam_Morril': [[{'generated_text': 'Here are the key humorous lines and punchlines:\\n\\n* \"I got roofied at a party in college by accident, but you know, it still counts. Obviously, it was an accident. No one at the party was like I’m gonna roofie that hairy boy over there. Let me a passed-out werewolf tonight.\"\\n* \"I was at a party and this guy handed a girl a drink, and she said, “I’m too drunk.” And I said, I’ll drink it. And he gave me this hateful look, and I thought, why is this guy so mad at'}]],\n",
       " 'Sam_Morril_2': [[{'generated_text': 'Here are the key humorous lines and punchlines:\\n\\n* \"Wouldn’t kill you to carry a pack,\" you know? Marlboro: Just in Case.\\n* \"He really is. No, even the most pro-life person I talk to was like, wow, chivalry is dead. That was the baby’s name, Chivalry.\"\\n* \"If I knock you up and you need an abortion, it’s on the house. I’ll throw my Delta SkyMiles card right on the counter.\"\\n* \"I’m two to three abortions away from Diamond Medallion status,'}]],\n",
       " 'Trevor_Noah': [[{'generated_text': 'Here are the key humorous lines and punchlines:\\n\\n* \"You don’t mess with the Russians. Most frightening people in the world. You know how I know this? You know how I’ve learned? Because I’ve learned how to use the Russian accent for myself.\"\\n* \"I feel safe, like even if there’s a monster under the bed, he’d be like, ‘Is that a Russian?’\"\\n* \"Ladies, every single one of you needs to learn the Russian accent. You read stories all the time. I talk to my female friends all the time, my family members'}]],\n",
       " 'Trevor_Noah_2': [[{'generated_text': 'Here are the key humorous lines and punchlines:\\n\\n* \"And a Kit Kat, please.\"\\n* \"Who the hell is this?!\" \"I\\'m not telling you.\"\\n* \"Ah, knock, knock.\"\\n* \"Who\\'s there?\" \"He is so right. We\\'ve always got to ask, \\'Who\\'s there?\\' Who\\'s here? Who are we?\\' Oh, my God!\"'}]],\n",
       " 'Tom_Segura': [[{'generated_text': 'Here are the key humorous lines and punchlines:\\n\\n* \"The most terrifying housing situation that exists. Where other trailer people are like, \\'Get the fuck out of here.\\' Kick \\'em out.\"\\n* \"You trying to get a sack?\" - \"Oh, shit. Yeah.\"\\n* \"We just need to go get it.\" - \"You don\\'t fuckin\\' have it? Isn\\'t that your sole responsibility?\"\\n* \"Let\\'s go get it.\" - \"I\\'ll go get it. You stay here and watch my place.\"\\n* \"That\\'s what\\'s up.\" - \"Like'}]],\n",
       " 'Tom_Segura_2': [[{'generated_text': 'Here are the key humorous lines and punchlines:\\n\\n* \"I did it... I did it at the hotel earlier. I got such a warm rush through my body.\"\\n* \"It felt like the inside of my body hugged the outside of my body, you know?\"\\n* \"You are lord of the elevator shaft.\"\\n* \"You get to decide, like a king with his drawbridge.\"\\n* \"And you hit that. And then you see it close, and you\\'re like...\"\\n* \"Sometimes, a second later it opens, and you\\'re like, \\'Fuck!\\'\"\\n* \"You'}]]}"
      ]
     },
     "execution_count": 11,
     "metadata": {},
     "output_type": "execute_result"
    }
   ],
   "source": [
    "results_dict"
   ]
  }
 ],
 "metadata": {
  "kernelspec": {
   "display_name": ".venv",
   "language": "python",
   "name": "python3"
  },
  "language_info": {
   "codemirror_mode": {
    "name": "ipython",
    "version": 3
   },
   "file_extension": ".py",
   "mimetype": "text/x-python",
   "name": "python",
   "nbconvert_exporter": "python",
   "pygments_lexer": "ipython3",
   "version": "3.8.10"
  }
 },
 "nbformat": 4,
 "nbformat_minor": 2
}
