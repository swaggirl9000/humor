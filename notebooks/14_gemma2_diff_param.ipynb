{
 "cells": [
  {
   "cell_type": "code",
   "execution_count": 1,
   "metadata": {},
   "outputs": [
    {
     "name": "stderr",
     "output_type": "stream",
     "text": [
      "/home/ada/humor/.venv/lib/python3.8/site-packages/tqdm/auto.py:21: TqdmWarning: IProgress not found. Please update jupyter and ipywidgets. See https://ipywidgets.readthedocs.io/en/stable/user_install.html\n",
      "  from .autonotebook import tqdm as notebook_tqdm\n"
     ]
    }
   ],
   "source": [
    "import pandas as pd\n",
    "from transformers import AutoTokenizer, AutoModelForCausalLM\n",
    "import torch"
   ]
  },
  {
   "cell_type": "code",
   "execution_count": 2,
   "metadata": {},
   "outputs": [],
   "source": [
    "transcripts = pd.read_csv('/home/ada/humor/data/stand_up_dataset/standup_transcripts.csv')"
   ]
  },
  {
   "cell_type": "markdown",
   "metadata": {},
   "source": [
    "2 billion"
   ]
  },
  {
   "cell_type": "code",
   "execution_count": 3,
   "metadata": {},
   "outputs": [
    {
     "name": "stderr",
     "output_type": "stream",
     "text": [
      "Loading checkpoint shards: 100%|██████████| 2/2 [00:00<00:00,  2.45it/s]\n"
     ]
    }
   ],
   "source": [
    "# Load model directly\n",
    "from transformers import AutoTokenizer, AutoModelForCausalLM\n",
    "\n",
    "tokenizer = AutoTokenizer.from_pretrained(\"google/gemma-2-2b-it\")\n",
    "model = AutoModelForCausalLM.from_pretrained(\"google/gemma-2-2b-it\",\n",
    "    device_map=\"auto\",\n",
    "    torch_dtype=torch.bfloat16,\n",
    ")"
   ]
  },
  {
   "cell_type": "code",
   "execution_count": 4,
   "metadata": {},
   "outputs": [],
   "source": [
    "results = []\n",
    "for index, row in transcripts.iterrows():\n",
    "    comedian = row['comedian']\n",
    "    transcript = row['transcript'] \n",
    "    \n",
    "    instruction = f\"Extract the key humorous lines and punchlines for this stand-up comedy transcript. Focus on the quotes highlighting the main comedic moments.{transcript} List of quotes:\"\n",
    "    input_ids = tokenizer(instruction, return_tensors=\"pt\").input_ids.to(\"cuda\")\n",
    "    outputs = model.generate(input_ids=input_ids, max_new_tokens=120)\n",
    "    generated_text = tokenizer.decode(outputs[0], skip_special_tokens=True)\n",
    "    response = generated_text.replace(instruction, \"\").strip()\n",
    "    \n",
    "    results.append({'comedian': comedian, 'sentence': response})"
   ]
  },
  {
   "cell_type": "code",
   "execution_count": 5,
   "metadata": {},
   "outputs": [
    {
     "data": {
      "text/plain": [
       "[{'comedian': 'Anthony_Jeselnik',\n",
       "  'sentence': '\"When I was a kid, I used to fantasize about getting older, growing up and having money, and buying my mom nice things for her birthday.\"\\n\"When I was a kid, we were poor. So poor I remember, just so I could go to my senior prom, just so I could go to my senior prom, I had to sell my U.S. passport on the street. Sold my passport on the street for 300 bucks to get to go to my prom. Of course this was before 9/11 so… my bad, everybody'},\n",
       " {'comedian': 'Anthony_Jeselnik_2',\n",
       "  'sentence': '“I’ve never talked to a group of people without getting paid a lot of money.”\\n“Anthony, just go up there and tell a story. Find one moment about you and your grandma you can share with everybody. And don’t tell a joke. Try not to.”\\n“You know what my favorite memory was? When I was like four years old, before I learned to read, Grandma would curl up with me on the couch, she had this Southern accent, and she would read to me. She would read Mark Twain to me, and I loved it.'},\n",
       " {'comedian': 'Ali_Wong',\n",
       "  'sentence': '1. “The manual. She don’t even know… where the calculator is.”\\n2. “It was like the Tesla of my time. And my mom got so emotional about the manual and she was like, “You never know when you might need this.”\\n3. “And I’m not trying to be a procrastinator anymore. Because according to Deepak-Oprah, that’s not the way for me to achieve my optimum level of success.”\\n\\n**Analysis:**\\n\\nThe humor in this stand-up routine relies on:\\n\\n* **Absurd'},\n",
       " {'comedian': 'Ali_Wong_2',\n",
       "  'sentence': '1. \"It’s lonely. My mom is 80, going through a full blown mid-life crisis. \\'Cause she knows that she’s got a century more to go. And she is so lonely.\"\\n2. \"I’m just kidding. She doesn’t have any black friends.\"\\n3. \"Life is not Rush Hour, the movie, OK?\"\\n4. \"I need children to be there for me when I’m older, when I get as old as her.\"\\n5. \"And when I say be there for me'},\n",
       " {'comedian': 'Chelsea_Peretti',\n",
       "  'sentence': \"* “To the future!”\\n* “Uh-oh, it’s us again.”\\n* “My hubby made breakfast. My hubby fixed the door. My hubby is sleeping. He breathed in, he breathed out. He breathed in, he breathed out.”\\n* “My hubby shot himself in the face! His letter said he missed his name… which I just found out is Steven. Missing my hub like a mug.”\\n\\n**Please provide a brief analysis of the comedian's style and the humor employed in the set.**\\n\\n**Please note:** I'm looking for\"},\n",
       " {'comedian': 'Chelsea_Peretti_2',\n",
       "  'sentence': '* \"People say I look just like you.\"\\n* \"No!\"\\n* \"Hi, everyone, same old me.\"\\n* \"It’s actually to stop them from sweating, because why would you, you know, as a human?\"\\n* \"It worked. I did stop sweating out of my armpits, but I started sweating out of my butthole.\"\\n* \"She is so fucking hot. Her armpits are bone-fucking-dry… just like I always dreamed of.\"\\n* \"Whoa, whoa, whoa!\"\\n* \"I’m so'},\n",
       " {'comedian': 'Donald_Glover',\n",
       "  'sentence': '* \"What the fuck is wrong with this kid? What’s going on with this kid?\"\\n* \"The sweetest thing he was allowed was mints. He would steal mints by the handful.\"\\n* \"So his breath was so fresh… the vapors from his own mouth made his eyes water.\"\\n* \"And then like… Just, they would just bleed… It was crazy.\"\\n* \"He wanted to get to his slide, so he just pushed over this little girl, she fell over, and her Trinidadian babysitter comes over and goes, “Hey'},\n",
       " {'comedian': 'Donald_Glover_2',\n",
       "  'sentence': '* \"Yeah, well, if anybody ever tries to rape me, I’m just gonna shit on ’em.\"\\n* \"Yes, I will. I have no problem.\"\\n* \"You can poop whenever you want? Like, you can just… You can just poop whenever you want to? Just be like… Hyah!\"\\n* \"Like, you got… You’re a national treasure. Like, you can… You got more superpowers than Shaft if you can poop whenever you want.\"\\n* \"I can’t do it, I can’t do it'},\n",
       " {'comedian': 'Hasan_Minhaj',\n",
       "  'sentence': '\"Are you fucking kidding? Thirteen episodes for this kid?\"\\n\"Do you know when br0wn kids get slapped? Every br0wn birthday party.\"\\n\"Ah, Biju got slapped on his birthday!\"\\n\"Slapping is important. It elevates your game.\"\\n\"You ever seen an Indian kid win a spelling bee? Incredible! Ice water in the veins.\"\\n\"Nothing. Nothing!\"\\n\"Where does that come from?\"\\n\"Look at this kid’s parents. Your son just won the Scripps National Spelling Bee.\"\\n\"Look at his brother.'},\n",
       " {'comedian': 'Hasan_Minhaj_2',\n",
       "  'sentence': '“I know, getting into Stanford.”\\n“No, you have to live a life worth talking about, which is why I’m making it mandatory for everyone in this class to go to prom.”\\n“All 30 of us? We’re all going to prom? AP Calc? Us? Me, Jehovah’s Witness girl, Korean exchange students, going to the prom? Thirty for 30? All of us?”\\n“Whatever, it’s not going to happen. He can’t do this.”\\n\\n**Please provide the key humorous lines and punch'},\n",
       " {'comedian': 'Iliza_Shlesinger',\n",
       "  'sentence': '* \"You want him to come in and be, like, “It’s so homey. I’d like to stay forever.” Yes, come closer. Like, that’s what you want.\"\\n* \"You try so hard in your 20s, right? Because you’re young, and it’s fun. That’s your 20s.\"\\n* \"In your 30s… In your 30s, homeboy knocks on the door, you open it, you’re in combat boots, nothing else, and'},\n",
       " {'comedian': 'Iliza_Shlesinger_2',\n",
       "  'sentence': '* \"You don’t want to wear your civilian clothes, okay. \\'Cause you had a whole day.\"\\n* \"‘Cause you had a whole day. Maybe you sweat in them, they’re gross.\"\\n* \"You don’t want to go, like, super hardcore sexy the first time a guy’s coming over. Just relax.\"\\n* \"Now… some women are, like, “Wait a minute.” I am the woman that has stood here before and will stand here before you again and let you know you can wear whatever you want.\"\\n*'},\n",
       " {'comedian': 'Jim_Gaffigan',\n",
       "  'sentence': '“All I did was eat abusively for 40 years. And suddenly I’m fat?” “We got nothing for you. And you can’t use our bathroom.” “Aw. Look at you try.” “You’re not that fat, you’re not that fat.” “Good show.” “You nailed it.” “Well, you must know your way around the kitchen. I know where the food is. Well, you must love to cook.” “What, do I have to do everything?” “I like to sleep. It doesn’t mean I wanna build'},\n",
       " {'comedian': 'Jim_Gaffigan_2',\n",
       "  'sentence': '\"I have friends that are mentally ill.\"\\n\"It was in my apartment building and I needed the material.\"\\n\"The dog didn’t know it was his birthday. The dog didn’t know it had a birthday. The dog wasn’t sure why people were in the apartment.\"\\n\"Someone made that up and we just went along with it. Oh, one year equals seven for doggies? Okay. When I see a dog, I’ll do math.\"\\n\"There’s not a dog sitting in a bar right now going, ‘I’m not'},\n",
       " {'comedian': 'Joe_List',\n",
       "  'sentence': '* “It’s one doctor. He knows all three body parts.”\\n* “Ear, nose, throat. “Who do ya need?”\\n* “Tin-uh-dus. That’s when you’re ears ring.”\\n* “I thought it was called tinnitus, but then I watched a YouTube video, and the doctor in the video, he kept saying “tin-uh-dus.”\\n* “This guy’s a fake ass fucking retard doctor. It’s pronounced t-ah-n-i-tus.”\\n* “Okay, I'},\n",
       " {'comedian': 'Joe_List_2',\n",
       "  'sentence': '* “You can be in the second to last row. This one guy behind, you’re like what a fucking idiot back there. Embarrassing, loser.”\\n* “Am I a psycho or is that annoying? The whole flight he’s like [yawns] For like five hours. [yawns] I wanted him to die, I swear to God.”\\n* “First of all, you don’t need to make a noise when you yawn. That’s a decision, he’s deciding to do that. It’s like, if you were hungry'},\n",
       " {'comedian': 'John_Mulaney',\n",
       "  'sentence': '* “It’s good to give to charities, you know. My wife and I just gave a bunch of stuff to Goodwill.”\\n* “We were moving apartments, we had a bunch of clothes and furniture, so we made a whole day out of it.”\\n* “And then one day my wife said, “Hey, you took that stuff to Goodwill, right?” And I said, “Of course I did! On an unrelated note, I’m going to walk out the front door right now.”\\n* “The boxes were so heavy I couldn’t even'},\n",
       " {'comedian': 'John_Mulaney_2',\n",
       "  'sentence': '* \"The greatest assembly of them all, once a year, Stranger Danger. Yeah, the hottest ticket in town. The Bruno Mars of assemblies.\"\\n* \"We had the same Stranger Danger speaker every year when I was a kid, his name was Detective JJ Bittenbinder. Go ahead and laugh. His name is ridiculous.\"\\n* \"Very sorry, Radio City, did that make you uncomfortable? Well, guess what? You’re adults and he’s not even here. So try being seven years old and you’re sitting five feet away from him. He’s'},\n",
       " {'comedian': 'Jimmy_Yang',\n",
       "  'sentence': '“Asian people, we don’t need Tinder anymore. We just go to BTS concerts. That’s how we do that parking lot pimping.” “I’ve been dating a lot of tall girls lately, because it makes me look successful.” “No, no. I think tall women are beautiful. But some of them like to wear heels. That’s just disrespect.” “Like, you’re already five inches taller than me. Why the fuck are you wearing heels? She’s like, it makes my ass look better. I’m like, your ass is at'},\n",
       " {'comedian': 'Jimmy_Yang_2',\n",
       "  'sentence': '\"See, I’m like first generation. But my parents, they’re like negative 9 generation, because they’re so frickin’ Chinese.\"\\n\"First of all, old Asian people, they don’t watch TV. They judge the TV.\"\\n\"He’s wearing his, like, old Asian man costume, which is just a wife beater and tighty-whiteys. He’s just sitting there, arms folded, judging the TV like–He’s made some random noises around the house.\"\\n\"Now whenever he sneezes, it’'},\n",
       " {'comedian': 'Louis_CK',\n",
       "  'sentence': '* “He was?”\\n* “I don’t think so.”\\n* “You fucking think about it, you idiot. What d– What was he then? You’re… What, was he Presbyterian? What was he? Catholic?”\\n* “Jesus was Catholic and he had a gold chain with a cross. And when they nailed him up, he was like, “Oh, that’s why we have those!” “That finally makes sense. I didn’t even know. Oh, fuck, that’s me! I’m the little guy on'},\n",
       " {'comedian': 'Louis_CK_2',\n",
       "  'sentence': '“Dogs are so dumb, it’s fucking tragic. It’s sad how dumb they are. They’re in our lives and they know nothing about what’s happening.” “You ever been having, like, a dramatic moment in your family, like, you’re in the living room telling the kids that grandma died, and everybody’s crying, and the dog’s sitting there like…“I know you! Ha!” They’re so stupid! Incredibly stupid animals. They don’t even know their own lives, they don’t even — they can’'},\n",
       " {'comedian': 'Nate_Bargatze',\n",
       "  'sentence': '* \"Did you name her after Harper Lee, the author of\\xa0To Kill a Mockingbird?”\\n* \"I love having a kid. We… I love\\xa0when kids cry, it’s just innocent. I love how innocent it is. They cry over a tag in their shirt. I mean, they bawl. They don’t like… It feels weird. And then, you could be like, “Is your house on fire?” I’ve never seen someone cry this much. It’s over nothing.\"\\n* \"She’s on her iPad a lot'},\n",
       " {'comedian': 'Nate_Bargatze_2',\n",
       "  'sentence': '* \"It’s a new math they invented, no heads up. Just give it to parents that never learned it.\"\\n* \"It’s just a whole new… I mean, it’s unbelievable. They bring it home, you gotta watch a 40-minute YouTube video on Common Core math.\"\\n* \"You… You just want to keep breaking the problem down. You put the problem at the top, and it just keeps going.\"\\n* \"And then what’s even funnier is you see old math in the middle of it. As you break it'},\n",
       " {'comedian': 'Nate_Bargatze_TK',\n",
       "  'sentence': '1. \"Uh… It goes clown, then magic. There’s two steps. You can take them in either order.\"\\n2. \"My, uh, first memory of my life is I was five years old, and I remember my mom walked me out to the front yard, and my dad pulled up… We had this old red Mazda. He’s dressed as a clown, that doesn’t even faze me. That’s just how he left. How else would he come home?\"\\n3. \"And… The Easter Bunny was in the passenger seat.'},\n",
       " {'comedian': 'Nate_Bargatze_TK_2',\n",
       "  'sentence': '1. “The invitation said, ‘Tuesday’s getting married, rehearsal’s Friday, wedding’s Saturday.’”\\n2. “People were like, ‘We gotta be there Monday for this wedding? How long is this wedding? It’s a week?’”\\n3. “I’m wearing a button-down shirt, khaki pants. Nothing crazy. I’m wildly overdressed. I look like I work there.”\\n4. “Everybody else just has a football or basketball jersey on. My uncle, his daughter’s getting married. He has his tuxedo'},\n",
       " {'comedian': 'Russell_Peters',\n",
       "  'sentence': '1. \"What do you mean what else is wrong with me?\"\\n2. \"That’s really fucking racist, but since you asked, I have acid reflux.\"\\n3. \"There is no way you can consume the food that we eat with that much spice, and that much oil, and that much butter, and not just have it burn a hole in your– as my dad would say– your esophagus.\"\\n4. \"What? Son, it’s burning your esophagus.\"\\n5. \"Dad, I want to assure you I have no phagus in'},\n",
       " {'comedian': 'Russell_Peters_2',\n",
       "  'sentence': '\"Identical twins, that’s like bragging rights for you, you know I mean. That’s your way of going, look. Look at how good my balls are. Look, look.\"\\n\\n\"My balls are so strong, they made one kid and then it made the exact same kid right away. You lift up your balls, sponsored by Xerox. Sponsored by Xerox.\"\\n\\n\"If I have twin girls, these are going to be my daughters, it’s going to be Kate and Duplicate.\"\\n\\n\"If I have twin boys, it’s Pete and Repeat.\"'},\n",
       " {'comedian': 'Sam_Morril',\n",
       "  'sentence': '* \"I’ll drink it. And he gave me this hateful look, and I thought, why is this guy so mad at me?\"\\n* \"And my friend said you ruined his night. And I was like, that’s not how I want to think about it, you know?\"\\n* \"You don’t want to think of yourself as a -block to some monster.\"\\n* \"It’s hard not to drink man. It’s very hard.\"\\n* \"I work in a place where there’s a bar every night. I’ve'},\n",
       " {'comedian': 'Sam_Morril_2',\n",
       "  'sentence': '* “It’s weird that they can do anti-smoking ads, but you can’t do pro-cigarette commercials. Isn’t that weird? They don’t give ’em a rebuttal.”\\n* “A hot girl walks up to a guy in the bar and asks to bum a cigarette, and he goes, oh, I don’t smoke. So then she goes outside and bums them from another guy, and they go home together and they fuck and that’s the whole commercial.”\\n* “If I knock you up and you need an abortion, it'},\n",
       " {'comedian': 'Trevor_Noah',\n",
       "  'sentence': '* “You know how I’ve learned? Because I’ve learned how to use the Russian accent for myself.”\\n* “I’ll share this with you, I don’t mind. I, uh– I’m not particularly comfortable in the house at night by myself. What I’m trying to say is I’m afraid of the dark.”\\n* “What I started doing now is I leave the lights off. And when I go the bathroom, I just speak to myself in a Russian accent.”\\n* “It sounds crazy, but I feel safe.'},\n",
       " {'comedian': 'Trevor_Noah_2',\n",
       "  'sentence': '“You can’t be a normal man with a voice like that.” “And a Kit Kat, please.” “No. No. It’s so unique. You can’t be silly. What are you making, prank phone calls?” “Who the hell is this?!” “I’m not telling you.” [laughs] “It just doesn’t work.” “And a Kit Kat, please.” “No. No. It’s so unique. You can’t be silly. What are you making, prank phone calls?” “Who the hell is this?!” “I'},\n",
       " {'comedian': 'Tom_Segura',\n",
       "  'sentence': '* “You trying to get a sack?”\\n* “We could go do that.”\\n* “All right. Cool.”\\n* “You don’t fuckin’ have it? Isn’t that your sole responsibility?”\\n* “Let’s go get it.”\\n* “I’ll go get it. You stay here and watch my place.”\\n* “That’s what’s up.”\\n* “But don’t shoot my mom.”\\n\\n\\n**Explanation:**\\n\\nThe humor in this stand-up routine comes from the contrast between the mundane and the absurd'},\n",
       " {'comedian': 'Tom_Segura_2',\n",
       "  'sentence': '1. \"I did it… I did it at the hotel earlier. I got such a warm rush through my body.\"\\n2. \"It felt like the inside of my body hugged the outside of my body, you know?\"\\n3. \"I was trying to figure out, “Why does this feel so good?” I think it’s a taste of power.\"\\n4. \"Like most of us, we have no power in our everyday lives. But if you’re alone in an elevator, -you are lord of the elevator shaft. You get to decide, like'},\n",
       " {'comedian': 'Anthony_Jeselnik_3',\n",
       "  'sentence': '\"An entire pack of cigarettes in one sitting. Just to teach me an important lesson about brand loyalty.\"\\n\"First time I got a bad report card, I brought it home, I gave it to my dad and my dad beat me. Beat the hell out of me.\"\\n\"Let her take the hit.\"\\n\"You don’t take classes. You just do it and figure it out.\"\\n\"Like, when I was a kid, I never got to take swimming lessons. No, my dad would pick me up and throw me in the water to teach himself CPR.\"'},\n",
       " {'comedian': 'Ali_Wong_3',\n",
       "  'sentence': '\"Which a lot of people are shocked by, because, usually, Asian-American women who, like, you know, wear these kinda glasses and have a lot of opinions, they like to date white dudes.\"\\n\\n\"You go to any hipster neighborhood in a major city in America and that shit is turning into a Yoko Ono factory. It’s… too much.\"\\n\\n\"I don’t know what’s wrong with these bitches. I get it, you know, because being with a white dude you feel very… You feel very picturesque when you’re with a white dude'},\n",
       " {'comedian': 'Chelsea_Peretti_3',\n",
       "  'sentence': '**Key Humorous Lines and Punchlines:**\\n\\n* **\"My dick hurts.\"** - This line is funny because it\\'s unexpected and absurd. It\\'s a relatable feeling for many people, but the delivery is what makes it funny.\\n* **\"But this could sustain my spirit for two weeks!\"** - This line is funny because it\\'s hyperbolic and exaggerated. It\\'s a funny way to describe the feeling of finding a phone with no password.\\n* **\"People just like, ‘Dude, what’s up with your dick? We’re worried'},\n",
       " {'comedian': 'Donald_Glover_3',\n",
       "  'sentence': '1. \"People always want to know who can say the N-word and who can’t say the N-word.\"\\n2. \"You know, I’ve got a lot of white friends. And they’re all just kind of like, “Oh man, I wish I could say that stuff. “It sounds so cool when you say it in rap songs. Like, I want to say that, it sounds cool.”\"\\n3. \"And I’m just like, oh, it doesn’t really, like, do anything… it’s not'},\n",
       " {'comedian': 'Hasan_Minhaj_3',\n",
       "  'sentence': '**Key Humorous Lines:**\\n\\n* \"I’m the only br0wn kid at school, Dad is the only br0wn guy at work. In a weird way that brings us together, and we have to do everything together.\"\\n* \"Try to understand immigrant fathers.\"\\n* \"I still can’t understand some of you. There are uncles here. None of you guys are smiling. I don’t get it. You’re going to die.\"\\n* \"You’re like, “Jesus…” We’d do everything…I remember being in the'},\n",
       " {'comedian': 'Iliza_Shlesinger_3',\n",
       "  'sentence': '* “We’re judging your hair, your shoes, we scan you, like Predator.”\\n* “Every atom, every molecule of your DNA, we go through it like… “Scanning for physical abnormalities. Is he balding Is that a goatee Is his shirt unbuttoned too low for his ethnicity? Is he wearing embroidered jeans? If so, is he a European male or just someone from Arizona?”\\n* “We aren’t looking to see if you’re the hottest guy ever. Nay. We are merely assessing if you’re 50% attractive enough'},\n",
       " {'comedian': 'John_Mulaney_3',\n",
       "  'sentence': '\"I was afraid that the Best Buy guy was going to be mad at me, so I bought an HDMI cable.\"\\n\"Do you have a Best Buy Rewards card?” And I said, “No, I wish!”\\n\"Jesus Christ!\"\\n\"Walk all the way to the laser printers and just stood there, Blair Witch style.\"\\n\"Do you want a Best Buy Rewards card?” And I said, “No.”\\n\"You’ll see! One day I’m going to leave you and I’m going to get that Best Buy Rewards card.\"\\n\"Jesus'},\n",
       " {'comedian': 'Jim_Gaffigan_3',\n",
       "  'sentence': '\"Oh my God, I’ve watched you on Animal Planet. “You’re so much taller in person. Can we do a selfie?” \\n\"That guy looks like Phillip Seymour Hoffman.\"\\n\"Do you have anything stronger? “Like a bear gun? “‘Cause I don’t think this bear’s approaching to get his hair done.” \\n\\n**Explanation:**\\n\\nThe humor in these lines comes from the contrast between the speaker\\'s expectations of a bear encounter and the reality of the situation. \\n\\n* **\"Oh my God, I’ve'},\n",
       " {'comedian': 'Joe_List_3',\n",
       "  'sentence': '* “I’m going to therapy. You guys going to therapy out there?”\\n* “Mental and dental. No? Not a big, therapy, in New York too, oi.”\\n* “If you guys wanted to go, maybe you can’t afford it, I can do it for you.”\\n* “I didn’t go to college or anything, but I know how to do therapy. I’ve been going long enough. Whatever you’re dealing with, it’s because of your family. Look no further, than your own family.”'},\n",
       " {'comedian': 'Jimmy_Yang_3',\n",
       "  'sentence': '\"I got to tip 20% everywhere. I got to give every Uber driver five-star ratings just so I can be a good representative.\"\\n\\n\"Everywhere I go, I got to represent. Even day-to-day shit, even the bedroom I got to represent.\"\\n\\n\"After I hooked up with this one girl, this is what she said to me. She was like, Jimmy, I don’t know how to tell you this, but you’re the first Asian guy I’ve ever been with. I’m like, OK. What do you'},\n",
       " {'comedian': 'Louis_CK_3',\n",
       "  'sentence': '“I did not adopt her, I’ll be honest with you. I bought her with money. That’s the truth.” “People always ask me when I walk my dog in New York, “That’s a beautiful dog. Is she a rescue?” I’m like, “No, she’s very expensive. Please don’t touch her.” “I did rescue a dog last year, and it bit everyone in my life, so I un-rescued it, and I bought a dog that works.” “I hate New York, I really do — I used'},\n",
       " {'comedian': 'Nate_Bargatze_3',\n",
       "  'sentence': '* “It’s bride and groom. Looks like it’s home and away That’s how many jerseys are in there.”\\n* “They’re like, “Oh, I didn’t know this was the nice part of town. All right.”\\n* “The reception is next door, just at a lady’s house. Like, in her backyard. Like, she doesn’t do… It isn’t like, she’s like, “And I do receptions all the time.”\\n* “We were her one and only reception.”\\n*'},\n",
       " {'comedian': 'Nate_Bargatze_TK_3',\n",
       "  'sentence': '\"I’m 41. My daughter is eight. Nothing should ever come out of her mouth that I’m like, “What? What was that?”\"\\n\"I learned when to use “a” or “an” in a sentence.\"\\n\"I didn’t know that there was a rule in play. I thought you felt it out, you know, and just go, “That feels right,” and that’s what you do.\"\\n\"I do the same thing with a comma. I’ve never known where a comma’s supposed to go'},\n",
       " {'comedian': 'Russell_Peters_3',\n",
       "  'sentence': '\"And I didn’t realize how Mexican she was until she went into labor and they broke her water and candy fell out of her.\" \"He’s going to be able to engineer the wall. And hop it. He’s going to steal your laptop and fix it. It’s going to be an amazing thing to see.\" \"You think about it, I’m 49. When my son starts walking, we’re going to be walking the same way.\" \"Do you remember your first pregnancy? You remember it clearly? Do you remember how many months it took'},\n",
       " {'comedian': 'Sam_Morill_3',\n",
       "  'sentence': '1. “Trump is Hitler.”\\n2. “All right, look, “we don’t know how hilarious Hitler would have been “on social media. “That’s not fair.”\\n3. “Hitler might have had a strong Twitter presence. Trapped in bunker, sad. Adolf’s trending.”\\n4. “Fun fact about Hitler, didn’t pay income tax, was very bad at managing his money, and I thought, man, it’s too bad there wasn’t a group of people that could have helped, you know?Jews.”'},\n",
       " {'comedian': 'Trevor_Noah_3',\n",
       "  'sentence': '* “I have never seen anything like it. You must remember, I come from an African country. And all over Africa, we have traffic lights. But we don’t use them. All right?”\\n* “It’s not “Stop!” It’s “Stop?” It’s almost like an African traveled the world, saw that other people have traffic lights and then just brought them back, but didn’t know what they were for.”\\n* “The guy was like, “Guys, guys, guys. We need to get traffic lights. Ah?”'},\n",
       " {'comedian': 'Tom_Segura_3',\n",
       "  'sentence': '**Stand-up Comedy Transcript**\\n\\n\"Probably checked in to 400 hotels this year. And when I tell you that this has happened to me more than half a dozen times, I am not exaggerating. Every hotel check-in begins, usually, the same. It’s standard. Hotels, you know, the people at the desk, they go, “Last name?” And this just happened to me. “Last name?” And I go, “Segura.” And the guy goes, “Whoa. Are you Japanese?” And I go, “Hundred percent, yeah'}]"
      ]
     },
     "execution_count": 5,
     "metadata": {},
     "output_type": "execute_result"
    }
   ],
   "source": [
    "results"
   ]
  }
 ],
 "metadata": {
  "kernelspec": {
   "display_name": ".venv",
   "language": "python",
   "name": "python3"
  },
  "language_info": {
   "codemirror_mode": {
    "name": "ipython",
    "version": 3
   },
   "file_extension": ".py",
   "mimetype": "text/x-python",
   "name": "python",
   "nbconvert_exporter": "python",
   "pygments_lexer": "ipython3",
   "version": "3.8.10"
  }
 },
 "nbformat": 4,
 "nbformat_minor": 2
}
