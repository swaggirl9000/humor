{
 "cells": [
  {
   "cell_type": "code",
   "execution_count": 12,
   "metadata": {},
   "outputs": [],
   "source": [
    "import pandas as pd\n",
    "from sentence_transformers import SentenceTransformer"
   ]
  },
  {
   "cell_type": "code",
   "execution_count": 31,
   "metadata": {},
   "outputs": [],
   "source": [
    "model = SentenceTransformer(\"all-MiniLM-L6-v2\")\n",
    "\n",
    "def vector_similarity_metric(model_answers: pd.DataFrame, ground_truth: pd.DataFrame):  \n",
    "    #Find score using vector similarities\n",
    "    score_matrix = model_answers.apply(\n",
    "        lambda row_model: ground_truth.apply(\n",
    "            lambda row_truth: \n",
    "                model.similarity(model.encode(row_truth[\"sentence\"]), model.encode(row_model[\"sentence\"])).item() \n",
    "                if row_model[\"comedian\"] == row_truth[\"comedian\"] \n",
    "                else None,\n",
    "        axis=1),\n",
    "    axis=1) \\\n",
    "        .melt(ignore_index=False) \\\n",
    "        .dropna() \\\n",
    "        .reset_index()\n",
    "\n",
    "    # Find the best score by taking the maximum value\n",
    "    best_match = score_matrix.loc[score_matrix.groupby(\"index\")[\"value\"].idxmax()].reset_index(drop=True)\n",
    "\n",
    "    # Add in the ground truths that were not matched\n",
    "    missing_gt = set(ground_truth.index) - set(best_match[\"variable\"].unique())\n",
    "    missing_gt = pd.DataFrame({\"index\": None, \"variable\": list(missing_gt), \"value\": 0})\n",
    "    \n",
    "    result = best_match.append(missing_gt).groupby(\"variable\").mean().rename(columns={\"value\": \"score\"})\n",
    "\n",
    "    # Calculate penalty for over generation \n",
    "    over_generation_penalty = len(model_answers) - len(ground_truth)\n",
    "    penalty_factor = max(over_generation_penalty, 0)  \n",
    "    \n",
    "    # # Add in the comedians and group by the mean for each comedian\n",
    "    final_result = result.merge(ground_truth[['comedian']], left_index=True, right_index=True).reset_index(drop=True)\n",
    "    comedian_scores = final_result.groupby('comedian')['score'].mean().reset_index() \n",
    "    \n",
    "    # Apply penalty to the final score, if penalty goes under 0, score is set to 0\n",
    "    comedian_scores['score'] -= penalty_factor * 0.1 \n",
    "    comedian_scores['score'] = comedian_scores['score'].apply(lambda x: max(x, 0))\n",
    "    comedian_scores['score'] *= 100\n",
    "    \n",
    "    return comedian_scores"
   ]
  },
  {
   "cell_type": "code",
   "execution_count": 32,
   "metadata": {},
   "outputs": [],
   "source": [
    "ground_truth = pd.read_csv('/home/ada/humor/data/stand_up_dataset/standup_data.csv')\n",
    "gemma = pd.read_csv('/home/ada/humor/data/stand_up_dataset/gemma_answers.csv')\n",
    "\n",
    "gemma_metric = vector_similarity_metric(gemma, ground_truth)"
   ]
  },
  {
   "cell_type": "code",
   "execution_count": 34,
   "metadata": {},
   "outputs": [
    {
     "name": "stderr",
     "output_type": "stream",
     "text": [
      "/tmp/ipykernel_2323956/2897354298.py:1: FutureWarning: Dropping of nuisance columns in DataFrame reductions (with 'numeric_only=None') is deprecated; in a future version this will raise TypeError.  Select only valid columns before calling the reduction.\n",
      "  gemma_metric.mean()\n"
     ]
    },
    {
     "data": {
      "text/plain": [
       "score    30.00032\n",
       "dtype: float64"
      ]
     },
     "execution_count": 34,
     "metadata": {},
     "output_type": "execute_result"
    }
   ],
   "source": [
    "gemma_metric.mean()"
   ]
  },
  {
   "cell_type": "code",
   "execution_count": 35,
   "metadata": {},
   "outputs": [
    {
     "name": "stdout",
     "output_type": "stream",
     "text": [
      "Correlation:  0.8182805429864253\n",
      "p_value: 2.2627778718074984e-13\n"
     ]
    }
   ],
   "source": [
    "import sys\n",
    "import pandas as pd\n",
    "sys.path.append(\"..\")\n",
    "from scipy.stats import spearmanr\n",
    "from humor.bipartite_metric import bipartite_metric\n",
    "\n",
    "model = pd.read_csv('/home/ada/humor/data/stand_up_dataset/gemma_answers.csv')\n",
    "\n",
    "gm = bipartite_metric(model, ground_truth)\n",
    "merged_df = pd.merge(gm, gemma_metric, on='comedian', suffixes=('_df1', '_df2'))\n",
    "correlation, p_value = spearmanr(merged_df['score_df1'], merged_df['score_df2'])\n",
    "print(\"Correlation: \", correlation)\n",
    "print(\"p_value:\", p_value)"
   ]
  }
 ],
 "metadata": {
  "kernelspec": {
   "display_name": ".venv",
   "language": "python",
   "name": "python3"
  },
  "language_info": {
   "codemirror_mode": {
    "name": "ipython",
    "version": 3
   },
   "file_extension": ".py",
   "mimetype": "text/x-python",
   "name": "python",
   "nbconvert_exporter": "python",
   "pygments_lexer": "ipython3",
   "version": "3.8.10"
  }
 },
 "nbformat": 4,
 "nbformat_minor": 2
}
