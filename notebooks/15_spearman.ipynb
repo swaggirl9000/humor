{
 "cells": [
  {
   "cell_type": "markdown",
   "metadata": {},
   "source": [
    "# Spearman Rank"
   ]
  },
  {
   "cell_type": "code",
   "execution_count": 1,
   "metadata": {},
   "outputs": [
    {
     "name": "stderr",
     "output_type": "stream",
     "text": [
      "/home/ada/humor/.venv/lib/python3.8/site-packages/sentence_transformers/cross_encoder/CrossEncoder.py:13: TqdmWarning: IProgress not found. Please update jupyter and ipywidgets. See https://ipywidgets.readthedocs.io/en/stable/user_install.html\n",
      "  from tqdm.autonotebook import tqdm, trange\n"
     ]
    }
   ],
   "source": [
    "import sys\n",
    "import pandas as pd\n",
    "sys.path.append(\"..\")\n",
    "from scipy.stats import spearmanr\n",
    "from humor.bipartite_metric import bipartite_metric\n",
    "from humor.vector_similarity_metric import vector_similarity_metric"
   ]
  },
  {
   "cell_type": "code",
   "execution_count": 2,
   "metadata": {},
   "outputs": [],
   "source": [
    "ground_truth = pd.read_csv('/home/ada/humor/data/stand_up_dataset/standup_data.csv')\n",
    "\n",
    "gemma2 = pd.read_csv('/home/ada/humor/data/subspace_scores/scores_gemma-2-2b-it.csv')\n",
    "gemma9 = pd.read_csv('/home/ada/humor/data/subspace_scores/scores_gemma-2-9b-it.csv')\n",
    "gemma27 = pd.read_csv(\"/home/ada/humor/data/subspace_scores/scores_gemma-2-27b-it.csv\")\n",
    "\n",
    "gemma2_prompt = pd.read_csv('/home/ada/humor/data/stand_up_dataset/gemma2_2 - gemma2 - gemma2.csv')\n",
    "gemma9_prompt = pd.read_csv('/home/ada/humor/data/stand_up_dataset/gemma2-9.csv')\n",
    "gemma27_prompt = pd.read_csv('/home/ada/humor/data/stand_up_dataset/gemma2_27 - gemma2 - gemma2.csv')"
   ]
  },
  {
   "cell_type": "markdown",
   "metadata": {},
   "source": [
    "2 Billion"
   ]
  },
  {
   "cell_type": "code",
   "execution_count": 3,
   "metadata": {},
   "outputs": [
    {
     "name": "stdout",
     "output_type": "stream",
     "text": [
      "Subspace\n",
      "\n",
      "Gemma 2B Sub:  35.9493175850195\n",
      "Gemma 2B Bi:  score    27.098347\n",
      "dtype: float64\n",
      "Gemma 2B Vec:  score    28.505246\n",
      "dtype: float64\n"
     ]
    }
   ],
   "source": [
    "print(\"Subspace\\n\")\n",
    "gemma2_score = gemma2[\"Score\"].mean() * 100\n",
    "print(\"Gemma 2B Sub: \", gemma2_score)\n",
    "\n",
    "gemma2_bimetric = bipartite_metric(gemma2_prompt, ground_truth)\n",
    "print(\"Gemma 2B Bi: \", gemma2_bimetric.select_dtypes(include='number').mean())\n",
    "\n",
    "gemma2_vec_metric = vector_similarity_metric(gemma2_prompt, ground_truth)\n",
    "print(\"Gemma 2B Vec: \", gemma2_vec_metric.select_dtypes(include='number').mean())"
   ]
  },
  {
   "cell_type": "code",
   "execution_count": 4,
   "metadata": {},
   "outputs": [],
   "source": [
    "gemma2[\"Score\"] = gemma2[\"Score\"] * 100"
   ]
  },
  {
   "cell_type": "code",
   "execution_count": 5,
   "metadata": {},
   "outputs": [
    {
     "name": "stdout",
     "output_type": "stream",
     "text": [
      "Correlation:  0.8542081447963801\n",
      "p_value: 1.5896759492056667e-15\n"
     ]
    }
   ],
   "source": [
    "# F and V\n",
    "merged_df4 = pd.merge(gemma2_bimetric, gemma2_vec_metric, on='comedian', suffixes=('_df1', '_df2'))\n",
    "correlation, p_value = spearmanr(merged_df4['score_df1'], merged_df4['score_df2'])\n",
    "print(\"Correlation: \", correlation)\n",
    "print(\"p_value:\", p_value)"
   ]
  },
  {
   "cell_type": "code",
   "execution_count": 6,
   "metadata": {},
   "outputs": [
    {
     "name": "stdout",
     "output_type": "stream",
     "text": [
      "Correlation:  -0.052307692307692305\n",
      "p_value: 0.7154543745567703\n"
     ]
    }
   ],
   "source": [
    "#F and S\n",
    "gemma2 = gemma2.rename(columns={'Comedian': 'comedian', 'Score': 'score'})\n",
    "merged_df5 = pd.merge(gemma2_bimetric, gemma2, on='comedian', suffixes=('_df1', '_df2'))\n",
    "correlation, p_value = spearmanr(merged_df5['score_df1'], merged_df5['score_df2'])\n",
    "print(\"Correlation: \", correlation)\n",
    "print(\"p_value:\", p_value)"
   ]
  },
  {
   "cell_type": "code",
   "execution_count": 7,
   "metadata": {},
   "outputs": [
    {
     "name": "stdout",
     "output_type": "stream",
     "text": [
      "Correlation:  0.028054298642533938\n",
      "p_value: 0.8450647103618798\n"
     ]
    }
   ],
   "source": [
    "#V and S\n",
    "merged_df6 = pd.merge(gemma2_vec_metric, gemma2, on='comedian', suffixes=('_df1', '_df2'))\n",
    "correlation, p_value = spearmanr(merged_df6['score_df1'], merged_df6['score_df2'])\n",
    "print(\"Correlation: \", correlation)\n",
    "print(\"p_value:\", p_value)"
   ]
  },
  {
   "cell_type": "markdown",
   "metadata": {},
   "source": [
    "9 Billion"
   ]
  },
  {
   "cell_type": "code",
   "execution_count": 8,
   "metadata": {},
   "outputs": [
    {
     "name": "stdout",
     "output_type": "stream",
     "text": [
      "Subspace\n",
      "\n",
      "Gemma 9B Sub:  35.91184207037384\n",
      "Gemma 9B Bi:  score    35.184287\n",
      "dtype: float64\n",
      "Gemma 9B Vec:  score    35.863432\n",
      "dtype: float64\n"
     ]
    }
   ],
   "source": [
    "print(\"Subspace\\n\")\n",
    "gemma9_score = gemma9[\"Score\"].mean() * 100\n",
    "print(\"Gemma 9B Sub: \", gemma9_score)\n",
    "\n",
    "gemma9_bimetric = bipartite_metric(gemma9_prompt, ground_truth)\n",
    "print(\"Gemma 9B Bi: \", gemma9_bimetric.select_dtypes(include='number').mean())\n",
    "\n",
    "gemma9_vec_metric = vector_similarity_metric(gemma9_prompt, ground_truth)\n",
    "print(\"Gemma 9B Vec: \", gemma9_vec_metric.select_dtypes(include='number').mean())\n"
   ]
  },
  {
   "cell_type": "code",
   "execution_count": 9,
   "metadata": {},
   "outputs": [],
   "source": [
    "gemma9[\"Score\"] = gemma9[\"Score\"] * 100"
   ]
  },
  {
   "cell_type": "code",
   "execution_count": 10,
   "metadata": {},
   "outputs": [
    {
     "name": "stdout",
     "output_type": "stream",
     "text": [
      "Correlation:  0.8912418835286353\n",
      "p_value: 1.888279606838719e-18\n"
     ]
    }
   ],
   "source": [
    "# F and V\n",
    "merged_df1 = pd.merge(gemma9_bimetric, gemma9_vec_metric, on='comedian', suffixes=('_df1', '_df2'))\n",
    "correlation, p_value = spearmanr(merged_df1['score_df1'], merged_df1['score_df2'])\n",
    "print(\"Correlation: \", correlation)\n",
    "print(\"p_value:\", p_value)"
   ]
  },
  {
   "cell_type": "code",
   "execution_count": 11,
   "metadata": {},
   "outputs": [
    {
     "name": "stdout",
     "output_type": "stream",
     "text": [
      "Correlation:  0.10027376187548008\n",
      "p_value: 0.4838569923924383\n"
     ]
    }
   ],
   "source": [
    "#F and S\n",
    "gemma9 = gemma9.rename(columns={'Comedian': 'comedian', 'Score': 'score'})\n",
    "merged_df2 = pd.merge(gemma9_bimetric, gemma9, on='comedian', suffixes=('_df1', '_df2'))\n",
    "correlation, p_value = spearmanr(merged_df2['score_df1'], merged_df2['score_df2'])\n",
    "print(\"Correlation: \", correlation)\n",
    "print(\"p_value:\", p_value)"
   ]
  },
  {
   "cell_type": "code",
   "execution_count": 12,
   "metadata": {},
   "outputs": [
    {
     "name": "stdout",
     "output_type": "stream",
     "text": [
      "Correlation:  0.07330316742081447\n",
      "p_value: 0.6092110013047352\n"
     ]
    }
   ],
   "source": [
    "#V and S\n",
    "merged_df3 = pd.merge(gemma9_vec_metric, gemma9, on='comedian', suffixes=('_df1', '_df2'))\n",
    "correlation, p_value = spearmanr(merged_df3['score_df1'], merged_df3['score_df2'])\n",
    "print(\"Correlation: \", correlation)\n",
    "print(\"p_value:\", p_value)"
   ]
  },
  {
   "cell_type": "markdown",
   "metadata": {},
   "source": [
    "27 billion"
   ]
  },
  {
   "cell_type": "code",
   "execution_count": 13,
   "metadata": {},
   "outputs": [
    {
     "name": "stdout",
     "output_type": "stream",
     "text": [
      "Subspace\n",
      "\n",
      "Gemma 27B Sub:  28.21324564078275\n",
      "Gemma 27B Bi:  score    23.362894\n",
      "dtype: float64\n",
      "Gemma 9B Vec:  score    28.78914\n",
      "dtype: float64\n"
     ]
    }
   ],
   "source": [
    "print(\"Subspace\\n\")\n",
    "gemma27_score = gemma27[\"Score\"].mean() * 100\n",
    "print(\"Gemma 27B Sub: \", gemma27_score)\n",
    "\n",
    "gemma27_bimetric = bipartite_metric(gemma27_prompt, ground_truth)\n",
    "print(\"Gemma 27B Bi: \", gemma27_bimetric.select_dtypes(include='number').mean())\n",
    "\n",
    "gemma27_vec_metric = vector_similarity_metric(gemma27_prompt, ground_truth)\n",
    "print(\"Gemma 9B Vec: \", gemma27_vec_metric.select_dtypes(include='number').mean())"
   ]
  },
  {
   "cell_type": "code",
   "execution_count": 14,
   "metadata": {},
   "outputs": [],
   "source": [
    "gemma27[\"Score\"] = gemma27[\"Score\"] * 100"
   ]
  },
  {
   "cell_type": "code",
   "execution_count": 15,
   "metadata": {},
   "outputs": [
    {
     "name": "stdout",
     "output_type": "stream",
     "text": [
      "Correlation:  0.8689533471949169\n",
      "p_value: 1.3931766591150047e-16\n"
     ]
    }
   ],
   "source": [
    "# F and V\n",
    "merged_df7 = pd.merge(gemma27_bimetric, gemma27_vec_metric, on='comedian', suffixes=('_df1', '_df2'))\n",
    "correlation, p_value = spearmanr(merged_df7['score_df1'], merged_df7['score_df2'])\n",
    "print(\"Correlation: \", correlation)\n",
    "print(\"p_value:\", p_value)"
   ]
  },
  {
   "cell_type": "code",
   "execution_count": 16,
   "metadata": {},
   "outputs": [
    {
     "name": "stdout",
     "output_type": "stream",
     "text": [
      "Correlation:  0.04095207932153309\n",
      "p_value: 0.7753946259908072\n"
     ]
    }
   ],
   "source": [
    "#F and S\n",
    "gemma27 = gemma27.rename(columns={'Comedian': 'comedian', 'Score': 'score'})\n",
    "merged_df8 = pd.merge(gemma27_bimetric, gemma27, on='comedian', suffixes=('_df1', '_df2'))\n",
    "correlation, p_value = spearmanr(merged_df8['score_df1'], merged_df8['score_df2'])\n",
    "print(\"Correlation: \", correlation)\n",
    "print(\"p_value:\", p_value)"
   ]
  },
  {
   "cell_type": "code",
   "execution_count": 17,
   "metadata": {},
   "outputs": [
    {
     "name": "stdout",
     "output_type": "stream",
     "text": [
      "Correlation:  -0.029773755656108594\n",
      "p_value: 0.8356960944121108\n"
     ]
    }
   ],
   "source": [
    "#V and S\n",
    "merged_df9 = pd.merge(gemma27_vec_metric, gemma27, on='comedian', suffixes=('_df1', '_df2'))\n",
    "correlation, p_value = spearmanr(merged_df9['score_df1'], merged_df9['score_df2'])\n",
    "print(\"Correlation: \", correlation)\n",
    "print(\"p_value:\", p_value)"
   ]
  }
 ],
 "metadata": {
  "kernelspec": {
   "display_name": ".venv",
   "language": "python",
   "name": "python3"
  },
  "language_info": {
   "codemirror_mode": {
    "name": "ipython",
    "version": 3
   },
   "file_extension": ".py",
   "mimetype": "text/x-python",
   "name": "python",
   "nbconvert_exporter": "python",
   "pygments_lexer": "ipython3",
   "version": "3.8.10"
  }
 },
 "nbformat": 4,
 "nbformat_minor": 2
}
