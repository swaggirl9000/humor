{
 "cells": [
  {
   "cell_type": "markdown",
   "metadata": {},
   "source": [
    "# Basic Metric"
   ]
  },
  {
   "cell_type": "markdown",
   "metadata": {},
   "source": [
    "This is the basic comparison of simply comparing how many of the sentences the model got correct in terms of the extracted ground truth"
   ]
  },
  {
   "cell_type": "code",
   "execution_count": 56,
   "metadata": {},
   "outputs": [],
   "source": [
    "import pandas as pd"
   ]
  },
  {
   "cell_type": "code",
   "execution_count": 57,
   "metadata": {},
   "outputs": [],
   "source": [
    "ground_truth = pd.read_csv('/home/ada/humor/data/stand_up_dataset/standup_data.csv')\n",
    "model = pd.read_csv('/home/ada/humor/data/stand_up_dataset/gemma_answers.csv')"
   ]
  },
  {
   "cell_type": "code",
   "execution_count": 58,
   "metadata": {},
   "outputs": [
    {
     "name": "stdout",
     "output_type": "stream",
     "text": [
      "Index(['comedian', 'laugh_start', 'laugh_end', 'sentence'], dtype='object')\n"
     ]
    }
   ],
   "source": [
    "print(ground_truth.columns)"
   ]
  },
  {
   "cell_type": "code",
   "execution_count": 59,
   "metadata": {},
   "outputs": [
    {
     "data": {
      "text/html": [
       "<div>\n",
       "<style scoped>\n",
       "    .dataframe tbody tr th:only-of-type {\n",
       "        vertical-align: middle;\n",
       "    }\n",
       "\n",
       "    .dataframe tbody tr th {\n",
       "        vertical-align: top;\n",
       "    }\n",
       "\n",
       "    .dataframe thead th {\n",
       "        text-align: right;\n",
       "    }\n",
       "</style>\n",
       "<table border=\"1\" class=\"dataframe\">\n",
       "  <thead>\n",
       "    <tr style=\"text-align: right;\">\n",
       "      <th></th>\n",
       "      <th>comedian</th>\n",
       "      <th>laugh_start</th>\n",
       "      <th>laugh_end</th>\n",
       "      <th>sentence</th>\n",
       "    </tr>\n",
       "  </thead>\n",
       "  <tbody>\n",
       "    <tr>\n",
       "      <th>0</th>\n",
       "      <td>Donald_Glover</td>\n",
       "      <td>17.268</td>\n",
       "      <td>19.352</td>\n",
       "      <td>He wasn't crying. Just tears, he was giving me...</td>\n",
       "    </tr>\n",
       "    <tr>\n",
       "      <th>1</th>\n",
       "      <td>Donald_Glover</td>\n",
       "      <td>32.292</td>\n",
       "      <td>34.182</td>\n",
       "      <td>He would... The sweetest thing he was allowed ...</td>\n",
       "    </tr>\n",
       "    <tr>\n",
       "      <th>2</th>\n",
       "      <td>Donald_Glover</td>\n",
       "      <td>38.790</td>\n",
       "      <td>41.441</td>\n",
       "      <td>He was just allowed to have mints. So he would...</td>\n",
       "    </tr>\n",
       "    <tr>\n",
       "      <th>3</th>\n",
       "      <td>Donald_Glover</td>\n",
       "      <td>44.903</td>\n",
       "      <td>53.441</td>\n",
       "      <td>So his breath was so fresh... the vapors from ...</td>\n",
       "    </tr>\n",
       "    <tr>\n",
       "      <th>4</th>\n",
       "      <td>Donald_Glover</td>\n",
       "      <td>68.880</td>\n",
       "      <td>73.824</td>\n",
       "      <td>And I would take him to the park and I was the...</td>\n",
       "    </tr>\n",
       "  </tbody>\n",
       "</table>\n",
       "</div>"
      ],
      "text/plain": [
       "        comedian  laugh_start  laugh_end  \\\n",
       "0  Donald_Glover       17.268     19.352   \n",
       "1  Donald_Glover       32.292     34.182   \n",
       "2  Donald_Glover       38.790     41.441   \n",
       "3  Donald_Glover       44.903     53.441   \n",
       "4  Donald_Glover       68.880     73.824   \n",
       "\n",
       "                                            sentence  \n",
       "0  He wasn't crying. Just tears, he was giving me...  \n",
       "1  He would... The sweetest thing he was allowed ...  \n",
       "2  He was just allowed to have mints. So he would...  \n",
       "3  So his breath was so fresh... the vapors from ...  \n",
       "4  And I would take him to the park and I was the...  "
      ]
     },
     "execution_count": 59,
     "metadata": {},
     "output_type": "execute_result"
    }
   ],
   "source": [
    "ground_truth.head()"
   ]
  },
  {
   "cell_type": "code",
   "execution_count": 60,
   "metadata": {},
   "outputs": [
    {
     "data": {
      "text/html": [
       "<div>\n",
       "<style scoped>\n",
       "    .dataframe tbody tr th:only-of-type {\n",
       "        vertical-align: middle;\n",
       "    }\n",
       "\n",
       "    .dataframe tbody tr th {\n",
       "        vertical-align: top;\n",
       "    }\n",
       "\n",
       "    .dataframe thead th {\n",
       "        text-align: right;\n",
       "    }\n",
       "</style>\n",
       "<table border=\"1\" class=\"dataframe\">\n",
       "  <thead>\n",
       "    <tr style=\"text-align: right;\">\n",
       "      <th></th>\n",
       "      <th>comedian</th>\n",
       "      <th>sentence</th>\n",
       "    </tr>\n",
       "  </thead>\n",
       "  <tbody>\n",
       "    <tr>\n",
       "      <th>0</th>\n",
       "      <td>Anthony_Jeselnik</td>\n",
       "      <td>When I was a kid, I used to fantasize about ge...</td>\n",
       "    </tr>\n",
       "    <tr>\n",
       "      <th>1</th>\n",
       "      <td>Anthony_Jeselnik</td>\n",
       "      <td>My mom actually should've been on one of the p...</td>\n",
       "    </tr>\n",
       "    <tr>\n",
       "      <th>2</th>\n",
       "      <td>Anthony_Jeselnik</td>\n",
       "      <td>When I was a kid, like nine years old, I'd com...</td>\n",
       "    </tr>\n",
       "    <tr>\n",
       "      <th>3</th>\n",
       "      <td>Anthony_Jeselnik_2</td>\n",
       "      <td>I've never talked to a group of people without...</td>\n",
       "    </tr>\n",
       "    <tr>\n",
       "      <th>4</th>\n",
       "      <td>Anthony_Jeselnik_2</td>\n",
       "      <td>And I know my grandma loved it too, because it...</td>\n",
       "    </tr>\n",
       "  </tbody>\n",
       "</table>\n",
       "</div>"
      ],
      "text/plain": [
       "             comedian                                           sentence\n",
       "0    Anthony_Jeselnik  When I was a kid, I used to fantasize about ge...\n",
       "1    Anthony_Jeselnik  My mom actually should've been on one of the p...\n",
       "2    Anthony_Jeselnik  When I was a kid, like nine years old, I'd com...\n",
       "3  Anthony_Jeselnik_2  I've never talked to a group of people without...\n",
       "4  Anthony_Jeselnik_2  And I know my grandma loved it too, because it..."
      ]
     },
     "execution_count": 60,
     "metadata": {},
     "output_type": "execute_result"
    }
   ],
   "source": [
    "model.head()"
   ]
  },
  {
   "cell_type": "markdown",
   "metadata": {},
   "source": [
    "## Let's calculate the score!"
   ]
  },
  {
   "cell_type": "markdown",
   "metadata": {},
   "source": [
    "First, simplify the sentences by changing them to all lowercase and removing punctuation."
   ]
  },
  {
   "cell_type": "code",
   "execution_count": 61,
   "metadata": {},
   "outputs": [],
   "source": [
    "import re\n",
    "\n",
    "def simple_sentence(sentence):\n",
    "    cleaned_sentence = sentence.lower()\n",
    "    cleaned_sentence = re.sub(r'[^\\w\\s]', '', cleaned_sentence)\n",
    "    return cleaned_sentence"
   ]
  },
  {
   "cell_type": "markdown",
   "metadata": {},
   "source": [
    "Calculate the score by first checking if the string matches entirely or is in the ground truth. If this is not the case, move onto fuzzy string matching to see the similarity of the responses. If the score is above 50%, we can add this to the total score. The score is the average of correct responses per transcript."
   ]
  },
  {
   "cell_type": "code",
   "execution_count": 62,
   "metadata": {},
   "outputs": [],
   "source": [
    "from thefuzz import fuzz"
   ]
  },
  {
   "cell_type": "code",
   "execution_count": 63,
   "metadata": {},
   "outputs": [],
   "source": [
    "found = {}\n",
    "\n",
    "for index, row in ground_truth.iterrows():\n",
    "    comedian_name = row['comedian']\n",
    "    truth = row['sentence']   \n",
    "    simple_truth = simple_sentence(truth)\n",
    "    matching_rows = model[model['comedian'] == comedian_name]\n",
    "    \n",
    "    score = 0\n",
    "    num_sentences = set()\n",
    "\n",
    "    if truth not in found:\n",
    "        found[truth] = [comedian_name, False, score, 0]  \n",
    "\n",
    "    for index2, row2 in matching_rows.iterrows():\n",
    "        model_answer = row2['sentence']      \n",
    "        simple_model_answer = simple_sentence(model_answer)\n",
    "        num_sentences.add(model_answer)\n",
    "        \n",
    "        if simple_truth == simple_model_answer or simple_model_answer in simple_truth:\n",
    "            score = 100 \n",
    "            found[truth][0] = comedian_name  \n",
    "            found[truth][1] = True \n",
    "            found[truth][2] = score\n",
    "        else:\n",
    "            fuzzy_score = fuzz.partial_ratio(simple_truth, simple_model_answer)\n",
    "            if fuzzy_score > 60:\n",
    "                found[truth][0] = comedian_name \n",
    "                found[truth][1] = True\n",
    "                if fuzzy_score >  found[truth][2]:\n",
    "                    found[truth][2] = fuzzy_score\n",
    "    found[truth][3] = len(num_sentences)"
   ]
  },
  {
   "cell_type": "code",
   "execution_count": 64,
   "metadata": {},
   "outputs": [],
   "source": [
    "def calculate_score(found):\n",
    "    correct_guesses = {}\n",
    "    num_sentences = {}\n",
    "    \n",
    "    for val in found.values():\n",
    "        comedian_name = val[0]\n",
    "        number_of_sentences = val[3]\n",
    "        if comedian_name not in correct_guesses:\n",
    "            correct_guesses[comedian_name] = val[2]\n",
    "            num_sentences[comedian_name] = number_of_sentences\n",
    "        else:\n",
    "            correct_guesses[comedian_name] += val[2]\n",
    "    \n",
    "    for comedian_name, score in correct_guesses.items():\n",
    "        correct_guesses[comedian_name] = (correct_guesses[comedian_name]/num_sentences[comedian_name]) \n",
    "        \n",
    "    return correct_guesses \n",
    "    "
   ]
  },
  {
   "cell_type": "code",
   "execution_count": 65,
   "metadata": {},
   "outputs": [],
   "source": [
    "correct_guesses = calculate_score(found)"
   ]
  },
  {
   "cell_type": "code",
   "execution_count": 66,
   "metadata": {},
   "outputs": [
    {
     "data": {
      "text/plain": [
       "{'Donald_Glover': 51.333333333333336,\n",
       " 'Donald_Glover_2': 126.66666666666667,\n",
       " 'Anthony_Jeselnik': 100.0,\n",
       " 'Anthony_Jeselnik_2': 66.0,\n",
       " 'Chelsea_Peretti': 110.33333333333333,\n",
       " 'Chelsea_Peretti_2': 50.0,\n",
       " 'Louis_CK': 106.8,\n",
       " 'Louis_CK_2': 50.0,\n",
       " 'John_Mulaney': 103.8,\n",
       " 'John_Mulaney_2': 42.75,\n",
       " 'Ali_Wong': 25.0,\n",
       " 'Ali_Wong_2': 66.66666666666667,\n",
       " 'Hasan_Minhaj': 91.5,\n",
       " 'Hasan_Minhaj_2': 25.0,\n",
       " 'Iliza_Shlesinger': 90.0,\n",
       " 'Iliza_Shlesinger_2': 50.0,\n",
       " 'Jim_Gaffigan': 82.25,\n",
       " 'Jim_Gaffigan_2': 79.33333333333333,\n",
       " 'Joe_List': 50.0,\n",
       " 'Joe_List_2': 25.0,\n",
       " 'Jimmy_Yang': 50.0,\n",
       " 'Jimmy_Yang_2': 75.0,\n",
       " 'Nate_Bargatze': 60.333333333333336,\n",
       " 'Nate_Bargatze_2': 15.25,\n",
       " 'Nate_Bargatze_TK': 99.5,\n",
       " 'Nate_Bargatze_TK_2': 20.0,\n",
       " 'Russell_Peters': 74.25,\n",
       " 'Russell_Peters_2': 76.4,\n",
       " 'Sam_Morril': 97.0,\n",
       " 'Sam_Morril_2': 41.5,\n",
       " 'Trevor_Noah': 46.0,\n",
       " 'Trevor_Noah_2': 115.33333333333333,\n",
       " 'Tom_Segura': 73.4,\n",
       " 'Tom_Segura_2': 150.0}"
      ]
     },
     "execution_count": 66,
     "metadata": {},
     "output_type": "execute_result"
    }
   ],
   "source": [
    "correct_guesses"
   ]
  },
  {
   "cell_type": "markdown",
   "metadata": {},
   "source": [
    "Start from the model to avoid duplicates"
   ]
  },
  {
   "cell_type": "code",
   "execution_count": 67,
   "metadata": {},
   "outputs": [
    {
     "name": "stdout",
     "output_type": "stream",
     "text": [
      "{'Anthony_Jeselnik': 3, 'Anthony_Jeselnik_2': 3, 'Ali_Wong': 4, 'Ali_Wong_2': 3, 'Chelsea_Peretti': 3, 'Chelsea_Peretti_2': 4, 'Donald_Glover': 3, 'Donald_Glover_2': 3, 'Hasan_Minhaj': 4, 'Hasan_Minhaj_2': 4, 'Iliza_Shlesinger': 3, 'Iliza_Shlesinger_2': 2, 'Jim_Gaffigan': 4, 'Jim_Gaffigan_2': 3, 'Joe_List': 4, 'Joe_List_2': 4, 'John_Mulaney': 5, 'John_Mulaney_2': 4, 'Jimmy_Yang': 2, 'Jimmy_Yang_2': 4, 'Louis_CK': 5, 'Louis_CK_2': 4, 'Nate_Bargatze': 3, 'Nate_Bargatze_2': 4, 'Nate_Bargatze_TK': 4, 'Nate_Bargatze_TK_2': 5, 'Russell_Peters': 4, 'Russell_Peters_2': 5, 'Sam_Morril': 2, 'Sam_Morril_2': 4, 'Trevor_Noah': 2, 'Trevor_Noah_2': 3, 'Tom_Segura': 5, 'Tom_Segura_2': 2}\n"
     ]
    }
   ],
   "source": [
    "quotes_count_dict = {}\n",
    "for comedian in model['comedian']:\n",
    "    if comedian in quotes_count_dict:\n",
    "        quotes_count_dict[comedian] += 1\n",
    "    else:\n",
    "        quotes_count_dict[comedian] = 1\n",
    "\n",
    "print(quotes_count_dict)"
   ]
  },
  {
   "cell_type": "code",
   "execution_count": 68,
   "metadata": {},
   "outputs": [],
   "source": [
    "found = {}\n",
    "\n",
    "for index, row in model.iterrows():\n",
    "    comedian_name = row['comedian']\n",
    "    model_output = row['sentence']   \n",
    "    simple_model_output = simple_sentence(model_output)\n",
    "    matching = ground_truth[ground_truth['comedian'] == comedian_name]\n",
    "\n",
    "    if truth not in found:\n",
    "        found[model_output] = [comedian_name, 0]  \n",
    "\n",
    "    for index2, row2 in matching.iterrows():\n",
    "        truth = row2['sentence']\n",
    "        simple_truth = simple_sentence(truth)\n",
    "\n",
    "        if simple_truth == simple_model_output or simple_model_output in simple_truth:\n",
    "            found[model_output][0] = comedian_name  \n",
    "            found[model_output][1] = 100\n",
    "        else:\n",
    "            fuzzy_score = fuzz.partial_ratio(simple_truth, simple_model_output)\n",
    "            if fuzzy_score > 60:\n",
    "                found[model_output][0] = comedian_name \n",
    "                found[model_output][1] = max(found[model_output][1], fuzzy_score)"
   ]
  },
  {
   "cell_type": "code",
   "execution_count": 69,
   "metadata": {},
   "outputs": [],
   "source": [
    "def calculate_score(found, num_sentences):\n",
    "    correct_guesses = {}\n",
    "    \n",
    "    for val in found.values():\n",
    "        comedian_name = val[0]\n",
    "        if comedian_name not in correct_guesses:\n",
    "            correct_guesses[comedian_name] = val[1]\n",
    "        else:\n",
    "            correct_guesses[comedian_name] += val[1]\n",
    "    \n",
    "    for comedian_name, score in correct_guesses.items():\n",
    "        correct_guesses[comedian_name] = (correct_guesses[comedian_name]/num_sentences[comedian_name]) \n",
    "        \n",
    "    return correct_guesses "
   ]
  },
  {
   "cell_type": "code",
   "execution_count": 70,
   "metadata": {},
   "outputs": [],
   "source": [
    "correct_guesses = calculate_score(found, quotes_count_dict)"
   ]
  },
  {
   "cell_type": "code",
   "execution_count": 71,
   "metadata": {},
   "outputs": [
    {
     "data": {
      "text/plain": [
       "{'Anthony_Jeselnik': 100.0,\n",
       " 'Anthony_Jeselnik_2': 66.0,\n",
       " 'Ali_Wong': 42.25,\n",
       " 'Ali_Wong_2': 66.66666666666667,\n",
       " 'Chelsea_Peretti': 56.333333333333336,\n",
       " 'Chelsea_Peretti_2': 50.0,\n",
       " 'Donald_Glover': 30.333333333333332,\n",
       " 'Donald_Glover_2': 82.66666666666667,\n",
       " 'Hasan_Minhaj': 75.0,\n",
       " 'Hasan_Minhaj_2': 50.0,\n",
       " 'Iliza_Shlesinger': 66.66666666666667,\n",
       " 'Iliza_Shlesinger_2': 81.0,\n",
       " 'Jim_Gaffigan': 87.25,\n",
       " 'Jim_Gaffigan_2': 54.0,\n",
       " 'Joe_List': 67.25,\n",
       " 'Joe_List_2': 25.0,\n",
       " 'John_Mulaney': 77.0,\n",
       " 'John_Mulaney_2': 42.75,\n",
       " 'Jimmy_Yang': 50.0,\n",
       " 'Jimmy_Yang_2': 75.0,\n",
       " 'Louis_CK': 100.0,\n",
       " 'Louis_CK_2': 65.25,\n",
       " 'Nate_Bargatze': 60.333333333333336,\n",
       " 'Nate_Bargatze_2': 15.25,\n",
       " 'Nate_Bargatze_TK': 99.5,\n",
       " 'Nate_Bargatze_TK_2': 20.0,\n",
       " 'Russell_Peters': 74.25,\n",
       " 'Russell_Peters_2': 60.0,\n",
       " 'Sam_Morril': 97.0,\n",
       " 'Sam_Morril_2': 25.0,\n",
       " 'Trevor_Noah': 46.0,\n",
       " 'Trevor_Noah_2': 93.66666666666667,\n",
       " 'Tom_Segura': 73.4,\n",
       " 'Tom_Segura_2': 50.0}"
      ]
     },
     "execution_count": 71,
     "metadata": {},
     "output_type": "execute_result"
    }
   ],
   "source": [
    "correct_guesses"
   ]
  },
  {
   "cell_type": "markdown",
   "metadata": {},
   "source": [
    "Removing Stop Words"
   ]
  },
  {
   "cell_type": "code",
   "execution_count": 72,
   "metadata": {},
   "outputs": [],
   "source": [
    "import nltk\n",
    "from nltk.corpus import stopwords\n",
    "from nltk.tokenize import word_tokenize"
   ]
  },
  {
   "cell_type": "code",
   "execution_count": 73,
   "metadata": {},
   "outputs": [],
   "source": [
    "def remove_stop_words(sentence):\n",
    "    stop_words = set(stopwords.words('english'))\n",
    "    word_tokens = word_tokenize(sentence)\n",
    "    filtered_sentence = [w for w in word_tokens if not w.lower() in stop_words]\n",
    "    filtered_sentence = []\n",
    "    \n",
    "    for w in word_tokens:\n",
    "        if w not in stop_words:\n",
    "            filtered_sentence.append(w)\n",
    "    return \" \".join(filtered_sentence)"
   ]
  },
  {
   "cell_type": "code",
   "execution_count": 74,
   "metadata": {},
   "outputs": [],
   "source": [
    "def base_metric(model_output, ground_truth):\n",
    "    found = {}\n",
    "\n",
    "    for index, row in model.iterrows():\n",
    "        comedian_name = row['comedian']\n",
    "        model_output = row['sentence']   \n",
    "        simple_model_output = simple_sentence(model_output)\n",
    "        matching = ground_truth[ground_truth['comedian'] == comedian_name]\n",
    "\n",
    "        if model_output not in found:\n",
    "            found[model_output] = [comedian_name, 0]  \n",
    "\n",
    "        for index2, row2 in matching.iterrows():\n",
    "            truth = row2['sentence']\n",
    "            simple_truth = simple_sentence(truth)\n",
    "            stop_model = remove_stop_words(simple_model_output)\n",
    "            stop_truth = remove_stop_words(simple_truth)\n",
    "            if simple_truth == simple_model_output or stop_model in stop_truth:\n",
    "                found[model_output][0] = comedian_name  \n",
    "                found[model_output][1] = 100\n",
    "            else:\n",
    "                fuzzy_score = fuzz.partial_ratio(stop_truth, stop_model)\n",
    "                if fuzzy_score > 60:\n",
    "                    found[model_output][0] = comedian_name \n",
    "                    found[model_output][1] = max(found[model_output][1], fuzzy_score)\n",
    "        \n",
    "    return found"
   ]
  },
  {
   "cell_type": "code",
   "execution_count": 75,
   "metadata": {},
   "outputs": [],
   "source": [
    "found = base_metric(model, ground_truth)"
   ]
  },
  {
   "cell_type": "code",
   "execution_count": 76,
   "metadata": {},
   "outputs": [],
   "source": [
    "def calculate_score(found, num_sentences):\n",
    "    correct_guesses = {}\n",
    "    \n",
    "    for val in found.values():\n",
    "        comedian_name = val[0]\n",
    "        if comedian_name not in correct_guesses:\n",
    "            correct_guesses[comedian_name] = val[1]\n",
    "        else:\n",
    "            correct_guesses[comedian_name] += val[1]\n",
    "    \n",
    "    for comedian_name, score in correct_guesses.items():\n",
    "        correct_guesses[comedian_name] = (correct_guesses[comedian_name]/num_sentences[comedian_name]) \n",
    "        \n",
    "    return correct_guesses "
   ]
  },
  {
   "cell_type": "code",
   "execution_count": 77,
   "metadata": {},
   "outputs": [],
   "source": [
    "correct_guesses = calculate_score(found, quotes_count_dict)"
   ]
  },
  {
   "cell_type": "code",
   "execution_count": 78,
   "metadata": {},
   "outputs": [
    {
     "data": {
      "text/plain": [
       "{'Anthony_Jeselnik': 100.0,\n",
       " 'Anthony_Jeselnik_2': 66.66666666666667,\n",
       " 'Ali_Wong': 42.0,\n",
       " 'Ali_Wong_2': 66.66666666666667,\n",
       " 'Chelsea_Peretti': 33.333333333333336,\n",
       " 'Chelsea_Peretti_2': 50.0,\n",
       " 'Donald_Glover': 30.0,\n",
       " 'Donald_Glover_2': 80.66666666666667,\n",
       " 'Hasan_Minhaj': 75.0,\n",
       " 'Hasan_Minhaj_2': 50.0,\n",
       " 'Iliza_Shlesinger': 66.66666666666667,\n",
       " 'Iliza_Shlesinger_2': 50.0,\n",
       " 'Jim_Gaffigan': 87.75,\n",
       " 'Jim_Gaffigan_2': 55.333333333333336,\n",
       " 'Joe_List': 83.25,\n",
       " 'Joe_List_2': 25.0,\n",
       " 'John_Mulaney': 78.4,\n",
       " 'John_Mulaney_2': 61.25,\n",
       " 'Jimmy_Yang': 50.0,\n",
       " 'Jimmy_Yang_2': 75.0,\n",
       " 'Louis_CK': 100.0,\n",
       " 'Louis_CK_2': 65.25,\n",
       " 'Nate_Bargatze': 62.666666666666664,\n",
       " 'Nate_Bargatze_2': 33.0,\n",
       " 'Nate_Bargatze_TK': 99.0,\n",
       " 'Nate_Bargatze_TK_2': 20.0,\n",
       " 'Russell_Peters': 72.5,\n",
       " 'Russell_Peters_2': 88.6,\n",
       " 'Sam_Morril': 100.0,\n",
       " 'Sam_Morril_2': 42.5,\n",
       " 'Trevor_Noah': 45.5,\n",
       " 'Trevor_Noah_2': 94.66666666666667,\n",
       " 'Tom_Segura': 60.0,\n",
       " 'Tom_Segura_2': 50.0}"
      ]
     },
     "execution_count": 78,
     "metadata": {},
     "output_type": "execute_result"
    }
   ],
   "source": [
    "correct_guesses"
   ]
  },
  {
   "cell_type": "markdown",
   "metadata": {},
   "source": [
    "# Testing the metric"
   ]
  },
  {
   "cell_type": "code",
   "execution_count": 79,
   "metadata": {},
   "outputs": [],
   "source": [
    "import random"
   ]
  },
  {
   "cell_type": "code",
   "execution_count": 80,
   "metadata": {},
   "outputs": [],
   "source": [
    "transcript = pd.read_csv('/home/ada/humor/data/stand_up_dataset/standup_transcripts.csv')"
   ]
  },
  {
   "cell_type": "code",
   "execution_count": 81,
   "metadata": {},
   "outputs": [],
   "source": [
    "random_sentences = []\n",
    "\n",
    "for i in range(len(transcript['comedian'])):\n",
    "    comedian = transcript['comedian'][i]\n",
    "    trans = transcript['transcript'][i]\n",
    "    sentences = nltk.sent_tokenize(trans)\n",
    "    selected = random.sample(sentences, min(3, len(sentences)))\n",
    "    \n",
    "    for sentence in selected:\n",
    "        random_sentences.append({'comedian': comedian, 'sentence': sentence})"
   ]
  },
  {
   "cell_type": "code",
   "execution_count": 82,
   "metadata": {},
   "outputs": [
    {
     "data": {
      "text/html": [
       "<div>\n",
       "<style scoped>\n",
       "    .dataframe tbody tr th:only-of-type {\n",
       "        vertical-align: middle;\n",
       "    }\n",
       "\n",
       "    .dataframe tbody tr th {\n",
       "        vertical-align: top;\n",
       "    }\n",
       "\n",
       "    .dataframe thead th {\n",
       "        text-align: right;\n",
       "    }\n",
       "</style>\n",
       "<table border=\"1\" class=\"dataframe\">\n",
       "  <thead>\n",
       "    <tr style=\"text-align: right;\">\n",
       "      <th></th>\n",
       "      <th>comedian</th>\n",
       "      <th>sentence</th>\n",
       "    </tr>\n",
       "  </thead>\n",
       "  <tbody>\n",
       "    <tr>\n",
       "      <th>0</th>\n",
       "      <td>Anthony_Jeselnik</td>\n",
       "      <td>Weird joke to clap for, but sure.</td>\n",
       "    </tr>\n",
       "    <tr>\n",
       "      <th>1</th>\n",
       "      <td>Anthony_Jeselnik</td>\n",
       "      <td>‘Cause they’re all in jail for the exact same ...</td>\n",
       "    </tr>\n",
       "    <tr>\n",
       "      <th>2</th>\n",
       "      <td>Anthony_Jeselnik</td>\n",
       "      <td>My mom could be very racist.</td>\n",
       "    </tr>\n",
       "    <tr>\n",
       "      <th>3</th>\n",
       "      <td>Anthony_Jeselnik_2</td>\n",
       "      <td>I said, “And I know my grandma loved it too, b...</td>\n",
       "    </tr>\n",
       "    <tr>\n",
       "      <th>4</th>\n",
       "      <td>Anthony_Jeselnik_2</td>\n",
       "      <td>When I was like four years old, before I learn...</td>\n",
       "    </tr>\n",
       "  </tbody>\n",
       "</table>\n",
       "</div>"
      ],
      "text/plain": [
       "             comedian                                           sentence\n",
       "0    Anthony_Jeselnik                  Weird joke to clap for, but sure.\n",
       "1    Anthony_Jeselnik  ‘Cause they’re all in jail for the exact same ...\n",
       "2    Anthony_Jeselnik                       My mom could be very racist.\n",
       "3  Anthony_Jeselnik_2  I said, “And I know my grandma loved it too, b...\n",
       "4  Anthony_Jeselnik_2  When I was like four years old, before I learn..."
      ]
     },
     "execution_count": 82,
     "metadata": {},
     "output_type": "execute_result"
    }
   ],
   "source": [
    "random_model = pd.DataFrame(random_sentences)\n",
    "random_model.head()"
   ]
  },
  {
   "cell_type": "code",
   "execution_count": 83,
   "metadata": {},
   "outputs": [
    {
     "name": "stdout",
     "output_type": "stream",
     "text": [
      "0      Donald_Glover\n",
      "1      Donald_Glover\n",
      "2      Donald_Glover\n",
      "3      Donald_Glover\n",
      "4      Donald_Glover\n",
      "           ...      \n",
      "241       Tom_Segura\n",
      "242       Tom_Segura\n",
      "243     Tom_Segura_2\n",
      "244     Tom_Segura_2\n",
      "245     Tom_Segura_2\n",
      "Name: comedian, Length: 246, dtype: object\n",
      "0      17.2680\n",
      "1      32.2920\n",
      "2      38.7900\n",
      "3      44.9030\n",
      "4      68.8800\n",
      "        ...   \n",
      "241    56.5030\n",
      "242    61.4021\n",
      "243    44.7760\n",
      "244    50.7880\n",
      "245    58.9700\n",
      "Name: laugh_start, Length: 246, dtype: float64\n",
      "0      19.352\n",
      "1      34.182\n",
      "2      41.441\n",
      "3      53.441\n",
      "4      73.824\n",
      "        ...  \n",
      "241    58.176\n",
      "242    63.451\n",
      "243    47.440\n",
      "244    53.995\n",
      "245    60.597\n",
      "Name: laugh_end, Length: 246, dtype: float64\n",
      "0      He wasn't crying. Just tears, he was giving me...\n",
      "1      He would... The sweetest thing he was allowed ...\n",
      "2      He was just allowed to have mints. So he would...\n",
      "3      So his breath was so fresh... the vapors from ...\n",
      "4      And I would take him to the park and I was the...\n",
      "                             ...                        \n",
      "241           Anybody comes in here, blast 'em.\" Inside?\n",
      "242    Paralysis. But what I said was, \"That's what's...\n",
      "243    And you can watch people walk up and be like, ...\n",
      "244        And then you see it close, and you're like...\n",
      "245    Sometimes, a second later it opens, and you're...\n",
      "Name: sentence, Length: 246, dtype: object\n"
     ]
    },
    {
     "data": {
      "text/plain": [
       "comedian       None\n",
       "laugh_start    None\n",
       "laugh_end      None\n",
       "sentence       None\n",
       "dtype: object"
      ]
     },
     "execution_count": 83,
     "metadata": {},
     "output_type": "execute_result"
    }
   ],
   "source": [
    "ground_truth.apply(lambda row: print(row))"
   ]
  },
  {
   "cell_type": "code",
   "execution_count": 84,
   "metadata": {},
   "outputs": [
    {
     "data": {
      "text/html": [
       "<div>\n",
       "<style scoped>\n",
       "    .dataframe tbody tr th:only-of-type {\n",
       "        vertical-align: middle;\n",
       "    }\n",
       "\n",
       "    .dataframe tbody tr th {\n",
       "        vertical-align: top;\n",
       "    }\n",
       "\n",
       "    .dataframe thead th {\n",
       "        text-align: right;\n",
       "    }\n",
       "</style>\n",
       "<table border=\"1\" class=\"dataframe\">\n",
       "  <thead>\n",
       "    <tr style=\"text-align: right;\">\n",
       "      <th></th>\n",
       "      <th>comedian</th>\n",
       "      <th>sentence</th>\n",
       "    </tr>\n",
       "  </thead>\n",
       "  <tbody>\n",
       "    <tr>\n",
       "      <th>0</th>\n",
       "      <td>Anthony_Jeselnik</td>\n",
       "      <td>When I was a kid, I used to fantasize about ge...</td>\n",
       "    </tr>\n",
       "    <tr>\n",
       "      <th>1</th>\n",
       "      <td>Anthony_Jeselnik</td>\n",
       "      <td>My mom actually should've been on one of the p...</td>\n",
       "    </tr>\n",
       "    <tr>\n",
       "      <th>2</th>\n",
       "      <td>Anthony_Jeselnik</td>\n",
       "      <td>When I was a kid, like nine years old, I'd com...</td>\n",
       "    </tr>\n",
       "    <tr>\n",
       "      <th>3</th>\n",
       "      <td>Anthony_Jeselnik_2</td>\n",
       "      <td>I've never talked to a group of people without...</td>\n",
       "    </tr>\n",
       "    <tr>\n",
       "      <th>4</th>\n",
       "      <td>Anthony_Jeselnik_2</td>\n",
       "      <td>And I know my grandma loved it too, because it...</td>\n",
       "    </tr>\n",
       "    <tr>\n",
       "      <th>...</th>\n",
       "      <td>...</td>\n",
       "      <td>...</td>\n",
       "    </tr>\n",
       "    <tr>\n",
       "      <th>116</th>\n",
       "      <td>Tom_Segura</td>\n",
       "      <td>I'll go get it. You stay here and watch my place.</td>\n",
       "    </tr>\n",
       "    <tr>\n",
       "      <th>117</th>\n",
       "      <td>Tom_Segura</td>\n",
       "      <td>That's what's up.</td>\n",
       "    </tr>\n",
       "    <tr>\n",
       "      <th>118</th>\n",
       "      <td>Tom_Segura</td>\n",
       "      <td>Can we get a description before we agree to te...</td>\n",
       "    </tr>\n",
       "    <tr>\n",
       "      <th>119</th>\n",
       "      <td>Tom_Segura_2</td>\n",
       "      <td>I got such a warm rush through my body. It fel...</td>\n",
       "    </tr>\n",
       "    <tr>\n",
       "      <th>120</th>\n",
       "      <td>Tom_Segura_2</td>\n",
       "      <td>There's “Hold Open,” and “Close.” And you can ...</td>\n",
       "    </tr>\n",
       "  </tbody>\n",
       "</table>\n",
       "<p>121 rows × 2 columns</p>\n",
       "</div>"
      ],
      "text/plain": [
       "               comedian                                           sentence\n",
       "0      Anthony_Jeselnik  When I was a kid, I used to fantasize about ge...\n",
       "1      Anthony_Jeselnik  My mom actually should've been on one of the p...\n",
       "2      Anthony_Jeselnik  When I was a kid, like nine years old, I'd com...\n",
       "3    Anthony_Jeselnik_2  I've never talked to a group of people without...\n",
       "4    Anthony_Jeselnik_2  And I know my grandma loved it too, because it...\n",
       "..                  ...                                                ...\n",
       "116          Tom_Segura  I'll go get it. You stay here and watch my place.\n",
       "117          Tom_Segura                                  That's what's up.\n",
       "118          Tom_Segura  Can we get a description before we agree to te...\n",
       "119        Tom_Segura_2  I got such a warm rush through my body. It fel...\n",
       "120        Tom_Segura_2  There's “Hold Open,” and “Close.” And you can ...\n",
       "\n",
       "[121 rows x 2 columns]"
      ]
     },
     "execution_count": 84,
     "metadata": {},
     "output_type": "execute_result"
    }
   ],
   "source": [
    "model.columns = [c.lower() for c in model.columns]\n",
    "model"
   ]
  },
  {
   "cell_type": "code",
   "execution_count": 85,
   "metadata": {},
   "outputs": [
    {
     "data": {
      "text/html": [
       "<div>\n",
       "<style scoped>\n",
       "    .dataframe tbody tr th:only-of-type {\n",
       "        vertical-align: middle;\n",
       "    }\n",
       "\n",
       "    .dataframe tbody tr th {\n",
       "        vertical-align: top;\n",
       "    }\n",
       "\n",
       "    .dataframe thead th {\n",
       "        text-align: right;\n",
       "    }\n",
       "</style>\n",
       "<table border=\"1\" class=\"dataframe\">\n",
       "  <thead>\n",
       "    <tr style=\"text-align: right;\">\n",
       "      <th></th>\n",
       "      <th>comedian</th>\n",
       "      <th>sentence</th>\n",
       "    </tr>\n",
       "  </thead>\n",
       "  <tbody>\n",
       "    <tr>\n",
       "      <th>0</th>\n",
       "      <td>Anthony_Jeselnik</td>\n",
       "      <td>When I was a kid, I used to fantasize about ge...</td>\n",
       "    </tr>\n",
       "    <tr>\n",
       "      <th>1</th>\n",
       "      <td>Anthony_Jeselnik</td>\n",
       "      <td>My mom actually should've been on one of the p...</td>\n",
       "    </tr>\n",
       "    <tr>\n",
       "      <th>2</th>\n",
       "      <td>Anthony_Jeselnik</td>\n",
       "      <td>When I was a kid, like nine years old, I'd com...</td>\n",
       "    </tr>\n",
       "    <tr>\n",
       "      <th>3</th>\n",
       "      <td>Anthony_Jeselnik_2</td>\n",
       "      <td>I've never talked to a group of people without...</td>\n",
       "    </tr>\n",
       "    <tr>\n",
       "      <th>4</th>\n",
       "      <td>Anthony_Jeselnik_2</td>\n",
       "      <td>And I know my grandma loved it too, because it...</td>\n",
       "    </tr>\n",
       "    <tr>\n",
       "      <th>...</th>\n",
       "      <td>...</td>\n",
       "      <td>...</td>\n",
       "    </tr>\n",
       "    <tr>\n",
       "      <th>116</th>\n",
       "      <td>Tom_Segura</td>\n",
       "      <td>I'll go get it. You stay here and watch my place.</td>\n",
       "    </tr>\n",
       "    <tr>\n",
       "      <th>117</th>\n",
       "      <td>Tom_Segura</td>\n",
       "      <td>That's what's up.</td>\n",
       "    </tr>\n",
       "    <tr>\n",
       "      <th>118</th>\n",
       "      <td>Tom_Segura</td>\n",
       "      <td>Can we get a description before we agree to te...</td>\n",
       "    </tr>\n",
       "    <tr>\n",
       "      <th>119</th>\n",
       "      <td>Tom_Segura_2</td>\n",
       "      <td>I got such a warm rush through my body. It fel...</td>\n",
       "    </tr>\n",
       "    <tr>\n",
       "      <th>120</th>\n",
       "      <td>Tom_Segura_2</td>\n",
       "      <td>There's “Hold Open,” and “Close.” And you can ...</td>\n",
       "    </tr>\n",
       "  </tbody>\n",
       "</table>\n",
       "<p>121 rows × 2 columns</p>\n",
       "</div>"
      ],
      "text/plain": [
       "               comedian                                           sentence\n",
       "0      Anthony_Jeselnik  When I was a kid, I used to fantasize about ge...\n",
       "1      Anthony_Jeselnik  My mom actually should've been on one of the p...\n",
       "2      Anthony_Jeselnik  When I was a kid, like nine years old, I'd com...\n",
       "3    Anthony_Jeselnik_2  I've never talked to a group of people without...\n",
       "4    Anthony_Jeselnik_2  And I know my grandma loved it too, because it...\n",
       "..                  ...                                                ...\n",
       "116          Tom_Segura  I'll go get it. You stay here and watch my place.\n",
       "117          Tom_Segura                                  That's what's up.\n",
       "118          Tom_Segura  Can we get a description before we agree to te...\n",
       "119        Tom_Segura_2  I got such a warm rush through my body. It fel...\n",
       "120        Tom_Segura_2  There's “Hold Open,” and “Close.” And you can ...\n",
       "\n",
       "[121 rows x 2 columns]"
      ]
     },
     "execution_count": 85,
     "metadata": {},
     "output_type": "execute_result"
    }
   ],
   "source": [
    "model"
   ]
  },
  {
   "cell_type": "code",
   "execution_count": 86,
   "metadata": {},
   "outputs": [
    {
     "data": {
      "text/html": [
       "<div>\n",
       "<style scoped>\n",
       "    .dataframe tbody tr th:only-of-type {\n",
       "        vertical-align: middle;\n",
       "    }\n",
       "\n",
       "    .dataframe tbody tr th {\n",
       "        vertical-align: top;\n",
       "    }\n",
       "\n",
       "    .dataframe thead th {\n",
       "        text-align: right;\n",
       "    }\n",
       "</style>\n",
       "<table border=\"1\" class=\"dataframe\">\n",
       "  <thead>\n",
       "    <tr style=\"text-align: right;\">\n",
       "      <th></th>\n",
       "      <th>comedian</th>\n",
       "      <th>laugh_start</th>\n",
       "      <th>laugh_end</th>\n",
       "      <th>sentence</th>\n",
       "    </tr>\n",
       "  </thead>\n",
       "  <tbody>\n",
       "    <tr>\n",
       "      <th>0</th>\n",
       "      <td>Donald_Glover</td>\n",
       "      <td>17.2680</td>\n",
       "      <td>19.352</td>\n",
       "      <td>He wasn't crying. Just tears, he was giving me...</td>\n",
       "    </tr>\n",
       "    <tr>\n",
       "      <th>1</th>\n",
       "      <td>Donald_Glover</td>\n",
       "      <td>32.2920</td>\n",
       "      <td>34.182</td>\n",
       "      <td>He would... The sweetest thing he was allowed ...</td>\n",
       "    </tr>\n",
       "    <tr>\n",
       "      <th>2</th>\n",
       "      <td>Donald_Glover</td>\n",
       "      <td>38.7900</td>\n",
       "      <td>41.441</td>\n",
       "      <td>He was just allowed to have mints. So he would...</td>\n",
       "    </tr>\n",
       "    <tr>\n",
       "      <th>3</th>\n",
       "      <td>Donald_Glover</td>\n",
       "      <td>44.9030</td>\n",
       "      <td>53.441</td>\n",
       "      <td>So his breath was so fresh... the vapors from ...</td>\n",
       "    </tr>\n",
       "    <tr>\n",
       "      <th>4</th>\n",
       "      <td>Donald_Glover</td>\n",
       "      <td>68.8800</td>\n",
       "      <td>73.824</td>\n",
       "      <td>And I would take him to the park and I was the...</td>\n",
       "    </tr>\n",
       "    <tr>\n",
       "      <th>...</th>\n",
       "      <td>...</td>\n",
       "      <td>...</td>\n",
       "      <td>...</td>\n",
       "      <td>...</td>\n",
       "    </tr>\n",
       "    <tr>\n",
       "      <th>241</th>\n",
       "      <td>Tom_Segura</td>\n",
       "      <td>56.5030</td>\n",
       "      <td>58.176</td>\n",
       "      <td>Anybody comes in here, blast 'em.\" Inside?</td>\n",
       "    </tr>\n",
       "    <tr>\n",
       "      <th>242</th>\n",
       "      <td>Tom_Segura</td>\n",
       "      <td>61.4021</td>\n",
       "      <td>63.451</td>\n",
       "      <td>Paralysis. But what I said was, \"That's what's...</td>\n",
       "    </tr>\n",
       "    <tr>\n",
       "      <th>243</th>\n",
       "      <td>Tom_Segura_2</td>\n",
       "      <td>44.7760</td>\n",
       "      <td>47.440</td>\n",
       "      <td>And you can watch people walk up and be like, ...</td>\n",
       "    </tr>\n",
       "    <tr>\n",
       "      <th>244</th>\n",
       "      <td>Tom_Segura_2</td>\n",
       "      <td>50.7880</td>\n",
       "      <td>53.995</td>\n",
       "      <td>And then you see it close, and you're like...</td>\n",
       "    </tr>\n",
       "    <tr>\n",
       "      <th>245</th>\n",
       "      <td>Tom_Segura_2</td>\n",
       "      <td>58.9700</td>\n",
       "      <td>60.597</td>\n",
       "      <td>Sometimes, a second later it opens, and you're...</td>\n",
       "    </tr>\n",
       "  </tbody>\n",
       "</table>\n",
       "<p>246 rows × 4 columns</p>\n",
       "</div>"
      ],
      "text/plain": [
       "          comedian  laugh_start  laugh_end  \\\n",
       "0    Donald_Glover      17.2680     19.352   \n",
       "1    Donald_Glover      32.2920     34.182   \n",
       "2    Donald_Glover      38.7900     41.441   \n",
       "3    Donald_Glover      44.9030     53.441   \n",
       "4    Donald_Glover      68.8800     73.824   \n",
       "..             ...          ...        ...   \n",
       "241     Tom_Segura      56.5030     58.176   \n",
       "242     Tom_Segura      61.4021     63.451   \n",
       "243   Tom_Segura_2      44.7760     47.440   \n",
       "244   Tom_Segura_2      50.7880     53.995   \n",
       "245   Tom_Segura_2      58.9700     60.597   \n",
       "\n",
       "                                              sentence  \n",
       "0    He wasn't crying. Just tears, he was giving me...  \n",
       "1    He would... The sweetest thing he was allowed ...  \n",
       "2    He was just allowed to have mints. So he would...  \n",
       "3    So his breath was so fresh... the vapors from ...  \n",
       "4    And I would take him to the park and I was the...  \n",
       "..                                                 ...  \n",
       "241         Anybody comes in here, blast 'em.\" Inside?  \n",
       "242  Paralysis. But what I said was, \"That's what's...  \n",
       "243  And you can watch people walk up and be like, ...  \n",
       "244      And then you see it close, and you're like...  \n",
       "245  Sometimes, a second later it opens, and you're...  \n",
       "\n",
       "[246 rows x 4 columns]"
      ]
     },
     "execution_count": 86,
     "metadata": {},
     "output_type": "execute_result"
    }
   ],
   "source": [
    "ground_truth"
   ]
  },
  {
   "cell_type": "code",
   "execution_count": 87,
   "metadata": {},
   "outputs": [
    {
     "data": {
      "text/plain": [
       "comedian\n",
       "Ali_Wong              0.050000\n",
       "Ali_Wong_2            0.065625\n",
       "Anthony_Jeselnik      0.082143\n",
       "Anthony_Jeselnik_2    0.083333\n",
       "Chelsea_Peretti       0.006667\n",
       "Chelsea_Peretti_2     0.022917\n",
       "Donald_Glover         0.005208\n",
       "Donald_Glover_2       0.000000\n",
       "Hasan_Minhaj          0.003750\n",
       "Hasan_Minhaj_2        0.047917\n",
       "Iliza_Shlesinger      0.019048\n",
       "Iliza_Shlesinger_2    0.042500\n",
       "Jim_Gaffigan          0.028125\n",
       "Jim_Gaffigan_2        0.027381\n",
       "Jimmy_Yang            0.035417\n",
       "Jimmy_Yang_2          0.075000\n",
       "Joe_List              0.041667\n",
       "Joe_List_2            0.006771\n",
       "John_Mulaney          0.048333\n",
       "John_Mulaney_2        0.019231\n",
       "Louis_CK              0.055000\n",
       "Louis_CK_2            0.031250\n",
       "Nate_Bargatze         0.003571\n",
       "Nate_Bargatze_2       0.000000\n",
       "Nate_Bargatze_TK      0.025893\n",
       "Nate_Bargatze_TK_2    0.033333\n",
       "Russell_Peters        0.077083\n",
       "Russell_Peters_2      0.072857\n",
       "Sam_Morril            0.016176\n",
       "Sam_Morril_2          0.002083\n",
       "Tom_Segura            0.040000\n",
       "Tom_Segura_2          0.000000\n",
       "Trevor_Noah           0.000000\n",
       "Trevor_Noah_2         0.084722\n",
       "Name: score, dtype: float64"
      ]
     },
     "execution_count": 87,
     "metadata": {},
     "output_type": "execute_result"
    }
   ],
   "source": [
    "model_answers = model\n",
    "\n",
    "scores = model_answers.apply(\n",
    "    lambda row_model: ground_truth.apply(\n",
    "        lambda row_truth: \n",
    "            fuzz.ratio(row_truth[\"sentence\"], row_model[\"sentence\"]) \n",
    "            if row_model[\"comedian\"] == row_truth[\"comedian\"] \n",
    "            else None,\n",
    "    axis=1),\n",
    "axis=1) \\\n",
    "    .sub(60) \\\n",
    "    .clip(lower=0) \\\n",
    "    .div(100 - 60) \\\n",
    "    .melt(ignore_index=False) \\\n",
    "    .dropna() \\\n",
    "    .reset_index() \\\n",
    "    .join(model_answers[\"sentence\"], on=\"index\") \\\n",
    "    .rename(columns={\"sentence\": \"model\"}) \\\n",
    "    .join(ground_truth, on=\"variable\") \\\n",
    "    .rename(columns={\"sentence\": \"truth\", \"value\": \"score\"})\n",
    "    \n",
    "scores = scores[[\"comedian\", \"model\", \"truth\", \"score\"]]\n",
    "\n",
    "scores.groupby(\"comedian\")[\"score\"].mean()"
   ]
  },
  {
   "cell_type": "code",
   "execution_count": 88,
   "metadata": {},
   "outputs": [
    {
     "data": {
      "text/plain": [
       "'Paralysis. But what I said was, \"That\\'s what\\'s up.\"'"
      ]
     },
     "execution_count": 88,
     "metadata": {},
     "output_type": "execute_result"
    }
   ],
   "source": [
    "\n",
    "ground_truth.loc[242, \"sentence\"]"
   ]
  },
  {
   "cell_type": "code",
   "execution_count": 89,
   "metadata": {},
   "outputs": [],
   "source": [
    "correct_guesses = calculate_score(found, quotes_count_dict)"
   ]
  },
  {
   "cell_type": "code",
   "execution_count": 90,
   "metadata": {},
   "outputs": [
    {
     "data": {
      "text/html": [
       "<div>\n",
       "<style scoped>\n",
       "    .dataframe tbody tr th:only-of-type {\n",
       "        vertical-align: middle;\n",
       "    }\n",
       "\n",
       "    .dataframe tbody tr th {\n",
       "        vertical-align: top;\n",
       "    }\n",
       "\n",
       "    .dataframe thead th {\n",
       "        text-align: right;\n",
       "    }\n",
       "</style>\n",
       "<table border=\"1\" class=\"dataframe\">\n",
       "  <thead>\n",
       "    <tr style=\"text-align: right;\">\n",
       "      <th></th>\n",
       "      <th>comedian</th>\n",
       "      <th>laugh_start</th>\n",
       "      <th>laugh_end</th>\n",
       "      <th>sentence</th>\n",
       "    </tr>\n",
       "  </thead>\n",
       "  <tbody>\n",
       "    <tr>\n",
       "      <th>17</th>\n",
       "      <td>Anthony_Jeselnik</td>\n",
       "      <td>16.898</td>\n",
       "      <td>19.405</td>\n",
       "      <td>When I was a kid, I used to fantasize about ge...</td>\n",
       "    </tr>\n",
       "    <tr>\n",
       "      <th>18</th>\n",
       "      <td>Anthony_Jeselnik</td>\n",
       "      <td>29.085</td>\n",
       "      <td>31.100</td>\n",
       "      <td>Sold my passport on the street for 300 bucks t...</td>\n",
       "    </tr>\n",
       "    <tr>\n",
       "      <th>19</th>\n",
       "      <td>Anthony_Jeselnik</td>\n",
       "      <td>34.874</td>\n",
       "      <td>36.233</td>\n",
       "      <td>Weird joke to clap for, but sure.</td>\n",
       "    </tr>\n",
       "    <tr>\n",
       "      <th>20</th>\n",
       "      <td>Anthony_Jeselnik</td>\n",
       "      <td>43.756</td>\n",
       "      <td>48.912</td>\n",
       "      <td>My mom actually should've been on one of the p...</td>\n",
       "    </tr>\n",
       "    <tr>\n",
       "      <th>21</th>\n",
       "      <td>Anthony_Jeselnik</td>\n",
       "      <td>86.505</td>\n",
       "      <td>88.497</td>\n",
       "      <td>And when I did that, my mom would act weird. S...</td>\n",
       "    </tr>\n",
       "    <tr>\n",
       "      <th>22</th>\n",
       "      <td>Anthony_Jeselnik</td>\n",
       "      <td>93.982</td>\n",
       "      <td>100.708</td>\n",
       "      <td>And I would say, \"Shut up, Mom, that's racist....</td>\n",
       "    </tr>\n",
       "    <tr>\n",
       "      <th>23</th>\n",
       "      <td>Anthony_Jeselnik</td>\n",
       "      <td>114.653</td>\n",
       "      <td>120.278</td>\n",
       "      <td>And we never talk, write letters or any of tha...</td>\n",
       "    </tr>\n",
       "  </tbody>\n",
       "</table>\n",
       "</div>"
      ],
      "text/plain": [
       "            comedian  laugh_start  laugh_end  \\\n",
       "17  Anthony_Jeselnik       16.898     19.405   \n",
       "18  Anthony_Jeselnik       29.085     31.100   \n",
       "19  Anthony_Jeselnik       34.874     36.233   \n",
       "20  Anthony_Jeselnik       43.756     48.912   \n",
       "21  Anthony_Jeselnik       86.505     88.497   \n",
       "22  Anthony_Jeselnik       93.982    100.708   \n",
       "23  Anthony_Jeselnik      114.653    120.278   \n",
       "\n",
       "                                             sentence  \n",
       "17  When I was a kid, I used to fantasize about ge...  \n",
       "18  Sold my passport on the street for 300 bucks t...  \n",
       "19                  Weird joke to clap for, but sure.  \n",
       "20  My mom actually should've been on one of the p...  \n",
       "21  And when I did that, my mom would act weird. S...  \n",
       "22  And I would say, \"Shut up, Mom, that's racist....  \n",
       "23  And we never talk, write letters or any of tha...  "
      ]
     },
     "execution_count": 90,
     "metadata": {},
     "output_type": "execute_result"
    }
   ],
   "source": [
    "ground_truth[ground_truth.comedian == \"Anthony_Jeselnik\"]"
   ]
  },
  {
   "cell_type": "code",
   "execution_count": 91,
   "metadata": {},
   "outputs": [
    {
     "data": {
      "text/plain": [
       "{'Anthony_Jeselnik': 100.0,\n",
       " 'Anthony_Jeselnik_2': 66.66666666666667,\n",
       " 'Ali_Wong': 42.0,\n",
       " 'Ali_Wong_2': 66.66666666666667,\n",
       " 'Chelsea_Peretti': 33.333333333333336,\n",
       " 'Chelsea_Peretti_2': 50.0,\n",
       " 'Donald_Glover': 30.0,\n",
       " 'Donald_Glover_2': 80.66666666666667,\n",
       " 'Hasan_Minhaj': 75.0,\n",
       " 'Hasan_Minhaj_2': 50.0,\n",
       " 'Iliza_Shlesinger': 66.66666666666667,\n",
       " 'Iliza_Shlesinger_2': 50.0,\n",
       " 'Jim_Gaffigan': 87.75,\n",
       " 'Jim_Gaffigan_2': 55.333333333333336,\n",
       " 'Joe_List': 83.25,\n",
       " 'Joe_List_2': 25.0,\n",
       " 'John_Mulaney': 78.4,\n",
       " 'John_Mulaney_2': 61.25,\n",
       " 'Jimmy_Yang': 50.0,\n",
       " 'Jimmy_Yang_2': 75.0,\n",
       " 'Louis_CK': 100.0,\n",
       " 'Louis_CK_2': 65.25,\n",
       " 'Nate_Bargatze': 62.666666666666664,\n",
       " 'Nate_Bargatze_2': 33.0,\n",
       " 'Nate_Bargatze_TK': 99.0,\n",
       " 'Nate_Bargatze_TK_2': 20.0,\n",
       " 'Russell_Peters': 72.5,\n",
       " 'Russell_Peters_2': 88.6,\n",
       " 'Sam_Morril': 100.0,\n",
       " 'Sam_Morril_2': 42.5,\n",
       " 'Trevor_Noah': 45.5,\n",
       " 'Trevor_Noah_2': 94.66666666666667,\n",
       " 'Tom_Segura': 60.0,\n",
       " 'Tom_Segura_2': 50.0}"
      ]
     },
     "execution_count": 91,
     "metadata": {},
     "output_type": "execute_result"
    }
   ],
   "source": [
    "correct_guesses"
   ]
  },
  {
   "cell_type": "code",
   "execution_count": 92,
   "metadata": {},
   "outputs": [
    {
     "name": "stdout",
     "output_type": "stream",
     "text": [
      "63.549019607843135\n"
     ]
    }
   ],
   "source": [
    "print(sum(correct_guesses.values())/len(correct_guesses))"
   ]
  },
  {
   "cell_type": "markdown",
   "metadata": {},
   "source": [
    "Use Vectorized Technique"
   ]
  },
  {
   "cell_type": "markdown",
   "metadata": {},
   "source": [
    "#### Norm"
   ]
  },
  {
   "cell_type": "code",
   "execution_count": 93,
   "metadata": {},
   "outputs": [],
   "source": [
    "def vector_base(model_answers, ground_truth):    \n",
    "    scores = model_answers.apply(\n",
    "        lambda row_model: ground_truth.apply(\n",
    "            lambda row_truth: \n",
    "                fuzz.ratio(row_truth[\"sentence\"], row_model[\"sentence\"]) \n",
    "                if row_model[\"comedian\"] == row_truth[\"comedian\"] \n",
    "                else None,\n",
    "        axis=1),\n",
    "    axis=1) \\\n",
    "        .sub(60) \\\n",
    "        .clip(lower=0) \\\n",
    "        .div(40) \\\n",
    "        .melt(ignore_index=False) \\\n",
    "        .dropna() \\\n",
    "        .reset_index() \\\n",
    "        .join(model_answers[\"sentence\"], on=\"index\") \\\n",
    "        .rename(columns={\"sentence\": \"model\"}) \\\n",
    "        .join(ground_truth, on=\"variable\") \\\n",
    "        .rename(columns={\"sentence\": \"truth\", \"value\": \"score\"})\n",
    "        \n",
    "    scores = scores[[\"comedian\", \"model\", \"truth\", \"score\"]]\n",
    "    \n",
    "    return scores"
   ]
  },
  {
   "cell_type": "code",
   "execution_count": 94,
   "metadata": {},
   "outputs": [],
   "source": [
    "#Model and Ground Truth\n",
    "gemma_scores = vector_base(model, ground_truth)"
   ]
  },
  {
   "cell_type": "code",
   "execution_count": 96,
   "metadata": {},
   "outputs": [
    {
     "data": {
      "text/plain": [
       "comedian\n",
       "Ali_Wong              0.050000\n",
       "Ali_Wong_2            0.065625\n",
       "Anthony_Jeselnik      0.082143\n",
       "Anthony_Jeselnik_2    0.083333\n",
       "Chelsea_Peretti       0.006667\n",
       "Chelsea_Peretti_2     0.022917\n",
       "Donald_Glover         0.005208\n",
       "Donald_Glover_2       0.000000\n",
       "Hasan_Minhaj          0.003750\n",
       "Hasan_Minhaj_2        0.047917\n",
       "Iliza_Shlesinger      0.019048\n",
       "Iliza_Shlesinger_2    0.042500\n",
       "Jim_Gaffigan          0.028125\n",
       "Jim_Gaffigan_2        0.027381\n",
       "Jimmy_Yang            0.035417\n",
       "Jimmy_Yang_2          0.075000\n",
       "Joe_List              0.041667\n",
       "Joe_List_2            0.006771\n",
       "John_Mulaney          0.048333\n",
       "John_Mulaney_2        0.019231\n",
       "Louis_CK              0.055000\n",
       "Louis_CK_2            0.031250\n",
       "Nate_Bargatze         0.003571\n",
       "Nate_Bargatze_2       0.000000\n",
       "Nate_Bargatze_TK      0.025893\n",
       "Nate_Bargatze_TK_2    0.033333\n",
       "Russell_Peters        0.077083\n",
       "Russell_Peters_2      0.072857\n",
       "Sam_Morril            0.016176\n",
       "Sam_Morril_2          0.002083\n",
       "Tom_Segura            0.040000\n",
       "Tom_Segura_2          0.000000\n",
       "Trevor_Noah           0.000000\n",
       "Trevor_Noah_2         0.084722\n",
       "Name: score, dtype: float64"
      ]
     },
     "execution_count": 96,
     "metadata": {},
     "output_type": "execute_result"
    }
   ],
   "source": [
    "gemma_scores.groupby(\"comedian\")[\"score\"].mean()"
   ]
  },
  {
   "cell_type": "code",
   "execution_count": 97,
   "metadata": {},
   "outputs": [
    {
     "data": {
      "text/plain": [
       "3.0533256880733948"
      ]
     },
     "execution_count": 97,
     "metadata": {},
     "output_type": "execute_result"
    }
   ],
   "source": [
    "gemma_scores[\"score\"].mean() *100"
   ]
  },
  {
   "cell_type": "code",
   "execution_count": 98,
   "metadata": {},
   "outputs": [],
   "source": [
    "gemma_scores.to_csv('/home/ada/humor/data/stand_up_dataset/gemma_score_quotes.csv', index=False)"
   ]
  },
  {
   "cell_type": "code",
   "execution_count": 99,
   "metadata": {},
   "outputs": [],
   "source": [
    "#Random Model\n",
    "random_scores = vector_base(random_model, ground_truth)"
   ]
  },
  {
   "cell_type": "code",
   "execution_count": 100,
   "metadata": {},
   "outputs": [
    {
     "data": {
      "text/plain": [
       "comedian\n",
       "Ali_Wong              0.013333\n",
       "Ali_Wong_2            0.030208\n",
       "Anthony_Jeselnik      0.051190\n",
       "Anthony_Jeselnik_2    0.016667\n",
       "Chelsea_Peretti       0.008333\n",
       "Chelsea_Peretti_2     0.047222\n",
       "Donald_Glover         0.000000\n",
       "Donald_Glover_2       0.023148\n",
       "Hasan_Minhaj          0.018333\n",
       "Hasan_Minhaj_2        0.019444\n",
       "Iliza_Shlesinger      0.000000\n",
       "Iliza_Shlesinger_2    0.000000\n",
       "Jim_Gaffigan          0.031250\n",
       "Jim_Gaffigan_2        0.001190\n",
       "Jimmy_Yang            0.000000\n",
       "Jimmy_Yang_2          0.000000\n",
       "Joe_List              0.000000\n",
       "Joe_List_2            0.000000\n",
       "John_Mulaney          0.006481\n",
       "John_Mulaney_2        0.032051\n",
       "Louis_CK              0.000000\n",
       "Louis_CK_2            0.000000\n",
       "Nate_Bargatze         0.029762\n",
       "Nate_Bargatze_2       0.000000\n",
       "Nate_Bargatze_TK      0.009524\n",
       "Nate_Bargatze_TK_2    0.000000\n",
       "Russell_Peters        0.052778\n",
       "Russell_Peters_2      0.045238\n",
       "Sam_Morril            0.000000\n",
       "Sam_Morril_2          0.007870\n",
       "Tom_Segura            0.068333\n",
       "Tom_Segura_2          0.000000\n",
       "Trevor_Noah           0.048958\n",
       "Trevor_Noah_2         0.016667\n",
       "Name: score, dtype: float64"
      ]
     },
     "execution_count": 100,
     "metadata": {},
     "output_type": "execute_result"
    }
   ],
   "source": [
    "random_scores.groupby(\"comedian\")[\"score\"].mean()"
   ]
  },
  {
   "cell_type": "code",
   "execution_count": 101,
   "metadata": {},
   "outputs": [
    {
     "data": {
      "text/plain": [
       "1.690379403794038"
      ]
     },
     "execution_count": 101,
     "metadata": {},
     "output_type": "execute_result"
    }
   ],
   "source": [
    "random_scores[\"score\"].mean() * 100"
   ]
  },
  {
   "cell_type": "code",
   "execution_count": 102,
   "metadata": {},
   "outputs": [],
   "source": [
    "#Brute Force\n",
    "brute_sentences = []\n",
    "for i in range(len(transcript['comedian'])):\n",
    "    comedian = transcript['comedian'][i]\n",
    "    trans = transcript['transcript'][i]\n",
    "    sentences = nltk.sent_tokenize(trans)\n",
    "    for sentence in sentences:\n",
    "        brute_sentences.append({'comedian': comedian, 'sentence': sentence})"
   ]
  },
  {
   "cell_type": "code",
   "execution_count": 103,
   "metadata": {},
   "outputs": [
    {
     "data": {
      "text/html": [
       "<div>\n",
       "<style scoped>\n",
       "    .dataframe tbody tr th:only-of-type {\n",
       "        vertical-align: middle;\n",
       "    }\n",
       "\n",
       "    .dataframe tbody tr th {\n",
       "        vertical-align: top;\n",
       "    }\n",
       "\n",
       "    .dataframe thead th {\n",
       "        text-align: right;\n",
       "    }\n",
       "</style>\n",
       "<table border=\"1\" class=\"dataframe\">\n",
       "  <thead>\n",
       "    <tr style=\"text-align: right;\">\n",
       "      <th></th>\n",
       "      <th>comedian</th>\n",
       "      <th>sentence</th>\n",
       "    </tr>\n",
       "  </thead>\n",
       "  <tbody>\n",
       "    <tr>\n",
       "      <th>0</th>\n",
       "      <td>Anthony_Jeselnik</td>\n",
       "      <td>When I was a kid, I used to fantasize about ge...</td>\n",
       "    </tr>\n",
       "    <tr>\n",
       "      <th>1</th>\n",
       "      <td>Anthony_Jeselnik</td>\n",
       "      <td>When I was a kid, we were poor.</td>\n",
       "    </tr>\n",
       "    <tr>\n",
       "      <th>2</th>\n",
       "      <td>Anthony_Jeselnik</td>\n",
       "      <td>So poor I remember, just so I could go to my s...</td>\n",
       "    </tr>\n",
       "    <tr>\n",
       "      <th>3</th>\n",
       "      <td>Anthony_Jeselnik</td>\n",
       "      <td>Sold my passport on the street for 300 bucks t...</td>\n",
       "    </tr>\n",
       "    <tr>\n",
       "      <th>4</th>\n",
       "      <td>Anthony_Jeselnik</td>\n",
       "      <td>Of course this was before 9/11 so… my bad, eve...</td>\n",
       "    </tr>\n",
       "    <tr>\n",
       "      <th>5</th>\n",
       "      <td>Anthony_Jeselnik</td>\n",
       "      <td>Weird joke to clap for, but sure.</td>\n",
       "    </tr>\n",
       "    <tr>\n",
       "      <th>6</th>\n",
       "      <td>Anthony_Jeselnik</td>\n",
       "      <td>My mom actually should’ve been on one of the p...</td>\n",
       "    </tr>\n",
       "    <tr>\n",
       "      <th>7</th>\n",
       "      <td>Anthony_Jeselnik</td>\n",
       "      <td>I think.I mean, don’t get me wrong, I loved my...</td>\n",
       "    </tr>\n",
       "    <tr>\n",
       "      <th>8</th>\n",
       "      <td>Anthony_Jeselnik</td>\n",
       "      <td>She was my mom, of course I loved her.</td>\n",
       "    </tr>\n",
       "    <tr>\n",
       "      <th>9</th>\n",
       "      <td>Anthony_Jeselnik</td>\n",
       "      <td>We fought a lot.</td>\n",
       "    </tr>\n",
       "    <tr>\n",
       "      <th>10</th>\n",
       "      <td>Anthony_Jeselnik</td>\n",
       "      <td>My mom could be very racist.</td>\n",
       "    </tr>\n",
       "    <tr>\n",
       "      <th>11</th>\n",
       "      <td>Anthony_Jeselnik</td>\n",
       "      <td>Very racist.</td>\n",
       "    </tr>\n",
       "    <tr>\n",
       "      <th>12</th>\n",
       "      <td>Anthony_Jeselnik</td>\n",
       "      <td>And I do not tolerate racism.</td>\n",
       "    </tr>\n",
       "    <tr>\n",
       "      <th>13</th>\n",
       "      <td>Anthony_Jeselnik</td>\n",
       "      <td>That’s ignorance and I hate that.</td>\n",
       "    </tr>\n",
       "    <tr>\n",
       "      <th>14</th>\n",
       "      <td>Anthony_Jeselnik</td>\n",
       "      <td>When I was a kid, like nine years old, I’d com...</td>\n",
       "    </tr>\n",
       "    <tr>\n",
       "      <th>15</th>\n",
       "      <td>Anthony_Jeselnik</td>\n",
       "      <td>Once in a while, I’d bring a friend over to pl...</td>\n",
       "    </tr>\n",
       "    <tr>\n",
       "      <th>16</th>\n",
       "      <td>Anthony_Jeselnik</td>\n",
       "      <td>Once in a while, I’d bring a black friend over.</td>\n",
       "    </tr>\n",
       "    <tr>\n",
       "      <th>17</th>\n",
       "      <td>Anthony_Jeselnik</td>\n",
       "      <td>And when I did that, my mom would act weird.</td>\n",
       "    </tr>\n",
       "    <tr>\n",
       "      <th>18</th>\n",
       "      <td>Anthony_Jeselnik</td>\n",
       "      <td>She’d pull me aside and say, “Anthony, who’s y...</td>\n",
       "    </tr>\n",
       "    <tr>\n",
       "      <th>19</th>\n",
       "      <td>Anthony_Jeselnik</td>\n",
       "      <td>Is he a drug dealer?” And I would say, “Shut u...</td>\n",
       "    </tr>\n",
       "    <tr>\n",
       "      <th>20</th>\n",
       "      <td>Anthony_Jeselnik</td>\n",
       "      <td>Put your money away.”I never get to see my fam...</td>\n",
       "    </tr>\n",
       "    <tr>\n",
       "      <th>21</th>\n",
       "      <td>Anthony_Jeselnik</td>\n",
       "      <td>Most of them are in jail, to be honest.</td>\n",
       "    </tr>\n",
       "    <tr>\n",
       "      <th>22</th>\n",
       "      <td>Anthony_Jeselnik</td>\n",
       "      <td>And we never talk, write letters or any of tha...</td>\n",
       "    </tr>\n",
       "    <tr>\n",
       "      <th>23</th>\n",
       "      <td>Anthony_Jeselnik</td>\n",
       "      <td>‘Cause they’re all in jail for the exact same ...</td>\n",
       "    </tr>\n",
       "    <tr>\n",
       "      <th>24</th>\n",
       "      <td>Anthony_Jeselnik</td>\n",
       "      <td>My testimony.</td>\n",
       "    </tr>\n",
       "    <tr>\n",
       "      <th>25</th>\n",
       "      <td>Anthony_Jeselnik_2</td>\n",
       "      <td>No one should ever ask me to speak at anyone’...</td>\n",
       "    </tr>\n",
       "    <tr>\n",
       "      <th>26</th>\n",
       "      <td>Anthony_Jeselnik_2</td>\n",
       "      <td>I asked a friend for advice.</td>\n",
       "    </tr>\n",
       "    <tr>\n",
       "      <th>27</th>\n",
       "      <td>Anthony_Jeselnik_2</td>\n",
       "      <td>Was like, “I’ve never talked to a group of peo...</td>\n",
       "    </tr>\n",
       "    <tr>\n",
       "      <th>28</th>\n",
       "      <td>Anthony_Jeselnik_2</td>\n",
       "      <td>How should I handle this?” “Anthony, just go u...</td>\n",
       "    </tr>\n",
       "    <tr>\n",
       "      <th>29</th>\n",
       "      <td>Anthony_Jeselnik_2</td>\n",
       "      <td>Find one moment about you and your grandma you...</td>\n",
       "    </tr>\n",
       "  </tbody>\n",
       "</table>\n",
       "</div>"
      ],
      "text/plain": [
       "              comedian                                           sentence\n",
       "0     Anthony_Jeselnik  When I was a kid, I used to fantasize about ge...\n",
       "1     Anthony_Jeselnik                    When I was a kid, we were poor.\n",
       "2     Anthony_Jeselnik  So poor I remember, just so I could go to my s...\n",
       "3     Anthony_Jeselnik  Sold my passport on the street for 300 bucks t...\n",
       "4     Anthony_Jeselnik  Of course this was before 9/11 so… my bad, eve...\n",
       "5     Anthony_Jeselnik                  Weird joke to clap for, but sure.\n",
       "6     Anthony_Jeselnik  My mom actually should’ve been on one of the p...\n",
       "7     Anthony_Jeselnik  I think.I mean, don’t get me wrong, I loved my...\n",
       "8     Anthony_Jeselnik             She was my mom, of course I loved her.\n",
       "9     Anthony_Jeselnik                                   We fought a lot.\n",
       "10    Anthony_Jeselnik                       My mom could be very racist.\n",
       "11    Anthony_Jeselnik                                       Very racist.\n",
       "12    Anthony_Jeselnik                      And I do not tolerate racism.\n",
       "13    Anthony_Jeselnik                  That’s ignorance and I hate that.\n",
       "14    Anthony_Jeselnik  When I was a kid, like nine years old, I’d com...\n",
       "15    Anthony_Jeselnik  Once in a while, I’d bring a friend over to pl...\n",
       "16    Anthony_Jeselnik    Once in a while, I’d bring a black friend over.\n",
       "17    Anthony_Jeselnik       And when I did that, my mom would act weird.\n",
       "18    Anthony_Jeselnik  She’d pull me aside and say, “Anthony, who’s y...\n",
       "19    Anthony_Jeselnik  Is he a drug dealer?” And I would say, “Shut u...\n",
       "20    Anthony_Jeselnik  Put your money away.”I never get to see my fam...\n",
       "21    Anthony_Jeselnik            Most of them are in jail, to be honest.\n",
       "22    Anthony_Jeselnik  And we never talk, write letters or any of tha...\n",
       "23    Anthony_Jeselnik  ‘Cause they’re all in jail for the exact same ...\n",
       "24    Anthony_Jeselnik                                      My testimony.\n",
       "25  Anthony_Jeselnik_2   No one should ever ask me to speak at anyone’...\n",
       "26  Anthony_Jeselnik_2                       I asked a friend for advice.\n",
       "27  Anthony_Jeselnik_2  Was like, “I’ve never talked to a group of peo...\n",
       "28  Anthony_Jeselnik_2  How should I handle this?” “Anthony, just go u...\n",
       "29  Anthony_Jeselnik_2  Find one moment about you and your grandma you..."
      ]
     },
     "execution_count": 103,
     "metadata": {},
     "output_type": "execute_result"
    }
   ],
   "source": [
    "brute_model = pd.DataFrame(brute_sentences)\n",
    "brute_model.head(30)"
   ]
  },
  {
   "cell_type": "code",
   "execution_count": 104,
   "metadata": {},
   "outputs": [],
   "source": [
    "brute_scores = vector_base(brute_model, ground_truth)"
   ]
  },
  {
   "cell_type": "code",
   "execution_count": 105,
   "metadata": {},
   "outputs": [
    {
     "data": {
      "text/plain": [
       "comedian\n",
       "Ali_Wong              0.027647\n",
       "Ali_Wong_2            0.024864\n",
       "Anthony_Jeselnik      0.020429\n",
       "Anthony_Jeselnik_2    0.031548\n",
       "Chelsea_Peretti       0.014375\n",
       "Chelsea_Peretti_2     0.022778\n",
       "Donald_Glover         0.026215\n",
       "Donald_Glover_2       0.015833\n",
       "Hasan_Minhaj          0.017903\n",
       "Hasan_Minhaj_2        0.047024\n",
       "Iliza_Shlesinger      0.021131\n",
       "Iliza_Shlesinger_2    0.016071\n",
       "Jim_Gaffigan          0.029412\n",
       "Jim_Gaffigan_2        0.022679\n",
       "Jimmy_Yang            0.020032\n",
       "Jimmy_Yang_2          0.041406\n",
       "Joe_List              0.021296\n",
       "Joe_List_2            0.010373\n",
       "John_Mulaney          0.022854\n",
       "John_Mulaney_2        0.023821\n",
       "Louis_CK              0.028646\n",
       "Louis_CK_2            0.045139\n",
       "Nate_Bargatze         0.014668\n",
       "Nate_Bargatze_2       0.012908\n",
       "Nate_Bargatze_TK      0.019464\n",
       "Nate_Bargatze_TK_2    0.023106\n",
       "Russell_Peters        0.028571\n",
       "Russell_Peters_2      0.046008\n",
       "Sam_Morril            0.009123\n",
       "Sam_Morril_2          0.012897\n",
       "Tom_Segura            0.013056\n",
       "Tom_Segura_2          0.024359\n",
       "Trevor_Noah           0.007357\n",
       "Trevor_Noah_2         0.009201\n",
       "Name: score, dtype: float64"
      ]
     },
     "execution_count": 105,
     "metadata": {},
     "output_type": "execute_result"
    }
   ],
   "source": [
    "brute_scores.groupby(\"comedian\")[\"score\"].mean()"
   ]
  },
  {
   "cell_type": "code",
   "execution_count": 106,
   "metadata": {},
   "outputs": [],
   "source": [
    "brute_scores.to_csv('/home/ada/humor/data/stand_up_dataset/brute_quotes.csv', index=False)"
   ]
  },
  {
   "cell_type": "code",
   "execution_count": 107,
   "metadata": {},
   "outputs": [
    {
     "data": {
      "text/plain": [
       "1.7548533060867029"
      ]
     },
     "execution_count": 107,
     "metadata": {},
     "output_type": "execute_result"
    }
   ],
   "source": [
    "brute_scores[\"score\"].mean() * 100"
   ]
  },
  {
   "cell_type": "code",
   "execution_count": 108,
   "metadata": {},
   "outputs": [],
   "source": [
    "#Fav Quotes Model\n",
    "fav_model = pd.read_csv('/home/ada/humor/data/stand_up_dataset/fav_quotes.csv')"
   ]
  },
  {
   "cell_type": "code",
   "execution_count": 109,
   "metadata": {},
   "outputs": [
    {
     "data": {
      "text/plain": [
       "comedian\n",
       "Ali_Wong              0.041667\n",
       "Ali_Wong_2            0.000000\n",
       "Anthony_Jeselnik      0.071429\n",
       "Anthony_Jeselnik_2    0.080556\n",
       "Chelsea_Peretti       0.005000\n",
       "Chelsea_Peretti_2     0.000000\n",
       "Donald_Glover         0.000000\n",
       "Donald_Glover_2       0.020556\n",
       "Hasan_Minhaj          0.000000\n",
       "Hasan_Minhaj_2        0.038333\n",
       "Iliza_Shlesinger      0.044048\n",
       "Iliza_Shlesinger_2    0.000000\n",
       "Jim_Gaffigan          0.014063\n",
       "Jim_Gaffigan_2        0.013571\n",
       "Jimmy_Yang            0.040833\n",
       "Jimmy_Yang_2          0.070312\n",
       "Joe_List              0.002778\n",
       "Joe_List_2            0.000000\n",
       "John_Mulaney          0.035000\n",
       "John_Mulaney_2        0.011538\n",
       "Louis_CK              0.004687\n",
       "Louis_CK_2            0.041667\n",
       "Nate_Bargatze         0.003571\n",
       "Nate_Bargatze_2       0.006696\n",
       "Nate_Bargatze_TK      0.009821\n",
       "Nate_Bargatze_TK_2    0.030208\n",
       "Russell_Peters        0.053125\n",
       "Russell_Peters_2      0.032738\n",
       "Sam_Morril            0.003529\n",
       "Sam_Morril_2          0.016435\n",
       "Tom_Segura            0.020000\n",
       "Tom_Segura_2          0.000000\n",
       "Trevor_Noah           0.014583\n",
       "Trevor_Noah_2         0.007639\n",
       "Name: score, dtype: float64"
      ]
     },
     "execution_count": 109,
     "metadata": {},
     "output_type": "execute_result"
    }
   ],
   "source": [
    "fav_scores = vector_base(fav_model, ground_truth)\n",
    "fav_scores.groupby(\"comedian\")[\"score\"].mean()"
   ]
  },
  {
   "cell_type": "code",
   "execution_count": 110,
   "metadata": {},
   "outputs": [
    {
     "data": {
      "text/plain": [
       "1.6798732171156894"
      ]
     },
     "execution_count": 110,
     "metadata": {},
     "output_type": "execute_result"
    }
   ],
   "source": [
    "fav_scores[\"score\"].mean() * 100"
   ]
  },
  {
   "cell_type": "code",
   "execution_count": 111,
   "metadata": {},
   "outputs": [],
   "source": [
    "#Random Quotes Model\n",
    "gemma_random_model = pd.read_csv('/home/ada/humor/data/stand_up_dataset/random_gemma_quotes.csv')"
   ]
  },
  {
   "cell_type": "code",
   "execution_count": 112,
   "metadata": {},
   "outputs": [
    {
     "data": {
      "text/plain": [
       "comedian\n",
       "Ali_Wong              0.041667\n",
       "Ali_Wong_2            0.071250\n",
       "Anthony_Jeselnik      0.034821\n",
       "Anthony_Jeselnik_2    0.080556\n",
       "Chelsea_Peretti       0.015000\n",
       "Chelsea_Peretti_2     0.025000\n",
       "Donald_Glover         0.000000\n",
       "Donald_Glover_2       0.020556\n",
       "Hasan_Minhaj          0.000000\n",
       "Hasan_Minhaj_2        0.000000\n",
       "Iliza_Shlesinger      0.048810\n",
       "Iliza_Shlesinger_2    0.000000\n",
       "Jim_Gaffigan          0.010547\n",
       "Jim_Gaffigan_2        0.029286\n",
       "Jimmy_Yang            0.025694\n",
       "Jimmy_Yang_2          0.054167\n",
       "Joe_List              0.000000\n",
       "Joe_List_2            0.000000\n",
       "John_Mulaney          0.040556\n",
       "John_Mulaney_2        0.014011\n",
       "Louis_CK              0.004687\n",
       "Louis_CK_2            0.035000\n",
       "Nate_Bargatze         0.004286\n",
       "Nate_Bargatze_2       0.000521\n",
       "Nate_Bargatze_TK      0.028571\n",
       "Nate_Bargatze_TK_2    0.000000\n",
       "Russell_Peters        0.053125\n",
       "Russell_Peters_2      0.021939\n",
       "Sam_Morril            0.000490\n",
       "Sam_Morril_2          0.014444\n",
       "Tom_Segura            0.022857\n",
       "Tom_Segura_2          0.000000\n",
       "Trevor_Noah           0.013542\n",
       "Trevor_Noah_2         0.003333\n",
       "Name: score, dtype: float64"
      ]
     },
     "execution_count": 112,
     "metadata": {},
     "output_type": "execute_result"
    }
   ],
   "source": [
    "gemma_random_scores = vector_base(gemma_random_model, ground_truth)\n",
    "gemma_random_scores.groupby(\"comedian\")[\"score\"].mean()"
   ]
  },
  {
   "cell_type": "code",
   "execution_count": 113,
   "metadata": {},
   "outputs": [
    {
     "data": {
      "text/plain": [
       "1.7971183800623052"
      ]
     },
     "execution_count": 113,
     "metadata": {},
     "output_type": "execute_result"
    }
   ],
   "source": [
    "gemma_random_scores[\"score\"].mean() * 100"
   ]
  },
  {
   "cell_type": "code",
   "execution_count": 114,
   "metadata": {},
   "outputs": [],
   "source": [
    "#Best Represent\n",
    "best_rep_model = pd.read_csv('/home/ada/humor/data/stand_up_dataset/best_rep_quotes.csv')"
   ]
  },
  {
   "cell_type": "code",
   "execution_count": 115,
   "metadata": {},
   "outputs": [
    {
     "data": {
      "text/plain": [
       "comedian\n",
       "Ali_Wong              0.041667\n",
       "Ali_Wong_2            0.058594\n",
       "Anthony_Jeselnik      0.071429\n",
       "Anthony_Jeselnik_2    0.080556\n",
       "Chelsea_Peretti       0.005000\n",
       "Chelsea_Peretti_2     0.025000\n",
       "Donald_Glover         0.000000\n",
       "Donald_Glover_2       0.020556\n",
       "Hasan_Minhaj          0.000000\n",
       "Hasan_Minhaj_2        0.047917\n",
       "Iliza_Shlesinger      0.048810\n",
       "Iliza_Shlesinger_2    0.000000\n",
       "Jim_Gaffigan          0.000000\n",
       "Jim_Gaffigan_2        0.013571\n",
       "Jimmy_Yang            0.030833\n",
       "Jimmy_Yang_2          0.070312\n",
       "Joe_List              0.002778\n",
       "Joe_List_2            0.000000\n",
       "John_Mulaney          0.033796\n",
       "John_Mulaney_2        0.024679\n",
       "Louis_CK              0.004687\n",
       "Louis_CK_2            0.039583\n",
       "Nate_Bargatze         0.010714\n",
       "Nate_Bargatze_2       0.011458\n",
       "Nate_Bargatze_TK      0.007857\n",
       "Nate_Bargatze_TK_2    0.057500\n",
       "Russell_Peters        0.080833\n",
       "Russell_Peters_2      0.066429\n",
       "Sam_Morril            0.003676\n",
       "Sam_Morril_2          0.019722\n",
       "Tom_Segura            0.020000\n",
       "Tom_Segura_2          0.000000\n",
       "Trevor_Noah           0.014583\n",
       "Trevor_Noah_2         0.002778\n",
       "Name: score, dtype: float64"
      ]
     },
     "execution_count": 115,
     "metadata": {},
     "output_type": "execute_result"
    }
   ],
   "source": [
    "best_rep_scores = vector_base(best_rep_model, ground_truth)\n",
    "best_rep_scores.groupby(\"comedian\")[\"score\"].mean()"
   ]
  },
  {
   "cell_type": "code",
   "execution_count": 116,
   "metadata": {},
   "outputs": [
    {
     "data": {
      "text/plain": [
       "2.3224852071005917"
      ]
     },
     "execution_count": 116,
     "metadata": {},
     "output_type": "execute_result"
    }
   ],
   "source": [
    "best_rep_scores[\"score\"].mean() * 100"
   ]
  },
  {
   "cell_type": "code",
   "execution_count": 117,
   "metadata": {},
   "outputs": [],
   "source": [
    "#Most Offensive\n",
    "offensive_model = pd.read_csv('/home/ada/humor/data/stand_up_dataset/offensive_quotes.csv')"
   ]
  },
  {
   "cell_type": "code",
   "execution_count": 118,
   "metadata": {},
   "outputs": [
    {
     "data": {
      "text/plain": [
       "comedian\n",
       "Ali_Wong              0.041667\n",
       "Ali_Wong_2            0.019792\n",
       "Anthony_Jeselnik      0.025893\n",
       "Anthony_Jeselnik_2    0.080556\n",
       "Chelsea_Peretti       0.015000\n",
       "Chelsea_Peretti_2     0.031250\n",
       "Donald_Glover         0.000000\n",
       "Donald_Glover_2       0.020556\n",
       "Hasan_Minhaj          0.005000\n",
       "Hasan_Minhaj_2        0.038333\n",
       "Iliza_Shlesinger      0.042857\n",
       "Iliza_Shlesinger_2    0.013750\n",
       "Jim_Gaffigan          0.014063\n",
       "Jim_Gaffigan_2        0.006548\n",
       "Jimmy_Yang            0.023611\n",
       "Jimmy_Yang_2          0.065625\n",
       "Joe_List              0.000000\n",
       "Joe_List_2            0.000000\n",
       "John_Mulaney          0.061806\n",
       "John_Mulaney_2        0.000000\n",
       "Louis_CK              0.026190\n",
       "Louis_CK_2            0.048611\n",
       "Nate_Bargatze         0.003571\n",
       "Nate_Bargatze_2       0.001339\n",
       "Nate_Bargatze_TK      0.017857\n",
       "Nate_Bargatze_TK_2    0.007292\n",
       "Russell_Peters        0.060417\n",
       "Russell_Peters_2      0.044286\n",
       "Sam_Morril            0.012185\n",
       "Sam_Morril_2          0.019167\n",
       "Tom_Segura            0.020000\n",
       "Tom_Segura_2          0.070833\n",
       "Trevor_Noah           0.017500\n",
       "Trevor_Noah_2         0.007639\n",
       "Name: score, dtype: float64"
      ]
     },
     "execution_count": 118,
     "metadata": {},
     "output_type": "execute_result"
    }
   ],
   "source": [
    "offensive_scores = vector_base(offensive_model, ground_truth)\n",
    "offensive_scores.groupby(\"comedian\")[\"score\"].mean()"
   ]
  },
  {
   "cell_type": "code",
   "execution_count": 119,
   "metadata": {},
   "outputs": [
    {
     "data": {
      "text/plain": [
       "1.9980314960629921"
      ]
     },
     "execution_count": 119,
     "metadata": {},
     "output_type": "execute_result"
    }
   ],
   "source": [
    "offensive_scores[\"score\"].mean() * 100"
   ]
  },
  {
   "cell_type": "code",
   "execution_count": 120,
   "metadata": {},
   "outputs": [],
   "source": [
    "#Longest Quotes\n",
    "longest_model = pd.read_csv('/home/ada/humor/data/stand_up_dataset/longest_quotes.csv')"
   ]
  },
  {
   "cell_type": "code",
   "execution_count": 121,
   "metadata": {},
   "outputs": [
    {
     "data": {
      "text/plain": [
       "comedian\n",
       "Ali_Wong              0.047857\n",
       "Ali_Wong_2            0.046875\n",
       "Anthony_Jeselnik      0.071429\n",
       "Anthony_Jeselnik_2    0.000000\n",
       "Chelsea_Peretti       0.021429\n",
       "Chelsea_Peretti_2     0.007639\n",
       "Donald_Glover         0.000000\n",
       "Donald_Glover_2       0.020556\n",
       "Hasan_Minhaj          0.000000\n",
       "Hasan_Minhaj_2        0.033333\n",
       "Iliza_Shlesinger      0.006633\n",
       "Iliza_Shlesinger_2    0.000000\n",
       "Jim_Gaffigan          0.019531\n",
       "Jim_Gaffigan_2        0.012143\n",
       "Jimmy_Yang            0.025694\n",
       "Jimmy_Yang_2          0.040625\n",
       "Joe_List              0.000000\n",
       "Joe_List_2            0.000000\n",
       "John_Mulaney          0.041667\n",
       "John_Mulaney_2        0.013221\n",
       "Louis_CK              0.020313\n",
       "Louis_CK_2            0.041667\n",
       "Nate_Bargatze         0.002976\n",
       "Nate_Bargatze_2       0.001339\n",
       "Nate_Bargatze_TK      0.011905\n",
       "Nate_Bargatze_TK_2    0.018750\n",
       "Russell_Peters        0.084375\n",
       "Russell_Peters_2      0.047143\n",
       "Sam_Morril            0.011555\n",
       "Sam_Morril_2          0.016111\n",
       "Tom_Segura            0.020000\n",
       "Tom_Segura_2          0.065000\n",
       "Trevor_Noah           0.017500\n",
       "Trevor_Noah_2         0.031250\n",
       "Name: score, dtype: float64"
      ]
     },
     "execution_count": 121,
     "metadata": {},
     "output_type": "execute_result"
    }
   ],
   "source": [
    "longest_scores = vector_base(longest_model, ground_truth)\n",
    "longest_scores.groupby(\"comedian\")[\"score\"].mean()"
   ]
  },
  {
   "cell_type": "code",
   "execution_count": 122,
   "metadata": {},
   "outputs": [
    {
     "data": {
      "text/plain": [
       "1.9267515923566878"
      ]
     },
     "execution_count": 122,
     "metadata": {},
     "output_type": "execute_result"
    }
   ],
   "source": [
    "longest_scores[\"score\"].mean() * 100"
   ]
  },
  {
   "cell_type": "code",
   "execution_count": 123,
   "metadata": {},
   "outputs": [
    {
     "data": {
      "text/plain": [
       "comedian\n",
       "Ali_Wong              0.020556\n",
       "Ali_Wong_2            0.071875\n",
       "Anthony_Jeselnik      0.071429\n",
       "Anthony_Jeselnik_2    0.000000\n",
       "Chelsea_Peretti       0.016667\n",
       "Chelsea_Peretti_2     0.007639\n",
       "Donald_Glover         0.000000\n",
       "Donald_Glover_2       0.020556\n",
       "Hasan_Minhaj          0.000000\n",
       "Hasan_Minhaj_2        0.033333\n",
       "Iliza_Shlesinger      0.010714\n",
       "Iliza_Shlesinger_2    0.000000\n",
       "Jim_Gaffigan          0.014063\n",
       "Jim_Gaffigan_2        0.012143\n",
       "Jimmy_Yang            0.060833\n",
       "Jimmy_Yang_2          0.032500\n",
       "Joe_List              0.004167\n",
       "Joe_List_2            0.000000\n",
       "John_Mulaney          0.040556\n",
       "John_Mulaney_2        0.014011\n",
       "Louis_CK              0.020313\n",
       "Louis_CK_2            0.043750\n",
       "Nate_Bargatze         0.003571\n",
       "Nate_Bargatze_2       0.001339\n",
       "Nate_Bargatze_TK      0.011905\n",
       "Nate_Bargatze_TK_2    0.000000\n",
       "Russell_Peters        0.043056\n",
       "Russell_Peters_2      0.058929\n",
       "Sam_Morril            0.012185\n",
       "Sam_Morril_2          0.000000\n",
       "Tom_Segura            0.018750\n",
       "Tom_Segura_2          0.015000\n",
       "Trevor_Noah           0.017500\n",
       "Trevor_Noah_2         0.031250\n",
       "Name: score, dtype: float64"
      ]
     },
     "execution_count": 123,
     "metadata": {},
     "output_type": "execute_result"
    }
   ],
   "source": [
    "#Shortest\n",
    "shortest_model = pd.read_csv('/home/ada/humor/data/stand_up_dataset/shortest_quotes.csv')\n",
    "shortest_scores = vector_base(shortest_model, ground_truth)\n",
    "shortest_scores.groupby(\"comedian\")[\"score\"].mean()"
   ]
  },
  {
   "cell_type": "code",
   "execution_count": 124,
   "metadata": {},
   "outputs": [
    {
     "data": {
      "text/plain": [
       "1.790902140672783"
      ]
     },
     "execution_count": 124,
     "metadata": {},
     "output_type": "execute_result"
    }
   ],
   "source": [
    "shortest_scores[\"score\"].mean() * 100"
   ]
  },
  {
   "cell_type": "code",
   "execution_count": 125,
   "metadata": {},
   "outputs": [
    {
     "data": {
      "text/plain": [
       "comedian\n",
       "Ali_Wong              0.041667\n",
       "Ali_Wong_2            0.021250\n",
       "Anthony_Jeselnik      0.034821\n",
       "Anthony_Jeselnik_2    0.080556\n",
       "Chelsea_Peretti       0.015000\n",
       "Chelsea_Peretti_2     0.031250\n",
       "Donald_Glover         0.000000\n",
       "Donald_Glover_2       0.020556\n",
       "Hasan_Minhaj          0.000000\n",
       "Hasan_Minhaj_2        0.038333\n",
       "Iliza_Shlesinger      0.052381\n",
       "Iliza_Shlesinger_2    0.000000\n",
       "Jim_Gaffigan          0.010156\n",
       "Jim_Gaffigan_2        0.011429\n",
       "Jimmy_Yang            0.015625\n",
       "Jimmy_Yang_2          0.070312\n",
       "Joe_List              0.000000\n",
       "Joe_List_2            0.000000\n",
       "John_Mulaney          0.040278\n",
       "John_Mulaney_2        0.013221\n",
       "Louis_CK              0.004167\n",
       "Louis_CK_2            0.046429\n",
       "Nate_Bargatze         0.017857\n",
       "Nate_Bargatze_2       0.001339\n",
       "Nate_Bargatze_TK      0.017857\n",
       "Nate_Bargatze_TK_2    0.030833\n",
       "Russell_Peters        0.077083\n",
       "Russell_Peters_2      0.038690\n",
       "Sam_Morril            0.015336\n",
       "Sam_Morril_2          0.005093\n",
       "Tom_Segura            0.020000\n",
       "Tom_Segura_2          0.000000\n",
       "Trevor_Noah           0.014583\n",
       "Trevor_Noah_2         0.009167\n",
       "Name: score, dtype: float64"
      ]
     },
     "execution_count": 125,
     "metadata": {},
     "output_type": "execute_result"
    }
   ],
   "source": [
    "#Absurd Model\n",
    "absurd_model = pd.read_csv('/home/ada/humor/data/stand_up_dataset/absurd_quotes.csv')\n",
    "absurd_scores = vector_base(absurd_model, ground_truth)\n",
    "absurd_scores.groupby(\"comedian\")[\"score\"].mean()"
   ]
  },
  {
   "cell_type": "code",
   "execution_count": 126,
   "metadata": {},
   "outputs": [
    {
     "data": {
      "text/plain": [
       "1.8719512195121955"
      ]
     },
     "execution_count": 126,
     "metadata": {},
     "output_type": "execute_result"
    }
   ],
   "source": [
    "absurd_scores[\"score\"].mean() * 100"
   ]
  },
  {
   "cell_type": "code",
   "execution_count": 127,
   "metadata": {},
   "outputs": [
    {
     "data": {
      "text/plain": [
       "comedian\n",
       "Ali_Wong              0.023750\n",
       "Ali_Wong_2            0.019792\n",
       "Anthony_Jeselnik      0.027857\n",
       "Anthony_Jeselnik_2    0.080556\n",
       "Chelsea_Peretti       0.021667\n",
       "Chelsea_Peretti_2     0.045000\n",
       "Donald_Glover         0.000000\n",
       "Donald_Glover_2       0.020556\n",
       "Hasan_Minhaj          0.000000\n",
       "Hasan_Minhaj_2        0.047917\n",
       "Iliza_Shlesinger      0.010714\n",
       "Iliza_Shlesinger_2    0.000000\n",
       "Jim_Gaffigan          0.010156\n",
       "Jim_Gaffigan_2        0.015000\n",
       "Jimmy_Yang            0.020833\n",
       "Jimmy_Yang_2          0.070312\n",
       "Joe_List              0.000000\n",
       "Joe_List_2            0.000000\n",
       "John_Mulaney          0.040278\n",
       "John_Mulaney_2        0.012260\n",
       "Louis_CK              0.004687\n",
       "Louis_CK_2            0.046429\n",
       "Nate_Bargatze         0.003571\n",
       "Nate_Bargatze_2       0.006696\n",
       "Nate_Bargatze_TK      0.029286\n",
       "Nate_Bargatze_TK_2    0.051389\n",
       "Russell_Peters        0.084375\n",
       "Russell_Peters_2      0.044286\n",
       "Sam_Morril            0.006618\n",
       "Sam_Morril_2          0.005729\n",
       "Tom_Segura            0.016875\n",
       "Tom_Segura_2          0.000000\n",
       "Trevor_Noah           0.021875\n",
       "Trevor_Noah_2         0.000694\n",
       "Name: score, dtype: float64"
      ]
     },
     "execution_count": 127,
     "metadata": {},
     "output_type": "execute_result"
    }
   ],
   "source": [
    "#Absurd Model\n",
    "boring_model = pd.read_csv('/home/ada/humor/data/stand_up_dataset/boring_quotes.csv')\n",
    "boring_scores = vector_base(boring_model, ground_truth)\n",
    "boring_scores.groupby(\"comedian\")[\"score\"].mean()"
   ]
  },
  {
   "cell_type": "code",
   "execution_count": 128,
   "metadata": {},
   "outputs": [
    {
     "data": {
      "text/plain": [
       "1.7624900872323552"
      ]
     },
     "execution_count": 128,
     "metadata": {},
     "output_type": "execute_result"
    }
   ],
   "source": [
    "boring_scores[\"score\"].mean() * 100"
   ]
  },
  {
   "cell_type": "code",
   "execution_count": 129,
   "metadata": {},
   "outputs": [
    {
     "data": {
      "text/plain": [
       "comedian\n",
       "Ali_Wong              0.063333\n",
       "Ali_Wong_2            0.079167\n",
       "Anthony_Jeselnik      0.032143\n",
       "Anthony_Jeselnik_2    0.083333\n",
       "Chelsea_Peretti       0.005000\n",
       "Chelsea_Peretti_2     0.007639\n",
       "Donald_Glover         0.000000\n",
       "Donald_Glover_2       0.008333\n",
       "Hasan_Minhaj          0.002857\n",
       "Hasan_Minhaj_2        0.038333\n",
       "Iliza_Shlesinger      0.052381\n",
       "Iliza_Shlesinger_2    0.000000\n",
       "Jim_Gaffigan          0.014063\n",
       "Jim_Gaffigan_2        0.000893\n",
       "Jimmy_Yang            0.000000\n",
       "Jimmy_Yang_2          0.070312\n",
       "Joe_List              0.000000\n",
       "Joe_List_2            0.000000\n",
       "John_Mulaney          0.030000\n",
       "John_Mulaney_2        0.001923\n",
       "Louis_CK              0.023333\n",
       "Louis_CK_2            0.000000\n",
       "Nate_Bargatze         0.000000\n",
       "Nate_Bargatze_2       0.002500\n",
       "Nate_Bargatze_TK      0.000595\n",
       "Nate_Bargatze_TK_2    0.000000\n",
       "Russell_Peters        0.051389\n",
       "Russell_Peters_2      0.054762\n",
       "Sam_Morril            0.017892\n",
       "Sam_Morril_2          0.019722\n",
       "Tom_Segura            0.038333\n",
       "Tom_Segura_2          0.075000\n",
       "Trevor_Noah           0.014583\n",
       "Trevor_Noah_2         0.023958\n",
       "Name: score, dtype: float64"
      ]
     },
     "execution_count": 129,
     "metadata": {},
     "output_type": "execute_result"
    }
   ],
   "source": [
    "#Gemma Funny2 Model\n",
    "gemma2_model = pd.read_csv('/home/ada/humor/data/stand_up_dataset/gemma_funny2_quotes.csv')\n",
    "gemma2_scores = vector_base(gemma2_model, ground_truth)\n",
    "gemma2_scores.groupby(\"comedian\")[\"score\"].mean()"
   ]
  },
  {
   "cell_type": "code",
   "execution_count": 130,
   "metadata": {},
   "outputs": [
    {
     "data": {
      "text/plain": [
       "1.9252336448598133"
      ]
     },
     "execution_count": 130,
     "metadata": {},
     "output_type": "execute_result"
    }
   ],
   "source": [
    "gemma2_scores[\"score\"].mean() * 100"
   ]
  },
  {
   "cell_type": "markdown",
   "metadata": {},
   "source": [
    "### Other Models"
   ]
  },
  {
   "cell_type": "markdown",
   "metadata": {},
   "source": [
    "#### Phi3 Mini"
   ]
  },
  {
   "cell_type": "code",
   "execution_count": 131,
   "metadata": {},
   "outputs": [
    {
     "data": {
      "text/plain": [
       "comedian\n",
       "Ali_Wong              0.063333\n",
       "Ali_Wong_2            0.079167\n",
       "Anthony_Jeselnik      0.032143\n",
       "Anthony_Jeselnik_2    0.083333\n",
       "Chelsea_Peretti       0.005000\n",
       "Chelsea_Peretti_2     0.007639\n",
       "Donald_Glover         0.000000\n",
       "Donald_Glover_2       0.008333\n",
       "Hasan_Minhaj          0.002857\n",
       "Hasan_Minhaj_2        0.038333\n",
       "Iliza_Shlesinger      0.052381\n",
       "Iliza_Shlesinger_2    0.000000\n",
       "Jim_Gaffigan          0.014063\n",
       "Jim_Gaffigan_2        0.000893\n",
       "Jimmy_Yang            0.000000\n",
       "Jimmy_Yang_2          0.070312\n",
       "Joe_List              0.000000\n",
       "Joe_List_2            0.000000\n",
       "John_Mulaney          0.030000\n",
       "John_Mulaney_2        0.001923\n",
       "Louis_CK              0.023333\n",
       "Louis_CK_2            0.000000\n",
       "Nate_Bargatze         0.000000\n",
       "Nate_Bargatze_2       0.002500\n",
       "Nate_Bargatze_TK      0.000595\n",
       "Nate_Bargatze_TK_2    0.000000\n",
       "Russell_Peters        0.051389\n",
       "Russell_Peters_2      0.054762\n",
       "Sam_Morril            0.017892\n",
       "Sam_Morril_2          0.019722\n",
       "Tom_Segura            0.038333\n",
       "Tom_Segura_2          0.075000\n",
       "Trevor_Noah           0.014583\n",
       "Trevor_Noah_2         0.023958\n",
       "Name: score, dtype: float64"
      ]
     },
     "execution_count": 131,
     "metadata": {},
     "output_type": "execute_result"
    }
   ],
   "source": [
    "#Gemma Funny2 Model\n",
    "phi_mini_model = pd.read_csv('/home/ada/humor/data/stand_up_dataset/gemma_funny2_quotes.csv')\n",
    "phi_mini_scores = vector_base(phi_mini_model, ground_truth)\n",
    "phi_mini_scores.groupby(\"comedian\")[\"score\"].mean()"
   ]
  },
  {
   "cell_type": "code",
   "execution_count": 132,
   "metadata": {},
   "outputs": [
    {
     "data": {
      "text/plain": [
       "1.9252336448598133"
      ]
     },
     "execution_count": 132,
     "metadata": {},
     "output_type": "execute_result"
    }
   ],
   "source": [
    "phi_mini_scores[\"score\"].mean() * 100"
   ]
  },
  {
   "cell_type": "markdown",
   "metadata": {},
   "source": [
    "## Distribution"
   ]
  },
  {
   "cell_type": "code",
   "execution_count": 133,
   "metadata": {},
   "outputs": [
    {
     "name": "stderr",
     "output_type": "stream",
     "text": [
      "/home/ada/humor/.venv/lib/python3.8/site-packages/tqdm/auto.py:21: TqdmWarning: IProgress not found. Please update jupyter and ipywidgets. See https://ipywidgets.readthedocs.io/en/stable/user_install.html\n",
      "  from .autonotebook import tqdm as notebook_tqdm\n"
     ]
    }
   ],
   "source": [
    "import seaborn as sns\n",
    "import torch\n",
    "import pandas as pd"
   ]
  },
  {
   "cell_type": "code",
   "execution_count": 134,
   "metadata": {},
   "outputs": [],
   "source": [
    "gemma = gemma_scores.assign(model=\"gemma\") \n",
    "brute = brute_scores.assign(model=\"brute\") \n",
    "best_rep = best_rep_scores.assign(model=\"best_rep\") \n",
    "random = gemma_random_scores.assign(model=\"random\") \n",
    "phi = phi_mini_scores.assign(model=\"phi\")\n",
    "offensive = offensive_scores.assign(model=\"offensive\")\n",
    "longest = longest_scores.assign(model=\"longest\")\n",
    "shortest = shortest_scores.assign(model=\"shortest\")"
   ]
  },
  {
   "cell_type": "code",
   "execution_count": 155,
   "metadata": {},
   "outputs": [
    {
     "data": {
      "text/html": [
       "<div>\n",
       "<style scoped>\n",
       "    .dataframe tbody tr th:only-of-type {\n",
       "        vertical-align: middle;\n",
       "    }\n",
       "\n",
       "    .dataframe tbody tr th {\n",
       "        vertical-align: top;\n",
       "    }\n",
       "\n",
       "    .dataframe thead th {\n",
       "        text-align: right;\n",
       "    }\n",
       "</style>\n",
       "<table border=\"1\" class=\"dataframe\">\n",
       "  <thead>\n",
       "    <tr style=\"text-align: right;\">\n",
       "      <th></th>\n",
       "      <th>comedian</th>\n",
       "      <th>model</th>\n",
       "      <th>truth</th>\n",
       "      <th>score</th>\n",
       "    </tr>\n",
       "  </thead>\n",
       "  <tbody>\n",
       "    <tr>\n",
       "      <th>0</th>\n",
       "      <td>Donald_Glover</td>\n",
       "      <td>gemma</td>\n",
       "      <td>He wasn't crying. Just tears, he was giving me...</td>\n",
       "      <td>0.000</td>\n",
       "    </tr>\n",
       "    <tr>\n",
       "      <th>1</th>\n",
       "      <td>Donald_Glover</td>\n",
       "      <td>gemma</td>\n",
       "      <td>He wasn't crying. Just tears, he was giving me...</td>\n",
       "      <td>0.000</td>\n",
       "    </tr>\n",
       "    <tr>\n",
       "      <th>2</th>\n",
       "      <td>Donald_Glover</td>\n",
       "      <td>gemma</td>\n",
       "      <td>He wasn't crying. Just tears, he was giving me...</td>\n",
       "      <td>0.000</td>\n",
       "    </tr>\n",
       "    <tr>\n",
       "      <th>3</th>\n",
       "      <td>Donald_Glover</td>\n",
       "      <td>gemma</td>\n",
       "      <td>He would... The sweetest thing he was allowed ...</td>\n",
       "      <td>0.000</td>\n",
       "    </tr>\n",
       "    <tr>\n",
       "      <th>4</th>\n",
       "      <td>Donald_Glover</td>\n",
       "      <td>gemma</td>\n",
       "      <td>He would... The sweetest thing he was allowed ...</td>\n",
       "      <td>0.125</td>\n",
       "    </tr>\n",
       "    <tr>\n",
       "      <th>...</th>\n",
       "      <td>...</td>\n",
       "      <td>...</td>\n",
       "      <td>...</td>\n",
       "      <td>...</td>\n",
       "    </tr>\n",
       "    <tr>\n",
       "      <th>4390</th>\n",
       "      <td>Tom_Segura_2</td>\n",
       "      <td>offensive</td>\n",
       "      <td>And then you see it close, and you're like...</td>\n",
       "      <td>0.000</td>\n",
       "    </tr>\n",
       "    <tr>\n",
       "      <th>4391</th>\n",
       "      <td>Tom_Segura_2</td>\n",
       "      <td>offensive</td>\n",
       "      <td>Sometimes, a second later it opens, and you're...</td>\n",
       "      <td>0.000</td>\n",
       "    </tr>\n",
       "    <tr>\n",
       "      <th>4392</th>\n",
       "      <td>Tom_Segura_2</td>\n",
       "      <td>offensive</td>\n",
       "      <td>Sometimes, a second later it opens, and you're...</td>\n",
       "      <td>0.000</td>\n",
       "    </tr>\n",
       "    <tr>\n",
       "      <th>4393</th>\n",
       "      <td>Tom_Segura_2</td>\n",
       "      <td>offensive</td>\n",
       "      <td>Sometimes, a second later it opens, and you're...</td>\n",
       "      <td>0.850</td>\n",
       "    </tr>\n",
       "    <tr>\n",
       "      <th>4394</th>\n",
       "      <td>Tom_Segura_2</td>\n",
       "      <td>offensive</td>\n",
       "      <td>Sometimes, a second later it opens, and you're...</td>\n",
       "      <td>0.000</td>\n",
       "    </tr>\n",
       "  </tbody>\n",
       "</table>\n",
       "<p>4395 rows × 4 columns</p>\n",
       "</div>"
      ],
      "text/plain": [
       "           comedian      model  \\\n",
       "0     Donald_Glover      gemma   \n",
       "1     Donald_Glover      gemma   \n",
       "2     Donald_Glover      gemma   \n",
       "3     Donald_Glover      gemma   \n",
       "4     Donald_Glover      gemma   \n",
       "...             ...        ...   \n",
       "4390   Tom_Segura_2  offensive   \n",
       "4391   Tom_Segura_2  offensive   \n",
       "4392   Tom_Segura_2  offensive   \n",
       "4393   Tom_Segura_2  offensive   \n",
       "4394   Tom_Segura_2  offensive   \n",
       "\n",
       "                                                  truth  score  \n",
       "0     He wasn't crying. Just tears, he was giving me...  0.000  \n",
       "1     He wasn't crying. Just tears, he was giving me...  0.000  \n",
       "2     He wasn't crying. Just tears, he was giving me...  0.000  \n",
       "3     He would... The sweetest thing he was allowed ...  0.000  \n",
       "4     He would... The sweetest thing he was allowed ...  0.125  \n",
       "...                                                 ...    ...  \n",
       "4390      And then you see it close, and you're like...  0.000  \n",
       "4391  Sometimes, a second later it opens, and you're...  0.000  \n",
       "4392  Sometimes, a second later it opens, and you're...  0.000  \n",
       "4393  Sometimes, a second later it opens, and you're...  0.850  \n",
       "4394  Sometimes, a second later it opens, and you're...  0.000  \n",
       "\n",
       "[4395 rows x 4 columns]"
      ]
     },
     "execution_count": 155,
     "metadata": {},
     "output_type": "execute_result"
    }
   ],
   "source": [
    "df = pd.concat([gemma, best_rep, phi, offensive]).reset_index(drop=True)\n",
    "\n",
    "df"
   ]
  },
  {
   "cell_type": "code",
   "execution_count": 148,
   "metadata": {},
   "outputs": [],
   "source": [
    "df = df.groupby([\"comedian\", \"model\", \"truth\"])[\"score\"].max().reset_index()"
   ]
  },
  {
   "cell_type": "code",
   "execution_count": 154,
   "metadata": {},
   "outputs": [
    {
     "data": {
      "text/plain": [
       "<seaborn.axisgrid.FacetGrid at 0x7f83c3e9eb50>"
      ]
     },
     "execution_count": 154,
     "metadata": {},
     "output_type": "execute_result"
    },
    {
     "data": {
      "image/png": "[encoded data removed]",
      "text/plain": [
       "<Figure size 606.75x500 with 1 Axes>"
      ]
     },
     "metadata": {},
     "output_type": "display_data"
    }
   ],
   "source": [
    "sns.displot(df, x=\"score\", hue=\"model\", kind=\"hist\", shrink=1, multiple=\"dodge\")"
   ]
  },
  {
   "cell_type": "code",
   "execution_count": 138,
   "metadata": {},
   "outputs": [],
   "source": [
    "df = pd.concat([gemma, brute, random, longest, shortesth]).reset_index(drop=True)"
   ]
  },
  {
   "cell_type": "code",
   "execution_count": 139,
   "metadata": {},
   "outputs": [
    {
     "data": {
      "text/plain": [
       "<seaborn.axisgrid.FacetGrid at 0x7f845353dac0>"
      ]
     },
     "execution_count": 139,
     "metadata": {},
     "output_type": "execute_result"
    },
    {
     "data": {
      "image/png": "[encoded data removed]",
      "text/plain": [
       "<Figure size 606.75x500 with 1 Axes>"
      ]
     },
     "metadata": {},
     "output_type": "display_data"
    }
   ],
   "source": [
    "sns.displot(df, x=\"score\", hue=\"model\", kind=\"kde\")"
   ]
  },
  {
   "cell_type": "markdown",
   "metadata": {},
   "source": [
    "## Using Bert Score"
   ]
  },
  {
   "cell_type": "code",
   "execution_count": 140,
   "metadata": {},
   "outputs": [],
   "source": [
    "from transformers import BertTokenizer, BertForMaskedLM, BertModel\n",
    "from bert_score import BERTScorer"
   ]
  },
  {
   "cell_type": "code",
   "execution_count": 141,
   "metadata": {},
   "outputs": [
    {
     "name": "stdout",
     "output_type": "stream",
     "text": [
      "BERTScore Precision: 0.4289, Recall: 0.4188, F1: 0.4238\n"
     ]
    }
   ],
   "source": [
    "reference = \"He wasn't crying. Just tears, he was giving me this mean mug, he was like...\"\n",
    "candidate = \"he sweetest thing he was allowed was mints. He was just allowed to have mints.\"\n",
    "scorer = BERTScorer(model_type='bert-base-uncased')\n",
    "P, R, F1 = scorer.score([candidate], [reference])\n",
    "print(f\"BERTScore Precision: {P.mean():.4f}, Recall: {R.mean():.4f}, F1: {F1.mean():.4f}\")"
   ]
  },
  {
   "cell_type": "code",
   "execution_count": 142,
   "metadata": {},
   "outputs": [],
   "source": [
    "from bert_score import BERTScorer\n",
    "\n",
    "scorer = BERTScorer(model_type='bert-base-uncased')\n",
    "\n",
    "def compute_bert_score(reference, candidate):\n",
    "    P, R, F1 = scorer.score([candidate], [reference])\n",
    "    return P.mean()"
   ]
  },
  {
   "cell_type": "code",
   "execution_count": 143,
   "metadata": {},
   "outputs": [],
   "source": [
    "def vector_base(model_answers, ground_truth):    \n",
    "    scores = model_answers.apply(\n",
    "        lambda row_model: ground_truth.apply(\n",
    "            lambda row_truth: \n",
    "                compute_bert_score(row_truth[\"sentence\"], row_model[\"sentence\"]) \n",
    "                if row_model[\"comedian\"] == row_truth[\"comedian\"] \n",
    "                else None,\n",
    "        axis=1),\n",
    "    axis=1) \\\n",
    "        .melt(ignore_index=False) \\\n",
    "        .dropna() \\\n",
    "        .reset_index() \\\n",
    "        .join(model_answers[\"sentence\"], on=\"index\") \\\n",
    "        .rename(columns={\"sentence\": \"model\"}) \\\n",
    "        .join(ground_truth, on=\"variable\") \\\n",
    "        .rename(columns={\"sentence\": \"truth\", \"value\": \"score\"})\n",
    "        \n",
    "    scores = scores[[\"comedian\", \"model\", \"truth\", \"score\"]]\n",
    "    \n",
    "    return scores"
   ]
  }
 ],
 "metadata": {
  "kernelspec": {
   "display_name": "Python 3",
   "language": "python",
   "name": "python3"
  },
  "language_info": {
   "codemirror_mode": {
    "name": "ipython",
    "version": 3
   },
   "file_extension": ".py",
   "mimetype": "text/x-python",
   "name": "python",
   "nbconvert_exporter": "python",
   "pygments_lexer": "ipython3",
   "version": "3.8.10"
  }
 },
 "nbformat": 4,
 "nbformat_minor": 2
}
