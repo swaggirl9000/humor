{
 "cells": [
  {
   "cell_type": "markdown",
   "metadata": {},
   "source": [
    "# LLM humor detection with Subspace based metric"
   ]
  },
  {
   "cell_type": "code",
   "execution_count": 1,
   "metadata": {},
   "outputs": [
    {
     "data": {
      "application/vnd.jupyter.widget-view+json": {
       "model_id": "09910475fea44a7b8a71a3b997736e87",
       "version_major": 2,
       "version_minor": 0
      },
      "text/plain": [
       "tokenizer_config.json:   0%|          | 0.00/47.0k [00:00<?, ?B/s]"
      ]
     },
     "metadata": {},
     "output_type": "display_data"
    },
    {
     "data": {
      "application/vnd.jupyter.widget-view+json": {
       "model_id": "dcc380f0191e49b5af7039f950f3f19e",
       "version_major": 2,
       "version_minor": 0
      },
      "text/plain": [
       "tokenizer.model:   0%|          | 0.00/4.24M [00:00<?, ?B/s]"
      ]
     },
     "metadata": {},
     "output_type": "display_data"
    },
    {
     "data": {
      "application/vnd.jupyter.widget-view+json": {
       "model_id": "833cf22318d541d3890056b1d1feb30c",
       "version_major": 2,
       "version_minor": 0
      },
      "text/plain": [
       "tokenizer.json:   0%|          | 0.00/17.5M [00:00<?, ?B/s]"
      ]
     },
     "metadata": {},
     "output_type": "display_data"
    },
    {
     "data": {
      "application/vnd.jupyter.widget-view+json": {
       "model_id": "74369214665b448db0166ea0d46a6bd6",
       "version_major": 2,
       "version_minor": 0
      },
      "text/plain": [
       "special_tokens_map.json:   0%|          | 0.00/636 [00:00<?, ?B/s]"
      ]
     },
     "metadata": {},
     "output_type": "display_data"
    },
    {
     "data": {
      "application/vnd.jupyter.widget-view+json": {
       "model_id": "456f7e0969b84606993cbf83edf3d8a0",
       "version_major": 2,
       "version_minor": 0
      },
      "text/plain": [
       "config.json:   0%|          | 0.00/838 [00:00<?, ?B/s]"
      ]
     },
     "metadata": {},
     "output_type": "display_data"
    },
    {
     "data": {
      "application/vnd.jupyter.widget-view+json": {
       "model_id": "621e0f5db7004426abb638a7116cc90f",
       "version_major": 2,
       "version_minor": 0
      },
      "text/plain": [
       "model.safetensors.index.json:   0%|          | 0.00/24.2k [00:00<?, ?B/s]"
      ]
     },
     "metadata": {},
     "output_type": "display_data"
    },
    {
     "data": {
      "application/vnd.jupyter.widget-view+json": {
       "model_id": "2d2b3cbf79224359acf1db339405cb76",
       "version_major": 2,
       "version_minor": 0
      },
      "text/plain": [
       "Downloading shards:   0%|          | 0/2 [00:00<?, ?it/s]"
      ]
     },
     "metadata": {},
     "output_type": "display_data"
    },
    {
     "data": {
      "application/vnd.jupyter.widget-view+json": {
       "model_id": "76d9ff362dcf4c68ac80c1f8a52a6cd5",
       "version_major": 2,
       "version_minor": 0
      },
      "text/plain": [
       "model-00001-of-00002.safetensors:   0%|          | 0.00/4.99G [00:00<?, ?B/s]"
      ]
     },
     "metadata": {},
     "output_type": "display_data"
    },
    {
     "data": {
      "application/vnd.jupyter.widget-view+json": {
       "model_id": "2c06ccef713b46ff97b08205bb9dd0ab",
       "version_major": 2,
       "version_minor": 0
      },
      "text/plain": [
       "model-00002-of-00002.safetensors:   0%|          | 0.00/241M [00:00<?, ?B/s]"
      ]
     },
     "metadata": {},
     "output_type": "display_data"
    },
    {
     "name": "stderr",
     "output_type": "stream",
     "text": [
      "/home/pedro/Documents/humor/.venv/lib/python3.11/site-packages/transformers/generation/configuration_utils.py:777: UserWarning: `return_dict_in_generate` is NOT set to `True`, but `output_hidden_states` is. When `return_dict_in_generate` is not `True`, `output_hidden_states` is ignored.\n",
      "  warnings.warn(\n"
     ]
    },
    {
     "data": {
      "application/vnd.jupyter.widget-view+json": {
       "model_id": "d8e628efd3cc451bbbeeca953ec3dea1",
       "version_major": 2,
       "version_minor": 0
      },
      "text/plain": [
       "Loading checkpoint shards:   0%|          | 0/2 [00:00<?, ?it/s]"
      ]
     },
     "metadata": {},
     "output_type": "display_data"
    },
    {
     "data": {
      "application/vnd.jupyter.widget-view+json": {
       "model_id": "3f64252d649b4358bcdde2dbceddc464",
       "version_major": 2,
       "version_minor": 0
      },
      "text/plain": [
       "generation_config.json:   0%|          | 0.00/187 [00:00<?, ?B/s]"
      ]
     },
     "metadata": {},
     "output_type": "display_data"
    }
   ],
   "source": [
    "from transformers import AutoTokenizer, AutoModelForCausalLM\n",
    "import torch\n",
    "import pandas as pd\n",
    "\n",
    "MODEL_ID = \"google/gemma-2-2b-it\"\n",
    "\n",
    "# Initialize tokenizer and model\n",
    "tokenizer = AutoTokenizer.from_pretrained(MODEL_ID)\n",
    "model = AutoModelForCausalLM.from_pretrained(\n",
    "    MODEL_ID,\n",
    "    device_map=\"cuda:0\",\n",
    "    torch_dtype=torch.bfloat16,\n",
    "    output_hidden_states=True  # Enable hidden states output\n",
    ")"
   ]
  },
  {
   "cell_type": "code",
   "execution_count": 2,
   "metadata": {},
   "outputs": [],
   "source": [
    "ground_truth = pd.read_csv('../data/stand_up_dataset/standup_data.csv')\n",
    "transcript = pd.read_csv('../data/stand_up_dataset/standup_transcripts.csv')"
   ]
  },
  {
   "cell_type": "code",
   "execution_count": 3,
   "metadata": {},
   "outputs": [],
   "source": [
    "INSTRUCTIONS = [\n",
    "    \"Extract the key humorous lines and punchlines for this stand-up comedy transcript. Focus on the quotes highlighting the main comedic moments. List of quotes:\",\n",
    "    \"The following is a stand-up comedy transcript. When performed in front of a live audience, which jokes do you think made the audience laugh?  List of quotes:\",\n",
    "    \"You are a person who enjoys aggressive humor. Extract the key humorous lines and punchlines for this stand-up comedy transcript. Focus on the quotes highlighting the main comedic moments. List of quotes:\",\n",
    "    \"You are a person who enjoys self-enhancing humor. Extract the key humorous lines and punchlines for this stand-up comedy transcript. Focus on the quotes highlighting the main comedic moments. List of quotes:\",\n",
    "    # \"You are a person who enjoys self-deprecating humor. Extract the key humorous lines and punchlines for this stand-up comedy transcript. Focus on the quotes highlighting the main comedic moments. List of quotes:\",\n",
    "    # \"You are a person who enjoys dark humor. Extract the key humorous lines and punchlines for this stand-up comedy transcript. Focus on the quotes highlighting the main comedic moments. List of quotes:\",\n",
    "    # \"You are a person who enjoys affiliative humor. Extract the key humorous lines and punchlines for this stand-up comedy transcript. Focus on the quotes highlighting the main comedic moments. List of quotes:\",\n",
    "    # \"The following is a stand-up comedy transcript. What are the funniest punchlines from the transcript. List of quotes:\",\n",
    "    # \"Below is a transcript from a stand-up comedy routine. Analyze the transcript and extract the quotes that are most likely to have made the audience laugh. List of quotes:\",\n",
    "    # \"The following is a stand-up comedy transcript. When preformed in front of a live audience, which jokes do you think made the audience laugh? List of quotes:\",\n",
    "    # \"Pretend that you are a stand-up comedian reading the following stand-up comedy transcript. Focus on the quotes highlighting the main comedic moments. List of quotes:\",\n",
    "    # \"Pretend that you are a stand-up comedy fan reading the following stand-up comedy transcript. Focus on the quotes highlighting the main comedic moments. List of quotes:\",\n",
    "    # \"Pretend that you are a stand-up comedy critic reading the following stand-up comedy transcript. Focus on the quotes highlighting the main comedic moments. List of quotes:\",\n",
    "    #\"Analyze the stand-up comedy transcript below. Which lines and punchlines do you think delivered the biggest laughs to the audience? List of quotes:\", \n",
    "    #\"As a person who enjoys witty, intellectual humor, extract the key humorous lines and punchlines from this stand-up comedy transcript. Focus on the quotes that demonstrate clever wordplay or insights. List of quotes:\",\n",
    "    #\"This is a transcript from a stand-up routine. Identify the lines and punchlines that likely had the strongest comedic impact during the performance. List of quotes:\",\n",
    "    #\"Pretend you're an audience member at this stand-up show. Which lines do you think got the biggest laughs? Focus on key moments of humor. List of quotes:\",\n",
    "    #\"This is a transcript of a live stand-up performance. Which quotes do you believe would have resonated the most with the audience? Focus on key punchlines. List of quotes:\",\n",
    "    #\"Imagine you are a comedian reviewing this stand-up routine. Identify the funniest moments and lines where the punchlines landed the hardest. List of quotes:\",\n",
    "    #\"Read through the stand-up comedy transcript and extract the lines that best capture the humor and timing of the performance. Focus on punchlines that likely had the audience laughing. List of quotes:\",\n",
    "    #\"This is a stand-up comedy transcript. Analyze the content and extract the lines that most effectively build up to or deliver punchlines. List of quotes:\",\n",
    "    #\"Pretend you're watching this performance live. What do you think were the standout comedic lines and punchlines that elicited the loudest laughs? List of quotes:\",\n",
    "    #\"Imagine you are writing a review of this stand-up performance. What lines and punchlines would you highlight as the funniest moments? List of quotes:\"\n",
    "]\n",
    "\n",
    "CONTENTS = [\n",
    "    \"\",\n",
    "    \"Sure, here are the key humorous lines:\",\n",
    "    \"Here are some lines and punchlines that could be funny:\",\n",
    "    \"Got it! Here are the main punchlines and comedic highlights:\",\n",
    "    # \"Here's a selection of the funniest quotes from the transcript:\",\n",
    "    # \"I've picked out the key humorous moments for you:\",\n",
    "    # \"Below are the standout lines and punchlines from the performance:\",\n",
    "    # \"Here's a breakdown of the top quotes that likely got the biggest laughs:\",\n",
    "    # \"Take a look at these key comedic lines from the routine:\",\n",
    "    # \"Here's a list of the most memorable punchlines from the set:\",\n",
    "    # \"Check out these quotes—some of the best comedic moments from the transcript:\",\n",
    "    # \"Here are the funniest moments and punchlines I found in the transcript:\",\n",
    "    # \"Here's what I've identified as the standout lines and punchlines in this comedy routine:\" \n",
    "]"
   ]
  },
  {
   "cell_type": "code",
   "execution_count": 4,
   "metadata": {},
   "outputs": [
    {
     "data": {
      "text/html": [
       "<div>\n",
       "<style scoped>\n",
       "    .dataframe tbody tr th:only-of-type {\n",
       "        vertical-align: middle;\n",
       "    }\n",
       "\n",
       "    .dataframe tbody tr th {\n",
       "        vertical-align: top;\n",
       "    }\n",
       "\n",
       "    .dataframe thead th {\n",
       "        text-align: right;\n",
       "    }\n",
       "</style>\n",
       "<table border=\"1\" class=\"dataframe\">\n",
       "  <thead>\n",
       "    <tr style=\"text-align: right;\">\n",
       "      <th></th>\n",
       "      <th>transcript</th>\n",
       "      <th>ground_truth</th>\n",
       "      <th>instruction</th>\n",
       "      <th>content</th>\n",
       "      <th>gt_input</th>\n",
       "      <th>model_input</th>\n",
       "    </tr>\n",
       "    <tr>\n",
       "      <th>comedian</th>\n",
       "      <th></th>\n",
       "      <th></th>\n",
       "      <th></th>\n",
       "      <th></th>\n",
       "      <th></th>\n",
       "      <th></th>\n",
       "    </tr>\n",
       "  </thead>\n",
       "  <tbody>\n",
       "    <tr>\n",
       "      <th>Anthony_Jeselnik</th>\n",
       "      <td>When I was a kid, I used to fantasize about ge...</td>\n",
       "      <td>1. So poor I remember, just so I could go to m...</td>\n",
       "      <td>Extract the key humorous lines and punchlines ...</td>\n",
       "      <td></td>\n",
       "      <td>&lt;bos&gt;&lt;start_of_turn&gt;user\\nExtract the key humo...</td>\n",
       "      <td>&lt;bos&gt;&lt;start_of_turn&gt;user\\nExtract the key humo...</td>\n",
       "    </tr>\n",
       "    <tr>\n",
       "      <th>Anthony_Jeselnik</th>\n",
       "      <td>When I was a kid, I used to fantasize about ge...</td>\n",
       "      <td>1. So poor I remember, just so I could go to m...</td>\n",
       "      <td>Extract the key humorous lines and punchlines ...</td>\n",
       "      <td>Sure, here are the key humorous lines:</td>\n",
       "      <td>&lt;bos&gt;&lt;start_of_turn&gt;user\\nExtract the key humo...</td>\n",
       "      <td>&lt;bos&gt;&lt;start_of_turn&gt;user\\nExtract the key humo...</td>\n",
       "    </tr>\n",
       "    <tr>\n",
       "      <th>Anthony_Jeselnik</th>\n",
       "      <td>When I was a kid, I used to fantasize about ge...</td>\n",
       "      <td>1. So poor I remember, just so I could go to m...</td>\n",
       "      <td>Extract the key humorous lines and punchlines ...</td>\n",
       "      <td>Here are some lines and punchlines that could ...</td>\n",
       "      <td>&lt;bos&gt;&lt;start_of_turn&gt;user\\nExtract the key humo...</td>\n",
       "      <td>&lt;bos&gt;&lt;start_of_turn&gt;user\\nExtract the key humo...</td>\n",
       "    </tr>\n",
       "    <tr>\n",
       "      <th>Anthony_Jeselnik</th>\n",
       "      <td>When I was a kid, I used to fantasize about ge...</td>\n",
       "      <td>1. So poor I remember, just so I could go to m...</td>\n",
       "      <td>Extract the key humorous lines and punchlines ...</td>\n",
       "      <td>Got it! Here are the main punchlines and comed...</td>\n",
       "      <td>&lt;bos&gt;&lt;start_of_turn&gt;user\\nExtract the key humo...</td>\n",
       "      <td>&lt;bos&gt;&lt;start_of_turn&gt;user\\nExtract the key humo...</td>\n",
       "    </tr>\n",
       "    <tr>\n",
       "      <th>Anthony_Jeselnik</th>\n",
       "      <td>When I was a kid, I used to fantasize about ge...</td>\n",
       "      <td>1. So poor I remember, just so I could go to m...</td>\n",
       "      <td>The following is a stand-up comedy transcript....</td>\n",
       "      <td></td>\n",
       "      <td>&lt;bos&gt;&lt;start_of_turn&gt;user\\nThe following is a s...</td>\n",
       "      <td>&lt;bos&gt;&lt;start_of_turn&gt;user\\nThe following is a s...</td>\n",
       "    </tr>\n",
       "    <tr>\n",
       "      <th>...</th>\n",
       "      <td>...</td>\n",
       "      <td>...</td>\n",
       "      <td>...</td>\n",
       "      <td>...</td>\n",
       "      <td>...</td>\n",
       "      <td>...</td>\n",
       "    </tr>\n",
       "    <tr>\n",
       "      <th>Tom_Segura_3</th>\n",
       "      <td>Probably checked in to 400 hotels this year. A...</td>\n",
       "      <td>1. And the guy goes, “Whoa. Are you Japanese?”...</td>\n",
       "      <td>You are a person who enjoys aggressive humor. ...</td>\n",
       "      <td>Got it! Here are the main punchlines and comed...</td>\n",
       "      <td>&lt;bos&gt;&lt;start_of_turn&gt;user\\nYou are a person who...</td>\n",
       "      <td>&lt;bos&gt;&lt;start_of_turn&gt;user\\nYou are a person who...</td>\n",
       "    </tr>\n",
       "    <tr>\n",
       "      <th>Tom_Segura_3</th>\n",
       "      <td>Probably checked in to 400 hotels this year. A...</td>\n",
       "      <td>1. And the guy goes, “Whoa. Are you Japanese?”...</td>\n",
       "      <td>You are a person who enjoys self-enhancing hum...</td>\n",
       "      <td></td>\n",
       "      <td>&lt;bos&gt;&lt;start_of_turn&gt;user\\nYou are a person who...</td>\n",
       "      <td>&lt;bos&gt;&lt;start_of_turn&gt;user\\nYou are a person who...</td>\n",
       "    </tr>\n",
       "    <tr>\n",
       "      <th>Tom_Segura_3</th>\n",
       "      <td>Probably checked in to 400 hotels this year. A...</td>\n",
       "      <td>1. And the guy goes, “Whoa. Are you Japanese?”...</td>\n",
       "      <td>You are a person who enjoys self-enhancing hum...</td>\n",
       "      <td>Sure, here are the key humorous lines:</td>\n",
       "      <td>&lt;bos&gt;&lt;start_of_turn&gt;user\\nYou are a person who...</td>\n",
       "      <td>&lt;bos&gt;&lt;start_of_turn&gt;user\\nYou are a person who...</td>\n",
       "    </tr>\n",
       "    <tr>\n",
       "      <th>Tom_Segura_3</th>\n",
       "      <td>Probably checked in to 400 hotels this year. A...</td>\n",
       "      <td>1. And the guy goes, “Whoa. Are you Japanese?”...</td>\n",
       "      <td>You are a person who enjoys self-enhancing hum...</td>\n",
       "      <td>Here are some lines and punchlines that could ...</td>\n",
       "      <td>&lt;bos&gt;&lt;start_of_turn&gt;user\\nYou are a person who...</td>\n",
       "      <td>&lt;bos&gt;&lt;start_of_turn&gt;user\\nYou are a person who...</td>\n",
       "    </tr>\n",
       "    <tr>\n",
       "      <th>Tom_Segura_3</th>\n",
       "      <td>Probably checked in to 400 hotels this year. A...</td>\n",
       "      <td>1. And the guy goes, “Whoa. Are you Japanese?”...</td>\n",
       "      <td>You are a person who enjoys self-enhancing hum...</td>\n",
       "      <td>Got it! Here are the main punchlines and comed...</td>\n",
       "      <td>&lt;bos&gt;&lt;start_of_turn&gt;user\\nYou are a person who...</td>\n",
       "      <td>&lt;bos&gt;&lt;start_of_turn&gt;user\\nYou are a person who...</td>\n",
       "    </tr>\n",
       "  </tbody>\n",
       "</table>\n",
       "<p>816 rows × 6 columns</p>\n",
       "</div>"
      ],
      "text/plain": [
       "                                                         transcript  \\\n",
       "comedian                                                              \n",
       "Anthony_Jeselnik  When I was a kid, I used to fantasize about ge...   \n",
       "Anthony_Jeselnik  When I was a kid, I used to fantasize about ge...   \n",
       "Anthony_Jeselnik  When I was a kid, I used to fantasize about ge...   \n",
       "Anthony_Jeselnik  When I was a kid, I used to fantasize about ge...   \n",
       "Anthony_Jeselnik  When I was a kid, I used to fantasize about ge...   \n",
       "...                                                             ...   \n",
       "Tom_Segura_3      Probably checked in to 400 hotels this year. A...   \n",
       "Tom_Segura_3      Probably checked in to 400 hotels this year. A...   \n",
       "Tom_Segura_3      Probably checked in to 400 hotels this year. A...   \n",
       "Tom_Segura_3      Probably checked in to 400 hotels this year. A...   \n",
       "Tom_Segura_3      Probably checked in to 400 hotels this year. A...   \n",
       "\n",
       "                                                       ground_truth  \\\n",
       "comedian                                                              \n",
       "Anthony_Jeselnik  1. So poor I remember, just so I could go to m...   \n",
       "Anthony_Jeselnik  1. So poor I remember, just so I could go to m...   \n",
       "Anthony_Jeselnik  1. So poor I remember, just so I could go to m...   \n",
       "Anthony_Jeselnik  1. So poor I remember, just so I could go to m...   \n",
       "Anthony_Jeselnik  1. So poor I remember, just so I could go to m...   \n",
       "...                                                             ...   \n",
       "Tom_Segura_3      1. And the guy goes, “Whoa. Are you Japanese?”...   \n",
       "Tom_Segura_3      1. And the guy goes, “Whoa. Are you Japanese?”...   \n",
       "Tom_Segura_3      1. And the guy goes, “Whoa. Are you Japanese?”...   \n",
       "Tom_Segura_3      1. And the guy goes, “Whoa. Are you Japanese?”...   \n",
       "Tom_Segura_3      1. And the guy goes, “Whoa. Are you Japanese?”...   \n",
       "\n",
       "                                                        instruction  \\\n",
       "comedian                                                              \n",
       "Anthony_Jeselnik  Extract the key humorous lines and punchlines ...   \n",
       "Anthony_Jeselnik  Extract the key humorous lines and punchlines ...   \n",
       "Anthony_Jeselnik  Extract the key humorous lines and punchlines ...   \n",
       "Anthony_Jeselnik  Extract the key humorous lines and punchlines ...   \n",
       "Anthony_Jeselnik  The following is a stand-up comedy transcript....   \n",
       "...                                                             ...   \n",
       "Tom_Segura_3      You are a person who enjoys aggressive humor. ...   \n",
       "Tom_Segura_3      You are a person who enjoys self-enhancing hum...   \n",
       "Tom_Segura_3      You are a person who enjoys self-enhancing hum...   \n",
       "Tom_Segura_3      You are a person who enjoys self-enhancing hum...   \n",
       "Tom_Segura_3      You are a person who enjoys self-enhancing hum...   \n",
       "\n",
       "                                                            content  \\\n",
       "comedian                                                              \n",
       "Anthony_Jeselnik                                                      \n",
       "Anthony_Jeselnik             Sure, here are the key humorous lines:   \n",
       "Anthony_Jeselnik  Here are some lines and punchlines that could ...   \n",
       "Anthony_Jeselnik  Got it! Here are the main punchlines and comed...   \n",
       "Anthony_Jeselnik                                                      \n",
       "...                                                             ...   \n",
       "Tom_Segura_3      Got it! Here are the main punchlines and comed...   \n",
       "Tom_Segura_3                                                          \n",
       "Tom_Segura_3                 Sure, here are the key humorous lines:   \n",
       "Tom_Segura_3      Here are some lines and punchlines that could ...   \n",
       "Tom_Segura_3      Got it! Here are the main punchlines and comed...   \n",
       "\n",
       "                                                           gt_input  \\\n",
       "comedian                                                              \n",
       "Anthony_Jeselnik  <bos><start_of_turn>user\\nExtract the key humo...   \n",
       "Anthony_Jeselnik  <bos><start_of_turn>user\\nExtract the key humo...   \n",
       "Anthony_Jeselnik  <bos><start_of_turn>user\\nExtract the key humo...   \n",
       "Anthony_Jeselnik  <bos><start_of_turn>user\\nExtract the key humo...   \n",
       "Anthony_Jeselnik  <bos><start_of_turn>user\\nThe following is a s...   \n",
       "...                                                             ...   \n",
       "Tom_Segura_3      <bos><start_of_turn>user\\nYou are a person who...   \n",
       "Tom_Segura_3      <bos><start_of_turn>user\\nYou are a person who...   \n",
       "Tom_Segura_3      <bos><start_of_turn>user\\nYou are a person who...   \n",
       "Tom_Segura_3      <bos><start_of_turn>user\\nYou are a person who...   \n",
       "Tom_Segura_3      <bos><start_of_turn>user\\nYou are a person who...   \n",
       "\n",
       "                                                        model_input  \n",
       "comedian                                                             \n",
       "Anthony_Jeselnik  <bos><start_of_turn>user\\nExtract the key humo...  \n",
       "Anthony_Jeselnik  <bos><start_of_turn>user\\nExtract the key humo...  \n",
       "Anthony_Jeselnik  <bos><start_of_turn>user\\nExtract the key humo...  \n",
       "Anthony_Jeselnik  <bos><start_of_turn>user\\nExtract the key humo...  \n",
       "Anthony_Jeselnik  <bos><start_of_turn>user\\nThe following is a s...  \n",
       "...                                                             ...  \n",
       "Tom_Segura_3      <bos><start_of_turn>user\\nYou are a person who...  \n",
       "Tom_Segura_3      <bos><start_of_turn>user\\nYou are a person who...  \n",
       "Tom_Segura_3      <bos><start_of_turn>user\\nYou are a person who...  \n",
       "Tom_Segura_3      <bos><start_of_turn>user\\nYou are a person who...  \n",
       "Tom_Segura_3      <bos><start_of_turn>user\\nYou are a person who...  \n",
       "\n",
       "[816 rows x 6 columns]"
      ]
     },
     "execution_count": 4,
     "metadata": {},
     "output_type": "execute_result"
    }
   ],
   "source": [
    "gt = ground_truth.groupby(\"comedian\")[\"sentence\"].apply(list).apply(lambda sentences: \"\\n\".join([f\"{i + 1}. {s}\" for i, s in enumerate(sentences)]))\n",
    "df = transcript.set_index(\"comedian\").join(gt).rename(columns={\"sentence\": \"ground_truth\"})\n",
    "\n",
    "df[\"instruction\"] = [INSTRUCTIONS] * len(df)\n",
    "df = df.explode(\"instruction\")\n",
    "df[\"content\"] = [CONTENTS] * len(df)\n",
    "df = df.explode(\"content\")\n",
    "\n",
    "def gt_chat_template(row):\n",
    "    return tokenizer.apply_chat_template([\n",
    "        # {\"role\": \"system\", \"content\": \"\"},\n",
    "        {\"role\": \"user\", \"content\": row[\"instruction\"] + \"\\n\" + row[\"transcript\"]},\n",
    "        {\"role\": \"assistant\", \"content\": row[\"content\"] + \"\\n\" + row[\"ground_truth\"]},\n",
    "    ], tokenize=False)\n",
    "\n",
    "df[\"gt_input\"] = df.apply(gt_chat_template, axis=1)\n",
    "\n",
    "def model_chat_template(row):\n",
    "    return tokenizer.apply_chat_template([\n",
    "        # {\"role\": \"system\", \"content\": \"\"},\n",
    "        {\"role\": \"user\", \"content\": row[\"instruction\"] + \"\\n\" + row[\"transcript\"]},\n",
    "    ], tokenize=False)\n",
    "\n",
    "df[\"model_input\"] = df.apply(model_chat_template, axis=1)\n",
    "\n",
    "df"
   ]
  },
  {
   "cell_type": "code",
   "execution_count": 5,
   "metadata": {},
   "outputs": [
    {
     "name": "stderr",
     "output_type": "stream",
     "text": [
      "The 'max_batch_size' argument of HybridCache is deprecated and will be removed in v4.46. Use the more precisely named 'batch_size' argument instead.\n",
      "Starting from v4.46, the `logits` model output will have the same type as the model (except at train time, where it will always be FP32)\n"
     ]
    }
   ],
   "source": [
    "inputs = tokenizer(df.iloc[:2, -1].tolist(), return_tensors=\"pt\", padding=True, truncation=False).to(model.device)\n",
    "\n",
    "x = model.generate(**inputs, max_new_tokens=4)\n",
    "\n",
    "# matrix_repr = model.lm_head.weight.float()[ids]\n",
    "\n",
    "# *_, subs_repr = torch.pca_lowrank(matrix_repr, q=8)\n",
    "\n",
    "# subs_repr.shape"
   ]
  },
  {
   "cell_type": "code",
   "execution_count": 6,
   "metadata": {},
   "outputs": [],
   "source": [
    "U = model.lm_head.weight.float().detach()"
   ]
  },
  {
   "cell_type": "code",
   "execution_count": 7,
   "metadata": {},
   "outputs": [
    {
     "name": "stderr",
     "output_type": "stream",
     "text": [
      "100%|██████████| 51/51 [00:00<00:00, 73.90it/s]\n"
     ]
    }
   ],
   "source": [
    "from tqdm import tqdm\n",
    "\n",
    "# use unembedding tokenization form\n",
    "def get_gt_representation(batch_of_strs: list[str], subspace_size: int = 8) -> torch.Tensor:\n",
    "    inputs = tokenizer(batch_of_strs, return_tensors=\"pt\", padding=True, truncation=False).to(model.device)\n",
    "    *_, subs_repr = torch.pca_lowrank(U[inputs[\"input_ids\"]], q=subspace_size)\n",
    "    return subs_repr\n",
    "\n",
    "gt_representations = {\n",
    "    comedian: get_gt_representation(batch.tolist())\n",
    "    for comedian, batch in tqdm(df.groupby(\"comedian\")[\"model_input\"])\n",
    "}"
   ]
  },
  {
   "cell_type": "code",
   "execution_count": 8,
   "metadata": {},
   "outputs": [
    {
     "data": {
      "text/plain": [
       "torch.Size([16, 2304, 8])"
      ]
     },
     "execution_count": 8,
     "metadata": {},
     "output_type": "execute_result"
    }
   ],
   "source": [
    "gt_representations[\"Ali_Wong\"].shape"
   ]
  },
  {
   "cell_type": "code",
   "execution_count": null,
   "metadata": {},
   "outputs": [
    {
     "name": "stderr",
     "output_type": "stream",
     "text": [
      " 94%|█████████▍| 48/51 [03:24<00:14,  4.68s/it]"
     ]
    }
   ],
   "source": [
    "def get_output_representation(batch_of_strs: list[str], number_of_tokens: int = 128, subspace_size: int = 8) -> torch.Tensor:\n",
    "    inputs = tokenizer(batch_of_strs, return_tensors=\"pt\", padding=True, truncation=False).to(model.device)\n",
    "    \n",
    "    with torch.inference_mode():\n",
    "        ids = model.generate(**inputs, max_new_tokens=number_of_tokens)\n",
    "    \n",
    "    *_, subs_repr = torch.pca_lowrank(U[ids], q=subspace_size)\n",
    "    return subs_repr\n",
    "        \n",
    "\n",
    "output_representations = {\n",
    "    comedian: get_output_representation(batch.tolist())\n",
    "    for comedian, batch in tqdm(df.groupby(\"comedian\")[\"gt_input\"])\n",
    "}"
   ]
  },
  {
   "cell_type": "code",
   "execution_count": 13,
   "metadata": {},
   "outputs": [
    {
     "name": "stderr",
     "output_type": "stream",
     "text": [
      "100%|██████████| 51/51 [00:00<00:00, 4662.47it/s]\n"
     ]
    }
   ],
   "source": [
    "scores = {}\n",
    "for comedian in tqdm(gt_representations.keys()):\n",
    "    gt_reference_subspaces = gt_representations[comedian]\n",
    "    out_reference_subspaces = output_representations[comedian]\n",
    "\n",
    "    A = gt_reference_subspaces.mT @ out_reference_subspaces\n",
    "    scores[comedian] = A.matrix_power(2).diagonal(dim1=1,dim2=2).mean().item()"
   ]
  },
  {
   "cell_type": "code",
   "execution_count": 17,
   "metadata": {},
   "outputs": [],
   "source": [
    "# pd.DataFrame(scores, index=range(len(scores))).to_csv(\"scores.csv\")\n",
    "df = pd.DataFrame(list(scores.items()), columns=['Comedian', 'Score'])\n",
    "df.to_csv(f\"12_subspace_metric/scores-{MODEL_ID.rsplit('/')[1]}.csv\")"
   ]
  }
 ],
 "metadata": {
  "kernelspec": {
   "display_name": ".venv",
   "language": "python",
   "name": "python3"
  },
  "language_info": {
   "codemirror_mode": {
    "name": "ipython",
    "version": 3
   },
   "file_extension": ".py",
   "mimetype": "text/x-python",
   "name": "python",
   "nbconvert_exporter": "python",
   "pygments_lexer": "ipython3",
   "version": "3.11.10"
  }
 },
 "nbformat": 4,
 "nbformat_minor": 2
}
