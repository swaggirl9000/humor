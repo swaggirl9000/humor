{
 "cells": [
  {
   "cell_type": "markdown",
   "metadata": {},
   "source": [
    "# Exploring Different Prompts\n",
    "\n",
    "A range of prompts was systematically investigated to assess whether there was a significant improvement in performance with alternative prompt formulations. To derive some of these prompts, ChatGPT was utilized to analyze both the transcript and ground truth, with the objective of generating optimal prompts for a model to extract quotes from the given transcript. The prompt that yielded the highest performance score of 31.3% was one that requested a list of punchlines. In the context of stand-up comedy, punchlines are generally considered to be the most humorous segments of a performance. Thus, this result is consistent with the inherent nature of stand-up comedy sets and aligns with the goal of identifying the most impactful and comedic quotes."
   ]
  },
  {
   "cell_type": "code",
   "execution_count": 2,
   "metadata": {},
   "outputs": [],
   "source": [
    "import pandas as pd\n",
    "from thefuzz import fuzz\n",
    "\n",
    "def bipartite_metric(model_answers: pd.DataFrame, ground_truth: pd.DataFrame):  \n",
    "    # Find the similarity of the model answers and ground truth by using fuzzy string matching\n",
    "    score_matrix = model_answers.apply(\n",
    "        lambda row_model: ground_truth.apply(\n",
    "            lambda row_truth: \n",
    "                fuzz.ratio(row_truth[\"sentence\"], row_model[\"sentence\"]) \n",
    "                if row_model[\"comedian\"] == row_truth[\"comedian\"] \n",
    "                else None,\n",
    "        axis=1),\n",
    "    axis=1) \\\n",
    "        .melt(ignore_index=False) \\\n",
    "        .dropna() \\\n",
    "        .reset_index()\n",
    "    \n",
    "    # Find the best score by taking the maximum value\n",
    "    best_match = score_matrix.loc[score_matrix.groupby(\"index\")[\"value\"].idxmax()].reset_index(drop=True)\n",
    "    \n",
    "    # Add in the ground truths that were not matched\n",
    "    missing_gt = set(ground_truth.index) - set(best_match[\"variable\"].unique())\n",
    "    missing_gt = pd.DataFrame({\"index\": None, \"variable\": list(missing_gt), \"value\": 0})\n",
    "    \n",
    "    result = best_match.append(missing_gt).groupby(\"variable\").mean().rename(columns={\"value\": \"score\"})\n",
    "    \n",
    "    # Calculate penalty for over generation \n",
    "    over_generation_penalty = len(model_answers) - len(ground_truth)\n",
    "    penalty_factor = max(over_generation_penalty, 0)  \n",
    "    \n",
    "    # Add in the comedians and group by the mean for each comedian\n",
    "    final_result = result.merge(ground_truth[['comedian']], left_index=True, right_index=True).reset_index(drop=True)\n",
    "    comedian_scores = final_result.groupby('comedian')['score'].mean().reset_index()\n",
    "    \n",
    "    # Apply penalty to the final score, if penalty goes under 0, score is set to 0\n",
    "    comedian_scores['score'] -= penalty_factor * 0.1 \n",
    "    comedian_scores['score'] = comedian_scores['score'].apply(lambda x: max(x, 0))\n",
    "    \n",
    "    return comedian_scores"
   ]
  },
  {
   "cell_type": "markdown",
   "metadata": {},
   "source": [
    "#### Imports"
   ]
  },
  {
   "cell_type": "code",
   "execution_count": 3,
   "metadata": {},
   "outputs": [],
   "source": [
    "import sys\n",
    "import pandas as pd\n",
    "sys.path.append(\"..\")\n",
    "import seaborn as sns\n",
    "import nltk\n",
    "from thefuzz import fuzz\n",
    "import matplotlib.pyplot as plt\n",
    "\n",
    "from humor.bipartite_metric import bipartite_metric"
   ]
  },
  {
   "cell_type": "code",
   "execution_count": 4,
   "metadata": {},
   "outputs": [],
   "source": [
    "ground_truth = pd.read_csv('/home/ada/humor/data/stand_up_dataset/standup_data.csv')\n",
    "gemma = pd.read_csv('/home/ada/humor/data/stand_up_dataset/gemma_answers.csv')\n",
    "laugh = pd.read_csv('/home/ada/humor/data/stand_up_dataset/prompts/laugh_prompt - Sheet1.csv')\n",
    "punchline = pd.read_csv('/home/ada/humor/data/stand_up_dataset/prompts/punchline_prompt - Sheet1.csv')\n",
    "most_laugh = pd.read_csv('/home/ada/humor/data/stand_up_dataset/prompts/mostlaugh_prompt - Sheet1.csv')"
   ]
  },
  {
   "cell_type": "markdown",
   "metadata": {},
   "source": [
    "#### Experiment"
   ]
  },
  {
   "cell_type": "code",
   "execution_count": 5,
   "metadata": {},
   "outputs": [
    {
     "name": "stderr",
     "output_type": "stream",
     "text": [
      "/tmp/ipykernel_2328989/272763274.py:2: FutureWarning: Dropping of nuisance columns in DataFrame reductions (with 'numeric_only=None') is deprecated; in a future version this will raise TypeError.  Select only valid columns before calling the reduction.\n",
      "  gemma_metric.mean()\n"
     ]
    },
    {
     "data": {
      "text/plain": [
       "score    30.08505\n",
       "dtype: float64"
      ]
     },
     "execution_count": 5,
     "metadata": {},
     "output_type": "execute_result"
    }
   ],
   "source": [
    "gemma_metric = bipartite_metric(gemma, ground_truth)\n",
    "gemma_metric.mean()"
   ]
  },
  {
   "cell_type": "markdown",
   "metadata": {},
   "source": [
    "##### \"The following is a stand-up comedy transcript. When performed in front of a live audience, which jokes do you think made the audience laugh?  List of quotes:\""
   ]
  },
  {
   "cell_type": "code",
   "execution_count": 6,
   "metadata": {},
   "outputs": [
    {
     "name": "stderr",
     "output_type": "stream",
     "text": [
      "/tmp/ipykernel_2328989/1272076827.py:2: FutureWarning: Dropping of nuisance columns in DataFrame reductions (with 'numeric_only=None') is deprecated; in a future version this will raise TypeError.  Select only valid columns before calling the reduction.\n",
      "  laugh_metric.mean()\n"
     ]
    },
    {
     "data": {
      "text/plain": [
       "score    27.421237\n",
       "dtype: float64"
      ]
     },
     "execution_count": 6,
     "metadata": {},
     "output_type": "execute_result"
    }
   ],
   "source": [
    "laugh_metric = bipartite_metric(laugh, ground_truth)\n",
    "laugh_metric.mean()"
   ]
  },
  {
   "cell_type": "markdown",
   "metadata": {},
   "source": [
    "##### The following is a stand-up comedy transcript. What are the funniest punchlines from the transcript. List of quotes:\""
   ]
  },
  {
   "cell_type": "code",
   "execution_count": 7,
   "metadata": {},
   "outputs": [
    {
     "name": "stderr",
     "output_type": "stream",
     "text": [
      "/tmp/ipykernel_2328989/1365989135.py:2: FutureWarning: Dropping of nuisance columns in DataFrame reductions (with 'numeric_only=None') is deprecated; in a future version this will raise TypeError.  Select only valid columns before calling the reduction.\n",
      "  punchline_metric.mean()\n"
     ]
    },
    {
     "data": {
      "text/plain": [
       "score    31.184944\n",
       "dtype: float64"
      ]
     },
     "execution_count": 7,
     "metadata": {},
     "output_type": "execute_result"
    }
   ],
   "source": [
    "punchline_metric = bipartite_metric(punchline, ground_truth)\n",
    "punchline_metric.mean()"
   ]
  },
  {
   "cell_type": "markdown",
   "metadata": {},
   "source": [
    "##### Below is a transcript from a stand-up comedy routine. Analyze the transcript and extract the quotes that are most likely to have made the audience laugh. List of quotes:"
   ]
  },
  {
   "cell_type": "code",
   "execution_count": 8,
   "metadata": {},
   "outputs": [
    {
     "name": "stderr",
     "output_type": "stream",
     "text": [
      "/tmp/ipykernel_2328989/3481905512.py:2: FutureWarning: Dropping of nuisance columns in DataFrame reductions (with 'numeric_only=None') is deprecated; in a future version this will raise TypeError.  Select only valid columns before calling the reduction.\n",
      "  most_laugh_metric.mean()\n"
     ]
    },
    {
     "data": {
      "text/plain": [
       "score    28.040908\n",
       "dtype: float64"
      ]
     },
     "execution_count": 8,
     "metadata": {},
     "output_type": "execute_result"
    }
   ],
   "source": [
    "most_laugh_metric = bipartite_metric(most_laugh, ground_truth)\n",
    "most_laugh_metric.mean()"
   ]
  },
  {
   "cell_type": "code",
   "execution_count": 9,
   "metadata": {},
   "outputs": [
    {
     "data": {
      "text/plain": [
       "<Figure size 500x500 with 0 Axes>"
      ]
     },
     "metadata": {},
     "output_type": "display_data"
    },
    {
     "data": {
      "image/png": "[encoded data removed]",
      "text/plain": [
       "<Figure size 615.125x500 with 1 Axes>"
      ]
     },
     "metadata": {},
     "output_type": "display_data"
    }
   ],
   "source": [
    "sns.set_style(\"whitegrid\")\n",
    "sns.set_context(\"paper\")\n",
    "plt.figure(figsize=(5, 5))  \n",
    "sns.set_palette(\"colorblind\")\n",
    "\n",
    "original = gemma_metric.assign(model=\"original\")\n",
    "laugh = laugh_metric.assign(model=\"laugh\") \n",
    "punchline = punchline_metric.assign(model=\"punchline\")\n",
    "most_laugh = most_laugh_metric.assign(model=\"most_laugh\")\n",
    "\n",
    "df = pd.concat([original, laugh, punchline, most_laugh]).reset_index(drop=True)\n",
    "sns.displot(df, x=\"score\", hue=\"model\", kind=\"hist\", shrink=1, multiple=\"dodge\")\n",
    "plt.title(\"Prompt Engineering\")\n",
    "plt.show()"
   ]
  }
 ],
 "metadata": {
  "kernelspec": {
   "display_name": ".venv",
   "language": "python",
   "name": "python3"
  },
  "language_info": {
   "codemirror_mode": {
    "name": "ipython",
    "version": 3
   },
   "file_extension": ".py",
   "mimetype": "text/x-python",
   "name": "python",
   "nbconvert_exporter": "python",
   "pygments_lexer": "ipython3",
   "version": "3.8.10"
  }
 },
 "nbformat": 4,
 "nbformat_minor": 2
}
