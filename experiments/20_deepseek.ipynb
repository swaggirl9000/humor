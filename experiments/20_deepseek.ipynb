{
 "cells": [
  {
   "cell_type": "markdown",
   "metadata": {},
   "source": [
    "### DeepSeek"
   ]
  },
  {
   "cell_type": "code",
   "execution_count": 1,
   "metadata": {},
   "outputs": [
    {
     "name": "stderr",
     "output_type": "stream",
     "text": [
      "/home/ada/humor/.venv/lib/python3.8/site-packages/sentence_transformers/cross_encoder/CrossEncoder.py:13: TqdmWarning: IProgress not found. Please update jupyter and ipywidgets. See https://ipywidgets.readthedocs.io/en/stable/user_install.html\n",
      "  from tqdm.autonotebook import tqdm, trange\n"
     ]
    }
   ],
   "source": [
    "import sys\n",
    "import pandas as pd\n",
    "sys.path.append(\"..\")\n",
    "import seaborn as sns\n",
    "import nltk\n",
    "import matplotlib.pyplot as plt\n",
    "\n",
    "from humor.vector_similarity_metric import vector_similarity_metric\n",
    "from humor.bipartite_metric import bipartite_metric"
   ]
  },
  {
   "cell_type": "code",
   "execution_count": 2,
   "metadata": {},
   "outputs": [],
   "source": [
    "ground_truth = pd.read_csv('/home/ada/humor/data/stand_up_dataset/standup_data.csv')\n",
    "ds = pd.read_csv(\"/home/ada/humor/data/stand_up_dataset/deepseek - gemma_answers.csv.csv\")"
   ]
  },
  {
   "cell_type": "code",
   "execution_count": 4,
   "metadata": {},
   "outputs": [
    {
     "name": "stdout",
     "output_type": "stream",
     "text": [
      "Bipartite\n",
      "\n",
      "DeepSeek:  score    46.008925\n",
      "dtype: float64\n",
      "\n",
      "Sentence Embedding\n",
      "\n",
      "DeepSeek:  score    51.599265\n",
      "dtype: float64\n"
     ]
    }
   ],
   "source": [
    "print(\"Bipartite\\n\")\n",
    "bimetric = bipartite_metric(ds, ground_truth)\n",
    "print(\"DeepSeek: \", bimetric.select_dtypes(include='number').mean())\n",
    "\n",
    "\n",
    "print(\"\\nSentence Embedding\\n\")\n",
    "vec_metric = vector_similarity_metric(ds, ground_truth)\n",
    "print(\"DeepSeek: \", vec_metric.select_dtypes(include='number').mean())"
   ]
  }
 ],
 "metadata": {
  "kernelspec": {
   "display_name": ".venv",
   "language": "python",
   "name": "python3"
  },
  "language_info": {
   "codemirror_mode": {
    "name": "ipython",
    "version": 3
   },
   "file_extension": ".py",
   "mimetype": "text/x-python",
   "name": "python",
   "nbconvert_exporter": "python",
   "pygments_lexer": "ipython3",
   "version": "3.8.10"
  }
 },
 "nbformat": 4,
 "nbformat_minor": 2
}
