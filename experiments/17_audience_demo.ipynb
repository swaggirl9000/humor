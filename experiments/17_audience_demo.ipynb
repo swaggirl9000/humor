{
 "cells": [
  {
   "cell_type": "markdown",
   "metadata": {},
   "source": [
    "# Audience Demo Persona Prompt Engineering"
   ]
  },
  {
   "cell_type": "markdown",
   "metadata": {},
   "source": [
    "## Imports"
   ]
  },
  {
   "cell_type": "code",
   "execution_count": 1,
   "metadata": {},
   "outputs": [],
   "source": [
    "import sys\n",
    "import pandas as pd\n",
    "sys.path.append(\"..\")\n",
    "import seaborn as sns\n",
    "import nltk\n",
    "from thefuzz import fuzz\n",
    "import matplotlib.pyplot as plt\n",
    "\n",
    "from humor.bipartite_metric import bipartite_metric"
   ]
  },
  {
   "cell_type": "code",
   "execution_count": null,
   "metadata": {},
   "outputs": [],
   "source": [
    "ground_truth = pd.read_csv('/home/ada/humor/data/stand_up_dataset/standup_data.csv')\n",
    "gemma2race = pd.read_csv(\"\")\n",
    "gemma2age = pd.read_csv(\"\")"
   ]
  },
  {
   "cell_type": "code",
   "execution_count": null,
   "metadata": {},
   "outputs": [
    {
     "name": "stdout",
     "output_type": "stream",
     "text": [
      "No Humor Type: score    35.184287\n",
      "dtype: float64\n",
      "Aggressive Humor Type: score    32.67298\n",
      "dtype: float64\n",
      "Self-enhancing Humor Type: score    31.252205\n",
      "dtype: float64\n",
      "Self-deprecating Humor Type:: score    32.013752\n",
      "dtype: float64\n",
      "Dark Humor Type: score    32.833107\n",
      "dtype: float64\n",
      "Affliliative Humor Type: score    31.636608\n",
      "dtype: float64\n"
     ]
    }
   ],
   "source": [
    "race = [\"Caucasian/White\", \"Black/African American\", \"Hispanic/Latino\", \"Asian\"]\n",
    "gemma2_metric = {}\n",
    "\n",
    "for r in race:\n",
    "    gemma2_filtered = gemma2race[gemma2race['race'] == r]\n",
    "    gemma2_metric[r] = bipartite_metric(gemma2_filtered, ground_truth)\n",
    "\n",
    "none_metric = gemma2_metric[\"none\"]\n",
    "print(\"No Race:\", none_metric.select_dtypes(include='number').mean())\n",
    "\n",
    "white_metric = gemma2_metric[\"Caucasian/White\"]\n",
    "print(\"Caucasian/White:\", white_metric.select_dtypes(include='number').mean())\n",
    "\n",
    "black_metric = gemma2_metric[\"Black/African Americang\"]\n",
    "print(\"Black/African American:\", black_metric.select_dtypes(include='number').mean())\n",
    "\n",
    "his_metric = gemma2_metric[\"Hispanic/Latino\"]\n",
    "print(\"Hispanic/Latino\", his_metric.select_dtypes(include='number').mean())\n",
    "\n",
    "as_metric = gemma2_metric[\"Asian\"]\n",
    "print(\"Asian:\", as_metric.select_dtypes(include='number').mean())"
   ]
  },
  {
   "cell_type": "code",
   "execution_count": null,
   "metadata": {},
   "outputs": [],
   "source": [
    "age = [\"adolescent\", \"young adult\", \"adult\", \"elderly\"]\n",
    "gemma2_metric = {}\n",
    "\n",
    "for a in age:\n",
    "    gemma2_filtered = gemma2age[gemma2age['age'] == a]\n",
    "    gemma2_metric[r] = bipartite_metric(gemma2_filtered, ground_truth)\n",
    "\n",
    "none_metric = gemma2_metric[\"none\"]\n",
    "print(\"No age:\", none_metric.select_dtypes(include='number').mean())\n",
    "\n",
    "ado_metric = gemma2_metric[\"adolescent\"]\n",
    "print(\"adolescent:\", ado_metric.select_dtypes(include='number').mean())\n",
    "\n",
    "ya_metric = gemma2_metric[\"young adult\"]\n",
    "print(\"young adult:\", ya_metric.select_dtypes(include='number').mean())\n",
    "\n",
    "ad_metric = gemma2_metric[\"adult\"]\n",
    "print(\"adult\", ad_metric.select_dtypes(include='number').mean())\n",
    "\n",
    "el_metric = gemma2_metric[\"elderly\"]\n",
    "print(\"elderly\", el_metric.select_dtypes(include='number').mean())"
   ]
  }
 ],
 "metadata": {
  "kernelspec": {
   "display_name": ".venv",
   "language": "python",
   "name": "python3"
  },
  "language_info": {
   "codemirror_mode": {
    "name": "ipython",
    "version": 3
   },
   "file_extension": ".py",
   "mimetype": "text/x-python",
   "name": "python",
   "nbconvert_exporter": "python",
   "pygments_lexer": "ipython3",
   "version": "3.8.10"
  }
 },
 "nbformat": 4,
 "nbformat_minor": 2
}
