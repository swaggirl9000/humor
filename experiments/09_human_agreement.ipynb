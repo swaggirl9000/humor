{
 "cells": [
  {
   "cell_type": "markdown",
   "metadata": {},
   "source": [
    "# Human Agreement"
   ]
  },
  {
   "cell_type": "markdown",
   "metadata": {},
   "source": [
    "To show the agreement between the evaluators, we use Percentage Agreement (PA), a method frequently used to assess the proportion of agreements in labels across annotators. The results indicate that human evaluators achieved a relatively high agreement across all stand-up comedy transcripts, with an overall average agreement of 86.7%. This level of agreement suggests that human participants were generally able to identify similar humorous quotes in the transcripts.\n",
    "\n",
    "Humor is widely recognized as a subjective experience, heavily influenced by individual preferences, cultural background, and personal sense of humor. This variability is reflected in the results, where some transcripts, such as Anthony Jeselnik with 90.1% agreement, achieved higher agreement scores, while others, such as Ali Wong with 83.7%. displayed lower levels of consensus. The variability between transcripts suggests that, while humor can be universally understood to a certain extent, individual differences among evaluators can affect their judgments on what constitutes \"funny\" content. Some participants may find the majority of the transcript humorous, while others may find only select parts amusing, or none at all. "
   ]
  },
  {
   "cell_type": "code",
   "execution_count": 14,
   "metadata": {},
   "outputs": [],
   "source": [
    "import pandas as pd\n",
    "import torch\n",
    "from torchmetrics.nominal import FleissKappa"
   ]
  },
  {
   "cell_type": "code",
   "execution_count": 25,
   "metadata": {},
   "outputs": [],
   "source": [
    "human = pd.read_csv(\"/home/ada/humor/data/stand_up_dataset/human_ans - Sheet1.csv\")\n",
    "num_participants = 11\n",
    "human['not_funny'] = num_participants - human['funny']"
   ]
  },
  {
   "cell_type": "markdown",
   "metadata": {},
   "source": [
    "Percent Agreement"
   ]
  },
  {
   "cell_type": "code",
   "execution_count": 30,
   "metadata": {},
   "outputs": [
    {
     "data": {
      "text/html": [
       "<div>\n",
       "<style scoped>\n",
       "    .dataframe tbody tr th:only-of-type {\n",
       "        vertical-align: middle;\n",
       "    }\n",
       "\n",
       "    .dataframe tbody tr th {\n",
       "        vertical-align: top;\n",
       "    }\n",
       "\n",
       "    .dataframe thead th {\n",
       "        text-align: right;\n",
       "    }\n",
       "</style>\n",
       "<table border=\"1\" class=\"dataframe\">\n",
       "  <thead>\n",
       "    <tr style=\"text-align: right;\">\n",
       "      <th></th>\n",
       "      <th>comedian</th>\n",
       "      <th>percentage_agreement</th>\n",
       "    </tr>\n",
       "  </thead>\n",
       "  <tbody>\n",
       "    <tr>\n",
       "      <th>0</th>\n",
       "      <td>Ali_Wong</td>\n",
       "      <td>83.732057</td>\n",
       "    </tr>\n",
       "    <tr>\n",
       "      <th>1</th>\n",
       "      <td>Anthony_Jeselnik</td>\n",
       "      <td>90.151515</td>\n",
       "    </tr>\n",
       "    <tr>\n",
       "      <th>2</th>\n",
       "      <td>Hasan_Minhaj</td>\n",
       "      <td>85.454545</td>\n",
       "    </tr>\n",
       "    <tr>\n",
       "      <th>3</th>\n",
       "      <td>Jimmy_Yang</td>\n",
       "      <td>87.012987</td>\n",
       "    </tr>\n",
       "    <tr>\n",
       "      <th>4</th>\n",
       "      <td>Joe_List</td>\n",
       "      <td>88.484848</td>\n",
       "    </tr>\n",
       "    <tr>\n",
       "      <th>5</th>\n",
       "      <td>John_Mulaney</td>\n",
       "      <td>85.314685</td>\n",
       "    </tr>\n",
       "    <tr>\n",
       "      <th>6</th>\n",
       "      <td>Overall</td>\n",
       "      <td>86.691773</td>\n",
       "    </tr>\n",
       "  </tbody>\n",
       "</table>\n",
       "</div>"
      ],
      "text/plain": [
       "           comedian  percentage_agreement\n",
       "0          Ali_Wong             83.732057\n",
       "1  Anthony_Jeselnik             90.151515\n",
       "2      Hasan_Minhaj             85.454545\n",
       "3        Jimmy_Yang             87.012987\n",
       "4          Joe_List             88.484848\n",
       "5      John_Mulaney             85.314685\n",
       "6           Overall             86.691773"
      ]
     },
     "execution_count": 30,
     "metadata": {},
     "output_type": "execute_result"
    }
   ],
   "source": [
    "results = []\n",
    "num_participants = 11  \n",
    "human['agreement_proportion'] = human[['funny', 'not_funny']].max(axis=1) / num_participants\n",
    "for comedian, group in human.groupby('comedian'):\n",
    "    percentage_agreement = group['agreement_proportion'].mean() * 100\n",
    "    results.append({'comedian': comedian, 'percentage_agreement': percentage_agreement})\n",
    "    \n",
    "\n",
    "results_df = pd.DataFrame(results)\n",
    "overall_agreement = results_df['percentage_agreement'].mean()\n",
    "results_df.loc[len(results_df.index)] = [\"Overall\", overall_agreement]\n",
    "results_df\n"
   ]
  },
  {
   "cell_type": "markdown",
   "metadata": {},
   "source": [
    "Fleiss' Kappa "
   ]
  },
  {
   "cell_type": "code",
   "execution_count": 17,
   "metadata": {},
   "outputs": [],
   "source": [
    "humor_data = human[['funny', 'not_funny']].values \n",
    "humor_tensor = torch.tensor(humor_data, dtype=torch.long)"
   ]
  },
  {
   "cell_type": "code",
   "execution_count": 18,
   "metadata": {},
   "outputs": [
    {
     "data": {
      "text/html": [
       "<div>\n",
       "<style scoped>\n",
       "    .dataframe tbody tr th:only-of-type {\n",
       "        vertical-align: middle;\n",
       "    }\n",
       "\n",
       "    .dataframe tbody tr th {\n",
       "        vertical-align: top;\n",
       "    }\n",
       "\n",
       "    .dataframe thead th {\n",
       "        text-align: right;\n",
       "    }\n",
       "</style>\n",
       "<table border=\"1\" class=\"dataframe\">\n",
       "  <thead>\n",
       "    <tr style=\"text-align: right;\">\n",
       "      <th></th>\n",
       "      <th>comedian</th>\n",
       "      <th>fleiss_kappa</th>\n",
       "    </tr>\n",
       "  </thead>\n",
       "  <tbody>\n",
       "    <tr>\n",
       "      <th>0</th>\n",
       "      <td>Ali_Wong</td>\n",
       "      <td>0.142560</td>\n",
       "    </tr>\n",
       "    <tr>\n",
       "      <th>1</th>\n",
       "      <td>Anthony_Jeselnik</td>\n",
       "      <td>0.376295</td>\n",
       "    </tr>\n",
       "    <tr>\n",
       "      <th>2</th>\n",
       "      <td>Hasan_Minhaj</td>\n",
       "      <td>0.127973</td>\n",
       "    </tr>\n",
       "    <tr>\n",
       "      <th>3</th>\n",
       "      <td>Jimmy_Yang</td>\n",
       "      <td>0.366601</td>\n",
       "    </tr>\n",
       "    <tr>\n",
       "      <th>4</th>\n",
       "      <td>Joe_List</td>\n",
       "      <td>0.219733</td>\n",
       "    </tr>\n",
       "    <tr>\n",
       "      <th>5</th>\n",
       "      <td>John_Mulaney</td>\n",
       "      <td>0.294862</td>\n",
       "    </tr>\n",
       "    <tr>\n",
       "      <th>6</th>\n",
       "      <td>Overall</td>\n",
       "      <td>0.254671</td>\n",
       "    </tr>\n",
       "  </tbody>\n",
       "</table>\n",
       "</div>"
      ],
      "text/plain": [
       "           comedian  fleiss_kappa\n",
       "0          Ali_Wong      0.142560\n",
       "1  Anthony_Jeselnik      0.376295\n",
       "2      Hasan_Minhaj      0.127973\n",
       "3        Jimmy_Yang      0.366601\n",
       "4          Joe_List      0.219733\n",
       "5      John_Mulaney      0.294862\n",
       "6           Overall      0.254671"
      ]
     },
     "execution_count": 18,
     "metadata": {},
     "output_type": "execute_result"
    }
   ],
   "source": [
    "results = []\n",
    "for comedian, group in human.groupby('comedian'):\n",
    "    humor_data = group[['funny', 'not_funny']].values \n",
    "    humor_tensor = torch.tensor(humor_data, dtype=torch.long)\n",
    "    metric = FleissKappa(mode=\"counts\")\n",
    "    kappa = metric(humor_tensor)\n",
    "    results.append({'comedian': comedian, 'fleiss_kappa': kappa.item()})\n",
    "    \n",
    "results_df = pd.DataFrame(results)\n",
    "overall_kappa = results_df['fleiss_kappa'].mean()\n",
    "results_df.loc[len(results_df.index)] = [\"Overall\", overall_kappa.item()]\n",
    "results_df \n"
   ]
  }
 ],
 "metadata": {
  "kernelspec": {
   "display_name": ".venv",
   "language": "python",
   "name": "python3"
  },
  "language_info": {
   "codemirror_mode": {
    "name": "ipython",
    "version": 3
   },
   "file_extension": ".py",
   "mimetype": "text/x-python",
   "name": "python",
   "nbconvert_exporter": "python",
   "pygments_lexer": "ipython3",
   "version": "3.8.10"
  }
 },
 "nbformat": 4,
 "nbformat_minor": 2
}
