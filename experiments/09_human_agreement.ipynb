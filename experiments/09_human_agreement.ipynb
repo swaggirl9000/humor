{
 "cells": [
  {
   "cell_type": "markdown",
   "metadata": {},
   "source": [
    "# Human Agreement"
   ]
  },
  {
   "cell_type": "code",
   "execution_count": 74,
   "metadata": {},
   "outputs": [],
   "source": [
    "import pandas as pd\n",
    "import numpy as np\n",
    "from statsmodels.stats.inter_rater import fleiss_kappa\n",
    "import krippendorff"
   ]
  },
  {
   "cell_type": "code",
   "execution_count": 75,
   "metadata": {},
   "outputs": [],
   "source": [
    "human = pd.read_csv(\"/home/ada/humor/data/stand_up_dataset/human_ans - Sheet1.csv\")\n",
    "num_participants = 10\n",
    "human['not_funny'] = num_participants - human['funny']"
   ]
  },
  {
   "cell_type": "markdown",
   "metadata": {},
   "source": [
    "Fleiss' Kappa "
   ]
  },
  {
   "cell_type": "code",
   "execution_count": 76,
   "metadata": {},
   "outputs": [
    {
     "data": {
      "text/plain": [
       "25.12644508772434"
      ]
     },
     "execution_count": 76,
     "metadata": {},
     "output_type": "execute_result"
    }
   ],
   "source": [
    "results = []\n",
    "for comedian, group in human.groupby('comedian'):\n",
    "    scores = group[['funny', 'not_funny']].values\n",
    "    kappa = fleiss_kappa(scores)\n",
    "    results.append({'comedian': comedian, 'fleiss_kappa': kappa * 100}) \n",
    "    \n",
    "results_df = pd.DataFrame(results)\n",
    "average_kappa = results_df['fleiss_kappa'].mean()\n",
    "average_kappa"
   ]
  },
  {
   "cell_type": "markdown",
   "metadata": {},
   "source": [
    "Krippendorff’s Alpha "
   ]
  },
  {
   "cell_type": "code",
   "execution_count": 77,
   "metadata": {},
   "outputs": [
    {
     "data": {
      "text/html": [
       "<div>\n",
       "<style scoped>\n",
       "    .dataframe tbody tr th:only-of-type {\n",
       "        vertical-align: middle;\n",
       "    }\n",
       "\n",
       "    .dataframe tbody tr th {\n",
       "        vertical-align: top;\n",
       "    }\n",
       "\n",
       "    .dataframe thead th {\n",
       "        text-align: right;\n",
       "    }\n",
       "</style>\n",
       "<table border=\"1\" class=\"dataframe\">\n",
       "  <thead>\n",
       "    <tr style=\"text-align: right;\">\n",
       "      <th></th>\n",
       "      <th>comedian</th>\n",
       "      <th>k_scores</th>\n",
       "    </tr>\n",
       "  </thead>\n",
       "  <tbody>\n",
       "    <tr>\n",
       "      <th>0</th>\n",
       "      <td>Ali_Wong</td>\n",
       "      <td>16.534181</td>\n",
       "    </tr>\n",
       "    <tr>\n",
       "      <th>1</th>\n",
       "      <td>Anthony_Jeselnik</td>\n",
       "      <td>33.178006</td>\n",
       "    </tr>\n",
       "    <tr>\n",
       "      <th>2</th>\n",
       "      <td>Hasan_Minhaj</td>\n",
       "      <td>15.452024</td>\n",
       "    </tr>\n",
       "    <tr>\n",
       "      <th>3</th>\n",
       "      <td>Jimmy_Yang</td>\n",
       "      <td>36.496231</td>\n",
       "    </tr>\n",
       "    <tr>\n",
       "      <th>4</th>\n",
       "      <td>Joe_List</td>\n",
       "      <td>20.999345</td>\n",
       "    </tr>\n",
       "    <tr>\n",
       "      <th>5</th>\n",
       "      <td>John_Mulaney</td>\n",
       "      <td>29.865479</td>\n",
       "    </tr>\n",
       "  </tbody>\n",
       "</table>\n",
       "</div>"
      ],
      "text/plain": [
       "           comedian   k_scores\n",
       "0          Ali_Wong  16.534181\n",
       "1  Anthony_Jeselnik  33.178006\n",
       "2      Hasan_Minhaj  15.452024\n",
       "3        Jimmy_Yang  36.496231\n",
       "4          Joe_List  20.999345\n",
       "5      John_Mulaney  29.865479"
      ]
     },
     "execution_count": 77,
     "metadata": {},
     "output_type": "execute_result"
    }
   ],
   "source": [
    "def binary(row):\n",
    "    # Create a binary classification for each row\n",
    "    num_participants = row['funny'] + row['not_funny']\n",
    "    return [1] * row['funny'] + [0] * row['not_funny']\n",
    "\n",
    "krippendorff_scores = []\n",
    "\n",
    "average_kappa = results_df['fleiss_kappa'].mean()\n",
    "average_kappa\n",
    "for comedian, group in human.groupby('comedian'):\n",
    "    expanded_ratings = group.apply(binary, axis=1)\n",
    "    ratings_matrix = np.array(expanded_ratings.tolist()).T\n",
    "    score = krippendorff.alpha(reliability_data=ratings_matrix, level_of_measurement='nominal')\n",
    "    krippendorff_scores.append({'comedian': comedian, 'k_scores': score * 100}) \n",
    "\n",
    "results = pd.DataFrame(krippendorff_scores)\n",
    "results"
   ]
  },
  {
   "cell_type": "code",
   "execution_count": 78,
   "metadata": {},
   "outputs": [
    {
     "data": {
      "text/plain": [
       "25.420877611691477"
      ]
     },
     "execution_count": 78,
     "metadata": {},
     "output_type": "execute_result"
    }
   ],
   "source": [
    "results['k_scores'].mean()"
   ]
  }
 ],
 "metadata": {
  "kernelspec": {
   "display_name": ".venv",
   "language": "python",
   "name": "python3"
  },
  "language_info": {
   "codemirror_mode": {
    "name": "ipython",
    "version": 3
   },
   "file_extension": ".py",
   "mimetype": "text/x-python",
   "name": "python",
   "nbconvert_exporter": "python",
   "pygments_lexer": "ipython3",
   "version": "3.8.10"
  }
 },
 "nbformat": 4,
 "nbformat_minor": 2
}
