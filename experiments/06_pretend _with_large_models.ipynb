{
 "cells": [
  {
   "cell_type": "markdown",
   "metadata": {},
   "source": [
    "# Placing roles with State of the Art Models\n",
    "\n",
    "Following preliminary experimentation with ChatGPT, it was observed that ChatGPT performs effectively when prompted to assume specific roles. Consequently, both ChatGPT and Gemma were prompted to adopt the role of the stand-up comedian corresponding to the transcript from which they were extracting quotes. As expected, ChatGPT outperformed Gemma in this task. Moreover, assuming the role of the comedian enhanced ChatGPT's performance, increasing its score from 40% to 42.8%. However, the standard version of ChatGPT achieved the highest frequency of scores exceeding 60%, as depicted in the graph."
   ]
  },
  {
   "cell_type": "markdown",
   "metadata": {},
   "source": [
    "### Imports"
   ]
  },
  {
   "cell_type": "code",
   "execution_count": 2,
   "metadata": {},
   "outputs": [],
   "source": [
    "import sys\n",
    "import pandas as pd\n",
    "sys.path.append(\"..\")\n",
    "import seaborn as sns\n",
    "import nltk\n",
    "from thefuzz import fuzz\n",
    "import matplotlib.pyplot as plt\n",
    "\n",
    "from humor.bipartite_metric import bipartite_metric"
   ]
  },
  {
   "cell_type": "code",
   "execution_count": 3,
   "metadata": {},
   "outputs": [],
   "source": [
    "ground_truth = pd.read_csv('/home/ada/humor/data/stand_up_dataset/standup_data.csv')\n",
    "gemma = pd.read_csv('/home/ada/humor/data/stand_up_dataset/gemma_answers.csv')\n",
    "pretend_gemma = pd.read_csv(\"/home/ada/humor/data/stand_up_dataset/play pretend - Sheet1.csv\")\n",
    "pretend_gpt = pd.read_csv(\"/home/ada/humor/data/stand_up_dataset/play pretend chatgpt - Sheet1.csv\")\n",
    "normal_gpt = pd.read_csv(\"/home/ada/humor/data/stand_up_dataset/nopretend chatgpt - Sheet1.csv\")"
   ]
  },
  {
   "cell_type": "code",
   "execution_count": 4,
   "metadata": {},
   "outputs": [],
   "source": [
    "llm_gt = ground_truth.loc[ground_truth[\"comedian\"].isin([\"John_Mulaney\", \"Jimmy_Yang\", \"Joe_List\",\"Anthony_Jeselnik\", \"Ali_Wong\", \"Hasan_Minhaj\"])]\n",
    "llm_gemma = gemma.loc[gemma[\"comedian\"].isin([\"John_Mulaney\", \"Jimmy_Yang\", \"Joe_List\",\"Anthony_Jeselnik\", \"Ali_Wong\", \"Hasan_Minhaj\"])]\n",
    "llm_pretend_gemma = pretend_gemma.loc[pretend_gemma[\"comedian\"].isin([\"John_Mulaney\", \"Jimmy_Yang\", \"Joe_List\",\"Anthony_Jeselnik\", \"Ali_Wong\", \"Hasan_Minhaj\"])]"
   ]
  },
  {
   "cell_type": "markdown",
   "metadata": {},
   "source": [
    "### Experiment"
   ]
  },
  {
   "cell_type": "code",
   "execution_count": 5,
   "metadata": {},
   "outputs": [
    {
     "name": "stderr",
     "output_type": "stream",
     "text": [
      "/tmp/ipykernel_3075178/1099743959.py:2: FutureWarning: Dropping of nuisance columns in DataFrame reductions (with 'numeric_only=None') is deprecated; in a future version this will raise TypeError.  Select only valid columns before calling the reduction.\n",
      "  normal_gpt_metric.mean()\n"
     ]
    },
    {
     "data": {
      "text/plain": [
       "score    40.020635\n",
       "dtype: float64"
      ]
     },
     "execution_count": 5,
     "metadata": {},
     "output_type": "execute_result"
    }
   ],
   "source": [
    "normal_gpt_metric = bipartite_metric(normal_gpt, llm_gt)\n",
    "normal_gpt_metric.mean()"
   ]
  },
  {
   "cell_type": "code",
   "execution_count": 6,
   "metadata": {},
   "outputs": [
    {
     "name": "stderr",
     "output_type": "stream",
     "text": [
      "/tmp/ipykernel_3075178/1170378115.py:2: FutureWarning: Dropping of nuisance columns in DataFrame reductions (with 'numeric_only=None') is deprecated; in a future version this will raise TypeError.  Select only valid columns before calling the reduction.\n",
      "  pretend_gpt_metric.mean()\n"
     ]
    },
    {
     "data": {
      "text/plain": [
       "score    42.805456\n",
       "dtype: float64"
      ]
     },
     "execution_count": 6,
     "metadata": {},
     "output_type": "execute_result"
    }
   ],
   "source": [
    "pretend_gpt_metric = bipartite_metric(pretend_gpt, llm_gt)\n",
    "pretend_gpt_metric.mean()"
   ]
  },
  {
   "cell_type": "code",
   "execution_count": 7,
   "metadata": {},
   "outputs": [
    {
     "name": "stderr",
     "output_type": "stream",
     "text": [
      "/tmp/ipykernel_3075178/1485451137.py:2: FutureWarning: Dropping of nuisance columns in DataFrame reductions (with 'numeric_only=None') is deprecated; in a future version this will raise TypeError.  Select only valid columns before calling the reduction.\n",
      "  llm_pretend_gemma_metric.mean()\n"
     ]
    },
    {
     "data": {
      "text/plain": [
       "score    29.149603\n",
       "dtype: float64"
      ]
     },
     "execution_count": 7,
     "metadata": {},
     "output_type": "execute_result"
    }
   ],
   "source": [
    "llm_pretend_gemma_metric = bipartite_metric(llm_pretend_gemma, llm_gt)\n",
    "llm_pretend_gemma_metric.mean()"
   ]
  },
  {
   "cell_type": "code",
   "execution_count": 8,
   "metadata": {},
   "outputs": [
    {
     "name": "stderr",
     "output_type": "stream",
     "text": [
      "/tmp/ipykernel_3075178/2696414140.py:2: FutureWarning: Dropping of nuisance columns in DataFrame reductions (with 'numeric_only=None') is deprecated; in a future version this will raise TypeError.  Select only valid columns before calling the reduction.\n",
      "  llm_gemma_metric.mean()\n"
     ]
    },
    {
     "data": {
      "text/plain": [
       "score    30.254861\n",
       "dtype: float64"
      ]
     },
     "execution_count": 8,
     "metadata": {},
     "output_type": "execute_result"
    }
   ],
   "source": [
    "llm_gemma_metric = bipartite_metric(llm_gemma, llm_gt)\n",
    "llm_gemma_metric.mean()"
   ]
  },
  {
   "cell_type": "code",
   "execution_count": 9,
   "metadata": {},
   "outputs": [
    {
     "data": {
      "image/png": "[encoded data removed]",
      "text/plain": [
       "<Figure size 664.5x500 with 1 Axes>"
      ]
     },
     "metadata": {},
     "output_type": "display_data"
    }
   ],
   "source": [
    "pretend_gemma = llm_pretend_gemma_metric.assign(model=\"pretend_gemma\")\n",
    "gemma = llm_gemma_metric.assign(model=\"gemma\")\n",
    "pretend_gpt = pretend_gpt_metric.assign(model=\"pretend_gpt\")\n",
    "normal_gpt = normal_gpt_metric.assign(model=\"gpt\")\n",
    "df = pd.concat([gemma, pretend_gemma, pretend_gpt, normal_gpt]).reset_index(drop=True)\n",
    "\n",
    "sns.displot(df, x=\"score\", hue=\"model\", kind=\"hist\", shrink=1, multiple=\"dodge\")\n",
    "plt.title(\"Play Pretend As Comedian\")\n",
    "plt.show()"
   ]
  }
 ],
 "metadata": {
  "kernelspec": {
   "display_name": ".venv",
   "language": "python",
   "name": "python3"
  },
  "language_info": {
   "codemirror_mode": {
    "name": "ipython",
    "version": 3
   },
   "file_extension": ".py",
   "mimetype": "text/x-python",
   "name": "python",
   "nbconvert_exporter": "python",
   "pygments_lexer": "ipython3",
   "version": "3.8.10"
  }
 },
 "nbformat": 4,
 "nbformat_minor": 2
}
