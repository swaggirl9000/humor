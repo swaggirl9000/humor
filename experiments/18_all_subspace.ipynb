{
 "cells": [
  {
   "cell_type": "markdown",
   "metadata": {},
   "source": [
    "# All Subspace Models"
   ]
  },
  {
   "cell_type": "code",
   "execution_count": 1,
   "metadata": {},
   "outputs": [],
   "source": [
    "import pandas as pd\n",
    "\n",
    "ground_truth = pd.read_csv('/home/ada/humor/data/stand_up_dataset/standup_data.csv')\n",
    "\n",
    "gemma = pd.read_csv('/home/ada/humor/data/subspace_scores/scores_gemma-2b-it.csv')\n",
    "phi = pd.read_csv('/home/ada/humor/data/subspace_scores/scores_Phi-3-mini-4k-instruct.csv')\n",
    "gemma2 = pd.read_csv('/home/ada/humor/data/subspace_scores/scores_gemma-2-9b-it.csv')\n",
    "llama = pd.read_csv(\"/home/ada/humor/data/subspace_scores/scores_Meta-Llama-3-8B-Instruct.csv\")\n"
   ]
  },
  {
   "cell_type": "code",
   "execution_count": 2,
   "metadata": {},
   "outputs": [
    {
     "name": "stdout",
     "output_type": "stream",
     "text": [
      "Subspace\n",
      "\n",
      "Gemma:  55.670106410980225\n",
      "Gemma 2:  35.91184207037384\n",
      "Phi:  33.64785751875709\n",
      "Llama:  38.3951126944785\n"
     ]
    }
   ],
   "source": [
    "print(\"Subspace\\n\")\n",
    "gemma_score = gemma[\"Score\"].mean() * 100\n",
    "print(\"Gemma: \", gemma_score)\n",
    "gemma2_score = gemma2[\"Score\"].mean() * 100\n",
    "print(\"Gemma 2: \", gemma2_score)\n",
    "phi_score = phi[\"Score\"].mean() * 100\n",
    "print(\"Phi: \", phi_score)\n",
    "llama_score = llama[\"Score\"].mean() * 100\n",
    "print(\"Llama: \", llama_score)"
   ]
  }
 ],
 "metadata": {
  "kernelspec": {
   "display_name": ".venv",
   "language": "python",
   "name": "python3"
  },
  "language_info": {
   "codemirror_mode": {
    "name": "ipython",
    "version": 3
   },
   "file_extension": ".py",
   "mimetype": "text/x-python",
   "name": "python",
   "nbconvert_exporter": "python",
   "pygments_lexer": "ipython3",
   "version": "3.8.10"
  }
 },
 "nbformat": 4,
 "nbformat_minor": 2
}
