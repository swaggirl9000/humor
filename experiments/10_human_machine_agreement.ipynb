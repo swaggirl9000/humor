{
 "cells": [
  {
   "cell_type": "markdown",
   "metadata": {},
   "source": [
    "# Human Machine Agreement"
   ]
  },
  {
   "cell_type": "markdown",
   "metadata": {},
   "source": [
    "The human-machine agreement scores were found using Percentage Agreement. In this case, we will be finding the agreement rate between each of the models evaluated in the previous experiments and human evaluators. \n",
    "\n",
    "When looking at the results, Gemma and Gemma 2 have the highest agreement ratios, meaning that the human participants and the models tended to agree on whether a quote was funny or not. Amongst all the models, despite receiving a high score with the proposed metric, ChatGPT reveals the lowest agreement rate. \n",
    "\n",
    "The overall agreement rate between human detectors and human-machine detection reaches 65% meaning that some of the time humans and machines can agree on the funniness of a transcript, but the task of pinpointing the same funny quotes proves to be difficult for both humans and AI systems."
   ]
  },
  {
   "cell_type": "code",
   "execution_count": 33,
   "metadata": {},
   "outputs": [],
   "source": [
    "import pandas as pd\n",
    "from sklearn.metrics import cohen_kappa_score\n",
    "import seaborn as sns\n",
    "import matplotlib.pyplot as plt\n",
    "from sklearn.metrics import confusion_matrix\n"
   ]
  },
  {
   "cell_type": "code",
   "execution_count": 34,
   "metadata": {},
   "outputs": [],
   "source": [
    "human = pd.read_csv(\"/home/ada/humor/data/stand_up_dataset/human_ans - Sheet1.csv\")\n",
    "models = pd.read_csv(\"/home/ada/humor/data/stand_up_dataset/llm_ans - Sheet1.csv\")"
   ]
  },
  {
   "cell_type": "markdown",
   "metadata": {},
   "source": [
    "## Percentage Agreement"
   ]
  },
  {
   "cell_type": "code",
   "execution_count": 37,
   "metadata": {},
   "outputs": [
    {
     "data": {
      "text/html": [
       "<div>\n",
       "<style scoped>\n",
       "    .dataframe tbody tr th:only-of-type {\n",
       "        vertical-align: middle;\n",
       "    }\n",
       "\n",
       "    .dataframe tbody tr th {\n",
       "        vertical-align: top;\n",
       "    }\n",
       "\n",
       "    .dataframe thead th {\n",
       "        text-align: right;\n",
       "    }\n",
       "</style>\n",
       "<table border=\"1\" class=\"dataframe\">\n",
       "  <thead>\n",
       "    <tr style=\"text-align: right;\">\n",
       "      <th></th>\n",
       "      <th>model</th>\n",
       "      <th>agreement rate</th>\n",
       "    </tr>\n",
       "  </thead>\n",
       "  <tbody>\n",
       "    <tr>\n",
       "      <th>0</th>\n",
       "      <td>gemma</td>\n",
       "      <td>68.789809</td>\n",
       "    </tr>\n",
       "    <tr>\n",
       "      <th>1</th>\n",
       "      <td>gemma2</td>\n",
       "      <td>68.789809</td>\n",
       "    </tr>\n",
       "    <tr>\n",
       "      <th>2</th>\n",
       "      <td>llama</td>\n",
       "      <td>61.146497</td>\n",
       "    </tr>\n",
       "    <tr>\n",
       "      <th>3</th>\n",
       "      <td>phi</td>\n",
       "      <td>66.878981</td>\n",
       "    </tr>\n",
       "    <tr>\n",
       "      <th>4</th>\n",
       "      <td>chatgpt</td>\n",
       "      <td>28.662420</td>\n",
       "    </tr>\n",
       "    <tr>\n",
       "      <th>5</th>\n",
       "      <td>claude</td>\n",
       "      <td>64.968153</td>\n",
       "    </tr>\n",
       "    <tr>\n",
       "      <th>6</th>\n",
       "      <td>Overall</td>\n",
       "      <td>59.872611</td>\n",
       "    </tr>\n",
       "  </tbody>\n",
       "</table>\n",
       "</div>"
      ],
      "text/plain": [
       "     model  agreement rate\n",
       "0    gemma       68.789809\n",
       "1   gemma2       68.789809\n",
       "2    llama       61.146497\n",
       "3      phi       66.878981\n",
       "4  chatgpt       28.662420\n",
       "5   claude       64.968153\n",
       "6  Overall       59.872611"
      ]
     },
     "execution_count": 37,
     "metadata": {},
     "output_type": "execute_result"
    }
   ],
   "source": [
    "human['human'] = (human['funny'] >= 5).astype(int)\n",
    "merged_df = pd.merge(human[['comedian', 'sentence', 'human']], models, on=['comedian', 'sentence'])\n",
    "\n",
    "model_names = ['gemma', 'gemma2', 'llama', 'phi', 'chatgpt', 'claude']  \n",
    "\n",
    "agreement_rates = []\n",
    "for model in model_names:\n",
    "    agreements = (merged_df['human'] == merged_df[model]).sum()\n",
    "    agreement_rate = (agreements / len(merged_df)) * 100\n",
    "    agreement_rates.append({'model': model, 'agreement rate': agreement_rate.item()})\n",
    "\n",
    "results_df = pd.DataFrame(agreement_rates)\n",
    "average_rate = results_df['agreement rate'].mean()\n",
    "results_df.loc[len(results_df.index)] = [\"Overall\", average_rate]\n",
    "results_df "
   ]
  }
 ],
 "metadata": {
  "kernelspec": {
   "display_name": ".venv",
   "language": "python",
   "name": "python3"
  },
  "language_info": {
   "codemirror_mode": {
    "name": "ipython",
    "version": 3
   },
   "file_extension": ".py",
   "mimetype": "text/x-python",
   "name": "python",
   "nbconvert_exporter": "python",
   "pygments_lexer": "ipython3",
   "version": "3.8.10"
  }
 },
 "nbformat": 4,
 "nbformat_minor": 2
}
