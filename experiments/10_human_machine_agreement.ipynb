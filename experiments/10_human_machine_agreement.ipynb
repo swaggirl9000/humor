{
 "cells": [
  {
   "cell_type": "markdown",
   "metadata": {},
   "source": [
    "# Human Machine Agreement"
   ]
  },
  {
   "cell_type": "code",
   "execution_count": 56,
   "metadata": {},
   "outputs": [],
   "source": [
    "import pandas as pd\n",
    "from sklearn.metrics import cohen_kappa_score\n",
    "from statsmodels.stats.inter_rater import fleiss_kappa"
   ]
  },
  {
   "cell_type": "code",
   "execution_count": 57,
   "metadata": {},
   "outputs": [],
   "source": [
    "human = pd.read_csv(\"/home/ada/humor/data/stand_up_dataset/human_ans - Sheet1.csv\")\n",
    "models = pd.read_csv(\"/home/ada/humor/data/stand_up_dataset/llm_ans - Sheet1.csv\")"
   ]
  },
  {
   "cell_type": "code",
   "execution_count": 58,
   "metadata": {},
   "outputs": [],
   "source": [
    "merged_df = pd.merge(human, models, on=['comedian', 'sentence'])\n",
    "human['funny'] = human['funny'].apply(lambda x: 1 if x > 0 else 0)"
   ]
  },
  {
   "cell_type": "markdown",
   "metadata": {},
   "source": [
    "Cohen's Kappa"
   ]
  },
  {
   "cell_type": "code",
   "execution_count": 59,
   "metadata": {},
   "outputs": [
    {
     "data": {
      "text/html": [
       "<div>\n",
       "<style scoped>\n",
       "    .dataframe tbody tr th:only-of-type {\n",
       "        vertical-align: middle;\n",
       "    }\n",
       "\n",
       "    .dataframe tbody tr th {\n",
       "        vertical-align: top;\n",
       "    }\n",
       "\n",
       "    .dataframe thead th {\n",
       "        text-align: right;\n",
       "    }\n",
       "</style>\n",
       "<table border=\"1\" class=\"dataframe\">\n",
       "  <thead>\n",
       "    <tr style=\"text-align: right;\">\n",
       "      <th></th>\n",
       "      <th>comedian</th>\n",
       "      <th>kappa</th>\n",
       "    </tr>\n",
       "  </thead>\n",
       "  <tbody>\n",
       "    <tr>\n",
       "      <th>0</th>\n",
       "      <td>gemma</td>\n",
       "      <td>0.102036</td>\n",
       "    </tr>\n",
       "    <tr>\n",
       "      <th>1</th>\n",
       "      <td>gemma2</td>\n",
       "      <td>0.212638</td>\n",
       "    </tr>\n",
       "    <tr>\n",
       "      <th>2</th>\n",
       "      <td>llama</td>\n",
       "      <td>-0.014322</td>\n",
       "    </tr>\n",
       "    <tr>\n",
       "      <th>3</th>\n",
       "      <td>phi</td>\n",
       "      <td>0.035182</td>\n",
       "    </tr>\n",
       "    <tr>\n",
       "      <th>4</th>\n",
       "      <td>chatgpt</td>\n",
       "      <td>0.164153</td>\n",
       "    </tr>\n",
       "    <tr>\n",
       "      <th>5</th>\n",
       "      <td>claude</td>\n",
       "      <td>0.381044</td>\n",
       "    </tr>\n",
       "    <tr>\n",
       "      <th>6</th>\n",
       "      <td>Average</td>\n",
       "      <td>0.146788</td>\n",
       "    </tr>\n",
       "  </tbody>\n",
       "</table>\n",
       "</div>"
      ],
      "text/plain": [
       "  comedian     kappa\n",
       "0    gemma  0.102036\n",
       "1   gemma2  0.212638\n",
       "2    llama -0.014322\n",
       "3      phi  0.035182\n",
       "4  chatgpt  0.164153\n",
       "5   claude  0.381044\n",
       "6  Average  0.146788"
      ]
     },
     "execution_count": 59,
     "metadata": {},
     "output_type": "execute_result"
    }
   ],
   "source": [
    "def calculate_kappa(human, model, model_name):\n",
    "    merged_df = pd.merge(human, model, on=['comedian', 'sentence'])\n",
    "    return cohen_kappa_score(merged_df['funny'], merged_df[model_name])\n",
    "\n",
    "model_names = ['gemma', 'gemma2', 'llama', 'phi', 'chatgpt', 'claude']  \n",
    "results = []\n",
    "\n",
    "for m in model_names:\n",
    "    kappa = calculate_kappa(human, models, m)\n",
    "    results.append({'comedian': m, 'kappa': kappa}) \n",
    "\n",
    "results_df = pd.DataFrame(results)\n",
    "average_kappa = results_df['kappa'].mean()\n",
    "results_df.loc[len(results_df.index)] = [\"Average\", average_kappa]\n",
    "results_df"
   ]
  }
 ],
 "metadata": {
  "kernelspec": {
   "display_name": ".venv",
   "language": "python",
   "name": "python3"
  },
  "language_info": {
   "codemirror_mode": {
    "name": "ipython",
    "version": 3
   },
   "file_extension": ".py",
   "mimetype": "text/x-python",
   "name": "python",
   "nbconvert_exporter": "python",
   "pygments_lexer": "ipython3",
   "version": "3.8.10"
  }
 },
 "nbformat": 4,
 "nbformat_minor": 2
}
