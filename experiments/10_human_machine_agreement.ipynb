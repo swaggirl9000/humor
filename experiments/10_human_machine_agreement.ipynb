{
 "cells": [
  {
   "cell_type": "markdown",
   "metadata": {},
   "source": [
    "# Human Machine Agreement"
   ]
  },
  {
   "cell_type": "code",
   "execution_count": 2,
   "metadata": {},
   "outputs": [],
   "source": [
    "import pandas as pd\n",
    "from sklearn.metrics import cohen_kappa_score"
   ]
  },
  {
   "cell_type": "code",
   "execution_count": 3,
   "metadata": {},
   "outputs": [],
   "source": [
    "human = pd.read_csv(\"/home/ada/humor/data/stand_up_dataset/human_ans - Sheet1.csv\")\n",
    "models = pd.read_csv(\"/home/ada/humor/data/stand_up_dataset/llm_ans - Sheet1.csv\")"
   ]
  },
  {
   "cell_type": "code",
   "execution_count": 12,
   "metadata": {},
   "outputs": [],
   "source": [
    "merged_df = pd.merge(human, models, on=['comedian', 'sentence'])"
   ]
  },
  {
   "cell_type": "markdown",
   "metadata": {},
   "source": [
    "Cohen's Kappa"
   ]
  },
  {
   "cell_type": "markdown",
   "metadata": {},
   "source": [
    "do i change to binary classification on human side?"
   ]
  },
  {
   "cell_type": "code",
   "execution_count": 16,
   "metadata": {},
   "outputs": [],
   "source": [
    "human['funny'] = human['funny'].apply(lambda x: 1 if x > 0 else 0)"
   ]
  },
  {
   "cell_type": "code",
   "execution_count": 19,
   "metadata": {},
   "outputs": [
    {
     "name": "stdout",
     "output_type": "stream",
     "text": [
      "Cohen's Kappa for gemma: 10.203614733470602\n",
      "Cohen's Kappa for gemma2: 21.263791374122366\n",
      "Cohen's Kappa for llama: -1.4322409901144306\n",
      "Cohen's Kappa for phi: 3.5182055615301744\n",
      "Cohen's Kappa for chatgpt: 16.415261756876664\n",
      "Cohen's Kappa for claude: 38.10443318046504\n"
     ]
    }
   ],
   "source": [
    "def calculate_kappa(human, model, model_name):\n",
    "    merged_df = pd.merge(human, model, on=['comedian', 'sentence'])\n",
    "    return cohen_kappa_score(merged_df['funny'], merged_df[model_name])\n",
    "\n",
    "model_names = ['gemma', 'gemma2', 'llama', 'phi', 'chatgpt', 'claude']  \n",
    "results = {}\n",
    "\n",
    "for m in model_names:\n",
    "    kappa = calculate_kappa(human, models, m)\n",
    "    results[m] = kappa*100\n",
    "\n",
    "for model, kappa in results.items():\n",
    "    print(f\"Cohen's Kappa for {model}: {kappa}\")"
   ]
  }
 ],
 "metadata": {
  "kernelspec": {
   "display_name": ".venv",
   "language": "python",
   "name": "python3"
  },
  "language_info": {
   "codemirror_mode": {
    "name": "ipython",
    "version": 3
   },
   "file_extension": ".py",
   "mimetype": "text/x-python",
   "name": "python",
   "nbconvert_exporter": "python",
   "pygments_lexer": "ipython3",
   "version": "3.8.10"
  }
 },
 "nbformat": 4,
 "nbformat_minor": 2
}
