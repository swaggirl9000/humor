{
 "cells": [
  {
   "cell_type": "markdown",
   "metadata": {},
   "source": [
    "# Find Max and Min Comedian Averages\n",
    "\n",
    "To identify potential overlaps in the transcripts on which the models perform best and worst, we analyze the maximum and minimum performance values for each model. This approach allows us to determine if there are specific transcripts where a model consistently excels or underperforms, thereby revealing any patterns or overlaps in the models' performance across different transcripts. \n",
    "\n",
    "All models demonstrated their highest performance on the second Trevor Noah transcript and their lowest performance on the Ali Wong transcript. This pattern indicates that, regardless of the model, the second Trevor Noah transcript consistently yielded better results, while the Ali Wong transcript consistently yielded poorer results."
   ]
  },
  {
   "cell_type": "markdown",
   "metadata": {},
   "source": [
    "### Imports"
   ]
  },
  {
   "cell_type": "code",
   "execution_count": 13,
   "metadata": {},
   "outputs": [],
   "source": [
    "import sys\n",
    "import pandas as pd\n",
    "sys.path.append(\"..\")\n",
    "import seaborn as sns\n",
    "import nltk\n",
    "from thefuzz import fuzz\n",
    "\n",
    "from humor.bipartite_metric import bipartite_metric"
   ]
  },
  {
   "cell_type": "code",
   "execution_count": 14,
   "metadata": {},
   "outputs": [],
   "source": [
    "ground_truth = pd.read_csv('/home/ada/humor/data/stand_up_dataset/standup_data.csv')\n",
    "gemma = pd.read_csv('/home/ada/humor/data/stand_up_dataset/gemma_answers.csv')\n",
    "phi_model = pd.read_csv(\"/home/ada/humor/data/stand_up_dataset/phi3_mini_quotes.csv\")\n",
    "gemma2 = pd.read_csv(\"/home/ada/humor/data/stand_up_dataset/gemma2 - gemma2.csv\")\n",
    "llama = pd.read_csv(\"/home/ada/humor/data/stand_up_dataset/llama - llama.csv\")"
   ]
  },
  {
   "cell_type": "markdown",
   "metadata": {},
   "source": [
    "### Experiment"
   ]
  },
  {
   "cell_type": "code",
   "execution_count": 15,
   "metadata": {},
   "outputs": [
    {
     "name": "stdout",
     "output_type": "stream",
     "text": [
      "Maximum: comedian    Trevor_Noah_2\n",
      "score           71.333333\n",
      "dtype: object\n",
      "Minimum: comedian    Ali_Wong\n",
      "score       5.708333\n",
      "dtype: object\n"
     ]
    }
   ],
   "source": [
    "#Gemma\n",
    "gemma_metric = bipartite_metric(gemma, ground_truth)\n",
    "print(\"Maximum:\", gemma_metric.max())\n",
    "print(\"Minimum:\", gemma_metric.min())"
   ]
  },
  {
   "cell_type": "code",
   "execution_count": 16,
   "metadata": {},
   "outputs": [
    {
     "name": "stdout",
     "output_type": "stream",
     "text": [
      "Maximum: comedian    Trevor_Noah_2\n",
      "score           63.571429\n",
      "dtype: object\n",
      "Minimum: comedian    Ali_Wong\n",
      "score       3.233333\n",
      "dtype: object\n"
     ]
    }
   ],
   "source": [
    "gemma2_metric = bipartite_metric(gemma2, ground_truth)\n",
    "print(\"Maximum:\", gemma2_metric.max())\n",
    "print(\"Minimum:\", gemma2_metric.min())"
   ]
  },
  {
   "cell_type": "code",
   "execution_count": 17,
   "metadata": {},
   "outputs": [
    {
     "name": "stdout",
     "output_type": "stream",
     "text": [
      "Maximum: comedian    Trevor_Noah_2\n",
      "score              57.875\n",
      "dtype: object\n",
      "Minimum: comedian    Ali_Wong\n",
      "score          3.875\n",
      "dtype: object\n"
     ]
    }
   ],
   "source": [
    "phi_metric = bipartite_metric(phi_model, ground_truth)\n",
    "print(\"Maximum:\", phi_metric.max())\n",
    "print(\"Minimum:\", phi_metric.min())"
   ]
  },
  {
   "cell_type": "code",
   "execution_count": 18,
   "metadata": {},
   "outputs": [
    {
     "name": "stdout",
     "output_type": "stream",
     "text": [
      "Maximum: comedian    Trevor_Noah_2\n",
      "score                69.7\n",
      "dtype: object\n",
      "Minimum: comedian    Ali_Wong\n",
      "score          4.375\n",
      "dtype: object\n"
     ]
    }
   ],
   "source": [
    "llama_metric = bipartite_metric(llama, ground_truth)\n",
    "print(\"Maximum:\", llama_metric.max())\n",
    "print(\"Minimum:\", llama_metric.min())"
   ]
  },
  {
   "cell_type": "markdown",
   "metadata": {},
   "source": [
    "### Max Trevor Noah"
   ]
  },
  {
   "cell_type": "code",
   "execution_count": 19,
   "metadata": {},
   "outputs": [
    {
     "data": {
      "text/html": [
       "<div>\n",
       "<style scoped>\n",
       "    .dataframe tbody tr th:only-of-type {\n",
       "        vertical-align: middle;\n",
       "    }\n",
       "\n",
       "    .dataframe tbody tr th {\n",
       "        vertical-align: top;\n",
       "    }\n",
       "\n",
       "    .dataframe thead th {\n",
       "        text-align: right;\n",
       "    }\n",
       "</style>\n",
       "<table border=\"1\" class=\"dataframe\">\n",
       "  <thead>\n",
       "    <tr style=\"text-align: right;\">\n",
       "      <th></th>\n",
       "      <th>comedian</th>\n",
       "      <th>laugh_start</th>\n",
       "      <th>laugh_end</th>\n",
       "      <th>sentence</th>\n",
       "    </tr>\n",
       "  </thead>\n",
       "  <tbody>\n",
       "    <tr>\n",
       "      <th>238</th>\n",
       "      <td>Trevor_Noah_2</td>\n",
       "      <td>13.273</td>\n",
       "      <td>17.662</td>\n",
       "      <td>You can't be running in the streets: \"And a Ki...</td>\n",
       "    </tr>\n",
       "    <tr>\n",
       "      <th>239</th>\n",
       "      <td>Trevor_Noah_2</td>\n",
       "      <td>26.474</td>\n",
       "      <td>27.698</td>\n",
       "      <td>\"Who the hell is this?!\" \"I'm not telling you.\"</td>\n",
       "    </tr>\n",
       "    <tr>\n",
       "      <th>240</th>\n",
       "      <td>Trevor_Noah_2</td>\n",
       "      <td>60.423</td>\n",
       "      <td>62.326</td>\n",
       "      <td>People would be like, \"Let him in. Let him in!\"</td>\n",
       "    </tr>\n",
       "    <tr>\n",
       "      <th>241</th>\n",
       "      <td>Trevor_Noah_2</td>\n",
       "      <td>74.216</td>\n",
       "      <td>78.397</td>\n",
       "      <td>\"He is so right. We've always got to ask, 'Who...</td>\n",
       "    </tr>\n",
       "  </tbody>\n",
       "</table>\n",
       "</div>"
      ],
      "text/plain": [
       "          comedian  laugh_start  laugh_end  \\\n",
       "238  Trevor_Noah_2       13.273     17.662   \n",
       "239  Trevor_Noah_2       26.474     27.698   \n",
       "240  Trevor_Noah_2       60.423     62.326   \n",
       "241  Trevor_Noah_2       74.216     78.397   \n",
       "\n",
       "                                              sentence  \n",
       "238  You can't be running in the streets: \"And a Ki...  \n",
       "239    \"Who the hell is this?!\" \"I'm not telling you.\"  \n",
       "240    People would be like, \"Let him in. Let him in!\"  \n",
       "241  \"He is so right. We've always got to ask, 'Who...  "
      ]
     },
     "execution_count": 19,
     "metadata": {},
     "output_type": "execute_result"
    }
   ],
   "source": [
    "ground_truth[ground_truth[\"comedian\"] == \"Trevor_Noah_2\"]"
   ]
  },
  {
   "cell_type": "code",
   "execution_count": 20,
   "metadata": {},
   "outputs": [
    {
     "data": {
      "text/html": [
       "<div>\n",
       "<style scoped>\n",
       "    .dataframe tbody tr th:only-of-type {\n",
       "        vertical-align: middle;\n",
       "    }\n",
       "\n",
       "    .dataframe tbody tr th {\n",
       "        vertical-align: top;\n",
       "    }\n",
       "\n",
       "    .dataframe thead th {\n",
       "        text-align: right;\n",
       "    }\n",
       "</style>\n",
       "<table border=\"1\" class=\"dataframe\">\n",
       "  <thead>\n",
       "    <tr style=\"text-align: right;\">\n",
       "      <th></th>\n",
       "      <th>comedian</th>\n",
       "      <th>sentence</th>\n",
       "    </tr>\n",
       "  </thead>\n",
       "  <tbody>\n",
       "    <tr>\n",
       "      <th>111</th>\n",
       "      <td>Trevor_Noah_2</td>\n",
       "      <td>You can't be normal man with a voice like that...</td>\n",
       "    </tr>\n",
       "    <tr>\n",
       "      <th>112</th>\n",
       "      <td>Trevor_Noah_2</td>\n",
       "      <td>It just doesn't work. I remember when Nelson M...</td>\n",
       "    </tr>\n",
       "    <tr>\n",
       "      <th>113</th>\n",
       "      <td>Trevor_Noah_2</td>\n",
       "      <td>Everything he did, he'd just be like, 'Ah, kno...</td>\n",
       "    </tr>\n",
       "  </tbody>\n",
       "</table>\n",
       "</div>"
      ],
      "text/plain": [
       "          comedian                                           sentence\n",
       "111  Trevor_Noah_2  You can't be normal man with a voice like that...\n",
       "112  Trevor_Noah_2  It just doesn't work. I remember when Nelson M...\n",
       "113  Trevor_Noah_2  Everything he did, he'd just be like, 'Ah, kno..."
      ]
     },
     "execution_count": 20,
     "metadata": {},
     "output_type": "execute_result"
    }
   ],
   "source": [
    "gemma[gemma[\"comedian\"] == \"Trevor_Noah_2\"]"
   ]
  },
  {
   "cell_type": "code",
   "execution_count": 21,
   "metadata": {},
   "outputs": [
    {
     "data": {
      "text/html": [
       "<div>\n",
       "<style scoped>\n",
       "    .dataframe tbody tr th:only-of-type {\n",
       "        vertical-align: middle;\n",
       "    }\n",
       "\n",
       "    .dataframe tbody tr th {\n",
       "        vertical-align: top;\n",
       "    }\n",
       "\n",
       "    .dataframe thead th {\n",
       "        text-align: right;\n",
       "    }\n",
       "</style>\n",
       "<table border=\"1\" class=\"dataframe\">\n",
       "  <thead>\n",
       "    <tr style=\"text-align: right;\">\n",
       "      <th></th>\n",
       "      <th>comedian</th>\n",
       "      <th>sentence</th>\n",
       "    </tr>\n",
       "  </thead>\n",
       "  <tbody>\n",
       "    <tr>\n",
       "      <th>121</th>\n",
       "      <td>Trevor_Noah_2</td>\n",
       "      <td>And a Kit Kat, please.</td>\n",
       "    </tr>\n",
       "    <tr>\n",
       "      <th>122</th>\n",
       "      <td>Trevor_Noah_2</td>\n",
       "      <td>Who the hell is this?</td>\n",
       "    </tr>\n",
       "    <tr>\n",
       "      <th>123</th>\n",
       "      <td>Trevor_Noah_2</td>\n",
       "      <td>I’m not telling you.</td>\n",
       "    </tr>\n",
       "    <tr>\n",
       "      <th>124</th>\n",
       "      <td>Trevor_Noah_2</td>\n",
       "      <td>Ah, knock, knock.</td>\n",
       "    </tr>\n",
       "    <tr>\n",
       "      <th>125</th>\n",
       "      <td>Trevor_Noah_2</td>\n",
       "      <td>Let him in. Let him in!\"</td>\n",
       "    </tr>\n",
       "    <tr>\n",
       "      <th>126</th>\n",
       "      <td>Trevor_Noah_2</td>\n",
       "      <td>\"No. No, no. You must say, ‘Who’s there?\\'</td>\n",
       "    </tr>\n",
       "    <tr>\n",
       "      <th>127</th>\n",
       "      <td>Trevor_Noah_2</td>\n",
       "      <td>He is so right. We’ve always got to ask, ‘Who’...</td>\n",
       "    </tr>\n",
       "  </tbody>\n",
       "</table>\n",
       "</div>"
      ],
      "text/plain": [
       "          comedian                                           sentence\n",
       "121  Trevor_Noah_2                             And a Kit Kat, please.\n",
       "122  Trevor_Noah_2                              Who the hell is this?\n",
       "123  Trevor_Noah_2                               I’m not telling you.\n",
       "124  Trevor_Noah_2                                  Ah, knock, knock.\n",
       "125  Trevor_Noah_2                           Let him in. Let him in!\"\n",
       "126  Trevor_Noah_2         \"No. No, no. You must say, ‘Who’s there?\\'\n",
       "127  Trevor_Noah_2  He is so right. We’ve always got to ask, ‘Who’..."
      ]
     },
     "execution_count": 21,
     "metadata": {},
     "output_type": "execute_result"
    }
   ],
   "source": [
    "gemma2[gemma2[\"comedian\"] == \"Trevor_Noah_2\"]"
   ]
  },
  {
   "cell_type": "code",
   "execution_count": 22,
   "metadata": {},
   "outputs": [
    {
     "data": {
      "text/html": [
       "<div>\n",
       "<style scoped>\n",
       "    .dataframe tbody tr th:only-of-type {\n",
       "        vertical-align: middle;\n",
       "    }\n",
       "\n",
       "    .dataframe tbody tr th {\n",
       "        vertical-align: top;\n",
       "    }\n",
       "\n",
       "    .dataframe thead th {\n",
       "        text-align: right;\n",
       "    }\n",
       "</style>\n",
       "<table border=\"1\" class=\"dataframe\">\n",
       "  <thead>\n",
       "    <tr style=\"text-align: right;\">\n",
       "      <th></th>\n",
       "      <th>comedian</th>\n",
       "      <th>sentence</th>\n",
       "    </tr>\n",
       "  </thead>\n",
       "  <tbody>\n",
       "    <tr>\n",
       "      <th>108</th>\n",
       "      <td>Trevor_Noah_2</td>\n",
       "      <td>He could not be a normal man with a voice like...</td>\n",
       "    </tr>\n",
       "    <tr>\n",
       "      <th>109</th>\n",
       "      <td>Trevor_Noah_2</td>\n",
       "      <td>You can’t be running in the streets: 'And a Ki...</td>\n",
       "    </tr>\n",
       "    <tr>\n",
       "      <th>110</th>\n",
       "      <td>Trevor_Noah_2</td>\n",
       "      <td>You can’t be silly. What are you making, prank...</td>\n",
       "    </tr>\n",
       "  </tbody>\n",
       "</table>\n",
       "</div>"
      ],
      "text/plain": [
       "          comedian                                           sentence\n",
       "108  Trevor_Noah_2  He could not be a normal man with a voice like...\n",
       "109  Trevor_Noah_2  You can’t be running in the streets: 'And a Ki...\n",
       "110  Trevor_Noah_2  You can’t be silly. What are you making, prank..."
      ]
     },
     "execution_count": 22,
     "metadata": {},
     "output_type": "execute_result"
    }
   ],
   "source": [
    "phi_model[phi_model[\"comedian\"] == \"Trevor_Noah_2\"]"
   ]
  },
  {
   "cell_type": "code",
   "execution_count": 23,
   "metadata": {},
   "outputs": [
    {
     "data": {
      "text/html": [
       "<div>\n",
       "<style scoped>\n",
       "    .dataframe tbody tr th:only-of-type {\n",
       "        vertical-align: middle;\n",
       "    }\n",
       "\n",
       "    .dataframe tbody tr th {\n",
       "        vertical-align: top;\n",
       "    }\n",
       "\n",
       "    .dataframe thead th {\n",
       "        text-align: right;\n",
       "    }\n",
       "</style>\n",
       "<table border=\"1\" class=\"dataframe\">\n",
       "  <thead>\n",
       "    <tr style=\"text-align: right;\">\n",
       "      <th></th>\n",
       "      <th>comedian</th>\n",
       "      <th>sentence</th>\n",
       "    </tr>\n",
       "  </thead>\n",
       "  <tbody>\n",
       "    <tr>\n",
       "      <th>127</th>\n",
       "      <td>Trevor_Noah_2</td>\n",
       "      <td>And a Kit Kat, please.</td>\n",
       "    </tr>\n",
       "    <tr>\n",
       "      <th>128</th>\n",
       "      <td>Trevor_Noah_2</td>\n",
       "      <td>Who the hell is this?!\" \"I\\'m not telling you.\"</td>\n",
       "    </tr>\n",
       "    <tr>\n",
       "      <th>129</th>\n",
       "      <td>Trevor_Noah_2</td>\n",
       "      <td>Ah, knock, knock.</td>\n",
       "    </tr>\n",
       "    <tr>\n",
       "      <th>130</th>\n",
       "      <td>Trevor_Noah_2</td>\n",
       "      <td>Who\\'s there?\" \"He is so right. We\\'ve always ...</td>\n",
       "    </tr>\n",
       "  </tbody>\n",
       "</table>\n",
       "</div>"
      ],
      "text/plain": [
       "          comedian                                           sentence\n",
       "127  Trevor_Noah_2                             And a Kit Kat, please.\n",
       "128  Trevor_Noah_2    Who the hell is this?!\" \"I\\'m not telling you.\"\n",
       "129  Trevor_Noah_2                                  Ah, knock, knock.\n",
       "130  Trevor_Noah_2  Who\\'s there?\" \"He is so right. We\\'ve always ..."
      ]
     },
     "execution_count": 23,
     "metadata": {},
     "output_type": "execute_result"
    }
   ],
   "source": [
    "llama[llama[\"comedian\"] == \"Trevor_Noah_2\"]"
   ]
  },
  {
   "cell_type": "markdown",
   "metadata": {},
   "source": [
    "### Minimum of Ali Wong"
   ]
  },
  {
   "cell_type": "code",
   "execution_count": 24,
   "metadata": {},
   "outputs": [
    {
     "data": {
      "text/html": [
       "<div>\n",
       "<style scoped>\n",
       "    .dataframe tbody tr th:only-of-type {\n",
       "        vertical-align: middle;\n",
       "    }\n",
       "\n",
       "    .dataframe tbody tr th {\n",
       "        vertical-align: top;\n",
       "    }\n",
       "\n",
       "    .dataframe thead th {\n",
       "        text-align: right;\n",
       "    }\n",
       "</style>\n",
       "<table border=\"1\" class=\"dataframe\">\n",
       "  <thead>\n",
       "    <tr style=\"text-align: right;\">\n",
       "      <th></th>\n",
       "      <th>comedian</th>\n",
       "      <th>laugh_start</th>\n",
       "      <th>laugh_end</th>\n",
       "      <th>sentence</th>\n",
       "    </tr>\n",
       "  </thead>\n",
       "  <tbody>\n",
       "    <tr>\n",
       "      <th>77</th>\n",
       "      <td>Ali_Wong</td>\n",
       "      <td>21.007</td>\n",
       "      <td>28.986</td>\n",
       "      <td>We were screaming and fighting and yelling and...</td>\n",
       "    </tr>\n",
       "    <tr>\n",
       "      <th>78</th>\n",
       "      <td>Ali_Wong</td>\n",
       "      <td>48.803</td>\n",
       "      <td>51.189</td>\n",
       "      <td>We were all required to buy it when we were in...</td>\n",
       "    </tr>\n",
       "    <tr>\n",
       "      <th>79</th>\n",
       "      <td>Ali_Wong</td>\n",
       "      <td>56.780</td>\n",
       "      <td>60.001</td>\n",
       "      <td>All because what? It could graph.</td>\n",
       "    </tr>\n",
       "    <tr>\n",
       "      <th>80</th>\n",
       "      <td>Ali_Wong</td>\n",
       "      <td>62.470</td>\n",
       "      <td>66.230</td>\n",
       "      <td>It was like the Tesla of my time.</td>\n",
       "    </tr>\n",
       "    <tr>\n",
       "      <th>81</th>\n",
       "      <td>Ali_Wong</td>\n",
       "      <td>69.380</td>\n",
       "      <td>71.670</td>\n",
       "      <td>I do know... that I'm gonna have to clean all ...</td>\n",
       "    </tr>\n",
       "    <tr>\n",
       "      <th>82</th>\n",
       "      <td>Ali_Wong</td>\n",
       "      <td>93.523</td>\n",
       "      <td>98.684</td>\n",
       "      <td>Because according to Deepak-Oprah, that's not ...</td>\n",
       "    </tr>\n",
       "  </tbody>\n",
       "</table>\n",
       "</div>"
      ],
      "text/plain": [
       "    comedian  laugh_start  laugh_end  \\\n",
       "77  Ali_Wong       21.007     28.986   \n",
       "78  Ali_Wong       48.803     51.189   \n",
       "79  Ali_Wong       56.780     60.001   \n",
       "80  Ali_Wong       62.470     66.230   \n",
       "81  Ali_Wong       69.380     71.670   \n",
       "82  Ali_Wong       93.523     98.684   \n",
       "\n",
       "                                             sentence  \n",
       "77  We were screaming and fighting and yelling and...  \n",
       "78  We were all required to buy it when we were in...  \n",
       "79                  All because what? It could graph.  \n",
       "80                  It was like the Tesla of my time.  \n",
       "81  I do know... that I'm gonna have to clean all ...  \n",
       "82  Because according to Deepak-Oprah, that's not ...  "
      ]
     },
     "execution_count": 24,
     "metadata": {},
     "output_type": "execute_result"
    }
   ],
   "source": [
    "ground_truth[ground_truth[\"comedian\"] == \"Ali_Wong\"]"
   ]
  },
  {
   "cell_type": "code",
   "execution_count": 25,
   "metadata": {},
   "outputs": [
    {
     "data": {
      "text/html": [
       "<div>\n",
       "<style scoped>\n",
       "    .dataframe tbody tr th:only-of-type {\n",
       "        vertical-align: middle;\n",
       "    }\n",
       "\n",
       "    .dataframe tbody tr th {\n",
       "        vertical-align: top;\n",
       "    }\n",
       "\n",
       "    .dataframe thead th {\n",
       "        text-align: right;\n",
       "    }\n",
       "</style>\n",
       "<table border=\"1\" class=\"dataframe\">\n",
       "  <thead>\n",
       "    <tr style=\"text-align: right;\">\n",
       "      <th></th>\n",
       "      <th>comedian</th>\n",
       "      <th>sentence</th>\n",
       "    </tr>\n",
       "  </thead>\n",
       "  <tbody>\n",
       "    <tr>\n",
       "      <th>6</th>\n",
       "      <td>Ali_Wong</td>\n",
       "      <td>It was like the worst experience of my life. I...</td>\n",
       "    </tr>\n",
       "    <tr>\n",
       "      <th>7</th>\n",
       "      <td>Ali_Wong</td>\n",
       "      <td>Those of you under 25 probably don't know what...</td>\n",
       "    </tr>\n",
       "    <tr>\n",
       "      <th>8</th>\n",
       "      <td>Ali_Wong</td>\n",
       "      <td>It was like the Tesla of my time.</td>\n",
       "    </tr>\n",
       "    <tr>\n",
       "      <th>9</th>\n",
       "      <td>Ali_Wong</td>\n",
       "      <td>I'm not trying to be a procrastinator anymore....</td>\n",
       "    </tr>\n",
       "  </tbody>\n",
       "</table>\n",
       "</div>"
      ],
      "text/plain": [
       "   comedian                                           sentence\n",
       "6  Ali_Wong  It was like the worst experience of my life. I...\n",
       "7  Ali_Wong  Those of you under 25 probably don't know what...\n",
       "8  Ali_Wong                  It was like the Tesla of my time.\n",
       "9  Ali_Wong  I'm not trying to be a procrastinator anymore...."
      ]
     },
     "execution_count": 25,
     "metadata": {},
     "output_type": "execute_result"
    }
   ],
   "source": [
    "gemma[gemma[\"comedian\"] == \"Ali_Wong\"]"
   ]
  },
  {
   "cell_type": "code",
   "execution_count": 26,
   "metadata": {},
   "outputs": [
    {
     "data": {
      "text/html": [
       "<div>\n",
       "<style scoped>\n",
       "    .dataframe tbody tr th:only-of-type {\n",
       "        vertical-align: middle;\n",
       "    }\n",
       "\n",
       "    .dataframe tbody tr th {\n",
       "        vertical-align: top;\n",
       "    }\n",
       "\n",
       "    .dataframe thead th {\n",
       "        text-align: right;\n",
       "    }\n",
       "</style>\n",
       "<table border=\"1\" class=\"dataframe\">\n",
       "  <thead>\n",
       "    <tr style=\"text-align: right;\">\n",
       "      <th></th>\n",
       "      <th>comedian</th>\n",
       "      <th>sentence</th>\n",
       "    </tr>\n",
       "  </thead>\n",
       "  <tbody>\n",
       "    <tr>\n",
       "      <th>9</th>\n",
       "      <td>Ali_Wong</td>\n",
       "      <td>Don’t ever do that with your mom.</td>\n",
       "    </tr>\n",
       "    <tr>\n",
       "      <th>10</th>\n",
       "      <td>Ali_Wong</td>\n",
       "      <td>It was so emotional. We were screaming and fig...</td>\n",
       "    </tr>\n",
       "    <tr>\n",
       "      <th>11</th>\n",
       "      <td>Ali_Wong</td>\n",
       "      <td>She don’t even know… where the calculator is.</td>\n",
       "    </tr>\n",
       "    <tr>\n",
       "      <th>12</th>\n",
       "      <td>Ali_Wong</td>\n",
       "      <td>It was this calculator that bamboozled my gene...</td>\n",
       "    </tr>\n",
       "  </tbody>\n",
       "</table>\n",
       "</div>"
      ],
      "text/plain": [
       "    comedian                                           sentence\n",
       "9   Ali_Wong                  Don’t ever do that with your mom.\n",
       "10  Ali_Wong  It was so emotional. We were screaming and fig...\n",
       "11  Ali_Wong      She don’t even know… where the calculator is.\n",
       "12  Ali_Wong  It was this calculator that bamboozled my gene..."
      ]
     },
     "execution_count": 26,
     "metadata": {},
     "output_type": "execute_result"
    }
   ],
   "source": [
    "gemma2[gemma2[\"comedian\"] == \"Ali_Wong\"]"
   ]
  },
  {
   "cell_type": "code",
   "execution_count": 27,
   "metadata": {},
   "outputs": [
    {
     "data": {
      "text/html": [
       "<div>\n",
       "<style scoped>\n",
       "    .dataframe tbody tr th:only-of-type {\n",
       "        vertical-align: middle;\n",
       "    }\n",
       "\n",
       "    .dataframe tbody tr th {\n",
       "        vertical-align: top;\n",
       "    }\n",
       "\n",
       "    .dataframe thead th {\n",
       "        text-align: right;\n",
       "    }\n",
       "</style>\n",
       "<table border=\"1\" class=\"dataframe\">\n",
       "  <thead>\n",
       "    <tr style=\"text-align: right;\">\n",
       "      <th></th>\n",
       "      <th>comedian</th>\n",
       "      <th>sentence</th>\n",
       "    </tr>\n",
       "  </thead>\n",
       "  <tbody>\n",
       "    <tr>\n",
       "      <th>6</th>\n",
       "      <td>Ali_Wong</td>\n",
       "      <td>It was like the worst experience of my life.</td>\n",
       "    </tr>\n",
       "    <tr>\n",
       "      <th>7</th>\n",
       "      <td>Ali_Wong</td>\n",
       "      <td>We were screaming and fighting and yelling and...</td>\n",
       "    </tr>\n",
       "    <tr>\n",
       "      <th>8</th>\n",
       "      <td>Ali_Wong</td>\n",
       "      <td>She don’t even know… where the calculator is.</td>\n",
       "    </tr>\n",
       "    <tr>\n",
       "      <th>9</th>\n",
       "      <td>Ali_Wong</td>\n",
       "      <td>It was like this Judy Jetson’s laptop from the...</td>\n",
       "    </tr>\n",
       "    <tr>\n",
       "      <th>10</th>\n",
       "      <td>Ali_Wong</td>\n",
       "      <td>I’m not trying to be a procrastinator anymore.</td>\n",
       "    </tr>\n",
       "  </tbody>\n",
       "</table>\n",
       "</div>"
      ],
      "text/plain": [
       "    comedian                                           sentence\n",
       "6   Ali_Wong       It was like the worst experience of my life.\n",
       "7   Ali_Wong  We were screaming and fighting and yelling and...\n",
       "8   Ali_Wong      She don’t even know… where the calculator is.\n",
       "9   Ali_Wong  It was like this Judy Jetson’s laptop from the...\n",
       "10  Ali_Wong     I’m not trying to be a procrastinator anymore."
      ]
     },
     "execution_count": 27,
     "metadata": {},
     "output_type": "execute_result"
    }
   ],
   "source": [
    "phi_model[phi_model[\"comedian\"] == \"Ali_Wong\"]"
   ]
  },
  {
   "cell_type": "code",
   "execution_count": 28,
   "metadata": {},
   "outputs": [
    {
     "data": {
      "text/html": [
       "<div>\n",
       "<style scoped>\n",
       "    .dataframe tbody tr th:only-of-type {\n",
       "        vertical-align: middle;\n",
       "    }\n",
       "\n",
       "    .dataframe tbody tr th {\n",
       "        vertical-align: top;\n",
       "    }\n",
       "\n",
       "    .dataframe thead th {\n",
       "        text-align: right;\n",
       "    }\n",
       "</style>\n",
       "<table border=\"1\" class=\"dataframe\">\n",
       "  <thead>\n",
       "    <tr style=\"text-align: right;\">\n",
       "      <th></th>\n",
       "      <th>comedian</th>\n",
       "      <th>sentence</th>\n",
       "    </tr>\n",
       "  </thead>\n",
       "  <tbody>\n",
       "    <tr>\n",
       "      <th>6</th>\n",
       "      <td>Ali_Wong</td>\n",
       "      <td>Don’t ever do that with your mom.</td>\n",
       "    </tr>\n",
       "    <tr>\n",
       "      <th>7</th>\n",
       "      <td>Ali_Wong</td>\n",
       "      <td>It was like the worst experience of my life. I...</td>\n",
       "    </tr>\n",
       "    <tr>\n",
       "      <th>8</th>\n",
       "      <td>Ali_Wong</td>\n",
       "      <td>She don\\'t even know where the calculator is.</td>\n",
       "    </tr>\n",
       "    <tr>\n",
       "      <th>9</th>\n",
       "      <td>Ali_Wong</td>\n",
       "      <td>Those of you under 25 probably don\\'t know wha...</td>\n",
       "    </tr>\n",
       "    <tr>\n",
       "      <th>10</th>\n",
       "      <td>Ali_Wong</td>\n",
       "      <td>It was this calculator that bamboozled my gene...</td>\n",
       "    </tr>\n",
       "    <tr>\n",
       "      <th>11</th>\n",
       "      <td>Ali_Wong</td>\n",
       "      <td>We were all required to buy it when we were in...</td>\n",
       "    </tr>\n",
       "  </tbody>\n",
       "</table>\n",
       "</div>"
      ],
      "text/plain": [
       "    comedian                                           sentence\n",
       "6   Ali_Wong                  Don’t ever do that with your mom.\n",
       "7   Ali_Wong  It was like the worst experience of my life. I...\n",
       "8   Ali_Wong      She don\\'t even know where the calculator is.\n",
       "9   Ali_Wong  Those of you under 25 probably don\\'t know wha...\n",
       "10  Ali_Wong  It was this calculator that bamboozled my gene...\n",
       "11  Ali_Wong  We were all required to buy it when we were in..."
      ]
     },
     "execution_count": 28,
     "metadata": {},
     "output_type": "execute_result"
    }
   ],
   "source": [
    "llama[llama[\"comedian\"] == \"Ali_Wong\"]"
   ]
  }
 ],
 "metadata": {
  "kernelspec": {
   "display_name": ".venv",
   "language": "python",
   "name": "python3"
  },
  "language_info": {
   "codemirror_mode": {
    "name": "ipython",
    "version": 3
   },
   "file_extension": ".py",
   "mimetype": "text/x-python",
   "name": "python",
   "nbconvert_exporter": "python",
   "pygments_lexer": "ipython3",
   "version": "3.8.10"
  }
 },
 "nbformat": 4,
 "nbformat_minor": 2
}
