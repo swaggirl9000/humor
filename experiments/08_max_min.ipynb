{
 "cells": [
  {
   "cell_type": "markdown",
   "metadata": {},
   "source": [
    "# Measure Model Agreement Rate\n",
    "\n",
    "To identify potential overlaps in the transcripts on which the models perform best and worst, we analyze the maximum and minimum performance values for each model. This approach allows us to determine if there are specific transcripts where a model consistently excels or underperforms, thereby revealing any patterns or overlaps in the models' performance across different transcripts. \n",
    "\n",
    "All models demonstrated their highest performance on the second Trevor Noah transcript and their lowest performance on the Ali Wong transcript. This pattern indicates that, regardless of the model, the second Trevor Noah transcript consistently yielded better results, while the Ali Wong transcript consistently yielded poorer results."
   ]
  },
  {
   "cell_type": "markdown",
   "metadata": {},
   "source": [
    "### Imports"
   ]
  },
  {
   "cell_type": "code",
   "execution_count": 2,
   "metadata": {},
   "outputs": [
    {
     "name": "stderr",
     "output_type": "stream",
     "text": [
      "/home/ada/humor/.venv/lib/python3.8/site-packages/sentence_transformers/cross_encoder/CrossEncoder.py:13: TqdmWarning: IProgress not found. Please update jupyter and ipywidgets. See https://ipywidgets.readthedocs.io/en/stable/user_install.html\n",
      "  from tqdm.autonotebook import tqdm, trange\n"
     ]
    }
   ],
   "source": [
    "import sys\n",
    "import pandas as pd\n",
    "sys.path.append(\"..\")\n",
    "import seaborn as sns\n",
    "import nltk\n",
    "from thefuzz import fuzz\n",
    "\n",
    "from humor.bipartite_metric import bipartite_metric\n",
    "from humor.vector_similarity_metric import vector_similarity_metric"
   ]
  },
  {
   "cell_type": "code",
   "execution_count": 3,
   "metadata": {},
   "outputs": [],
   "source": [
    "ground_truth = pd.read_csv('/home/ada/humor/data/stand_up_dataset/standup_data.csv')\n",
    "gemma = pd.read_csv('/home/ada/humor/data/stand_up_dataset/gemma_answers.csv')\n",
    "phi_model = pd.read_csv(\"/home/ada/humor/data/stand_up_dataset/phi3_mini_quotes.csv\")\n",
    "gemma2 = pd.read_csv(\"/home/ada/humor/data/stand_up_dataset/gemma2 - gemma2.csv\")\n",
    "llama = pd.read_csv(\"/home/ada/humor/data/stand_up_dataset/llama - llama.csv\")"
   ]
  },
  {
   "cell_type": "markdown",
   "metadata": {},
   "source": [
    "### Experiment"
   ]
  },
  {
   "cell_type": "code",
   "execution_count": 4,
   "metadata": {},
   "outputs": [
    {
     "name": "stdout",
     "output_type": "stream",
     "text": [
      "Gemma\n",
      "Maximum: comedian    Trevor_Noah_3\n",
      "score                76.0\n",
      "dtype: object\n",
      "Minimum: comedian    Ali_Wong\n",
      "score       5.708333\n",
      "dtype: object\n",
      "\n",
      "Gemma2\n",
      "Maximum: comedian    Trevor_Noah_3\n",
      "score              72.125\n",
      "dtype: object\n",
      "Minimum: comedian    Ali_Wong\n",
      "score       3.233333\n",
      "dtype: object\n",
      "\n",
      "Phi\n",
      "Maximum: comedian    Trevor_Noah_3\n",
      "score                60.2\n",
      "dtype: object\n",
      "Minimum: comedian    Ali_Wong\n",
      "score          3.875\n",
      "dtype: object\n",
      "\n",
      "LLama\n",
      "Maximum: comedian    Trevor_Noah_3\n",
      "score                69.7\n",
      "dtype: object\n",
      "Minimum: comedian    Ali_Wong\n",
      "score          4.375\n",
      "dtype: object\n"
     ]
    }
   ],
   "source": [
    "gemma_metric = bipartite_metric(gemma, ground_truth)\n",
    "print(\"Gemma\")\n",
    "print(\"Maximum:\", gemma_metric.max())\n",
    "print(\"Minimum:\", gemma_metric.min())\n",
    "gemma2_metric = bipartite_metric(gemma2, ground_truth)\n",
    "print(\"\\nGemma2\")\n",
    "print(\"Maximum:\", gemma2_metric.max())\n",
    "print(\"Minimum:\", gemma2_metric.min())\n",
    "phi_metric = bipartite_metric(phi_model, ground_truth)\n",
    "print(\"\\nPhi\")\n",
    "print(\"Maximum:\", phi_metric.max())\n",
    "print(\"Minimum:\", phi_metric.min())\n",
    "llama_metric = bipartite_metric(llama, ground_truth)\n",
    "print(\"\\nLLama\")\n",
    "print(\"Maximum:\", llama_metric.max())\n",
    "print(\"Minimum:\", llama_metric.min())"
   ]
  },
  {
   "cell_type": "code",
   "execution_count": 5,
   "metadata": {},
   "outputs": [
    {
     "name": "stdout",
     "output_type": "stream",
     "text": [
      "Gemma\n",
      "Maximum: comedian    Trevor_Noah_3\n",
      "score           75.245221\n",
      "dtype: object\n",
      "Minimum: comedian    Ali_Wong\n",
      "score       9.920471\n",
      "dtype: object\n",
      "\n",
      "Gemma2\n",
      "Maximum: comedian    Trevor_Noah_3\n",
      "score           75.209508\n",
      "dtype: object\n",
      "Minimum: comedian    Ali_Wong\n",
      "score       7.960477\n",
      "dtype: object\n",
      "\n",
      "Phi\n",
      "Maximum: comedian    Trevor_Noah_3\n",
      "score           55.204354\n",
      "dtype: object\n",
      "Minimum: comedian    Ali_Wong\n",
      "score       3.842477\n",
      "dtype: object\n",
      "\n",
      "LLama\n",
      "Maximum: comedian    Trevor_Noah_3\n",
      "score           64.899307\n",
      "dtype: object\n",
      "Minimum: comedian     Ali_Wong\n",
      "score       10.034131\n",
      "dtype: object\n"
     ]
    }
   ],
   "source": [
    "gemma_metric = vector_similarity_metric(gemma, ground_truth)\n",
    "print(\"Gemma\")\n",
    "print(\"Maximum:\", gemma_metric.max())\n",
    "print(\"Minimum:\", gemma_metric.min())\n",
    "gemma2_metric = vector_similarity_metric(gemma2, ground_truth)\n",
    "print(\"\\nGemma2\")\n",
    "print(\"Maximum:\", gemma2_metric.max())\n",
    "print(\"Minimum:\", gemma2_metric.min())\n",
    "phi_metric = vector_similarity_metric(phi_model, ground_truth)\n",
    "print(\"\\nPhi\")\n",
    "print(\"Maximum:\", phi_metric.max())\n",
    "print(\"Minimum:\", phi_metric.min())\n",
    "llama_metric = vector_similarity_metric(llama, ground_truth)\n",
    "print(\"\\nLLama\")\n",
    "print(\"Maximum:\", llama_metric.max())\n",
    "print(\"Minimum:\", llama_metric.min())"
   ]
  }
 ],
 "metadata": {
  "kernelspec": {
   "display_name": ".venv",
   "language": "python",
   "name": "python3"
  },
  "language_info": {
   "codemirror_mode": {
    "name": "ipython",
    "version": 3
   },
   "file_extension": ".py",
   "mimetype": "text/x-python",
   "name": "python",
   "nbconvert_exporter": "python",
   "pygments_lexer": "ipython3",
   "version": "3.8.10"
  }
 },
 "nbformat": 4,
 "nbformat_minor": 2
}
